{
 "cells": [
  {
   "cell_type": "code",
   "execution_count": null,
   "id": "d922fbb5",
   "metadata": {},
   "outputs": [],
   "source": [
    "import pandas as pd\n",
    "import matplotlib.pyplot as plt"
   ]
  },
  {
   "cell_type": "code",
   "execution_count": null,
   "id": "e7bc8b0a",
   "metadata": {},
   "outputs": [],
   "source": [
    "df = pd.read_excel('ict_in_government.xlsx')"
   ]
  },
  {
   "cell_type": "code",
   "execution_count": null,
   "id": "a8860ee1",
   "metadata": {},
   "outputs": [],
   "source": [
    "answers = [\n",
    "    'nenhuma',\n",
    "    '1 de 3',\n",
    "    '2 de 3',\n",
    "    'todas',\n",
    "]"
   ]
  },
  {
   "cell_type": "markdown",
   "id": "f3975e0e",
   "metadata": {},
   "source": [
    "2022"
   ]
  },
  {
   "cell_type": "code",
   "execution_count": null,
   "id": "3b2a0359",
   "metadata": {},
   "outputs": [],
   "source": [
    "df_2022 = df[df['Year'] == 2022]"
   ]
  },
  {
   "cell_type": "code",
   "execution_count": null,
   "id": "60bd8e31",
   "metadata": {},
   "outputs": [],
   "source": [
    "query = 'Indicator_1 == 0 and Indicator_2 == 0 and Indicator_3 == 0'\n",
    "df_2022_0_answers = df_2022.query(query).reset_index(drop=True)\n",
    "number_0_answers = df_2022_0_answers['Country'].count()\n",
    "percentage_0_answers_2022 = number_0_answers / df_2022['Country'].count()"
   ]
  },
  {
   "cell_type": "code",
   "execution_count": null,
   "id": "1318a3f7",
   "metadata": {},
   "outputs": [],
   "source": [
    "query = \"(Indicator_1 == 1 and Indicator_2 == 0 and Indicator_3 == 0) or (Indicator_1 == 0 and Indicator_2 == 1 and Indicator_3 == 0) or     (Indicator_1 == 0 and Indicator_2 == 0 and Indicator_3 == 1)\"\n",
    "df_2022_1_answers = df_2022.query(query).reset_index(drop=True)\n",
    "number_1_answers = df_2022_1_answers['Country'].count()\n",
    "percentage_1_answers_2022 = number_1_answers / df_2022['Country'].count()"
   ]
  },
  {
   "cell_type": "code",
   "execution_count": null,
   "id": "dcdd6207",
   "metadata": {},
   "outputs": [],
   "source": [
    "query = \"(Indicator_1 == 1 and Indicator_2 == 1 and Indicator_3 == 0) or (Indicator_1 == 1 and Indicator_2 == 0 and Indicator_3 == 1) or     (Indicator_1 == 0 and Indicator_2 == 1 and Indicator_3 == 1)\"\n",
    "df_2022_2_answers = df_2022.query(query).reset_index(drop=True)\n",
    "number_2_answers = df_2022_2_answers['Country'].count()\n",
    "percentage_2_answers_2022 = number_2_answers / df_2022['Country'].count()"
   ]
  },
  {
   "cell_type": "code",
   "execution_count": null,
   "id": "c6540a92",
   "metadata": {},
   "outputs": [],
   "source": [
    "query = 'Indicator_1 == 1 and Indicator_2 == 1 and Indicator_3 == 1'\n",
    "df_2022_3_answers = df_2022.query(query).reset_index(drop=True)\n",
    "number_3_answers = df_2022_3_answers['Country'].count()\n",
    "percentage_3_answers_2022 = number_3_answers / df_2022['Country'].count()"
   ]
  },
  {
   "cell_type": "code",
   "execution_count": null,
   "id": "4ac3bb5d",
   "metadata": {},
   "outputs": [],
   "source": [
    "percentages_2022 = [\n",
    "    percentage_0_answers_2022,\n",
    "    percentage_1_answers_2022,\n",
    "    percentage_2_answers_2022,\n",
    "    percentage_3_answers_2022\n",
    "]\n",
    "df_2022_final = pd.DataFrame()\n",
    "df_2022_final['Percentage'] = percentages_2022"
   ]
  },
  {
   "cell_type": "markdown",
   "id": "fc3385db",
   "metadata": {},
   "source": [
    "2024"
   ]
  },
  {
   "cell_type": "code",
   "execution_count": null,
   "id": "f33a1d56",
   "metadata": {},
   "outputs": [],
   "source": [
    "df_2024 = df[df['Year'] == 2024]"
   ]
  },
  {
   "cell_type": "code",
   "execution_count": null,
   "id": "c98f97eb",
   "metadata": {},
   "outputs": [],
   "source": [
    "query = 'Indicator_1 == 0 and Indicator_2 == 0 and Indicator_3 == 0'\n",
    "df_2024_0_answers = df_2024.query(query).reset_index(drop=True)\n",
    "number_0_answers = df_2024_0_answers['Country'].count()\n",
    "percentage_0_answers_2024 = number_0_answers / df_2024['Country'].count()"
   ]
  },
  {
   "cell_type": "code",
   "execution_count": null,
   "id": "1e5fcd8c",
   "metadata": {},
   "outputs": [],
   "source": [
    "query = \"(Indicator_1 == 1 and Indicator_2 == 0 and Indicator_3 == 0) or (Indicator_1 == 0 and Indicator_2 == 1 and Indicator_3 == 0) or     (Indicator_1 == 0 and Indicator_2 == 0 and Indicator_3 == 1)\"\n",
    "df_2024_1_answers = df_2024.query(query).reset_index(drop=True)\n",
    "number_1_answers = df_2024_1_answers['Country'].count()\n",
    "percentage_1_answers_2024 = number_1_answers / df_2024['Country'].count()"
   ]
  },
  {
   "cell_type": "code",
   "execution_count": null,
   "id": "411ee95c",
   "metadata": {},
   "outputs": [],
   "source": [
    "query = \"(Indicator_1 == 1 and Indicator_2 == 1 and Indicator_3 == 0) or (Indicator_1 == 1 and Indicator_2 == 0 and Indicator_3 == 1) or     (Indicator_1 == 0 and Indicator_2 == 1 and Indicator_3 == 1)\"\n",
    "df_2024_2_answers = df_2024.query(query).reset_index(drop=True)\n",
    "number_2_answers = df_2024_2_answers['Country'].count()\n",
    "percentage_2_answers_2024 = number_2_answers / df_2024['Country'].count()"
   ]
  },
  {
   "cell_type": "code",
   "execution_count": null,
   "id": "41377441",
   "metadata": {},
   "outputs": [],
   "source": [
    "query = 'Indicator_1 == 1 and Indicator_2 == 1 and Indicator_3 == 1'\n",
    "df_2024_3_answers = df_2024.query(query).reset_index(drop=True)\n",
    "number_3_answers = df_2024_3_answers['Country'].count()\n",
    "percentage_3_answers_2024 = number_3_answers / df_2022['Country'].count()"
   ]
  },
  {
   "cell_type": "code",
   "execution_count": null,
   "id": "cb7b81a9",
   "metadata": {},
   "outputs": [],
   "source": [
    "import numpy as np\n",
    "\n",
    "\n",
    "percentages_2024 = [\n",
    "    percentage_0_answers_2024,\n",
    "    percentage_1_answers_2024,\n",
    "    percentage_2_answers_2024,\n",
    "    percentage_3_answers_2024\n",
    "]\n",
    "df_2024_final = pd.DataFrame()\n",
    "df_2024_final['Percentage'] = percentages_2024"
   ]
  },
  {
   "cell_type": "markdown",
   "id": "52fc0b50",
   "metadata": {},
   "source": [
    "PLOT"
   ]
  },
  {
   "cell_type": "code",
   "execution_count": null,
   "id": "7d2122f5",
   "metadata": {},
   "outputs": [],
   "source": [
    "fig, ax = plt.subplots(1, 2, figsize=(10, 6))\n",
    "\n",
    "ax[0].pie(df_2022_final['Percentage'], labels=answers)\n",
    "ax[1].pie(df_2024_final['Percentage'], labels=answers)\n",
    "\n",
    "ax[0].set_title(2022, fontweight='bold')\n",
    "ax[1].set_title(2024, fontweight='bold')\n",
    "\n",
    "plt.tight_layout()\n",
    "fig.savefig('C:/Users/lazar/Master-Dissertation/figuras/ict_in_government/indicators_answer.png')\n",
    "plt.show()"
   ]
  }
 ],
 "metadata": {
  "kernelspec": {
   "display_name": "Python 3",
   "language": "python",
   "name": "python3"
  },
  "language_info": {
   "codemirror_mode": {
    "name": "ipython",
    "version": 3
   },
   "file_extension": ".py",
   "mimetype": "text/x-python",
   "name": "python",
   "nbconvert_exporter": "python",
   "pygments_lexer": "ipython3",
   "version": "3.13.5"
  }
 },
 "nbformat": 4,
 "nbformat_minor": 5
}
