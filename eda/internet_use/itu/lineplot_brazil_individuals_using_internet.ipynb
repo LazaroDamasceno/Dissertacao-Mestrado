{
 "cells": [
  {
   "cell_type": "code",
   "execution_count": null,
   "id": "f21211a5",
   "metadata": {},
   "outputs": [],
   "source": [
    "import pandas as pd\n",
    "import matplotlib.pyplot as plt \n",
    "import seaborn as sns"
   ]
  },
  {
   "cell_type": "code",
   "execution_count": null,
   "id": "3f079c59",
   "metadata": {},
   "outputs": [],
   "source": [
    "df = pd.read_csv('individuals-using-the-internet.csv')"
   ]
  },
  {
   "cell_type": "code",
   "execution_count": null,
   "id": "5bc247fb",
   "metadata": {},
   "outputs": [],
   "source": [
    "df.info()"
   ]
  },
  {
   "cell_type": "code",
   "execution_count": null,
   "id": "c09f5b4e",
   "metadata": {},
   "outputs": [],
   "source": [
    "df = df.drop(columns=[\n",
    "    'seriesID',\n",
    "    'seriesCode',\n",
    "    'seriesName',\n",
    "    'seriesParent',\n",
    "    'seriesUnits',\n",
    "    'entityID',\n",
    "    'entityIso',\n",
    "    'dataNote',\n",
    "    'dataSource',\n",
    "    'seriesDescription'\n",
    "])"
   ]
  },
  {
   "cell_type": "code",
   "execution_count": null,
   "id": "4a2af793",
   "metadata": {},
   "outputs": [],
   "source": [
    "df.info()"
   ]
  },
  {
   "cell_type": "code",
   "execution_count": null,
   "id": "82906c6d",
   "metadata": {},
   "outputs": [],
   "source": [
    "df = df.rename(columns={\n",
    "    'entityName': 'Country',\n",
    "    'dataValue': 'Percentage Use',\n",
    "    'dataYear': 'Year'\n",
    "})"
   ]
  },
  {
   "cell_type": "code",
   "execution_count": null,
   "id": "4e181e5e",
   "metadata": {},
   "outputs": [],
   "source": [
    "df.info()"
   ]
  },
  {
   "cell_type": "code",
   "execution_count": null,
   "id": "8ee2bb24",
   "metadata": {},
   "outputs": [],
   "source": [
    "df_filtered = df.query('Country == \"Brazil\"')"
   ]
  },
  {
   "cell_type": "code",
   "execution_count": null,
   "id": "f9d8c3d3",
   "metadata": {},
   "outputs": [],
   "source": [
    "df_filtered.isna().sum()"
   ]
  },
  {
   "cell_type": "code",
   "execution_count": null,
   "id": "79f48f8c",
   "metadata": {},
   "outputs": [],
   "source": [
    "plt.figure(figsize=(12, 8))\n",
    "\n",
    "sns.lineplot(data=df_filtered, x='Year', y='Percentage Use')\n",
    "\n",
    "sns.despine()\n",
    "plt.suptitle('Uso de Internet no Brasil (2000-2023)', fontweight='bold')\n",
    "plt.ylabel('Percentagem (%)')\n",
    "plt.xlabel('Year')\n",
    "plt.tight_layout()\n",
    "plt.show()"
   ]
  }
 ],
 "metadata": {
  "kernelspec": {
   "display_name": "Python 3",
   "language": "python",
   "name": "python3"
  },
  "language_info": {
   "codemirror_mode": {
    "name": "ipython",
    "version": 3
   },
   "file_extension": ".py",
   "mimetype": "text/x-python",
   "name": "python",
   "nbconvert_exporter": "python",
   "pygments_lexer": "ipython3",
   "version": "3.13.5"
  }
 },
 "nbformat": 4,
 "nbformat_minor": 5
}
