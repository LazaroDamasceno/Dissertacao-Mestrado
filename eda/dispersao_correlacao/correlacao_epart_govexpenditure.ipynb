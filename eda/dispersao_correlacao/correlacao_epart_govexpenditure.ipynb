{
 "cells": [
  {
   "cell_type": "code",
   "execution_count": 1,
   "id": "54361b1d",
   "metadata": {},
   "outputs": [],
   "source": [
    "import pandas as pd"
   ]
  },
  {
   "cell_type": "markdown",
   "id": "88cd6cb9",
   "metadata": {},
   "source": []
  },
  {
   "cell_type": "code",
   "execution_count": 2,
   "id": "dd4c62a1",
   "metadata": {},
   "outputs": [],
   "source": [
    "egdi = pd.read_csv('EGOV_DATA_2022.csv')"
   ]
  },
  {
   "cell_type": "code",
   "execution_count": 3,
   "id": "2b0e36d3",
   "metadata": {},
   "outputs": [],
   "source": [
    "epart = egdi.melt(\n",
    "    id_vars='Country Name',\n",
    "    value_vars='E-Participation Index',\n",
    "    var_name='EPART',\n",
    "    value_name='Porcentagem',\n",
    "    \n",
    ")"
   ]
  },
  {
   "cell_type": "code",
   "execution_count": 4,
   "id": "b7217982",
   "metadata": {},
   "outputs": [],
   "source": [
    "epart['Country Name'] = epart['Country Name'].sort_values(ascending=True).reset_index(drop=True)"
   ]
  },
  {
   "cell_type": "markdown",
   "id": "3d8a5956",
   "metadata": {},
   "source": []
  },
  {
   "cell_type": "code",
   "execution_count": 5,
   "id": "8029596b",
   "metadata": {},
   "outputs": [],
   "source": [
    "gov_expenditure = pd.read_excel('imf_government_expenditure.xls')"
   ]
  },
  {
   "cell_type": "code",
   "execution_count": 6,
   "id": "4fcef719",
   "metadata": {},
   "outputs": [],
   "source": [
    "gov_expenditure['Country'] = gov_expenditure['Country'].sort_values(ascending=True)"
   ]
  },
  {
   "cell_type": "code",
   "execution_count": 7,
   "id": "048394a0",
   "metadata": {},
   "outputs": [],
   "source": [
    "paises = gov_expenditure['Country'].unique().tolist()"
   ]
  },
  {
   "cell_type": "code",
   "execution_count": 8,
   "id": "d3f8ae01",
   "metadata": {},
   "outputs": [],
   "source": [
    "epart = epart[epart['Country Name'].isin(paises)].reset_index(drop=True)"
   ]
  },
  {
   "cell_type": "code",
   "execution_count": 9,
   "id": "05e64a35",
   "metadata": {},
   "outputs": [],
   "source": [
    "paises = epart['Country Name'].unique().tolist()"
   ]
  },
  {
   "cell_type": "code",
   "execution_count": 10,
   "id": "6ed7038c",
   "metadata": {},
   "outputs": [],
   "source": [
    "gov_expenditure = gov_expenditure[gov_expenditure['Country'].isin(paises)].reset_index(drop=True)"
   ]
  },
  {
   "cell_type": "markdown",
   "id": "99a8e3e2",
   "metadata": {},
   "source": []
  },
  {
   "cell_type": "code",
   "execution_count": 11,
   "id": "dfdd24ce",
   "metadata": {},
   "outputs": [],
   "source": [
    "dispersao = pd.DataFrame()"
   ]
  },
  {
   "cell_type": "code",
   "execution_count": 12,
   "id": "4c16cf19",
   "metadata": {},
   "outputs": [],
   "source": [
    "dispersao[\"Gastos do governo, porcentagem do PIB\"] = gov_expenditure['Percentage']"
   ]
  },
  {
   "cell_type": "code",
   "execution_count": 13,
   "id": "94286e23",
   "metadata": {},
   "outputs": [],
   "source": [
    "dispersao['E-Participation Development Index'] = epart['Porcentagem']"
   ]
  },
  {
   "cell_type": "code",
   "execution_count": 14,
   "id": "645045da",
   "metadata": {},
   "outputs": [],
   "source": [
    "dispersao['Gastos do governo, porcentagem do PIB'] = dispersao['Gastos do governo, porcentagem do PIB'].apply(lambda x: x/100.0)"
   ]
  },
  {
   "cell_type": "code",
   "execution_count": 15,
   "id": "298b81ca",
   "metadata": {},
   "outputs": [
    {
     "data": {
      "application/vnd.microsoft.datawrangler.viewer.v0+json": {
       "columns": [
        {
         "name": "index",
         "rawType": "object",
         "type": "string"
        },
        {
         "name": "Gastos do governo, porcentagem do PIB",
         "rawType": "float64",
         "type": "float"
        },
        {
         "name": "E-Participation Development Index",
         "rawType": "float64",
         "type": "float"
        }
       ],
       "ref": "e2642974-4134-48e2-ac3e-4b986237a661",
       "rows": [
        [
         "Gastos do governo, porcentagem do PIB",
         "1.0",
         "-0.07312851838782113"
        ],
        [
         "E-Participation Development Index",
         "-0.07312851838782113",
         "1.0"
        ]
       ],
       "shape": {
        "columns": 2,
        "rows": 2
       }
      },
      "text/html": [
       "<div>\n",
       "<style scoped>\n",
       "    .dataframe tbody tr th:only-of-type {\n",
       "        vertical-align: middle;\n",
       "    }\n",
       "\n",
       "    .dataframe tbody tr th {\n",
       "        vertical-align: top;\n",
       "    }\n",
       "\n",
       "    .dataframe thead th {\n",
       "        text-align: right;\n",
       "    }\n",
       "</style>\n",
       "<table border=\"1\" class=\"dataframe\">\n",
       "  <thead>\n",
       "    <tr style=\"text-align: right;\">\n",
       "      <th></th>\n",
       "      <th>Gastos do governo, porcentagem do PIB</th>\n",
       "      <th>E-Participation Development Index</th>\n",
       "    </tr>\n",
       "  </thead>\n",
       "  <tbody>\n",
       "    <tr>\n",
       "      <th>Gastos do governo, porcentagem do PIB</th>\n",
       "      <td>1.000000</td>\n",
       "      <td>-0.073129</td>\n",
       "    </tr>\n",
       "    <tr>\n",
       "      <th>E-Participation Development Index</th>\n",
       "      <td>-0.073129</td>\n",
       "      <td>1.000000</td>\n",
       "    </tr>\n",
       "  </tbody>\n",
       "</table>\n",
       "</div>"
      ],
      "text/plain": [
       "                                       Gastos do governo, porcentagem do PIB  \\\n",
       "Gastos do governo, porcentagem do PIB                               1.000000   \n",
       "E-Participation Development Index                                  -0.073129   \n",
       "\n",
       "                                       E-Participation Development Index  \n",
       "Gastos do governo, porcentagem do PIB                          -0.073129  \n",
       "E-Participation Development Index                               1.000000  "
      ]
     },
     "execution_count": 15,
     "metadata": {},
     "output_type": "execute_result"
    }
   ],
   "source": [
    "dispersao.corr(method='spearman')"
   ]
  }
 ],
 "metadata": {
  "kernelspec": {
   "display_name": "Python 3",
   "language": "python",
   "name": "python3"
  },
  "language_info": {
   "codemirror_mode": {
    "name": "ipython",
    "version": 3
   },
   "file_extension": ".py",
   "mimetype": "text/x-python",
   "name": "python",
   "nbconvert_exporter": "python",
   "pygments_lexer": "ipython3",
   "version": "3.13.5"
  }
 },
 "nbformat": 4,
 "nbformat_minor": 5
}
