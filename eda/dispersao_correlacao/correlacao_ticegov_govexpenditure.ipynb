{
 "cells": [
  {
   "cell_type": "code",
   "execution_count": 1,
   "id": "f5ac5478",
   "metadata": {},
   "outputs": [],
   "source": [
    "import pandas as pd"
   ]
  },
  {
   "cell_type": "markdown",
   "id": "fd694cb2",
   "metadata": {},
   "source": []
  },
  {
   "cell_type": "code",
   "execution_count": 2,
   "id": "a6a62de1",
   "metadata": {},
   "outputs": [],
   "source": [
    "gov_expenditure = pd.read_excel('imf_government_expenditure.xls') "
   ]
  },
  {
   "cell_type": "code",
   "execution_count": 3,
   "id": "504bc9a9",
   "metadata": {},
   "outputs": [],
   "source": [
    "gov_expenditure['Country'] = gov_expenditure['Country'].sort_values(ascending=True).reset_index(drop=True)"
   ]
  },
  {
   "cell_type": "code",
   "execution_count": 4,
   "id": "93220727",
   "metadata": {},
   "outputs": [],
   "source": [
    "paises = gov_expenditure['Country'].unique().tolist()"
   ]
  },
  {
   "cell_type": "markdown",
   "id": "508d5b0c",
   "metadata": {},
   "source": []
  },
  {
   "cell_type": "code",
   "execution_count": 5,
   "id": "7cb0eda4",
   "metadata": {},
   "outputs": [],
   "source": [
    "tic_egov = pd.read_excel('ict_in_government2.xlsx')"
   ]
  },
  {
   "cell_type": "code",
   "execution_count": 6,
   "id": "694c098f",
   "metadata": {},
   "outputs": [],
   "source": [
    "tic_egov['Country'] = tic_egov['Country'].sort_values(ascending=True).reset_index(drop=True)"
   ]
  },
  {
   "cell_type": "code",
   "execution_count": 7,
   "id": "9987f013",
   "metadata": {},
   "outputs": [],
   "source": [
    "country_mapping = {\n",
    "    \"China, People's Republic of\": \"China\",\n",
    "    \"Korea, Republic of\": \"Republic of Korea\",\n",
    "    \"Türkiye, Republic of\": \"Turkey\",\n",
    "    \"Congo, Republic of\": \"Congo\"\n",
    "}"
   ]
  },
  {
   "cell_type": "code",
   "execution_count": 8,
   "id": "ac1bb04d",
   "metadata": {},
   "outputs": [],
   "source": [
    "tic_egov['Country'] = tic_egov['Country'].rename(country_mapping)"
   ]
  },
  {
   "cell_type": "code",
   "execution_count": 9,
   "id": "d56ffec9",
   "metadata": {},
   "outputs": [],
   "source": [
    "tic_egov = tic_egov[tic_egov['Country'].isin(paises)].reset_index(drop=True)"
   ]
  },
  {
   "cell_type": "code",
   "execution_count": 10,
   "id": "2e93906f",
   "metadata": {},
   "outputs": [],
   "source": [
    "paises = tic_egov['Country'].unique().tolist()"
   ]
  },
  {
   "cell_type": "code",
   "execution_count": 11,
   "id": "29f517ec",
   "metadata": {},
   "outputs": [],
   "source": [
    "gov_expenditure = gov_expenditure[gov_expenditure['Country'].isin(paises)].reset_index(drop=True)"
   ]
  },
  {
   "cell_type": "markdown",
   "id": "9d86b791",
   "metadata": {},
   "source": []
  },
  {
   "cell_type": "code",
   "execution_count": 12,
   "id": "f204b0d6",
   "metadata": {},
   "outputs": [],
   "source": [
    "dispersao = pd.DataFrame()"
   ]
  },
  {
   "cell_type": "code",
   "execution_count": 13,
   "id": "a0a2915f",
   "metadata": {},
   "outputs": [],
   "source": [
    "dispersao['Soma das Respostas Positivas'] = tic_egov['Soma']"
   ]
  },
  {
   "cell_type": "code",
   "execution_count": 14,
   "id": "5d93dccd",
   "metadata": {},
   "outputs": [],
   "source": [
    "dispersao['Gastos do governo, porcentagem do PIB'] = gov_expenditure['Percentage']"
   ]
  },
  {
   "cell_type": "code",
   "execution_count": 15,
   "id": "67f76403",
   "metadata": {},
   "outputs": [
    {
     "data": {
      "application/vnd.microsoft.datawrangler.viewer.v0+json": {
       "columns": [
        {
         "name": "index",
         "rawType": "object",
         "type": "string"
        },
        {
         "name": "Soma das Respostas Positivas",
         "rawType": "float64",
         "type": "float"
        },
        {
         "name": "Gastos do governo, porcentagem do PIB",
         "rawType": "float64",
         "type": "float"
        }
       ],
       "ref": "997faf72-6727-45b2-8e07-28c70ae51927",
       "rows": [
        [
         "Soma das Respostas Positivas",
         "1.0",
         "0.23763577611681871"
        ],
        [
         "Gastos do governo, porcentagem do PIB",
         "0.23763577611681871",
         "1.0"
        ]
       ],
       "shape": {
        "columns": 2,
        "rows": 2
       }
      },
      "text/html": [
       "<div>\n",
       "<style scoped>\n",
       "    .dataframe tbody tr th:only-of-type {\n",
       "        vertical-align: middle;\n",
       "    }\n",
       "\n",
       "    .dataframe tbody tr th {\n",
       "        vertical-align: top;\n",
       "    }\n",
       "\n",
       "    .dataframe thead th {\n",
       "        text-align: right;\n",
       "    }\n",
       "</style>\n",
       "<table border=\"1\" class=\"dataframe\">\n",
       "  <thead>\n",
       "    <tr style=\"text-align: right;\">\n",
       "      <th></th>\n",
       "      <th>Soma das Respostas Positivas</th>\n",
       "      <th>Gastos do governo, porcentagem do PIB</th>\n",
       "    </tr>\n",
       "  </thead>\n",
       "  <tbody>\n",
       "    <tr>\n",
       "      <th>Soma das Respostas Positivas</th>\n",
       "      <td>1.000000</td>\n",
       "      <td>0.237636</td>\n",
       "    </tr>\n",
       "    <tr>\n",
       "      <th>Gastos do governo, porcentagem do PIB</th>\n",
       "      <td>0.237636</td>\n",
       "      <td>1.000000</td>\n",
       "    </tr>\n",
       "  </tbody>\n",
       "</table>\n",
       "</div>"
      ],
      "text/plain": [
       "                                       Soma das Respostas Positivas  \\\n",
       "Soma das Respostas Positivas                               1.000000   \n",
       "Gastos do governo, porcentagem do PIB                      0.237636   \n",
       "\n",
       "                                       Gastos do governo, porcentagem do PIB  \n",
       "Soma das Respostas Positivas                                        0.237636  \n",
       "Gastos do governo, porcentagem do PIB                               1.000000  "
      ]
     },
     "execution_count": 15,
     "metadata": {},
     "output_type": "execute_result"
    }
   ],
   "source": [
    "dispersao.corr(method='spearman')"
   ]
  }
 ],
 "metadata": {
  "kernelspec": {
   "display_name": "Python 3",
   "language": "python",
   "name": "python3"
  },
  "language_info": {
   "codemirror_mode": {
    "name": "ipython",
    "version": 3
   },
   "file_extension": ".py",
   "mimetype": "text/x-python",
   "name": "python",
   "nbconvert_exporter": "python",
   "pygments_lexer": "ipython3",
   "version": "3.13.5"
  }
 },
 "nbformat": 4,
 "nbformat_minor": 5
}
