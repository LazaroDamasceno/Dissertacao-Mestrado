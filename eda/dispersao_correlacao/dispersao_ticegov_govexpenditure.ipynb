{
 "cells": [
  {
   "cell_type": "code",
   "execution_count": null,
   "id": "f5ac5478",
   "metadata": {},
   "outputs": [],
   "source": [
    "import pandas as pd"
   ]
  },
  {
   "cell_type": "markdown",
   "id": "fd694cb2",
   "metadata": {},
   "source": []
  },
  {
   "cell_type": "code",
   "execution_count": null,
   "id": "a6a62de1",
   "metadata": {},
   "outputs": [],
   "source": [
    "gov_expenditure = pd.read_excel('imf_government_expenditure.xls') "
   ]
  },
  {
   "cell_type": "code",
   "execution_count": null,
   "id": "504bc9a9",
   "metadata": {},
   "outputs": [],
   "source": [
    "gov_expenditure['Country'] = gov_expenditure['Country'].sort_values(ascending=True).reset_index(drop=True)"
   ]
  },
  {
   "cell_type": "code",
   "execution_count": null,
   "id": "93220727",
   "metadata": {},
   "outputs": [],
   "source": [
    "paises = gov_expenditure['Country'].unique().tolist()"
   ]
  },
  {
   "cell_type": "markdown",
   "id": "508d5b0c",
   "metadata": {},
   "source": []
  },
  {
   "cell_type": "code",
   "execution_count": null,
   "id": "7cb0eda4",
   "metadata": {},
   "outputs": [],
   "source": [
    "tic_egov = pd.read_excel('ict_in_government2.xlsx')"
   ]
  },
  {
   "cell_type": "code",
   "execution_count": null,
   "id": "694c098f",
   "metadata": {},
   "outputs": [],
   "source": [
    "tic_egov['Country'] = tic_egov['Country'].sort_values(ascending=True).reset_index(drop=True)"
   ]
  },
  {
   "cell_type": "code",
   "execution_count": null,
   "id": "9987f013",
   "metadata": {},
   "outputs": [],
   "source": [
    "country_mapping = {\n",
    "    \"China, People's Republic of\": \"China\",\n",
    "    \"Korea, Republic of\": \"Republic of Korea\",\n",
    "    \"Türkiye, Republic of\": \"Turkey\",\n",
    "    \"Congo, Republic of\": \"Congo\"\n",
    "}"
   ]
  },
  {
   "cell_type": "code",
   "execution_count": null,
   "id": "ac1bb04d",
   "metadata": {},
   "outputs": [],
   "source": [
    "tic_egov['Country'] = tic_egov['Country'].rename(country_mapping)"
   ]
  },
  {
   "cell_type": "code",
   "execution_count": null,
   "id": "d56ffec9",
   "metadata": {},
   "outputs": [],
   "source": [
    "tic_egov = tic_egov[tic_egov['Country'].isin(paises)].reset_index(drop=True)"
   ]
  },
  {
   "cell_type": "code",
   "execution_count": null,
   "id": "2e93906f",
   "metadata": {},
   "outputs": [],
   "source": [
    "paises = tic_egov['Country'].unique().tolist()"
   ]
  },
  {
   "cell_type": "code",
   "execution_count": null,
   "id": "29f517ec",
   "metadata": {},
   "outputs": [],
   "source": [
    "gov_expenditure = gov_expenditure[gov_expenditure['Country'].isin(paises)].reset_index(drop=True)"
   ]
  },
  {
   "cell_type": "markdown",
   "id": "9d86b791",
   "metadata": {},
   "source": []
  },
  {
   "cell_type": "code",
   "execution_count": null,
   "id": "f204b0d6",
   "metadata": {},
   "outputs": [],
   "source": [
    "dispersao = pd.DataFrame()"
   ]
  },
  {
   "cell_type": "code",
   "execution_count": null,
   "id": "a0a2915f",
   "metadata": {},
   "outputs": [],
   "source": [
    "dispersao['Soma das Respostas Positivas'] = tic_egov['Soma']"
   ]
  },
  {
   "cell_type": "code",
   "execution_count": null,
   "id": "5d93dccd",
   "metadata": {},
   "outputs": [],
   "source": [
    "dispersao['Gastos do governo, porcentagem do PIB'] = gov_expenditure['Percentage']"
   ]
  },
  {
   "cell_type": "code",
   "execution_count": null,
   "id": "d9b4f092",
   "metadata": {},
   "outputs": [],
   "source": [
    "dispersao['Gastos do governo, porcentagem do PIB'] = dispersao['Gastos do governo, porcentagem do PIB'].apply(lambda x: x/100.0)"
   ]
  },
  {
   "cell_type": "code",
   "execution_count": null,
   "id": "67f76403",
   "metadata": {},
   "outputs": [],
   "source": [
    "import matplotlib.pyplot as plt\n",
    "import seaborn as sns\n",
    "\n",
    "sns.regplot(data=dispersao, y='Gastos do governo, porcentagem do PIB', x='Soma das Respostas Positivas')\n",
    "\n",
    "plt.ylim(0, 1)\n",
    "sns.despine()\n",
    "plt.tight_layout()\n",
    "plt.savefig('C:/Users/lazar/Master-Dissertation/figuras/egdi/dispersao_ticegov_govexpenditure.png', dpi=300, bbox_inches='tight')\n",
    "plt.show()"
   ]
  }
 ],
 "metadata": {
  "kernelspec": {
   "display_name": "Python 3",
   "language": "python",
   "name": "python3"
  },
  "language_info": {
   "codemirror_mode": {
    "name": "ipython",
    "version": 3
   },
   "file_extension": ".py",
   "mimetype": "text/x-python",
   "name": "python",
   "nbconvert_exporter": "python",
   "pygments_lexer": "ipython3",
   "version": "3.13.5"
  }
 },
 "nbformat": 4,
 "nbformat_minor": 5
}
