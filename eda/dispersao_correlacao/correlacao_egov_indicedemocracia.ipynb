{
 "cells": [
  {
   "cell_type": "code",
   "execution_count": null,
   "id": "e6e62ca8",
   "metadata": {},
   "outputs": [],
   "source": [
    "import pandas as pd"
   ]
  },
  {
   "cell_type": "markdown",
   "id": "ea193f76",
   "metadata": {},
   "source": [
    "EGDI"
   ]
  },
  {
   "cell_type": "code",
   "execution_count": null,
   "id": "af7007dd",
   "metadata": {},
   "outputs": [],
   "source": [
    "egdi = pd.read_csv('EGOV_DATA_2024.csv')"
   ]
  },
  {
   "cell_type": "code",
   "execution_count": null,
   "id": "3f98a8e3",
   "metadata": {},
   "outputs": [],
   "source": [
    "egdi = egdi.sort_values(by='Country Name', ascending=True).reset_index(drop=True)"
   ]
  },
  {
   "cell_type": "markdown",
   "id": "55694d56",
   "metadata": {},
   "source": [
    "EGOV"
   ]
  },
  {
   "cell_type": "code",
   "execution_count": null,
   "id": "0bdbbd3f",
   "metadata": {},
   "outputs": [],
   "source": [
    "egov = egdi.melt(\n",
    "    id_vars='Country Name',\n",
    "    value_vars='E-Government Index',\n",
    "    var_name='Metric',\n",
    "    value_name='EGOV'\n",
    ")"
   ]
  },
  {
   "cell_type": "code",
   "execution_count": null,
   "id": "0243f09f",
   "metadata": {},
   "outputs": [],
   "source": [
    "egov = egov.iloc[:, [0, 2]]"
   ]
  },
  {
   "cell_type": "code",
   "execution_count": null,
   "id": "a35bb831",
   "metadata": {},
   "outputs": [],
   "source": [
    "paises = egov['Country Name'].tolist()"
   ]
  },
  {
   "cell_type": "markdown",
   "id": "0fd8401c",
   "metadata": {},
   "source": [
    "ÍNDICE DE DEMOCRÁCIA ELEITORAL"
   ]
  },
  {
   "cell_type": "code",
   "execution_count": null,
   "id": "3502a175",
   "metadata": {},
   "outputs": [],
   "source": [
    "ide = pd.read_csv('indice_democracia_eleitoral.csv')"
   ]
  },
  {
   "cell_type": "code",
   "execution_count": null,
   "id": "4f68f581",
   "metadata": {},
   "outputs": [],
   "source": [
    "ide = ide[ide['Year'] == 2024].reset_index(drop=True)"
   ]
  },
  {
   "cell_type": "code",
   "execution_count": null,
   "id": "41e8d0a8",
   "metadata": {},
   "outputs": [],
   "source": [
    "paises_diferentes_nomes = {\n",
    "    \"United States\": \"United States of America\",\n",
    "    \"United Kingdom\": \"United Kingdom of Great Britain and Northern Ireland\",\n",
    "    \"South Korea\": \"Republic of Korea\",\n",
    "    \"North Korea\": \"Democratic People's Republic of Korea\",\n",
    "    \"Iran\": \"Iran (Islamic Republic of)\",\n",
    "    \"Laos\": \"Lao People's Democratic Republic\",\n",
    "    \"Moldova\": \"Republic of Moldova\",\n",
    "    \"Tanzania\": \"United Republic of Tanzania\",\n",
    "    \"Syria\": \"Syrian Arab Republic\",\n",
    "    \"Vietnam\": \"Viet Nam\",\n",
    "    \"Ivory Coast\": \"Côte d'Ivoire\",\n",
    "    \"Micronesia\": \"Micronesia (Federated States of)\",\n",
    "    \"Turkey\": \"Türkiye\",\n",
    "    \"Cape Verde\": \"Cabo Verde\",\n",
    "    \"Swaziland\": \"Eswatini\",\n",
    "    \"Georgia\": \"Georgia (Country)\",\n",
    "    \"Macedonia\": \"North Macedonia\",\n",
    "    \"Democratic Republic of Congo\": \"Democratic Republic of the Congo\"\n",
    "}"
   ]
  },
  {
   "cell_type": "code",
   "execution_count": null,
   "id": "39d4e6e7",
   "metadata": {},
   "outputs": [],
   "source": [
    "ide['Entity'] = ide['Entity'].replace(paises_diferentes_nomes)"
   ]
  },
  {
   "cell_type": "code",
   "execution_count": null,
   "id": "e73799bc",
   "metadata": {},
   "outputs": [],
   "source": [
    "ide = ide[ide['Entity'].isin(paises)]"
   ]
  },
  {
   "cell_type": "code",
   "execution_count": null,
   "id": "1babc948",
   "metadata": {},
   "outputs": [],
   "source": [
    "paises2 = ide['Entity'].tolist()\n",
    "egov = egov[egov['Country Name'].isin(paises2)]"
   ]
  },
  {
   "cell_type": "code",
   "execution_count": null,
   "id": "1c0849b5",
   "metadata": {},
   "outputs": [],
   "source": [
    "ide = ide.iloc[:, [0, 3]]"
   ]
  },
  {
   "cell_type": "code",
   "execution_count": null,
   "id": "edc1d2cb",
   "metadata": {},
   "outputs": [],
   "source": [
    "ide = ide.sort_values(by='Entity', ascending=True).reset_index(drop=True)"
   ]
  },
  {
   "cell_type": "markdown",
   "id": "0f8c1abb",
   "metadata": {},
   "source": [
    "EGOV X ÍNDICE DE DEMOCRACIA"
   ]
  },
  {
   "cell_type": "code",
   "execution_count": null,
   "id": "37da6f47",
   "metadata": {},
   "outputs": [],
   "source": [
    "egov_ide = egov.copy()"
   ]
  },
  {
   "cell_type": "code",
   "execution_count": null,
   "id": "f5dd04e8",
   "metadata": {},
   "outputs": [],
   "source": [
    "egov_ide['Índice de Democracia Eleitoral'] = ide['Electoral democracy index (central estimate)']"
   ]
  },
  {
   "cell_type": "code",
   "execution_count": null,
   "id": "8c9f6bcb",
   "metadata": {},
   "outputs": [],
   "source": [
    "egov_ide = egov_ide.rename(columns={\n",
    "    'EGOV': 'E-Government Development Index'\n",
    "})"
   ]
  },
  {
   "cell_type": "code",
   "execution_count": null,
   "id": "0a00de96",
   "metadata": {},
   "outputs": [],
   "source": [
    "egov_ide = egov_ide.iloc[:, [1, 2]]"
   ]
  },
  {
   "cell_type": "code",
   "execution_count": null,
   "id": "8cebf343",
   "metadata": {},
   "outputs": [],
   "source": [
    "egov_ide.corr(method='spearman')"
   ]
  }
 ],
 "metadata": {
  "kernelspec": {
   "display_name": "Python 3",
   "language": "python",
   "name": "python3"
  },
  "language_info": {
   "codemirror_mode": {
    "name": "ipython",
    "version": 3
   },
   "file_extension": ".py",
   "mimetype": "text/x-python",
   "name": "python",
   "nbconvert_exporter": "python",
   "pygments_lexer": "ipython3",
   "version": "3.13.5"
  }
 },
 "nbformat": 4,
 "nbformat_minor": 5
}
