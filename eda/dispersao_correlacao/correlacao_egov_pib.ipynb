{
 "cells": [
  {
   "cell_type": "code",
   "execution_count": null,
   "id": "228267db",
   "metadata": {},
   "outputs": [],
   "source": [
    "import pandas as pd"
   ]
  },
  {
   "cell_type": "markdown",
   "id": "098d3ec3",
   "metadata": {},
   "source": [
    "EGDI"
   ]
  },
  {
   "cell_type": "code",
   "execution_count": null,
   "id": "e6cfd607",
   "metadata": {},
   "outputs": [],
   "source": [
    "egdi = pd.read_csv('EGOV_DATA_2024.csv')"
   ]
  },
  {
   "cell_type": "code",
   "execution_count": null,
   "id": "ef8796f3",
   "metadata": {},
   "outputs": [],
   "source": [
    "egdi = egdi.sort_values(by='Country Name', ascending=True).reset_index(drop=True)"
   ]
  },
  {
   "cell_type": "markdown",
   "id": "2086ce93",
   "metadata": {},
   "source": [
    "EGOV"
   ]
  },
  {
   "cell_type": "code",
   "execution_count": null,
   "id": "767977ec",
   "metadata": {},
   "outputs": [],
   "source": [
    "egov = egdi.melt(\n",
    "    id_vars='Country Name',\n",
    "    value_vars='E-Government Index',\n",
    "    var_name='Metric',\n",
    "    value_name='EGOV'\n",
    ")"
   ]
  },
  {
   "cell_type": "code",
   "execution_count": null,
   "id": "bde62dfd",
   "metadata": {},
   "outputs": [],
   "source": [
    "egov = egov.iloc[:, [0, 2]]"
   ]
  },
  {
   "cell_type": "markdown",
   "id": "86a61d71",
   "metadata": {},
   "source": [
    "LIST"
   ]
  },
  {
   "cell_type": "code",
   "execution_count": null,
   "id": "905c931e",
   "metadata": {},
   "outputs": [],
   "source": [
    "countries = egdi['Country Name'].tolist()"
   ]
  },
  {
   "cell_type": "markdown",
   "id": "151a2510",
   "metadata": {},
   "source": [
    "PIB PER CAPITA PPC"
   ]
  },
  {
   "cell_type": "code",
   "execution_count": null,
   "id": "d37f3938",
   "metadata": {},
   "outputs": [],
   "source": [
    "pib = pd.read_csv('updated_wb_gdp_percapita_ppc.csv')"
   ]
  },
  {
   "cell_type": "code",
   "execution_count": null,
   "id": "13b63ebb",
   "metadata": {},
   "outputs": [],
   "source": [
    "pib = pib.melt(\n",
    "    id_vars='Country Name',\n",
    "    value_vars='2024',\n",
    "    var_name='Ano',\n",
    "    value_name='PIB'\n",
    ")"
   ]
  },
  {
   "cell_type": "code",
   "execution_count": null,
   "id": "d1c120e1",
   "metadata": {},
   "outputs": [],
   "source": [
    "pib = pib[pib['Country Name'].isin(countries)]"
   ]
  },
  {
   "cell_type": "code",
   "execution_count": null,
   "id": "969824bb",
   "metadata": {},
   "outputs": [],
   "source": [
    "pib = pib.sort_values(by='Country Name', ascending=True).reset_index(drop=True)"
   ]
  },
  {
   "cell_type": "code",
   "execution_count": null,
   "id": "1fbed6b3",
   "metadata": {},
   "outputs": [],
   "source": [
    "pib = pib.fillna(0.0)"
   ]
  },
  {
   "cell_type": "code",
   "execution_count": null,
   "id": "9e93f7a8",
   "metadata": {},
   "outputs": [],
   "source": [
    "pib = pib.iloc[:, [0, 2]]"
   ]
  },
  {
   "cell_type": "markdown",
   "id": "b8bd72bb",
   "metadata": {},
   "source": [
    "DISPERSÃO"
   ]
  },
  {
   "cell_type": "code",
   "execution_count": null,
   "id": "2ba06b75",
   "metadata": {},
   "outputs": [],
   "source": [
    "egov_pib = egov.copy()"
   ]
  },
  {
   "cell_type": "code",
   "execution_count": null,
   "id": "09967cc5",
   "metadata": {},
   "outputs": [],
   "source": [
    "egov_pib['Produto Interno Bruto'] = pib['PIB']"
   ]
  },
  {
   "cell_type": "code",
   "execution_count": null,
   "id": "203db638",
   "metadata": {},
   "outputs": [],
   "source": [
    "egov_pib = egov_pib.rename(columns={'EGOV': 'E-Government Development Index'})"
   ]
  },
  {
   "cell_type": "code",
   "execution_count": null,
   "id": "6b5735c9",
   "metadata": {},
   "outputs": [],
   "source": [
    "egov_pib = egov_pib.iloc[:, [1, 2]]"
   ]
  },
  {
   "cell_type": "code",
   "execution_count": null,
   "id": "6225c190",
   "metadata": {},
   "outputs": [],
   "source": [
    "egov_pib.corr(method='spearman')"
   ]
  }
 ],
 "metadata": {
  "kernelspec": {
   "display_name": "Python 3",
   "language": "python",
   "name": "python3"
  },
  "language_info": {
   "codemirror_mode": {
    "name": "ipython",
    "version": 3
   },
   "file_extension": ".py",
   "mimetype": "text/x-python",
   "name": "python",
   "nbconvert_exporter": "python",
   "pygments_lexer": "ipython3",
   "version": "3.13.5"
  }
 },
 "nbformat": 4,
 "nbformat_minor": 5
}
