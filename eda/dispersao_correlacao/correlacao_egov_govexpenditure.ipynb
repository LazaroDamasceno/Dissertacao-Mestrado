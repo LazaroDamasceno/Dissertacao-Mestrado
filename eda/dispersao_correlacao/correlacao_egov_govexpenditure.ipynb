{
 "cells": [
  {
   "cell_type": "code",
   "execution_count": 11,
   "id": "54361b1d",
   "metadata": {},
   "outputs": [],
   "source": [
    "import pandas as pd"
   ]
  },
  {
   "cell_type": "markdown",
   "id": "88cd6cb9",
   "metadata": {},
   "source": []
  },
  {
   "cell_type": "code",
   "execution_count": 12,
   "id": "dd4c62a1",
   "metadata": {},
   "outputs": [],
   "source": [
    "egdi = pd.read_csv('EGOV_DATA_2022.csv')"
   ]
  },
  {
   "cell_type": "code",
   "execution_count": 13,
   "id": "2b0e36d3",
   "metadata": {},
   "outputs": [],
   "source": [
    "egov = egdi.melt(\n",
    "    id_vars='Country Name',\n",
    "    value_vars='E-Government Index',\n",
    "    var_name='EGOV',\n",
    "    value_name='Porcentagem',\n",
    ")"
   ]
  },
  {
   "cell_type": "code",
   "execution_count": 14,
   "id": "b7217982",
   "metadata": {},
   "outputs": [],
   "source": [
    "egov['Country Name'] = egov['Country Name'].sort_values(ascending=True).reset_index(drop=True)"
   ]
  },
  {
   "cell_type": "markdown",
   "id": "3d8a5956",
   "metadata": {},
   "source": []
  },
  {
   "cell_type": "code",
   "execution_count": 15,
   "id": "8029596b",
   "metadata": {},
   "outputs": [],
   "source": [
    "gov_expenditure = pd.read_excel('imf_government_expenditure.xls')"
   ]
  },
  {
   "cell_type": "code",
   "execution_count": 16,
   "id": "4fcef719",
   "metadata": {},
   "outputs": [],
   "source": [
    "gov_expenditure['Country'] = gov_expenditure['Country'].sort_values(ascending=True)"
   ]
  },
  {
   "cell_type": "code",
   "execution_count": 17,
   "id": "048394a0",
   "metadata": {},
   "outputs": [],
   "source": [
    "paises = gov_expenditure['Country'].unique().tolist()"
   ]
  },
  {
   "cell_type": "code",
   "execution_count": 18,
   "id": "d3f8ae01",
   "metadata": {},
   "outputs": [],
   "source": [
    "egov = egov[egov['Country Name'].isin(paises)].reset_index(drop=True)"
   ]
  },
  {
   "cell_type": "code",
   "execution_count": 19,
   "id": "05e64a35",
   "metadata": {},
   "outputs": [],
   "source": [
    "paises = egov['Country Name'].unique().tolist()"
   ]
  },
  {
   "cell_type": "code",
   "execution_count": 20,
   "id": "6ed7038c",
   "metadata": {},
   "outputs": [],
   "source": [
    "gov_expenditure = gov_expenditure[gov_expenditure['Country'].isin(paises)].reset_index(drop=True)"
   ]
  },
  {
   "cell_type": "markdown",
   "id": "99a8e3e2",
   "metadata": {},
   "source": []
  },
  {
   "cell_type": "code",
   "execution_count": 21,
   "id": "dfdd24ce",
   "metadata": {},
   "outputs": [],
   "source": [
    "dispersao = pd.DataFrame()"
   ]
  },
  {
   "cell_type": "code",
   "execution_count": 22,
   "id": "4c16cf19",
   "metadata": {},
   "outputs": [],
   "source": [
    "dispersao[\"Gastos do governo, porcentagem do PIB\"] = gov_expenditure['Percentage']"
   ]
  },
  {
   "cell_type": "code",
   "execution_count": 23,
   "id": "94286e23",
   "metadata": {},
   "outputs": [],
   "source": [
    "dispersao['E-Government Development Index'] = egov['Porcentagem']"
   ]
  },
  {
   "cell_type": "code",
   "execution_count": 24,
   "id": "645045da",
   "metadata": {},
   "outputs": [],
   "source": [
    "dispersao['Gastos do governo, porcentagem do PIB'] = dispersao['Gastos do governo, porcentagem do PIB'].apply(lambda x: x/100.0)"
   ]
  },
  {
   "cell_type": "code",
   "execution_count": 25,
   "id": "298b81ca",
   "metadata": {},
   "outputs": [
    {
     "data": {
      "application/vnd.microsoft.datawrangler.viewer.v0+json": {
       "columns": [
        {
         "name": "index",
         "rawType": "object",
         "type": "string"
        },
        {
         "name": "Gastos do governo, porcentagem do PIB",
         "rawType": "float64",
         "type": "float"
        },
        {
         "name": "E-Government Development Index",
         "rawType": "float64",
         "type": "float"
        }
       ],
       "ref": "c4e24cd6-fc82-4dfa-8ef0-06d97e9ddb10",
       "rows": [
        [
         "Gastos do governo, porcentagem do PIB",
         "1.0",
         "-0.13635805075786023"
        ],
        [
         "E-Government Development Index",
         "-0.13635805075786023",
         "1.0"
        ]
       ],
       "shape": {
        "columns": 2,
        "rows": 2
       }
      },
      "text/html": [
       "<div>\n",
       "<style scoped>\n",
       "    .dataframe tbody tr th:only-of-type {\n",
       "        vertical-align: middle;\n",
       "    }\n",
       "\n",
       "    .dataframe tbody tr th {\n",
       "        vertical-align: top;\n",
       "    }\n",
       "\n",
       "    .dataframe thead th {\n",
       "        text-align: right;\n",
       "    }\n",
       "</style>\n",
       "<table border=\"1\" class=\"dataframe\">\n",
       "  <thead>\n",
       "    <tr style=\"text-align: right;\">\n",
       "      <th></th>\n",
       "      <th>Gastos do governo, porcentagem do PIB</th>\n",
       "      <th>E-Government Development Index</th>\n",
       "    </tr>\n",
       "  </thead>\n",
       "  <tbody>\n",
       "    <tr>\n",
       "      <th>Gastos do governo, porcentagem do PIB</th>\n",
       "      <td>1.000000</td>\n",
       "      <td>-0.136358</td>\n",
       "    </tr>\n",
       "    <tr>\n",
       "      <th>E-Government Development Index</th>\n",
       "      <td>-0.136358</td>\n",
       "      <td>1.000000</td>\n",
       "    </tr>\n",
       "  </tbody>\n",
       "</table>\n",
       "</div>"
      ],
      "text/plain": [
       "                                       Gastos do governo, porcentagem do PIB  \\\n",
       "Gastos do governo, porcentagem do PIB                               1.000000   \n",
       "E-Government Development Index                                     -0.136358   \n",
       "\n",
       "                                       E-Government Development Index  \n",
       "Gastos do governo, porcentagem do PIB                       -0.136358  \n",
       "E-Government Development Index                               1.000000  "
      ]
     },
     "execution_count": 25,
     "metadata": {},
     "output_type": "execute_result"
    }
   ],
   "source": [
    "dispersao.corr(method='spearman')"
   ]
  }
 ],
 "metadata": {
  "kernelspec": {
   "display_name": "Python 3",
   "language": "python",
   "name": "python3"
  },
  "language_info": {
   "codemirror_mode": {
    "name": "ipython",
    "version": 3
   },
   "file_extension": ".py",
   "mimetype": "text/x-python",
   "name": "python",
   "nbconvert_exporter": "python",
   "pygments_lexer": "ipython3",
   "version": "3.13.5"
  }
 },
 "nbformat": 4,
 "nbformat_minor": 5
}
