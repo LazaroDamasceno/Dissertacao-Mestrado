{
 "cells": [
  {
   "cell_type": "code",
   "execution_count": 90,
   "id": "8cf4e243",
   "metadata": {},
   "outputs": [],
   "source": [
    "import pandas as pd\n",
    "import matplotlib.pyplot as plt\n",
    "import seaborn as sns"
   ]
  },
  {
   "cell_type": "markdown",
   "id": "7598a989",
   "metadata": {},
   "source": []
  },
  {
   "cell_type": "code",
   "execution_count": 91,
   "id": "b2c23c07",
   "metadata": {},
   "outputs": [],
   "source": [
    "egdi = pd.read_csv('EGOV_DATA_2024.csv')"
   ]
  },
  {
   "cell_type": "code",
   "execution_count": 92,
   "id": "255e7ca7",
   "metadata": {},
   "outputs": [],
   "source": [
    "paises = egdi['Country Name'].unique().tolist()"
   ]
  },
  {
   "cell_type": "markdown",
   "id": "7424e645",
   "metadata": {},
   "source": []
  },
  {
   "cell_type": "code",
   "execution_count": 93,
   "id": "5e6136d0",
   "metadata": {},
   "outputs": [],
   "source": [
    "pib = pd.read_csv('pib_percapita_ppc.csv')"
   ]
  },
  {
   "cell_type": "code",
   "execution_count": 94,
   "id": "59863345",
   "metadata": {},
   "outputs": [
    {
     "data": {
      "text/plain": [
       "{'Bahamas',\n",
       " 'Congo',\n",
       " 'Czech Republic',\n",
       " \"Côte d'Ivoire\",\n",
       " \"Democratic People's Republic of Korea\",\n",
       " 'Democratic Republic of the Congo',\n",
       " 'Egypt',\n",
       " 'Gambia',\n",
       " 'Georgia (Country)',\n",
       " 'Iran (Islamic Republic of)',\n",
       " 'Kyrgyzstan',\n",
       " \"Lao People's Democratic Republic\",\n",
       " 'Micronesia (Federated States of)',\n",
       " 'Republic of Korea',\n",
       " 'Republic of Moldova',\n",
       " 'Saint Kitts and Nevis',\n",
       " 'Saint Lucia',\n",
       " 'Saint Vincent and the Grenadines',\n",
       " 'Slovakia',\n",
       " 'Türkiye',\n",
       " 'United Kingdom of Great Britain and Northern Ireland',\n",
       " 'United Republic of Tanzania',\n",
       " 'United States of America',\n",
       " 'Venezuela',\n",
       " 'Yemen'}"
      ]
     },
     "execution_count": 94,
     "metadata": {},
     "output_type": "execute_result"
    }
   ],
   "source": [
    "set(paises).difference(set(pib['Country Name']))"
   ]
  },
  {
   "cell_type": "code",
   "execution_count": 95,
   "id": "2bc749cd",
   "metadata": {},
   "outputs": [],
   "source": [
    "pib['Country Name'] = pib['Country Name'].replace({\n",
    "    'Bahamas, The': 'Bahamas',\n",
    "    'Congo, Rep.': 'Congo',\n",
    "    'Czechia': 'Czech Republic',\n",
    "    \"Cote d'Ivoire\": \"Côte d'Ivoire\",\n",
    "    \"Korea, Dem. People's Rep.\": \"Democratic People's Republic of Korea\",\n",
    "    'Congo, Dem. Rep.': 'Democratic Republic of the Congo',\n",
    "    'Egypt, Arab Rep.': 'Egypt',\n",
    "    'Georgia': 'Georgia (Country)',\n",
    "    'Gambia, The': 'Gambia',\n",
    "    'Yemen, Rep.': 'Yemen',\n",
    "    'Venezuela, RB': 'Venezuela',\n",
    "    'Slovak Republic': 'Slovakia',\n",
    "    'United Kingdom': 'United Kingdom of Great Britain and Northern Ireland',\n",
    "    'Tanzania': 'United Republic of Tanzania',\n",
    "    'United States': 'United States of America',\n",
    "    'Turkiye': 'Türkiye',\n",
    "    'St. Kitts and Nevis': 'Saint Kitts and Nevis',\n",
    "    'St. Lucia': 'Saint Lucia',\n",
    "    'St. Vincent and the Grenadines': 'Saint Vincent and the Grenadines',\n",
    "    \"Iran, Islamic Rep.\": 'Iran (Islamic Republic of)',\n",
    "    'Korea, Rep.': 'Republic of Korea',\n",
    "    'Moldova': 'Republic of Moldova',\n",
    "    \"Kyrgyz Republic\": 'Kyrgyzstan',\n",
    "    'Lao PDR': \"Lao People's Democratic Republic\",\n",
    "    \"Micronesia, Fed. Sts.\": 'Micronesia (Federated States of)'\n",
    "})"
   ]
  },
  {
   "cell_type": "code",
   "execution_count": 96,
   "id": "892b57a4",
   "metadata": {},
   "outputs": [
    {
     "data": {
      "text/plain": [
       "set()"
      ]
     },
     "execution_count": 96,
     "metadata": {},
     "output_type": "execute_result"
    }
   ],
   "source": [
    "set(paises).difference(set(pib['Country Name']))"
   ]
  },
  {
   "cell_type": "code",
   "execution_count": 97,
   "id": "0eeeb7de",
   "metadata": {},
   "outputs": [],
   "source": [
    "pib = pib[pib['Country Name'].isin(paises)].sort_values(by=['Country Name'], ascending=True).reset_index(drop=True)"
   ]
  },
  {
   "cell_type": "markdown",
   "id": "5d1db115",
   "metadata": {},
   "source": []
  },
  {
   "cell_type": "code",
   "execution_count": 98,
   "id": "dc908d2a",
   "metadata": {},
   "outputs": [],
   "source": [
    "tic = pd.read_excel('ict_in_government.xlsx')"
   ]
  },
  {
   "cell_type": "code",
   "execution_count": 99,
   "id": "ffddd887",
   "metadata": {},
   "outputs": [
    {
     "data": {
      "text/plain": [
       "{'Georgia (Country)', 'San Marino', 'Türkiye'}"
      ]
     },
     "execution_count": 99,
     "metadata": {},
     "output_type": "execute_result"
    }
   ],
   "source": [
    "set(paises).difference(set(tic['Country']))"
   ]
  },
  {
   "cell_type": "code",
   "execution_count": 100,
   "id": "f8984cc9",
   "metadata": {},
   "outputs": [],
   "source": [
    "tic['Country'] = tic['Country'].replace({\n",
    "    'Turkey': 'Türkiye',\n",
    "    'Georgia': 'Georgia (Country)',\n",
    "    'San Mari0': 'San Marino'\n",
    "})"
   ]
  },
  {
   "cell_type": "code",
   "execution_count": 101,
   "id": "f574f5b9",
   "metadata": {},
   "outputs": [
    {
     "data": {
      "text/plain": [
       "set()"
      ]
     },
     "execution_count": 101,
     "metadata": {},
     "output_type": "execute_result"
    }
   ],
   "source": [
    "set(paises).difference(set(tic['Country']))"
   ]
  },
  {
   "cell_type": "code",
   "execution_count": 102,
   "id": "0be04f81",
   "metadata": {},
   "outputs": [],
   "source": [
    "tic['Soma das Respostas Positivas'] = tic['Indicator_1'] + tic['Indicator_2'] + tic['Indicator_3']"
   ]
  },
  {
   "cell_type": "code",
   "execution_count": 103,
   "id": "652af026",
   "metadata": {},
   "outputs": [],
   "source": [
    "tic = tic[tic['Year'] == 2024]"
   ]
  },
  {
   "cell_type": "code",
   "execution_count": 104,
   "id": "4f51cb42",
   "metadata": {},
   "outputs": [],
   "source": [
    "tic = tic[tic['Country'].isin(paises)].sort_values(by='Country', ascending=True).reset_index(drop=True)"
   ]
  },
  {
   "cell_type": "markdown",
   "id": "cf26b364",
   "metadata": {},
   "source": []
  },
  {
   "cell_type": "code",
   "execution_count": 105,
   "id": "75cdb5b3",
   "metadata": {},
   "outputs": [],
   "source": [
    "df = pd.DataFrame()"
   ]
  },
  {
   "cell_type": "code",
   "execution_count": 106,
   "id": "68142fb3",
   "metadata": {},
   "outputs": [],
   "source": [
    "df['Soma das Respostas Positivas'] = tic['Soma das Respostas Positivas']"
   ]
  },
  {
   "cell_type": "code",
   "execution_count": 107,
   "id": "6906ef3c",
   "metadata": {},
   "outputs": [],
   "source": [
    "df['Produto Interno Bruto'] = pib['2024']"
   ]
  },
  {
   "cell_type": "markdown",
   "id": "5cf29dc9",
   "metadata": {},
   "source": []
  },
  {
   "cell_type": "code",
   "execution_count": 108,
   "id": "92019edd",
   "metadata": {},
   "outputs": [
    {
     "data": {
      "image/png": "[encoded data removed]",
      "text/plain": [
       "<Figure size 1000x600 with 1 Axes>"
      ]
     },
     "metadata": {},
     "output_type": "display_data"
    }
   ],
   "source": [
    "plt.figure(figsize=(10, 6))\n",
    "\n",
    "sns.regplot(df, x='Soma das Respostas Positivas', y='Produto Interno Bruto')\n",
    "\n",
    "plt.tight_layout()\n",
    "plt.savefig('C:/Users/lazar/Master-Dissertation/figuras/ict_in_government/dispersao_ticegov_pib.png', dpi=300, bbox_inches='tight')\n",
    "plt.show()"
   ]
  },
  {
   "cell_type": "code",
   "execution_count": 109,
   "id": "53322694",
   "metadata": {},
   "outputs": [
    {
     "data": {
      "application/vnd.microsoft.datawrangler.viewer.v0+json": {
       "columns": [
        {
         "name": "index",
         "rawType": "object",
         "type": "string"
        },
        {
         "name": "Soma das Respostas Positivas",
         "rawType": "float64",
         "type": "float"
        },
        {
         "name": "Produto Interno Bruto",
         "rawType": "float64",
         "type": "float"
        }
       ],
       "ref": "3149a820-98fd-4a07-a7cb-bfa94c13d15b",
       "rows": [
        [
         "Soma das Respostas Positivas",
         "1.0",
         "0.5142865787090639"
        ],
        [
         "Produto Interno Bruto",
         "0.5142865787090639",
         "1.0"
        ]
       ],
       "shape": {
        "columns": 2,
        "rows": 2
       }
      },
      "text/html": [
       "<div>\n",
       "<style scoped>\n",
       "    .dataframe tbody tr th:only-of-type {\n",
       "        vertical-align: middle;\n",
       "    }\n",
       "\n",
       "    .dataframe tbody tr th {\n",
       "        vertical-align: top;\n",
       "    }\n",
       "\n",
       "    .dataframe thead th {\n",
       "        text-align: right;\n",
       "    }\n",
       "</style>\n",
       "<table border=\"1\" class=\"dataframe\">\n",
       "  <thead>\n",
       "    <tr style=\"text-align: right;\">\n",
       "      <th></th>\n",
       "      <th>Soma das Respostas Positivas</th>\n",
       "      <th>Produto Interno Bruto</th>\n",
       "    </tr>\n",
       "  </thead>\n",
       "  <tbody>\n",
       "    <tr>\n",
       "      <th>Soma das Respostas Positivas</th>\n",
       "      <td>1.000000</td>\n",
       "      <td>0.514287</td>\n",
       "    </tr>\n",
       "    <tr>\n",
       "      <th>Produto Interno Bruto</th>\n",
       "      <td>0.514287</td>\n",
       "      <td>1.000000</td>\n",
       "    </tr>\n",
       "  </tbody>\n",
       "</table>\n",
       "</div>"
      ],
      "text/plain": [
       "                              Soma das Respostas Positivas  \\\n",
       "Soma das Respostas Positivas                      1.000000   \n",
       "Produto Interno Bruto                             0.514287   \n",
       "\n",
       "                              Produto Interno Bruto  \n",
       "Soma das Respostas Positivas               0.514287  \n",
       "Produto Interno Bruto                      1.000000  "
      ]
     },
     "execution_count": 109,
     "metadata": {},
     "output_type": "execute_result"
    }
   ],
   "source": [
    "df.corr(method='spearman')"
   ]
  }
 ],
 "metadata": {
  "kernelspec": {
   "display_name": "Python 3",
   "language": "python",
   "name": "python3"
  },
  "language_info": {
   "codemirror_mode": {
    "name": "ipython",
    "version": 3
   },
   "file_extension": ".py",
   "mimetype": "text/x-python",
   "name": "python",
   "nbconvert_exporter": "python",
   "pygments_lexer": "ipython3",
   "version": "3.13.5"
  }
 },
 "nbformat": 4,
 "nbformat_minor": 5
}
