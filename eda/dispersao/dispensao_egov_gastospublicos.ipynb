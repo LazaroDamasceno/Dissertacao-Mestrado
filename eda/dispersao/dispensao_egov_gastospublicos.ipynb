{
 "cells": [
  {
   "cell_type": "code",
   "execution_count": 1,
   "id": "228267db",
   "metadata": {},
   "outputs": [],
   "source": [
    "import pandas as pd\n",
    "import matplotlib.pyplot as plt\n",
    "import seaborn as sns"
   ]
  },
  {
   "cell_type": "code",
   "execution_count": 2,
   "id": "13e01dc8",
   "metadata": {},
   "outputs": [],
   "source": [
    "egov = pd.read_csv('EGOV_DATA_2024.csv')"
   ]
  },
  {
   "cell_type": "code",
   "execution_count": 3,
   "id": "9181d281",
   "metadata": {},
   "outputs": [],
   "source": [
    "egov = egov.sort_values(by='Country Name', ascending=True).reset_index(drop=True)"
   ]
  },
  {
   "cell_type": "markdown",
   "id": "b0d40e1d",
   "metadata": {},
   "source": []
  },
  {
   "cell_type": "code",
   "execution_count": 4,
   "id": "cb610023",
   "metadata": {},
   "outputs": [],
   "source": [
    "gastos_publicos = pd.read_excel('imf_government_expenditure.xls')"
   ]
  },
  {
   "cell_type": "code",
   "execution_count": 5,
   "id": "702d0f99",
   "metadata": {},
   "outputs": [],
   "source": [
    "gastos_publicos = gastos_publicos.sort_values(by='Country', ascending=True).reset_index(drop=True)"
   ]
  },
  {
   "cell_type": "markdown",
   "id": "76c582ee",
   "metadata": {},
   "source": []
  },
  {
   "cell_type": "code",
   "execution_count": 6,
   "id": "59568403",
   "metadata": {},
   "outputs": [
    {
     "data": {
      "text/plain": [
       "{'Aruba',\n",
       " \"China, People's Republic of\",\n",
       " 'Georgia',\n",
       " 'Hong Kong SAR',\n",
       " 'Iran',\n",
       " 'Korea, Republic of',\n",
       " 'Kyrgyz Republic',\n",
       " 'Micronesia, Fed. States of',\n",
       " 'Moldova',\n",
       " 'Republic of Congo',\n",
       " 'Slovak Republic',\n",
       " 'Tanzania',\n",
       " 'Türkiye, Republic of',\n",
       " 'United Kingdom',\n",
       " 'United States',\n",
       " 'Vietnam'}"
      ]
     },
     "execution_count": 6,
     "metadata": {},
     "output_type": "execute_result"
    }
   ],
   "source": [
    "set(gastos_publicos['Country']).difference(egov['Country Name'])"
   ]
  },
  {
   "cell_type": "code",
   "execution_count": 7,
   "id": "d9f4efac",
   "metadata": {},
   "outputs": [],
   "source": [
    "gastos_publicos['Country'] = gastos_publicos['Country'].replace({\n",
    "    \"China, People's Republic of\": 'China',\n",
    "    'Georgia': 'Georgia (Country)',\n",
    "    'Iran': 'Iran (Islamic Republic of)',\n",
    "    'Korea, Republic of': 'Republic of Korea',\n",
    "    'Micronesia, Fed. States of': 'Micronesia (Federated States of)',\n",
    "    'Moldova': 'Republic of Moldova',\n",
    "    'Republic of Congo': 'Congo',\n",
    "    'Slovak Republic': 'Slovakia',\n",
    "    'Tanzania': 'United Republic of Tanzania',\n",
    "    'Türkiye, Republic of': 'Türkiye',\n",
    "    'United Kingdom': 'United Kingdom of Great Britain and Northern Ireland',\n",
    "    \"United States\": \"United States of America\",\n",
    "    'Vietnam': 'Viet Nam',\n",
    "    'Kyrgyz Republic': 'Kyrgyzstan'\n",
    "})"
   ]
  },
  {
   "cell_type": "code",
   "execution_count": 8,
   "id": "ff2aeeee",
   "metadata": {},
   "outputs": [
    {
     "data": {
      "text/plain": [
       "{'Aruba', 'Hong Kong SAR'}"
      ]
     },
     "execution_count": 8,
     "metadata": {},
     "output_type": "execute_result"
    }
   ],
   "source": [
    "set(gastos_publicos['Country']).difference(egov['Country Name'])"
   ]
  },
  {
   "cell_type": "markdown",
   "id": "486c21cf",
   "metadata": {},
   "source": []
  },
  {
   "cell_type": "code",
   "execution_count": 9,
   "id": "2ace7912",
   "metadata": {},
   "outputs": [],
   "source": [
    "paises = gastos_publicos['Country'].unique().tolist()"
   ]
  },
  {
   "cell_type": "code",
   "execution_count": 10,
   "id": "926dad43",
   "metadata": {},
   "outputs": [],
   "source": [
    "egov = egov[egov['Country Name'].isin(paises)].reset_index(drop=True)"
   ]
  },
  {
   "cell_type": "code",
   "execution_count": 11,
   "id": "3880ebf9",
   "metadata": {},
   "outputs": [
    {
     "data": {
      "application/vnd.microsoft.datawrangler.viewer.v0+json": {
       "columns": [
        {
         "name": "index",
         "rawType": "int64",
         "type": "integer"
        },
        {
         "name": "Country",
         "rawType": "object",
         "type": "string"
        },
        {
         "name": "Percentage",
         "rawType": "float64",
         "type": "float"
        }
       ],
       "ref": "106afe4a-600b-445b-98bb-47d322a79370",
       "rows": [
        [
         "5",
         "Aruba",
         "21.678767598192"
        ],
        [
         "63",
         "Hong Kong SAR",
         "28.293314267359"
        ]
       ],
       "shape": {
        "columns": 2,
        "rows": 2
       }
      },
      "text/html": [
       "<div>\n",
       "<style scoped>\n",
       "    .dataframe tbody tr th:only-of-type {\n",
       "        vertical-align: middle;\n",
       "    }\n",
       "\n",
       "    .dataframe tbody tr th {\n",
       "        vertical-align: top;\n",
       "    }\n",
       "\n",
       "    .dataframe thead th {\n",
       "        text-align: right;\n",
       "    }\n",
       "</style>\n",
       "<table border=\"1\" class=\"dataframe\">\n",
       "  <thead>\n",
       "    <tr style=\"text-align: right;\">\n",
       "      <th></th>\n",
       "      <th>Country</th>\n",
       "      <th>Percentage</th>\n",
       "    </tr>\n",
       "  </thead>\n",
       "  <tbody>\n",
       "    <tr>\n",
       "      <th>5</th>\n",
       "      <td>Aruba</td>\n",
       "      <td>21.678768</td>\n",
       "    </tr>\n",
       "    <tr>\n",
       "      <th>63</th>\n",
       "      <td>Hong Kong SAR</td>\n",
       "      <td>28.293314</td>\n",
       "    </tr>\n",
       "  </tbody>\n",
       "</table>\n",
       "</div>"
      ],
      "text/plain": [
       "          Country  Percentage\n",
       "5           Aruba   21.678768\n",
       "63  Hong Kong SAR   28.293314"
      ]
     },
     "execution_count": 11,
     "metadata": {},
     "output_type": "execute_result"
    }
   ],
   "source": [
    "gastos_publicos.loc[gastos_publicos['Country'].isin(['Aruba', 'Hong Kong SAR'])]"
   ]
  },
  {
   "cell_type": "code",
   "execution_count": 12,
   "id": "cfa001a0",
   "metadata": {},
   "outputs": [],
   "source": [
    "gastos_publicos = gastos_publicos.drop(index=[5, 63]).reset_index(drop=True)"
   ]
  },
  {
   "cell_type": "markdown",
   "id": "dd4e9dc4",
   "metadata": {},
   "source": []
  },
  {
   "cell_type": "code",
   "execution_count": 13,
   "id": "d9a8df1b",
   "metadata": {},
   "outputs": [],
   "source": [
    "df = pd.DataFrame()"
   ]
  },
  {
   "cell_type": "code",
   "execution_count": 14,
   "id": "c4d7dd6f",
   "metadata": {},
   "outputs": [],
   "source": [
    "df['E-Government Development Index'] = egov['E-Government Index']"
   ]
  },
  {
   "cell_type": "code",
   "execution_count": 15,
   "id": "bfa6e00f",
   "metadata": {},
   "outputs": [],
   "source": [
    "df['Gastos públicos (% do PIB)'] = gastos_publicos['Percentage']"
   ]
  },
  {
   "cell_type": "code",
   "execution_count": 16,
   "id": "0e7d5597",
   "metadata": {},
   "outputs": [],
   "source": [
    "df['Gastos públicos (% do PIB)'] = df['Gastos públicos (% do PIB)']"
   ]
  },
  {
   "cell_type": "markdown",
   "id": "2d01f8cb",
   "metadata": {},
   "source": []
  },
  {
   "cell_type": "code",
   "execution_count": 17,
   "id": "c6ecc8e1",
   "metadata": {},
   "outputs": [
    {
     "data": {
      "image/png": "[encoded data removed]",
      "text/plain": [
       "<Figure size 1000x600 with 1 Axes>"
      ]
     },
     "metadata": {},
     "output_type": "display_data"
    }
   ],
   "source": [
    "plt.figure(figsize=(10, 6))\n",
    "\n",
    "sns.regplot(df, x='Gastos públicos (% do PIB)', y='E-Government Development Index')\n",
    "\n",
    "sns.despine()\n",
    "plt.xlim(0, 100)\n",
    "plt.ylim(0, 1)\n",
    "plt.tight_layout()\n",
    "plt.show()"
   ]
  },
  {
   "cell_type": "code",
   "execution_count": 18,
   "id": "4404dc79",
   "metadata": {},
   "outputs": [
    {
     "data": {
      "application/vnd.microsoft.datawrangler.viewer.v0+json": {
       "columns": [
        {
         "name": "index",
         "rawType": "object",
         "type": "string"
        },
        {
         "name": "E-Government Development Index",
         "rawType": "float64",
         "type": "float"
        },
        {
         "name": "Gastos públicos (% do PIB)",
         "rawType": "float64",
         "type": "float"
        }
       ],
       "ref": "10158541-bf38-4cdd-8b24-06535a0de28c",
       "rows": [
        [
         "E-Government Development Index",
         "1.0",
         "0.27586432069653544"
        ],
        [
         "Gastos públicos (% do PIB)",
         "0.27586432069653544",
         "1.0"
        ]
       ],
       "shape": {
        "columns": 2,
        "rows": 2
       }
      },
      "text/html": [
       "<div>\n",
       "<style scoped>\n",
       "    .dataframe tbody tr th:only-of-type {\n",
       "        vertical-align: middle;\n",
       "    }\n",
       "\n",
       "    .dataframe tbody tr th {\n",
       "        vertical-align: top;\n",
       "    }\n",
       "\n",
       "    .dataframe thead th {\n",
       "        text-align: right;\n",
       "    }\n",
       "</style>\n",
       "<table border=\"1\" class=\"dataframe\">\n",
       "  <thead>\n",
       "    <tr style=\"text-align: right;\">\n",
       "      <th></th>\n",
       "      <th>E-Government Development Index</th>\n",
       "      <th>Gastos públicos (% do PIB)</th>\n",
       "    </tr>\n",
       "  </thead>\n",
       "  <tbody>\n",
       "    <tr>\n",
       "      <th>E-Government Development Index</th>\n",
       "      <td>1.000000</td>\n",
       "      <td>0.275864</td>\n",
       "    </tr>\n",
       "    <tr>\n",
       "      <th>Gastos públicos (% do PIB)</th>\n",
       "      <td>0.275864</td>\n",
       "      <td>1.000000</td>\n",
       "    </tr>\n",
       "  </tbody>\n",
       "</table>\n",
       "</div>"
      ],
      "text/plain": [
       "                                E-Government Development Index  \\\n",
       "E-Government Development Index                        1.000000   \n",
       "Gastos públicos (% do PIB)                            0.275864   \n",
       "\n",
       "                                Gastos públicos (% do PIB)  \n",
       "E-Government Development Index                    0.275864  \n",
       "Gastos públicos (% do PIB)                        1.000000  "
      ]
     },
     "execution_count": 18,
     "metadata": {},
     "output_type": "execute_result"
    }
   ],
   "source": [
    "df.corr(method='spearman')"
   ]
  }
 ],
 "metadata": {
  "kernelspec": {
   "display_name": "Python 3",
   "language": "python",
   "name": "python3"
  },
  "language_info": {
   "codemirror_mode": {
    "name": "ipython",
    "version": 3
   },
   "file_extension": ".py",
   "mimetype": "text/x-python",
   "name": "python",
   "nbconvert_exporter": "python",
   "pygments_lexer": "ipython3",
   "version": "3.13.5"
  }
 },
 "nbformat": 4,
 "nbformat_minor": 5
}
