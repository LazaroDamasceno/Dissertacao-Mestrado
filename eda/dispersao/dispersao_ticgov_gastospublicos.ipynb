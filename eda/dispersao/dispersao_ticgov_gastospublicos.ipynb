{
 "cells": [
  {
   "cell_type": "code",
   "execution_count": null,
   "id": "7f506d10",
   "metadata": {},
   "outputs": [],
   "source": [
    "import pandas as pd\n",
    "import matplotlib.pyplot as plt\n",
    "import seaborn as sns"
   ]
  },
  {
   "cell_type": "markdown",
   "id": "d4bbb9c5",
   "metadata": {},
   "source": []
  },
  {
   "cell_type": "code",
   "execution_count": null,
   "id": "3e15f058",
   "metadata": {},
   "outputs": [],
   "source": [
    "gastos_publicos = pd.read_excel('imf_government_expenditure.xls')"
   ]
  },
  {
   "cell_type": "code",
   "execution_count": null,
   "id": "df142436",
   "metadata": {},
   "outputs": [],
   "source": [
    "gastos_publicos = gastos_publicos.sort_values(by='Country', ascending=True).reset_index(drop=True)"
   ]
  },
  {
   "cell_type": "markdown",
   "id": "6968e49d",
   "metadata": {},
   "source": []
  },
  {
   "cell_type": "code",
   "execution_count": null,
   "id": "a4fa2fe6",
   "metadata": {},
   "outputs": [],
   "source": [
    "tic_gov = pd.read_excel('ict_in_government.xlsx')"
   ]
  },
  {
   "cell_type": "code",
   "execution_count": null,
   "id": "a3d76302",
   "metadata": {},
   "outputs": [],
   "source": [
    "tic_gov = tic_gov.sort_values(by='Country', ascending=True).reset_index(drop=True)"
   ]
  },
  {
   "cell_type": "code",
   "execution_count": null,
   "id": "f645de0b",
   "metadata": {},
   "outputs": [],
   "source": [
    "tic_gov = tic_gov[tic_gov['Year'] == 2024]"
   ]
  },
  {
   "cell_type": "code",
   "execution_count": null,
   "id": "ef3e4297",
   "metadata": {},
   "outputs": [],
   "source": [
    "tic_gov['Soma das Respotas Positivas'] = tic_gov['Indicator_1'] + tic_gov['Indicator_2'] + tic_gov['Indicator_3']"
   ]
  },
  {
   "cell_type": "code",
   "execution_count": null,
   "id": "316ccb67",
   "metadata": {},
   "outputs": [],
   "source": [
    "tic_gov = tic_gov.iloc[:, [0, 5]]"
   ]
  },
  {
   "cell_type": "markdown",
   "id": "4ec46796",
   "metadata": {},
   "source": []
  },
  {
   "cell_type": "code",
   "execution_count": null,
   "id": "3b370c76",
   "metadata": {},
   "outputs": [],
   "source": [
    "gastos_publicos['Country'] = gastos_publicos['Country'].replace({\n",
    "    \"China, People's Republic of\": 'China',\n",
    "    'Iran': 'Iran (Islamic Republic of)',\n",
    "    'Korea, Republic of': 'Republic of Korea',\n",
    "    'Micronesia, Fed. States of': 'Micronesia (Federated States of)',\n",
    "    'Republic of Congo': 'Congo',\n",
    "    'Tanzania': 'United Republic of Tanzania',\n",
    "    'Slovak Republic': 'Slovakia',\n",
    "    'Türkiye, Republic of': 'Turkey',\n",
    "    'Moldova': 'Republic of Moldova',\n",
    "    'Vietnam': 'Viet Nam',\n",
    "    'Kyrgyz Republic': 'Kyrgyzstan',\n",
    "    'United States': 'United States of America',\n",
    "    'United Kingdom': 'United Kingdom of Great Britain and Northern Ireland'\n",
    "})"
   ]
  },
  {
   "cell_type": "markdown",
   "id": "b79f4765",
   "metadata": {},
   "source": []
  },
  {
   "cell_type": "code",
   "execution_count": null,
   "id": "da8c918a",
   "metadata": {},
   "outputs": [],
   "source": [
    "paises = gastos_publicos['Country'].unique().tolist()"
   ]
  },
  {
   "cell_type": "code",
   "execution_count": null,
   "id": "57e7e518",
   "metadata": {},
   "outputs": [],
   "source": [
    "tic_gov = tic_gov[tic_gov['Country'].isin(paises)].reset_index(drop=True)"
   ]
  },
  {
   "cell_type": "markdown",
   "id": "ebb8e30a",
   "metadata": {},
   "source": []
  },
  {
   "cell_type": "code",
   "execution_count": null,
   "id": "77b797c8",
   "metadata": {},
   "outputs": [],
   "source": [
    "df = pd.DataFrame()"
   ]
  },
  {
   "cell_type": "code",
   "execution_count": null,
   "id": "dbfb1591",
   "metadata": {},
   "outputs": [],
   "source": [
    "df['Soma das Respotas Positivas'] = tic_gov['Soma das Respotas Positivas']"
   ]
  },
  {
   "cell_type": "code",
   "execution_count": null,
   "id": "87457a27",
   "metadata": {},
   "outputs": [],
   "source": [
    "df['Gastos públicos (% do PIB)'] = gastos_publicos['Percentage']"
   ]
  },
  {
   "cell_type": "markdown",
   "id": "e557944f",
   "metadata": {},
   "source": []
  },
  {
   "cell_type": "code",
   "execution_count": null,
   "id": "6a4dfd94",
   "metadata": {},
   "outputs": [],
   "source": [
    "plt.figure(figsize=(10, 6))\n",
    "\n",
    "sns.regplot(df, x='Gastos públicos (% do PIB)', y='Soma das Respotas Positivas')\n",
    "\n",
    "plt.xlim(0, 100)\n",
    "plt.tight_layout()\n",
    "plt.show()"
   ]
  },
  {
   "cell_type": "code",
   "execution_count": null,
   "id": "e88d7668",
   "metadata": {},
   "outputs": [],
   "source": [
    "df.corr(method='spearman')"
   ]
  }
 ],
 "metadata": {
  "kernelspec": {
   "display_name": "Python 3",
   "language": "python",
   "name": "python3"
  },
  "language_info": {
   "codemirror_mode": {
    "name": "ipython",
    "version": 3
   },
   "file_extension": ".py",
   "mimetype": "text/x-python",
   "name": "python",
   "nbconvert_exporter": "python",
   "pygments_lexer": "ipython3",
   "version": "3.13.5"
  }
 },
 "nbformat": 4,
 "nbformat_minor": 5
}
