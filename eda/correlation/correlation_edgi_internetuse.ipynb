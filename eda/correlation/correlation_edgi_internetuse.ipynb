{
 "cells": [
  {
   "cell_type": "code",
   "execution_count": null,
   "id": "171f5c13",
   "metadata": {},
   "outputs": [],
   "source": [
    "import pandas as pd"
   ]
  },
  {
   "cell_type": "markdown",
   "id": "598501b3",
   "metadata": {},
   "source": [
    "# INTERNET USE"
   ]
  },
  {
   "cell_type": "code",
   "execution_count": null,
   "id": "d1c37b68",
   "metadata": {},
   "outputs": [],
   "source": [
    "df_internet = pd.read_csv('individuals-using-the-internet.csv')"
   ]
  },
  {
   "cell_type": "code",
   "execution_count": null,
   "id": "ee0503ec",
   "metadata": {},
   "outputs": [],
   "source": [
    "df_internet = df_internet.drop(columns=[\n",
    "    'seriesID',\n",
    "    'seriesCode',\n",
    "    'seriesName',\n",
    "    'seriesParent',\n",
    "    'seriesUnits',\n",
    "    'entityID',\n",
    "    'entityIso',\n",
    "    'dataNote',\n",
    "    'dataSource',\n",
    "    'seriesDescription'\n",
    "])"
   ]
  },
  {
   "cell_type": "code",
   "execution_count": null,
   "id": "a827f393",
   "metadata": {},
   "outputs": [],
   "source": [
    "df_internet = df_internet.rename(columns={\n",
    "    'entityName': 'Country',\n",
    "    'dataValue': 'Percentage Use',\n",
    "    'dataYear': 'Year'\n",
    "})"
   ]
  },
  {
   "cell_type": "code",
   "execution_count": null,
   "id": "af5592a0",
   "metadata": {},
   "outputs": [],
   "source": [
    "df_internet = df_internet.query('Country == \"Brazil\"').reset_index(drop=True)"
   ]
  },
  {
   "cell_type": "code",
   "execution_count": null,
   "id": "171506e0",
   "metadata": {},
   "outputs": [],
   "source": [
    "years = (2003, 2004, 2005, 2008, 2010, 2012, 2014, 2016, 2018, 2020, 2022, 2024)\n",
    "df_internetuse= df_internet.query('Year in @years')"
   ]
  },
  {
   "cell_type": "markdown",
   "id": "e94152f8",
   "metadata": {},
   "source": [
    "# UN EDGI"
   ]
  },
  {
   "cell_type": "code",
   "execution_count": null,
   "id": "03bb5d6f",
   "metadata": {},
   "outputs": [],
   "source": [
    "df_edgi = pd.read_csv('concated_edgi.csv')"
   ]
  },
  {
   "cell_type": "code",
   "execution_count": null,
   "id": "c12d1099",
   "metadata": {},
   "outputs": [],
   "source": [
    "df_edgi = df_edgi.drop(columns=['Unnamed: 0'])"
   ]
  },
  {
   "cell_type": "code",
   "execution_count": null,
   "id": "60d2310d",
   "metadata": {},
   "outputs": [],
   "source": [
    "df_edgi.info()"
   ]
  },
  {
   "cell_type": "code",
   "execution_count": null,
   "id": "29810b13",
   "metadata": {},
   "outputs": [],
   "source": [
    "df_edgi['E-Government Index'] = df_edgi['E-Government Index'].apply(lambda x: x * 100.0)"
   ]
  },
  {
   "cell_type": "code",
   "execution_count": null,
   "id": "c934462e",
   "metadata": {},
   "outputs": [],
   "source": [
    "df_edgi['E-Participation Index'] = df_edgi['E-Participation Index'].apply(lambda x: x * 100.0)"
   ]
  },
  {
   "cell_type": "code",
   "execution_count": null,
   "id": "7f9b9ac9",
   "metadata": {},
   "outputs": [],
   "source": [
    "df_edgi['Online Service Index'] = df_edgi['Online Service Index'].apply(lambda x: x * 100.0)"
   ]
  },
  {
   "cell_type": "code",
   "execution_count": null,
   "id": "0e796865",
   "metadata": {},
   "outputs": [],
   "source": [
    "df_edgi['Human Capital Index'] = df_edgi['Human Capital Index'].apply(lambda x: x * 100.0)"
   ]
  },
  {
   "cell_type": "code",
   "execution_count": null,
   "id": "9e35d265",
   "metadata": {},
   "outputs": [],
   "source": [
    "df_edgi['Telecommunication Infrastructure Index'] = df_edgi['Telecommunication Infrastructure Index'].apply(lambda x: x * 100.0)"
   ]
  },
  {
   "cell_type": "markdown",
   "id": "000189ab",
   "metadata": {},
   "source": [
    "# PEARSON CORRELATION COEFFICIENT"
   ]
  },
  {
   "cell_type": "code",
   "execution_count": null,
   "id": "e3335c89",
   "metadata": {},
   "outputs": [],
   "source": [
    "df_internet['Percentage Use'].corr(df_edgi['E-Government Index'], method='pearson')"
   ]
  },
  {
   "cell_type": "code",
   "execution_count": null,
   "id": "281af28e",
   "metadata": {},
   "outputs": [],
   "source": [
    "df_internet['Percentage Use'].corr(df_edgi['E-Participation Index'], method='pearson')"
   ]
  },
  {
   "cell_type": "code",
   "execution_count": null,
   "id": "68329c9f",
   "metadata": {},
   "outputs": [],
   "source": [
    "df_internet['Percentage Use'].corr(df_edgi['Human Capital Index'], method='pearson')"
   ]
  },
  {
   "cell_type": "code",
   "execution_count": null,
   "id": "1b8b2b13",
   "metadata": {},
   "outputs": [],
   "source": [
    "df_internet['Percentage Use'].corr(df_edgi['Online Service Index'], method='pearson')"
   ]
  },
  {
   "cell_type": "code",
   "execution_count": null,
   "id": "3444406f",
   "metadata": {},
   "outputs": [],
   "source": [
    "df_internet['Percentage Use'].corr(df_edgi['Telecommunication Infrastructure Index'], method='pearson')"
   ]
  }
 ],
 "metadata": {
  "kernelspec": {
   "display_name": "Python 3",
   "language": "python",
   "name": "python3"
  },
  "language_info": {
   "codemirror_mode": {
    "name": "ipython",
    "version": 3
   },
   "file_extension": ".py",
   "mimetype": "text/x-python",
   "name": "python",
   "nbconvert_exporter": "python",
   "pygments_lexer": "ipython3",
   "version": "3.13.5"
  }
 },
 "nbformat": 4,
 "nbformat_minor": 5
}
