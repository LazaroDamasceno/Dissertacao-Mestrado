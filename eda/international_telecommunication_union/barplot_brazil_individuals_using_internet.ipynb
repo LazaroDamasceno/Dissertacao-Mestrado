{
 "cells": [
  {
   "cell_type": "code",
   "execution_count": 141,
   "id": "f21211a5",
   "metadata": {},
   "outputs": [],
   "source": [
    "import pandas as pd\n",
    "import matplotlib.pyplot as plt \n",
    "import seaborn as sns"
   ]
  },
  {
   "cell_type": "code",
   "execution_count": 142,
   "id": "3f079c59",
   "metadata": {},
   "outputs": [],
   "source": [
    "df = pd.read_csv('individuals-using-the-internet.csv')"
   ]
  },
  {
   "cell_type": "code",
   "execution_count": 143,
   "id": "5bc247fb",
   "metadata": {},
   "outputs": [
    {
     "name": "stdout",
     "output_type": "stream",
     "text": [
      "<class 'pandas.core.frame.DataFrame'>\n",
      "RangeIndex: 4906 entries, 0 to 4905\n",
      "Data columns (total 13 columns):\n",
      " #   Column             Non-Null Count  Dtype  \n",
      "---  ------             --------------  -----  \n",
      " 0   seriesID           4906 non-null   int64  \n",
      " 1   seriesCode         4906 non-null   object \n",
      " 2   seriesName         4906 non-null   object \n",
      " 3   seriesParent       0 non-null      float64\n",
      " 4   seriesUnits        4906 non-null   object \n",
      " 5   entityID           4906 non-null   int64  \n",
      " 6   entityIso          4906 non-null   object \n",
      " 7   entityName         4906 non-null   object \n",
      " 8   dataValue          4906 non-null   float64\n",
      " 9   dataYear           4906 non-null   int64  \n",
      " 10  dataNote           612 non-null    object \n",
      " 11  dataSource         4449 non-null   object \n",
      " 12  seriesDescription  4906 non-null   object \n",
      "dtypes: float64(2), int64(3), object(8)\n",
      "memory usage: 498.4+ KB\n"
     ]
    }
   ],
   "source": [
    "df.info()"
   ]
  },
  {
   "cell_type": "code",
   "execution_count": 144,
   "id": "c09f5b4e",
   "metadata": {},
   "outputs": [],
   "source": [
    "df = df.drop(columns=[\n",
    "    'seriesID',\n",
    "    'seriesCode',\n",
    "    'seriesName',\n",
    "    'seriesParent',\n",
    "    'seriesUnits',\n",
    "    'entityID',\n",
    "    'entityIso',\n",
    "    'dataNote',\n",
    "    'dataSource',\n",
    "    'seriesDescription'\n",
    "])"
   ]
  },
  {
   "cell_type": "code",
   "execution_count": 145,
   "id": "4a2af793",
   "metadata": {},
   "outputs": [
    {
     "name": "stdout",
     "output_type": "stream",
     "text": [
      "<class 'pandas.core.frame.DataFrame'>\n",
      "RangeIndex: 4906 entries, 0 to 4905\n",
      "Data columns (total 3 columns):\n",
      " #   Column      Non-Null Count  Dtype  \n",
      "---  ------      --------------  -----  \n",
      " 0   entityName  4906 non-null   object \n",
      " 1   dataValue   4906 non-null   float64\n",
      " 2   dataYear    4906 non-null   int64  \n",
      "dtypes: float64(1), int64(1), object(1)\n",
      "memory usage: 115.1+ KB\n"
     ]
    }
   ],
   "source": [
    "df.info()"
   ]
  },
  {
   "cell_type": "code",
   "execution_count": 146,
   "id": "82906c6d",
   "metadata": {},
   "outputs": [],
   "source": [
    "df = df.rename(columns={\n",
    "    'entityName': 'Country',\n",
    "    'dataValue': 'Value',\n",
    "    'dataYear': 'Year'\n",
    "})"
   ]
  },
  {
   "cell_type": "code",
   "execution_count": 147,
   "id": "4e181e5e",
   "metadata": {},
   "outputs": [
    {
     "name": "stdout",
     "output_type": "stream",
     "text": [
      "<class 'pandas.core.frame.DataFrame'>\n",
      "RangeIndex: 4906 entries, 0 to 4905\n",
      "Data columns (total 3 columns):\n",
      " #   Column   Non-Null Count  Dtype  \n",
      "---  ------   --------------  -----  \n",
      " 0   Country  4906 non-null   object \n",
      " 1   Value    4906 non-null   float64\n",
      " 2   Year     4906 non-null   int64  \n",
      "dtypes: float64(1), int64(1), object(1)\n",
      "memory usage: 115.1+ KB\n"
     ]
    }
   ],
   "source": [
    "df.info()"
   ]
  },
  {
   "cell_type": "code",
   "execution_count": 148,
   "id": "8ee2bb24",
   "metadata": {},
   "outputs": [],
   "source": [
    "df_filtered = df.query('Country == \"Brazil\"')"
   ]
  },
  {
   "cell_type": "code",
   "execution_count": 149,
   "id": "221c8c2d",
   "metadata": {},
   "outputs": [
    {
     "data": {
      "application/vnd.microsoft.datawrangler.viewer.v0+json": {
       "columns": [
        {
         "name": "index",
         "rawType": "int64",
         "type": "integer"
        },
        {
         "name": "Country",
         "rawType": "object",
         "type": "string"
        },
        {
         "name": "Value",
         "rawType": "float64",
         "type": "float"
        },
        {
         "name": "Year",
         "rawType": "int64",
         "type": "integer"
        }
       ],
       "ref": "699c4f2f-0cbe-4d71-8138-aac95b6656b8",
       "rows": [
        [
         "0",
         "Brazil",
         "84.1506",
         "2023"
        ],
        [
         "1",
         "Brazil",
         "80.5278",
         "2022"
        ],
        [
         "2",
         "Brazil",
         "80.6899",
         "2021"
        ],
        [
         "3",
         "Brazil",
         "81.3427",
         "2020"
        ],
        [
         "4",
         "Brazil",
         "73.9124",
         "2019"
        ],
        [
         "5",
         "Brazil",
         "70.4343",
         "2018"
        ],
        [
         "6",
         "Brazil",
         "67.4713",
         "2017"
        ],
        [
         "7",
         "Brazil",
         "60.8725",
         "2016"
        ],
        [
         "8",
         "Brazil",
         "58.328",
         "2015"
        ],
        [
         "9",
         "Brazil",
         "54.551",
         "2014"
        ],
        [
         "10",
         "Brazil",
         "51.04",
         "2013"
        ],
        [
         "11",
         "Brazil",
         "48.56",
         "2012"
        ],
        [
         "12",
         "Brazil",
         "45.69",
         "2011"
        ],
        [
         "13",
         "Brazil",
         "40.65",
         "2010"
        ],
        [
         "14",
         "Brazil",
         "39.22",
         "2009"
        ],
        [
         "15",
         "Brazil",
         "33.83",
         "2008"
        ],
        [
         "16",
         "Brazil",
         "30.88",
         "2007"
        ],
        [
         "17",
         "Brazil",
         "28.1784",
         "2006"
        ],
        [
         "18",
         "Brazil",
         "21.0227",
         "2005"
        ],
        [
         "19",
         "Brazil",
         "19.0737",
         "2004"
        ],
        [
         "20",
         "Brazil",
         "13.2076",
         "2003"
        ],
        [
         "21",
         "Brazil",
         "9.14943",
         "2002"
        ],
        [
         "22",
         "Brazil",
         "4.52849",
         "2001"
        ],
        [
         "23",
         "Brazil",
         "2.87069",
         "2000"
        ]
       ],
       "shape": {
        "columns": 3,
        "rows": 24
       }
      },
      "text/html": [
       "<div>\n",
       "<style scoped>\n",
       "    .dataframe tbody tr th:only-of-type {\n",
       "        vertical-align: middle;\n",
       "    }\n",
       "\n",
       "    .dataframe tbody tr th {\n",
       "        vertical-align: top;\n",
       "    }\n",
       "\n",
       "    .dataframe thead th {\n",
       "        text-align: right;\n",
       "    }\n",
       "</style>\n",
       "<table border=\"1\" class=\"dataframe\">\n",
       "  <thead>\n",
       "    <tr style=\"text-align: right;\">\n",
       "      <th></th>\n",
       "      <th>Country</th>\n",
       "      <th>Value</th>\n",
       "      <th>Year</th>\n",
       "    </tr>\n",
       "  </thead>\n",
       "  <tbody>\n",
       "    <tr>\n",
       "      <th>0</th>\n",
       "      <td>Brazil</td>\n",
       "      <td>84.15060</td>\n",
       "      <td>2023</td>\n",
       "    </tr>\n",
       "    <tr>\n",
       "      <th>1</th>\n",
       "      <td>Brazil</td>\n",
       "      <td>80.52780</td>\n",
       "      <td>2022</td>\n",
       "    </tr>\n",
       "    <tr>\n",
       "      <th>2</th>\n",
       "      <td>Brazil</td>\n",
       "      <td>80.68990</td>\n",
       "      <td>2021</td>\n",
       "    </tr>\n",
       "    <tr>\n",
       "      <th>3</th>\n",
       "      <td>Brazil</td>\n",
       "      <td>81.34270</td>\n",
       "      <td>2020</td>\n",
       "    </tr>\n",
       "    <tr>\n",
       "      <th>4</th>\n",
       "      <td>Brazil</td>\n",
       "      <td>73.91240</td>\n",
       "      <td>2019</td>\n",
       "    </tr>\n",
       "    <tr>\n",
       "      <th>5</th>\n",
       "      <td>Brazil</td>\n",
       "      <td>70.43430</td>\n",
       "      <td>2018</td>\n",
       "    </tr>\n",
       "    <tr>\n",
       "      <th>6</th>\n",
       "      <td>Brazil</td>\n",
       "      <td>67.47130</td>\n",
       "      <td>2017</td>\n",
       "    </tr>\n",
       "    <tr>\n",
       "      <th>7</th>\n",
       "      <td>Brazil</td>\n",
       "      <td>60.87250</td>\n",
       "      <td>2016</td>\n",
       "    </tr>\n",
       "    <tr>\n",
       "      <th>8</th>\n",
       "      <td>Brazil</td>\n",
       "      <td>58.32800</td>\n",
       "      <td>2015</td>\n",
       "    </tr>\n",
       "    <tr>\n",
       "      <th>9</th>\n",
       "      <td>Brazil</td>\n",
       "      <td>54.55100</td>\n",
       "      <td>2014</td>\n",
       "    </tr>\n",
       "    <tr>\n",
       "      <th>10</th>\n",
       "      <td>Brazil</td>\n",
       "      <td>51.04000</td>\n",
       "      <td>2013</td>\n",
       "    </tr>\n",
       "    <tr>\n",
       "      <th>11</th>\n",
       "      <td>Brazil</td>\n",
       "      <td>48.56000</td>\n",
       "      <td>2012</td>\n",
       "    </tr>\n",
       "    <tr>\n",
       "      <th>12</th>\n",
       "      <td>Brazil</td>\n",
       "      <td>45.69000</td>\n",
       "      <td>2011</td>\n",
       "    </tr>\n",
       "    <tr>\n",
       "      <th>13</th>\n",
       "      <td>Brazil</td>\n",
       "      <td>40.65000</td>\n",
       "      <td>2010</td>\n",
       "    </tr>\n",
       "    <tr>\n",
       "      <th>14</th>\n",
       "      <td>Brazil</td>\n",
       "      <td>39.22000</td>\n",
       "      <td>2009</td>\n",
       "    </tr>\n",
       "    <tr>\n",
       "      <th>15</th>\n",
       "      <td>Brazil</td>\n",
       "      <td>33.83000</td>\n",
       "      <td>2008</td>\n",
       "    </tr>\n",
       "    <tr>\n",
       "      <th>16</th>\n",
       "      <td>Brazil</td>\n",
       "      <td>30.88000</td>\n",
       "      <td>2007</td>\n",
       "    </tr>\n",
       "    <tr>\n",
       "      <th>17</th>\n",
       "      <td>Brazil</td>\n",
       "      <td>28.17840</td>\n",
       "      <td>2006</td>\n",
       "    </tr>\n",
       "    <tr>\n",
       "      <th>18</th>\n",
       "      <td>Brazil</td>\n",
       "      <td>21.02270</td>\n",
       "      <td>2005</td>\n",
       "    </tr>\n",
       "    <tr>\n",
       "      <th>19</th>\n",
       "      <td>Brazil</td>\n",
       "      <td>19.07370</td>\n",
       "      <td>2004</td>\n",
       "    </tr>\n",
       "    <tr>\n",
       "      <th>20</th>\n",
       "      <td>Brazil</td>\n",
       "      <td>13.20760</td>\n",
       "      <td>2003</td>\n",
       "    </tr>\n",
       "    <tr>\n",
       "      <th>21</th>\n",
       "      <td>Brazil</td>\n",
       "      <td>9.14943</td>\n",
       "      <td>2002</td>\n",
       "    </tr>\n",
       "    <tr>\n",
       "      <th>22</th>\n",
       "      <td>Brazil</td>\n",
       "      <td>4.52849</td>\n",
       "      <td>2001</td>\n",
       "    </tr>\n",
       "    <tr>\n",
       "      <th>23</th>\n",
       "      <td>Brazil</td>\n",
       "      <td>2.87069</td>\n",
       "      <td>2000</td>\n",
       "    </tr>\n",
       "  </tbody>\n",
       "</table>\n",
       "</div>"
      ],
      "text/plain": [
       "   Country     Value  Year\n",
       "0   Brazil  84.15060  2023\n",
       "1   Brazil  80.52780  2022\n",
       "2   Brazil  80.68990  2021\n",
       "3   Brazil  81.34270  2020\n",
       "4   Brazil  73.91240  2019\n",
       "5   Brazil  70.43430  2018\n",
       "6   Brazil  67.47130  2017\n",
       "7   Brazil  60.87250  2016\n",
       "8   Brazil  58.32800  2015\n",
       "9   Brazil  54.55100  2014\n",
       "10  Brazil  51.04000  2013\n",
       "11  Brazil  48.56000  2012\n",
       "12  Brazil  45.69000  2011\n",
       "13  Brazil  40.65000  2010\n",
       "14  Brazil  39.22000  2009\n",
       "15  Brazil  33.83000  2008\n",
       "16  Brazil  30.88000  2007\n",
       "17  Brazil  28.17840  2006\n",
       "18  Brazil  21.02270  2005\n",
       "19  Brazil  19.07370  2004\n",
       "20  Brazil  13.20760  2003\n",
       "21  Brazil   9.14943  2002\n",
       "22  Brazil   4.52849  2001\n",
       "23  Brazil   2.87069  2000"
      ]
     },
     "execution_count": 149,
     "metadata": {},
     "output_type": "execute_result"
    }
   ],
   "source": [
    "df_sorted = df_filtered.sort_values(by='Year', ascending=False).reset_index(drop=True)\n",
    "df_sorted"
   ]
  },
  {
   "cell_type": "code",
   "execution_count": 150,
   "id": "79f48f8c",
   "metadata": {},
   "outputs": [
    {
     "data": {
      "image/png": "[encoded data removed]",
      "text/plain": [
       "<Figure size 1000x600 with 1 Axes>"
      ]
     },
     "metadata": {},
     "output_type": "display_data"
    }
   ],
   "source": [
    "fig, ax = plt.subplots(figsize=(10, 6))\n",
    "\n",
    "sns.barplot(data=df_sorted, y='Year', x='Value', orient='h')\n",
    "\n",
    "ax.bar_label(ax.containers[0], fmt='%.2f%%')\n",
    "ax.set_title('Use of Internet In Brazil (2000-2023)', fontweight='bold')\n",
    "sns.despine(bottom=True)\n",
    "ax.xaxis.set_visible(False)\n",
    "plt.tight_layout()\n",
    "plt.show()"
   ]
  }
 ],
 "metadata": {
  "kernelspec": {
   "display_name": "Python 3",
   "language": "python",
   "name": "python3"
  },
  "language_info": {
   "codemirror_mode": {
    "name": "ipython",
    "version": 3
   },
   "file_extension": ".py",
   "mimetype": "text/x-python",
   "name": "python",
   "nbconvert_exporter": "python",
   "pygments_lexer": "ipython3",
   "version": "3.13.5"
  }
 },
 "nbformat": 4,
 "nbformat_minor": 5
}
