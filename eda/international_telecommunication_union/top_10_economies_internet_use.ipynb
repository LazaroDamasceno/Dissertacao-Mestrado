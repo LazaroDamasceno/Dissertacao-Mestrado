{
 "cells": [
  {
   "cell_type": "code",
   "execution_count": 27,
   "id": "93eaf9bb",
   "metadata": {},
   "outputs": [],
   "source": [
    "import pandas as pd"
   ]
  },
  {
   "cell_type": "code",
   "execution_count": 28,
   "id": "749fd2f0",
   "metadata": {},
   "outputs": [],
   "source": [
    "df = pd.read_csv('individuals-using-the-internet.csv')"
   ]
  },
  {
   "cell_type": "code",
   "execution_count": 29,
   "id": "c6795612",
   "metadata": {},
   "outputs": [
    {
     "name": "stdout",
     "output_type": "stream",
     "text": [
      "<class 'pandas.core.frame.DataFrame'>\n",
      "RangeIndex: 4906 entries, 0 to 4905\n",
      "Data columns (total 13 columns):\n",
      " #   Column             Non-Null Count  Dtype  \n",
      "---  ------             --------------  -----  \n",
      " 0   seriesID           4906 non-null   int64  \n",
      " 1   seriesCode         4906 non-null   object \n",
      " 2   seriesName         4906 non-null   object \n",
      " 3   seriesParent       0 non-null      float64\n",
      " 4   seriesUnits        4906 non-null   object \n",
      " 5   entityID           4906 non-null   int64  \n",
      " 6   entityIso          4906 non-null   object \n",
      " 7   entityName         4906 non-null   object \n",
      " 8   dataValue          4906 non-null   float64\n",
      " 9   dataYear           4906 non-null   int64  \n",
      " 10  dataNote           612 non-null    object \n",
      " 11  dataSource         4449 non-null   object \n",
      " 12  seriesDescription  4906 non-null   object \n",
      "dtypes: float64(2), int64(3), object(8)\n",
      "memory usage: 498.4+ KB\n"
     ]
    }
   ],
   "source": [
    "df.info()"
   ]
  },
  {
   "cell_type": "code",
   "execution_count": 30,
   "id": "6dab0610",
   "metadata": {},
   "outputs": [],
   "source": [
    "df = df.drop(columns=[\n",
    "    'seriesID',\n",
    "    'seriesCode',\n",
    "    'seriesName',\n",
    "    'seriesParent',\n",
    "    'seriesUnits',\n",
    "    'entityID',\n",
    "    'entityIso',\n",
    "    'dataNote',\n",
    "    'dataSource',\n",
    "    'seriesDescription'\n",
    "])"
   ]
  },
  {
   "cell_type": "code",
   "execution_count": 31,
   "id": "dc03dfd8",
   "metadata": {},
   "outputs": [
    {
     "name": "stdout",
     "output_type": "stream",
     "text": [
      "<class 'pandas.core.frame.DataFrame'>\n",
      "RangeIndex: 4906 entries, 0 to 4905\n",
      "Data columns (total 3 columns):\n",
      " #   Column      Non-Null Count  Dtype  \n",
      "---  ------      --------------  -----  \n",
      " 0   entityName  4906 non-null   object \n",
      " 1   dataValue   4906 non-null   float64\n",
      " 2   dataYear    4906 non-null   int64  \n",
      "dtypes: float64(1), int64(1), object(1)\n",
      "memory usage: 115.1+ KB\n"
     ]
    }
   ],
   "source": [
    "df.info()"
   ]
  },
  {
   "cell_type": "code",
   "execution_count": 32,
   "id": "a9454293",
   "metadata": {},
   "outputs": [],
   "source": [
    "df = df.rename(columns={\n",
    "    'entityName': 'Country',\n",
    "    'dataValue': 'Value',\n",
    "    'dataYear': 'Year'\n",
    "})"
   ]
  },
  {
   "cell_type": "code",
   "execution_count": 33,
   "id": "4c6154f5",
   "metadata": {},
   "outputs": [
    {
     "name": "stdout",
     "output_type": "stream",
     "text": [
      "<class 'pandas.core.frame.DataFrame'>\n",
      "RangeIndex: 4906 entries, 0 to 4905\n",
      "Data columns (total 3 columns):\n",
      " #   Column   Non-Null Count  Dtype  \n",
      "---  ------   --------------  -----  \n",
      " 0   Country  4906 non-null   object \n",
      " 1   Value    4906 non-null   float64\n",
      " 2   Year     4906 non-null   int64  \n",
      "dtypes: float64(1), int64(1), object(1)\n",
      "memory usage: 115.1+ KB\n"
     ]
    }
   ],
   "source": [
    "df.info()"
   ]
  },
  {
   "cell_type": "code",
   "execution_count": 34,
   "id": "e6ba8bc5",
   "metadata": {},
   "outputs": [
    {
     "data": {
      "application/vnd.microsoft.datawrangler.viewer.v0+json": {
       "columns": [
        {
         "name": "index",
         "rawType": "object",
         "type": "string"
        },
        {
         "name": "0",
         "rawType": "int64",
         "type": "integer"
        }
       ],
       "ref": "223d263b-4a4c-4dd6-8210-05eef751d9ea",
       "rows": [
        [
         "Country",
         "0"
        ],
        [
         "Value",
         "0"
        ],
        [
         "Year",
         "0"
        ]
       ],
       "shape": {
        "columns": 1,
        "rows": 3
       }
      },
      "text/plain": [
       "Country    0\n",
       "Value      0\n",
       "Year       0\n",
       "dtype: int64"
      ]
     },
     "execution_count": 34,
     "metadata": {},
     "output_type": "execute_result"
    }
   ],
   "source": [
    "df.isna().sum()"
   ]
  },
  {
   "cell_type": "code",
   "execution_count": 35,
   "id": "ce4c3aa6",
   "metadata": {},
   "outputs": [
    {
     "data": {
      "application/vnd.microsoft.datawrangler.viewer.v0+json": {
       "columns": [
        {
         "name": "index",
         "rawType": "int64",
         "type": "integer"
        },
        {
         "name": "Country",
         "rawType": "object",
         "type": "string"
        },
        {
         "name": "Value",
         "rawType": "float64",
         "type": "float"
        },
        {
         "name": "Year",
         "rawType": "int64",
         "type": "integer"
        }
       ],
       "ref": "3b14a09b-37c6-41e9-aa01-90c8855149a5",
       "rows": [
        [
         "0",
         "Aruba",
         "15.4428",
         "2000"
        ],
        [
         "1",
         "Aruba",
         "17.1",
         "2001"
        ],
        [
         "2",
         "Aruba",
         "18.8",
         "2002"
        ],
        [
         "3",
         "Aruba",
         "20.8",
         "2003"
        ],
        [
         "4",
         "Aruba",
         "23.0",
         "2004"
        ],
        [
         "5",
         "Aruba",
         "25.4",
         "2005"
        ],
        [
         "6",
         "Aruba",
         "28.0",
         "2006"
        ],
        [
         "7",
         "Aruba",
         "30.9",
         "2007"
        ],
        [
         "8",
         "Aruba",
         "52.0",
         "2008"
        ],
        [
         "9",
         "Aruba",
         "58.0",
         "2009"
        ],
        [
         "10",
         "Aruba",
         "62.0",
         "2010"
        ],
        [
         "11",
         "Aruba",
         "69.0",
         "2011"
        ],
        [
         "12",
         "Aruba",
         "74.0",
         "2012"
        ],
        [
         "13",
         "Aruba",
         "78.9",
         "2013"
        ],
        [
         "14",
         "Aruba",
         "83.78",
         "2014"
        ],
        [
         "15",
         "Aruba",
         "88.6612",
         "2015"
        ],
        [
         "16",
         "Aruba",
         "93.5425",
         "2016"
        ],
        [
         "17",
         "Aruba",
         "97.17",
         "2017"
        ],
        [
         "18",
         "Afghanistan",
         "0.00472257",
         "2001"
        ],
        [
         "19",
         "Afghanistan",
         "0.0045614",
         "2002"
        ],
        [
         "20",
         "Afghanistan",
         "0.0878913",
         "2003"
        ],
        [
         "21",
         "Afghanistan",
         "0.105809",
         "2004"
        ],
        [
         "22",
         "Afghanistan",
         "1.22415",
         "2005"
        ],
        [
         "23",
         "Afghanistan",
         "2.10712",
         "2006"
        ],
        [
         "24",
         "Afghanistan",
         "1.9",
         "2007"
        ],
        [
         "25",
         "Afghanistan",
         "1.84",
         "2008"
        ],
        [
         "26",
         "Afghanistan",
         "3.55",
         "2009"
        ],
        [
         "27",
         "Afghanistan",
         "4.0",
         "2010"
        ],
        [
         "28",
         "Afghanistan",
         "5.0",
         "2011"
        ],
        [
         "29",
         "Afghanistan",
         "5.45455",
         "2012"
        ],
        [
         "30",
         "Afghanistan",
         "5.9",
         "2013"
        ],
        [
         "31",
         "Afghanistan",
         "7.0",
         "2014"
        ],
        [
         "32",
         "Afghanistan",
         "8.26",
         "2015"
        ],
        [
         "33",
         "Afghanistan",
         "11.0",
         "2016"
        ],
        [
         "34",
         "Afghanistan",
         "13.5",
         "2017"
        ],
        [
         "35",
         "Afghanistan",
         "16.8",
         "2018"
        ],
        [
         "36",
         "Afghanistan",
         "17.6",
         "2019"
        ],
        [
         "37",
         "Afghanistan",
         "17.0485",
         "2020"
        ],
        [
         "38",
         "Afghanistan",
         "16.5143",
         "2021"
        ],
        [
         "39",
         "Afghanistan",
         "17.1917",
         "2022"
        ],
        [
         "40",
         "Afghanistan",
         "17.7089",
         "2023"
        ],
        [
         "41",
         "South Africa",
         "5.34856",
         "2000"
        ],
        [
         "42",
         "South Africa",
         "6.34662",
         "2001"
        ],
        [
         "43",
         "South Africa",
         "6.71032",
         "2002"
        ],
        [
         "44",
         "South Africa",
         "7.00769",
         "2003"
        ],
        [
         "45",
         "South Africa",
         "8.42512",
         "2004"
        ],
        [
         "46",
         "South Africa",
         "7.48854",
         "2005"
        ],
        [
         "47",
         "South Africa",
         "7.60714",
         "2006"
        ],
        [
         "48",
         "South Africa",
         "8.06538",
         "2007"
        ],
        [
         "49",
         "South Africa",
         "8.43",
         "2008"
        ]
       ],
       "shape": {
        "columns": 3,
        "rows": 4906
       }
      },
      "text/html": [
       "<div>\n",
       "<style scoped>\n",
       "    .dataframe tbody tr th:only-of-type {\n",
       "        vertical-align: middle;\n",
       "    }\n",
       "\n",
       "    .dataframe tbody tr th {\n",
       "        vertical-align: top;\n",
       "    }\n",
       "\n",
       "    .dataframe thead th {\n",
       "        text-align: right;\n",
       "    }\n",
       "</style>\n",
       "<table border=\"1\" class=\"dataframe\">\n",
       "  <thead>\n",
       "    <tr style=\"text-align: right;\">\n",
       "      <th></th>\n",
       "      <th>Country</th>\n",
       "      <th>Value</th>\n",
       "      <th>Year</th>\n",
       "    </tr>\n",
       "  </thead>\n",
       "  <tbody>\n",
       "    <tr>\n",
       "      <th>0</th>\n",
       "      <td>Aruba</td>\n",
       "      <td>15.44280</td>\n",
       "      <td>2000</td>\n",
       "    </tr>\n",
       "    <tr>\n",
       "      <th>1</th>\n",
       "      <td>Aruba</td>\n",
       "      <td>17.10000</td>\n",
       "      <td>2001</td>\n",
       "    </tr>\n",
       "    <tr>\n",
       "      <th>2</th>\n",
       "      <td>Aruba</td>\n",
       "      <td>18.80000</td>\n",
       "      <td>2002</td>\n",
       "    </tr>\n",
       "    <tr>\n",
       "      <th>3</th>\n",
       "      <td>Aruba</td>\n",
       "      <td>20.80000</td>\n",
       "      <td>2003</td>\n",
       "    </tr>\n",
       "    <tr>\n",
       "      <th>4</th>\n",
       "      <td>Aruba</td>\n",
       "      <td>23.00000</td>\n",
       "      <td>2004</td>\n",
       "    </tr>\n",
       "    <tr>\n",
       "      <th>...</th>\n",
       "      <td>...</td>\n",
       "      <td>...</td>\n",
       "      <td>...</td>\n",
       "    </tr>\n",
       "    <tr>\n",
       "      <th>4901</th>\n",
       "      <td>South Sudan</td>\n",
       "      <td>4.80000</td>\n",
       "      <td>2018</td>\n",
       "    </tr>\n",
       "    <tr>\n",
       "      <th>4902</th>\n",
       "      <td>South Sudan</td>\n",
       "      <td>6.70000</td>\n",
       "      <td>2019</td>\n",
       "    </tr>\n",
       "    <tr>\n",
       "      <th>4903</th>\n",
       "      <td>South Sudan</td>\n",
       "      <td>9.27123</td>\n",
       "      <td>2020</td>\n",
       "    </tr>\n",
       "    <tr>\n",
       "      <th>4904</th>\n",
       "      <td>Curacao</td>\n",
       "      <td>61.85550</td>\n",
       "      <td>2016</td>\n",
       "    </tr>\n",
       "    <tr>\n",
       "      <th>4905</th>\n",
       "      <td>Curacao</td>\n",
       "      <td>68.12720</td>\n",
       "      <td>2017</td>\n",
       "    </tr>\n",
       "  </tbody>\n",
       "</table>\n",
       "<p>4906 rows × 3 columns</p>\n",
       "</div>"
      ],
      "text/plain": [
       "          Country     Value  Year\n",
       "0           Aruba  15.44280  2000\n",
       "1           Aruba  17.10000  2001\n",
       "2           Aruba  18.80000  2002\n",
       "3           Aruba  20.80000  2003\n",
       "4           Aruba  23.00000  2004\n",
       "...           ...       ...   ...\n",
       "4901  South Sudan   4.80000  2018\n",
       "4902  South Sudan   6.70000  2019\n",
       "4903  South Sudan   9.27123  2020\n",
       "4904      Curacao  61.85550  2016\n",
       "4905      Curacao  68.12720  2017\n",
       "\n",
       "[4906 rows x 3 columns]"
      ]
     },
     "execution_count": 35,
     "metadata": {},
     "output_type": "execute_result"
    }
   ],
   "source": [
    "df"
   ]
  }
 ],
 "metadata": {
  "kernelspec": {
   "display_name": "Python 3",
   "language": "python",
   "name": "python3"
  },
  "language_info": {
   "codemirror_mode": {
    "name": "ipython",
    "version": 3
   },
   "file_extension": ".py",
   "mimetype": "text/x-python",
   "name": "python",
   "nbconvert_exporter": "python",
   "pygments_lexer": "ipython3",
   "version": "3.13.5"
  }
 },
 "nbformat": 4,
 "nbformat_minor": 5
}
