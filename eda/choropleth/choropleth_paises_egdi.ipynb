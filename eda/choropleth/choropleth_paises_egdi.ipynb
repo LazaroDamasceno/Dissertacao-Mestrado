{
 "cells": [
  {
   "cell_type": "code",
   "execution_count": 53,
   "id": "3a249428",
   "metadata": {},
   "outputs": [],
   "source": [
    "import geopandas\n",
    "import pandas as pd\n",
    "import requests"
   ]
  },
  {
   "cell_type": "markdown",
   "id": "d00a6bdb",
   "metadata": {},
   "source": []
  },
  {
   "cell_type": "code",
   "execution_count": 54,
   "id": "cbdd9100",
   "metadata": {},
   "outputs": [],
   "source": [
    "request = requests.get('https://r2.datahub.io/clvyjaryy0000la0cxieg4o8o/main/raw/data/countries.geojson')"
   ]
  },
  {
   "cell_type": "code",
   "execution_count": 55,
   "id": "b7ae113c",
   "metadata": {},
   "outputs": [],
   "source": [
    "gdf = geopandas.read_file(request.content)"
   ]
  },
  {
   "cell_type": "code",
   "execution_count": 56,
   "id": "e57db9b3",
   "metadata": {},
   "outputs": [],
   "source": [
    "gdf = gdf.sort_values(by='name', ascending=True).reset_index(drop=True)"
   ]
  },
  {
   "cell_type": "markdown",
   "id": "50849f79",
   "metadata": {},
   "source": []
  },
  {
   "cell_type": "code",
   "execution_count": 57,
   "id": "069a1f67",
   "metadata": {},
   "outputs": [],
   "source": [
    "egov = pd.read_csv('EGOV_DATA_2024.csv')"
   ]
  },
  {
   "cell_type": "code",
   "execution_count": 58,
   "id": "89542968",
   "metadata": {},
   "outputs": [],
   "source": [
    "paises = egov['Country Name'].unique().tolist()"
   ]
  },
  {
   "cell_type": "markdown",
   "id": "88d8087e",
   "metadata": {},
   "source": []
  },
  {
   "cell_type": "code",
   "execution_count": null,
   "id": "8181c173",
   "metadata": {},
   "outputs": [],
   "source": [
    "nomes_paises = {\n",
    "    'The Bahamas': 'Bahamas',\n",
    "    'Brunei': 'Brunei Darussalam',\n",
    "    'Republic of the Congo': 'Congo',\n",
    "    'Czechia': 'Czech Republic',\n",
    "    'Syria': 'Syrian Arab Republic',\n",
    "    'Turkey': 'Türkiye',\n",
    "    'Russia': 'Russian Federation',\n",
    "    'Federated States of Micronesia': 'Micronesia (Federated States of)',\n",
    "    'North Korea': \"Democratic People's Republic of Korea\",\n",
    "    'Georgia': 'Georgia (Country)',\n",
    "    'South Korea': 'Republic of Korea',\n",
    "    'Moldova': 'Republic of Moldova',\n",
    "    'East Timor': 'Timor-Leste',\n",
    "    'Vietnam': 'Viet Nam',\n",
    "    'United Kingdom': 'United Kingdom of Great Britain and Northern Ireland',\n",
    "    'Republic of Serbia': 'Serbia',\n",
    "    'Laos': \"Lao People's Democratic Republic\",\n",
    "    'Iran': 'Iran (Islamic Republic of)',\n",
    "    'Ivory Coast': \"Côte d'Ivoire\"\n",
    "}"
   ]
  },
  {
   "cell_type": "code",
   "execution_count": 60,
   "id": "4e14ac89",
   "metadata": {},
   "outputs": [],
   "source": [
    "gdf['name'] = gdf['name'].replace(nomes_paises)"
   ]
  },
  {
   "cell_type": "code",
   "execution_count": 61,
   "id": "22cbdbb7",
   "metadata": {},
   "outputs": [
    {
     "data": {
      "text/plain": [
       "{\"Côte d'Ivoire\", 'Eswatini', 'Sao Tome and Principe'}"
      ]
     },
     "execution_count": 61,
     "metadata": {},
     "output_type": "execute_result"
    }
   ],
   "source": [
    "set(egov['Country Name']).difference(gdf['name'])"
   ]
  }
 ],
 "metadata": {
  "kernelspec": {
   "display_name": "Python 3",
   "language": "python",
   "name": "python3"
  },
  "language_info": {
   "codemirror_mode": {
    "name": "ipython",
    "version": 3
   },
   "file_extension": ".py",
   "mimetype": "text/x-python",
   "name": "python",
   "nbconvert_exporter": "python",
   "pygments_lexer": "ipython3",
   "version": "3.13.5"
  }
 },
 "nbformat": 4,
 "nbformat_minor": 5
}
