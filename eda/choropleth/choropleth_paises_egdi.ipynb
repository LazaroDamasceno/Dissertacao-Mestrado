{
 "cells": [
  {
   "cell_type": "code",
   "execution_count": null,
   "id": "3a249428",
   "metadata": {},
   "outputs": [],
   "source": [
    "import json\n",
    "import geopandas\n",
    "from shapely.geometry import Point"
   ]
  },
  {
   "cell_type": "code",
   "execution_count": null,
   "id": "8988aaf7",
   "metadata": {},
   "outputs": [],
   "source": [
    "with open('countries.json', 'r') as data:\n",
    "    geo_data = json.load(data)"
   ]
  },
  {
   "cell_type": "code",
   "execution_count": null,
   "id": "4bd85a4b",
   "metadata": {},
   "outputs": [],
   "source": [
    "geometry = [Point(d['longitude'], d['latitude']) for d in geo_data]\n",
    "\n",
    "gdf = geopandas.GeoDataFrame(geo_data, geometry=geometry)\n",
    "\n",
    "gdf.set_crs(\"EPSG:4326\", inplace=True)\n",
    "\n",
    "gdf.head()"
   ]
  }
 ],
 "metadata": {
  "kernelspec": {
   "display_name": "Python 3",
   "language": "python",
   "name": "python3"
  },
  "language_info": {
   "codemirror_mode": {
    "name": "ipython",
    "version": 3
   },
   "file_extension": ".py",
   "mimetype": "text/x-python",
   "name": "python",
   "nbconvert_exporter": "python",
   "pygments_lexer": "ipython3",
   "version": "3.13.5"
  }
 },
 "nbformat": 4,
 "nbformat_minor": 5
}
