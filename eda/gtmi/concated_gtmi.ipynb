{
 "cells": [
  {
   "cell_type": "code",
   "execution_count": 1,
   "id": "6d029e2d",
   "metadata": {},
   "outputs": [],
   "source": [
    "import pandas as pd"
   ]
  },
  {
   "cell_type": "code",
   "execution_count": 2,
   "id": "37e07d56",
   "metadata": {},
   "outputs": [],
   "source": [
    "df_cgs = pd.read_csv('GTMI_Core_Government_System_Index.csv')\n",
    "df_dce = pd.read_csv('GTMI_Digital_Citizen_Engagement_Index.csv')\n",
    "df_gte = pd.read_csv('GTMI_GovTech_Enablers_Index.csv')\n",
    "df_overall_score = pd.read_csv('GTMI_Overall_Score_Index.csv')\n",
    "df_psd = pd.read_csv('GTMI_Public_Service_Delivery_Index.csv')"
   ]
  },
  {
   "cell_type": "code",
   "execution_count": 3,
   "id": "c2d4ec4c",
   "metadata": {},
   "outputs": [],
   "source": [
    "df_cgs = df_cgs.drop(columns=[\n",
    "    'FREQ',\n",
    "    'FREQ_LABEL',\n",
    "    'REF_AREA',\n",
    "    'INDICATOR',\n",
    "    'INDICATOR_LABEL',\n",
    "    'UNIT_MEASURE',\n",
    "    'UNIT_MEASURE_LABEL',\n",
    "    'DATABASE_ID',\n",
    "    'DATABASE_ID_LABEL',\n",
    "    'UNIT_MULT',\n",
    "    'UNIT_MULT_LABEL',\n",
    "    'OBS_STATUS',\n",
    "    'OBS_STATUS_LABEL',\n",
    "    'OBS_CONF',\n",
    "    'OBS_CONF_LABEL'\n",
    "])\n",
    "df_cgs = df_cgs.rename(columns={'2022': 'Core Government System Index'})\n",
    "df_cgs = df_cgs.rename(columns={'REF_AREA_LABEL': 'Country'})"
   ]
  },
  {
   "cell_type": "code",
   "execution_count": 4,
   "id": "3839392f",
   "metadata": {},
   "outputs": [],
   "source": [
    "df_dce = df_dce.drop(columns=[\n",
    "    'FREQ',\n",
    "    'FREQ_LABEL',\n",
    "    'REF_AREA',\n",
    "    'INDICATOR',\n",
    "    'INDICATOR_LABEL',\n",
    "    'UNIT_MEASURE',\n",
    "    'UNIT_MEASURE_LABEL',\n",
    "    'DATABASE_ID',\n",
    "    'DATABASE_ID_LABEL',\n",
    "    'UNIT_MULT',\n",
    "    'UNIT_MULT_LABEL',\n",
    "    'OBS_STATUS',\n",
    "    'OBS_STATUS_LABEL',\n",
    "    'OBS_CONF',\n",
    "    'OBS_CONF_LABEL'\n",
    "])\n",
    "df_dce = df_dce.rename(columns={'2022': 'Digital Citizen Engagement Index'})\n",
    "df_dce = df_dce.rename(columns={'REF_AREA_LABEL': 'Country'})"
   ]
  },
  {
   "cell_type": "code",
   "execution_count": 5,
   "id": "c5eae63a",
   "metadata": {},
   "outputs": [],
   "source": [
    "df_gte = df_gte.drop(columns=[\n",
    "    'FREQ',\n",
    "    'FREQ_LABEL',\n",
    "    'REF_AREA',\n",
    "    'INDICATOR',\n",
    "    'INDICATOR_LABEL',\n",
    "    'UNIT_MEASURE',\n",
    "    'UNIT_MEASURE_LABEL',\n",
    "    'DATABASE_ID',\n",
    "    'DATABASE_ID_LABEL',\n",
    "    'UNIT_MULT',\n",
    "    'UNIT_MULT_LABEL',\n",
    "    'OBS_STATUS',\n",
    "    'OBS_STATUS_LABEL',\n",
    "    'OBS_CONF',\n",
    "    'OBS_CONF_LABEL'\n",
    "])\n",
    "df_gte = df_gte.rename(columns={'2022': 'GovTech Enablers Index'})\n",
    "df_gte = df_gte.rename(columns={'REF_AREA_LABEL': 'Country'})"
   ]
  },
  {
   "cell_type": "code",
   "execution_count": 6,
   "id": "19401b2e",
   "metadata": {},
   "outputs": [],
   "source": [
    "df_overall_score = df_overall_score.drop(columns=[\n",
    "    'FREQ',\n",
    "    'FREQ_LABEL',\n",
    "    'REF_AREA',\n",
    "    'INDICATOR',\n",
    "    'INDICATOR_LABEL',\n",
    "    'UNIT_MEASURE',\n",
    "    'UNIT_MEASURE_LABEL',\n",
    "    'DATABASE_ID',\n",
    "    'DATABASE_ID_LABEL',\n",
    "    'UNIT_MULT',\n",
    "    'UNIT_MULT_LABEL',\n",
    "    'OBS_STATUS',\n",
    "    'OBS_STATUS_LABEL',\n",
    "    'OBS_CONF',\n",
    "    'OBS_CONF_LABEL'\n",
    "])\n",
    "df_overall_score = df_overall_score.rename(columns={'2022': 'Overall Score Index'})\n",
    "df_overall_score = df_overall_score.rename(columns={'REF_AREA_LABEL': 'Country'})"
   ]
  },
  {
   "cell_type": "code",
   "execution_count": 7,
   "id": "e2ad29c7",
   "metadata": {},
   "outputs": [],
   "source": [
    "df_psd = df_psd.drop(columns=[\n",
    "    'FREQ',\n",
    "    'FREQ_LABEL',\n",
    "    'REF_AREA',\n",
    "    'INDICATOR',\n",
    "    'INDICATOR_LABEL',\n",
    "    'UNIT_MEASURE',\n",
    "    'UNIT_MEASURE_LABEL',\n",
    "    'DATABASE_ID',\n",
    "    'DATABASE_ID_LABEL',\n",
    "    'UNIT_MULT',\n",
    "    'UNIT_MULT_LABEL',\n",
    "    'OBS_STATUS',\n",
    "    'OBS_STATUS_LABEL',\n",
    "    'OBS_CONF',\n",
    "    'OBS_CONF_LABEL'\n",
    "])\n",
    "df_psd = df_psd.rename(columns={'2022': 'Public Service Delivery Index'})\n",
    "df_psd = df_psd.rename(columns={'REF_AREA_LABEL': 'Country'})"
   ]
  },
  {
   "cell_type": "code",
   "execution_count": 8,
   "id": "3d5bfa00",
   "metadata": {},
   "outputs": [],
   "source": [
    "new_df = pd.concat([\n",
    "    df_cgs,\n",
    "    df_dce['Digital Citizen Engagement Index'],\n",
    "    df_gte['GovTech Enablers Index'],\n",
    "    df_overall_score['Overall Score Index'],\n",
    "    df_psd['Public Service Delivery Index'],\n",
    "], axis=1)"
   ]
  },
  {
   "cell_type": "code",
   "execution_count": 9,
   "id": "086153b1",
   "metadata": {},
   "outputs": [],
   "source": [
    "new_df.to_csv('concated_gtmi.csv')"
   ]
  }
 ],
 "metadata": {
  "kernelspec": {
   "display_name": "Python 3",
   "language": "python",
   "name": "python3"
  },
  "language_info": {
   "codemirror_mode": {
    "name": "ipython",
    "version": 3
   },
   "file_extension": ".py",
   "mimetype": "text/x-python",
   "name": "python",
   "nbconvert_exporter": "python",
   "pygments_lexer": "ipython3",
   "version": "3.13.5"
  }
 },
 "nbformat": 4,
 "nbformat_minor": 5
}
