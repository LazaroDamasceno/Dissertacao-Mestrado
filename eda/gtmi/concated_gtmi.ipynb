{
 "cells": [
  {
   "cell_type": "code",
   "execution_count": 1,
   "id": "6d029e2d",
   "metadata": {},
   "outputs": [],
   "source": [
    "import pandas as pd"
   ]
  },
  {
   "cell_type": "code",
   "execution_count": 2,
   "id": "37e07d56",
   "metadata": {},
   "outputs": [],
   "source": [
    "df_cgs = pd.read_csv('GTMI_Core_Government_System_Index.csv')\n",
    "df_dce = pd.read_csv('GTMI_Digital_Citizen_Engagement_Index.csv')\n",
    "df_gte = pd.read_csv('GTMI_GovTech_Enablers_Index.csv')\n",
    "df_overall_score = pd.read_csv('GTMI_Overall_Score_Index.csv')\n",
    "df_psd = pd.read_csv('GTMI_Public_Service_Delivery_Index.csv')"
   ]
  },
  {
   "cell_type": "code",
   "execution_count": 3,
   "id": "c2d4ec4c",
   "metadata": {},
   "outputs": [],
   "source": [
    "df_cgs = df_cgs.drop(columns=[\n",
    "    'FREQ',\n",
    "    'FREQ_LABEL',\n",
    "    'REF_AREA',\n",
    "    'INDICATOR',\n",
    "    'INDICATOR_LABEL',\n",
    "    'UNIT_MEASURE',\n",
    "    'UNIT_MEASURE_LABEL',\n",
    "    'DATABASE_ID',\n",
    "    'DATABASE_ID_LABEL',\n",
    "    'UNIT_MULT',\n",
    "    'UNIT_MULT_LABEL',\n",
    "    'OBS_STATUS',\n",
    "    'OBS_STATUS_LABEL',\n",
    "    'OBS_CONF',\n",
    "    'OBS_CONF_LABEL'\n",
    "])\n",
    "df_cgs = df_cgs.rename(columns={'2022': 'Core Government System Index'})\n",
    "df_cgs = df_cgs.rename(columns={'REF_AREA_LABEL': 'Country'})"
   ]
  },
  {
   "cell_type": "code",
   "execution_count": 4,
   "id": "3839392f",
   "metadata": {},
   "outputs": [],
   "source": [
    "df_dce = df_dce.drop(columns=[\n",
    "    'FREQ',\n",
    "    'FREQ_LABEL',\n",
    "    'REF_AREA',\n",
    "    'INDICATOR',\n",
    "    'INDICATOR_LABEL',\n",
    "    'UNIT_MEASURE',\n",
    "    'UNIT_MEASURE_LABEL',\n",
    "    'DATABASE_ID',\n",
    "    'DATABASE_ID_LABEL',\n",
    "    'UNIT_MULT',\n",
    "    'UNIT_MULT_LABEL',\n",
    "    'OBS_STATUS',\n",
    "    'OBS_STATUS_LABEL',\n",
    "    'OBS_CONF',\n",
    "    'OBS_CONF_LABEL'\n",
    "])\n",
    "df_dce = df_dce.rename(columns={'2022': 'Digital Citizen Engagement Index'})\n",
    "df_dce = df_dce.rename(columns={'REF_AREA_LABEL': 'Country'})"
   ]
  },
  {
   "cell_type": "code",
   "execution_count": 5,
   "id": "c5eae63a",
   "metadata": {},
   "outputs": [],
   "source": [
    "df_gte = df_gte.drop(columns=[\n",
    "    'FREQ',\n",
    "    'FREQ_LABEL',\n",
    "    'REF_AREA',\n",
    "    'INDICATOR',\n",
    "    'INDICATOR_LABEL',\n",
    "    'UNIT_MEASURE',\n",
    "    'UNIT_MEASURE_LABEL',\n",
    "    'DATABASE_ID',\n",
    "    'DATABASE_ID_LABEL',\n",
    "    'UNIT_MULT',\n",
    "    'UNIT_MULT_LABEL',\n",
    "    'OBS_STATUS',\n",
    "    'OBS_STATUS_LABEL',\n",
    "    'OBS_CONF',\n",
    "    'OBS_CONF_LABEL'\n",
    "])\n",
    "df_gte = df_gte.rename(columns={'2022': 'GovTech Enablers Index'})\n",
    "df_gte = df_gte.rename(columns={'REF_AREA_LABEL': 'Country'})"
   ]
  },
  {
   "cell_type": "code",
   "execution_count": 6,
   "id": "19401b2e",
   "metadata": {},
   "outputs": [],
   "source": [
    "df_overall_score = df_overall_score.drop(columns=[\n",
    "    'FREQ',\n",
    "    'FREQ_LABEL',\n",
    "    'REF_AREA',\n",
    "    'INDICATOR',\n",
    "    'INDICATOR_LABEL',\n",
    "    'UNIT_MEASURE',\n",
    "    'UNIT_MEASURE_LABEL',\n",
    "    'DATABASE_ID',\n",
    "    'DATABASE_ID_LABEL',\n",
    "    'UNIT_MULT',\n",
    "    'UNIT_MULT_LABEL',\n",
    "    'OBS_STATUS',\n",
    "    'OBS_STATUS_LABEL',\n",
    "    'OBS_CONF',\n",
    "    'OBS_CONF_LABEL'\n",
    "])\n",
    "df_overall_score = df_overall_score.rename(columns={'2022': 'Overall Score Index'})\n",
    "df_overall_score = df_overall_score.rename(columns={'REF_AREA_LABEL': 'Country'})"
   ]
  },
  {
   "cell_type": "code",
   "execution_count": 7,
   "id": "e2ad29c7",
   "metadata": {},
   "outputs": [],
   "source": [
    "df_psd = df_psd.drop(columns=[\n",
    "    'FREQ',\n",
    "    'FREQ_LABEL',\n",
    "    'REF_AREA',\n",
    "    'INDICATOR',\n",
    "    'INDICATOR_LABEL',\n",
    "    'UNIT_MEASURE',\n",
    "    'UNIT_MEASURE_LABEL',\n",
    "    'DATABASE_ID',\n",
    "    'DATABASE_ID_LABEL',\n",
    "    'UNIT_MULT',\n",
    "    'UNIT_MULT_LABEL',\n",
    "    'OBS_STATUS',\n",
    "    'OBS_STATUS_LABEL',\n",
    "    'OBS_CONF',\n",
    "    'OBS_CONF_LABEL'\n",
    "])\n",
    "df_psd = df_psd.rename(columns={'2022': 'Public Service Delivery Index'})\n",
    "df_psd = df_psd.rename(columns={'REF_AREA_LABEL': 'Country'})"
   ]
  },
  {
   "cell_type": "code",
   "execution_count": 8,
   "id": "3d5bfa00",
   "metadata": {},
   "outputs": [],
   "source": [
    "new_df = pd.DataFrame()\n",
    "new_df['Country'] = df_cgs['Country']\n",
    "new_df['Core Government System Index'] = df_cgs['Core Government System Index']\n",
    "new_df['Digital Citizen Engagement Index'] = df_dce['Digital Citizen Engagement Index']\n",
    "new_df['GovTech Enablers Index'] = df_gte['GovTech Enablers Index']\n",
    "new_df['Overall Score Index'] = df_overall_score['Overall Score Index']\n",
    "new_df['Public Service Delivery Index'] = df_psd['Public Service Delivery Index']"
   ]
  },
  {
   "cell_type": "code",
   "execution_count": 9,
   "id": "f18e8e8d",
   "metadata": {},
   "outputs": [],
   "source": [
    "new_df = new_df.loc[new_df['Country'] == 'Brazil']"
   ]
  },
  {
   "cell_type": "code",
   "execution_count": 10,
   "id": "086153b1",
   "metadata": {},
   "outputs": [],
   "source": [
    "df_tidy = new_df.melt(\n",
    "    id_vars='Country',\n",
    "    value_vars=[\n",
    "        'Core Government System Index',\n",
    "        'Digital Citizen Engagement Index',\n",
    "        'GovTech Enablers Index',\n",
    "        'Overall Score Index',\n",
    "        'Public Service Delivery Index'\n",
    "    ],\n",
    "    var_name='Metric',\n",
    "    value_name='Percentage'\n",
    ")"
   ]
  },
  {
   "cell_type": "code",
   "execution_count": 11,
   "id": "b263dd41",
   "metadata": {},
   "outputs": [],
   "source": [
    "df_tidy['Percentage'] = df_tidy['Percentage'].apply(lambda x: x * 100.0)"
   ]
  },
  {
   "cell_type": "code",
   "execution_count": 12,
   "id": "20f97ebe",
   "metadata": {},
   "outputs": [],
   "source": [
    "df_tidy.to_csv('concated_gtmi.csv')"
   ]
  }
 ],
 "metadata": {
  "kernelspec": {
   "display_name": "Python 3",
   "language": "python",
   "name": "python3"
  },
  "language_info": {
   "codemirror_mode": {
    "name": "ipython",
    "version": 3
   },
   "file_extension": ".py",
   "mimetype": "text/x-python",
   "name": "python",
   "nbconvert_exporter": "python",
   "pygments_lexer": "ipython3",
   "version": "3.13.5"
  }
 },
 "nbformat": 4,
 "nbformat_minor": 5
}
