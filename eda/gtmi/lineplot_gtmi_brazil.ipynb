{
 "cells": [
  {
   "cell_type": "code",
   "execution_count": 2,
   "id": "6bcd8a60",
   "metadata": {},
   "outputs": [],
   "source": [
    "import pandas as pd\n",
    "import matplotlib.pyplot as plt\n",
    "import seaborn as sns"
   ]
  },
  {
   "cell_type": "code",
   "execution_count": 3,
   "id": "2b32de23",
   "metadata": {},
   "outputs": [],
   "source": [
    "df = pd.read_csv('concated_gtmi.csv')"
   ]
  },
  {
   "cell_type": "code",
   "execution_count": 4,
   "id": "cdb8b3f1",
   "metadata": {},
   "outputs": [],
   "source": [
    "df_brazil = df.loc[df['Country'] == 'Brazil'].reset_index(drop=True)"
   ]
  },
  {
   "cell_type": "code",
   "execution_count": 5,
   "id": "5926735b",
   "metadata": {},
   "outputs": [],
   "source": [
    "df_brazil = df_brazil.drop(columns=['Unnamed: 0'])"
   ]
  },
  {
   "cell_type": "code",
   "execution_count": 6,
   "id": "09fd0b97",
   "metadata": {},
   "outputs": [],
   "source": [
    "df_tidy = df_brazil.melt(\n",
    "    id_vars='Country',\n",
    "    value_vars=[\n",
    "        'Core Government System Index',\n",
    "        'Digital Citizen Engagement Index',\n",
    "        'GovTech Enablers Index',\n",
    "        'Overall Score Index',\n",
    "        'Public Service Delivery Index'\n",
    "    ],\n",
    "    var_name='Metric',\n",
    "    value_name='Percentage'\n",
    ")"
   ]
  },
  {
   "cell_type": "code",
   "execution_count": 7,
   "id": "2ef451cc",
   "metadata": {},
   "outputs": [],
   "source": [
    "df_tidy['Percentage'] = df_tidy['Percentage'].apply(lambda x: x * 100.0)"
   ]
  }
 ],
 "metadata": {
  "kernelspec": {
   "display_name": "Python 3",
   "language": "python",
   "name": "python3"
  },
  "language_info": {
   "codemirror_mode": {
    "name": "ipython",
    "version": 3
   },
   "file_extension": ".py",
   "mimetype": "text/x-python",
   "name": "python",
   "nbconvert_exporter": "python",
   "pygments_lexer": "ipython3",
   "version": "3.13.5"
  }
 },
 "nbformat": 4,
 "nbformat_minor": 5
}
