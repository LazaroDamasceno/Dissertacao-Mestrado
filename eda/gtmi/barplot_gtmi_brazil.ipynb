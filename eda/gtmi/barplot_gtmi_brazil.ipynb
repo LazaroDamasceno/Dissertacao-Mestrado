{
 "cells": [
  {
   "cell_type": "code",
   "execution_count": null,
   "id": "6bcd8a60",
   "metadata": {},
   "outputs": [],
   "source": [
    "import pandas as pd\n",
    "import matplotlib.pyplot as plt\n",
    "import seaborn as sns"
   ]
  },
  {
   "cell_type": "code",
   "execution_count": null,
   "id": "2b32de23",
   "metadata": {},
   "outputs": [],
   "source": [
    "df = pd.read_csv('concated_gtmi.csv')"
   ]
  },
  {
   "cell_type": "code",
   "execution_count": null,
   "id": "2ef451cc",
   "metadata": {},
   "outputs": [],
   "source": [
    "df = df.drop(columns=['Unnamed: 0'])"
   ]
  },
  {
   "cell_type": "code",
   "execution_count": null,
   "id": "418d502e",
   "metadata": {},
   "outputs": [],
   "source": [
    "df"
   ]
  },
  {
   "cell_type": "code",
   "execution_count": null,
   "id": "298e8e77",
   "metadata": {},
   "outputs": [],
   "source": [
    "fig, ax = plt.subplots(figsize=(12, 8))\n",
    "\n",
    "sns.barplot(data=df, orient='h', y='Metric', x='Percentage')\n",
    "\n",
    "plt.suptitle('GTMI do Brasil (2022)', fontweight='bold')\n",
    "ax.bar_label(ax.containers[0], fmt='%.2f%%')\n",
    "plt.ylabel(\"Components\")\n",
    "sns.despine(bottom=True)\n",
    "ax.set_ylabel('')\n",
    "ax.xaxis.set_visible(False)\n",
    "plt.tight_layout()\n",
    "plt.show()"
   ]
  }
 ],
 "metadata": {
  "kernelspec": {
   "display_name": "Python 3",
   "language": "python",
   "name": "python3"
  },
  "language_info": {
   "codemirror_mode": {
    "name": "ipython",
    "version": 3
   },
   "file_extension": ".py",
   "mimetype": "text/x-python",
   "name": "python",
   "nbconvert_exporter": "python",
   "pygments_lexer": "ipython3",
   "version": "3.13.5"
  }
 },
 "nbformat": 4,
 "nbformat_minor": 5
}
