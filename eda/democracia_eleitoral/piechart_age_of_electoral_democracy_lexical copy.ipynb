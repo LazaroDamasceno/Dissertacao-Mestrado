{
 "cells": [
  {
   "cell_type": "code",
   "execution_count": 1,
   "id": "6fd64d3e",
   "metadata": {},
   "outputs": [],
   "source": [
    "import pandas as pd\n",
    "import matplotlib.pyplot as plt"
   ]
  },
  {
   "cell_type": "code",
   "execution_count": 2,
   "id": "2c85a6bd",
   "metadata": {},
   "outputs": [],
   "source": [
    "df = pd.read_csv('age-of-electoral-democracy-lexical.csv')"
   ]
  },
  {
   "cell_type": "code",
   "execution_count": 3,
   "id": "7e43fc17",
   "metadata": {},
   "outputs": [],
   "source": [
    "df = df.rename(columns={\n",
    "    'Entity': 'Country',\n",
    "    'Age of electoral democracy': 'Age'\n",
    "})"
   ]
  },
  {
   "cell_type": "code",
   "execution_count": 4,
   "id": "517585cf",
   "metadata": {},
   "outputs": [],
   "source": [
    "df = df.drop(columns=['Code'])"
   ]
  },
  {
   "cell_type": "code",
   "execution_count": 5,
   "id": "9fee2762",
   "metadata": {},
   "outputs": [
    {
     "data": {
      "application/vnd.microsoft.datawrangler.viewer.v0+json": {
       "columns": [
        {
         "name": "index",
         "rawType": "object",
         "type": "string"
        },
        {
         "name": "0",
         "rawType": "object",
         "type": "unknown"
        }
       ],
       "ref": "272fa01d-3e97-4a42-be7d-3b67f3bbd6b5",
       "rows": [
        [
         "Country",
         "object"
        ],
        [
         "Year",
         "int64"
        ],
        [
         "Age",
         "object"
        ]
       ],
       "shape": {
        "columns": 1,
        "rows": 3
       }
      },
      "text/plain": [
       "Country    object\n",
       "Year        int64\n",
       "Age        object\n",
       "dtype: object"
      ]
     },
     "execution_count": 5,
     "metadata": {},
     "output_type": "execute_result"
    }
   ],
   "source": [
    "df.dtypes"
   ]
  },
  {
   "cell_type": "code",
   "execution_count": 6,
   "id": "293d6e4a",
   "metadata": {},
   "outputs": [],
   "source": [
    "df_brazil = df.loc[df['Country'] == \"Brazil\"].reset_index(drop=True)"
   ]
  },
  {
   "cell_type": "code",
   "execution_count": 7,
   "id": "aa3d06ca",
   "metadata": {},
   "outputs": [],
   "source": [
    "df_brazil['Status'] = df_brazil['Age']"
   ]
  },
  {
   "cell_type": "code",
   "execution_count": 8,
   "id": "615c95b0",
   "metadata": {},
   "outputs": [],
   "source": [
    "replacable_ages = [\n",
    "    'non-electoral autocracy',\n",
    "    'multi-party autocracy without elected executive',\n",
    "    'one-party autocracy',\n",
    "    'multi-party autocracy',\n",
    "    'exclusive democracy'\n",
    "]\n",
    "\n",
    "for age in replacable_ages:\n",
    "    df_brazil['Age'] = df_brazil['Age'].replace(age, 0)"
   ]
  },
  {
   "cell_type": "code",
   "execution_count": 9,
   "id": "3530de52",
   "metadata": {},
   "outputs": [],
   "source": [
    "numerical_statuses = [str(n) for n in range(1, 41)]\n",
    "\n",
    "for status in numerical_statuses:\n",
    "    df_brazil['Status'] = df_brazil['Status'].replace(status, 'electoral democracy')"
   ]
  },
  {
   "cell_type": "code",
   "execution_count": 10,
   "id": "1b90490d",
   "metadata": {},
   "outputs": [
    {
     "data": {
      "application/vnd.microsoft.datawrangler.viewer.v0+json": {
       "columns": [
        {
         "name": "index",
         "rawType": "object",
         "type": "string"
        },
        {
         "name": "0",
         "rawType": "object",
         "type": "unknown"
        }
       ],
       "ref": "033aaa9c-2ae9-4a1c-bfcf-945c088a0a8f",
       "rows": [
        [
         "Country",
         "object"
        ],
        [
         "Year",
         "int64"
        ],
        [
         "Age",
         "object"
        ],
        [
         "Status",
         "object"
        ]
       ],
       "shape": {
        "columns": 1,
        "rows": 4
       }
      },
      "text/plain": [
       "Country    object\n",
       "Year        int64\n",
       "Age        object\n",
       "Status     object\n",
       "dtype: object"
      ]
     },
     "execution_count": 10,
     "metadata": {},
     "output_type": "execute_result"
    }
   ],
   "source": [
    "df_brazil.dtypes"
   ]
  },
  {
   "cell_type": "code",
   "execution_count": 11,
   "id": "0225c718",
   "metadata": {},
   "outputs": [],
   "source": [
    "df_brazil['Age'] = df_brazil['Age'].astype(int)"
   ]
  },
  {
   "cell_type": "code",
   "execution_count": 12,
   "id": "57982e7f",
   "metadata": {},
   "outputs": [
    {
     "data": {
      "application/vnd.microsoft.datawrangler.viewer.v0+json": {
       "columns": [
        {
         "name": "index",
         "rawType": "object",
         "type": "string"
        },
        {
         "name": "0",
         "rawType": "object",
         "type": "unknown"
        }
       ],
       "ref": "2f9f5017-9801-420a-b41d-20b9c95dff7a",
       "rows": [
        [
         "Country",
         "object"
        ],
        [
         "Year",
         "int64"
        ],
        [
         "Age",
         "int64"
        ],
        [
         "Status",
         "object"
        ]
       ],
       "shape": {
        "columns": 1,
        "rows": 4
       }
      },
      "text/plain": [
       "Country    object\n",
       "Year        int64\n",
       "Age         int64\n",
       "Status     object\n",
       "dtype: object"
      ]
     },
     "execution_count": 12,
     "metadata": {},
     "output_type": "execute_result"
    }
   ],
   "source": [
    "df_brazil.dtypes"
   ]
  },
  {
   "cell_type": "code",
   "execution_count": 13,
   "id": "a9cbeadd",
   "metadata": {},
   "outputs": [],
   "source": [
    "all_types_government = df_brazil.groupby('Status').size().values.sum()"
   ]
  },
  {
   "cell_type": "code",
   "execution_count": 14,
   "id": "b4f2ef95",
   "metadata": {},
   "outputs": [],
   "source": [
    "autoritharian_types = [\n",
    "    'non-electoral autocracy',\n",
    "    'multi-party autocracy without elected executive',\n",
    "    'one-party autocracy',\n",
    "    'multi-party autocracy'\n",
    "]\n",
    "autoritharian_governments = df_brazil.loc[df_brazil['Status'].isin(autoritharian_types)].groupby('Status').size().values.sum() / (all_types_government * 1.0)"
   ]
  },
  {
   "cell_type": "code",
   "execution_count": 15,
   "id": "ab0cc26c",
   "metadata": {},
   "outputs": [],
   "source": [
    "democratic_types = [\n",
    "    'electoral democracy',\n",
    "    'exclusive democracy',\n",
    "]\n",
    "democratic_governments = df_brazil.loc[df_brazil['Status'].isin(democratic_types)].groupby('Status').size().values.sum() / (all_types_government * 1.0)"
   ]
  },
  {
   "cell_type": "code",
   "execution_count": 16,
   "id": "4d6fc7be",
   "metadata": {},
   "outputs": [],
   "source": [
    "governments1 = [autoritharian_governments, democratic_governments]"
   ]
  },
  {
   "cell_type": "code",
   "execution_count": 17,
   "id": "1c0cef83",
   "metadata": {},
   "outputs": [],
   "source": [
    "democratic_governments2 = df_brazil.loc[df_brazil['Status'].isin(democratic_types)].groupby('Status').size().values.sum()\n",
    "electoral_democratic_governments = df_brazil.loc[df_brazil['Status'] == \"electoral democracy\"].groupby('Status').size().values.sum() / (democratic_governments2 * 100.0)\n",
    "exclusive_democratic_governments = df_brazil.loc[df_brazil['Status'] == \"exclusive democracy\"].groupby('Status').size().values.sum() / (democratic_governments2 * 100.0)\n",
    "governments2 = [electoral_democratic_governments, exclusive_democratic_governments]"
   ]
  },
  {
   "cell_type": "code",
   "execution_count": 18,
   "id": "cd59695b",
   "metadata": {},
   "outputs": [
    {
     "data": {
      "image/png": "[encoded data removed]",
      "text/plain": [
       "<Figure size 1200x800 with 2 Axes>"
      ]
     },
     "metadata": {},
     "output_type": "display_data"
    }
   ],
   "source": [
    "fig, ax = plt.subplots(1, 2, figsize=(12, 8))\n",
    "\n",
    "labels1=['autocracy', 'democracy']\n",
    "labels2=['electoral democracy', 'exclusive democracy']\n",
    "\n",
    "ax[0].pie(governments1, labels=labels1)\n",
    "ax[1].pie(governments2, labels=labels2)\n",
    "\n",
    "plt.suptitle('Proporção de Regimes Autoritários e Democráticos no Brasil', fontweight='bold')\n",
    "ax[0].set_title(\"Autocracy x Democracy\", fontweight='bold')\n",
    "ax[1].set_title(\"Electoral x Exclusive Democracy\", fontweight='bold')\n",
    "plt.tight_layout()\n",
    "plt.show()"
   ]
  }
 ],
 "metadata": {
  "kernelspec": {
   "display_name": "Python 3",
   "language": "python",
   "name": "python3"
  },
  "language_info": {
   "codemirror_mode": {
    "name": "ipython",
    "version": 3
   },
   "file_extension": ".py",
   "mimetype": "text/x-python",
   "name": "python",
   "nbconvert_exporter": "python",
   "pygments_lexer": "ipython3",
   "version": "3.13.5"
  }
 },
 "nbformat": 4,
 "nbformat_minor": 5
}
