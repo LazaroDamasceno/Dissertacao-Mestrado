{
 "cells": [
  {
   "cell_type": "code",
   "execution_count": 16,
   "id": "dc52f1bd",
   "metadata": {},
   "outputs": [],
   "source": [
    "import pandas as pd\n",
    "import itertools"
   ]
  },
  {
   "cell_type": "code",
   "execution_count": 17,
   "id": "be8624f6",
   "metadata": {},
   "outputs": [],
   "source": [
    "df = pd.read_csv('electoral-democracy-index.csv')"
   ]
  },
  {
   "cell_type": "code",
   "execution_count": 18,
   "id": "f6aecc85",
   "metadata": {},
   "outputs": [
    {
     "name": "stdout",
     "output_type": "stream",
     "text": [
      "<class 'pandas.core.frame.DataFrame'>\n",
      "RangeIndex: 34035 entries, 0 to 34034\n",
      "Data columns (total 4 columns):\n",
      " #   Column                                        Non-Null Count  Dtype  \n",
      "---  ------                                        --------------  -----  \n",
      " 0   Entity                                        34035 non-null  object \n",
      " 1   Code                                          31104 non-null  object \n",
      " 2   Year                                          34035 non-null  int64  \n",
      " 3   Electoral democracy index (central estimate)  34035 non-null  float64\n",
      "dtypes: float64(1), int64(1), object(2)\n",
      "memory usage: 1.0+ MB\n"
     ]
    }
   ],
   "source": [
    "df.info()"
   ]
  },
  {
   "cell_type": "code",
   "execution_count": 19,
   "id": "413bffc4",
   "metadata": {},
   "outputs": [],
   "source": [
    "df = df.rename(columns={\n",
    "    'Entity': 'Country',\n",
    "    'Electoral democracy index (central estimate)': 'Index'\n",
    "})\n",
    "df = df.drop(columns=['Code'])"
   ]
  },
  {
   "cell_type": "code",
   "execution_count": 20,
   "id": "5809f7ad",
   "metadata": {},
   "outputs": [],
   "source": [
    "years = list(itertools.chain(range(2003, 2006), range(2008, 2025, 2)))\n",
    "countries = ['Brazil', 'Russia']\n",
    "df = df.loc[(df['Country'].isin(countries)) & (df['Year'].isin(years))].reset_index(drop=True)"
   ]
  },
  {
   "cell_type": "code",
   "execution_count": 21,
   "id": "2abe26b8",
   "metadata": {},
   "outputs": [],
   "source": [
    "df[df['Country'] == 'Brazil'].reset_index(drop=True).to_csv('electoral_democracy_index_brazil.csv')"
   ]
  },
  {
   "cell_type": "code",
   "execution_count": 22,
   "id": "d5e66228",
   "metadata": {},
   "outputs": [],
   "source": [
    "df[df['Country'] == 'Russia'].reset_index(drop=True).to_csv('electoral_democracy_index_russia.csv')"
   ]
  }
 ],
 "metadata": {
  "kernelspec": {
   "display_name": "Python 3",
   "language": "python",
   "name": "python3"
  },
  "language_info": {
   "codemirror_mode": {
    "name": "ipython",
    "version": 3
   },
   "file_extension": ".py",
   "mimetype": "text/x-python",
   "name": "python",
   "nbconvert_exporter": "python",
   "pygments_lexer": "ipython3",
   "version": "3.13.5"
  }
 },
 "nbformat": 4,
 "nbformat_minor": 5
}
