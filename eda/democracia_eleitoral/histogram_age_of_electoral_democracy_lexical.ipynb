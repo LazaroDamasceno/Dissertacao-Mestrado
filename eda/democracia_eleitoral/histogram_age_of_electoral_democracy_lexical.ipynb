{
 "cells": [
  {
   "cell_type": "code",
   "execution_count": 7,
   "id": "6fd64d3e",
   "metadata": {},
   "outputs": [],
   "source": [
    "import pandas as pd\n",
    "import matplotlib.pyplot as plt\n",
    "import seaborn as sns"
   ]
  },
  {
   "cell_type": "code",
   "execution_count": 8,
   "id": "2c85a6bd",
   "metadata": {},
   "outputs": [],
   "source": [
    "df = pd.read_csv('age-of-electoral-democracy-lexical.csv')"
   ]
  },
  {
   "cell_type": "code",
   "execution_count": 9,
   "id": "7e43fc17",
   "metadata": {},
   "outputs": [],
   "source": [
    "df = df.rename(columns={\n",
    "    'Entity': 'Country',\n",
    "    'Age of electoral democracy': 'Age'\n",
    "})"
   ]
  },
  {
   "cell_type": "code",
   "execution_count": 10,
   "id": "517585cf",
   "metadata": {},
   "outputs": [],
   "source": [
    "df = df.drop(columns=['Code'])"
   ]
  },
  {
   "cell_type": "code",
   "execution_count": 11,
   "id": "9fee2762",
   "metadata": {},
   "outputs": [
    {
     "data": {
      "application/vnd.microsoft.datawrangler.viewer.v0+json": {
       "columns": [
        {
         "name": "index",
         "rawType": "object",
         "type": "string"
        },
        {
         "name": "0",
         "rawType": "object",
         "type": "unknown"
        }
       ],
       "ref": "bb1b253e-36cf-4c52-9885-bb16ea17b7a0",
       "rows": [
        [
         "Country",
         "object"
        ],
        [
         "Year",
         "int64"
        ],
        [
         "Age",
         "object"
        ]
       ],
       "shape": {
        "columns": 1,
        "rows": 3
       }
      },
      "text/plain": [
       "Country    object\n",
       "Year        int64\n",
       "Age        object\n",
       "dtype: object"
      ]
     },
     "execution_count": 11,
     "metadata": {},
     "output_type": "execute_result"
    }
   ],
   "source": [
    "df.dtypes"
   ]
  },
  {
   "cell_type": "code",
   "execution_count": 12,
   "id": "293d6e4a",
   "metadata": {},
   "outputs": [],
   "source": [
    "df_brazil = df[df['Country'] == \"Brazil\"].reset_index(drop=True)"
   ]
  },
  {
   "cell_type": "code",
   "execution_count": 13,
   "id": "aa3d06ca",
   "metadata": {},
   "outputs": [],
   "source": [
    "df_brazil['Status'] = df_brazil['Age']"
   ]
  },
  {
   "cell_type": "code",
   "execution_count": 14,
   "id": "615c95b0",
   "metadata": {},
   "outputs": [],
   "source": [
    "replacable_ages = [\n",
    "    'non-electoral autocracy',\n",
    "    'multi-party autocracy without elected executive',\n",
    "    'one-party autocracy',\n",
    "    'multi-party autocracy',\n",
    "    'exclusive democracy'\n",
    "]\n",
    "\n",
    "for age in replacable_ages:\n",
    "    df_brazil['Age'] = df_brazil['Age'].replace(age, 0)"
   ]
  },
  {
   "cell_type": "code",
   "execution_count": 15,
   "id": "3530de52",
   "metadata": {},
   "outputs": [],
   "source": [
    "numerical_statuses = [str(n) for n in range(1, 41)]\n",
    "\n",
    "for status in numerical_statuses:\n",
    "    df_brazil['Status'] = df_brazil['Status'].replace(status, 'electoral democracy')"
   ]
  },
  {
   "cell_type": "code",
   "execution_count": 16,
   "id": "1b90490d",
   "metadata": {},
   "outputs": [
    {
     "data": {
      "application/vnd.microsoft.datawrangler.viewer.v0+json": {
       "columns": [
        {
         "name": "index",
         "rawType": "object",
         "type": "string"
        },
        {
         "name": "0",
         "rawType": "object",
         "type": "unknown"
        }
       ],
       "ref": "dfaa661b-7ccf-4cc9-93e5-9724adb510ca",
       "rows": [
        [
         "Country",
         "object"
        ],
        [
         "Year",
         "int64"
        ],
        [
         "Age",
         "object"
        ],
        [
         "Status",
         "object"
        ]
       ],
       "shape": {
        "columns": 1,
        "rows": 4
       }
      },
      "text/plain": [
       "Country    object\n",
       "Year        int64\n",
       "Age        object\n",
       "Status     object\n",
       "dtype: object"
      ]
     },
     "execution_count": 16,
     "metadata": {},
     "output_type": "execute_result"
    }
   ],
   "source": [
    "df_brazil.dtypes"
   ]
  },
  {
   "cell_type": "code",
   "execution_count": 17,
   "id": "0225c718",
   "metadata": {},
   "outputs": [],
   "source": [
    "df_brazil['Age'] = df_brazil['Age'].astype(int)"
   ]
  },
  {
   "cell_type": "code",
   "execution_count": 18,
   "id": "57982e7f",
   "metadata": {},
   "outputs": [
    {
     "data": {
      "application/vnd.microsoft.datawrangler.viewer.v0+json": {
       "columns": [
        {
         "name": "index",
         "rawType": "object",
         "type": "string"
        },
        {
         "name": "0",
         "rawType": "object",
         "type": "unknown"
        }
       ],
       "ref": "58ae8697-aecc-4b4c-88b2-e7301d6facc3",
       "rows": [
        [
         "Country",
         "object"
        ],
        [
         "Year",
         "int64"
        ],
        [
         "Age",
         "int64"
        ],
        [
         "Status",
         "object"
        ]
       ],
       "shape": {
        "columns": 1,
        "rows": 4
       }
      },
      "text/plain": [
       "Country    object\n",
       "Year        int64\n",
       "Age         int64\n",
       "Status     object\n",
       "dtype: object"
      ]
     },
     "execution_count": 18,
     "metadata": {},
     "output_type": "execute_result"
    }
   ],
   "source": [
    "df_brazil.dtypes"
   ]
  },
  {
   "cell_type": "code",
   "execution_count": 19,
   "id": "cd59695b",
   "metadata": {},
   "outputs": [
    {
     "data": {
      "image/png": "[encoded data removed]",
      "text/plain": [
       "<Figure size 1200x800 with 1 Axes>"
      ]
     },
     "metadata": {},
     "output_type": "display_data"
    }
   ],
   "source": [
    "plt.figure(figsize=(10, 6))\n",
    "\n",
    "sns.histplot(data=df_brazil['Status'])\n",
    "\n",
    "plt.suptitle('Distribuição de Regimes Autoritários e Democráticos no Brasil', fontweight='bold')\n",
    "plt.xticks(rotation=90)\n",
    "sns.despine()\n",
    "plt.xlabel('')\n",
    "plt.ylabel('')\n",
    "plt.tight_layout()\n",
    "plt.show()"
   ]
  }
 ],
 "metadata": {
  "kernelspec": {
   "display_name": "Python 3",
   "language": "python",
   "name": "python3"
  },
  "language_info": {
   "codemirror_mode": {
    "name": "ipython",
    "version": 3
   },
   "file_extension": ".py",
   "mimetype": "text/x-python",
   "name": "python",
   "nbconvert_exporter": "python",
   "pygments_lexer": "ipython3",
   "version": "3.13.5"
  }
 },
 "nbformat": 4,
 "nbformat_minor": 5
}
