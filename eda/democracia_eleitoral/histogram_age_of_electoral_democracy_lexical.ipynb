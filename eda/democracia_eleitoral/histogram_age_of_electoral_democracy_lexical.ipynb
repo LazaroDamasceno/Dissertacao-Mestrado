{
 "cells": [
  {
   "cell_type": "code",
   "execution_count": 27,
   "id": "6fd64d3e",
   "metadata": {},
   "outputs": [],
   "source": [
    "import pandas as pd\n",
    "import matplotlib.pyplot as plt\n",
    "import seaborn as sns"
   ]
  },
  {
   "cell_type": "code",
   "execution_count": 28,
   "id": "2c85a6bd",
   "metadata": {},
   "outputs": [],
   "source": [
    "df = pd.read_csv('age-of-electoral-democracy-lexical.csv')"
   ]
  },
  {
   "cell_type": "code",
   "execution_count": 29,
   "id": "7e43fc17",
   "metadata": {},
   "outputs": [],
   "source": [
    "df = df.rename(columns={\n",
    "    'Entity': 'Country',\n",
    "    'Age of electoral democracy': 'Age'\n",
    "})"
   ]
  },
  {
   "cell_type": "code",
   "execution_count": 30,
   "id": "517585cf",
   "metadata": {},
   "outputs": [],
   "source": [
    "df = df.drop(columns=['Code'])"
   ]
  },
  {
   "cell_type": "code",
   "execution_count": 31,
   "id": "9fee2762",
   "metadata": {},
   "outputs": [
    {
     "data": {
      "application/vnd.microsoft.datawrangler.viewer.v0+json": {
       "columns": [
        {
         "name": "index",
         "rawType": "object",
         "type": "string"
        },
        {
         "name": "0",
         "rawType": "object",
         "type": "unknown"
        }
       ],
       "ref": "2b965699-1988-43df-a611-0eaa9a45498d",
       "rows": [
        [
         "Country",
         "object"
        ],
        [
         "Year",
         "int64"
        ],
        [
         "Age",
         "object"
        ]
       ],
       "shape": {
        "columns": 1,
        "rows": 3
       }
      },
      "text/plain": [
       "Country    object\n",
       "Year        int64\n",
       "Age        object\n",
       "dtype: object"
      ]
     },
     "execution_count": 31,
     "metadata": {},
     "output_type": "execute_result"
    }
   ],
   "source": [
    "df.dtypes"
   ]
  },
  {
   "cell_type": "code",
   "execution_count": 32,
   "id": "293d6e4a",
   "metadata": {},
   "outputs": [],
   "source": [
    "df_brazil = df[df['Country'] == \"Brazil\"].reset_index(drop=True)"
   ]
  },
  {
   "cell_type": "code",
   "execution_count": 33,
   "id": "aa3d06ca",
   "metadata": {},
   "outputs": [],
   "source": [
    "df_brazil['Status'] = df_brazil['Age']"
   ]
  },
  {
   "cell_type": "code",
   "execution_count": 34,
   "id": "615c95b0",
   "metadata": {},
   "outputs": [],
   "source": [
    "replacable_ages = [\n",
    "    'non-electoral autocracy',\n",
    "    'multi-party autocracy without elected executive',\n",
    "    'one-party autocracy',\n",
    "    'multi-party autocracy',\n",
    "    'exclusive democracy'\n",
    "]\n",
    "\n",
    "for age in replacable_ages:\n",
    "    df_brazil['Age'] = df_brazil['Age'].replace(age, 0)"
   ]
  },
  {
   "cell_type": "code",
   "execution_count": 35,
   "id": "3530de52",
   "metadata": {},
   "outputs": [],
   "source": [
    "numerical_statuses = [str(n) for n in range(1, 41)]\n",
    "\n",
    "for status in numerical_statuses:\n",
    "    df_brazil['Status'] = df_brazil['Status'].replace(status, 'electoral democracy')"
   ]
  },
  {
   "cell_type": "code",
   "execution_count": 36,
   "id": "1b90490d",
   "metadata": {},
   "outputs": [
    {
     "data": {
      "application/vnd.microsoft.datawrangler.viewer.v0+json": {
       "columns": [
        {
         "name": "index",
         "rawType": "object",
         "type": "string"
        },
        {
         "name": "0",
         "rawType": "object",
         "type": "unknown"
        }
       ],
       "ref": "2f145394-e523-4a37-8ce3-8997aa4086e4",
       "rows": [
        [
         "Country",
         "object"
        ],
        [
         "Year",
         "int64"
        ],
        [
         "Age",
         "object"
        ],
        [
         "Status",
         "object"
        ]
       ],
       "shape": {
        "columns": 1,
        "rows": 4
       }
      },
      "text/plain": [
       "Country    object\n",
       "Year        int64\n",
       "Age        object\n",
       "Status     object\n",
       "dtype: object"
      ]
     },
     "execution_count": 36,
     "metadata": {},
     "output_type": "execute_result"
    }
   ],
   "source": [
    "df_brazil.dtypes"
   ]
  },
  {
   "cell_type": "code",
   "execution_count": 37,
   "id": "0225c718",
   "metadata": {},
   "outputs": [],
   "source": [
    "df_brazil['Age'] = df_brazil['Age'].astype(int)"
   ]
  },
  {
   "cell_type": "code",
   "execution_count": 38,
   "id": "57982e7f",
   "metadata": {},
   "outputs": [
    {
     "data": {
      "application/vnd.microsoft.datawrangler.viewer.v0+json": {
       "columns": [
        {
         "name": "index",
         "rawType": "object",
         "type": "string"
        },
        {
         "name": "0",
         "rawType": "object",
         "type": "unknown"
        }
       ],
       "ref": "5d306af8-5e0a-4107-99a3-e71813a54b5d",
       "rows": [
        [
         "Country",
         "object"
        ],
        [
         "Year",
         "int64"
        ],
        [
         "Age",
         "int64"
        ],
        [
         "Status",
         "object"
        ]
       ],
       "shape": {
        "columns": 1,
        "rows": 4
       }
      },
      "text/plain": [
       "Country    object\n",
       "Year        int64\n",
       "Age         int64\n",
       "Status     object\n",
       "dtype: object"
      ]
     },
     "execution_count": 38,
     "metadata": {},
     "output_type": "execute_result"
    }
   ],
   "source": [
    "df_brazil.dtypes"
   ]
  },
  {
   "cell_type": "code",
   "execution_count": 39,
   "id": "cd59695b",
   "metadata": {},
   "outputs": [
    {
     "data": {
      "image/png": "[encoded data removed]",
      "text/plain": [
       "<Figure size 1000x600 with 1 Axes>"
      ]
     },
     "metadata": {},
     "output_type": "display_data"
    }
   ],
   "source": [
    "plt.figure(figsize=(10, 6))\n",
    "\n",
    "sns.histplot(data=df_brazil['Status'])\n",
    "\n",
    "plt.suptitle('Distribuição de Regimes Autoritários e Democráticos no Brasil', fontweight='bold')\n",
    "plt.xticks(rotation=45)\n",
    "sns.despine()\n",
    "plt.xlabel('')\n",
    "plt.ylabel('')\n",
    "plt.tight_layout()\n",
    "#plt.savefig('', dpi=300, bbox_inches='tight')\n",
    "plt.show()"
   ]
  }
 ],
 "metadata": {
  "kernelspec": {
   "display_name": "Python 3",
   "language": "python",
   "name": "python3"
  },
  "language_info": {
   "codemirror_mode": {
    "name": "ipython",
    "version": 3
   },
   "file_extension": ".py",
   "mimetype": "text/x-python",
   "name": "python",
   "nbconvert_exporter": "python",
   "pygments_lexer": "ipython3",
   "version": "3.13.5"
  }
 },
 "nbformat": 4,
 "nbformat_minor": 5
}
