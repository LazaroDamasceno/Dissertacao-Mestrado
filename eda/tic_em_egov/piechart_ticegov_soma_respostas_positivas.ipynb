{
 "cells": [
  {
   "cell_type": "code",
   "execution_count": 67,
   "id": "d922fbb5",
   "metadata": {
    "vscode": {
     "languageId": "r"
    }
   },
   "outputs": [],
   "source": [
    "library(tidyverse)\n",
    "library(tidyr)\n",
    "library(readxl)"
   ]
  },
  {
   "cell_type": "code",
   "execution_count": 68,
   "id": "e7bc8b0a",
   "metadata": {
    "vscode": {
     "languageId": "r"
    }
   },
   "outputs": [],
   "source": [
    "df <- read_xlsx('ict_in_government.xlsx')"
   ]
  },
  {
   "cell_type": "code",
   "execution_count": 69,
   "id": "a8860ee1",
   "metadata": {
    "vscode": {
     "languageId": "r"
    }
   },
   "outputs": [],
   "source": [
    "respostas <- c(\n",
    "    'nenhuma',\n",
    "    '1 de 3',\n",
    "    '2 de 3',\n",
    "    'todas'\n",
    ")"
   ]
  },
  {
   "cell_type": "code",
   "execution_count": 70,
   "id": "3b2a0359",
   "metadata": {
    "vscode": {
     "languageId": "r"
    }
   },
   "outputs": [],
   "source": [
    "df_2024 <- df %>% \n",
    "    filter(Year == 2024) %>%\n",
    "    mutate(Soma_Respostas_Positivas = Indicator_1 + Indicator_2 + Indicator_3) %>%\n",
    "    mutate(Total_Respostas = length(Soma_Respostas_Positivas))"
   ]
  },
  {
   "cell_type": "code",
   "execution_count": 71,
   "id": "462638bd",
   "metadata": {
    "vscode": {
     "languageId": "r"
    }
   },
   "outputs": [],
   "source": [
    "df_2024_0 = df_2024 %>%\n",
    "    filter(Soma_Respostas_Positivas == 0) %>%\n",
    "    mutate(Quantidade_0_Respostas = length(Soma_Respostas_Positivas)) %>%\n",
    "    mutate(Porcentagem_0_Respostas = Quantidade_0_Respostas / Total_Respostas) %>%\n",
    "    select(Porcentagem_0_Respostas)"
   ]
  },
  {
   "cell_type": "code",
   "execution_count": 72,
   "id": "4ab84718",
   "metadata": {
    "vscode": {
     "languageId": "r"
    }
   },
   "outputs": [],
   "source": [
    "df_2024_1 = df_2024 %>%\n",
    "    filter(Soma_Respostas_Positivas == 1) %>%\n",
    "    mutate(Quantidade_1_Respostas = length(Soma_Respostas_Positivas)) %>%\n",
    "    mutate(Porcentagem_1_Respostas = Quantidade_1_Respostas / Total_Respostas) %>%\n",
    "    select(Porcentagem_1_Respostas)"
   ]
  },
  {
   "cell_type": "code",
   "execution_count": 73,
   "id": "8ef1f0c1",
   "metadata": {
    "vscode": {
     "languageId": "r"
    }
   },
   "outputs": [],
   "source": [
    "df_2024_2 = df_2024 %>%\n",
    "    filter(Soma_Respostas_Positivas == 2) %>%\n",
    "    mutate(Quantidade_2_Respostas = length(Soma_Respostas_Positivas)) %>%\n",
    "    mutate(Porcentagem_2_Respostas = Quantidade_2_Respostas / Total_Respostas) %>%\n",
    "    select(Porcentagem_2_Respostas)"
   ]
  },
  {
   "cell_type": "code",
   "execution_count": 74,
   "id": "988afb29",
   "metadata": {
    "vscode": {
     "languageId": "r"
    }
   },
   "outputs": [],
   "source": [
    "df_2024_3 = df_2024 %>%\n",
    "    filter(Soma_Respostas_Positivas == 3) %>%\n",
    "    mutate(Quantidade_3_Respostas = length(Soma_Respostas_Positivas)) %>%\n",
    "    mutate(Porcentagem_3_Respostas = Quantidade_3_Respostas / Total_Respostas) %>%\n",
    "    select(Porcentagem_3_Respostas)"
   ]
  },
  {
   "cell_type": "code",
   "execution_count": 75,
   "id": "e5259866",
   "metadata": {
    "vscode": {
     "languageId": "r"
    }
   },
   "outputs": [],
   "source": [
    "df_final <- data.frame(\n",
    "    R0 = unique(df_2024_0$Porcentagem_0_Respostas),\n",
    "    R1 = unique(df_2024_1$Porcentagem_1_Respostas),\n",
    "    R2 = unique(df_2024_2$Porcentagem_2_Respostas),\n",
    "    R3 = unique(df_2024_3$Porcentagem_3_Respostas) \n",
    ")"
   ]
  },
  {
   "cell_type": "code",
   "execution_count": 76,
   "id": "2899b501",
   "metadata": {
    "vscode": {
     "languageId": "r"
    }
   },
   "outputs": [],
   "source": [
    "df_longer <- pivot_longer(\n",
    "    data = df_final,\n",
    "    cols = everything(),\n",
    "    names_to = \"Quantidade_Respostas_Positivas\",\n",
    "    values_to = \"Porcentagem\"\n",
    ")"
   ]
  },
  {
   "cell_type": "markdown",
   "id": "6e896e29",
   "metadata": {
    "vscode": {
     "languageId": "r"
    }
   },
   "source": [
    "ticegov_soma_respostas_positivas"
   ]
  },
  {
   "cell_type": "code",
   "execution_count": 77,
   "id": "8508fa72",
   "metadata": {
    "vscode": {
     "languageId": "r"
    }
   },
   "outputs": [
    {
     "data": {
      "image/png": "[encoded data removed]",
      "text/plain": [
       "plot without title"
      ]
     },
     "metadata": {
      "image/png": {
       "height": 420,
       "width": 420
      }
     },
     "output_type": "display_data"
    }
   ],
   "source": [
    "ggplot(df_longer, aes(x = \"\", y = Porcentagem, fill = Quantidade_Respostas_Positivas)) +\n",
    "    geom_bar(stat = \"identity\", width=1) +\n",
    "    coord_polar(\"y\", start=0) +\n",
    "    theme_void() +\n",
    "    scale_fill_discrete(\n",
    "        name = 'Quantidade de respostas positivas',\n",
    "        labels = c('nenhuma', '1 de 3', '2 de 3', 'todas')\n",
    "    )"
   ]
  }
 ],
 "metadata": {
  "kernelspec": {
   "display_name": "R",
   "language": "R",
   "name": "ir"
  },
  "language_info": {
   "codemirror_mode": "r",
   "file_extension": ".r",
   "mimetype": "text/x-r-source",
   "name": "R",
   "pygments_lexer": "r",
   "version": "4.5.1"
  }
 },
 "nbformat": 4,
 "nbformat_minor": 5
}
