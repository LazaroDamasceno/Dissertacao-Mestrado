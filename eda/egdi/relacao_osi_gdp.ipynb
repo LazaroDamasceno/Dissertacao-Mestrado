{
 "cells": [
  {
   "cell_type": "code",
   "execution_count": 1,
   "id": "d23b699b-d59e-4525-8363-cfcb3d29a052",
   "metadata": {
    "vscode": {
     "languageId": "r"
    }
   },
   "outputs": [
    {
     "name": "stderr",
     "output_type": "stream",
     "text": [
      "── \u001b[1mAttaching core tidyverse packages\u001b[22m ──────────────────────── tidyverse 2.0.0 ──\n",
      "\u001b[32m✔\u001b[39m \u001b[34mdplyr    \u001b[39m 1.1.4     \u001b[32m✔\u001b[39m \u001b[34mreadr    \u001b[39m 2.1.5\n",
      "\u001b[32m✔\u001b[39m \u001b[34mforcats  \u001b[39m 1.0.0     \u001b[32m✔\u001b[39m \u001b[34mstringr  \u001b[39m 1.5.1\n",
      "\u001b[32m✔\u001b[39m \u001b[34mggplot2  \u001b[39m 3.5.2     \u001b[32m✔\u001b[39m \u001b[34mtibble   \u001b[39m 3.3.0\n",
      "\u001b[32m✔\u001b[39m \u001b[34mlubridate\u001b[39m 1.9.4     \u001b[32m✔\u001b[39m \u001b[34mtidyr    \u001b[39m 1.3.1\n",
      "\u001b[32m✔\u001b[39m \u001b[34mpurrr    \u001b[39m 1.1.0     \n",
      "── \u001b[1mConflicts\u001b[22m ────────────────────────────────────────── tidyverse_conflicts() ──\n",
      "\u001b[31m✖\u001b[39m \u001b[34mdplyr\u001b[39m::\u001b[32mfilter()\u001b[39m masks \u001b[34mstats\u001b[39m::filter()\n",
      "\u001b[31m✖\u001b[39m \u001b[34mdplyr\u001b[39m::\u001b[32mlag()\u001b[39m    masks \u001b[34mstats\u001b[39m::lag()\n",
      "\u001b[36mℹ\u001b[39m Use the conflicted package (\u001b[3m\u001b[34m<http://conflicted.r-lib.org/>\u001b[39m\u001b[23m) to force all conflicts to become errors\n"
     ]
    }
   ],
   "source": [
    "library(tidyverse)\n",
    "library(tidyr)"
   ]
  },
  {
   "cell_type": "markdown",
   "id": "1c25987e",
   "metadata": {},
   "source": []
  },
  {
   "cell_type": "code",
   "execution_count": 2,
   "id": "28e91b36-8b47-4f49-926a-2390d1d868b3",
   "metadata": {
    "vscode": {
     "languageId": "r"
    }
   },
   "outputs": [],
   "source": [
    "egdi <- read.csv('EGOV_DATA_2024.csv') %>%\n",
    "    select(Country.Name, Online.Service.Index) %>%\n",
    "    arrange(Country.Name)"
   ]
  },
  {
   "cell_type": "code",
   "execution_count": 3,
   "id": "4416e563",
   "metadata": {
    "vscode": {
     "languageId": "r"
    }
   },
   "outputs": [],
   "source": [
    "countries <- unique(egdi$Country.Name)"
   ]
  },
  {
   "cell_type": "markdown",
   "id": "842fa9c4",
   "metadata": {},
   "source": []
  },
  {
   "cell_type": "code",
   "execution_count": 4,
   "id": "2ba9480b",
   "metadata": {
    "vscode": {
     "languageId": "r"
    }
   },
   "outputs": [],
   "source": [
    "gdp <- read.csv('pib_percapita_ppc.csv') %>%\n",
    "    select(Country.Name, X2024) %>%\n",
    "    arrange(Country.Name) %>% \n",
    "    replace_na(list(X2024 = 0))"
   ]
  },
  {
   "cell_type": "markdown",
   "id": "c8bcb25a",
   "metadata": {},
   "source": []
  },
  {
   "cell_type": "code",
   "execution_count": 5,
   "id": "6f703c37",
   "metadata": {
    "vscode": {
     "languageId": "r"
    }
   },
   "outputs": [
    {
     "data": {
      "text/html": [
       "<style>\n",
       ".list-inline {list-style: none; margin:0; padding: 0}\n",
       ".list-inline>li {display: inline-block}\n",
       ".list-inline>li:not(:last-child)::after {content: \"\\00b7\"; padding: 0 .5ex}\n",
       "</style>\n",
       "<ol class=list-inline><li>'Bahamas'</li><li>'Congo'</li><li>'Czech Republic'</li><li>'Côte d\\'Ivoire'</li><li>'Democratic People\\'s Republic of Korea'</li><li>'Democratic Republic of the Congo'</li><li>'Egypt'</li><li>'Gambia'</li><li>'Georgia (Country)'</li><li>'Iran (Islamic Republic of)'</li><li>'Kyrgyzstan'</li><li>'Lao People\\'s Democratic Republic'</li><li>'Micronesia (Federated States of)'</li><li>'Republic of Korea'</li><li>'Republic of Moldova'</li><li>'Saint Kitts and Nevis'</li><li>'Saint Lucia'</li><li>'Saint Vincent and the Grenadines'</li><li>'Slovakia'</li><li>'Türkiye'</li><li>'United Kingdom of Great Britain and Northern Ireland'</li><li>'United Republic of Tanzania'</li><li>'United States of America'</li><li>'Venezuela'</li><li>'Yemen'</li></ol>\n"
      ],
      "text/latex": [
       "\\begin{enumerate*}\n",
       "\\item 'Bahamas'\n",
       "\\item 'Congo'\n",
       "\\item 'Czech Republic'\n",
       "\\item 'Côte d\\textbackslash{}'Ivoire'\n",
       "\\item 'Democratic People\\textbackslash{}'s Republic of Korea'\n",
       "\\item 'Democratic Republic of the Congo'\n",
       "\\item 'Egypt'\n",
       "\\item 'Gambia'\n",
       "\\item 'Georgia (Country)'\n",
       "\\item 'Iran (Islamic Republic of)'\n",
       "\\item 'Kyrgyzstan'\n",
       "\\item 'Lao People\\textbackslash{}'s Democratic Republic'\n",
       "\\item 'Micronesia (Federated States of)'\n",
       "\\item 'Republic of Korea'\n",
       "\\item 'Republic of Moldova'\n",
       "\\item 'Saint Kitts and Nevis'\n",
       "\\item 'Saint Lucia'\n",
       "\\item 'Saint Vincent and the Grenadines'\n",
       "\\item 'Slovakia'\n",
       "\\item 'Türkiye'\n",
       "\\item 'United Kingdom of Great Britain and Northern Ireland'\n",
       "\\item 'United Republic of Tanzania'\n",
       "\\item 'United States of America'\n",
       "\\item 'Venezuela'\n",
       "\\item 'Yemen'\n",
       "\\end{enumerate*}\n"
      ],
      "text/markdown": [
       "1. 'Bahamas'\n",
       "2. 'Congo'\n",
       "3. 'Czech Republic'\n",
       "4. 'Côte d\\'Ivoire'\n",
       "5. 'Democratic People\\'s Republic of Korea'\n",
       "6. 'Democratic Republic of the Congo'\n",
       "7. 'Egypt'\n",
       "8. 'Gambia'\n",
       "9. 'Georgia (Country)'\n",
       "10. 'Iran (Islamic Republic of)'\n",
       "11. 'Kyrgyzstan'\n",
       "12. 'Lao People\\'s Democratic Republic'\n",
       "13. 'Micronesia (Federated States of)'\n",
       "14. 'Republic of Korea'\n",
       "15. 'Republic of Moldova'\n",
       "16. 'Saint Kitts and Nevis'\n",
       "17. 'Saint Lucia'\n",
       "18. 'Saint Vincent and the Grenadines'\n",
       "19. 'Slovakia'\n",
       "20. 'Türkiye'\n",
       "21. 'United Kingdom of Great Britain and Northern Ireland'\n",
       "22. 'United Republic of Tanzania'\n",
       "23. 'United States of America'\n",
       "24. 'Venezuela'\n",
       "25. 'Yemen'\n",
       "\n",
       "\n"
      ],
      "text/plain": [
       " [1] \"Bahamas\"                                             \n",
       " [2] \"Congo\"                                               \n",
       " [3] \"Czech Republic\"                                      \n",
       " [4] \"Côte d'Ivoire\"                                       \n",
       " [5] \"Democratic People's Republic of Korea\"               \n",
       " [6] \"Democratic Republic of the Congo\"                    \n",
       " [7] \"Egypt\"                                               \n",
       " [8] \"Gambia\"                                              \n",
       " [9] \"Georgia (Country)\"                                   \n",
       "[10] \"Iran (Islamic Republic of)\"                          \n",
       "[11] \"Kyrgyzstan\"                                          \n",
       "[12] \"Lao People's Democratic Republic\"                    \n",
       "[13] \"Micronesia (Federated States of)\"                    \n",
       "[14] \"Republic of Korea\"                                   \n",
       "[15] \"Republic of Moldova\"                                 \n",
       "[16] \"Saint Kitts and Nevis\"                               \n",
       "[17] \"Saint Lucia\"                                         \n",
       "[18] \"Saint Vincent and the Grenadines\"                    \n",
       "[19] \"Slovakia\"                                            \n",
       "[20] \"Türkiye\"                                             \n",
       "[21] \"United Kingdom of Great Britain and Northern Ireland\"\n",
       "[22] \"United Republic of Tanzania\"                         \n",
       "[23] \"United States of America\"                            \n",
       "[24] \"Venezuela\"                                           \n",
       "[25] \"Yemen\"                                               "
      ]
     },
     "metadata": {},
     "output_type": "display_data"
    }
   ],
   "source": [
    "setdiff(egdi$Country.Name, gdp$Country.Name)"
   ]
  },
  {
   "cell_type": "code",
   "execution_count": 6,
   "id": "aaa3ba04",
   "metadata": {
    "vscode": {
     "languageId": "r"
    }
   },
   "outputs": [],
   "source": [
    "gdp <- gdp %>% \n",
    "    mutate(Country.Name = case_when(\n",
    "        Country.Name == 'Bahamas, The' ~ 'Bahamas',\n",
    "        Country.Name == 'Congo, Rep.' ~ 'Congo',\n",
    "        Country.Name == 'Czechia' ~ 'Czech Republic',\n",
    "        Country.Name == 'Cote d\\'Ivoire' ~ 'Côte d\\'Ivoire',\n",
    "        Country.Name == 'Egypt, Arab Rep.' ~ 'Egypt',\n",
    "        Country.Name == 'Gambia, The' ~ 'Gambia',\n",
    "        Country.Name == 'Georgia' ~ 'Georgia (Country)',\n",
    "        Country.Name == 'Micronesia, Fed. Sts.' ~ 'Micronesia (Federated States of)',\n",
    "        Country.Name == 'Turkiye' ~ 'Türkiye',\n",
    "        Country.Name == 'Iran, Islamic Rep.' ~ 'Iran (Islamic Republic of)',\n",
    "        Country.Name == 'Congo, Dem. Rep.' ~ 'Democratic Republic of the Congo',\n",
    "        Country.Name == 'Korea, Rep.' ~ 'Republic of Korea',\n",
    "        Country.Name == 'Moldova' ~ 'Republic of Moldova',\n",
    "        Country.Name == 'Korea, Dem. People\\'s Rep.' ~ 'Democratic People\\'s Republic of Korea',\n",
    "        Country.Name == 'Slovak Republic' ~ 'Slovakia',\n",
    "        Country.Name == 'St. Kitts and Nevis' ~ 'Saint Kitts and Nevis',\n",
    "        Country.Name == 'St. Lucia' ~ 'Saint Lucia',\n",
    "        Country.Name == 'St. Vincent and the Grenadines' ~ 'Saint Vincent and the Grenadines',\n",
    "        Country.Name == 'Yemen, Rep.' ~ 'Yemen',\n",
    "        Country.Name == 'Venezuela, RB' ~ 'Venezuela',\n",
    "        Country.Name == 'United Kingdom' ~ 'United Kingdom of Great Britain and Northern Ireland',\n",
    "        Country.Name == 'Tanzania' ~ 'United Republic of Tanzania',\n",
    "        Country.Name == 'United States' ~ 'United States of America',\n",
    "        Country.Name == 'Lao PDR' ~ 'Lao People\\'s Democratic Republic',\n",
    "        Country.Name == 'Kyrgyz Republic' ~ 'Kyrgyzstan',\n",
    "        TRUE ~ Country.Name\n",
    "    )) %>%\n",
    "    filter(Country.Name %in% egdi$Country.Name) %>%\n",
    "    arrange(Country.Name)"
   ]
  },
  {
   "cell_type": "code",
   "execution_count": 7,
   "id": "f462b615",
   "metadata": {
    "vscode": {
     "languageId": "r"
    }
   },
   "outputs": [
    {
     "data": {
      "text/html": [],
      "text/latex": [],
      "text/markdown": [],
      "text/plain": [
       "character(0)"
      ]
     },
     "metadata": {},
     "output_type": "display_data"
    }
   ],
   "source": [
    "setdiff(egdi$Country.Name, gdp$Country.Name)"
   ]
  },
  {
   "cell_type": "markdown",
   "id": "b9665941",
   "metadata": {},
   "source": []
  },
  {
   "cell_type": "code",
   "execution_count": 8,
   "id": "13b6c048",
   "metadata": {
    "vscode": {
     "languageId": "r"
    }
   },
   "outputs": [
    {
     "data": {
      "text/html": [
       "193"
      ],
      "text/latex": [
       "193"
      ],
      "text/markdown": [
       "193"
      ],
      "text/plain": [
       "[1] 193"
      ]
     },
     "metadata": {},
     "output_type": "display_data"
    }
   ],
   "source": [
    "length(gdp$Country.Name)"
   ]
  },
  {
   "cell_type": "markdown",
   "id": "bf444254",
   "metadata": {},
   "source": []
  },
  {
   "cell_type": "code",
   "execution_count": 9,
   "id": "4326f102",
   "metadata": {
    "vscode": {
     "languageId": "r"
    }
   },
   "outputs": [],
   "source": [
    "df <- data.frame(\n",
    "    egdi = egdi$Online.Service.Index,\n",
    "    gdp = gdp$X2024\n",
    ")"
   ]
  },
  {
   "cell_type": "markdown",
   "id": "5594e898",
   "metadata": {},
   "source": []
  },
  {
   "cell_type": "code",
   "execution_count": 10,
   "id": "3d140f49",
   "metadata": {
    "vscode": {
     "languageId": "r"
    }
   },
   "outputs": [
    {
     "name": "stderr",
     "output_type": "stream",
     "text": [
      "\u001b[1m\u001b[22m`geom_smooth()` using formula = 'y ~ x'\n"
     ]
    },
    {
     "data": {
      "image/png": "[encoded data removed]",
      "text/plain": [
       "plot without title"
      ]
     },
     "metadata": {
      "image/png": {
       "height": 420,
       "width": 420
      }
     },
     "output_type": "display_data"
    }
   ],
   "source": [
    "ggplot(df, aes(x = egdi, y = gdp)) +\n",
    "    geom_point() +\n",
    "    geom_smooth(method = 'lm') +\n",
    "    labs(\n",
    "        x = 'Online Service Index',\n",
    "        y = 'PIB per capita PPC'\n",
    "    ) +\n",
    "    coord_cartesian(xlim = c(0, 1))"
   ]
  },
  {
   "cell_type": "markdown",
   "id": "37578877",
   "metadata": {},
   "source": []
  },
  {
   "cell_type": "markdown",
   "id": "0998dfb4",
   "metadata": {},
   "source": []
  },
  {
   "cell_type": "code",
   "execution_count": 11,
   "id": "9cea5f7f",
   "metadata": {
    "vscode": {
     "languageId": "r"
    }
   },
   "outputs": [
    {
     "data": {
      "text/html": [
       "0.700870683276015"
      ],
      "text/latex": [
       "0.700870683276015"
      ],
      "text/markdown": [
       "0.700870683276015"
      ],
      "text/plain": [
       "[1] 0.7008707"
      ]
     },
     "metadata": {},
     "output_type": "display_data"
    }
   ],
   "source": [
    "cor(df$egdi, df$gdp, method = 'spearman')"
   ]
  }
 ],
 "metadata": {
  "kernelspec": {
   "display_name": "R",
   "language": "R",
   "name": "ir"
  },
  "language_info": {
   "codemirror_mode": "r",
   "file_extension": ".r",
   "mimetype": "text/x-r-source",
   "name": "R",
   "pygments_lexer": "r",
   "version": "4.5.1"
  }
 },
 "nbformat": 4,
 "nbformat_minor": 5
}
