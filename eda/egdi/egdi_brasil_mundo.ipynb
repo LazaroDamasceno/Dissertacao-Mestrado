{
 "cells": [
  {
   "cell_type": "code",
   "execution_count": 97,
   "id": "73ce9137",
   "metadata": {
    "vscode": {
     "languageId": "r"
    }
   },
   "outputs": [],
   "source": [
    "library(tidyverse)\n",
    "library(tidyr)\n",
    "library(e1071)"
   ]
  },
  {
   "cell_type": "markdown",
   "id": "43b8d0a5",
   "metadata": {},
   "source": []
  },
  {
   "cell_type": "code",
   "execution_count": 98,
   "id": "f671c9e9",
   "metadata": {
    "vscode": {
     "languageId": "r"
    }
   },
   "outputs": [],
   "source": [
    "egdi <- read.csv('EGOV_DATA_2024.csv') %>%\n",
    "    arrange(Country.Name) %>%\n",
    "    select(\n",
    "            Country.Name,\n",
    "            E.Government.Index,\n",
    "            E.Participation.Index, \n",
    "            Online.Service.Index, \n",
    "            Human.Capital.Index, \n",
    "            Telecommunication.Infrastructure.Index\n",
    "        )"
   ]
  },
  {
   "cell_type": "markdown",
   "id": "03a1776b",
   "metadata": {},
   "source": []
  },
  {
   "cell_type": "code",
   "execution_count": 99,
   "id": "7c8e8d36",
   "metadata": {
    "vscode": {
     "languageId": "r"
    }
   },
   "outputs": [],
   "source": [
    "egdi_brasil <- egdi %>% \n",
    "    filter(Country.Name == 'Brazil')"
   ]
  },
  {
   "cell_type": "code",
   "execution_count": 100,
   "id": "54dd9239",
   "metadata": {
    "vscode": {
     "languageId": "r"
    }
   },
   "outputs": [],
   "source": [
    "egdi_mundo <- egdi %>% \n",
    "    filter(Country.Name != 'Brazil')"
   ]
  },
  {
   "cell_type": "markdown",
   "id": "cd313e32",
   "metadata": {},
   "source": []
  },
  {
   "cell_type": "code",
   "execution_count": 101,
   "id": "d392af6b",
   "metadata": {
    "vscode": {
     "languageId": "r"
    }
   },
   "outputs": [
    {
     "data": {
      "text/html": [
       "-0.403095482559637"
      ],
      "text/latex": [
       "-0.403095482559637"
      ],
      "text/markdown": [
       "-0.403095482559637"
      ],
      "text/plain": [
       "[1] -0.4030955"
      ]
     },
     "metadata": {},
     "output_type": "display_data"
    }
   ],
   "source": [
    "skewness(egdi_mundo$E.Government.Index)"
   ]
  },
  {
   "cell_type": "markdown",
   "id": "10d7151b",
   "metadata": {},
   "source": []
  },
  {
   "cell_type": "code",
   "execution_count": 102,
   "id": "408eff6d",
   "metadata": {
    "vscode": {
     "languageId": "r"
    }
   },
   "outputs": [],
   "source": [
    "df = data.frame(\n",
    "    paises = c(\n",
    "        'Mundo', \n",
    "        'Brasil'),\n",
    "    egdi = c(\n",
    "        median(egdi_mundo$E.Government.Index),\n",
    "        egdi_brasil$E.Government.Index\n",
    "    ),\n",
    "    epart = c(\n",
    "        median(egdi_mundo$E.Participation.Index),\n",
    "        egdi_brasil$E.Participation.Index\n",
    "    ),\n",
    "    osi = c(\n",
    "        median(egdi_mundo$Online.Service.Index),\n",
    "        egdi_brasil$Online.Service.Index\n",
    "    ),\n",
    "    hci = c(\n",
    "        median(egdi_mundo$Human.Capital.Index),\n",
    "        egdi_brasil$Human.Capital.Index\n",
    "    ),\n",
    "    tci = c(\n",
    "        median(egdi_mundo$Telecommunication.Infrastructure.Index),\n",
    "        egdi_brasil$Telecommunication.Infrastructure.Index\n",
    "    )\n",
    ")"
   ]
  },
  {
   "cell_type": "code",
   "execution_count": 103,
   "id": "e1c08eaa",
   "metadata": {
    "vscode": {
     "languageId": "r"
    }
   },
   "outputs": [],
   "source": [
    "df_long <- df %>%\n",
    "  pivot_longer(cols = -paises,\n",
    "               names_to = \"indicador\",\n",
    "               values_to = \"valor\")"
   ]
  },
  {
   "cell_type": "code",
   "execution_count": 104,
   "id": "adc3eabc",
   "metadata": {
    "vscode": {
     "languageId": "r"
    }
   },
   "outputs": [
    {
     "data": {
      "image/png": "[encoded data removed]",
      "text/plain": [
       "plot without title"
      ]
     },
     "metadata": {
      "image/png": {
       "height": 420,
       "width": 420
      }
     },
     "output_type": "display_data"
    }
   ],
   "source": [
    "ggplot(df_long, aes(indicador, valor, fill = paises)) +\n",
    "    geom_col(position = \"dodge\") +\n",
    "    scale_x_discrete(labels = c('EGDI', 'E-Participation Index', 'HCI', 'OSI', 'TCI')) +\n",
    "    geom_text(\n",
    "        aes(label = round(valor, 2)),\n",
    "        vjust = -0.5,    \n",
    "        position = position_dodge(width = 0.9), \n",
    "        size = 3\n",
    "    ) +\n",
    "    coord_cartesian(ylim = c(0, 1)) +\n",
    "    labs(\n",
    "        x = 'Índices',\n",
    "        y = 'Escala'\n",
    "    )"
   ]
  },
  {
   "cell_type": "code",
   "execution_count": 105,
   "id": "9ec2cbf9",
   "metadata": {
    "vscode": {
     "languageId": "r"
    }
   },
   "outputs": [],
   "source": [
    "ggsave(\n",
    "    'C:/Users/lazar/Master-Dissertation/figuras/comparacao_egdi_brasil_mundo.png', \n",
    "    dpi=300,\n",
    "    width = 25.4,\n",
    "    height = 15.24,\n",
    "    units = \"cm\"\n",
    ")"
   ]
  }
 ],
 "metadata": {
  "kernelspec": {
   "display_name": "R",
   "language": "R",
   "name": "ir"
  },
  "language_info": {
   "codemirror_mode": "r",
   "file_extension": ".r",
   "mimetype": "text/x-r-source",
   "name": "R",
   "pygments_lexer": "r",
   "version": "4.5.1"
  }
 },
 "nbformat": 4,
 "nbformat_minor": 5
}
