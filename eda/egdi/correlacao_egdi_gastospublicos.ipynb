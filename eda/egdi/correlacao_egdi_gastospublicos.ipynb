{
 "cells": [
  {
   "cell_type": "code",
   "execution_count": 28,
   "id": "74976316",
   "metadata": {
    "vscode": {
     "languageId": "r"
    }
   },
   "outputs": [],
   "source": [
    "library(tidyverse)\n",
    "library(readxl)"
   ]
  },
  {
   "cell_type": "code",
   "execution_count": 29,
   "id": "2ec41683",
   "metadata": {
    "vscode": {
     "languageId": "r"
    }
   },
   "outputs": [],
   "source": [
    "egdi <- read.csv('EGOV_DATA_2024.csv') %>%\n",
    "    arrange(Country.Name) %>%\n",
    "    select(\n",
    "            Country.Name,\n",
    "            E.Government.Index,\n",
    "            E.Participation.Index, \n",
    "            Online.Service.Index, \n",
    "            Human.Capital.Index, \n",
    "            Telecommunication.Infrastructure.Index\n",
    "        )"
   ]
  },
  {
   "cell_type": "code",
   "execution_count": 30,
   "id": "1781f382",
   "metadata": {
    "vscode": {
     "languageId": "r"
    }
   },
   "outputs": [
    {
     "name": "stdout",
     "output_type": "stream",
     "text": [
      "Rows: 193\n",
      "Columns: 6\n",
      "$ Country.Name                           \u001b[3m\u001b[90m<chr>\u001b[39m\u001b[23m \"Afghanistan\"\u001b[90m, \u001b[39m\"Albania\"\u001b[90m, \u001b[39m\"Alge…\n",
      "$ E.Government.Index                     \u001b[3m\u001b[90m<dbl>\u001b[39m\u001b[23m 0.20827\u001b[90m, \u001b[39m0.80000\u001b[90m, \u001b[39m0.59556\u001b[90m, \u001b[39m0.68…\n",
      "$ E.Participation.Index                  \u001b[3m\u001b[90m<dbl>\u001b[39m\u001b[23m 0.1096\u001b[90m, \u001b[39m0.7260\u001b[90m, \u001b[39m0.0548\u001b[90m, \u001b[39m0.5479\u001b[90m,\u001b[39m…\n",
      "$ Online.Service.Index                   \u001b[3m\u001b[90m<dbl>\u001b[39m\u001b[23m 0.14379\u001b[90m, \u001b[39m0.81441\u001b[90m, \u001b[39m0.33200\u001b[90m, \u001b[39m0.47…\n",
      "$ Human.Capital.Index                    \u001b[3m\u001b[90m<dbl>\u001b[39m\u001b[23m 0.26430\u001b[90m, \u001b[39m0.81059\u001b[90m, \u001b[39m0.64179\u001b[90m, \u001b[39m0.66…\n",
      "$ Telecommunication.Infrastructure.Index \u001b[3m\u001b[90m<dbl>\u001b[39m\u001b[23m 0.21672\u001b[90m, \u001b[39m0.77497\u001b[90m, \u001b[39m0.81290\u001b[90m, \u001b[39m0.92…\n"
     ]
    }
   ],
   "source": [
    "glimpse(egdi)"
   ]
  },
  {
   "cell_type": "code",
   "execution_count": 31,
   "id": "885598f9",
   "metadata": {
    "vscode": {
     "languageId": "r"
    }
   },
   "outputs": [],
   "source": [
    "gastos_publicos <- read_excel('imf_government_expenditure.xls') %>% \n",
    "    arrange(Country)"
   ]
  },
  {
   "cell_type": "code",
   "execution_count": 32,
   "id": "ae6cd892",
   "metadata": {
    "vscode": {
     "languageId": "r"
    }
   },
   "outputs": [],
   "source": [
    "gastos_publicos <- gastos_publicos %>% \n",
    "    mutate(Country = case_when(\n",
    "        Country == 'Vietnam' ~ 'Viet Nam',\n",
    "        Country == 'Georgia' ~ 'Georgia (Country)',\n",
    "        Country == 'China, People\\'s Republic of' ~ 'China',\n",
    "        Country == 'China, People\\'s Republic of' ~ 'China',\n",
    "        Country == 'Republic of Congo' ~ 'Congo',\n",
    "        Country == 'Türkiye, Republic of' ~ 'Türkiye',\n",
    "        Country == \"Micronesia, Fed. States of\" ~ \"Micronesia (Federated States of)\",\n",
    "        Country == \"United States\" ~ \"United States of America\",\n",
    "        Country == \"United Kingdom\" ~ \"United Kingdom of Great Britain and Northern Ireland\",\n",
    "        Country == \"Tanzania\" ~ \"United Republic of Tanzania\",\n",
    "        Country == \"Slovak Republic\" ~ \"Slovakia\",\n",
    "        Country == \"Moldova\" ~ \"Republic of Moldova\",\n",
    "        Country == \"Kyrgyz Republic\" ~ \"Kyrgyzstan\",\n",
    "        Country == \"Korea, Republic of\" ~ \"Republic of Korea\",\n",
    "        Country == \"Iran\" ~ \"Iran (Islamic Republic of)\",\n",
    "        TRUE ~ Country\n",
    "    ))"
   ]
  },
  {
   "cell_type": "code",
   "execution_count": 33,
   "id": "9b101eda",
   "metadata": {
    "vscode": {
     "languageId": "r"
    }
   },
   "outputs": [],
   "source": [
    "gastos_publicos <- gastos_publicos %>%\n",
    "    filter(Country %in% egdi$Country.Name)"
   ]
  },
  {
   "cell_type": "code",
   "execution_count": 34,
   "id": "f7ea62a8",
   "metadata": {
    "vscode": {
     "languageId": "r"
    }
   },
   "outputs": [],
   "source": [
    "egdi <- egdi %>%\n",
    "    filter(Country.Name %in% gastos_publicos$Country)"
   ]
  },
  {
   "cell_type": "code",
   "execution_count": 35,
   "id": "158392b9",
   "metadata": {
    "vscode": {
     "languageId": "r"
    }
   },
   "outputs": [],
   "source": [
    "df <- data.frame(\n",
    "    indices = c(\n",
    "        'EGDI',\n",
    "        'E-Participation Index ',\n",
    "        'OSI',\n",
    "        'HCI',\n",
    "        'TCI'\n",
    "    ),\n",
    "    correlacoes = c(\n",
    "        cor(gastos_publicos$Percentage, egdi$E.Government.Index, method = 'spearman'),\n",
    "        cor(gastos_publicos$Percentage, egdi$E.Participation.Index, method = 'spearman'),\n",
    "        cor(gastos_publicos$Percentage, egdi$Online.Service.Index, method = 'spearman'),\n",
    "        cor(gastos_publicos$Percentage, egdi$Human.Capital.Index, method = 'spearman'),\n",
    "        cor(gastos_publicos$Percentage, egdi$Telecommunication.Infrastructure.Index, method = 'spearman')\n",
    "    )\n",
    ")"
   ]
  },
  {
   "cell_type": "code",
   "execution_count": 36,
   "id": "55c6947a",
   "metadata": {
    "vscode": {
     "languageId": "r"
    }
   },
   "outputs": [],
   "source": [
    "my_plot = ggplot(df, aes(indices, correlacoes)) +\n",
    "    geom_col(fill = \"steelblue\") +\n",
    "    labs(\n",
    "        x = 'Índices',\n",
    "        y = 'Escala'\n",
    "    ) +\n",
    "    coord_cartesian(ylim = c(0, 1)) +\n",
    "    geom_text(\n",
    "        aes(label = round(correlacoes, 2)), \n",
    "        vjust = -0.5\n",
    "    )"
   ]
  },
  {
   "cell_type": "code",
   "execution_count": 37,
   "id": "4dfc394e",
   "metadata": {
    "vscode": {
     "languageId": "r"
    }
   },
   "outputs": [
    {
     "data": {
      "image/png": "[encoded data removed]",
      "text/plain": [
       "plot without title"
      ]
     },
     "metadata": {
      "image/png": {
       "height": 420,
       "width": 420
      }
     },
     "output_type": "display_data"
    }
   ],
   "source": [
    "my_plot"
   ]
  },
  {
   "cell_type": "code",
   "execution_count": 38,
   "id": "67a05a51",
   "metadata": {
    "vscode": {
     "languageId": "r"
    }
   },
   "outputs": [],
   "source": [
    "ggsave(\n",
    "    'C:/Users/lazar/Master-Dissertation/figuras/correlacao_egdi_gastospublicos.png', \n",
    "    dpi=300,\n",
    "    width = 25.4,\n",
    "    height = 15.24,\n",
    "    units = \"cm\"\n",
    ")"
   ]
  }
 ],
 "metadata": {
  "kernelspec": {
   "display_name": "R",
   "language": "R",
   "name": "ir"
  },
  "language_info": {
   "codemirror_mode": "r",
   "file_extension": ".r",
   "mimetype": "text/x-r-source",
   "name": "R",
   "pygments_lexer": "r",
   "version": "4.5.1"
  }
 },
 "nbformat": 4,
 "nbformat_minor": 5
}
