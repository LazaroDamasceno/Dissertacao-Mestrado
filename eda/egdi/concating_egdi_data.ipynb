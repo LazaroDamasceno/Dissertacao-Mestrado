{
 "cells": [
  {
   "cell_type": "code",
   "execution_count": 1,
   "id": "31435198",
   "metadata": {},
   "outputs": [],
   "source": [
    "import pandas as pd\n",
    "import matplotlib.pyplot as plt\n",
    "import seaborn as sns"
   ]
  },
  {
   "cell_type": "code",
   "execution_count": 2,
   "id": "058e493c",
   "metadata": {},
   "outputs": [],
   "source": [
    "df_2003 = pd.read_csv('EGOV_DATA_2003.csv')\n",
    "df_2004 = pd.read_csv('EGOV_DATA_2004.csv')\n",
    "df_2005 = pd.read_csv('EGOV_DATA_2005.csv')\n",
    "df_2008 = pd.read_csv('EGOV_DATA_2008.csv')\n",
    "df_2010 = pd.read_csv('EGOV_DATA_2010.csv')\n",
    "df_2012 = pd.read_csv('EGOV_DATA_2012.csv')\n",
    "df_2014 = pd.read_csv('EGOV_DATA_2014.csv')\n",
    "df_2016 = pd.read_csv('EGOV_DATA_2016.csv')\n",
    "df_2018 = pd.read_csv('EGOV_DATA_2018.csv')\n",
    "df_2020 = pd.read_csv('EGOV_DATA_2020.csv')\n",
    "df_2022 = pd.read_csv('EGOV_DATA_2022.csv')\n",
    "df_2024 = pd.read_csv('EGOV_DATA_2024.csv')"
   ]
  },
  {
   "cell_type": "code",
   "execution_count": 3,
   "id": "f704d3e6",
   "metadata": {},
   "outputs": [],
   "source": [
    "df_concated = pd.concat([\n",
    "    df_2003,\n",
    "    df_2004,\n",
    "    df_2005,\n",
    "    df_2008,\n",
    "    df_2010,\n",
    "    df_2012,\n",
    "    df_2014,\n",
    "    df_2016,\n",
    "    df_2018,\n",
    "    df_2020,\n",
    "    df_2022,\n",
    "    df_2024\n",
    "]).reset_index(drop=True)"
   ]
  },
  {
   "cell_type": "code",
   "execution_count": 4,
   "id": "36966042",
   "metadata": {},
   "outputs": [
    {
     "name": "stdout",
     "output_type": "stream",
     "text": [
      "<class 'pandas.core.frame.DataFrame'>\n",
      "RangeIndex: 12 entries, 0 to 11\n",
      "Data columns (total 8 columns):\n",
      " #   Column                                  Non-Null Count  Dtype  \n",
      "---  ------                                  --------------  -----  \n",
      " 0   Survey Year                             12 non-null     int64  \n",
      " 1   Country Name                            12 non-null     object \n",
      " 2   E-Government Rank                       12 non-null     int64  \n",
      " 3   E-Government Index                      12 non-null     float64\n",
      " 4   E-Participation Index                   12 non-null     float64\n",
      " 5   Online Service Index                    12 non-null     float64\n",
      " 6   Human Capital Index                     12 non-null     float64\n",
      " 7   Telecommunication Infrastructure Index  12 non-null     float64\n",
      "dtypes: float64(5), int64(2), object(1)\n",
      "memory usage: 900.0+ bytes\n"
     ]
    }
   ],
   "source": [
    "df_concated.info()"
   ]
  },
  {
   "cell_type": "code",
   "execution_count": 5,
   "id": "cecf7ced",
   "metadata": {},
   "outputs": [
    {
     "data": {
      "application/vnd.microsoft.datawrangler.viewer.v0+json": {
       "columns": [
        {
         "name": "index",
         "rawType": "object",
         "type": "string"
        },
        {
         "name": "0",
         "rawType": "object",
         "type": "unknown"
        }
       ],
       "ref": "56f1a3be-bacc-4ca3-a912-4f6ae322fd29",
       "rows": [
        [
         "Survey Year",
         "int64"
        ],
        [
         "Country Name",
         "object"
        ],
        [
         "E-Government Rank",
         "int64"
        ],
        [
         "E-Government Index",
         "float64"
        ],
        [
         "E-Participation Index",
         "float64"
        ],
        [
         "Online Service Index",
         "float64"
        ],
        [
         "Human Capital Index",
         "float64"
        ],
        [
         "Telecommunication Infrastructure Index",
         "float64"
        ]
       ],
       "shape": {
        "columns": 1,
        "rows": 8
       }
      },
      "text/plain": [
       "Survey Year                                 int64\n",
       "Country Name                               object\n",
       "E-Government Rank                           int64\n",
       "E-Government Index                        float64\n",
       "E-Participation Index                     float64\n",
       "Online Service Index                      float64\n",
       "Human Capital Index                       float64\n",
       "Telecommunication Infrastructure Index    float64\n",
       "dtype: object"
      ]
     },
     "execution_count": 5,
     "metadata": {},
     "output_type": "execute_result"
    }
   ],
   "source": [
    "df_concated.dtypes"
   ]
  },
  {
   "cell_type": "code",
   "execution_count": 6,
   "id": "1728432c",
   "metadata": {},
   "outputs": [],
   "source": [
    "df_tidy = df_concated.melt(\n",
    "    id_vars='Survey Year',\n",
    "    value_vars=[\n",
    "        'E-Government Index',\n",
    "        'E-Participation Index',\n",
    "        'Online Service Index',\n",
    "        'Human Capital Index',\n",
    "        'Telecommunication Infrastructure Index'\n",
    "    ],\n",
    "    var_name='Metric',\n",
    "    value_name='Percentage'\n",
    ")"
   ]
  },
  {
   "cell_type": "code",
   "execution_count": 7,
   "id": "ae854a87",
   "metadata": {},
   "outputs": [],
   "source": [
    "df_tidy['Percentage'] = df_tidy['Percentage'].apply(lambda x: x * 100.0)"
   ]
  },
  {
   "cell_type": "code",
   "execution_count": 8,
   "id": "3138daf1",
   "metadata": {},
   "outputs": [],
   "source": [
    "df_tidy.to_csv('concated_edgi.csv')"
   ]
  }
 ],
 "metadata": {
  "kernelspec": {
   "display_name": "Python 3",
   "language": "python",
   "name": "python3"
  },
  "language_info": {
   "codemirror_mode": {
    "name": "ipython",
    "version": 3
   },
   "file_extension": ".py",
   "mimetype": "text/x-python",
   "name": "python",
   "nbconvert_exporter": "python",
   "pygments_lexer": "ipython3",
   "version": "3.13.5"
  }
 },
 "nbformat": 4,
 "nbformat_minor": 5
}
