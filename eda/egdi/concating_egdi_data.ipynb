{
 "cells": [
  {
   "cell_type": "code",
   "execution_count": 1,
   "id": "31435198",
   "metadata": {},
   "outputs": [],
   "source": [
    "import pandas as pd\n",
    "import matplotlib.pyplot as plt\n",
    "import seaborn as sns"
   ]
  },
  {
   "cell_type": "code",
   "execution_count": 2,
   "id": "058e493c",
   "metadata": {},
   "outputs": [],
   "source": [
    "df_2003 = pd.read_csv('EGOV_DATA_2003.csv')\n",
    "df_2004 = pd.read_csv('EGOV_DATA_2004.csv')\n",
    "df_2005 = pd.read_csv('EGOV_DATA_2005.csv')\n",
    "df_2008 = pd.read_csv('EGOV_DATA_2008.csv')\n",
    "df_2010 = pd.read_csv('EGOV_DATA_2010.csv')\n",
    "df_2012 = pd.read_csv('EGOV_DATA_2012.csv')\n",
    "df_2014 = pd.read_csv('EGOV_DATA_2014.csv')\n",
    "df_2016 = pd.read_csv('EGOV_DATA_2016.csv')\n",
    "df_2018 = pd.read_csv('EGOV_DATA_2018.csv')\n",
    "df_2020 = pd.read_csv('EGOV_DATA_2020.csv')\n",
    "df_2022 = pd.read_csv('EGOV_DATA_2022.csv')\n",
    "df_2024 = pd.read_csv('EGOV_DATA_2024.csv')"
   ]
  },
  {
   "cell_type": "code",
   "execution_count": 3,
   "id": "f704d3e6",
   "metadata": {},
   "outputs": [],
   "source": [
    "df_concated = pd.concat([\n",
    "    df_2003,\n",
    "    df_2004,\n",
    "    df_2005,\n",
    "    df_2008,\n",
    "    df_2010,\n",
    "    df_2012,\n",
    "    df_2014,\n",
    "    df_2016,\n",
    "    df_2018,\n",
    "    df_2020,\n",
    "    df_2022,\n",
    "    df_2024\n",
    "]).reset_index(drop=True)"
   ]
  },
  {
   "cell_type": "code",
   "execution_count": 4,
   "id": "36966042",
   "metadata": {},
   "outputs": [
    {
     "name": "stdout",
     "output_type": "stream",
     "text": [
      "<class 'pandas.core.frame.DataFrame'>\n",
      "RangeIndex: 12 entries, 0 to 11\n",
      "Data columns (total 8 columns):\n",
      " #   Column                                  Non-Null Count  Dtype  \n",
      "---  ------                                  --------------  -----  \n",
      " 0   Survey Year                             12 non-null     int64  \n",
      " 1   Country Name                            12 non-null     object \n",
      " 2   E-Government Rank                       12 non-null     int64  \n",
      " 3   E-Government Index                      12 non-null     float64\n",
      " 4   E-Participation Index                   12 non-null     float64\n",
      " 5   Online Service Index                    12 non-null     float64\n",
      " 6   Human Capital Index                     12 non-null     float64\n",
      " 7   Telecommunication Infrastructure Index  12 non-null     float64\n",
      "dtypes: float64(5), int64(2), object(1)\n",
      "memory usage: 900.0+ bytes\n"
     ]
    }
   ],
   "source": [
    "df_concated.info()"
   ]
  },
  {
   "cell_type": "code",
   "execution_count": 5,
   "id": "cecf7ced",
   "metadata": {},
   "outputs": [
    {
     "data": {
      "application/vnd.microsoft.datawrangler.viewer.v0+json": {
       "columns": [
        {
         "name": "index",
         "rawType": "object",
         "type": "string"
        },
        {
         "name": "0",
         "rawType": "object",
         "type": "unknown"
        }
       ],
       "ref": "09c1d021-ec3f-45e6-a37f-b13336f4c906",
       "rows": [
        [
         "Survey Year",
         "int64"
        ],
        [
         "Country Name",
         "object"
        ],
        [
         "E-Government Rank",
         "int64"
        ],
        [
         "E-Government Index",
         "float64"
        ],
        [
         "E-Participation Index",
         "float64"
        ],
        [
         "Online Service Index",
         "float64"
        ],
        [
         "Human Capital Index",
         "float64"
        ],
        [
         "Telecommunication Infrastructure Index",
         "float64"
        ]
       ],
       "shape": {
        "columns": 1,
        "rows": 8
       }
      },
      "text/plain": [
       "Survey Year                                 int64\n",
       "Country Name                               object\n",
       "E-Government Rank                           int64\n",
       "E-Government Index                        float64\n",
       "E-Participation Index                     float64\n",
       "Online Service Index                      float64\n",
       "Human Capital Index                       float64\n",
       "Telecommunication Infrastructure Index    float64\n",
       "dtype: object"
      ]
     },
     "execution_count": 5,
     "metadata": {},
     "output_type": "execute_result"
    }
   ],
   "source": [
    "df_concated.dtypes"
   ]
  },
  {
   "cell_type": "code",
   "execution_count": 6,
   "id": "1728432c",
   "metadata": {},
   "outputs": [
    {
     "data": {
      "application/vnd.microsoft.datawrangler.viewer.v0+json": {
       "columns": [
        {
         "name": "index",
         "rawType": "int64",
         "type": "integer"
        },
        {
         "name": "Survey Year",
         "rawType": "int64",
         "type": "integer"
        },
        {
         "name": "Country Name",
         "rawType": "object",
         "type": "string"
        },
        {
         "name": "E-Government Rank",
         "rawType": "int64",
         "type": "integer"
        },
        {
         "name": "E-Government Index",
         "rawType": "float64",
         "type": "float"
        },
        {
         "name": "E-Participation Index",
         "rawType": "float64",
         "type": "float"
        },
        {
         "name": "Online Service Index",
         "rawType": "float64",
         "type": "float"
        },
        {
         "name": "Human Capital Index",
         "rawType": "float64",
         "type": "float"
        },
        {
         "name": "Telecommunication Infrastructure Index",
         "rawType": "float64",
         "type": "float"
        }
       ],
       "ref": "e4784e19-9154-4363-aaaf-e4eb177f4ceb",
       "rows": [
        [
         "0",
         "2003",
         "Brazil ",
         "41",
         "0.52673",
         "0.3793",
         "0.57641",
         "0.83",
         "0.17378"
        ],
        [
         "1",
         "2004",
         "Brazil ",
         "35",
         "0.56746",
         "0.2459",
         "0.63706",
         "0.9",
         "0.16533"
        ],
        [
         "2",
         "2005",
         "Brazil ",
         "33",
         "0.59811",
         "0.49206",
         "0.75",
         "0.88",
         "0.16435"
        ],
        [
         "3",
         "2008",
         "Brazil ",
         "45",
         "0.5679",
         "0.45454",
         "0.602",
         "0.8825",
         "0.21812"
        ],
        [
         "4",
         "2010",
         "Brazil ",
         "61",
         "0.50058",
         "0.28571",
         "0.36825",
         "0.8837",
         "0.2538"
        ],
        [
         "5",
         "2012",
         "Brazil ",
         "59",
         "0.61673",
         "0.5",
         "0.6732",
         "0.82025",
         "0.35676"
        ],
        [
         "6",
         "2014",
         "Brazil ",
         "57",
         "0.60082",
         "0.70588",
         "0.59842",
         "0.7372",
         "0.46681"
        ],
        [
         "7",
         "2016",
         "Brazil ",
         "51",
         "0.63769",
         "0.72881",
         "0.73188",
         "0.67867",
         "0.5025"
        ],
        [
         "8",
         "2018",
         "Brazil ",
         "44",
         "0.7327",
         "0.9719",
         "0.9236",
         "0.7525",
         "0.522"
        ],
        [
         "9",
         "2020",
         "Brazil ",
         "54",
         "0.7677",
         "0.9048",
         "0.8706",
         "0.7803",
         "0.6522"
        ],
        [
         "10",
         "2022",
         "Brazil ",
         "49",
         "0.791",
         "0.8977",
         "0.8964",
         "0.7953",
         "0.6814"
        ],
        [
         "11",
         "2024",
         "Brazil ",
         "50",
         "0.84026",
         "0.863",
         "0.90631",
         "0.80768",
         "0.80685"
        ]
       ],
       "shape": {
        "columns": 8,
        "rows": 12
       }
      },
      "text/html": [
       "<div>\n",
       "<style scoped>\n",
       "    .dataframe tbody tr th:only-of-type {\n",
       "        vertical-align: middle;\n",
       "    }\n",
       "\n",
       "    .dataframe tbody tr th {\n",
       "        vertical-align: top;\n",
       "    }\n",
       "\n",
       "    .dataframe thead th {\n",
       "        text-align: right;\n",
       "    }\n",
       "</style>\n",
       "<table border=\"1\" class=\"dataframe\">\n",
       "  <thead>\n",
       "    <tr style=\"text-align: right;\">\n",
       "      <th></th>\n",
       "      <th>Survey Year</th>\n",
       "      <th>Country Name</th>\n",
       "      <th>E-Government Rank</th>\n",
       "      <th>E-Government Index</th>\n",
       "      <th>E-Participation Index</th>\n",
       "      <th>Online Service Index</th>\n",
       "      <th>Human Capital Index</th>\n",
       "      <th>Telecommunication Infrastructure Index</th>\n",
       "    </tr>\n",
       "  </thead>\n",
       "  <tbody>\n",
       "    <tr>\n",
       "      <th>0</th>\n",
       "      <td>2003</td>\n",
       "      <td>Brazil</td>\n",
       "      <td>41</td>\n",
       "      <td>0.52673</td>\n",
       "      <td>0.37930</td>\n",
       "      <td>0.57641</td>\n",
       "      <td>0.83000</td>\n",
       "      <td>0.17378</td>\n",
       "    </tr>\n",
       "    <tr>\n",
       "      <th>1</th>\n",
       "      <td>2004</td>\n",
       "      <td>Brazil</td>\n",
       "      <td>35</td>\n",
       "      <td>0.56746</td>\n",
       "      <td>0.24590</td>\n",
       "      <td>0.63706</td>\n",
       "      <td>0.90000</td>\n",
       "      <td>0.16533</td>\n",
       "    </tr>\n",
       "    <tr>\n",
       "      <th>2</th>\n",
       "      <td>2005</td>\n",
       "      <td>Brazil</td>\n",
       "      <td>33</td>\n",
       "      <td>0.59811</td>\n",
       "      <td>0.49206</td>\n",
       "      <td>0.75000</td>\n",
       "      <td>0.88000</td>\n",
       "      <td>0.16435</td>\n",
       "    </tr>\n",
       "    <tr>\n",
       "      <th>3</th>\n",
       "      <td>2008</td>\n",
       "      <td>Brazil</td>\n",
       "      <td>45</td>\n",
       "      <td>0.56790</td>\n",
       "      <td>0.45454</td>\n",
       "      <td>0.60200</td>\n",
       "      <td>0.88250</td>\n",
       "      <td>0.21812</td>\n",
       "    </tr>\n",
       "    <tr>\n",
       "      <th>4</th>\n",
       "      <td>2010</td>\n",
       "      <td>Brazil</td>\n",
       "      <td>61</td>\n",
       "      <td>0.50058</td>\n",
       "      <td>0.28571</td>\n",
       "      <td>0.36825</td>\n",
       "      <td>0.88370</td>\n",
       "      <td>0.25380</td>\n",
       "    </tr>\n",
       "    <tr>\n",
       "      <th>5</th>\n",
       "      <td>2012</td>\n",
       "      <td>Brazil</td>\n",
       "      <td>59</td>\n",
       "      <td>0.61673</td>\n",
       "      <td>0.50000</td>\n",
       "      <td>0.67320</td>\n",
       "      <td>0.82025</td>\n",
       "      <td>0.35676</td>\n",
       "    </tr>\n",
       "    <tr>\n",
       "      <th>6</th>\n",
       "      <td>2014</td>\n",
       "      <td>Brazil</td>\n",
       "      <td>57</td>\n",
       "      <td>0.60082</td>\n",
       "      <td>0.70588</td>\n",
       "      <td>0.59842</td>\n",
       "      <td>0.73720</td>\n",
       "      <td>0.46681</td>\n",
       "    </tr>\n",
       "    <tr>\n",
       "      <th>7</th>\n",
       "      <td>2016</td>\n",
       "      <td>Brazil</td>\n",
       "      <td>51</td>\n",
       "      <td>0.63769</td>\n",
       "      <td>0.72881</td>\n",
       "      <td>0.73188</td>\n",
       "      <td>0.67867</td>\n",
       "      <td>0.50250</td>\n",
       "    </tr>\n",
       "    <tr>\n",
       "      <th>8</th>\n",
       "      <td>2018</td>\n",
       "      <td>Brazil</td>\n",
       "      <td>44</td>\n",
       "      <td>0.73270</td>\n",
       "      <td>0.97190</td>\n",
       "      <td>0.92360</td>\n",
       "      <td>0.75250</td>\n",
       "      <td>0.52200</td>\n",
       "    </tr>\n",
       "    <tr>\n",
       "      <th>9</th>\n",
       "      <td>2020</td>\n",
       "      <td>Brazil</td>\n",
       "      <td>54</td>\n",
       "      <td>0.76770</td>\n",
       "      <td>0.90480</td>\n",
       "      <td>0.87060</td>\n",
       "      <td>0.78030</td>\n",
       "      <td>0.65220</td>\n",
       "    </tr>\n",
       "    <tr>\n",
       "      <th>10</th>\n",
       "      <td>2022</td>\n",
       "      <td>Brazil</td>\n",
       "      <td>49</td>\n",
       "      <td>0.79100</td>\n",
       "      <td>0.89770</td>\n",
       "      <td>0.89640</td>\n",
       "      <td>0.79530</td>\n",
       "      <td>0.68140</td>\n",
       "    </tr>\n",
       "    <tr>\n",
       "      <th>11</th>\n",
       "      <td>2024</td>\n",
       "      <td>Brazil</td>\n",
       "      <td>50</td>\n",
       "      <td>0.84026</td>\n",
       "      <td>0.86300</td>\n",
       "      <td>0.90631</td>\n",
       "      <td>0.80768</td>\n",
       "      <td>0.80685</td>\n",
       "    </tr>\n",
       "  </tbody>\n",
       "</table>\n",
       "</div>"
      ],
      "text/plain": [
       "    Survey Year Country Name  E-Government Rank  E-Government Index  \\\n",
       "0          2003      Brazil                  41             0.52673   \n",
       "1          2004      Brazil                  35             0.56746   \n",
       "2          2005      Brazil                  33             0.59811   \n",
       "3          2008      Brazil                  45             0.56790   \n",
       "4          2010      Brazil                  61             0.50058   \n",
       "5          2012      Brazil                  59             0.61673   \n",
       "6          2014      Brazil                  57             0.60082   \n",
       "7          2016      Brazil                  51             0.63769   \n",
       "8          2018      Brazil                  44             0.73270   \n",
       "9          2020      Brazil                  54             0.76770   \n",
       "10         2022      Brazil                  49             0.79100   \n",
       "11         2024      Brazil                  50             0.84026   \n",
       "\n",
       "    E-Participation Index  Online Service Index  Human Capital Index  \\\n",
       "0                 0.37930               0.57641              0.83000   \n",
       "1                 0.24590               0.63706              0.90000   \n",
       "2                 0.49206               0.75000              0.88000   \n",
       "3                 0.45454               0.60200              0.88250   \n",
       "4                 0.28571               0.36825              0.88370   \n",
       "5                 0.50000               0.67320              0.82025   \n",
       "6                 0.70588               0.59842              0.73720   \n",
       "7                 0.72881               0.73188              0.67867   \n",
       "8                 0.97190               0.92360              0.75250   \n",
       "9                 0.90480               0.87060              0.78030   \n",
       "10                0.89770               0.89640              0.79530   \n",
       "11                0.86300               0.90631              0.80768   \n",
       "\n",
       "    Telecommunication Infrastructure Index  \n",
       "0                                  0.17378  \n",
       "1                                  0.16533  \n",
       "2                                  0.16435  \n",
       "3                                  0.21812  \n",
       "4                                  0.25380  \n",
       "5                                  0.35676  \n",
       "6                                  0.46681  \n",
       "7                                  0.50250  \n",
       "8                                  0.52200  \n",
       "9                                  0.65220  \n",
       "10                                 0.68140  \n",
       "11                                 0.80685  "
      ]
     },
     "execution_count": 6,
     "metadata": {},
     "output_type": "execute_result"
    }
   ],
   "source": [
    "df_concated"
   ]
  },
  {
   "cell_type": "code",
   "execution_count": 7,
   "id": "3138daf1",
   "metadata": {},
   "outputs": [],
   "source": [
    "df_concated.to_csv('concated_edgi.csv')"
   ]
  }
 ],
 "metadata": {
  "kernelspec": {
   "display_name": "Python 3",
   "language": "python",
   "name": "python3"
  },
  "language_info": {
   "codemirror_mode": {
    "name": "ipython",
    "version": 3
   },
   "file_extension": ".py",
   "mimetype": "text/x-python",
   "name": "python",
   "nbconvert_exporter": "python",
   "pygments_lexer": "ipython3",
   "version": "3.13.5"
  }
 },
 "nbformat": 4,
 "nbformat_minor": 5
}
