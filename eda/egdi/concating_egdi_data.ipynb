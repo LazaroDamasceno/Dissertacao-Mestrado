{
 "cells": [
  {
   "cell_type": "code",
   "execution_count": null,
   "id": "31435198",
   "metadata": {},
   "outputs": [],
   "source": [
    "import pandas as pd\n",
    "import matplotlib.pyplot as plt\n",
    "import seaborn as sns"
   ]
  },
  {
   "cell_type": "code",
   "execution_count": null,
   "id": "058e493c",
   "metadata": {},
   "outputs": [],
   "source": [
    "df_2003 = pd.read_csv('EGOV_DATA_2003.csv')\n",
    "df_2004 = pd.read_csv('EGOV_DATA_2004.csv')\n",
    "df_2005 = pd.read_csv('EGOV_DATA_2005.csv')\n",
    "df_2008 = pd.read_csv('EGOV_DATA_2008.csv')\n",
    "df_2010 = pd.read_csv('EGOV_DATA_2010.csv')\n",
    "df_2012 = pd.read_csv('EGOV_DATA_2012.csv')\n",
    "df_2014 = pd.read_csv('EGOV_DATA_2014.csv')\n",
    "df_2016 = pd.read_csv('EGOV_DATA_2016.csv')\n",
    "df_2018 = pd.read_csv('EGOV_DATA_2018.csv')\n",
    "df_2020 = pd.read_csv('EGOV_DATA_2020.csv')\n",
    "df_2022 = pd.read_csv('EGOV_DATA_2022.csv')\n",
    "df_2024 = pd.read_csv('EGOV_DATA_2024.csv')"
   ]
  },
  {
   "cell_type": "code",
   "execution_count": null,
   "id": "f704d3e6",
   "metadata": {},
   "outputs": [],
   "source": [
    "df_concated = pd.concat([\n",
    "    df_2003,\n",
    "    df_2004,\n",
    "    df_2005,\n",
    "    df_2008,\n",
    "    df_2010,\n",
    "    df_2012,\n",
    "    df_2014,\n",
    "    df_2016,\n",
    "    df_2018,\n",
    "    df_2020,\n",
    "    df_2022,\n",
    "    df_2024\n",
    "]).reset_index(drop=True)"
   ]
  },
  {
   "cell_type": "code",
   "execution_count": null,
   "id": "36966042",
   "metadata": {},
   "outputs": [],
   "source": [
    "df_concated.info()"
   ]
  },
  {
   "cell_type": "code",
   "execution_count": null,
   "id": "cecf7ced",
   "metadata": {},
   "outputs": [],
   "source": [
    "df_concated.dtypes"
   ]
  },
  {
   "cell_type": "code",
   "execution_count": null,
   "id": "1728432c",
   "metadata": {},
   "outputs": [],
   "source": [
    "df_concated"
   ]
  },
  {
   "cell_type": "code",
   "execution_count": null,
   "id": "3138daf1",
   "metadata": {},
   "outputs": [],
   "source": [
    "df_concated.to_csv('concated_edgi.csv')"
   ]
  }
 ],
 "metadata": {
  "kernelspec": {
   "display_name": "Python 3",
   "language": "python",
   "name": "python3"
  },
  "language_info": {
   "codemirror_mode": {
    "name": "ipython",
    "version": 3
   },
   "file_extension": ".py",
   "mimetype": "text/x-python",
   "name": "python",
   "nbconvert_exporter": "python",
   "pygments_lexer": "ipython3",
   "version": "3.13.5"
  }
 },
 "nbformat": 4,
 "nbformat_minor": 5
}
