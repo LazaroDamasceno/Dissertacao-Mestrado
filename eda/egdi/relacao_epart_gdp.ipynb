{
 "cells": [
  {
   "cell_type": "code",
   "execution_count": null,
   "id": "d23b699b-d59e-4525-8363-cfcb3d29a052",
   "metadata": {
    "vscode": {
     "languageId": "r"
    }
   },
   "outputs": [],
   "source": [
    "library(tidyverse)\n",
    "library(tidyr)"
   ]
  },
  {
   "cell_type": "markdown",
   "id": "1c25987e",
   "metadata": {},
   "source": []
  },
  {
   "cell_type": "code",
   "execution_count": null,
   "id": "28e91b36-8b47-4f49-926a-2390d1d868b3",
   "metadata": {
    "vscode": {
     "languageId": "r"
    }
   },
   "outputs": [],
   "source": [
    "egdi <- read.csv('EGOV_DATA_2024.csv') %>%\n",
    "    select(Country.Name, E.Participation.Index) %>%\n",
    "    arrange(Country.Name)"
   ]
  },
  {
   "cell_type": "code",
   "execution_count": null,
   "id": "4416e563",
   "metadata": {
    "vscode": {
     "languageId": "r"
    }
   },
   "outputs": [],
   "source": [
    "countries <- unique(egdi$Country.Name)"
   ]
  },
  {
   "cell_type": "markdown",
   "id": "842fa9c4",
   "metadata": {},
   "source": []
  },
  {
   "cell_type": "code",
   "execution_count": null,
   "id": "2ba9480b",
   "metadata": {
    "vscode": {
     "languageId": "r"
    }
   },
   "outputs": [],
   "source": [
    "gdp <- read.csv('pib_percapita_ppc.csv') %>%\n",
    "    select(Country.Name, X2024) %>%\n",
    "    arrange(Country.Name) %>% \n",
    "    replace_na(list(X2024 = 0))"
   ]
  },
  {
   "cell_type": "markdown",
   "id": "c8bcb25a",
   "metadata": {},
   "source": []
  },
  {
   "cell_type": "code",
   "execution_count": null,
   "id": "6f703c37",
   "metadata": {
    "vscode": {
     "languageId": "r"
    }
   },
   "outputs": [],
   "source": [
    "setdiff(egdi$Country.Name, gdp$Country.Name)"
   ]
  },
  {
   "cell_type": "code",
   "execution_count": null,
   "id": "aaa3ba04",
   "metadata": {
    "vscode": {
     "languageId": "r"
    }
   },
   "outputs": [],
   "source": [
    "gdp <- gdp %>% \n",
    "    mutate(Country.Name = case_when(\n",
    "        Country.Name == 'Bahamas, The' ~ 'Bahamas',\n",
    "        Country.Name == 'Congo, Rep.' ~ 'Congo',\n",
    "        Country.Name == 'Czechia' ~ 'Czech Republic',\n",
    "        Country.Name == 'Cote d\\'Ivoire' ~ 'Côte d\\'Ivoire',\n",
    "        Country.Name == 'Egypt, Arab Rep.' ~ 'Egypt',\n",
    "        Country.Name == 'Gambia, The' ~ 'Gambia',\n",
    "        Country.Name == 'Georgia' ~ 'Georgia (Country)',\n",
    "        Country.Name == 'Micronesia, Fed. Sts.' ~ 'Micronesia (Federated States of)',\n",
    "        Country.Name == 'Turkiye' ~ 'Türkiye',\n",
    "        Country.Name == 'Iran, Islamic Rep.' ~ 'Iran (Islamic Republic of)',\n",
    "        Country.Name == 'Congo, Dem. Rep.' ~ 'Democratic Republic of the Congo',\n",
    "        Country.Name == 'Korea, Rep.' ~ 'Republic of Korea',\n",
    "        Country.Name == 'Moldova' ~ 'Republic of Moldova',\n",
    "        Country.Name == 'Korea, Dem. People\\'s Rep.' ~ 'Democratic People\\'s Republic of Korea',\n",
    "        Country.Name == 'Slovak Republic' ~ 'Slovakia',\n",
    "        Country.Name == 'St. Kitts and Nevis' ~ 'Saint Kitts and Nevis',\n",
    "        Country.Name == 'St. Lucia' ~ 'Saint Lucia',\n",
    "        Country.Name == 'St. Vincent and the Grenadines' ~ 'Saint Vincent and the Grenadines',\n",
    "        Country.Name == 'Yemen, Rep.' ~ 'Yemen',\n",
    "        Country.Name == 'Venezuela, RB' ~ 'Venezuela',\n",
    "        Country.Name == 'United Kingdom' ~ 'United Kingdom of Great Britain and Northern Ireland',\n",
    "        Country.Name == 'Tanzania' ~ 'United Republic of Tanzania',\n",
    "        Country.Name == 'United States' ~ 'United States of America',\n",
    "        Country.Name == 'Lao PDR' ~ 'Lao People\\'s Democratic Republic',\n",
    "        Country.Name == 'Kyrgyz Republic' ~ 'Kyrgyzstan',\n",
    "        TRUE ~ Country.Name\n",
    "    )) %>%\n",
    "    filter(Country.Name %in% egdi$Country.Name) %>%\n",
    "    arrange(Country.Name)"
   ]
  },
  {
   "cell_type": "code",
   "execution_count": null,
   "id": "f462b615",
   "metadata": {
    "vscode": {
     "languageId": "r"
    }
   },
   "outputs": [],
   "source": [
    "setdiff(egdi$Country.Name, gdp$Country.Name)"
   ]
  },
  {
   "cell_type": "markdown",
   "id": "b9665941",
   "metadata": {},
   "source": []
  },
  {
   "cell_type": "code",
   "execution_count": null,
   "id": "13b6c048",
   "metadata": {
    "vscode": {
     "languageId": "r"
    }
   },
   "outputs": [],
   "source": [
    "length(gdp$Country.Name)"
   ]
  },
  {
   "cell_type": "markdown",
   "id": "bf444254",
   "metadata": {},
   "source": []
  },
  {
   "cell_type": "code",
   "execution_count": null,
   "id": "4326f102",
   "metadata": {
    "vscode": {
     "languageId": "r"
    }
   },
   "outputs": [],
   "source": [
    "df <- data.frame(\n",
    "    egdi = egdi$E.Participation.Index,\n",
    "    gdp = gdp$X2024\n",
    ")"
   ]
  },
  {
   "cell_type": "markdown",
   "id": "5594e898",
   "metadata": {},
   "source": []
  },
  {
   "cell_type": "code",
   "execution_count": null,
   "id": "3d140f49",
   "metadata": {
    "vscode": {
     "languageId": "r"
    }
   },
   "outputs": [],
   "source": [
    "ggplot(df, aes(x = egdi, y = gdp)) +\n",
    "    geom_point() +\n",
    "    geom_smooth(method = 'lm') +\n",
    "    labs(\n",
    "        x = 'EGDI',\n",
    "        y = 'PIB per capita PPC'\n",
    "    ) +\n",
    "    coord_cartesian(xlim = c(0, 1))"
   ]
  },
  {
   "cell_type": "markdown",
   "id": "37578877",
   "metadata": {},
   "source": []
  },
  {
   "cell_type": "markdown",
   "id": "0998dfb4",
   "metadata": {},
   "source": []
  },
  {
   "cell_type": "code",
   "execution_count": null,
   "id": "9cea5f7f",
   "metadata": {
    "vscode": {
     "languageId": "r"
    }
   },
   "outputs": [],
   "source": [
    "cor(df$egdi, df$gdp, method = 'spearman')"
   ]
  }
 ],
 "metadata": {
  "kernelspec": {
   "display_name": "R",
   "language": "R",
   "name": "ir"
  },
  "language_info": {
   "codemirror_mode": "r",
   "file_extension": ".r",
   "mimetype": "text/x-r-source",
   "name": "R",
   "pygments_lexer": "r",
   "version": "4.5.1"
  }
 },
 "nbformat": 4,
 "nbformat_minor": 5
}
