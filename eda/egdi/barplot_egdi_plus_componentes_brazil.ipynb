{
 "cells": [
  {
   "cell_type": "code",
   "execution_count": 46,
   "id": "3a761487",
   "metadata": {},
   "outputs": [],
   "source": [
    "import pandas as pd\n",
    "import matplotlib.pyplot as plt\n",
    "import seaborn as sns\n",
    "from matplotlib.gridspec import GridSpec"
   ]
  },
  {
   "cell_type": "code",
   "execution_count": 47,
   "id": "9e8ef6ad",
   "metadata": {},
   "outputs": [],
   "source": [
    "df = pd.read_csv('concated_edgi.csv')"
   ]
  },
  {
   "cell_type": "code",
   "execution_count": 48,
   "id": "3d81bb4a",
   "metadata": {},
   "outputs": [],
   "source": [
    "df['E-Government Index'] = df['E-Government Index'].apply(lambda x: x * 100.0)\n",
    "df['E-Participation Index'] = df['E-Participation Index'].apply(lambda x: x * 100.0)\n",
    "df['Online Service Index'] = df['Online Service Index'].apply(lambda x: x * 100.0)\n",
    "df['Human Capital Index'] = df['Human Capital Index'].apply(lambda x: x * 100.0)\n",
    "df['Telecommunication Infrastructure Index'] = df['Telecommunication Infrastructure Index'].apply(lambda x: x * 100.0)"
   ]
  },
  {
   "cell_type": "code",
   "execution_count": 49,
   "id": "1c9216f4",
   "metadata": {},
   "outputs": [],
   "source": [
    "df = df.drop(columns=['Unnamed: 0'])"
   ]
  },
  {
   "cell_type": "code",
   "execution_count": 50,
   "id": "192d7192",
   "metadata": {},
   "outputs": [
    {
     "data": {
      "application/vnd.microsoft.datawrangler.viewer.v0+json": {
       "columns": [
        {
         "name": "index",
         "rawType": "int64",
         "type": "integer"
        },
        {
         "name": "Survey Year",
         "rawType": "int64",
         "type": "integer"
        },
        {
         "name": "Country Name",
         "rawType": "object",
         "type": "string"
        },
        {
         "name": "E-Government Rank",
         "rawType": "int64",
         "type": "integer"
        },
        {
         "name": "E-Government Index",
         "rawType": "float64",
         "type": "float"
        },
        {
         "name": "E-Participation Index",
         "rawType": "float64",
         "type": "float"
        },
        {
         "name": "Online Service Index",
         "rawType": "float64",
         "type": "float"
        },
        {
         "name": "Human Capital Index",
         "rawType": "float64",
         "type": "float"
        },
        {
         "name": "Telecommunication Infrastructure Index",
         "rawType": "float64",
         "type": "float"
        }
       ],
       "ref": "017d5132-04e3-4fc9-9d59-4aef617b48f1",
       "rows": [
        [
         "0",
         "2003",
         "Brazil ",
         "41",
         "52.673",
         "37.93",
         "57.641",
         "83.0",
         "17.378"
        ],
        [
         "1",
         "2004",
         "Brazil ",
         "35",
         "56.745999999999995",
         "24.59",
         "63.705999999999996",
         "90.0",
         "16.533"
        ],
        [
         "2",
         "2005",
         "Brazil ",
         "33",
         "59.811",
         "49.206",
         "75.0",
         "88.0",
         "16.435"
        ],
        [
         "3",
         "2008",
         "Brazil ",
         "45",
         "56.79",
         "45.454",
         "60.199999999999996",
         "88.25",
         "21.812"
        ],
        [
         "4",
         "2010",
         "Brazil ",
         "61",
         "50.058",
         "28.571",
         "36.825",
         "88.37",
         "25.380000000000003"
        ],
        [
         "5",
         "2012",
         "Brazil ",
         "59",
         "61.673",
         "50.0",
         "67.32000000000001",
         "82.025",
         "35.676"
        ],
        [
         "6",
         "2014",
         "Brazil ",
         "57",
         "60.082",
         "70.588",
         "59.842",
         "73.72",
         "46.681"
        ],
        [
         "7",
         "2016",
         "Brazil ",
         "51",
         "63.769",
         "72.881",
         "73.188",
         "67.867",
         "50.24999999999999"
        ],
        [
         "8",
         "2018",
         "Brazil ",
         "44",
         "73.27",
         "97.19",
         "92.36",
         "75.25",
         "52.2"
        ],
        [
         "9",
         "2020",
         "Brazil ",
         "54",
         "76.77000000000001",
         "90.48",
         "87.06",
         "78.03",
         "65.22"
        ]
       ],
       "shape": {
        "columns": 8,
        "rows": 10
       }
      },
      "text/html": [
       "<div>\n",
       "<style scoped>\n",
       "    .dataframe tbody tr th:only-of-type {\n",
       "        vertical-align: middle;\n",
       "    }\n",
       "\n",
       "    .dataframe tbody tr th {\n",
       "        vertical-align: top;\n",
       "    }\n",
       "\n",
       "    .dataframe thead th {\n",
       "        text-align: right;\n",
       "    }\n",
       "</style>\n",
       "<table border=\"1\" class=\"dataframe\">\n",
       "  <thead>\n",
       "    <tr style=\"text-align: right;\">\n",
       "      <th></th>\n",
       "      <th>Survey Year</th>\n",
       "      <th>Country Name</th>\n",
       "      <th>E-Government Rank</th>\n",
       "      <th>E-Government Index</th>\n",
       "      <th>E-Participation Index</th>\n",
       "      <th>Online Service Index</th>\n",
       "      <th>Human Capital Index</th>\n",
       "      <th>Telecommunication Infrastructure Index</th>\n",
       "    </tr>\n",
       "  </thead>\n",
       "  <tbody>\n",
       "    <tr>\n",
       "      <th>0</th>\n",
       "      <td>2003</td>\n",
       "      <td>Brazil</td>\n",
       "      <td>41</td>\n",
       "      <td>52.673</td>\n",
       "      <td>37.930</td>\n",
       "      <td>57.641</td>\n",
       "      <td>83.000</td>\n",
       "      <td>17.378</td>\n",
       "    </tr>\n",
       "    <tr>\n",
       "      <th>1</th>\n",
       "      <td>2004</td>\n",
       "      <td>Brazil</td>\n",
       "      <td>35</td>\n",
       "      <td>56.746</td>\n",
       "      <td>24.590</td>\n",
       "      <td>63.706</td>\n",
       "      <td>90.000</td>\n",
       "      <td>16.533</td>\n",
       "    </tr>\n",
       "    <tr>\n",
       "      <th>2</th>\n",
       "      <td>2005</td>\n",
       "      <td>Brazil</td>\n",
       "      <td>33</td>\n",
       "      <td>59.811</td>\n",
       "      <td>49.206</td>\n",
       "      <td>75.000</td>\n",
       "      <td>88.000</td>\n",
       "      <td>16.435</td>\n",
       "    </tr>\n",
       "    <tr>\n",
       "      <th>3</th>\n",
       "      <td>2008</td>\n",
       "      <td>Brazil</td>\n",
       "      <td>45</td>\n",
       "      <td>56.790</td>\n",
       "      <td>45.454</td>\n",
       "      <td>60.200</td>\n",
       "      <td>88.250</td>\n",
       "      <td>21.812</td>\n",
       "    </tr>\n",
       "    <tr>\n",
       "      <th>4</th>\n",
       "      <td>2010</td>\n",
       "      <td>Brazil</td>\n",
       "      <td>61</td>\n",
       "      <td>50.058</td>\n",
       "      <td>28.571</td>\n",
       "      <td>36.825</td>\n",
       "      <td>88.370</td>\n",
       "      <td>25.380</td>\n",
       "    </tr>\n",
       "    <tr>\n",
       "      <th>5</th>\n",
       "      <td>2012</td>\n",
       "      <td>Brazil</td>\n",
       "      <td>59</td>\n",
       "      <td>61.673</td>\n",
       "      <td>50.000</td>\n",
       "      <td>67.320</td>\n",
       "      <td>82.025</td>\n",
       "      <td>35.676</td>\n",
       "    </tr>\n",
       "    <tr>\n",
       "      <th>6</th>\n",
       "      <td>2014</td>\n",
       "      <td>Brazil</td>\n",
       "      <td>57</td>\n",
       "      <td>60.082</td>\n",
       "      <td>70.588</td>\n",
       "      <td>59.842</td>\n",
       "      <td>73.720</td>\n",
       "      <td>46.681</td>\n",
       "    </tr>\n",
       "    <tr>\n",
       "      <th>7</th>\n",
       "      <td>2016</td>\n",
       "      <td>Brazil</td>\n",
       "      <td>51</td>\n",
       "      <td>63.769</td>\n",
       "      <td>72.881</td>\n",
       "      <td>73.188</td>\n",
       "      <td>67.867</td>\n",
       "      <td>50.250</td>\n",
       "    </tr>\n",
       "    <tr>\n",
       "      <th>8</th>\n",
       "      <td>2018</td>\n",
       "      <td>Brazil</td>\n",
       "      <td>44</td>\n",
       "      <td>73.270</td>\n",
       "      <td>97.190</td>\n",
       "      <td>92.360</td>\n",
       "      <td>75.250</td>\n",
       "      <td>52.200</td>\n",
       "    </tr>\n",
       "    <tr>\n",
       "      <th>9</th>\n",
       "      <td>2020</td>\n",
       "      <td>Brazil</td>\n",
       "      <td>54</td>\n",
       "      <td>76.770</td>\n",
       "      <td>90.480</td>\n",
       "      <td>87.060</td>\n",
       "      <td>78.030</td>\n",
       "      <td>65.220</td>\n",
       "    </tr>\n",
       "  </tbody>\n",
       "</table>\n",
       "</div>"
      ],
      "text/plain": [
       "   Survey Year Country Name  E-Government Rank  E-Government Index  \\\n",
       "0         2003      Brazil                  41              52.673   \n",
       "1         2004      Brazil                  35              56.746   \n",
       "2         2005      Brazil                  33              59.811   \n",
       "3         2008      Brazil                  45              56.790   \n",
       "4         2010      Brazil                  61              50.058   \n",
       "5         2012      Brazil                  59              61.673   \n",
       "6         2014      Brazil                  57              60.082   \n",
       "7         2016      Brazil                  51              63.769   \n",
       "8         2018      Brazil                  44              73.270   \n",
       "9         2020      Brazil                  54              76.770   \n",
       "\n",
       "   E-Participation Index  Online Service Index  Human Capital Index  \\\n",
       "0                 37.930                57.641               83.000   \n",
       "1                 24.590                63.706               90.000   \n",
       "2                 49.206                75.000               88.000   \n",
       "3                 45.454                60.200               88.250   \n",
       "4                 28.571                36.825               88.370   \n",
       "5                 50.000                67.320               82.025   \n",
       "6                 70.588                59.842               73.720   \n",
       "7                 72.881                73.188               67.867   \n",
       "8                 97.190                92.360               75.250   \n",
       "9                 90.480                87.060               78.030   \n",
       "\n",
       "   Telecommunication Infrastructure Index  \n",
       "0                                  17.378  \n",
       "1                                  16.533  \n",
       "2                                  16.435  \n",
       "3                                  21.812  \n",
       "4                                  25.380  \n",
       "5                                  35.676  \n",
       "6                                  46.681  \n",
       "7                                  50.250  \n",
       "8                                  52.200  \n",
       "9                                  65.220  "
      ]
     },
     "execution_count": 50,
     "metadata": {},
     "output_type": "execute_result"
    }
   ],
   "source": [
    "df.head(10)"
   ]
  },
  {
   "cell_type": "code",
   "execution_count": 51,
   "id": "b78c3a98",
   "metadata": {},
   "outputs": [],
   "source": [
    "df_tidy = df.melt(\n",
    "    id_vars='Survey Year',\n",
    "    value_vars=[\n",
    "        'E-Government Index', \n",
    "        'E-Participation Index', \n",
    "        'Online Service Index', \n",
    "        'Human Capital Index', \n",
    "        'Telecommunication Infrastructure Index'\n",
    "    ],\n",
    "    var_name='Index Type',\n",
    "    value_name='Percentage'\n",
    ")"
   ]
  },
  {
   "cell_type": "code",
   "execution_count": 52,
   "id": "68da72d5",
   "metadata": {},
   "outputs": [
    {
     "data": {
      "text/plain": [
       "array(['E-Government Index', 'E-Participation Index',\n",
       "       'Online Service Index', 'Human Capital Index',\n",
       "       'Telecommunication Infrastructure Index'], dtype=object)"
      ]
     },
     "execution_count": 52,
     "metadata": {},
     "output_type": "execute_result"
    }
   ],
   "source": [
    "df_tidy['Index Type'].unique()"
   ]
  },
  {
   "cell_type": "code",
   "execution_count": 53,
   "id": "03c961fb",
   "metadata": {},
   "outputs": [],
   "source": [
    "df_egov = df_tidy.loc[df_tidy['Index Type'] == \"E-Government Index\"]\n",
    "df_epart = df_tidy.loc[df_tidy['Index Type'] == \"E-Participation Index\"]\n",
    "df_services = df_tidy.loc[df_tidy['Index Type'] == \"Online Service Index\"]\n",
    "df_humancap = df_tidy.loc[df_tidy['Index Type'] == \"Human Capital Index\"]\n",
    "df_telecom = df_tidy.loc[df_tidy['Index Type'] == \"Telecommunication Infrastructure Index\"]"
   ]
  },
  {
   "cell_type": "code",
   "execution_count": 54,
   "id": "76ea5476",
   "metadata": {},
   "outputs": [
    {
     "data": {
      "image/png": "[encoded data removed]",
      "text/plain": [
       "<Figure size 1600x1200 with 5 Axes>"
      ]
     },
     "metadata": {},
     "output_type": "display_data"
    }
   ],
   "source": [
    "fig = plt.figure(figsize=(16, 12)) # Adjust figure size as needed\n",
    "\n",
    "gs = GridSpec(3, 2, figure=fig)\n",
    "\n",
    "ax0 = fig.add_subplot(gs[0, 0])\n",
    "ax1 = fig.add_subplot(gs[0, 1]) \n",
    "ax2 = fig.add_subplot(gs[1, 0]) \n",
    "ax3 = fig.add_subplot(gs[1, 1]) \n",
    "ax4 = fig.add_subplot(gs[2, :]) \n",
    "\n",
    "all_axes = [ax0, ax1, ax2, ax3, ax4]\n",
    "\n",
    "sns.barplot(data=df_egov, y='Percentage', x='Survey Year', orient='v', ax=ax0)\n",
    "sns.barplot(data=df_epart, y='Percentage', x='Survey Year', orient='v', ax=ax1)\n",
    "sns.barplot(data=df_services, y='Percentage', x='Survey Year', orient='v', ax=ax2)\n",
    "sns.barplot(data=df_humancap, y='Percentage', x='Survey Year', orient='v', ax=ax3)\n",
    "sns.barplot(data=df_telecom, y='Percentage', x='Survey Year', orient='v', ax=ax4)\n",
    "\n",
    "ax0.set_title('E-Government Index', fontweight='bold')\n",
    "ax1.set_title('E-Participation Index', fontweight='bold')\n",
    "ax2.set_title('Online Service Index', fontweight='bold')\n",
    "ax3.set_title('Human Capital Index', fontweight='bold')\n",
    "ax4.set_title('Telecommunication Infrastructure Index', fontweight='bold') # Title for the spanned plot\n",
    "\n",
    "for subplot_ax in all_axes:\n",
    "    subplot_ax.set_ylim(0, 100) \n",
    "    subplot_ax.tick_params(axis='x', rotation=90) \n",
    "    subplot_ax.set_ylabel('Percentage (%)')\n",
    "    subplot_ax.set_xlabel('Survey Year')\n",
    "\n",
    "plt.suptitle('United Natioms E-Government Development Index (2003-2005, 2008-2024 biennially) of Brazil', fontweight='bold')\n",
    "sns.despine()\n",
    "plt.tight_layout() \n",
    "plt.show()"
   ]
  }
 ],
 "metadata": {
  "kernelspec": {
   "display_name": "Python 3",
   "language": "python",
   "name": "python3"
  },
  "language_info": {
   "codemirror_mode": {
    "name": "ipython",
    "version": 3
   },
   "file_extension": ".py",
   "mimetype": "text/x-python",
   "name": "python",
   "nbconvert_exporter": "python",
   "pygments_lexer": "ipython3",
   "version": "3.13.5"
  }
 },
 "nbformat": 4,
 "nbformat_minor": 5
}
