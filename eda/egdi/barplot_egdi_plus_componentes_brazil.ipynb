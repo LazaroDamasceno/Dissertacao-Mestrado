{
 "cells": [
  {
   "cell_type": "code",
   "execution_count": null,
   "id": "3a761487",
   "metadata": {},
   "outputs": [],
   "source": [
    "import pandas as pd\n",
    "import matplotlib.pyplot as plt\n",
    "from matplotlib.pyplot import savefig\n",
    "import seaborn as sns"
   ]
  },
  {
   "cell_type": "code",
   "execution_count": null,
   "id": "9e8ef6ad",
   "metadata": {},
   "outputs": [],
   "source": [
    "df = pd.read_csv('concated_egdi_brazil.csv')\n",
    "df['Percentage'] = df['Percentage'].apply(lambda x: x/100.0)"
   ]
  },
  {
   "cell_type": "code",
   "execution_count": null,
   "id": "1c9216f4",
   "metadata": {},
   "outputs": [],
   "source": [
    "df = df.drop(columns=['Unnamed: 0'])"
   ]
  },
  {
   "cell_type": "code",
   "execution_count": null,
   "id": "192d7192",
   "metadata": {},
   "outputs": [],
   "source": [
    "df.head(10)"
   ]
  },
  {
   "cell_type": "code",
   "execution_count": null,
   "id": "03c961fb",
   "metadata": {},
   "outputs": [],
   "source": [
    "egov = df[df['Metric'] == \"E-Government Index\"]\n",
    "epart = df[df['Metric'] == \"E-Participation Index\"]\n",
    "services = df[df['Metric'] == \"Online Service Index\"]\n",
    "humancap = df[df['Metric'] == \"Human Capital Index\"]\n",
    "telecom = df[df['Metric'] == \"Telecommunication Infrastructure Index\"]"
   ]
  },
  {
   "cell_type": "markdown",
   "id": "76ea5476",
   "metadata": {},
   "source": [
    "fig, ax = plt.subplots(figsize=(10, 6))\n",
    "\n",
    "\n",
    "\n",
    "plt.ylim(0, 1)\n",
    "sns.despine(bottom=True)\n",
    "plt.tight_layout() \n",
    "plt.show()\n"
   ]
  }
 ],
 "metadata": {
  "kernelspec": {
   "display_name": "Python 3",
   "language": "python",
   "name": "python3"
  },
  "language_info": {
   "codemirror_mode": {
    "name": "ipython",
    "version": 3
   },
   "file_extension": ".py",
   "mimetype": "text/x-python",
   "name": "python",
   "nbconvert_exporter": "python",
   "pygments_lexer": "ipython3",
   "version": "3.13.5"
  }
 },
 "nbformat": 4,
 "nbformat_minor": 5
}
