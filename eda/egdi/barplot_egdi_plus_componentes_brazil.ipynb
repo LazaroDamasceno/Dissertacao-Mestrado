{
 "cells": [
  {
   "cell_type": "code",
   "execution_count": null,
   "id": "3a761487",
   "metadata": {},
   "outputs": [],
   "source": [
    "import pandas as pd\n",
    "import matplotlib.pyplot as plt\n",
    "import seaborn as sns"
   ]
  },
  {
   "cell_type": "code",
   "execution_count": null,
   "id": "9e8ef6ad",
   "metadata": {},
   "outputs": [],
   "source": [
    "df = pd.read_csv('concated_edgi.csv')"
   ]
  },
  {
   "cell_type": "code",
   "execution_count": null,
   "id": "3d81bb4a",
   "metadata": {},
   "outputs": [],
   "source": [
    "df['E-Government Index'] = df['E-Government Index'].apply(lambda x: x * 100.0)\n",
    "df['E-Participation Index'] = df['E-Participation Index'].apply(lambda x: x * 100.0)\n",
    "df['Online Service Index'] = df['Online Service Index'].apply(lambda x: x * 100.0)\n",
    "df['Human Capital Index'] = df['Human Capital Index'].apply(lambda x: x * 100.0)\n",
    "df['Telecommunication Infrastructure Index'] = df['Telecommunication Infrastructure Index'].apply(lambda x: x * 100.0)"
   ]
  },
  {
   "cell_type": "code",
   "execution_count": null,
   "id": "1c9216f4",
   "metadata": {},
   "outputs": [],
   "source": [
    "df = df.drop(columns=['Unnamed: 0'])"
   ]
  },
  {
   "cell_type": "code",
   "execution_count": null,
   "id": "192d7192",
   "metadata": {},
   "outputs": [],
   "source": [
    "df.head(10)"
   ]
  },
  {
   "cell_type": "code",
   "execution_count": null,
   "id": "b78c3a98",
   "metadata": {},
   "outputs": [],
   "source": [
    "df_tidy = df.melt(\n",
    "    id_vars='Survey Year',\n",
    "    value_vars=[\n",
    "        'E-Government Index', \n",
    "        'E-Participation Index', \n",
    "        'Online Service Index', \n",
    "        'Human Capital Index', \n",
    "        'Telecommunication Infrastructure Index'\n",
    "    ],\n",
    "    var_name='Index Type',\n",
    "    value_name='Percentage'\n",
    ")"
   ]
  },
  {
   "cell_type": "code",
   "execution_count": null,
   "id": "68da72d5",
   "metadata": {},
   "outputs": [],
   "source": [
    "df_tidy['Index Type'].unique()"
   ]
  },
  {
   "cell_type": "code",
   "execution_count": null,
   "id": "03c961fb",
   "metadata": {},
   "outputs": [],
   "source": [
    "df_egov = df_tidy.loc[df_tidy['Index Type'] == \"E-Government Index\"]\n",
    "df_epart = df_tidy.loc[df_tidy['Index Type'] == \"E-Participation Index\"]\n",
    "df_services = df_tidy.loc[df_tidy['Index Type'] == \"Online Service Index\"]\n",
    "df_humancap = df_tidy.loc[df_tidy['Index Type'] == \"Human Capital Index\"]\n",
    "df_telecom = df_tidy.loc[df_tidy['Index Type'] == \"Telecommunication Infrastructure Index\"]"
   ]
  },
  {
   "cell_type": "code",
   "execution_count": null,
   "id": "342b504c",
   "metadata": {},
   "outputs": [],
   "source": [
    "fig, ax = plt.subplots(figsize=(12, 8))\n",
    "\n",
    "sns.barplot(data=df_egov, x='Percentage', y='Survey Year', orient='h')\n",
    "\n",
    "ax.bar_label(ax.containers[0], fmt='%.2f%%')\n",
    "sns.despine(bottom=True)\n",
    "ax.xaxis.set_visible(False)\n",
    "plt.suptitle('United Nations E-Government Index (2003-2005, 2008, 2008-2024 biennially) of Brazil', fontweight='bold')\n",
    "plt.tight_layout()\n",
    "plt.show()"
   ]
  },
  {
   "cell_type": "code",
   "execution_count": null,
   "id": "03bb404f",
   "metadata": {},
   "outputs": [],
   "source": [
    "fig, ax = plt.subplots(figsize=(12, 8))\n",
    "\n",
    "sns.barplot(data=df_epart, x='Percentage', y='Survey Year', orient='h')\n",
    "\n",
    "ax.bar_label(ax.containers[0], fmt='%.2f%%')\n",
    "sns.despine(bottom=True)\n",
    "ax.xaxis.set_visible(False)\n",
    "plt.suptitle('United Nations E-Participition Index (2003-2005, 2008, 2008-2024 biennially) of Brazil', fontweight='bold')\n",
    "plt.tight_layout()\n",
    "plt.show()"
   ]
  },
  {
   "cell_type": "code",
   "execution_count": null,
   "id": "79525932",
   "metadata": {},
   "outputs": [],
   "source": [
    "fig, ax = plt.subplots(figsize=(12, 8))\n",
    "\n",
    "sns.barplot(data=df_services, x='Percentage', y='Survey Year', orient='h')\n",
    "\n",
    "ax.bar_label(ax.containers[0], fmt='%.2f%%')\n",
    "sns.despine(bottom=True)\n",
    "ax.xaxis.set_visible(False)\n",
    "plt.suptitle('United Nations Online Service Index (2003-2005, 2008, 2008-2024 biennially) of Brazil', fontweight='bold')\n",
    "plt.tight_layout()\n",
    "plt.show()"
   ]
  },
  {
   "cell_type": "code",
   "execution_count": null,
   "id": "3e7436c3",
   "metadata": {},
   "outputs": [],
   "source": [
    "fig, ax = plt.subplots(figsize=(12, 8))\n",
    "\n",
    "sns.barplot(data=df_humancap, x='Percentage', y='Survey Year', orient='h')\n",
    "\n",
    "ax.bar_label(ax.containers[0], fmt='%.2f%%')\n",
    "sns.despine(bottom=True)\n",
    "ax.xaxis.set_visible(False)\n",
    "plt.suptitle('United Nations Human Capital Index (2003-2005, 2008, 2008-2024 biennially) of Brazil', fontweight='bold')\n",
    "plt.tight_layout()\n",
    "plt.show()"
   ]
  },
  {
   "cell_type": "code",
   "execution_count": null,
   "id": "4b5ccadd",
   "metadata": {},
   "outputs": [],
   "source": [
    "fig, ax = plt.subplots(figsize=(12, 8))\n",
    "\n",
    "sns.barplot(data=df_telecom, x='Percentage', y='Survey Year', orient='h')\n",
    "\n",
    "ax.bar_label(ax.containers[0], fmt='%.2f%%')\n",
    "sns.despine(bottom=True)\n",
    "ax.xaxis.set_visible(False)\n",
    "plt.suptitle('United Nations Telecommunication Infraestructure Index (2003-2005, 2008, 2008-2024 biennially) of Brazil', fontweight='bold')\n",
    "plt.tight_layout()\n",
    "plt.show()"
   ]
  }
 ],
 "metadata": {
  "kernelspec": {
   "display_name": "Python 3",
   "language": "python",
   "name": "python3"
  },
  "language_info": {
   "codemirror_mode": {
    "name": "ipython",
    "version": 3
   },
   "file_extension": ".py",
   "mimetype": "text/x-python",
   "name": "python",
   "nbconvert_exporter": "python",
   "pygments_lexer": "ipython3",
   "version": "3.13.5"
  }
 },
 "nbformat": 4,
 "nbformat_minor": 5
}
