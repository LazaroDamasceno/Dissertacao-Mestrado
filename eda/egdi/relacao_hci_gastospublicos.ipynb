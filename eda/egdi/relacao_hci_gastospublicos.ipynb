{
 "cells": [
  {
   "cell_type": "code",
   "execution_count": 13,
   "id": "95d95985",
   "metadata": {
    "vscode": {
     "languageId": "r"
    }
   },
   "outputs": [],
   "source": [
    "library(tidyverse)\n",
    "library(readxl)"
   ]
  },
  {
   "cell_type": "code",
   "execution_count": 14,
   "id": "814e8ffb",
   "metadata": {
    "vscode": {
     "languageId": "r"
    }
   },
   "outputs": [],
   "source": [
    "egdi <- read.csv('EGOV_DATA_2024.csv') %>% \n",
    "    select(Country.Name, Human.Capital.Index) %>%\n",
    "    arrange(Country.Name)"
   ]
  },
  {
   "cell_type": "code",
   "execution_count": 15,
   "id": "9fe6dcb3",
   "metadata": {
    "vscode": {
     "languageId": "r"
    }
   },
   "outputs": [],
   "source": [
    "gastos_publicos <- read_excel('imf_government_expenditure.xls') %>% \n",
    "    arrange(Country)"
   ]
  },
  {
   "cell_type": "code",
   "execution_count": 16,
   "id": "f5bcb979",
   "metadata": {
    "vscode": {
     "languageId": "r"
    }
   },
   "outputs": [
    {
     "data": {
      "text/html": [
       "<style>\n",
       ".list-inline {list-style: none; margin:0; padding: 0}\n",
       ".list-inline>li {display: inline-block}\n",
       ".list-inline>li:not(:last-child)::after {content: \"\\00b7\"; padding: 0 .5ex}\n",
       "</style>\n",
       "<ol class=list-inline><li>'Aruba'</li><li>'China, People\\'s Republic of'</li><li>'Georgia'</li><li>'Hong Kong SAR'</li><li>'Iran'</li><li>'Korea, Republic of'</li><li>'Kyrgyz Republic'</li><li>'Micronesia, Fed. States of'</li><li>'Moldova'</li><li>'Republic of Congo'</li><li>'Slovak Republic'</li><li>'Tanzania'</li><li>'Türkiye, Republic of'</li><li>'United Kingdom'</li><li>'United States'</li><li>'Vietnam'</li></ol>\n"
      ],
      "text/latex": [
       "\\begin{enumerate*}\n",
       "\\item 'Aruba'\n",
       "\\item 'China, People\\textbackslash{}'s Republic of'\n",
       "\\item 'Georgia'\n",
       "\\item 'Hong Kong SAR'\n",
       "\\item 'Iran'\n",
       "\\item 'Korea, Republic of'\n",
       "\\item 'Kyrgyz Republic'\n",
       "\\item 'Micronesia, Fed. States of'\n",
       "\\item 'Moldova'\n",
       "\\item 'Republic of Congo'\n",
       "\\item 'Slovak Republic'\n",
       "\\item 'Tanzania'\n",
       "\\item 'Türkiye, Republic of'\n",
       "\\item 'United Kingdom'\n",
       "\\item 'United States'\n",
       "\\item 'Vietnam'\n",
       "\\end{enumerate*}\n"
      ],
      "text/markdown": [
       "1. 'Aruba'\n",
       "2. 'China, People\\'s Republic of'\n",
       "3. 'Georgia'\n",
       "4. 'Hong Kong SAR'\n",
       "5. 'Iran'\n",
       "6. 'Korea, Republic of'\n",
       "7. 'Kyrgyz Republic'\n",
       "8. 'Micronesia, Fed. States of'\n",
       "9. 'Moldova'\n",
       "10. 'Republic of Congo'\n",
       "11. 'Slovak Republic'\n",
       "12. 'Tanzania'\n",
       "13. 'Türkiye, Republic of'\n",
       "14. 'United Kingdom'\n",
       "15. 'United States'\n",
       "16. 'Vietnam'\n",
       "\n",
       "\n"
      ],
      "text/plain": [
       " [1] \"Aruba\"                       \"China, People's Republic of\"\n",
       " [3] \"Georgia\"                     \"Hong Kong SAR\"              \n",
       " [5] \"Iran\"                        \"Korea, Republic of\"         \n",
       " [7] \"Kyrgyz Republic\"             \"Micronesia, Fed. States of\" \n",
       " [9] \"Moldova\"                     \"Republic of Congo\"          \n",
       "[11] \"Slovak Republic\"             \"Tanzania\"                   \n",
       "[13] \"Türkiye, Republic of\"        \"United Kingdom\"             \n",
       "[15] \"United States\"               \"Vietnam\"                    "
      ]
     },
     "metadata": {},
     "output_type": "display_data"
    }
   ],
   "source": [
    "setdiff(gastos_publicos$Country, egdi$Country.Name)"
   ]
  },
  {
   "cell_type": "code",
   "execution_count": 17,
   "id": "2746d5f9",
   "metadata": {
    "vscode": {
     "languageId": "r"
    }
   },
   "outputs": [],
   "source": [
    "gastos_publicos <- gastos_publicos %>% \n",
    "    mutate(Country = case_when(\n",
    "        Country == 'Vietnam' ~ 'Viet Nam',\n",
    "        Country == 'Georgia' ~ 'Georgia (Country)',\n",
    "        Country == 'China, People\\'s Republic of' ~ 'China',\n",
    "        Country == 'China, People\\'s Republic of' ~ 'China',\n",
    "        Country == 'Republic of Congo' ~ 'Congo',\n",
    "        Country == 'Türkiye, Republic of' ~ 'Türkiye',\n",
    "        Country == \"Micronesia, Fed. States of\" ~ \"Micronesia (Federated States of)\",\n",
    "        Country == \"United States\" ~ \"United States of America\",\n",
    "        Country == \"United Kingdom\" ~ \"United Kingdom of Great Britain and Northern Ireland\",\n",
    "        Country == \"Tanzania\" ~ \"United Republic of Tanzania\",\n",
    "        Country == \"Slovak Republic\" ~ \"Slovakia\",\n",
    "        Country == \"Moldova\" ~ \"Republic of Moldova\",\n",
    "        Country == \"Kyrgyz Republic\" ~ \"Kyrgyzstan\",\n",
    "        Country == \"Korea, Republic of\" ~ \"Republic of Korea\",\n",
    "        Country == \"Iran\" ~ \"Iran (Islamic Republic of)\",\n",
    "        TRUE ~ Country\n",
    "    ))"
   ]
  },
  {
   "cell_type": "code",
   "execution_count": 18,
   "id": "6abbc598",
   "metadata": {
    "vscode": {
     "languageId": "r"
    }
   },
   "outputs": [
    {
     "data": {
      "text/html": [
       "<style>\n",
       ".list-inline {list-style: none; margin:0; padding: 0}\n",
       ".list-inline>li {display: inline-block}\n",
       ".list-inline>li:not(:last-child)::after {content: \"\\00b7\"; padding: 0 .5ex}\n",
       "</style>\n",
       "<ol class=list-inline><li>'Aruba'</li><li>'Hong Kong SAR'</li></ol>\n"
      ],
      "text/latex": [
       "\\begin{enumerate*}\n",
       "\\item 'Aruba'\n",
       "\\item 'Hong Kong SAR'\n",
       "\\end{enumerate*}\n"
      ],
      "text/markdown": [
       "1. 'Aruba'\n",
       "2. 'Hong Kong SAR'\n",
       "\n",
       "\n"
      ],
      "text/plain": [
       "[1] \"Aruba\"         \"Hong Kong SAR\""
      ]
     },
     "metadata": {},
     "output_type": "display_data"
    }
   ],
   "source": [
    "setdiff(gastos_publicos$Country, egdi$Country.Name)"
   ]
  },
  {
   "cell_type": "code",
   "execution_count": 19,
   "id": "17bddd26",
   "metadata": {
    "vscode": {
     "languageId": "r"
    }
   },
   "outputs": [],
   "source": [
    "gastos_publicos <- gastos_publicos %>%\n",
    "    filter(Country %in% egdi$Country.Name)"
   ]
  },
  {
   "cell_type": "code",
   "execution_count": 20,
   "id": "51bdb0ae",
   "metadata": {
    "vscode": {
     "languageId": "r"
    }
   },
   "outputs": [],
   "source": [
    "egdi <- egdi %>%\n",
    "    filter(Country.Name %in% gastos_publicos$Country)"
   ]
  },
  {
   "cell_type": "code",
   "execution_count": 21,
   "id": "97359e7f",
   "metadata": {
    "vscode": {
     "languageId": "r"
    }
   },
   "outputs": [],
   "source": [
    "df <- data.frame(\n",
    "    egdi = egdi$Human.Capital.Index,\n",
    "    gastos_publicos = gastos_publicos$Percentage\n",
    ")"
   ]
  },
  {
   "cell_type": "code",
   "execution_count": 22,
   "id": "86a85ea6",
   "metadata": {
    "vscode": {
     "languageId": "r"
    }
   },
   "outputs": [],
   "source": [
    "my_plot <- ggplot(df, aes(egdi, gastos_publicos)) +\n",
    "    geom_point() +\n",
    "    geom_smooth(method = 'lm') +\n",
    "    coord_cartesian(ylim = c(0, 100), xlim = c(0, 1)) +\n",
    "    labs(\n",
    "        x = 'HCI',\n",
    "        y = 'Gastos públicos (% do PIB)'\n",
    "    )"
   ]
  },
  {
   "cell_type": "code",
   "execution_count": 23,
   "id": "e7ea9be4",
   "metadata": {
    "vscode": {
     "languageId": "r"
    }
   },
   "outputs": [
    {
     "name": "stderr",
     "output_type": "stream",
     "text": [
      "\u001b[1m\u001b[22m`geom_smooth()` using formula = 'y ~ x'\n"
     ]
    }
   ],
   "source": [
    "ggsave(\n",
    "    'C:/Users/lazar/Master-Dissertation/figuras/relacao_hci_gastospublicos.png', \n",
    "    dpi=300,\n",
    "    width = 25.4,\n",
    "    height = 15.24,\n",
    "    units = \"cm\"\n",
    ")"
   ]
  }
 ],
 "metadata": {
  "kernelspec": {
   "display_name": "R",
   "language": "R",
   "name": "ir"
  },
  "language_info": {
   "codemirror_mode": "r",
   "file_extension": ".r",
   "mimetype": "text/x-r-source",
   "name": "R",
   "pygments_lexer": "r",
   "version": "4.5.1"
  }
 },
 "nbformat": 4,
 "nbformat_minor": 5
}
