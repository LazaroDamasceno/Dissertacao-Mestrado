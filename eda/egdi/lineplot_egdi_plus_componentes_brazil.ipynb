{
 "cells": [
  {
   "cell_type": "code",
   "execution_count": null,
   "id": "a89c6b6d",
   "metadata": {},
   "outputs": [],
   "source": [
    "import pandas as pd\n",
    "import matplotlib.pyplot as plt\n",
    "import seaborn as sns\n",
    "from matplotlib.pyplot import savefig"
   ]
  },
  {
   "cell_type": "code",
   "execution_count": null,
   "id": "34cba59b",
   "metadata": {},
   "outputs": [],
   "source": [
    "df = pd.read_csv('concated_egdi_brazil.csv')"
   ]
  },
  {
   "cell_type": "code",
   "execution_count": null,
   "id": "95a2e2b9",
   "metadata": {},
   "outputs": [],
   "source": [
    "df['Percentage'] = df['Percentage'].apply(lambda x: x/100.0)"
   ]
  },
  {
   "cell_type": "code",
   "execution_count": null,
   "id": "6464cf54",
   "metadata": {},
   "outputs": [],
   "source": [
    "\n",
    "fig, ax = plt.subplots(figsize=(10, 6))\n",
    "\n",
    "sns.lineplot(data=df, x='Survey Year', y='Percentage', hue='Metric')\n",
    "\n",
    "savefig('C:/Users/lazar/Master-Dissertation/figuras/egdi/lineplot_egdi_brasil.png')\n",
    "sns.despine()\n",
    "ax.set_ylabel(\"Escala\")\n",
    "ax.set_xlabel(\"Ano\")\n",
    "ax.set_ylim(0, 1)\n",
    "ax.legend(title=\"Components\")\n",
    "plt.tight_layout()\n",
    "plt.show()"
   ]
  }
 ],
 "metadata": {
  "kernelspec": {
   "display_name": "Python 3",
   "language": "python",
   "name": "python3"
  },
  "language_info": {
   "codemirror_mode": {
    "name": "ipython",
    "version": 3
   },
   "file_extension": ".py",
   "mimetype": "text/x-python",
   "name": "python",
   "nbconvert_exporter": "python",
   "pygments_lexer": "ipython3",
   "version": "3.13.5"
  }
 },
 "nbformat": 4,
 "nbformat_minor": 5
}
