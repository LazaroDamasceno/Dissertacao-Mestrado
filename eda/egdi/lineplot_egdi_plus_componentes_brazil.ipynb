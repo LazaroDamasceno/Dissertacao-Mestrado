{
 "cells": [
  {
   "cell_type": "code",
   "execution_count": null,
   "id": "a89c6b6d",
   "metadata": {},
   "outputs": [],
   "source": [
    "import pandas as pd\n",
    "import matplotlib.pyplot as plt\n",
    "import seaborn as sns"
   ]
  },
  {
   "cell_type": "code",
   "execution_count": null,
   "id": "34cba59b",
   "metadata": {},
   "outputs": [],
   "source": [
    "df = pd.read_csv('concated_edgi_brazil.csv')"
   ]
  },
  {
   "cell_type": "code",
   "execution_count": null,
   "id": "95a2e2b9",
   "metadata": {},
   "outputs": [],
   "source": [
    "df.info()"
   ]
  },
  {
   "cell_type": "code",
   "execution_count": null,
   "id": "6464cf54",
   "metadata": {},
   "outputs": [],
   "source": [
    "fig, ax = plt.subplots(figsize=(10, 6))\n",
    "\n",
    "sns.lineplot(data=df, x='Survey Year', y='Percentage', hue='Metric')\n",
    "\n",
    "sns.despine()\n",
    "ax.set_title('EGDI (2003-2005, 2008-2024 biennially) do Brasil', fontweight='bold')\n",
    "ax.set_ylabel(\"Percentage (%)\")\n",
    "ax.set_ylim(0, 100)\n",
    "ax.legend(title=\"Components\")\n",
    "plt.tight_layout()\n",
    "plt.show()"
   ]
  }
 ],
 "metadata": {
  "kernelspec": {
   "display_name": "Python 3",
   "language": "python",
   "name": "python3"
  },
  "language_info": {
   "codemirror_mode": {
    "name": "ipython",
    "version": 3
   },
   "file_extension": ".py",
   "mimetype": "text/x-python",
   "name": "python",
   "nbconvert_exporter": "python",
   "pygments_lexer": "ipython3",
   "version": "3.13.5"
  }
 },
 "nbformat": 4,
 "nbformat_minor": 5
}
