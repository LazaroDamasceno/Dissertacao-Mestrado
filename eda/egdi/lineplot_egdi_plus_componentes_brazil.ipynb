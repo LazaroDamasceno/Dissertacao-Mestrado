{
 "cells": [
  {
   "cell_type": "code",
   "execution_count": null,
   "id": "a89c6b6d",
   "metadata": {},
   "outputs": [],
   "source": [
    "import pandas as pd\n",
    "import matplotlib.pyplot as plt\n",
    "import seaborn as sns"
   ]
  },
  {
   "cell_type": "code",
   "execution_count": null,
   "id": "34cba59b",
   "metadata": {},
   "outputs": [],
   "source": [
    "df = pd.read_csv('concated_edgi.csv')"
   ]
  },
  {
   "cell_type": "code",
   "execution_count": null,
   "id": "ec73e673",
   "metadata": {},
   "outputs": [],
   "source": [
    "df['E-Government Index'] = df['E-Government Index'].apply(lambda x: x * 100.0)\n",
    "df['E-Participation Index'] = df['E-Participation Index'].apply(lambda x: x * 100.0)\n",
    "df['Online Service Index'] = df['Online Service Index'].apply(lambda x: x * 100.0)\n",
    "df['Human Capital Index'] = df['Human Capital Index'].apply(lambda x: x * 100.0)\n",
    "df['Telecommunication Infrastructure Index'] = df['Telecommunication Infrastructure Index'].apply(lambda x: x * 100.0)"
   ]
  },
  {
   "cell_type": "code",
   "execution_count": null,
   "id": "6464cf54",
   "metadata": {},
   "outputs": [],
   "source": [
    "fig, ax = plt.subplots(figsize=(12, 8))\n",
    "\n",
    "sns.lineplot(data=df, x='Survey Year', y='E-Government Index', label='E-Government Index')\n",
    "sns.lineplot(data=df, x='Survey Year', y='E-Participation Index', label='E-Participation Index')\n",
    "sns.lineplot(data=df, x='Survey Year', y='Online Service Index', label='Online Service Index')\n",
    "sns.lineplot(data=df, x='Survey Year', y='Human Capital Index', label='Human Capital Index')\n",
    "sns.lineplot(data=df, x='Survey Year', y='Telecommunication Infrastructure Index', label='Telecommunication Infrastructure Index')\n",
    "\n",
    "\n",
    "sns.despine()\n",
    "ax.set_title('United Natioms E-Government Index (2003-2005, 2008, 2008-2024 biennially) of Brazil', fontweight='bold')\n",
    "ax.set_ylabel(\"Percentage (%)\")\n",
    "ax.set_ylim(0, 100)\n",
    "ax.legend(title=\"EDGI\")\n",
    "plt.tight_layout()\n",
    "plt.show()"
   ]
  }
 ],
 "metadata": {
  "language_info": {
   "name": "python"
  }
 },
 "nbformat": 4,
 "nbformat_minor": 5
}
