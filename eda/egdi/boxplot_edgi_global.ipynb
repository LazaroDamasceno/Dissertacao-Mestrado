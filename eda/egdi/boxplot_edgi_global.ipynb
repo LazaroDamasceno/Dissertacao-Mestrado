{
 "cells": [
  {
   "cell_type": "code",
   "execution_count": 21,
   "id": "942cb17d",
   "metadata": {},
   "outputs": [],
   "source": [
    "import pandas as pd\n",
    "import matplotlib.pyplot as plt\n",
    "import seaborn as sns"
   ]
  },
  {
   "cell_type": "code",
   "execution_count": 22,
   "id": "5db107d6",
   "metadata": {},
   "outputs": [],
   "source": [
    "egdi_2003 = pd.read_csv('EGOV_DATA_2003.csv')\n",
    "egdi_2004 = pd.read_csv('EGOV_DATA_2004.csv')\n",
    "egdi_2005 = pd.read_csv('EGOV_DATA_2005.csv')\n",
    "egdi_2008 = pd.read_csv('EGOV_DATA_2008.csv')\n",
    "egdi_2010 = pd.read_csv('EGOV_DATA_2010.csv')\n",
    "egdi_2012 = pd.read_csv('EGOV_DATA_2012.csv')\n",
    "egdi_2014 = pd.read_csv('EGOV_DATA_2014.csv')\n",
    "egdi_2016 = pd.read_csv('EGOV_DATA_2016.csv')\n",
    "egdi_2018 = pd.read_csv('EGOV_DATA_2018.csv')\n",
    "egdi_2020 = pd.read_csv('EGOV_DATA_2020.csv')\n",
    "egdi_2022 = pd.read_csv('EGOV_DATA_2022.csv')\n",
    "egdi_2024 = pd.read_csv('EGOV_DATA_2024.csv')"
   ]
  },
  {
   "cell_type": "code",
   "execution_count": 23,
   "id": "72f833d1",
   "metadata": {},
   "outputs": [],
   "source": [
    "egdi = pd.concat([\n",
    "    egdi_2003,\n",
    "    egdi_2004,\n",
    "    egdi_2005,\n",
    "    egdi_2008,\n",
    "    egdi_2010,\n",
    "    egdi_2012,\n",
    "    egdi_2014,\n",
    "    egdi_2016,\n",
    "    egdi_2018,\n",
    "    egdi_2020,\n",
    "    egdi_2022,\n",
    "    egdi_2024\n",
    "]).reset_index(drop=True)"
   ]
  },
  {
   "cell_type": "code",
   "execution_count": 24,
   "id": "7e8bf487",
   "metadata": {},
   "outputs": [],
   "source": [
    "egdi = egdi[egdi['Survey Year'] == 2024].reset_index(drop=True)"
   ]
  },
  {
   "cell_type": "code",
   "execution_count": 25,
   "id": "43a5091a",
   "metadata": {},
   "outputs": [],
   "source": [
    "import itertools\n",
    "\n",
    "\n",
    "egdi = egdi.iloc[:, itertools.chain([1], range(3,8))]"
   ]
  },
  {
   "cell_type": "code",
   "execution_count": 26,
   "id": "9765a8ad",
   "metadata": {},
   "outputs": [
    {
     "name": "stdout",
     "output_type": "stream",
     "text": [
      "<class 'pandas.core.frame.DataFrame'>\n",
      "RangeIndex: 193 entries, 0 to 192\n",
      "Data columns (total 6 columns):\n",
      " #   Column                                  Non-Null Count  Dtype  \n",
      "---  ------                                  --------------  -----  \n",
      " 0   Country Name                            193 non-null    object \n",
      " 1   E-Government Index                      193 non-null    float64\n",
      " 2   E-Participation Index                   193 non-null    float64\n",
      " 3   Online Service Index                    193 non-null    float64\n",
      " 4   Human Capital Index                     193 non-null    float64\n",
      " 5   Telecommunication Infrastructure Index  193 non-null    float64\n",
      "dtypes: float64(5), object(1)\n",
      "memory usage: 9.2+ KB\n"
     ]
    }
   ],
   "source": [
    "egdi.info()"
   ]
  },
  {
   "cell_type": "code",
   "execution_count": 27,
   "id": "8d3a50d0",
   "metadata": {},
   "outputs": [],
   "source": [
    "egdi_melt = egdi.melt(\n",
    "    id_vars='Country Name',\n",
    "    value_vars=[\n",
    "        'E-Government Index',\n",
    "        'E-Participation Index',\n",
    "        'Online Service Index',\n",
    "        'Human Capital Index',\n",
    "        'Telecommunication Infrastructure Index'\n",
    "    ],\n",
    "    var_name='Métrica',\n",
    "    value_name='Escala'\n",
    ")"
   ]
  },
  {
   "cell_type": "code",
   "execution_count": 28,
   "id": "94c4f96e",
   "metadata": {},
   "outputs": [],
   "source": [
    "egdi_melt = egdi_melt.iloc[:, [1,2]]"
   ]
  },
  {
   "cell_type": "code",
   "execution_count": 29,
   "id": "d6647407",
   "metadata": {},
   "outputs": [
    {
     "data": {
      "application/vnd.microsoft.datawrangler.viewer.v0+json": {
       "columns": [
        {
         "name": "index",
         "rawType": "int64",
         "type": "integer"
        },
        {
         "name": "Métrica",
         "rawType": "object",
         "type": "string"
        },
        {
         "name": "Escala",
         "rawType": "float64",
         "type": "float"
        }
       ],
       "ref": "7fd16793-1681-4cd1-84bf-4ec927773890",
       "rows": [
        [
         "0",
         "E-Government Index",
         "0.45721"
        ],
        [
         "1",
         "E-Government Index",
         "0.91377"
        ],
        [
         "2",
         "E-Government Index",
         "0.90143"
        ],
        [
         "3",
         "E-Government Index",
         "0.83557"
        ],
        [
         "4",
         "E-Government Index",
         "0.66777"
        ],
        [
         "5",
         "E-Government Index",
         "0.9351"
        ],
        [
         "6",
         "E-Government Index",
         "0.68493"
        ],
        [
         "7",
         "E-Government Index",
         "0.90093"
        ],
        [
         "8",
         "E-Government Index",
         "0.6314"
        ],
        [
         "9",
         "E-Government Index",
         "0.45723"
        ],
        [
         "10",
         "E-Government Index",
         "0.7812"
        ],
        [
         "11",
         "E-Government Index",
         "0.7316"
        ],
        [
         "12",
         "E-Government Index",
         "0.44038"
        ],
        [
         "13",
         "E-Government Index",
         "0.88522"
        ],
        [
         "14",
         "E-Government Index",
         "0.5449"
        ],
        [
         "15",
         "E-Government Index",
         "0.41229"
        ],
        [
         "16",
         "E-Government Index",
         "0.25133"
        ],
        [
         "17",
         "E-Government Index",
         "0.54662"
        ],
        [
         "18",
         "E-Government Index",
         "0.85284"
        ],
        [
         "19",
         "E-Government Index",
         "0.91104"
        ],
        [
         "20",
         "E-Government Index",
         "0.84658"
        ],
        [
         "21",
         "E-Government Index",
         "0.32346"
        ],
        [
         "22",
         "E-Government Index",
         "0.37534"
        ],
        [
         "23",
         "E-Government Index",
         "0.81114"
        ],
        [
         "24",
         "E-Government Index",
         "0.67453"
        ],
        [
         "25",
         "E-Government Index",
         "0.30053"
        ],
        [
         "26",
         "E-Government Index",
         "0.8886"
        ],
        [
         "27",
         "E-Government Index",
         "0.48229"
        ],
        [
         "28",
         "E-Government Index",
         "0.34912"
        ],
        [
         "29",
         "E-Government Index",
         "0.20827"
        ],
        [
         "30",
         "E-Government Index",
         "0.75061"
        ],
        [
         "31",
         "E-Government Index",
         "0.78499"
        ],
        [
         "32",
         "E-Government Index",
         "0.32352"
        ],
        [
         "33",
         "E-Government Index",
         "0.71747"
        ],
        [
         "34",
         "E-Government Index",
         "0.84569"
        ],
        [
         "35",
         "E-Government Index",
         "0.72111"
        ],
        [
         "36",
         "E-Government Index",
         "0.8"
        ],
        [
         "37",
         "E-Government Index",
         "0.59556"
        ],
        [
         "38",
         "E-Government Index",
         "0.68931"
        ],
        [
         "39",
         "E-Government Index",
         "0.41487"
        ],
        [
         "40",
         "E-Government Index",
         "0.64282"
        ],
        [
         "41",
         "E-Government Index",
         "0.85733"
        ],
        [
         "42",
         "E-Government Index",
         "0.84217"
        ],
        [
         "43",
         "E-Government Index",
         "0.68411"
        ],
        [
         "44",
         "E-Government Index",
         "0.28476"
        ],
        [
         "45",
         "E-Government Index",
         "0.50007"
        ],
        [
         "46",
         "E-Government Index",
         "0.60074"
        ],
        [
         "47",
         "E-Government Index",
         "0.44544"
        ],
        [
         "48",
         "E-Government Index",
         "0.54452"
        ],
        [
         "49",
         "E-Government Index",
         "0.70127"
        ]
       ],
       "shape": {
        "columns": 2,
        "rows": 965
       }
      },
      "text/html": [
       "<div>\n",
       "<style scoped>\n",
       "    .dataframe tbody tr th:only-of-type {\n",
       "        vertical-align: middle;\n",
       "    }\n",
       "\n",
       "    .dataframe tbody tr th {\n",
       "        vertical-align: top;\n",
       "    }\n",
       "\n",
       "    .dataframe thead th {\n",
       "        text-align: right;\n",
       "    }\n",
       "</style>\n",
       "<table border=\"1\" class=\"dataframe\">\n",
       "  <thead>\n",
       "    <tr style=\"text-align: right;\">\n",
       "      <th></th>\n",
       "      <th>Métrica</th>\n",
       "      <th>Escala</th>\n",
       "    </tr>\n",
       "  </thead>\n",
       "  <tbody>\n",
       "    <tr>\n",
       "      <th>0</th>\n",
       "      <td>E-Government Index</td>\n",
       "      <td>0.45721</td>\n",
       "    </tr>\n",
       "    <tr>\n",
       "      <th>1</th>\n",
       "      <td>E-Government Index</td>\n",
       "      <td>0.91377</td>\n",
       "    </tr>\n",
       "    <tr>\n",
       "      <th>2</th>\n",
       "      <td>E-Government Index</td>\n",
       "      <td>0.90143</td>\n",
       "    </tr>\n",
       "    <tr>\n",
       "      <th>3</th>\n",
       "      <td>E-Government Index</td>\n",
       "      <td>0.83557</td>\n",
       "    </tr>\n",
       "    <tr>\n",
       "      <th>4</th>\n",
       "      <td>E-Government Index</td>\n",
       "      <td>0.66777</td>\n",
       "    </tr>\n",
       "    <tr>\n",
       "      <th>...</th>\n",
       "      <td>...</td>\n",
       "      <td>...</td>\n",
       "    </tr>\n",
       "    <tr>\n",
       "      <th>960</th>\n",
       "      <td>Telecommunication Infrastructure Index</td>\n",
       "      <td>0.73285</td>\n",
       "    </tr>\n",
       "    <tr>\n",
       "      <th>961</th>\n",
       "      <td>Telecommunication Infrastructure Index</td>\n",
       "      <td>0.92206</td>\n",
       "    </tr>\n",
       "    <tr>\n",
       "      <th>962</th>\n",
       "      <td>Telecommunication Infrastructure Index</td>\n",
       "      <td>0.89126</td>\n",
       "    </tr>\n",
       "    <tr>\n",
       "      <th>963</th>\n",
       "      <td>Telecommunication Infrastructure Index</td>\n",
       "      <td>0.98806</td>\n",
       "    </tr>\n",
       "    <tr>\n",
       "      <th>964</th>\n",
       "      <td>Telecommunication Infrastructure Index</td>\n",
       "      <td>0.89851</td>\n",
       "    </tr>\n",
       "  </tbody>\n",
       "</table>\n",
       "<p>965 rows × 2 columns</p>\n",
       "</div>"
      ],
      "text/plain": [
       "                                    Métrica   Escala\n",
       "0                        E-Government Index  0.45721\n",
       "1                        E-Government Index  0.91377\n",
       "2                        E-Government Index  0.90143\n",
       "3                        E-Government Index  0.83557\n",
       "4                        E-Government Index  0.66777\n",
       "..                                      ...      ...\n",
       "960  Telecommunication Infrastructure Index  0.73285\n",
       "961  Telecommunication Infrastructure Index  0.92206\n",
       "962  Telecommunication Infrastructure Index  0.89126\n",
       "963  Telecommunication Infrastructure Index  0.98806\n",
       "964  Telecommunication Infrastructure Index  0.89851\n",
       "\n",
       "[965 rows x 2 columns]"
      ]
     },
     "execution_count": 29,
     "metadata": {},
     "output_type": "execute_result"
    }
   ],
   "source": [
    "egdi_melt"
   ]
  },
  {
   "cell_type": "code",
   "execution_count": 30,
   "id": "1875be42",
   "metadata": {},
   "outputs": [
    {
     "data": {
      "image/png": "[encoded data removed]",
      "text/plain": [
       "<Figure size 1000x600 with 1 Axes>"
      ]
     },
     "metadata": {},
     "output_type": "display_data"
    },
    {
     "data": {
      "image/png": "[encoded data removed]",
      "text/plain": [
       "<Figure size 640x480 with 1 Axes>"
      ]
     },
     "metadata": {},
     "output_type": "display_data"
    }
   ],
   "source": [
    "from matplotlib.pyplot import savefig\n",
    "\n",
    "plt.figure(figsize=(10, 6))\n",
    "\n",
    "sns.boxplot(data=egdi_melt, hue='Métrica', x='Métrica', y='Escala', palette='tab10')\n",
    "\n",
    "plt.xticks(rotation=30)\n",
    "plt.figure(savefig('C:/Users/lazar/Master-Dissertation/figuras/egdi/boxplot_egdi_global.png'))\n",
    "sns.despine()\n",
    "plt.xticks(rotation=15)\n",
    "plt.tight_layout()\n",
    "plt.show()"
   ]
  }
 ],
 "metadata": {
  "kernelspec": {
   "display_name": "Python 3",
   "language": "python",
   "name": "python3"
  },
  "language_info": {
   "codemirror_mode": {
    "name": "ipython",
    "version": 3
   },
   "file_extension": ".py",
   "mimetype": "text/x-python",
   "name": "python",
   "nbconvert_exporter": "python",
   "pygments_lexer": "ipython3",
   "version": "3.13.5"
  }
 },
 "nbformat": 4,
 "nbformat_minor": 5
}
