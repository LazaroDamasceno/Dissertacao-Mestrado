{
 "cells": [
  {
   "cell_type": "code",
   "execution_count": null,
   "id": "942cb17d",
   "metadata": {},
   "outputs": [],
   "source": [
    "import pandas as pd\n",
    "import matplotlib.pyplot as plt\n",
    "import seaborn as sns"
   ]
  },
  {
   "cell_type": "code",
   "execution_count": null,
   "id": "5db107d6",
   "metadata": {},
   "outputs": [],
   "source": [
    "egdi_2003 = pd.read_csv('EGOV_DATA_2003.csv')\n",
    "egdi_2004 = pd.read_csv('EGOV_DATA_2004.csv')\n",
    "egdi_2005 = pd.read_csv('EGOV_DATA_2005.csv')\n",
    "egdi_2008 = pd.read_csv('EGOV_DATA_2008.csv')\n",
    "egdi_2010 = pd.read_csv('EGOV_DATA_2010.csv')\n",
    "egdi_2012 = pd.read_csv('EGOV_DATA_2012.csv')\n",
    "egdi_2014 = pd.read_csv('EGOV_DATA_2014.csv')\n",
    "egdi_2016 = pd.read_csv('EGOV_DATA_2016.csv')\n",
    "egdi_2018 = pd.read_csv('EGOV_DATA_2018.csv')\n",
    "egdi_2020 = pd.read_csv('EGOV_DATA_2020.csv')\n",
    "egdi_2022 = pd.read_csv('EGOV_DATA_2022.csv')\n",
    "egdi_2024 = pd.read_csv('EGOV_DATA_2024.csv')"
   ]
  },
  {
   "cell_type": "code",
   "execution_count": null,
   "id": "72f833d1",
   "metadata": {},
   "outputs": [],
   "source": [
    "egdi = pd.concat([\n",
    "    egdi_2003,\n",
    "    egdi_2004,\n",
    "    egdi_2005,\n",
    "    egdi_2008,\n",
    "    egdi_2010,\n",
    "    egdi_2012,\n",
    "    egdi_2014,\n",
    "    egdi_2016,\n",
    "    egdi_2018,\n",
    "    egdi_2020,\n",
    "    egdi_2022,\n",
    "    egdi_2024\n",
    "]).reset_index(drop=True)"
   ]
  },
  {
   "cell_type": "code",
   "execution_count": null,
   "id": "7e8bf487",
   "metadata": {},
   "outputs": [],
   "source": [
    "egdi = egdi[egdi['Survey Year'] == 2024].reset_index(drop=True)"
   ]
  },
  {
   "cell_type": "code",
   "execution_count": null,
   "id": "43a5091a",
   "metadata": {},
   "outputs": [],
   "source": [
    "import itertools\n",
    "\n",
    "\n",
    "egdi = egdi.iloc[:, itertools.chain([1], range(3,8))]"
   ]
  },
  {
   "cell_type": "code",
   "execution_count": null,
   "id": "9765a8ad",
   "metadata": {},
   "outputs": [],
   "source": [
    "egdi.info()"
   ]
  },
  {
   "cell_type": "code",
   "execution_count": null,
   "id": "8d3a50d0",
   "metadata": {},
   "outputs": [],
   "source": [
    "egdi_melt = egdi.melt(\n",
    "    id_vars='Country Name',\n",
    "    value_vars=[\n",
    "        'E-Government Index',\n",
    "        'E-Participation Index',\n",
    "        'Online Service Index',\n",
    "        'Human Capital Index',\n",
    "        'Telecommunication Infrastructure Index'\n",
    "    ],\n",
    "    var_name='Métrica',\n",
    "    value_name='Escala'\n",
    ")"
   ]
  },
  {
   "cell_type": "code",
   "execution_count": null,
   "id": "94c4f96e",
   "metadata": {},
   "outputs": [],
   "source": [
    "egdi_melt = egdi_melt.iloc[:, [1,2]]"
   ]
  },
  {
   "cell_type": "code",
   "execution_count": null,
   "id": "d6647407",
   "metadata": {},
   "outputs": [],
   "source": [
    "egdi_melt['Métrica'].unique()"
   ]
  },
  {
   "cell_type": "code",
   "execution_count": null,
   "id": "b896ec57",
   "metadata": {},
   "outputs": [],
   "source": [
    "egov = egdi_melt[egdi_melt['Métrica'] == 'E-Government Index'].reset_index(drop=True)\n",
    "epart = egdi_melt[egdi_melt['Métrica'] == 'E-Participation Index'].reset_index(drop=True)\n",
    "osi = egdi_melt[egdi_melt['Métrica'] == 'Online Service Index'].reset_index(drop=True)\n",
    "hci = egdi_melt[egdi_melt['Métrica'] == 'Human Capital Index'].reset_index(drop=True)\n",
    "tci = egdi_melt[egdi_melt['Métrica'] == 'Telecommunication Infrastructure Index'].reset_index(drop=True)"
   ]
  },
  {
   "cell_type": "code",
   "execution_count": null,
   "id": "1875be42",
   "metadata": {},
   "outputs": [],
   "source": [
    "fig, ax = plt.subplots(figsize=(10, 6))\n",
    "\n",
    "sns.boxplot(data=egov, x='Métrica', y='Escala')\n",
    "\n",
    "fig.savefig('C:/Users/lazar/Master-Dissertation/figuras/egdi/boxplot_egov_global.png')\n",
    "ax.xaxis.set_visible(False)\n",
    "ax.set_ylabel('')\n",
    "sns.despine(bottom=True)\n",
    "plt.tight_layout()\n",
    "plt.show()"
   ]
  },
  {
   "cell_type": "code",
   "execution_count": null,
   "id": "747e4d65",
   "metadata": {},
   "outputs": [],
   "source": [
    "fig, ax = plt.subplots(figsize=(10, 6))\n",
    "\n",
    "sns.boxplot(data=epart, x='Métrica', y='Escala')\n",
    "\n",
    "fig.savefig('C:/Users/lazar/Master-Dissertation/figuras/egdi/boxplot_epart_global.png')\n",
    "ax.xaxis.set_visible(False)\n",
    "ax.set_ylabel('')\n",
    "sns.despine(bottom=True)\n",
    "plt.tight_layout()\n",
    "plt.show()"
   ]
  },
  {
   "cell_type": "code",
   "execution_count": null,
   "id": "c2711179",
   "metadata": {},
   "outputs": [],
   "source": [
    "fig, ax = plt.subplots(figsize=(10, 6))\n",
    "\n",
    "sns.boxplot(data=osi, x='Métrica', y='Escala')\n",
    "\n",
    "fig.savefig('C:/Users/lazar/Master-Dissertation/figuras/egdi/boxplot_osi_global.png')\n",
    "ax.xaxis.set_visible(False)\n",
    "ax.set_ylabel('')\n",
    "sns.despine(bottom=True)\n",
    "plt.tight_layout()\n",
    "plt.show()"
   ]
  },
  {
   "cell_type": "code",
   "execution_count": null,
   "id": "3f309739",
   "metadata": {},
   "outputs": [],
   "source": [
    "fig, ax = plt.subplots(figsize=(10, 6))\n",
    "\n",
    "sns.boxplot(data=hci, x='Métrica', y='Escala')\n",
    "\n",
    "fig.savefig('C:/Users/lazar/Master-Dissertation/figuras/egdi/boxplot_hci_global.png')\n",
    "ax.xaxis.set_visible(False)\n",
    "ax.set_ylabel('')\n",
    "sns.despine(bottom=True)\n",
    "plt.tight_layout()\n",
    "plt.show()"
   ]
  },
  {
   "cell_type": "code",
   "execution_count": null,
   "id": "0046ce78",
   "metadata": {},
   "outputs": [],
   "source": [
    "fig, ax = plt.subplots(figsize=(10, 6))\n",
    "\n",
    "sns.boxplot(data=tci, x='Métrica', y='Escala')\n",
    "\n",
    "fig.savefig('C:/Users/lazar/Master-Dissertation/figuras/egdi/boxplot_tci_global.png')\n",
    "ax.xaxis.set_visible(False)\n",
    "ax.set_ylabel('')\n",
    "sns.despine(bottom=True)\n",
    "plt.tight_layout()\n",
    "plt.show()"
   ]
  }
 ],
 "metadata": {
  "kernelspec": {
   "display_name": "Python 3",
   "language": "python",
   "name": "python3"
  },
  "language_info": {
   "codemirror_mode": {
    "name": "ipython",
    "version": 3
   },
   "file_extension": ".py",
   "mimetype": "text/x-python",
   "name": "python",
   "nbconvert_exporter": "python",
   "pygments_lexer": "ipython3",
   "version": "3.13.5"
  }
 },
 "nbformat": 4,
 "nbformat_minor": 5
}
