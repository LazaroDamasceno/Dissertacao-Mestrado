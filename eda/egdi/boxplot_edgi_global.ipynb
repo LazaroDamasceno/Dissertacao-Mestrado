{
 "cells": [
  {
   "cell_type": "code",
   "execution_count": 70,
   "id": "942cb17d",
   "metadata": {},
   "outputs": [],
   "source": [
    "import pandas as pd\n",
    "import matplotlib.pyplot as plt\n",
    "import seaborn as sns"
   ]
  },
  {
   "cell_type": "code",
   "execution_count": 71,
   "id": "5db107d6",
   "metadata": {},
   "outputs": [],
   "source": [
    "egdi_2024 = pd.read_csv('EGOV_DATA_2024.csv')"
   ]
  },
  {
   "cell_type": "code",
   "execution_count": 72,
   "id": "8d3a50d0",
   "metadata": {},
   "outputs": [],
   "source": [
    "egdi_melt = egdi_2024.melt(\n",
    "    id_vars='Country Name',\n",
    "    value_vars=[\n",
    "        'E-Government Index',\n",
    "        'E-Participation Index',\n",
    "        'Online Service Index',\n",
    "        'Human Capital Index',\n",
    "        'Telecommunication Infrastructure Index'\n",
    "    ],\n",
    "    var_name='Métrica',\n",
    "    value_name='Escala'\n",
    ")"
   ]
  },
  {
   "cell_type": "code",
   "execution_count": null,
   "id": "c4e160e7",
   "metadata": {},
   "outputs": [],
   "source": []
  },
  {
   "cell_type": "code",
   "execution_count": 73,
   "id": "b896ec57",
   "metadata": {},
   "outputs": [],
   "source": [
    "egov = egdi_melt[egdi_melt['Métrica'] == 'E-Government Index'].reset_index(drop=True)\n",
    "epart = egdi_melt[egdi_melt['Métrica'] == 'E-Participation Index'].reset_index(drop=True)\n",
    "osi = egdi_melt[egdi_melt['Métrica'] == 'Online Service Index'].reset_index(drop=True)\n",
    "hci = egdi_melt[egdi_melt['Métrica'] == 'Human Capital Index'].reset_index(drop=True)\n",
    "tci = egdi_melt[egdi_melt['Métrica'] == 'Telecommunication Infrastructure Index'].reset_index(drop=True)"
   ]
  },
  {
   "cell_type": "markdown",
   "id": "1875be42",
   "metadata": {},
   "source": [
    "fig, ax = plt.subplots(figsize=(10, 6))\n",
    "\n",
    "sns.boxplot(data=egov, x='Métrica', y='Escala')\n",
    "\n",
    "ax.xaxis.set_visible(False)\n",
    "ax.set_ylabel('')\n",
    "sns.despine(bottom=True)\n",
    "plt.tight_layout()\n",
    "fig.savefig('C:/Users/lazar/Master-Dissertation/figuras/egdi/boxplot_egov_global.png', dpi=300, bbox_inches='tight')\n",
    "plt.show()"
   ]
  },
  {
   "cell_type": "markdown",
   "id": "747e4d65",
   "metadata": {},
   "source": [
    "fig, ax = plt.subplots(figsize=(10, 6))\n",
    "\n",
    "sns.boxplot(data=epart, x='Métrica', y='Escala')\n",
    "\n",
    "ax.xaxis.set_visible(False)\n",
    "ax.set_ylabel('')\n",
    "sns.despine(bottom=True)\n",
    "plt.tight_layout()\n",
    "fig.savefig('C:/Users/lazar/Master-Dissertation/figuras/egdi/boxplot_epart_global.png', dpi=300, bbox_inches='tight')\n",
    "plt.show()"
   ]
  },
  {
   "cell_type": "markdown",
   "id": "c2711179",
   "metadata": {},
   "source": [
    "fig, ax = plt.subplots(figsize=(10, 6))\n",
    "\n",
    "sns.boxplot(data=osi, x='Métrica', y='Escala')\n",
    "\n",
    "ax.xaxis.set_visible(False)\n",
    "ax.set_ylabel('')\n",
    "sns.despine(bottom=True)\n",
    "plt.tight_layout()\n",
    "fig.savefig('C:/Users/lazar/Master-Dissertation/figuras/egdi/boxplot_osi_global.png', dpi=300, bbox_inches='tight')\n",
    "plt.show()"
   ]
  },
  {
   "cell_type": "markdown",
   "id": "3f309739",
   "metadata": {},
   "source": [
    "fig, ax = plt.subplots(figsize=(10, 6))\n",
    "\n",
    "sns.boxplot(data=hci, x='Métrica', y='Escala')\n",
    "\n",
    "ax.xaxis.set_visible(False)\n",
    "ax.set_ylabel('')\n",
    "sns.despine(bottom=True)\n",
    "plt.tight_layout()\n",
    "fig.savefig('C:/Users/lazar/Master-Dissertation/figuras/egdi/boxplot_hci_global.png', dpi=300, bbox_inches='tight')\n",
    "plt.show()"
   ]
  },
  {
   "cell_type": "markdown",
   "id": "0046ce78",
   "metadata": {},
   "source": [
    "fig, ax = plt.subplots(figsize=(10, 6))\n",
    "\n",
    "sns.boxplot(data=tci, x='Métrica', y='Escala')\n",
    "\n",
    "ax.xaxis.set_visible(False)\n",
    "ax.set_ylabel('')\n",
    "sns.despine(bottom=True)\n",
    "plt.tight_layout()\n",
    "fig.savefig('C:/Users/lazar/Master-Dissertation/figuras/egdi/boxplot_tci_global.png', dpi=300, bbox_inches='tight')\n",
    "plt.show()"
   ]
  }
 ],
 "metadata": {
  "kernelspec": {
   "display_name": "Python 3",
   "language": "python",
   "name": "python3"
  },
  "language_info": {
   "codemirror_mode": {
    "name": "ipython",
    "version": 3
   },
   "file_extension": ".py",
   "mimetype": "text/x-python",
   "name": "python",
   "nbconvert_exporter": "python",
   "pygments_lexer": "ipython3",
   "version": "3.13.5"
  }
 },
 "nbformat": 4,
 "nbformat_minor": 5
}
