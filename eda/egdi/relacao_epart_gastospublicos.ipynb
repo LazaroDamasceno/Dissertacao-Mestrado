{
 "cells": [
  {
   "cell_type": "code",
   "execution_count": null,
   "id": "95d95985",
   "metadata": {
    "vscode": {
     "languageId": "r"
    }
   },
   "outputs": [],
   "source": [
    "library(tidyverse)\n",
    "library(readxl)\n",
    "library(IRdisplay)"
   ]
  },
  {
   "cell_type": "code",
   "execution_count": null,
   "id": "814e8ffb",
   "metadata": {
    "vscode": {
     "languageId": "r"
    }
   },
   "outputs": [],
   "source": [
    "egdi <- read.csv('EGOV_DATA_2024.csv') %>% \n",
    "    select(Country.Name, E.Participation.Index) %>%\n",
    "    arrange(Country.Name)"
   ]
  },
  {
   "cell_type": "code",
   "execution_count": null,
   "id": "9fe6dcb3",
   "metadata": {
    "vscode": {
     "languageId": "r"
    }
   },
   "outputs": [],
   "source": [
    "gastos_publicos <- read_excel('imf_government_expenditure.xls') %>% \n",
    "    arrange(Country)"
   ]
  },
  {
   "cell_type": "code",
   "execution_count": null,
   "id": "f5bcb979",
   "metadata": {
    "vscode": {
     "languageId": "r"
    }
   },
   "outputs": [],
   "source": [
    "setdiff(gastos_publicos$Country, egdi$Country.Name)"
   ]
  },
  {
   "cell_type": "code",
   "execution_count": null,
   "id": "2746d5f9",
   "metadata": {
    "vscode": {
     "languageId": "r"
    }
   },
   "outputs": [],
   "source": [
    "gastos_publicos <- gastos_publicos %>% \n",
    "    mutate(Country = case_when(\n",
    "        Country == 'Vietnam' ~ 'Viet Nam',\n",
    "        Country == 'Georgia' ~ 'Georgia (Country)',\n",
    "        Country == 'China, People\\'s Republic of' ~ 'China',\n",
    "        Country == 'China, People\\'s Republic of' ~ 'China',\n",
    "        Country == 'Republic of Congo' ~ 'Congo',\n",
    "        Country == 'Türkiye, Republic of' ~ 'Türkiye',\n",
    "        Country == \"Micronesia, Fed. States of\" ~ \"Micronesia (Federated States of)\",\n",
    "        Country == \"United States\" ~ \"United States of America\",\n",
    "        Country == \"United Kingdom\" ~ \"United Kingdom of Great Britain and Northern Ireland\",\n",
    "        Country == \"Tanzania\" ~ \"United Republic of Tanzania\",\n",
    "        Country == \"Slovak Republic\" ~ \"Slovakia\",\n",
    "        Country == \"Moldova\" ~ \"Republic of Moldova\",\n",
    "        Country == \"Kyrgyz Republic\" ~ \"Kyrgyzstan\",\n",
    "        Country == \"Korea, Republic of\" ~ \"Republic of Korea\",\n",
    "        Country == \"Iran\" ~ \"Iran (Islamic Republic of)\",\n",
    "        TRUE ~ Country\n",
    "    ))"
   ]
  },
  {
   "cell_type": "code",
   "execution_count": null,
   "id": "6abbc598",
   "metadata": {
    "vscode": {
     "languageId": "r"
    }
   },
   "outputs": [],
   "source": [
    "setdiff(gastos_publicos$Country, egdi$Country.Name)"
   ]
  },
  {
   "cell_type": "code",
   "execution_count": null,
   "id": "17bddd26",
   "metadata": {
    "vscode": {
     "languageId": "r"
    }
   },
   "outputs": [],
   "source": [
    "gastos_publicos <- gastos_publicos %>%\n",
    "    filter(Country %in% egdi$Country.Name)"
   ]
  },
  {
   "cell_type": "code",
   "execution_count": null,
   "id": "51bdb0ae",
   "metadata": {
    "vscode": {
     "languageId": "r"
    }
   },
   "outputs": [],
   "source": [
    "egdi <- egdi %>%\n",
    "    filter(Country.Name %in% gastos_publicos$Country)"
   ]
  },
  {
   "cell_type": "code",
   "execution_count": null,
   "id": "97359e7f",
   "metadata": {
    "vscode": {
     "languageId": "r"
    }
   },
   "outputs": [],
   "source": [
    "df <- data.frame(\n",
    "    egdi = egdi$E.Participation.Index,\n",
    "    gastos_publicos = gastos_publicos$Percentage\n",
    ")"
   ]
  },
  {
   "cell_type": "code",
   "execution_count": null,
   "id": "86a85ea6",
   "metadata": {
    "vscode": {
     "languageId": "r"
    }
   },
   "outputs": [],
   "source": [
    "my_plot <- ggplot(df, aes(egdi, gastos_publicos)) +\n",
    "    geom_point() +\n",
    "    geom_smooth(method = 'lm') +\n",
    "    coord_cartesian(ylim = c(0, 100), xlim = c(0, 1)) +\n",
    "    labs(\n",
    "        x = 'E-Participation Index',\n",
    "        y = 'Gastos públicos (% do PIB)'\n",
    "    )"
   ]
  },
  {
   "cell_type": "code",
   "execution_count": null,
   "id": "e7ea9be4",
   "metadata": {
    "vscode": {
     "languageId": "r"
    }
   },
   "outputs": [],
   "source": [
    "ggsave(\n",
    "    'C:/Users/lazar/Master-Dissertation/figuras/relacao_epart_gastospublicos.png', \n",
    "    dpi=300,\n",
    "    width = 25.4,\n",
    "    height = 15.24,\n",
    "    units = \"cm\"\n",
    ")"
   ]
  }
 ],
 "metadata": {
  "kernelspec": {
   "display_name": "R",
   "language": "R",
   "name": "ir"
  },
  "language_info": {
   "codemirror_mode": "r",
   "file_extension": ".r",
   "mimetype": "text/x-r-source",
   "name": "R",
   "pygments_lexer": "r",
   "version": "4.5.1"
  }
 },
 "nbformat": 4,
 "nbformat_minor": 5
}
