{
 "cells": [
  {
   "cell_type": "code",
   "execution_count": 7,
   "id": "0377402d",
   "metadata": {},
   "outputs": [],
   "source": [
    "import pandas as pd"
   ]
  },
  {
   "cell_type": "code",
   "execution_count": 8,
   "id": "decfc195",
   "metadata": {},
   "outputs": [],
   "source": [
    "df_2003 = pd.read_csv('EGOV_DATA_2003_RUSSIA.csv')\n",
    "df_2004 = pd.read_csv('EGOV_DATA_2004_RUSSIA.csv')\n",
    "df_2005 = pd.read_csv('EGOV_DATA_2005_RUSSIA.csv')\n",
    "df_2008 = pd.read_csv('EGOV_DATA_2008_RUSSIA.csv')\n",
    "df_2010 = pd.read_csv('EGOV_DATA_2010_RUSSIA.csv')\n",
    "df_2012 = pd.read_csv('EGOV_DATA_2012_RUSSIA.csv')\n",
    "df_2014 = pd.read_csv('EGOV_DATA_2014_RUSSIA.csv')\n",
    "df_2016 = pd.read_csv('EGOV_DATA_2016_RUSSIA.csv')\n",
    "df_2018 = pd.read_csv('EGOV_DATA_2018_RUSSIA.csv')\n",
    "df_2020 = pd.read_csv('EGOV_DATA_2020_RUSSIA.csv')\n",
    "df_2022 = pd.read_csv('EGOV_DATA_2022_RUSSIA.csv')\n",
    "df_2024 = pd.read_csv('EGOV_DATA_2024_RUSSIA.csv')"
   ]
  },
  {
   "cell_type": "code",
   "execution_count": 9,
   "id": "5a044eef",
   "metadata": {},
   "outputs": [],
   "source": [
    "df_concated = pd.concat([\n",
    "    df_2003,\n",
    "    df_2004,\n",
    "    df_2005,\n",
    "    df_2008,\n",
    "    df_2010,\n",
    "    df_2012,\n",
    "    df_2014,\n",
    "    df_2016,\n",
    "    df_2018,\n",
    "    df_2020,\n",
    "    df_2022,\n",
    "    df_2024\n",
    "]).reset_index(drop=True)"
   ]
  },
  {
   "cell_type": "code",
   "execution_count": 10,
   "id": "1774cac3",
   "metadata": {},
   "outputs": [],
   "source": [
    "df_tidy = df_concated.melt(\n",
    "    id_vars='Survey Year',\n",
    "    value_vars=[ \n",
    "        'E-Government Index',\n",
    "        'E-Participation Index',\n",
    "        'Online Service Index',\n",
    "        'Human Capital Index',\n",
    "        'Telecommunication Infrastructure Index'\n",
    "    ],\n",
    "    var_name='Metric',\n",
    "    value_name='Percentage'\n",
    ")"
   ]
  },
  {
   "cell_type": "code",
   "execution_count": 11,
   "id": "c89f6817",
   "metadata": {},
   "outputs": [],
   "source": [
    "df_tidy['Percentage'] = df_tidy['Percentage'].apply(lambda x: x * 100.0)"
   ]
  },
  {
   "cell_type": "code",
   "execution_count": 12,
   "id": "729ad4f4",
   "metadata": {},
   "outputs": [],
   "source": [
    "df_tidy.to_csv('concated_egdi_russia.csv')"
   ]
  }
 ],
 "metadata": {
  "kernelspec": {
   "display_name": "Python 3",
   "language": "python",
   "name": "python3"
  },
  "language_info": {
   "codemirror_mode": {
    "name": "ipython",
    "version": 3
   },
   "file_extension": ".py",
   "mimetype": "text/x-python",
   "name": "python",
   "nbconvert_exporter": "python",
   "pygments_lexer": "ipython3",
   "version": "3.13.5"
  }
 },
 "nbformat": 4,
 "nbformat_minor": 5
}
