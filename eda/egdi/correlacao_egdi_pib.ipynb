{
 "cells": [
  {
   "cell_type": "code",
   "execution_count": 131,
   "id": "74976316",
   "metadata": {
    "vscode": {
     "languageId": "r"
    }
   },
   "outputs": [],
   "source": [
    "library(tidyverse)\n",
    "library(tidyr)"
   ]
  },
  {
   "cell_type": "code",
   "execution_count": 132,
   "id": "2ec41683",
   "metadata": {
    "vscode": {
     "languageId": "r"
    }
   },
   "outputs": [],
   "source": [
    "egdi <- read.csv('EGOV_DATA_2024.csv') %>%\n",
    "    arrange(Country.Name) %>%\n",
    "    select(\n",
    "            Country.Name,\n",
    "            E.Government.Index,\n",
    "            E.Participation.Index, \n",
    "            Online.Service.Index, \n",
    "            Human.Capital.Index, \n",
    "            Telecommunication.Infrastructure.Index\n",
    "        )"
   ]
  },
  {
   "cell_type": "code",
   "execution_count": 133,
   "id": "1781f382",
   "metadata": {
    "vscode": {
     "languageId": "r"
    }
   },
   "outputs": [
    {
     "name": "stdout",
     "output_type": "stream",
     "text": [
      "Rows: 193\n",
      "Columns: 6\n",
      "$ Country.Name                           \u001b[3m\u001b[90m<chr>\u001b[39m\u001b[23m \"Afghanistan\"\u001b[90m, \u001b[39m\"Albania\"\u001b[90m, \u001b[39m\"Alge…\n",
      "$ E.Government.Index                     \u001b[3m\u001b[90m<dbl>\u001b[39m\u001b[23m 0.20827\u001b[90m, \u001b[39m0.80000\u001b[90m, \u001b[39m0.59556\u001b[90m, \u001b[39m0.68…\n",
      "$ E.Participation.Index                  \u001b[3m\u001b[90m<dbl>\u001b[39m\u001b[23m 0.1096\u001b[90m, \u001b[39m0.7260\u001b[90m, \u001b[39m0.0548\u001b[90m, \u001b[39m0.5479\u001b[90m,\u001b[39m…\n",
      "$ Online.Service.Index                   \u001b[3m\u001b[90m<dbl>\u001b[39m\u001b[23m 0.14379\u001b[90m, \u001b[39m0.81441\u001b[90m, \u001b[39m0.33200\u001b[90m, \u001b[39m0.47…\n",
      "$ Human.Capital.Index                    \u001b[3m\u001b[90m<dbl>\u001b[39m\u001b[23m 0.26430\u001b[90m, \u001b[39m0.81059\u001b[90m, \u001b[39m0.64179\u001b[90m, \u001b[39m0.66…\n",
      "$ Telecommunication.Infrastructure.Index \u001b[3m\u001b[90m<dbl>\u001b[39m\u001b[23m 0.21672\u001b[90m, \u001b[39m0.77497\u001b[90m, \u001b[39m0.81290\u001b[90m, \u001b[39m0.92…\n"
     ]
    }
   ],
   "source": [
    "glimpse(egdi)"
   ]
  },
  {
   "cell_type": "code",
   "execution_count": 134,
   "id": "3d121268",
   "metadata": {
    "vscode": {
     "languageId": "r"
    }
   },
   "outputs": [],
   "source": [
    "pib <- read.csv('pib_percapita_ppc.csv') %>%\n",
    "    select(Country.Name, X2024) %>%\n",
    "    arrange(Country.Name) %>% \n",
    "    replace_na(list(X2024 = 0))"
   ]
  },
  {
   "cell_type": "code",
   "execution_count": 135,
   "id": "bb5809dc",
   "metadata": {
    "vscode": {
     "languageId": "r"
    }
   },
   "outputs": [],
   "source": [
    "pib <- pib %>% \n",
    "    mutate(Country.Name = case_when(\n",
    "        Country.Name == 'Bahamas, The' ~ 'Bahamas',\n",
    "        Country.Name == 'Congo, Rep.' ~ 'Congo',\n",
    "        Country.Name == 'Czechia' ~ 'Czech Republic',\n",
    "        Country.Name == 'Cote d\\'Ivoire' ~ 'Côte d\\'Ivoire',\n",
    "        Country.Name == 'Egypt, Arab Rep.' ~ 'Egypt',\n",
    "        Country.Name == 'Gambia, The' ~ 'Gambia',\n",
    "        Country.Name == 'Georgia' ~ 'Georgia (Country)',\n",
    "        Country.Name == 'Micronesia, Fed. Sts.' ~ 'Micronesia (Federated States of)',\n",
    "        Country.Name == 'Turkiye' ~ 'Türkiye',\n",
    "        Country.Name == 'Iran, Islamic Rep.' ~ 'Iran (Islamic Republic of)',\n",
    "        Country.Name == 'Congo, Dem. Rep.' ~ 'Democratic Republic of the Congo',\n",
    "        Country.Name == 'Korea, Rep.' ~ 'Republic of Korea',\n",
    "        Country.Name == 'Moldova' ~ 'Republic of Moldova',\n",
    "        Country.Name == 'Korea, Dem. People\\'s Rep.' ~ 'Democratic People\\'s Republic of Korea',\n",
    "        Country.Name == 'Slovak Republic' ~ 'Slovakia',\n",
    "        Country.Name == 'St. Kitts and Nevis' ~ 'Saint Kitts and Nevis',\n",
    "        Country.Name == 'St. Lucia' ~ 'Saint Lucia',\n",
    "        Country.Name == 'St. Vincent and the Grenadines' ~ 'Saint Vincent and the Grenadines',\n",
    "        Country.Name == 'Yemen, Rep.' ~ 'Yemen',\n",
    "        Country.Name == 'Venezuela, RB' ~ 'Venezuela',\n",
    "        Country.Name == 'United Kingdom' ~ 'United Kingdom of Great Britain and Northern Ireland',\n",
    "        Country.Name == 'Tanzania' ~ 'United Republic of Tanzania',\n",
    "        Country.Name == 'United States' ~ 'United States of America',\n",
    "        Country.Name == 'Lao PDR' ~ 'Lao People\\'s Democratic Republic',\n",
    "        Country.Name == 'Kyrgyz Republic' ~ 'Kyrgyzstan',\n",
    "        TRUE ~ Country.Name\n",
    "    )) %>%\n",
    "    filter(Country.Name %in% egdi$Country.Name) %>%\n",
    "    arrange(Country.Name)"
   ]
  },
  {
   "cell_type": "code",
   "execution_count": 136,
   "id": "752dec25",
   "metadata": {
    "vscode": {
     "languageId": "r"
    }
   },
   "outputs": [],
   "source": [
    "df <- data.frame(\n",
    "    correlacoes = c(\n",
    "        cor(pib$X2024, egdi$E.Government.Index, method = 'spearman'),\n",
    "        cor(pib$X2024, egdi$E.Participation.Index, method = 'spearman'),\n",
    "        cor(pib$X2024, egdi$Online.Service.Index, method = 'spearman'),\n",
    "        cor(pib$X2024, egdi$Human.Capital.Index, method = 'spearman'),\n",
    "        cor(pib$X2024, egdi$Telecommunication.Infrastructure.Index, method = 'spearman')\n",
    "    ),\n",
    "    indices = c(\n",
    "        'EGDI',\n",
    "        'E-Participation Index',\n",
    "        'OSI',\n",
    "        'HCI',\n",
    "        'TCI'\n",
    "    )\n",
    ")"
   ]
  },
  {
   "cell_type": "code",
   "execution_count": null,
   "id": "fc1c20aa",
   "metadata": {
    "vscode": {
     "languageId": "r"
    }
   },
   "outputs": [],
   "source": [
    "my_plot <- ggplot(df, aes(indices, correlacoes)) +\n",
    "    geom_col(fill = \"steelblue\") +\n",
    "    labs(\n",
    "        x = 'Índices',\n",
    "        y = 'Escala'\n",
    "    ) +\n",
    "    coord_cartesian(ylim = c(0, 1)) +\n",
    "    geom_text(\n",
    "        aes(label = round(correlacoes, 2)), \n",
    "        vjust = -0.5\n",
    "    )"
   ]
  },
  {
   "cell_type": "code",
   "execution_count": null,
   "id": "67a05a51",
   "metadata": {
    "vscode": {
     "languageId": "r"
    }
   },
   "outputs": [],
   "source": [
    "ggsave(\n",
    "    'C:/Users/lazar/Master-Dissertation/figuras/correlacao_egdi_pib.png', \n",
    "    dpi=300,\n",
    "    width = 25.4,\n",
    "    height = 15.24,\n",
    "    units = \"cm\"\n",
    ")"
   ]
  }
 ],
 "metadata": {
  "kernelspec": {
   "display_name": "R",
   "language": "R",
   "name": "ir"
  },
  "language_info": {
   "codemirror_mode": "r",
   "file_extension": ".r",
   "mimetype": "text/x-r-source",
   "name": "R",
   "pygments_lexer": "r",
   "version": "4.5.1"
  }
 },
 "nbformat": 4,
 "nbformat_minor": 5
}
