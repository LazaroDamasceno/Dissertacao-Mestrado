{
 "cells": [
  {
   "cell_type": "code",
   "execution_count": null,
   "id": "6fd64d3e",
   "metadata": {},
   "outputs": [],
   "source": [
    "import pandas as pd\n",
    "import matplotlib.pyplot as plt\n",
    "import seaborn as sns"
   ]
  },
  {
   "cell_type": "code",
   "execution_count": null,
   "id": "2c85a6bd",
   "metadata": {},
   "outputs": [],
   "source": [
    "df = pd.read_csv('age-of-electoral-democracy-lexical.csv')"
   ]
  },
  {
   "cell_type": "code",
   "execution_count": null,
   "id": "7e43fc17",
   "metadata": {},
   "outputs": [],
   "source": [
    "df = df.rename(columns={\n",
    "    'Entity': 'Country',\n",
    "    'Age of electoral democracy': 'Age'\n",
    "})"
   ]
  },
  {
   "cell_type": "code",
   "execution_count": null,
   "id": "517585cf",
   "metadata": {},
   "outputs": [],
   "source": [
    "df = df.drop(columns=['Code'])"
   ]
  },
  {
   "cell_type": "code",
   "execution_count": null,
   "id": "9fee2762",
   "metadata": {},
   "outputs": [],
   "source": [
    "df.dtypes"
   ]
  },
  {
   "cell_type": "code",
   "execution_count": null,
   "id": "293d6e4a",
   "metadata": {},
   "outputs": [],
   "source": [
    "df_brazil = df.query('Country == \"Brazil\"').reset_index(drop=True)"
   ]
  },
  {
   "cell_type": "code",
   "execution_count": null,
   "id": "aa3d06ca",
   "metadata": {},
   "outputs": [],
   "source": [
    "df_brazil['Status'] = df_brazil['Age']"
   ]
  },
  {
   "cell_type": "code",
   "execution_count": null,
   "id": "615c95b0",
   "metadata": {},
   "outputs": [],
   "source": [
    "replacable_ages = [\n",
    "    'non-electoral autocracy',\n",
    "    'multi-party autocracy without elected executive',\n",
    "    'one-party autocracy',\n",
    "    'multi-party autocracy',\n",
    "    'exclusive democracy'\n",
    "]\n",
    "\n",
    "for age in replacable_ages:\n",
    "    df_brazil['Age'] = df_brazil['Age'].replace(age, 0)"
   ]
  },
  {
   "cell_type": "code",
   "execution_count": null,
   "id": "3530de52",
   "metadata": {},
   "outputs": [],
   "source": [
    "numerical_statuses = [str(n) for n in range(1, 41)]\n",
    "\n",
    "for status in numerical_statuses:\n",
    "    df_brazil['Status'] = df_brazil['Status'].replace(status, 'electoral democracy')"
   ]
  },
  {
   "cell_type": "code",
   "execution_count": null,
   "id": "1b90490d",
   "metadata": {},
   "outputs": [],
   "source": [
    "df_brazil.dtypes"
   ]
  },
  {
   "cell_type": "code",
   "execution_count": null,
   "id": "0225c718",
   "metadata": {},
   "outputs": [],
   "source": [
    "df_brazil['Age'] = df_brazil['Age'].astype(int)"
   ]
  },
  {
   "cell_type": "code",
   "execution_count": null,
   "id": "57982e7f",
   "metadata": {},
   "outputs": [],
   "source": [
    "df_brazil.dtypes"
   ]
  },
  {
   "cell_type": "code",
   "execution_count": null,
   "id": "cd59695b",
   "metadata": {},
   "outputs": [],
   "source": [
    "plt.figure(figsize=(12, 8))\n",
    "\n",
    "sns.histplot(data=df_brazil['Status'])\n",
    "\n",
    "plt.suptitle('Distribuição de Regimes Autoritários e Democráticos no Brasil', fontweight='bold')\n",
    "plt.xticks(rotation=90)\n",
    "sns.despine()\n",
    "plt.xlabel('')\n",
    "plt.ylabel('')\n",
    "plt.tight_layout()\n",
    "plt.show()"
   ]
  }
 ],
 "metadata": {
  "kernelspec": {
   "display_name": "Python 3",
   "language": "python",
   "name": "python3"
  },
  "language_info": {
   "codemirror_mode": {
    "name": "ipython",
    "version": 3
   },
   "file_extension": ".py",
   "mimetype": "text/x-python",
   "name": "python",
   "nbconvert_exporter": "python",
   "pygments_lexer": "ipython3",
   "version": "3.13.5"
  }
 },
 "nbformat": 4,
 "nbformat_minor": 5
}
