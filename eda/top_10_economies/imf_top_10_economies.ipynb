{
 "cells": [
  {
   "cell_type": "code",
   "execution_count": null,
   "id": "ed0e6938",
   "metadata": {},
   "outputs": [],
   "source": [
    "import pandas as pd"
   ]
  },
  {
   "cell_type": "code",
   "execution_count": null,
   "id": "e62b96a9",
   "metadata": {},
   "outputs": [],
   "source": [
    "df = pd.read_excel('imf_global_nominal_gdp.xls')"
   ]
  },
  {
   "cell_type": "code",
   "execution_count": null,
   "id": "7351f359",
   "metadata": {},
   "outputs": [],
   "source": [
    "df.info()"
   ]
  },
  {
   "cell_type": "code",
   "execution_count": null,
   "id": "1acb9fb7",
   "metadata": {},
   "outputs": [],
   "source": [
    "df.head(10)"
   ]
  },
  {
   "cell_type": "code",
   "execution_count": null,
   "id": "8089321a",
   "metadata": {},
   "outputs": [],
   "source": [
    "df.dtypes"
   ]
  },
  {
   "cell_type": "code",
   "execution_count": null,
   "id": "7c8bf2c9",
   "metadata": {},
   "outputs": [],
   "source": [
    "df_tidy = df.melt(\n",
    "    id_vars='Country',\n",
    "    value_vars=2025,\n",
    "    var_name='Year',\n",
    "    value_name='GDP'\n",
    ")"
   ]
  },
  {
   "cell_type": "code",
   "execution_count": null,
   "id": "12372ae9",
   "metadata": {},
   "outputs": [],
   "source": [
    "df_sorted = df_tidy.sort_values(by='GDP', ascending=False).reset_index(drop=True)"
   ]
  },
  {
   "cell_type": "code",
   "execution_count": null,
   "id": "dc00bd23",
   "metadata": {},
   "outputs": [],
   "source": [
    "top_10_economies = df_sorted[0:10]"
   ]
  },
  {
   "cell_type": "code",
   "execution_count": null,
   "id": "0b27c3e0",
   "metadata": {},
   "outputs": [],
   "source": [
    "top_10_economies.to_csv('imf_top_10_economies.csv')"
   ]
  }
 ],
 "metadata": {
  "kernelspec": {
   "display_name": "Python 3",
   "language": "python",
   "name": "python3"
  },
  "language_info": {
   "codemirror_mode": {
    "name": "ipython",
    "version": 3
   },
   "file_extension": ".py",
   "mimetype": "text/x-python",
   "name": "python",
   "nbconvert_exporter": "python",
   "pygments_lexer": "ipython3",
   "version": "3.13.5"
  }
 },
 "nbformat": 4,
 "nbformat_minor": 5
}
