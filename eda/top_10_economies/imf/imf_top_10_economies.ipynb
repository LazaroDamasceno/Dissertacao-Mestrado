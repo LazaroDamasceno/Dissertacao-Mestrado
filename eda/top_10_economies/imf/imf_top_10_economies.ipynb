{
 "cells": [
  {
   "cell_type": "code",
   "execution_count": 1,
   "id": "ed0e6938",
   "metadata": {},
   "outputs": [],
   "source": [
    "import pandas as pd\n",
    "import numpy as np"
   ]
  },
  {
   "cell_type": "code",
   "execution_count": 2,
   "id": "e62b96a9",
   "metadata": {},
   "outputs": [],
   "source": [
    "df = pd.read_excel('imf_global_nominal_gdp.xls')"
   ]
  },
  {
   "cell_type": "code",
   "execution_count": 3,
   "id": "7351f359",
   "metadata": {},
   "outputs": [
    {
     "name": "stdout",
     "output_type": "stream",
     "text": [
      "<class 'pandas.core.frame.DataFrame'>\n",
      "RangeIndex: 196 entries, 0 to 195\n",
      "Data columns (total 52 columns):\n",
      " #   Column   Non-Null Count  Dtype \n",
      "---  ------   --------------  ----- \n",
      " 0   Country  196 non-null    object\n",
      " 1   1980     196 non-null    object\n",
      " 2   1981     196 non-null    object\n",
      " 3   1982     196 non-null    object\n",
      " 4   1983     196 non-null    object\n",
      " 5   1984     196 non-null    object\n",
      " 6   1985     196 non-null    object\n",
      " 7   1986     196 non-null    object\n",
      " 8   1987     196 non-null    object\n",
      " 9   1988     196 non-null    object\n",
      " 10  1989     196 non-null    object\n",
      " 11  1990     196 non-null    object\n",
      " 12  1991     196 non-null    object\n",
      " 13  1992     196 non-null    object\n",
      " 14  1993     196 non-null    object\n",
      " 15  1994     196 non-null    object\n",
      " 16  1995     196 non-null    object\n",
      " 17  1996     196 non-null    object\n",
      " 18  1997     196 non-null    object\n",
      " 19  1998     196 non-null    object\n",
      " 20  1999     196 non-null    object\n",
      " 21  2000     196 non-null    object\n",
      " 22  2001     196 non-null    object\n",
      " 23  2002     196 non-null    object\n",
      " 24  2003     196 non-null    object\n",
      " 25  2004     196 non-null    object\n",
      " 26  2005     196 non-null    object\n",
      " 27  2006     196 non-null    object\n",
      " 28  2007     196 non-null    object\n",
      " 29  2008     196 non-null    object\n",
      " 30  2009     196 non-null    object\n",
      " 31  2010     196 non-null    object\n",
      " 32  2011     196 non-null    object\n",
      " 33  2012     196 non-null    object\n",
      " 34  2013     196 non-null    object\n",
      " 35  2014     196 non-null    object\n",
      " 36  2015     196 non-null    object\n",
      " 37  2016     196 non-null    object\n",
      " 38  2017     196 non-null    object\n",
      " 39  2018     196 non-null    object\n",
      " 40  2019     196 non-null    object\n",
      " 41  2020     196 non-null    object\n",
      " 42  2021     196 non-null    object\n",
      " 43  2022     196 non-null    object\n",
      " 44  2023     196 non-null    object\n",
      " 45  2024     196 non-null    object\n",
      " 46  2025     196 non-null    object\n",
      " 47  2026     196 non-null    object\n",
      " 48  2027     196 non-null    object\n",
      " 49  2028     196 non-null    object\n",
      " 50  2029     196 non-null    object\n",
      " 51  2030     196 non-null    object\n",
      "dtypes: object(52)\n",
      "memory usage: 79.8+ KB\n"
     ]
    }
   ],
   "source": [
    "df.info()"
   ]
  },
  {
   "cell_type": "code",
   "execution_count": 4,
   "id": "1acb9fb7",
   "metadata": {},
   "outputs": [
    {
     "data": {
      "application/vnd.microsoft.datawrangler.viewer.v0+json": {
       "columns": [
        {
         "name": "index",
         "rawType": "int64",
         "type": "integer"
        },
        {
         "name": "Country",
         "rawType": "object",
         "type": "string"
        },
        {
         "name": "1980",
         "rawType": "object",
         "type": "unknown"
        },
        {
         "name": "1981",
         "rawType": "object",
         "type": "unknown"
        },
        {
         "name": "1982",
         "rawType": "object",
         "type": "unknown"
        },
        {
         "name": "1983",
         "rawType": "object",
         "type": "unknown"
        },
        {
         "name": "1984",
         "rawType": "object",
         "type": "unknown"
        },
        {
         "name": "1985",
         "rawType": "object",
         "type": "unknown"
        },
        {
         "name": "1986",
         "rawType": "object",
         "type": "unknown"
        },
        {
         "name": "1987",
         "rawType": "object",
         "type": "unknown"
        },
        {
         "name": "1988",
         "rawType": "object",
         "type": "unknown"
        },
        {
         "name": "1989",
         "rawType": "object",
         "type": "unknown"
        },
        {
         "name": "1990",
         "rawType": "object",
         "type": "unknown"
        },
        {
         "name": "1991",
         "rawType": "object",
         "type": "unknown"
        },
        {
         "name": "1992",
         "rawType": "object",
         "type": "unknown"
        },
        {
         "name": "1993",
         "rawType": "object",
         "type": "unknown"
        },
        {
         "name": "1994",
         "rawType": "object",
         "type": "unknown"
        },
        {
         "name": "1995",
         "rawType": "object",
         "type": "unknown"
        },
        {
         "name": "1996",
         "rawType": "object",
         "type": "unknown"
        },
        {
         "name": "1997",
         "rawType": "object",
         "type": "unknown"
        },
        {
         "name": "1998",
         "rawType": "object",
         "type": "unknown"
        },
        {
         "name": "1999",
         "rawType": "object",
         "type": "unknown"
        },
        {
         "name": "2000",
         "rawType": "object",
         "type": "unknown"
        },
        {
         "name": "2001",
         "rawType": "object",
         "type": "unknown"
        },
        {
         "name": "2002",
         "rawType": "object",
         "type": "unknown"
        },
        {
         "name": "2003",
         "rawType": "object",
         "type": "unknown"
        },
        {
         "name": "2004",
         "rawType": "object",
         "type": "unknown"
        },
        {
         "name": "2005",
         "rawType": "object",
         "type": "unknown"
        },
        {
         "name": "2006",
         "rawType": "object",
         "type": "unknown"
        },
        {
         "name": "2007",
         "rawType": "object",
         "type": "unknown"
        },
        {
         "name": "2008",
         "rawType": "object",
         "type": "unknown"
        },
        {
         "name": "2009",
         "rawType": "object",
         "type": "unknown"
        },
        {
         "name": "2010",
         "rawType": "object",
         "type": "unknown"
        },
        {
         "name": "2011",
         "rawType": "object",
         "type": "unknown"
        },
        {
         "name": "2012",
         "rawType": "object",
         "type": "unknown"
        },
        {
         "name": "2013",
         "rawType": "object",
         "type": "unknown"
        },
        {
         "name": "2014",
         "rawType": "object",
         "type": "unknown"
        },
        {
         "name": "2015",
         "rawType": "object",
         "type": "unknown"
        },
        {
         "name": "2016",
         "rawType": "object",
         "type": "unknown"
        },
        {
         "name": "2017",
         "rawType": "object",
         "type": "unknown"
        },
        {
         "name": "2018",
         "rawType": "object",
         "type": "unknown"
        },
        {
         "name": "2019",
         "rawType": "object",
         "type": "unknown"
        },
        {
         "name": "2020",
         "rawType": "object",
         "type": "unknown"
        },
        {
         "name": "2021",
         "rawType": "object",
         "type": "unknown"
        },
        {
         "name": "2022",
         "rawType": "object",
         "type": "unknown"
        },
        {
         "name": "2023",
         "rawType": "object",
         "type": "unknown"
        },
        {
         "name": "2024",
         "rawType": "object",
         "type": "unknown"
        },
        {
         "name": "2025",
         "rawType": "object",
         "type": "unknown"
        },
        {
         "name": "2026",
         "rawType": "object",
         "type": "unknown"
        },
        {
         "name": "2027",
         "rawType": "object",
         "type": "unknown"
        },
        {
         "name": "2028",
         "rawType": "object",
         "type": "unknown"
        },
        {
         "name": "2029",
         "rawType": "object",
         "type": "unknown"
        },
        {
         "name": "2030",
         "rawType": "object",
         "type": "unknown"
        }
       ],
       "ref": "20d72e02-99e9-4f62-a52b-991dc0b60f0e",
       "rows": [
        [
         "0",
         "Afghanistan",
         "no data",
         "no data",
         "no data",
         "no data",
         "no data",
         "no data",
         "no data",
         "no data",
         "no data",
         "no data",
         "no data",
         "no data",
         "no data",
         "no data",
         "no data",
         "no data",
         "no data",
         "no data",
         "no data",
         "no data",
         "no data",
         "no data",
         "4.367",
         "4.553",
         "5.146",
         "6.167",
         "6.925",
         "8.556",
         "10.297",
         "12.066",
         "15.325",
         "17.89",
         "20.293",
         "20.17",
         "20.616",
         "20.057",
         "18.02",
         "18.883",
         "18.336",
         "18.876",
         "20.136",
         "14.278",
         "14.501",
         "17.248",
         "no data",
         "no data",
         "no data",
         "no data",
         "no data",
         "no data",
         "no data"
        ],
        [
         "1",
         "Albania",
         "1.969",
         "2.256",
         "2.323",
         "2.347",
         "2.317",
         "2.366",
         "2.617",
         "2.597",
         "2.56",
         "2.812",
         "2.247",
         "1.349",
         "0.853",
         "1.478",
         "2.389",
         "2.916",
         "3.238",
         "2.251",
         "2.585",
         "3.264",
         "3.529",
         "3.974",
         "4.408",
         "5.628",
         "7.263",
         "8.148",
         "9.002",
         "10.804",
         "13.035",
         "12.187",
         "12.079",
         "13.052",
         "12.47",
         "12.936",
         "13.404",
         "11.525",
         "12.003",
         "13.209",
         "15.337",
         "15.582",
         "15.271",
         "18.086",
         "19.185",
         "23.388",
         "27.259",
         "28.372",
         "29.743",
         "31.382",
         "33.354",
         "35.462",
         "37.683"
        ],
        [
         "2",
         "Algeria",
         "45.957",
         "48.156",
         "48.599",
         "51.582",
         "55.906",
         "66.346",
         "66.783",
         "68.698",
         "56.07",
         "57.041",
         "67.171",
         "50.65",
         "53.414",
         "55.309",
         "46.044",
         "45.654",
         "50.945",
         "52.287",
         "52.297",
         "53.011",
         "59.418",
         "59.413",
         "61.516",
         "73.482",
         "91.914",
         "107.047",
         "123.084",
         "142.483",
         "180.384",
         "150.317",
         "177.785",
         "218.332",
         "227.144",
         "229.701",
         "238.943",
         "187.494",
         "180.764",
         "190.004",
         "194.507",
         "193.361",
         "164.774",
         "185.85",
         "225.709",
         "247.789",
         "264.913",
         "268.885",
         "269.435",
         "274.52",
         "279.983",
         "285.271",
         "290.941"
        ],
        [
         "3",
         "Andorra",
         "no data",
         "no data",
         "no data",
         "no data",
         "no data",
         "no data",
         "no data",
         "no data",
         "no data",
         "no data",
         "no data",
         "no data",
         "no data",
         "no data",
         "no data",
         "no data",
         "no data",
         "no data",
         "no data",
         "no data",
         "1.429",
         "1.547",
         "1.758",
         "2.362",
         "2.896",
         "3.158",
         "3.456",
         "3.952",
         "4.082",
         "3.675",
         "3.446",
         "3.625",
         "3.189",
         "3.193",
         "3.267",
         "2.789",
         "2.895",
         "2.993",
         "3.217",
         "3.155",
         "2.885",
         "3.325",
         "3.376",
         "3.786",
         "4.038",
         "4.035",
         "4.169",
         "4.301",
         "4.438",
         "4.583",
         "4.732"
        ],
        [
         "4",
         "Angola",
         "8.73",
         "8.17",
         "8.17",
         "8.514",
         "9.025",
         "11.119",
         "10.411",
         "11.9",
         "12.909",
         "15.017",
         "16.529",
         "16.022",
         "12.354",
         "8.966",
         "6.529",
         "8.148",
         "10.51",
         "12.344",
         "10.464",
         "9.895",
         "12.646",
         "12.378",
         "17.312",
         "20.342",
         "26.998",
         "41.397",
         "58.654",
         "73.038",
         "98.79",
         "81.705",
         "95.547",
         "125.552",
         "143.573",
         "153.761",
         "164.448",
         "131.661",
         "114.764",
         "139.835",
         "114.189",
         "94.671",
         "66.521",
         "84.375",
         "142.442",
         "109.764",
         "115.946",
         "113.343",
         "109.384",
         "112.743",
         "118.534",
         "125.036",
         "132.281"
        ],
        [
         "5",
         "Antigua and Barbuda",
         "0.132",
         "0.149",
         "0.166",
         "0.185",
         "0.212",
         "0.246",
         "0.298",
         "0.347",
         "0.411",
         "0.455",
         "0.479",
         "0.504",
         "0.525",
         "0.566",
         "0.625",
         "0.616",
         "0.679",
         "0.734",
         "0.79",
         "0.836",
         "0.901",
         "0.878",
         "0.898",
         "0.948",
         "1.026",
         "1.144",
         "1.304",
         "1.487",
         "1.558",
         "1.387",
         "1.298",
         "1.287",
         "1.365",
         "1.325",
         "1.379",
         "1.437",
         "1.49",
         "1.535",
         "1.662",
         "1.726",
         "1.412",
         "1.602",
         "1.867",
         "2.006",
         "2.225",
         "2.373",
         "2.493",
         "2.606",
         "2.723",
         "2.846",
         "2.974"
        ],
        [
         "6",
         "Argentina",
         "233.696",
         "189.802",
         "94.25",
         "116.267",
         "130.544",
         "98.599",
         "118.565",
         "121.561",
         "142.386",
         "91.352",
         "158.024",
         "211.979",
         "255.787",
         "264.429",
         "287.835",
         "288.497",
         "304.282",
         "327.436",
         "334.244",
         "316.998",
         "317.759",
         "300.421",
         "112.458",
         "142.431",
         "164.911",
         "199.273",
         "232.892",
         "287.921",
         "363.545",
         "334.633",
         "424.729",
         "527.644",
         "579.666",
         "611.471",
         "563.614",
         "642.464",
         "556.774",
         "643.861",
         "524.431",
         "446.762",
         "385.218",
         "486.04",
         "632.318",
         "645.511",
         "632.145",
         "683.533",
         "715.376",
         "715.766",
         "712.668",
         "738.395",
         "776.815"
        ],
        [
         "7",
         "Armenia",
         "no data",
         "no data",
         "no data",
         "no data",
         "no data",
         "no data",
         "no data",
         "no data",
         "no data",
         "no data",
         "no data",
         "no data",
         "0.108",
         "0.835",
         "0.648",
         "1.287",
         "1.597",
         "1.639",
         "1.892",
         "1.845",
         "1.912",
         "2.118",
         "2.376",
         "2.807",
         "3.577",
         "4.9",
         "6.384",
         "9.206",
         "11.662",
         "8.648",
         "9.26",
         "10.142",
         "10.619",
         "11.121",
         "11.61",
         "10.553",
         "10.546",
         "11.527",
         "12.458",
         "13.619",
         "12.642",
         "13.879",
         "19.514",
         "24.086",
         "25.533",
         "26.258",
         "26.681",
         "27.893",
         "29.523",
         "31.388",
         "33.319"
        ],
        [
         "8",
         "Aruba",
         "no data",
         "no data",
         "no data",
         "no data",
         "no data",
         "no data",
         "no data",
         "no data",
         "no data",
         "no data",
         "no data",
         "no data",
         "no data",
         "no data",
         "no data",
         "1.321",
         "1.38",
         "1.532",
         "1.665",
         "1.723",
         "1.873",
         "1.896",
         "1.962",
         "2.044",
         "2.255",
         "2.36",
         "2.47",
         "2.678",
         "2.843",
         "2.554",
         "2.454",
         "2.638",
         "2.615",
         "2.728",
         "2.791",
         "2.963",
         "2.984",
         "3.092",
         "3.276",
         "3.341",
         "2.486",
         "2.929",
         "3.279",
         "3.649",
         "3.952",
         "4.1",
         "4.286",
         "4.481",
         "4.643",
         "4.797",
         "4.957"
        ],
        [
         "9",
         "Australia",
         "162.924",
         "188.41",
         "187.049",
         "179.478",
         "197.136",
         "174.385",
         "181.477",
         "213.1",
         "271.088",
         "308.402",
         "324.128",
         "324.436",
         "318.005",
         "309.303",
         "353.372",
         "379.227",
         "424.663",
         "426.401",
         "381.498",
         "411.968",
         "400.278",
         "378.114",
         "425.516",
         "541.155",
         "658.742",
         "736.505",
         "783.447",
         "950.093",
         "1056.559",
         "1000.828",
         "1254.623",
         "1515.507",
         "1570.139",
         "1519.9",
         "1456.939",
         "1233.921",
         "1262.655",
         "1381.11",
         "1417.162",
         "1386.277",
         "1362.613",
         "1655.843",
         "1725.461",
         "1742.461",
         "1796.805",
         "1771.681",
         "1841.002",
         "1914.821",
         "1995.441",
         "2083.608",
         "2181.788"
        ]
       ],
       "shape": {
        "columns": 52,
        "rows": 10
       }
      },
      "text/html": [
       "<div>\n",
       "<style scoped>\n",
       "    .dataframe tbody tr th:only-of-type {\n",
       "        vertical-align: middle;\n",
       "    }\n",
       "\n",
       "    .dataframe tbody tr th {\n",
       "        vertical-align: top;\n",
       "    }\n",
       "\n",
       "    .dataframe thead th {\n",
       "        text-align: right;\n",
       "    }\n",
       "</style>\n",
       "<table border=\"1\" class=\"dataframe\">\n",
       "  <thead>\n",
       "    <tr style=\"text-align: right;\">\n",
       "      <th></th>\n",
       "      <th>Country</th>\n",
       "      <th>1980</th>\n",
       "      <th>1981</th>\n",
       "      <th>1982</th>\n",
       "      <th>1983</th>\n",
       "      <th>1984</th>\n",
       "      <th>1985</th>\n",
       "      <th>1986</th>\n",
       "      <th>1987</th>\n",
       "      <th>1988</th>\n",
       "      <th>...</th>\n",
       "      <th>2021</th>\n",
       "      <th>2022</th>\n",
       "      <th>2023</th>\n",
       "      <th>2024</th>\n",
       "      <th>2025</th>\n",
       "      <th>2026</th>\n",
       "      <th>2027</th>\n",
       "      <th>2028</th>\n",
       "      <th>2029</th>\n",
       "      <th>2030</th>\n",
       "    </tr>\n",
       "  </thead>\n",
       "  <tbody>\n",
       "    <tr>\n",
       "      <th>0</th>\n",
       "      <td>Afghanistan</td>\n",
       "      <td>no data</td>\n",
       "      <td>no data</td>\n",
       "      <td>no data</td>\n",
       "      <td>no data</td>\n",
       "      <td>no data</td>\n",
       "      <td>no data</td>\n",
       "      <td>no data</td>\n",
       "      <td>no data</td>\n",
       "      <td>no data</td>\n",
       "      <td>...</td>\n",
       "      <td>14.278</td>\n",
       "      <td>14.501</td>\n",
       "      <td>17.248</td>\n",
       "      <td>no data</td>\n",
       "      <td>no data</td>\n",
       "      <td>no data</td>\n",
       "      <td>no data</td>\n",
       "      <td>no data</td>\n",
       "      <td>no data</td>\n",
       "      <td>no data</td>\n",
       "    </tr>\n",
       "    <tr>\n",
       "      <th>1</th>\n",
       "      <td>Albania</td>\n",
       "      <td>1.969</td>\n",
       "      <td>2.256</td>\n",
       "      <td>2.323</td>\n",
       "      <td>2.347</td>\n",
       "      <td>2.317</td>\n",
       "      <td>2.366</td>\n",
       "      <td>2.617</td>\n",
       "      <td>2.597</td>\n",
       "      <td>2.56</td>\n",
       "      <td>...</td>\n",
       "      <td>18.086</td>\n",
       "      <td>19.185</td>\n",
       "      <td>23.388</td>\n",
       "      <td>27.259</td>\n",
       "      <td>28.372</td>\n",
       "      <td>29.743</td>\n",
       "      <td>31.382</td>\n",
       "      <td>33.354</td>\n",
       "      <td>35.462</td>\n",
       "      <td>37.683</td>\n",
       "    </tr>\n",
       "    <tr>\n",
       "      <th>2</th>\n",
       "      <td>Algeria</td>\n",
       "      <td>45.957</td>\n",
       "      <td>48.156</td>\n",
       "      <td>48.599</td>\n",
       "      <td>51.582</td>\n",
       "      <td>55.906</td>\n",
       "      <td>66.346</td>\n",
       "      <td>66.783</td>\n",
       "      <td>68.698</td>\n",
       "      <td>56.07</td>\n",
       "      <td>...</td>\n",
       "      <td>185.85</td>\n",
       "      <td>225.709</td>\n",
       "      <td>247.789</td>\n",
       "      <td>264.913</td>\n",
       "      <td>268.885</td>\n",
       "      <td>269.435</td>\n",
       "      <td>274.52</td>\n",
       "      <td>279.983</td>\n",
       "      <td>285.271</td>\n",
       "      <td>290.941</td>\n",
       "    </tr>\n",
       "    <tr>\n",
       "      <th>3</th>\n",
       "      <td>Andorra</td>\n",
       "      <td>no data</td>\n",
       "      <td>no data</td>\n",
       "      <td>no data</td>\n",
       "      <td>no data</td>\n",
       "      <td>no data</td>\n",
       "      <td>no data</td>\n",
       "      <td>no data</td>\n",
       "      <td>no data</td>\n",
       "      <td>no data</td>\n",
       "      <td>...</td>\n",
       "      <td>3.325</td>\n",
       "      <td>3.376</td>\n",
       "      <td>3.786</td>\n",
       "      <td>4.038</td>\n",
       "      <td>4.035</td>\n",
       "      <td>4.169</td>\n",
       "      <td>4.301</td>\n",
       "      <td>4.438</td>\n",
       "      <td>4.583</td>\n",
       "      <td>4.732</td>\n",
       "    </tr>\n",
       "    <tr>\n",
       "      <th>4</th>\n",
       "      <td>Angola</td>\n",
       "      <td>8.73</td>\n",
       "      <td>8.17</td>\n",
       "      <td>8.17</td>\n",
       "      <td>8.514</td>\n",
       "      <td>9.025</td>\n",
       "      <td>11.119</td>\n",
       "      <td>10.411</td>\n",
       "      <td>11.9</td>\n",
       "      <td>12.909</td>\n",
       "      <td>...</td>\n",
       "      <td>84.375</td>\n",
       "      <td>142.442</td>\n",
       "      <td>109.764</td>\n",
       "      <td>115.946</td>\n",
       "      <td>113.343</td>\n",
       "      <td>109.384</td>\n",
       "      <td>112.743</td>\n",
       "      <td>118.534</td>\n",
       "      <td>125.036</td>\n",
       "      <td>132.281</td>\n",
       "    </tr>\n",
       "    <tr>\n",
       "      <th>5</th>\n",
       "      <td>Antigua and Barbuda</td>\n",
       "      <td>0.132</td>\n",
       "      <td>0.149</td>\n",
       "      <td>0.166</td>\n",
       "      <td>0.185</td>\n",
       "      <td>0.212</td>\n",
       "      <td>0.246</td>\n",
       "      <td>0.298</td>\n",
       "      <td>0.347</td>\n",
       "      <td>0.411</td>\n",
       "      <td>...</td>\n",
       "      <td>1.602</td>\n",
       "      <td>1.867</td>\n",
       "      <td>2.006</td>\n",
       "      <td>2.225</td>\n",
       "      <td>2.373</td>\n",
       "      <td>2.493</td>\n",
       "      <td>2.606</td>\n",
       "      <td>2.723</td>\n",
       "      <td>2.846</td>\n",
       "      <td>2.974</td>\n",
       "    </tr>\n",
       "    <tr>\n",
       "      <th>6</th>\n",
       "      <td>Argentina</td>\n",
       "      <td>233.696</td>\n",
       "      <td>189.802</td>\n",
       "      <td>94.25</td>\n",
       "      <td>116.267</td>\n",
       "      <td>130.544</td>\n",
       "      <td>98.599</td>\n",
       "      <td>118.565</td>\n",
       "      <td>121.561</td>\n",
       "      <td>142.386</td>\n",
       "      <td>...</td>\n",
       "      <td>486.04</td>\n",
       "      <td>632.318</td>\n",
       "      <td>645.511</td>\n",
       "      <td>632.145</td>\n",
       "      <td>683.533</td>\n",
       "      <td>715.376</td>\n",
       "      <td>715.766</td>\n",
       "      <td>712.668</td>\n",
       "      <td>738.395</td>\n",
       "      <td>776.815</td>\n",
       "    </tr>\n",
       "    <tr>\n",
       "      <th>7</th>\n",
       "      <td>Armenia</td>\n",
       "      <td>no data</td>\n",
       "      <td>no data</td>\n",
       "      <td>no data</td>\n",
       "      <td>no data</td>\n",
       "      <td>no data</td>\n",
       "      <td>no data</td>\n",
       "      <td>no data</td>\n",
       "      <td>no data</td>\n",
       "      <td>no data</td>\n",
       "      <td>...</td>\n",
       "      <td>13.879</td>\n",
       "      <td>19.514</td>\n",
       "      <td>24.086</td>\n",
       "      <td>25.533</td>\n",
       "      <td>26.258</td>\n",
       "      <td>26.681</td>\n",
       "      <td>27.893</td>\n",
       "      <td>29.523</td>\n",
       "      <td>31.388</td>\n",
       "      <td>33.319</td>\n",
       "    </tr>\n",
       "    <tr>\n",
       "      <th>8</th>\n",
       "      <td>Aruba</td>\n",
       "      <td>no data</td>\n",
       "      <td>no data</td>\n",
       "      <td>no data</td>\n",
       "      <td>no data</td>\n",
       "      <td>no data</td>\n",
       "      <td>no data</td>\n",
       "      <td>no data</td>\n",
       "      <td>no data</td>\n",
       "      <td>no data</td>\n",
       "      <td>...</td>\n",
       "      <td>2.929</td>\n",
       "      <td>3.279</td>\n",
       "      <td>3.649</td>\n",
       "      <td>3.952</td>\n",
       "      <td>4.1</td>\n",
       "      <td>4.286</td>\n",
       "      <td>4.481</td>\n",
       "      <td>4.643</td>\n",
       "      <td>4.797</td>\n",
       "      <td>4.957</td>\n",
       "    </tr>\n",
       "    <tr>\n",
       "      <th>9</th>\n",
       "      <td>Australia</td>\n",
       "      <td>162.924</td>\n",
       "      <td>188.41</td>\n",
       "      <td>187.049</td>\n",
       "      <td>179.478</td>\n",
       "      <td>197.136</td>\n",
       "      <td>174.385</td>\n",
       "      <td>181.477</td>\n",
       "      <td>213.1</td>\n",
       "      <td>271.088</td>\n",
       "      <td>...</td>\n",
       "      <td>1655.843</td>\n",
       "      <td>1725.461</td>\n",
       "      <td>1742.461</td>\n",
       "      <td>1796.805</td>\n",
       "      <td>1771.681</td>\n",
       "      <td>1841.002</td>\n",
       "      <td>1914.821</td>\n",
       "      <td>1995.441</td>\n",
       "      <td>2083.608</td>\n",
       "      <td>2181.788</td>\n",
       "    </tr>\n",
       "  </tbody>\n",
       "</table>\n",
       "<p>10 rows × 52 columns</p>\n",
       "</div>"
      ],
      "text/plain": [
       "               Country     1980     1981     1982     1983     1984     1985  \\\n",
       "0          Afghanistan  no data  no data  no data  no data  no data  no data   \n",
       "1              Albania    1.969    2.256    2.323    2.347    2.317    2.366   \n",
       "2              Algeria   45.957   48.156   48.599   51.582   55.906   66.346   \n",
       "3              Andorra  no data  no data  no data  no data  no data  no data   \n",
       "4               Angola     8.73     8.17     8.17    8.514    9.025   11.119   \n",
       "5  Antigua and Barbuda    0.132    0.149    0.166    0.185    0.212    0.246   \n",
       "6            Argentina  233.696  189.802    94.25  116.267  130.544   98.599   \n",
       "7              Armenia  no data  no data  no data  no data  no data  no data   \n",
       "8                Aruba  no data  no data  no data  no data  no data  no data   \n",
       "9            Australia  162.924   188.41  187.049  179.478  197.136  174.385   \n",
       "\n",
       "      1986     1987     1988  ...      2021      2022      2023      2024  \\\n",
       "0  no data  no data  no data  ...    14.278    14.501    17.248   no data   \n",
       "1    2.617    2.597     2.56  ...    18.086    19.185    23.388    27.259   \n",
       "2   66.783   68.698    56.07  ...    185.85   225.709   247.789   264.913   \n",
       "3  no data  no data  no data  ...     3.325     3.376     3.786     4.038   \n",
       "4   10.411     11.9   12.909  ...    84.375   142.442   109.764   115.946   \n",
       "5    0.298    0.347    0.411  ...     1.602     1.867     2.006     2.225   \n",
       "6  118.565  121.561  142.386  ...    486.04   632.318   645.511   632.145   \n",
       "7  no data  no data  no data  ...    13.879    19.514    24.086    25.533   \n",
       "8  no data  no data  no data  ...     2.929     3.279     3.649     3.952   \n",
       "9  181.477    213.1  271.088  ...  1655.843  1725.461  1742.461  1796.805   \n",
       "\n",
       "       2025      2026      2027      2028      2029      2030  \n",
       "0   no data   no data   no data   no data   no data   no data  \n",
       "1    28.372    29.743    31.382    33.354    35.462    37.683  \n",
       "2   268.885   269.435    274.52   279.983   285.271   290.941  \n",
       "3     4.035     4.169     4.301     4.438     4.583     4.732  \n",
       "4   113.343   109.384   112.743   118.534   125.036   132.281  \n",
       "5     2.373     2.493     2.606     2.723     2.846     2.974  \n",
       "6   683.533   715.376   715.766   712.668   738.395   776.815  \n",
       "7    26.258    26.681    27.893    29.523    31.388    33.319  \n",
       "8       4.1     4.286     4.481     4.643     4.797     4.957  \n",
       "9  1771.681  1841.002  1914.821  1995.441  2083.608  2181.788  \n",
       "\n",
       "[10 rows x 52 columns]"
      ]
     },
     "execution_count": 4,
     "metadata": {},
     "output_type": "execute_result"
    }
   ],
   "source": [
    "df.head(10)"
   ]
  },
  {
   "cell_type": "code",
   "execution_count": 5,
   "id": "8089321a",
   "metadata": {},
   "outputs": [
    {
     "data": {
      "application/vnd.microsoft.datawrangler.viewer.v0+json": {
       "columns": [
        {
         "name": "index",
         "rawType": "object",
         "type": "unknown"
        },
        {
         "name": "0",
         "rawType": "object",
         "type": "unknown"
        }
       ],
       "ref": "5bf143eb-eb5f-425f-bc42-4f4bc4cda163",
       "rows": [
        [
         "Country",
         "object"
        ],
        [
         "1980",
         "object"
        ],
        [
         "1981",
         "object"
        ],
        [
         "1982",
         "object"
        ],
        [
         "1983",
         "object"
        ],
        [
         "1984",
         "object"
        ],
        [
         "1985",
         "object"
        ],
        [
         "1986",
         "object"
        ],
        [
         "1987",
         "object"
        ],
        [
         "1988",
         "object"
        ],
        [
         "1989",
         "object"
        ],
        [
         "1990",
         "object"
        ],
        [
         "1991",
         "object"
        ],
        [
         "1992",
         "object"
        ],
        [
         "1993",
         "object"
        ],
        [
         "1994",
         "object"
        ],
        [
         "1995",
         "object"
        ],
        [
         "1996",
         "object"
        ],
        [
         "1997",
         "object"
        ],
        [
         "1998",
         "object"
        ],
        [
         "1999",
         "object"
        ],
        [
         "2000",
         "object"
        ],
        [
         "2001",
         "object"
        ],
        [
         "2002",
         "object"
        ],
        [
         "2003",
         "object"
        ],
        [
         "2004",
         "object"
        ],
        [
         "2005",
         "object"
        ],
        [
         "2006",
         "object"
        ],
        [
         "2007",
         "object"
        ],
        [
         "2008",
         "object"
        ],
        [
         "2009",
         "object"
        ],
        [
         "2010",
         "object"
        ],
        [
         "2011",
         "object"
        ],
        [
         "2012",
         "object"
        ],
        [
         "2013",
         "object"
        ],
        [
         "2014",
         "object"
        ],
        [
         "2015",
         "object"
        ],
        [
         "2016",
         "object"
        ],
        [
         "2017",
         "object"
        ],
        [
         "2018",
         "object"
        ],
        [
         "2019",
         "object"
        ],
        [
         "2020",
         "object"
        ],
        [
         "2021",
         "object"
        ],
        [
         "2022",
         "object"
        ],
        [
         "2023",
         "object"
        ],
        [
         "2024",
         "object"
        ],
        [
         "2025",
         "object"
        ],
        [
         "2026",
         "object"
        ],
        [
         "2027",
         "object"
        ],
        [
         "2028",
         "object"
        ]
       ],
       "shape": {
        "columns": 1,
        "rows": 52
       }
      },
      "text/plain": [
       "Country    object\n",
       "1980       object\n",
       "1981       object\n",
       "1982       object\n",
       "1983       object\n",
       "1984       object\n",
       "1985       object\n",
       "1986       object\n",
       "1987       object\n",
       "1988       object\n",
       "1989       object\n",
       "1990       object\n",
       "1991       object\n",
       "1992       object\n",
       "1993       object\n",
       "1994       object\n",
       "1995       object\n",
       "1996       object\n",
       "1997       object\n",
       "1998       object\n",
       "1999       object\n",
       "2000       object\n",
       "2001       object\n",
       "2002       object\n",
       "2003       object\n",
       "2004       object\n",
       "2005       object\n",
       "2006       object\n",
       "2007       object\n",
       "2008       object\n",
       "2009       object\n",
       "2010       object\n",
       "2011       object\n",
       "2012       object\n",
       "2013       object\n",
       "2014       object\n",
       "2015       object\n",
       "2016       object\n",
       "2017       object\n",
       "2018       object\n",
       "2019       object\n",
       "2020       object\n",
       "2021       object\n",
       "2022       object\n",
       "2023       object\n",
       "2024       object\n",
       "2025       object\n",
       "2026       object\n",
       "2027       object\n",
       "2028       object\n",
       "2029       object\n",
       "2030       object\n",
       "dtype: object"
      ]
     },
     "execution_count": 5,
     "metadata": {},
     "output_type": "execute_result"
    }
   ],
   "source": [
    "df.dtypes"
   ]
  },
  {
   "cell_type": "code",
   "execution_count": 6,
   "id": "ec655329",
   "metadata": {},
   "outputs": [],
   "source": [
    "df = df.replace(\"China, People's Republic of\", 'China')"
   ]
  },
  {
   "cell_type": "code",
   "execution_count": 7,
   "id": "e497bc44",
   "metadata": {},
   "outputs": [
    {
     "name": "stderr",
     "output_type": "stream",
     "text": [
      "C:\\Users\\lazar\\AppData\\Local\\Temp\\ipykernel_4792\\3569758893.py:1: FutureWarning: Downcasting behavior in `replace` is deprecated and will be removed in a future version. To retain the old behavior, explicitly call `result.infer_objects(copy=False)`. To opt-in to the future behavior, set `pd.set_option('future.no_silent_downcasting', True)`\n",
      "  df = df.replace('no data', np.nan)\n"
     ]
    }
   ],
   "source": [
    "df = df.replace('no data', np.nan)"
   ]
  },
  {
   "cell_type": "code",
   "execution_count": 8,
   "id": "34ecb8ce",
   "metadata": {},
   "outputs": [],
   "source": [
    "years = range(1980, 2026)\n",
    "\n",
    "for year in years:\n",
    "    df[year] = df[year].astype(np.float64)"
   ]
  },
  {
   "cell_type": "code",
   "execution_count": 9,
   "id": "a0ca7523",
   "metadata": {},
   "outputs": [
    {
     "data": {
      "application/vnd.microsoft.datawrangler.viewer.v0+json": {
       "columns": [
        {
         "name": "index",
         "rawType": "object",
         "type": "unknown"
        },
        {
         "name": "0",
         "rawType": "object",
         "type": "unknown"
        }
       ],
       "ref": "8a4556d8-d7f5-4b58-9866-ee66d8b9bf47",
       "rows": [
        [
         "Country",
         "object"
        ],
        [
         "1980",
         "float64"
        ],
        [
         "1981",
         "float64"
        ],
        [
         "1982",
         "float64"
        ],
        [
         "1983",
         "float64"
        ],
        [
         "1984",
         "float64"
        ],
        [
         "1985",
         "float64"
        ],
        [
         "1986",
         "float64"
        ],
        [
         "1987",
         "float64"
        ],
        [
         "1988",
         "float64"
        ],
        [
         "1989",
         "float64"
        ],
        [
         "1990",
         "float64"
        ],
        [
         "1991",
         "float64"
        ],
        [
         "1992",
         "float64"
        ],
        [
         "1993",
         "float64"
        ],
        [
         "1994",
         "float64"
        ],
        [
         "1995",
         "float64"
        ],
        [
         "1996",
         "float64"
        ],
        [
         "1997",
         "float64"
        ],
        [
         "1998",
         "float64"
        ],
        [
         "1999",
         "float64"
        ],
        [
         "2000",
         "float64"
        ],
        [
         "2001",
         "float64"
        ],
        [
         "2002",
         "float64"
        ],
        [
         "2003",
         "float64"
        ],
        [
         "2004",
         "float64"
        ],
        [
         "2005",
         "float64"
        ],
        [
         "2006",
         "float64"
        ],
        [
         "2007",
         "float64"
        ],
        [
         "2008",
         "float64"
        ],
        [
         "2009",
         "float64"
        ],
        [
         "2010",
         "float64"
        ],
        [
         "2011",
         "float64"
        ],
        [
         "2012",
         "float64"
        ],
        [
         "2013",
         "float64"
        ],
        [
         "2014",
         "float64"
        ],
        [
         "2015",
         "float64"
        ],
        [
         "2016",
         "float64"
        ],
        [
         "2017",
         "float64"
        ],
        [
         "2018",
         "float64"
        ],
        [
         "2019",
         "float64"
        ],
        [
         "2020",
         "float64"
        ],
        [
         "2021",
         "float64"
        ],
        [
         "2022",
         "float64"
        ],
        [
         "2023",
         "float64"
        ],
        [
         "2024",
         "float64"
        ],
        [
         "2025",
         "float64"
        ],
        [
         "2026",
         "float64"
        ],
        [
         "2027",
         "float64"
        ],
        [
         "2028",
         "float64"
        ]
       ],
       "shape": {
        "columns": 1,
        "rows": 52
       }
      },
      "text/plain": [
       "Country     object\n",
       "1980       float64\n",
       "1981       float64\n",
       "1982       float64\n",
       "1983       float64\n",
       "1984       float64\n",
       "1985       float64\n",
       "1986       float64\n",
       "1987       float64\n",
       "1988       float64\n",
       "1989       float64\n",
       "1990       float64\n",
       "1991       float64\n",
       "1992       float64\n",
       "1993       float64\n",
       "1994       float64\n",
       "1995       float64\n",
       "1996       float64\n",
       "1997       float64\n",
       "1998       float64\n",
       "1999       float64\n",
       "2000       float64\n",
       "2001       float64\n",
       "2002       float64\n",
       "2003       float64\n",
       "2004       float64\n",
       "2005       float64\n",
       "2006       float64\n",
       "2007       float64\n",
       "2008       float64\n",
       "2009       float64\n",
       "2010       float64\n",
       "2011       float64\n",
       "2012       float64\n",
       "2013       float64\n",
       "2014       float64\n",
       "2015       float64\n",
       "2016       float64\n",
       "2017       float64\n",
       "2018       float64\n",
       "2019       float64\n",
       "2020       float64\n",
       "2021       float64\n",
       "2022       float64\n",
       "2023       float64\n",
       "2024       float64\n",
       "2025       float64\n",
       "2026       float64\n",
       "2027       float64\n",
       "2028       float64\n",
       "2029       float64\n",
       "2030       float64\n",
       "dtype: object"
      ]
     },
     "execution_count": 9,
     "metadata": {},
     "output_type": "execute_result"
    }
   ],
   "source": [
    "df.dtypes"
   ]
  },
  {
   "cell_type": "code",
   "execution_count": 10,
   "id": "59159c3f",
   "metadata": {},
   "outputs": [],
   "source": [
    "df_tidy = df.melt(\n",
    "    id_vars='Country',\n",
    "    value_vars=2025,\n",
    "    var_name='Year',\n",
    "    value_name='GDP'\n",
    ")"
   ]
  },
  {
   "cell_type": "code",
   "execution_count": 11,
   "id": "5082b15b",
   "metadata": {},
   "outputs": [],
   "source": [
    "df_sorted = df_tidy.sort_values(by='GDP', ascending=False).reset_index(drop=True)[0:10]"
   ]
  },
  {
   "cell_type": "code",
   "execution_count": 12,
   "id": "dc331e2d",
   "metadata": {},
   "outputs": [],
   "source": [
    "df_sorted.to_csv('imf_top_10_economies.csv')"
   ]
  }
 ],
 "metadata": {
  "kernelspec": {
   "display_name": "Python 3",
   "language": "python",
   "name": "python3"
  },
  "language_info": {
   "codemirror_mode": {
    "name": "ipython",
    "version": 3
   },
   "file_extension": ".py",
   "mimetype": "text/x-python",
   "name": "python",
   "nbconvert_exporter": "python",
   "pygments_lexer": "ipython3",
   "version": "3.13.5"
  }
 },
 "nbformat": 4,
 "nbformat_minor": 5
}
