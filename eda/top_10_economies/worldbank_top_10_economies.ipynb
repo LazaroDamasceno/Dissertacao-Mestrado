{
 "cells": [
  {
   "cell_type": "code",
   "execution_count": null,
   "id": "edab1c78",
   "metadata": {},
   "outputs": [],
   "source": [
    "import pandas as pd\n",
    "import numpy as np"
   ]
  },
  {
   "cell_type": "code",
   "execution_count": null,
   "id": "4e8a372c",
   "metadata": {},
   "outputs": [],
   "source": [
    "df = pd.read_csv('worldbank_global_nominal_gdp.csv')"
   ]
  },
  {
   "cell_type": "code",
   "execution_count": null,
   "id": "50a32f80",
   "metadata": {},
   "outputs": [],
   "source": [
    "df.info()"
   ]
  },
  {
   "cell_type": "code",
   "execution_count": null,
   "id": "6632298a",
   "metadata": {},
   "outputs": [],
   "source": [
    "df = df.drop(columns=['Country Code', 'Indicator Name', 'Indicator Code'])"
   ]
  },
  {
   "cell_type": "code",
   "execution_count": null,
   "id": "8e1fe893",
   "metadata": {},
   "outputs": [],
   "source": [
    "df = df.rename(columns={'Country Name': 'Country'})"
   ]
  },
  {
   "cell_type": "code",
   "execution_count": null,
   "id": "87bb7c42",
   "metadata": {},
   "outputs": [],
   "source": [
    "df.info()"
   ]
  },
  {
   "cell_type": "code",
   "execution_count": null,
   "id": "1ff1a584",
   "metadata": {},
   "outputs": [],
   "source": [
    "df.dtypes"
   ]
  },
  {
   "cell_type": "code",
   "execution_count": null,
   "id": "46cf98e1",
   "metadata": {},
   "outputs": [],
   "source": [
    "df_melt = df.melt(\n",
    "    id_vars='Country',\n",
    "    value_vars='2024',\n",
    "    var_name='Year',\n",
    "    value_name='GDP'\n",
    ")"
   ]
  },
  {
   "cell_type": "code",
   "execution_count": null,
   "id": "30a1f709",
   "metadata": {},
   "outputs": [],
   "source": [
    "df_melt.dtypes"
   ]
  },
  {
   "cell_type": "code",
   "execution_count": null,
   "id": "065e4b7c",
   "metadata": {},
   "outputs": [],
   "source": [
    "df_melt['Year'] = df_melt['Year'].astype(np.float64)"
   ]
  },
  {
   "cell_type": "code",
   "execution_count": null,
   "id": "6fa7f272",
   "metadata": {},
   "outputs": [],
   "source": [
    "df_melt.dtypes"
   ]
  },
  {
   "cell_type": "code",
   "execution_count": null,
   "id": "80d3965a",
   "metadata": {},
   "outputs": [],
   "source": [
    "df_sorted = df_melt.sort_values(by='GDP', ascending=False)"
   ]
  },
  {
   "cell_type": "code",
   "execution_count": null,
   "id": "16d80c5e",
   "metadata": {},
   "outputs": [],
   "source": [
    "removable = [\n",
    "    'World',\n",
    "    'High income',\n",
    "    'Post-demographic dividend',\n",
    "    'IDA & IBRD total',\n",
    "    'IBRD only',\n",
    "    'Low & middle income',\n",
    "    'Middle income',\n",
    "    'East Asia & Pacific',\n",
    "    'North America',\n",
    "    'Upper middle income',\n",
    "    'Late-demographic dividend',\n",
    "    'Europe & Central Asia',\n",
    "    'OECD members',\n",
    "    'East Asia & Pacific (excluding high income)',\n",
    "    'East Asia & Pacific (IDA & IBRD countries)',\n",
    "    'European Union',\n",
    "    'Euro area', \n",
    "    'Early-demographic dividend',\n",
    "    'Lower middle income',\n",
    "    'Lower middle class',\n",
    "    'Latin America & Caribbean',\n",
    "    'Latin America & the Caribbean (IDA & IBRD countries)',\n",
    "    'Latin America & the Caribbean (excluding high income)',\n",
    "    'Europe & Central Asia (IDA & IBRD countries)',\n",
    "    'Latin America & Caribbean (excluding high income)',\n",
    "    'Middle East, North Africa, Afghanistan & Pakistan',\n",
    "    'South Asia (IDA & IBRD)',\n",
    "    'IDA total',\n",
    "    'Arab World',\n",
    "    'Central Europe and the Baltics',\n",
    "    'Europe & Central Asia (excluding high income)',\n",
    "    'Middle East, North Africa, Afghanistan & Pakistan (excluding high income)',\n",
    "    'Middle East, North Africa, Afghanistan & Pakistan (IDA & IBRD)',\n",
    "    'Sub-Saharan Africa (IDA & IBRD countries)',\n",
    "    'Sub-Saharan Africa',\n",
    "    'IDA only',\n",
    "    'Fragile and conflict affected situations',\n",
    "    'Sub-Saharan Africa (excluding high income)',\n",
    "    'Least developed countries: UN classification',\n",
    "    'Pre-demographic dividend',\n",
    "    'Africa Eastern and Southern',\n",
    "    'Heavily indebted poor countries (HIPC)',\n",
    "    'Not classified',\n",
    "    'Pacific island small states',\n",
    "    'Caribbean small states',\n",
    "    'Other small states',\n",
    "    'Small states',\n",
    "    'Low income',\n",
    "    'IDA blend',\n",
    "    'South Asia'\n",
    "]\n",
    "df_sorted = df_sorted.query('Country not in @removable').reset_index(drop=True)[0:10]"
   ]
  },
  {
   "cell_type": "code",
   "execution_count": null,
   "id": "2c6e325e",
   "metadata": {},
   "outputs": [],
   "source": [
    "df_sorted.to_csv('worldbank_top_10_economies.csv')"
   ]
  }
 ],
 "metadata": {
  "kernelspec": {
   "display_name": "Python 3",
   "language": "python",
   "name": "python3"
  },
  "language_info": {
   "codemirror_mode": {
    "name": "ipython",
    "version": 3
   },
   "file_extension": ".py",
   "mimetype": "text/x-python",
   "name": "python",
   "nbconvert_exporter": "python",
   "pygments_lexer": "ipython3",
   "version": "3.13.5"
  }
 },
 "nbformat": 4,
 "nbformat_minor": 5
}
