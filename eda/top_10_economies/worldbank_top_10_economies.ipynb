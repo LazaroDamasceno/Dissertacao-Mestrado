{
 "cells": [
  {
   "cell_type": "code",
   "execution_count": 15,
   "id": "edab1c78",
   "metadata": {},
   "outputs": [],
   "source": [
    "import pandas as pd\n",
    "import numpy as np"
   ]
  },
  {
   "cell_type": "code",
   "execution_count": 16,
   "id": "4e8a372c",
   "metadata": {},
   "outputs": [],
   "source": [
    "df = pd.read_csv('worldbank_global_nominal_gdp.csv')"
   ]
  },
  {
   "cell_type": "code",
   "execution_count": 17,
   "id": "50a32f80",
   "metadata": {},
   "outputs": [
    {
     "name": "stdout",
     "output_type": "stream",
     "text": [
      "<class 'pandas.core.frame.DataFrame'>\n",
      "RangeIndex: 266 entries, 0 to 265\n",
      "Data columns (total 70 columns):\n",
      " #   Column          Non-Null Count  Dtype  \n",
      "---  ------          --------------  -----  \n",
      " 0   Country Name    266 non-null    object \n",
      " 1   Country Code    266 non-null    object \n",
      " 2   Indicator Name  266 non-null    object \n",
      " 3   Indicator Code  266 non-null    object \n",
      " 4   1960            151 non-null    float64\n",
      " 5   1961            154 non-null    float64\n",
      " 6   1962            156 non-null    float64\n",
      " 7   1963            156 non-null    float64\n",
      " 8   1964            156 non-null    float64\n",
      " 9   1965            162 non-null    float64\n",
      " 10  1966            163 non-null    float64\n",
      " 11  1967            167 non-null    float64\n",
      " 12  1968            168 non-null    float64\n",
      " 13  1969            168 non-null    float64\n",
      " 14  1970            190 non-null    float64\n",
      " 15  1971            191 non-null    float64\n",
      " 16  1972            191 non-null    float64\n",
      " 17  1973            191 non-null    float64\n",
      " 18  1974            191 non-null    float64\n",
      " 19  1975            195 non-null    float64\n",
      " 20  1976            195 non-null    float64\n",
      " 21  1977            198 non-null    float64\n",
      " 22  1978            197 non-null    float64\n",
      " 23  1979            198 non-null    float64\n",
      " 24  1980            208 non-null    float64\n",
      " 25  1981            208 non-null    float64\n",
      " 26  1982            209 non-null    float64\n",
      " 27  1983            209 non-null    float64\n",
      " 28  1984            211 non-null    float64\n",
      " 29  1985            213 non-null    float64\n",
      " 30  1986            213 non-null    float64\n",
      " 31  1987            220 non-null    float64\n",
      " 32  1988            223 non-null    float64\n",
      " 33  1989            223 non-null    float64\n",
      " 34  1990            240 non-null    float64\n",
      " 35  1991            241 non-null    float64\n",
      " 36  1992            242 non-null    float64\n",
      " 37  1993            243 non-null    float64\n",
      " 38  1994            244 non-null    float64\n",
      " 39  1995            247 non-null    float64\n",
      " 40  1996            247 non-null    float64\n",
      " 41  1997            249 non-null    float64\n",
      " 42  1998            250 non-null    float64\n",
      " 43  1999            250 non-null    float64\n",
      " 44  2000            252 non-null    float64\n",
      " 45  2001            253 non-null    float64\n",
      " 46  2002            257 non-null    float64\n",
      " 47  2003            257 non-null    float64\n",
      " 48  2004            257 non-null    float64\n",
      " 49  2005            257 non-null    float64\n",
      " 50  2006            258 non-null    float64\n",
      " 51  2007            258 non-null    float64\n",
      " 52  2008            259 non-null    float64\n",
      " 53  2009            261 non-null    float64\n",
      " 54  2010            261 non-null    float64\n",
      " 55  2011            262 non-null    float64\n",
      " 56  2012            260 non-null    float64\n",
      " 57  2013            260 non-null    float64\n",
      " 58  2014            261 non-null    float64\n",
      " 59  2015            259 non-null    float64\n",
      " 60  2016            258 non-null    float64\n",
      " 61  2017            258 non-null    float64\n",
      " 62  2018            258 non-null    float64\n",
      " 63  2019            258 non-null    float64\n",
      " 64  2020            257 non-null    float64\n",
      " 65  2021            257 non-null    float64\n",
      " 66  2022            256 non-null    float64\n",
      " 67  2023            248 non-null    float64\n",
      " 68  2024            231 non-null    float64\n",
      " 69  Unnamed: 69     0 non-null      float64\n",
      "dtypes: float64(66), object(4)\n",
      "memory usage: 145.6+ KB\n"
     ]
    }
   ],
   "source": [
    "df.info()"
   ]
  },
  {
   "cell_type": "code",
   "execution_count": 18,
   "id": "6632298a",
   "metadata": {},
   "outputs": [],
   "source": [
    "df = df.drop(columns=['Country Code', 'Indicator Name', 'Indicator Code'])"
   ]
  },
  {
   "cell_type": "code",
   "execution_count": 19,
   "id": "8e1fe893",
   "metadata": {},
   "outputs": [],
   "source": [
    "df = df.rename(columns={'Country Name': 'Country'})"
   ]
  },
  {
   "cell_type": "code",
   "execution_count": 20,
   "id": "87bb7c42",
   "metadata": {},
   "outputs": [
    {
     "name": "stdout",
     "output_type": "stream",
     "text": [
      "<class 'pandas.core.frame.DataFrame'>\n",
      "RangeIndex: 266 entries, 0 to 265\n",
      "Data columns (total 67 columns):\n",
      " #   Column       Non-Null Count  Dtype  \n",
      "---  ------       --------------  -----  \n",
      " 0   Country      266 non-null    object \n",
      " 1   1960         151 non-null    float64\n",
      " 2   1961         154 non-null    float64\n",
      " 3   1962         156 non-null    float64\n",
      " 4   1963         156 non-null    float64\n",
      " 5   1964         156 non-null    float64\n",
      " 6   1965         162 non-null    float64\n",
      " 7   1966         163 non-null    float64\n",
      " 8   1967         167 non-null    float64\n",
      " 9   1968         168 non-null    float64\n",
      " 10  1969         168 non-null    float64\n",
      " 11  1970         190 non-null    float64\n",
      " 12  1971         191 non-null    float64\n",
      " 13  1972         191 non-null    float64\n",
      " 14  1973         191 non-null    float64\n",
      " 15  1974         191 non-null    float64\n",
      " 16  1975         195 non-null    float64\n",
      " 17  1976         195 non-null    float64\n",
      " 18  1977         198 non-null    float64\n",
      " 19  1978         197 non-null    float64\n",
      " 20  1979         198 non-null    float64\n",
      " 21  1980         208 non-null    float64\n",
      " 22  1981         208 non-null    float64\n",
      " 23  1982         209 non-null    float64\n",
      " 24  1983         209 non-null    float64\n",
      " 25  1984         211 non-null    float64\n",
      " 26  1985         213 non-null    float64\n",
      " 27  1986         213 non-null    float64\n",
      " 28  1987         220 non-null    float64\n",
      " 29  1988         223 non-null    float64\n",
      " 30  1989         223 non-null    float64\n",
      " 31  1990         240 non-null    float64\n",
      " 32  1991         241 non-null    float64\n",
      " 33  1992         242 non-null    float64\n",
      " 34  1993         243 non-null    float64\n",
      " 35  1994         244 non-null    float64\n",
      " 36  1995         247 non-null    float64\n",
      " 37  1996         247 non-null    float64\n",
      " 38  1997         249 non-null    float64\n",
      " 39  1998         250 non-null    float64\n",
      " 40  1999         250 non-null    float64\n",
      " 41  2000         252 non-null    float64\n",
      " 42  2001         253 non-null    float64\n",
      " 43  2002         257 non-null    float64\n",
      " 44  2003         257 non-null    float64\n",
      " 45  2004         257 non-null    float64\n",
      " 46  2005         257 non-null    float64\n",
      " 47  2006         258 non-null    float64\n",
      " 48  2007         258 non-null    float64\n",
      " 49  2008         259 non-null    float64\n",
      " 50  2009         261 non-null    float64\n",
      " 51  2010         261 non-null    float64\n",
      " 52  2011         262 non-null    float64\n",
      " 53  2012         260 non-null    float64\n",
      " 54  2013         260 non-null    float64\n",
      " 55  2014         261 non-null    float64\n",
      " 56  2015         259 non-null    float64\n",
      " 57  2016         258 non-null    float64\n",
      " 58  2017         258 non-null    float64\n",
      " 59  2018         258 non-null    float64\n",
      " 60  2019         258 non-null    float64\n",
      " 61  2020         257 non-null    float64\n",
      " 62  2021         257 non-null    float64\n",
      " 63  2022         256 non-null    float64\n",
      " 64  2023         248 non-null    float64\n",
      " 65  2024         231 non-null    float64\n",
      " 66  Unnamed: 69  0 non-null      float64\n",
      "dtypes: float64(66), object(1)\n",
      "memory usage: 139.4+ KB\n"
     ]
    }
   ],
   "source": [
    "df.info()"
   ]
  },
  {
   "cell_type": "code",
   "execution_count": 21,
   "id": "1ff1a584",
   "metadata": {},
   "outputs": [
    {
     "data": {
      "application/vnd.microsoft.datawrangler.viewer.v0+json": {
       "columns": [
        {
         "name": "index",
         "rawType": "object",
         "type": "string"
        },
        {
         "name": "0",
         "rawType": "object",
         "type": "unknown"
        }
       ],
       "ref": "5954164b-829d-4a5d-9362-87c7fcbc88e8",
       "rows": [
        [
         "Country",
         "object"
        ],
        [
         "1960",
         "float64"
        ],
        [
         "1961",
         "float64"
        ],
        [
         "1962",
         "float64"
        ],
        [
         "1963",
         "float64"
        ],
        [
         "1964",
         "float64"
        ],
        [
         "1965",
         "float64"
        ],
        [
         "1966",
         "float64"
        ],
        [
         "1967",
         "float64"
        ],
        [
         "1968",
         "float64"
        ],
        [
         "1969",
         "float64"
        ],
        [
         "1970",
         "float64"
        ],
        [
         "1971",
         "float64"
        ],
        [
         "1972",
         "float64"
        ],
        [
         "1973",
         "float64"
        ],
        [
         "1974",
         "float64"
        ],
        [
         "1975",
         "float64"
        ],
        [
         "1976",
         "float64"
        ],
        [
         "1977",
         "float64"
        ],
        [
         "1978",
         "float64"
        ],
        [
         "1979",
         "float64"
        ],
        [
         "1980",
         "float64"
        ],
        [
         "1981",
         "float64"
        ],
        [
         "1982",
         "float64"
        ],
        [
         "1983",
         "float64"
        ],
        [
         "1984",
         "float64"
        ],
        [
         "1985",
         "float64"
        ],
        [
         "1986",
         "float64"
        ],
        [
         "1987",
         "float64"
        ],
        [
         "1988",
         "float64"
        ],
        [
         "1989",
         "float64"
        ],
        [
         "1990",
         "float64"
        ],
        [
         "1991",
         "float64"
        ],
        [
         "1992",
         "float64"
        ],
        [
         "1993",
         "float64"
        ],
        [
         "1994",
         "float64"
        ],
        [
         "1995",
         "float64"
        ],
        [
         "1996",
         "float64"
        ],
        [
         "1997",
         "float64"
        ],
        [
         "1998",
         "float64"
        ],
        [
         "1999",
         "float64"
        ],
        [
         "2000",
         "float64"
        ],
        [
         "2001",
         "float64"
        ],
        [
         "2002",
         "float64"
        ],
        [
         "2003",
         "float64"
        ],
        [
         "2004",
         "float64"
        ],
        [
         "2005",
         "float64"
        ],
        [
         "2006",
         "float64"
        ],
        [
         "2007",
         "float64"
        ],
        [
         "2008",
         "float64"
        ]
       ],
       "shape": {
        "columns": 1,
        "rows": 67
       }
      },
      "text/plain": [
       "Country         object\n",
       "1960           float64\n",
       "1961           float64\n",
       "1962           float64\n",
       "1963           float64\n",
       "                ...   \n",
       "2021           float64\n",
       "2022           float64\n",
       "2023           float64\n",
       "2024           float64\n",
       "Unnamed: 69    float64\n",
       "Length: 67, dtype: object"
      ]
     },
     "execution_count": 21,
     "metadata": {},
     "output_type": "execute_result"
    }
   ],
   "source": [
    "df.dtypes"
   ]
  },
  {
   "cell_type": "code",
   "execution_count": 22,
   "id": "46cf98e1",
   "metadata": {},
   "outputs": [],
   "source": [
    "df_melt = df.melt(\n",
    "    id_vars='Country',\n",
    "    value_vars='2024',\n",
    "    var_name='Year',\n",
    "    value_name='GDP'\n",
    ")"
   ]
  },
  {
   "cell_type": "code",
   "execution_count": 23,
   "id": "30a1f709",
   "metadata": {},
   "outputs": [
    {
     "data": {
      "application/vnd.microsoft.datawrangler.viewer.v0+json": {
       "columns": [
        {
         "name": "index",
         "rawType": "object",
         "type": "string"
        },
        {
         "name": "0",
         "rawType": "object",
         "type": "unknown"
        }
       ],
       "ref": "5a58c3a5-a0e8-469c-a86c-3ae6ce6d46d7",
       "rows": [
        [
         "Country",
         "object"
        ],
        [
         "Year",
         "object"
        ],
        [
         "GDP",
         "float64"
        ]
       ],
       "shape": {
        "columns": 1,
        "rows": 3
       }
      },
      "text/plain": [
       "Country     object\n",
       "Year        object\n",
       "GDP        float64\n",
       "dtype: object"
      ]
     },
     "execution_count": 23,
     "metadata": {},
     "output_type": "execute_result"
    }
   ],
   "source": [
    "df_melt.dtypes"
   ]
  },
  {
   "cell_type": "code",
   "execution_count": 24,
   "id": "065e4b7c",
   "metadata": {},
   "outputs": [],
   "source": [
    "df_melt['Year'] = df_melt['Year'].astype(np.float64)"
   ]
  },
  {
   "cell_type": "code",
   "execution_count": 25,
   "id": "6fa7f272",
   "metadata": {},
   "outputs": [
    {
     "data": {
      "application/vnd.microsoft.datawrangler.viewer.v0+json": {
       "columns": [
        {
         "name": "index",
         "rawType": "object",
         "type": "string"
        },
        {
         "name": "0",
         "rawType": "object",
         "type": "unknown"
        }
       ],
       "ref": "c8c99d1d-7b26-40de-8b6f-902667f08f76",
       "rows": [
        [
         "Country",
         "object"
        ],
        [
         "Year",
         "float64"
        ],
        [
         "GDP",
         "float64"
        ]
       ],
       "shape": {
        "columns": 1,
        "rows": 3
       }
      },
      "text/plain": [
       "Country     object\n",
       "Year       float64\n",
       "GDP        float64\n",
       "dtype: object"
      ]
     },
     "execution_count": 25,
     "metadata": {},
     "output_type": "execute_result"
    }
   ],
   "source": [
    "df_melt.dtypes"
   ]
  },
  {
   "cell_type": "code",
   "execution_count": 26,
   "id": "80d3965a",
   "metadata": {},
   "outputs": [],
   "source": [
    "df_sorted = df_melt.sort_values(by='GDP', ascending=False)"
   ]
  },
  {
   "cell_type": "code",
   "execution_count": 27,
   "id": "16d80c5e",
   "metadata": {},
   "outputs": [],
   "source": [
    "removable = [\n",
    "    'World',\n",
    "    'High income',\n",
    "    'Post-demographic dividend',\n",
    "    'IDA & IBRD total',\n",
    "    'IBRD only',\n",
    "    'Low & middle income',\n",
    "    'Middle income',\n",
    "    'East Asia & Pacific',\n",
    "    'North America',\n",
    "    'Upper middle income',\n",
    "    'Late-demographic dividend',\n",
    "    'Europe & Central Asia',\n",
    "    'OECD members',\n",
    "    'East Asia & Pacific (excluding high income)',\n",
    "    'East Asia & Pacific (IDA & IBRD countries)',\n",
    "    'European Union',\n",
    "    'Euro area', \n",
    "    'Early-demographic dividend',\n",
    "    'Lower middle income',\n",
    "    'Lower middle class',\n",
    "    'Latin America & Caribbean',\n",
    "    'Latin America & the Caribbean (IDA & IBRD countries)',\n",
    "    'Latin America & the Caribbean (excluding high income)',\n",
    "    'Europe & Central Asia (IDA & IBRD countries)',\n",
    "    'Latin America & Caribbean (excluding high income)',\n",
    "    'Middle East, North Africa, Afghanistan & Pakistan',\n",
    "    'South Asia (IDA & IBRD)',\n",
    "    'IDA total',\n",
    "    'Arab World',\n",
    "    'Central Europe and the Baltics',\n",
    "    'Europe & Central Asia (excluding high income)',\n",
    "    'Middle East, North Africa, Afghanistan & Pakistan (excluding high income)',\n",
    "    'Middle East, North Africa, Afghanistan & Pakistan (IDA & IBRD)',\n",
    "    'Sub-Saharan Africa (IDA & IBRD countries)',\n",
    "    'Sub-Saharan Africa',\n",
    "    'IDA only',\n",
    "    'Fragile and conflict affected situations',\n",
    "    'Sub-Saharan Africa (excluding high income)',\n",
    "    'Least developed countries: UN classification',\n",
    "    'Pre-demographic dividend',\n",
    "    'Africa Eastern and Southern',\n",
    "    'Heavily indebted poor countries (HIPC)',\n",
    "    'Not classified',\n",
    "    'Pacific island small states',\n",
    "    'Caribbean small states',\n",
    "    'Other small states',\n",
    "    'Small states',\n",
    "    'Low income',\n",
    "    'IDA blend',\n",
    "    'South Asia'\n",
    "]\n",
    "df_sorted = df_sorted.query('Country not in @removable').reset_index(drop=True)[0:10]"
   ]
  },
  {
   "cell_type": "code",
   "execution_count": 28,
   "id": "2c6e325e",
   "metadata": {},
   "outputs": [],
   "source": [
    "df_sorted.to_csv('worldbank_top_10_economies.csv')"
   ]
  }
 ],
 "metadata": {
  "kernelspec": {
   "display_name": "Python 3",
   "language": "python",
   "name": "python3"
  },
  "language_info": {
   "codemirror_mode": {
    "name": "ipython",
    "version": 3
   },
   "file_extension": ".py",
   "mimetype": "text/x-python",
   "name": "python",
   "nbconvert_exporter": "python",
   "pygments_lexer": "ipython3",
   "version": "3.13.5"
  }
 },
 "nbformat": 4,
 "nbformat_minor": 5
}
