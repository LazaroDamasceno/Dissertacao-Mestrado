{
 "cells": [
  {
   "cell_type": "code",
   "execution_count": null,
   "id": "d6f09dc6",
   "metadata": {},
   "outputs": [],
   "source": [
    "import geopandas\n",
    "import matplotlib.pyplot as plt"
   ]
  },
  {
   "cell_type": "code",
   "execution_count": null,
   "id": "eb6a5c0b",
   "metadata": {},
   "outputs": [],
   "source": [
    "gdf = geopandas.read_file('brazil_geo.json').sort_values(by='id', ascending=True).reset_index(drop=True)"
   ]
  },
  {
   "cell_type": "code",
   "execution_count": null,
   "id": "94f402fe",
   "metadata": {},
   "outputs": [],
   "source": [
    "servicos_egov = {\n",
    "    'A': [36, 23, 33, 30, 23],\n",
    "    'B': [27, 24, 32, 32, 27],\n",
    "    'C': [25, 17, 22, 26, 13],\n",
    "    'D': [28, 20, 32, 23, 18],\n",
    "    'E': [33, 19, 28, 23, 22],\n",
    "    'F': [10, 6, 13, 12, 8],\n",
    "    'G': [20, 6, 16, 10, 8]\n",
    "}"
   ]
  },
  {
   "cell_type": "code",
   "execution_count": null,
   "id": "e322c700",
   "metadata": {},
   "outputs": [],
   "source": [
    "regioes = [\n",
    "    'Sudeste',\n",
    "    'Nordeste',\n",
    "    'Sul',\n",
    "    'Norte',\n",
    "    'Centro-Oeste'\n",
    "]"
   ]
  }
 ],
 "metadata": {
  "kernelspec": {
   "display_name": "base",
   "language": "python",
   "name": "python3"
  },
  "language_info": {
   "codemirror_mode": {
    "name": "ipython",
    "version": 3
   },
   "file_extension": ".py",
   "mimetype": "text/x-python",
   "name": "python",
   "nbconvert_exporter": "python",
   "pygments_lexer": "ipython3",
   "version": "3.13.5"
  }
 },
 "nbformat": 4,
 "nbformat_minor": 5
}
