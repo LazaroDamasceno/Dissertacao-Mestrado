{
 "cells": [
  {
   "cell_type": "code",
   "execution_count": 1,
   "id": "ed2142d6",
   "metadata": {},
   "outputs": [],
   "source": [
    "import geopandas\n",
    "import pandas as pd\n",
    "import requests\n",
    "import matplotlib.pyplot as plt"
   ]
  },
  {
   "cell_type": "markdown",
   "id": "1477a652",
   "metadata": {},
   "source": []
  },
  {
   "cell_type": "code",
   "execution_count": 2,
   "id": "0e7adb3e",
   "metadata": {},
   "outputs": [],
   "source": [
    "request = requests.get('https://r2.datahub.io/clvyjaryy0000la0cxieg4o8o/main/raw/data/countries.geojson')"
   ]
  },
  {
   "cell_type": "code",
   "execution_count": 3,
   "id": "7e190fef",
   "metadata": {},
   "outputs": [],
   "source": [
    "gdf = geopandas.read_file(request.content)"
   ]
  },
  {
   "cell_type": "code",
   "execution_count": 4,
   "id": "fc3cea60",
   "metadata": {},
   "outputs": [],
   "source": [
    "gdf['name'] = gdf['name'].replace({'eSwatini': 'Eswatini'})"
   ]
  },
  {
   "cell_type": "markdown",
   "id": "09f9909e",
   "metadata": {},
   "source": []
  },
  {
   "cell_type": "code",
   "execution_count": 5,
   "id": "8370a4ad",
   "metadata": {},
   "outputs": [],
   "source": [
    "pib = pd.read_csv('pib_percapita_ppc.csv')"
   ]
  },
  {
   "cell_type": "code",
   "execution_count": 6,
   "id": "37a0d6e8",
   "metadata": {},
   "outputs": [],
   "source": [
    "pib = pib.sort_values(by='Country Name', ascending=True).reset_index(drop=True)"
   ]
  },
  {
   "cell_type": "code",
   "execution_count": 7,
   "id": "09ed4345",
   "metadata": {},
   "outputs": [],
   "source": [
    "pib = pib.iloc[:, [0, 68]]"
   ]
  },
  {
   "cell_type": "markdown",
   "id": "65663767",
   "metadata": {},
   "source": []
  },
  {
   "cell_type": "code",
   "execution_count": 8,
   "id": "87350131",
   "metadata": {},
   "outputs": [],
   "source": [
    "egov = pd.read_csv('EGOV_DATA_2024.csv')"
   ]
  },
  {
   "cell_type": "code",
   "execution_count": 9,
   "id": "72dfd766",
   "metadata": {},
   "outputs": [],
   "source": [
    "paises = egov['Country Name'].unique()"
   ]
  },
  {
   "cell_type": "markdown",
   "id": "1ed967e0",
   "metadata": {},
   "source": []
  },
  {
   "cell_type": "code",
   "execution_count": 10,
   "id": "0cb4614d",
   "metadata": {},
   "outputs": [
    {
     "data": {
      "text/plain": [
       "{'Bahamas',\n",
       " 'Congo',\n",
       " 'Czech Republic',\n",
       " \"Côte d'Ivoire\",\n",
       " \"Democratic People's Republic of Korea\",\n",
       " 'Democratic Republic of the Congo',\n",
       " 'Egypt',\n",
       " 'Gambia',\n",
       " 'Georgia (Country)',\n",
       " 'Iran (Islamic Republic of)',\n",
       " 'Kyrgyzstan',\n",
       " \"Lao People's Democratic Republic\",\n",
       " 'Micronesia (Federated States of)',\n",
       " 'Republic of Korea',\n",
       " 'Republic of Moldova',\n",
       " 'Saint Kitts and Nevis',\n",
       " 'Saint Lucia',\n",
       " 'Saint Vincent and the Grenadines',\n",
       " 'Slovakia',\n",
       " 'Türkiye',\n",
       " 'United Kingdom of Great Britain and Northern Ireland',\n",
       " 'United Republic of Tanzania',\n",
       " 'United States of America',\n",
       " 'Venezuela',\n",
       " 'Yemen'}"
      ]
     },
     "execution_count": 10,
     "metadata": {},
     "output_type": "execute_result"
    }
   ],
   "source": [
    "set(paises).difference(set(pib['Country Name']))"
   ]
  },
  {
   "cell_type": "code",
   "execution_count": 11,
   "id": "ce05c28a",
   "metadata": {},
   "outputs": [],
   "source": [
    "pib['Country Name'] = pib['Country Name'].replace({\n",
    "    'Bahamas, The': 'Bahamas',\n",
    "    'Congo, Rep.': 'Congo',\n",
    "    'Czechia': 'Czech Republic',\n",
    "    \"Cote d'Ivoire\": \"Côte d'Ivoire\",\n",
    "    'St. Kitts and Nevis': 'Saint Kitts and Nevis',\n",
    "    'St. Lucia': 'Saint Lucia',\n",
    "    'St. Vincent and the Grenadines': 'Saint Vincent and the Grenadines',\n",
    "    'Slovak Republic': 'Slovakia',\n",
    "    'Yemen, Rep.': 'Yemen',\n",
    "    'Venezuela, RB': 'Venezuela',\n",
    "    'Turkiye': 'Türkiye',\n",
    "    'United Kingdom': 'United Kingdom of Great Britain and Northern Ireland',\n",
    "    'Georgia': 'Georgia (Country)',\n",
    "    \"Korea, Dem. People's Rep.\": \"Democratic People's Republic of Korea\",\n",
    "    \"Congo, Dem. Rep.\": \"Democratic Republic of the Congo\",\n",
    "    'Korea, Rep.': 'Republic of Korea',\n",
    "    'Moldova': 'Republic of Moldova',\n",
    "    'Tanzania': 'United Republic of Tanzania',\n",
    "    'United States': 'United States of America',\n",
    "    \"Iran, Islamic Rep.\": 'Iran (Islamic Republic of)',\n",
    "    'Micronesia, Fed. Sts.': 'Micronesia (Federated States of)',\n",
    "    \"Lao PDR\": \"Lao People's Democratic Republic\",\n",
    "    'Gambia, The': 'Gambia',\n",
    "    \"Egypt, Arab Rep.\": \"Egypt\",\n",
    "    \"Kyrgyz Republic\": 'Kyrgyzstan'\n",
    "})"
   ]
  },
  {
   "cell_type": "code",
   "execution_count": 12,
   "id": "325fe5e0",
   "metadata": {},
   "outputs": [
    {
     "data": {
      "text/plain": [
       "set()"
      ]
     },
     "execution_count": 12,
     "metadata": {},
     "output_type": "execute_result"
    }
   ],
   "source": [
    "set(paises).difference(set(pib['Country Name']))"
   ]
  },
  {
   "cell_type": "markdown",
   "id": "e1b79ca2",
   "metadata": {},
   "source": []
  },
  {
   "cell_type": "code",
   "execution_count": 13,
   "id": "0024eefd",
   "metadata": {},
   "outputs": [],
   "source": [
    "pib = pib[pib['Country Name'].isin(paises)].reset_index(drop=True)"
   ]
  },
  {
   "cell_type": "markdown",
   "id": "adde88be",
   "metadata": {},
   "source": []
  },
  {
   "cell_type": "code",
   "execution_count": null,
   "id": "03c49e19",
   "metadata": {},
   "outputs": [],
   "source": []
  }
 ],
 "metadata": {
  "kernelspec": {
   "display_name": "Python 3",
   "language": "python",
   "name": "python3"
  },
  "language_info": {
   "codemirror_mode": {
    "name": "ipython",
    "version": 3
   },
   "file_extension": ".py",
   "mimetype": "text/x-python",
   "name": "python",
   "nbconvert_exporter": "python",
   "pygments_lexer": "ipython3",
   "version": "3.13.5"
  }
 },
 "nbformat": 4,
 "nbformat_minor": 5
}
