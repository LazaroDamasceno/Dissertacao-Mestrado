{
 "cells": [
  {
   "cell_type": "code",
   "execution_count": null,
   "id": "ed2142d6",
   "metadata": {},
   "outputs": [],
   "source": [
    "import geopandas\n",
    "import pandas as pd\n",
    "import requests\n",
    "import matplotlib.pyplot as plt"
   ]
  },
  {
   "cell_type": "markdown",
   "id": "1477a652",
   "metadata": {},
   "source": []
  },
  {
   "cell_type": "code",
   "execution_count": null,
   "id": "0e7adb3e",
   "metadata": {},
   "outputs": [],
   "source": [
    "request = requests.get('https://r2.datahub.io/clvyjaryy0000la0cxieg4o8o/main/raw/data/countries.geojson')"
   ]
  },
  {
   "cell_type": "code",
   "execution_count": null,
   "id": "7e190fef",
   "metadata": {},
   "outputs": [],
   "source": [
    "gdf = geopandas.read_file(request.content)"
   ]
  },
  {
   "cell_type": "code",
   "execution_count": null,
   "id": "fc3cea60",
   "metadata": {},
   "outputs": [],
   "source": [
    "gdf['name'] = gdf['name'].replace({'eSwatini': 'Eswatini'})"
   ]
  },
  {
   "cell_type": "markdown",
   "id": "09f9909e",
   "metadata": {},
   "source": []
  },
  {
   "cell_type": "code",
   "execution_count": null,
   "id": "8370a4ad",
   "metadata": {},
   "outputs": [],
   "source": [
    "pib = pd.read_csv('pib_percapita_ppc.csv')"
   ]
  },
  {
   "cell_type": "code",
   "execution_count": null,
   "id": "37a0d6e8",
   "metadata": {},
   "outputs": [],
   "source": [
    "pib = pib.sort_values(by='Country Name', ascending=True).reset_index(drop=True)"
   ]
  },
  {
   "cell_type": "code",
   "execution_count": null,
   "id": "09ed4345",
   "metadata": {},
   "outputs": [],
   "source": [
    "pib = pib.iloc[:, [0, 68]]"
   ]
  },
  {
   "cell_type": "markdown",
   "id": "65663767",
   "metadata": {},
   "source": []
  },
  {
   "cell_type": "code",
   "execution_count": null,
   "id": "87350131",
   "metadata": {},
   "outputs": [],
   "source": [
    "egov = pd.read_csv('EGOV_DATA_2024.csv')"
   ]
  },
  {
   "cell_type": "code",
   "execution_count": null,
   "id": "72dfd766",
   "metadata": {},
   "outputs": [],
   "source": [
    "paises = egov['Country Name'].unique()"
   ]
  },
  {
   "cell_type": "markdown",
   "id": "1ed967e0",
   "metadata": {},
   "source": []
  },
  {
   "cell_type": "code",
   "execution_count": null,
   "id": "12a720f2",
   "metadata": {},
   "outputs": [],
   "source": [
    "pib =  pib[pib['Country Name'].isin(paises)].reset_index(drop=True)"
   ]
  },
  {
   "cell_type": "code",
   "execution_count": null,
   "id": "6a5351dc",
   "metadata": {},
   "outputs": [],
   "source": [
    "pib['Country Name'].value_counts().sum()"
   ]
  },
  {
   "cell_type": "markdown",
   "id": "4a1a0217",
   "metadata": {},
   "source": []
  },
  {
   "cell_type": "code",
   "execution_count": null,
   "id": "8ac912cf",
   "metadata": {},
   "outputs": [],
   "source": [
    "gdf =  gdf[gdf['name'].isin(paises)].reset_index(drop=True)"
   ]
  },
  {
   "cell_type": "code",
   "execution_count": null,
   "id": "56ff1ebe",
   "metadata": {},
   "outputs": [],
   "source": [
    "gdf['name'].value_counts().sum()"
   ]
  },
  {
   "cell_type": "markdown",
   "id": "176c3d0f",
   "metadata": {},
   "source": []
  }
 ],
 "metadata": {
  "kernelspec": {
   "display_name": "Python 3",
   "language": "python",
   "name": "python3"
  },
  "language_info": {
   "codemirror_mode": {
    "name": "ipython",
    "version": 3
   },
   "file_extension": ".py",
   "mimetype": "text/x-python",
   "name": "python",
   "nbconvert_exporter": "python",
   "pygments_lexer": "ipython3",
   "version": "3.13.5"
  }
 },
 "nbformat": 4,
 "nbformat_minor": 5
}
