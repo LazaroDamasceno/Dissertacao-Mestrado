{
 "cells": [
  {
   "cell_type": "code",
   "execution_count": 16,
   "id": "3508604a",
   "metadata": {},
   "outputs": [],
   "source": [
    "import pandas as pd\n",
    "import matplotlib.pyplot as plt\n",
    "import seaborn as sns\n",
    "import itertools"
   ]
  },
  {
   "cell_type": "markdown",
   "id": "e873c0bb",
   "metadata": {},
   "source": [
    "PIB PER CAPITA"
   ]
  },
  {
   "cell_type": "code",
   "execution_count": 17,
   "id": "e80ed3e0",
   "metadata": {},
   "outputs": [],
   "source": [
    "df_pib = pd.read_excel('wb_pib_per_capita_paises.xls')"
   ]
  },
  {
   "cell_type": "code",
   "execution_count": 18,
   "id": "db12e332",
   "metadata": {},
   "outputs": [],
   "source": [
    "df_pib = df_pib.rename(columns={\n",
    "    'Country Name': 'País'\n",
    "})"
   ]
  },
  {
   "cell_type": "code",
   "execution_count": 19,
   "id": "af433721",
   "metadata": {},
   "outputs": [],
   "source": [
    "anos = [str(i) for i in itertools.chain(range(2003, 2006), range(2008, 2025, 2))]\n",
    "df_pib = df_pib.melt(\n",
    "    id_vars='País',\n",
    "    value_vars=anos,\n",
    "    var_name='Ano',\n",
    "    value_name='PIB',\n",
    ")"
   ]
  },
  {
   "cell_type": "code",
   "execution_count": 20,
   "id": "bd817d97",
   "metadata": {},
   "outputs": [],
   "source": [
    "df_pib['Ano'] = df_pib['Ano'].astype(int)"
   ]
  },
  {
   "cell_type": "code",
   "execution_count": 21,
   "id": "69721018",
   "metadata": {},
   "outputs": [],
   "source": [
    "paises = [\n",
    "    \"Afghanistan\", \"Albania\", \"Algeria\", \"Andorra\", \"Angola\", \"Antigua and Barbuda\",\n",
    "    \"Argentina\", \"Armenia\", \"Australia\", \"Austria\", \"Azerbaijan\", \"Bahamas\",\n",
    "    \"Bahrain\", \"Bangladesh\", \"Barbados\", \"Belarus\", \"Belgium\", \"Belize\", \"Benin\",\n",
    "    \"Bhutan\", \"Bolivia\", \"Bosnia and Herzegovina\", \"Botswana\", \"Brazil\", \"Brunei Darussalam\",\n",
    "    \"Bulgaria\", \"Burkina Faso\", \"Burundi\", \"Cabo Verde\", \"Cambodia\", \"Cameroon\",\n",
    "    \"Canada\", \"Central African Republic\", \"Chad\", \"Chile\", \"China\", \"Colombia\",\n",
    "    \"Comoros\", \"Congo (Republic of the)\", \"Costa Rica\", \"Côte d'Ivoire\", \"Croatia\", \"Cuba\",\n",
    "    \"Cyprus\", \"Czechia\", \"Democratic People's Republic of Korea\", \"Democratic Republic of the Congo\",\n",
    "    \"Denmark\", \"Djibouti\", \"Dominica\", \"Dominican Republic\", \"Ecuador\", \"Egypt\",\n",
    "    \"El Salvador\", \"Equatorial Guinea\", \"Eritrea\", \"Estonia\", \"Eswatini\", \"Ethiopia\",\n",
    "    \"Fiji\", \"Finland\", \"France\", \"Gabon\", \"Gambia\", \"Georgia\", \"Germany\", \"Ghana\",\n",
    "    \"Greece\", \"Grenada\", \"Guatemala\", \"Guinea\", \"Guinea-Bissau\", \"Guyana\", \"Haiti\",\n",
    "    \"Honduras\", \"Hungary\", \"Iceland\", \"India\", \"Indonesia\", \"Iran\", \"Iraq\", \"Ireland\",\n",
    "    \"Israel\", \"Italy\", \"Jamaica\", \"Japan\", \"Jordan\", \"Kazakhstan\", \"Kenya\", \"Kiribati\",\n",
    "    \"Kuwait\", \"Kyrgyzstan\", \"Lao People's Democratic Republic\", \"Latvia\", \"Lebanon\",\n",
    "    \"Lesotho\", \"Liberia\", \"Libya\", \"Liechtenstein\", \"Lithuania\", \"Luxembourg\",\n",
    "    \"Madagascar\", \"Malawi\", \"Malaysia\", \"Maldives\", \"Mali\", \"Malta\", \"Marshall Islands\",\n",
    "    \"Mauritania\", \"Mauritius\", \"Mexico\", \"Micronesia (Federated States of)\", \"Monaco\",\n",
    "    \"Mongolia\", \"Montenegro\", \"Morocco\", \"Mozambique\", \"Myanmar\", \"Namibia\", \"Nauru\",\n",
    "    \"Nepal\", \"Netherlands\", \"New Zealand\", \"Nicaragua\", \"Niger\", \"Nigeria\", \"North Macedonia\",\n",
    "    \"Norway\", \"Oman\", \"Pakistan\", \"Palau\", \"Panama\", \"Papua New Guinea\", \"Paraguay\",\n",
    "    \"Peru\", \"Philippines\", \"Poland\", \"Portugal\", \"Qatar\", \"Republic of Korea\",\n",
    "    \"Republic of Moldova\", \"Romania\", \"Russian Federation\", \"Rwanda\", \"Saint Kitts and Nevis\",\n",
    "    \"Saint Lucia\", \"Saint Vincent and the Grenadines\", \"Samoa\", \"San Marino\",\n",
    "    \"Sao Tome and Principe\", \"Saudi Arabia\", \"Senegal\", \"Serbia\", \"Seychelles\",\n",
    "    \"Sierra Leone\", \"Singapore\", \"Slovakia\", \"Slovenia\", \"Solomon Islands\", \"Somalia\",\n",
    "    \"South Africa\", \"South Sudan\", \"Spain\", \"Sri Lanka\", \"Sudan\", \"Suriname\", \"Sweden\",\n",
    "    \"Switzerland\", \"Syrian Arab Republic\", \"Tajikistan\", \"Tanzania\", \"Thailand\",\n",
    "    \"Timor-Leste\", \"Togo\", \"Tonga\", \"Trinidad and Tobago\", \"Tunisia\", \"Turkey\",\n",
    "    \"Turkmenistan\", \"Tuvalu\", \"Uganda\", \"Ukraine\", \"United Arab Emirates\",\n",
    "    \"United Kingdom\", \"United States\", \"Uruguay\", \"Uzbekistan\", \"Vanuatu\",\n",
    "    \"Venezuela (Bolivarian Republic of)\", \"Viet Nam\", \"Yemen\", \"Zambia\", \"Zimbabwe\"\n",
    "]"
   ]
  },
  {
   "cell_type": "code",
   "execution_count": 22,
   "id": "da284d95",
   "metadata": {},
   "outputs": [],
   "source": [
    "df_pib = df_pib[df_pib['País'].isin(paises)].reset_index(drop=True)"
   ]
  },
  {
   "cell_type": "markdown",
   "id": "8ea7a3e1",
   "metadata": {},
   "source": [
    "ÍNDICE DE DEMOCRACIA ELEITORAL"
   ]
  },
  {
   "cell_type": "code",
   "execution_count": 23,
   "id": "95dc4f42",
   "metadata": {},
   "outputs": [],
   "source": [
    "df_indice_demo = pd.read_csv('electoral-democracy-index.csv')"
   ]
  },
  {
   "cell_type": "code",
   "execution_count": 24,
   "id": "a75314bf",
   "metadata": {},
   "outputs": [],
   "source": [
    "df_indice_demo = df_indice_demo.rename(columns={\n",
    "    'Entity': 'País',\n",
    "    'Year': 'Ano',\n",
    "    'Electoral democracy index (central estimate)': 'Índice de Democracia'\n",
    "})"
   ]
  },
  {
   "cell_type": "code",
   "execution_count": 25,
   "id": "affceff5",
   "metadata": {},
   "outputs": [],
   "source": [
    "df_indice_demo = df_indice_demo.drop(columns={\n",
    "    'Code'\n",
    "})"
   ]
  },
  {
   "cell_type": "code",
   "execution_count": 26,
   "id": "73e021f1",
   "metadata": {},
   "outputs": [],
   "source": [
    "anos = itertools.chain(range(2003, 2006), range(2008, 2025, 2))\n",
    "df_indice_demo = df_indice_demo[df_indice_demo['Ano'].isin(anos)].reset_index(drop=True)"
   ]
  },
  {
   "cell_type": "markdown",
   "id": "40678971",
   "metadata": {},
   "source": [
    "MERGE"
   ]
  },
  {
   "cell_type": "code",
   "execution_count": 27,
   "id": "5f0bc224",
   "metadata": {},
   "outputs": [],
   "source": [
    "df = pd.merge(df_indice_demo, df_pib)"
   ]
  },
  {
   "cell_type": "code",
   "execution_count": 28,
   "id": "c2226e6f",
   "metadata": {},
   "outputs": [],
   "source": [
    "df = df.iloc[:, [2,3]]"
   ]
  },
  {
   "cell_type": "markdown",
   "id": "22df80c2",
   "metadata": {},
   "source": [
    "CORRELAÇÃO"
   ]
  },
  {
   "cell_type": "code",
   "execution_count": 29,
   "id": "9ec9a65b",
   "metadata": {},
   "outputs": [],
   "source": [
    "corr = df.corr(method='pearson')"
   ]
  },
  {
   "cell_type": "code",
   "execution_count": 30,
   "id": "b45a082e",
   "metadata": {},
   "outputs": [
    {
     "data": {
      "image/png": "[encoded data removed]",
      "text/plain": [
       "<Figure size 1000x600 with 2 Axes>"
      ]
     },
     "metadata": {},
     "output_type": "display_data"
    }
   ],
   "source": [
    "fig, ax = plt.subplots(figsize=(10, 6))\n",
    "\n",
    "sns.heatmap(corr, annot=True)\n",
    "\n",
    "fig.savefig('C:/Users/lazar/Master-Dissertation/figuras/egdi/correlacao4.png')\n",
    "plt.tight_layout()\n",
    "plt.show()"
   ]
  }
 ],
 "metadata": {
  "kernelspec": {
   "display_name": "Python 3",
   "language": "python",
   "name": "python3"
  },
  "language_info": {
   "codemirror_mode": {
    "name": "ipython",
    "version": 3
   },
   "file_extension": ".py",
   "mimetype": "text/x-python",
   "name": "python",
   "nbconvert_exporter": "python",
   "pygments_lexer": "ipython3",
   "version": "3.13.5"
  }
 },
 "nbformat": 4,
 "nbformat_minor": 5
}
