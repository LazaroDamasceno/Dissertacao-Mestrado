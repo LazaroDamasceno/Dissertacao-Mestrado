{
 "cells": [
  {
   "cell_type": "code",
   "execution_count": 148,
   "id": "46f9cc1d",
   "metadata": {},
   "outputs": [],
   "source": [
    "import pandas as pd\n",
    "import matplotlib.pyplot as plt\n",
    "import seaborn as sns"
   ]
  },
  {
   "cell_type": "markdown",
   "id": "16e1aeac",
   "metadata": {},
   "source": [
    "# INTERNET USE"
   ]
  },
  {
   "cell_type": "code",
   "execution_count": 149,
   "id": "79ee8fd6",
   "metadata": {},
   "outputs": [],
   "source": [
    "df_internet = pd.read_csv('brazil_internent_use.csv')"
   ]
  },
  {
   "cell_type": "markdown",
   "id": "6cd3af53",
   "metadata": {},
   "source": [
    "# BRASIL'S SIZE"
   ]
  },
  {
   "cell_type": "code",
   "execution_count": 150,
   "id": "2708601d",
   "metadata": {},
   "outputs": [],
   "source": [
    "df_size = pd.read_csv('countries_size.csv')"
   ]
  },
  {
   "cell_type": "code",
   "execution_count": 151,
   "id": "c4bea465",
   "metadata": {},
   "outputs": [
    {
     "name": "stdout",
     "output_type": "stream",
     "text": [
      "<class 'pandas.core.frame.DataFrame'>\n",
      "RangeIndex: 24 entries, 0 to 23\n",
      "Data columns (total 15 columns):\n",
      " #   Column            Non-Null Count  Dtype  \n",
      "---  ------            --------------  -----  \n",
      " 0   Domain Code       24 non-null     object \n",
      " 1   Domain            24 non-null     object \n",
      " 2   Area Code (M49)   24 non-null     int64  \n",
      " 3   Area              24 non-null     object \n",
      " 4   Element Code      24 non-null     int64  \n",
      " 5   Element           24 non-null     object \n",
      " 6   Item Code         24 non-null     int64  \n",
      " 7   Item              24 non-null     object \n",
      " 8   Year Code         24 non-null     int64  \n",
      " 9   Year              24 non-null     int64  \n",
      " 10  Unit              24 non-null     object \n",
      " 11  Value             24 non-null     int64  \n",
      " 12  Flag              24 non-null     object \n",
      " 13  Flag Description  24 non-null     object \n",
      " 14  Note              0 non-null      float64\n",
      "dtypes: float64(1), int64(6), object(8)\n",
      "memory usage: 2.9+ KB\n"
     ]
    }
   ],
   "source": [
    "df_size.info()"
   ]
  },
  {
   "cell_type": "code",
   "execution_count": 152,
   "id": "db32855a",
   "metadata": {},
   "outputs": [],
   "source": [
    "df_size = df_size.drop(columns=[\n",
    "    'Domain Code',\n",
    "    'Domain',\n",
    "    'Area Code (M49)',\n",
    "    'Area',\n",
    "    'Element Code',\n",
    "    'Element',\n",
    "    'Item Code',\n",
    "    'Item',\n",
    "    'Year Code',\n",
    "    'Flag',\n",
    "    'Flag Description',\n",
    "    'Note'\n",
    "])"
   ]
  },
  {
   "cell_type": "code",
   "execution_count": 153,
   "id": "6d30e1dc",
   "metadata": {},
   "outputs": [
    {
     "data": {
      "application/vnd.microsoft.datawrangler.viewer.v0+json": {
       "columns": [
        {
         "name": "index",
         "rawType": "int64",
         "type": "integer"
        },
        {
         "name": "Year",
         "rawType": "int64",
         "type": "integer"
        },
        {
         "name": "Unit",
         "rawType": "object",
         "type": "string"
        },
        {
         "name": "Value",
         "rawType": "int64",
         "type": "integer"
        }
       ],
       "ref": "1ce38090-ef0f-411a-9185-489c8f45ed87",
       "rows": [
        [
         "0",
         "2000",
         "1000 ha",
         "851577"
        ],
        [
         "1",
         "2001",
         "1000 ha",
         "851577"
        ],
        [
         "2",
         "2002",
         "1000 ha",
         "851577"
        ],
        [
         "3",
         "2003",
         "1000 ha",
         "851577"
        ],
        [
         "4",
         "2004",
         "1000 ha",
         "851577"
        ],
        [
         "5",
         "2005",
         "1000 ha",
         "851577"
        ],
        [
         "6",
         "2006",
         "1000 ha",
         "851577"
        ],
        [
         "7",
         "2007",
         "1000 ha",
         "851577"
        ],
        [
         "8",
         "2008",
         "1000 ha",
         "851577"
        ],
        [
         "9",
         "2009",
         "1000 ha",
         "851577"
        ],
        [
         "10",
         "2010",
         "1000 ha",
         "851577"
        ],
        [
         "11",
         "2011",
         "1000 ha",
         "851577"
        ],
        [
         "12",
         "2012",
         "1000 ha",
         "851577"
        ],
        [
         "13",
         "2013",
         "1000 ha",
         "851577"
        ],
        [
         "14",
         "2014",
         "1000 ha",
         "851577"
        ],
        [
         "15",
         "2015",
         "1000 ha",
         "851577"
        ],
        [
         "16",
         "2016",
         "1000 ha",
         "851577"
        ],
        [
         "17",
         "2017",
         "1000 ha",
         "851577"
        ],
        [
         "18",
         "2018",
         "1000 ha",
         "851577"
        ],
        [
         "19",
         "2019",
         "1000 ha",
         "851577"
        ],
        [
         "20",
         "2020",
         "1000 ha",
         "851577"
        ],
        [
         "21",
         "2021",
         "1000 ha",
         "851577"
        ],
        [
         "22",
         "2022",
         "1000 ha",
         "851042"
        ],
        [
         "23",
         "2023",
         "1000 ha",
         "851042"
        ]
       ],
       "shape": {
        "columns": 3,
        "rows": 24
       }
      },
      "text/html": [
       "<div>\n",
       "<style scoped>\n",
       "    .dataframe tbody tr th:only-of-type {\n",
       "        vertical-align: middle;\n",
       "    }\n",
       "\n",
       "    .dataframe tbody tr th {\n",
       "        vertical-align: top;\n",
       "    }\n",
       "\n",
       "    .dataframe thead th {\n",
       "        text-align: right;\n",
       "    }\n",
       "</style>\n",
       "<table border=\"1\" class=\"dataframe\">\n",
       "  <thead>\n",
       "    <tr style=\"text-align: right;\">\n",
       "      <th></th>\n",
       "      <th>Year</th>\n",
       "      <th>Unit</th>\n",
       "      <th>Value</th>\n",
       "    </tr>\n",
       "  </thead>\n",
       "  <tbody>\n",
       "    <tr>\n",
       "      <th>0</th>\n",
       "      <td>2000</td>\n",
       "      <td>1000 ha</td>\n",
       "      <td>851577</td>\n",
       "    </tr>\n",
       "    <tr>\n",
       "      <th>1</th>\n",
       "      <td>2001</td>\n",
       "      <td>1000 ha</td>\n",
       "      <td>851577</td>\n",
       "    </tr>\n",
       "    <tr>\n",
       "      <th>2</th>\n",
       "      <td>2002</td>\n",
       "      <td>1000 ha</td>\n",
       "      <td>851577</td>\n",
       "    </tr>\n",
       "    <tr>\n",
       "      <th>3</th>\n",
       "      <td>2003</td>\n",
       "      <td>1000 ha</td>\n",
       "      <td>851577</td>\n",
       "    </tr>\n",
       "    <tr>\n",
       "      <th>4</th>\n",
       "      <td>2004</td>\n",
       "      <td>1000 ha</td>\n",
       "      <td>851577</td>\n",
       "    </tr>\n",
       "    <tr>\n",
       "      <th>5</th>\n",
       "      <td>2005</td>\n",
       "      <td>1000 ha</td>\n",
       "      <td>851577</td>\n",
       "    </tr>\n",
       "    <tr>\n",
       "      <th>6</th>\n",
       "      <td>2006</td>\n",
       "      <td>1000 ha</td>\n",
       "      <td>851577</td>\n",
       "    </tr>\n",
       "    <tr>\n",
       "      <th>7</th>\n",
       "      <td>2007</td>\n",
       "      <td>1000 ha</td>\n",
       "      <td>851577</td>\n",
       "    </tr>\n",
       "    <tr>\n",
       "      <th>8</th>\n",
       "      <td>2008</td>\n",
       "      <td>1000 ha</td>\n",
       "      <td>851577</td>\n",
       "    </tr>\n",
       "    <tr>\n",
       "      <th>9</th>\n",
       "      <td>2009</td>\n",
       "      <td>1000 ha</td>\n",
       "      <td>851577</td>\n",
       "    </tr>\n",
       "    <tr>\n",
       "      <th>10</th>\n",
       "      <td>2010</td>\n",
       "      <td>1000 ha</td>\n",
       "      <td>851577</td>\n",
       "    </tr>\n",
       "    <tr>\n",
       "      <th>11</th>\n",
       "      <td>2011</td>\n",
       "      <td>1000 ha</td>\n",
       "      <td>851577</td>\n",
       "    </tr>\n",
       "    <tr>\n",
       "      <th>12</th>\n",
       "      <td>2012</td>\n",
       "      <td>1000 ha</td>\n",
       "      <td>851577</td>\n",
       "    </tr>\n",
       "    <tr>\n",
       "      <th>13</th>\n",
       "      <td>2013</td>\n",
       "      <td>1000 ha</td>\n",
       "      <td>851577</td>\n",
       "    </tr>\n",
       "    <tr>\n",
       "      <th>14</th>\n",
       "      <td>2014</td>\n",
       "      <td>1000 ha</td>\n",
       "      <td>851577</td>\n",
       "    </tr>\n",
       "    <tr>\n",
       "      <th>15</th>\n",
       "      <td>2015</td>\n",
       "      <td>1000 ha</td>\n",
       "      <td>851577</td>\n",
       "    </tr>\n",
       "    <tr>\n",
       "      <th>16</th>\n",
       "      <td>2016</td>\n",
       "      <td>1000 ha</td>\n",
       "      <td>851577</td>\n",
       "    </tr>\n",
       "    <tr>\n",
       "      <th>17</th>\n",
       "      <td>2017</td>\n",
       "      <td>1000 ha</td>\n",
       "      <td>851577</td>\n",
       "    </tr>\n",
       "    <tr>\n",
       "      <th>18</th>\n",
       "      <td>2018</td>\n",
       "      <td>1000 ha</td>\n",
       "      <td>851577</td>\n",
       "    </tr>\n",
       "    <tr>\n",
       "      <th>19</th>\n",
       "      <td>2019</td>\n",
       "      <td>1000 ha</td>\n",
       "      <td>851577</td>\n",
       "    </tr>\n",
       "    <tr>\n",
       "      <th>20</th>\n",
       "      <td>2020</td>\n",
       "      <td>1000 ha</td>\n",
       "      <td>851577</td>\n",
       "    </tr>\n",
       "    <tr>\n",
       "      <th>21</th>\n",
       "      <td>2021</td>\n",
       "      <td>1000 ha</td>\n",
       "      <td>851577</td>\n",
       "    </tr>\n",
       "    <tr>\n",
       "      <th>22</th>\n",
       "      <td>2022</td>\n",
       "      <td>1000 ha</td>\n",
       "      <td>851042</td>\n",
       "    </tr>\n",
       "    <tr>\n",
       "      <th>23</th>\n",
       "      <td>2023</td>\n",
       "      <td>1000 ha</td>\n",
       "      <td>851042</td>\n",
       "    </tr>\n",
       "  </tbody>\n",
       "</table>\n",
       "</div>"
      ],
      "text/plain": [
       "    Year     Unit   Value\n",
       "0   2000  1000 ha  851577\n",
       "1   2001  1000 ha  851577\n",
       "2   2002  1000 ha  851577\n",
       "3   2003  1000 ha  851577\n",
       "4   2004  1000 ha  851577\n",
       "5   2005  1000 ha  851577\n",
       "6   2006  1000 ha  851577\n",
       "7   2007  1000 ha  851577\n",
       "8   2008  1000 ha  851577\n",
       "9   2009  1000 ha  851577\n",
       "10  2010  1000 ha  851577\n",
       "11  2011  1000 ha  851577\n",
       "12  2012  1000 ha  851577\n",
       "13  2013  1000 ha  851577\n",
       "14  2014  1000 ha  851577\n",
       "15  2015  1000 ha  851577\n",
       "16  2016  1000 ha  851577\n",
       "17  2017  1000 ha  851577\n",
       "18  2018  1000 ha  851577\n",
       "19  2019  1000 ha  851577\n",
       "20  2020  1000 ha  851577\n",
       "21  2021  1000 ha  851577\n",
       "22  2022  1000 ha  851042\n",
       "23  2023  1000 ha  851042"
      ]
     },
     "execution_count": 153,
     "metadata": {},
     "output_type": "execute_result"
    }
   ],
   "source": [
    "df_size"
   ]
  },
  {
   "cell_type": "markdown",
   "id": "0137aa0e",
   "metadata": {},
   "source": [
    "# BRAZIL POPULATION"
   ]
  },
  {
   "cell_type": "code",
   "execution_count": 154,
   "id": "2533eca5",
   "metadata": {},
   "outputs": [],
   "source": [
    "df_br_population = pd.read_csv('brazilian_population.csv')"
   ]
  },
  {
   "cell_type": "markdown",
   "id": "056cc46c",
   "metadata": {},
   "source": [
    "# JOIN"
   ]
  },
  {
   "cell_type": "code",
   "execution_count": 155,
   "id": "d74dffe0",
   "metadata": {},
   "outputs": [],
   "source": [
    "df = pd.DataFrame()"
   ]
  },
  {
   "cell_type": "code",
   "execution_count": 156,
   "id": "d862255d",
   "metadata": {},
   "outputs": [],
   "source": [
    "df['Uso de Internet'] = df_internet['Percentage Use']\n",
    "df['População Totoal'] = df_br_population['Brazilian Population']\n",
    "df['Extensão Territorial'] = df_size['Value']"
   ]
  },
  {
   "cell_type": "code",
   "execution_count": 157,
   "id": "f9de72f8",
   "metadata": {},
   "outputs": [
    {
     "data": {
      "image/png": "[encoded data removed]",
      "text/plain": [
       "<Figure size 1000x600 with 2 Axes>"
      ]
     },
     "metadata": {},
     "output_type": "display_data"
    }
   ],
   "source": [
    "plt.figure(figsize=(10, 6))\n",
    "\n",
    "sns.heatmap(df.corr(method='pearson'), annot=True)\n",
    "\n",
    "#plt.suptitle('Coeficiente de correlação de Pearson: uso de internet, população total e extensão territorial', fontweight='bold')\n",
    "plt.tight_layout()\n",
    "plt.show()"
   ]
  }
 ],
 "metadata": {
  "kernelspec": {
   "display_name": "Python 3",
   "language": "python",
   "name": "python3"
  },
  "language_info": {
   "codemirror_mode": {
    "name": "ipython",
    "version": 3
   },
   "file_extension": ".py",
   "mimetype": "text/x-python",
   "name": "python",
   "nbconvert_exporter": "python",
   "pygments_lexer": "ipython3",
   "version": "3.13.5"
  }
 },
 "nbformat": 4,
 "nbformat_minor": 5
}
