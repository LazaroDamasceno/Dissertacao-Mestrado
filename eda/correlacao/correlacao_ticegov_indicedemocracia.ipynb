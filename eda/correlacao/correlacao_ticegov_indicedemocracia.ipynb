{
 "cells": [
  {
   "cell_type": "code",
   "execution_count": 1,
   "id": "df213e0f",
   "metadata": {},
   "outputs": [],
   "source": [
    "import pandas as pd\n",
    "import matplotlib.pyplot as plt\n",
    "import seaborn as sns"
   ]
  },
  {
   "cell_type": "markdown",
   "id": "b62ad8a2",
   "metadata": {},
   "source": [
    "PÁISES"
   ]
  },
  {
   "cell_type": "code",
   "execution_count": 2,
   "id": "82fffde3",
   "metadata": {},
   "outputs": [],
   "source": [
    "paises = pd.read_csv('EGOV_DATA_2024.csv')['Country Name'].sort_values(ascending=True).tolist()"
   ]
  },
  {
   "cell_type": "markdown",
   "id": "0d638c2c",
   "metadata": {},
   "source": [
    "TIC"
   ]
  },
  {
   "cell_type": "code",
   "execution_count": 3,
   "id": "b91ed1c7",
   "metadata": {},
   "outputs": [],
   "source": [
    "tic = pd.read_excel('ict_in_government.xlsx')"
   ]
  },
  {
   "cell_type": "code",
   "execution_count": 4,
   "id": "b9eb51db",
   "metadata": {},
   "outputs": [],
   "source": [
    "tic = tic[tic['Year'] == 2024]"
   ]
  },
  {
   "cell_type": "code",
   "execution_count": 5,
   "id": "20830800",
   "metadata": {},
   "outputs": [],
   "source": [
    "tic['Soma das Respostas Positivas'] = tic['Indicator_1'] +tic['Indicator_2'] + tic['Indicator_3'] "
   ]
  },
  {
   "cell_type": "code",
   "execution_count": 6,
   "id": "4c6b0719",
   "metadata": {},
   "outputs": [],
   "source": [
    "tic = tic[tic['Country'].isin(paises)]"
   ]
  },
  {
   "cell_type": "code",
   "execution_count": 7,
   "id": "f70f92ff",
   "metadata": {},
   "outputs": [],
   "source": [
    "tic['Country'] = tic['Country'].sort_values(ascending=True)"
   ]
  },
  {
   "cell_type": "code",
   "execution_count": 8,
   "id": "3bd12030",
   "metadata": {},
   "outputs": [],
   "source": [
    "tic = tic.iloc[:, [0,1,5]].reset_index(drop=True)"
   ]
  },
  {
   "cell_type": "markdown",
   "id": "884aa344",
   "metadata": {},
   "source": [
    "PAÍSES"
   ]
  },
  {
   "cell_type": "code",
   "execution_count": 9,
   "id": "588cbe9f",
   "metadata": {},
   "outputs": [],
   "source": [
    "paises = tic['Country'].unique().tolist()"
   ]
  },
  {
   "cell_type": "markdown",
   "id": "2534ffda",
   "metadata": {},
   "source": [
    "ÍNDICE DE DEMOCRACIA ELEITORAL"
   ]
  },
  {
   "cell_type": "code",
   "execution_count": 10,
   "id": "f8a6399c",
   "metadata": {},
   "outputs": [],
   "source": [
    "ide = pd.read_csv('updated_electoral_democracy_index.csv')"
   ]
  },
  {
   "cell_type": "code",
   "execution_count": 11,
   "id": "e88000cf",
   "metadata": {},
   "outputs": [],
   "source": [
    "ide = ide[ide['Year'] == 2024]"
   ]
  },
  {
   "cell_type": "code",
   "execution_count": 12,
   "id": "f949914c",
   "metadata": {},
   "outputs": [],
   "source": [
    "ide = ide.iloc[:, [0, 3]]"
   ]
  },
  {
   "cell_type": "code",
   "execution_count": 13,
   "id": "9fb3cc93",
   "metadata": {},
   "outputs": [],
   "source": [
    "ide = ide[ide['Entity'].isin(paises)].reset_index(drop=True)"
   ]
  },
  {
   "cell_type": "code",
   "execution_count": 14,
   "id": "72f7dbbe",
   "metadata": {},
   "outputs": [],
   "source": [
    "paises = ide['Entity'].unique().tolist()"
   ]
  },
  {
   "cell_type": "code",
   "execution_count": 15,
   "id": "f9a22857",
   "metadata": {},
   "outputs": [],
   "source": [
    "tic = tic[tic['Country'].isin(paises)]"
   ]
  },
  {
   "cell_type": "markdown",
   "id": "a8d222fa",
   "metadata": {},
   "source": [
    "CORRELAÇÃO"
   ]
  },
  {
   "cell_type": "code",
   "execution_count": 16,
   "id": "d1026948",
   "metadata": {},
   "outputs": [],
   "source": [
    "dispersao  = pd.DataFrame()\n",
    "dispersao['Soma das Respostas Positivas'] = tic['Soma das Respostas Positivas']\n",
    "dispersao['Electoral democracy index (central estimate)'] = ide['Electoral democracy index (central estimate)']"
   ]
  },
  {
   "cell_type": "code",
   "execution_count": 17,
   "id": "ff654c08",
   "metadata": {},
   "outputs": [],
   "source": [
    "dispersao = dispersao.rename(columns={\n",
    "    'Electoral democracy index (central estimate)': 'Índice de Democracia Eleitoral'\n",
    "})"
   ]
  },
  {
   "cell_type": "code",
   "execution_count": 18,
   "id": "1d51e43e",
   "metadata": {},
   "outputs": [
    {
     "data": {
      "application/vnd.microsoft.datawrangler.viewer.v0+json": {
       "columns": [
        {
         "name": "index",
         "rawType": "object",
         "type": "string"
        },
        {
         "name": "Soma das Respostas Positivas",
         "rawType": "float64",
         "type": "float"
        },
        {
         "name": "Índice de Democracia Eleitoral",
         "rawType": "float64",
         "type": "float"
        }
       ],
       "ref": "4f8904fe-7bca-41a5-adec-d90c63874011",
       "rows": [
        [
         "Soma das Respostas Positivas",
         "1.0",
         "-0.005117682598867928"
        ],
        [
         "Índice de Democracia Eleitoral",
         "-0.005117682598867928",
         "1.0"
        ]
       ],
       "shape": {
        "columns": 2,
        "rows": 2
       }
      },
      "text/html": [
       "<div>\n",
       "<style scoped>\n",
       "    .dataframe tbody tr th:only-of-type {\n",
       "        vertical-align: middle;\n",
       "    }\n",
       "\n",
       "    .dataframe tbody tr th {\n",
       "        vertical-align: top;\n",
       "    }\n",
       "\n",
       "    .dataframe thead th {\n",
       "        text-align: right;\n",
       "    }\n",
       "</style>\n",
       "<table border=\"1\" class=\"dataframe\">\n",
       "  <thead>\n",
       "    <tr style=\"text-align: right;\">\n",
       "      <th></th>\n",
       "      <th>Soma das Respostas Positivas</th>\n",
       "      <th>Índice de Democracia Eleitoral</th>\n",
       "    </tr>\n",
       "  </thead>\n",
       "  <tbody>\n",
       "    <tr>\n",
       "      <th>Soma das Respostas Positivas</th>\n",
       "      <td>1.000000</td>\n",
       "      <td>-0.005118</td>\n",
       "    </tr>\n",
       "    <tr>\n",
       "      <th>Índice de Democracia Eleitoral</th>\n",
       "      <td>-0.005118</td>\n",
       "      <td>1.000000</td>\n",
       "    </tr>\n",
       "  </tbody>\n",
       "</table>\n",
       "</div>"
      ],
      "text/plain": [
       "                                Soma das Respostas Positivas  \\\n",
       "Soma das Respostas Positivas                        1.000000   \n",
       "Índice de Democracia Eleitoral                     -0.005118   \n",
       "\n",
       "                                Índice de Democracia Eleitoral  \n",
       "Soma das Respostas Positivas                         -0.005118  \n",
       "Índice de Democracia Eleitoral                        1.000000  "
      ]
     },
     "execution_count": 18,
     "metadata": {},
     "output_type": "execute_result"
    }
   ],
   "source": [
    "dispersao.corr(method='spearman')"
   ]
  }
 ],
 "metadata": {
  "kernelspec": {
   "display_name": "Python 3",
   "language": "python",
   "name": "python3"
  },
  "language_info": {
   "codemirror_mode": {
    "name": "ipython",
    "version": 3
   },
   "file_extension": ".py",
   "mimetype": "text/x-python",
   "name": "python",
   "nbconvert_exporter": "python",
   "pygments_lexer": "ipython3",
   "version": "3.13.5"
  }
 },
 "nbformat": 4,
 "nbformat_minor": 5
}
