{
 "cells": [
  {
   "cell_type": "code",
   "execution_count": null,
   "id": "171f5c13",
   "metadata": {},
   "outputs": [],
   "source": [
    "import pandas as pd\n",
    "import seaborn as sns\n",
    "import matplotlib.pyplot as plt"
   ]
  },
  {
   "cell_type": "markdown",
   "id": "598501b3",
   "metadata": {},
   "source": [
    "# INTERNET USE"
   ]
  },
  {
   "cell_type": "code",
   "execution_count": null,
   "id": "d1c37b68",
   "metadata": {},
   "outputs": [],
   "source": [
    "df_internet = pd.read_csv('individuals-using-the-internet.csv')"
   ]
  },
  {
   "cell_type": "code",
   "execution_count": null,
   "id": "ee0503ec",
   "metadata": {},
   "outputs": [],
   "source": [
    "df_internet = df_internet.iloc[:, [7,8,9]]"
   ]
  },
  {
   "cell_type": "code",
   "execution_count": null,
   "id": "a827f393",
   "metadata": {},
   "outputs": [],
   "source": [
    "df_internet = df_internet.rename(columns={\n",
    "    'entityName': 'Country',\n",
    "    'dataValue': 'Percentage Use',\n",
    "    'dataYear': 'Year'\n",
    "})"
   ]
  },
  {
   "cell_type": "code",
   "execution_count": null,
   "id": "af5592a0",
   "metadata": {},
   "outputs": [],
   "source": [
    "df_internet = df_internet[df_internet['Country'] == \"Brazil\"].reset_index(drop=True)"
   ]
  },
  {
   "cell_type": "code",
   "execution_count": null,
   "id": "171506e0",
   "metadata": {},
   "outputs": [],
   "source": [
    "years = (2003, 2004, 2005, 2008, 2010, 2012, 2014, 2016, 2018, 2020, 2022, 2024)\n",
    "df_internetuse= df_internet[df_internet['Year'].isin(years)]"
   ]
  },
  {
   "cell_type": "markdown",
   "id": "e94152f8",
   "metadata": {},
   "source": [
    "# UN egdi"
   ]
  },
  {
   "cell_type": "code",
   "execution_count": null,
   "id": "03bb5d6f",
   "metadata": {},
   "outputs": [],
   "source": [
    "df_egdi = pd.read_csv('concated_egdi_brasil.csv')"
   ]
  },
  {
   "cell_type": "code",
   "execution_count": null,
   "id": "c12d1099",
   "metadata": {},
   "outputs": [],
   "source": [
    "df_egdi = df_egdi.drop(columns=['Unnamed: 0'])"
   ]
  },
  {
   "cell_type": "code",
   "execution_count": null,
   "id": "60d2310d",
   "metadata": {},
   "outputs": [],
   "source": [
    "df_egdi.info()"
   ]
  },
  {
   "cell_type": "code",
   "execution_count": null,
   "id": "29810b13",
   "metadata": {},
   "outputs": [],
   "source": [
    "df_egdi['E-Government Index'] = df_egdi['E-Government Index'].apply(lambda x: x * 100.0)"
   ]
  },
  {
   "cell_type": "code",
   "execution_count": null,
   "id": "c934462e",
   "metadata": {},
   "outputs": [],
   "source": [
    "df_egdi['E-Participation Index'] = df_egdi['E-Participation Index'].apply(lambda x: x * 100.0)"
   ]
  },
  {
   "cell_type": "code",
   "execution_count": null,
   "id": "7f9b9ac9",
   "metadata": {},
   "outputs": [],
   "source": [
    "df_egdi['Online Service Index'] = df_egdi['Online Service Index'].apply(lambda x: x * 100.0)"
   ]
  },
  {
   "cell_type": "code",
   "execution_count": null,
   "id": "0e796865",
   "metadata": {},
   "outputs": [],
   "source": [
    "df_egdi['Human Capital Index'] = df_egdi['Human Capital Index'].apply(lambda x: x * 100.0)"
   ]
  },
  {
   "cell_type": "code",
   "execution_count": null,
   "id": "9e35d265",
   "metadata": {},
   "outputs": [],
   "source": [
    "df_egdi['Telecommunication Infrastructure Index'] = df_egdi['Telecommunication Infrastructure Index'].apply(lambda x: x * 100.0)"
   ]
  },
  {
   "cell_type": "markdown",
   "id": "000189ab",
   "metadata": {},
   "source": [
    "# PEARSON CORRELATION COEFFICIENT"
   ]
  },
  {
   "cell_type": "code",
   "execution_count": null,
   "id": "fb94c5d7",
   "metadata": {},
   "outputs": [],
   "source": [
    "df = pd.DataFrame()\n",
    "df['Percentage Use'] = df_internet['Percentage Use']\n",
    "df['E-Government Index'] = df_egdi['E-Government Index']\n",
    "df['E-Participation Index'] = df_egdi['E-Participation Index']\n",
    "df['Human Capital Index'] = df_egdi['Human Capital Index']\n",
    "df['Online Service Index'] = df_egdi['Online Service Index']\n",
    "df['Telecommunication Infrastructure Index'] = df_egdi['Telecommunication Infrastructure Index']"
   ]
  },
  {
   "cell_type": "code",
   "execution_count": null,
   "id": "1d4a19d8",
   "metadata": {},
   "outputs": [],
   "source": [
    "pearson_corr_coefficient = df.corr(method='pearson')"
   ]
  },
  {
   "cell_type": "code",
   "execution_count": null,
   "id": "063a2a49",
   "metadata": {},
   "outputs": [],
   "source": [
    "plt.figure(figsize=(10, 6))\n",
    "\n",
    "sns.heatmap(pearson_corr_coefficient, annot=True)\n",
    "\n",
    "#plt.suptitle('Coeficiente de Correlação de Pearson: uso de Internet e EGDI no Brasil', fontweight='bold')\n",
    "plt.tight_layout()\n",
    "plt.show()"
   ]
  }
 ],
 "metadata": {
  "kernelspec": {
   "display_name": "Python 3",
   "language": "python",
   "name": "python3"
  },
  "language_info": {
   "codemirror_mode": {
    "name": "ipython",
    "version": 3
   },
   "file_extension": ".py",
   "mimetype": "text/x-python",
   "name": "python",
   "nbconvert_exporter": "python",
   "pygments_lexer": "ipython3",
   "version": "3.13.5"
  }
 },
 "nbformat": 4,
 "nbformat_minor": 5
}
