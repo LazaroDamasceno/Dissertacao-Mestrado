{
 "cells": [
  {
   "cell_type": "code",
   "execution_count": null,
   "id": "171f5c13",
   "metadata": {},
   "outputs": [],
   "source": [
    "import pandas as pd\n",
    "import seaborn as sns\n",
    "import matplotlib.pyplot as plt"
   ]
  },
  {
   "cell_type": "code",
   "execution_count": null,
   "id": "38643353",
   "metadata": {},
   "outputs": [],
   "source": [
    "countries = [\n",
    "    \"Afghanistan\", \"Albania\", \"Algeria\", \"Andorra\", \"Angola\", \"Antigua and Barbuda\",\n",
    "    \"Argentina\", \"Armenia\", \"Australia\", \"Austria\", \"Azerbaijan\", \"Bahamas\",\n",
    "    \"Bahrain\", \"Bangladesh\", \"Barbados\", \"Belarus\", \"Belgium\", \"Belize\", \"Benin\",\n",
    "    \"Bhutan\", \"Bolivia\", \"Bosnia and Herzegovina\", \"Botswana\", \"Brazil\", \"Brunei Darussalam\",\n",
    "    \"Bulgaria\", \"Burkina Faso\", \"Burundi\", \"Cabo Verde\", \"Cambodia\", \"Cameroon\",\n",
    "    \"Canada\", \"Central African Republic\", \"Chad\", \"Chile\", \"China\", \"Colombia\",\n",
    "    \"Comoros\", \"Congo (Republic of the)\", \"Costa Rica\", \"Côte d'Ivoire\", \"Croatia\", \"Cuba\",\n",
    "    \"Cyprus\", \"Czechia\", \"Democratic People's Republic of Korea\", \"Democratic Republic of the Congo\",\n",
    "    \"Denmark\", \"Djibouti\", \"Dominica\", \"Dominican Republic\", \"Ecuador\", \"Egypt\",\n",
    "    \"El Salvador\", \"Equatorial Guinea\", \"Eritrea\", \"Estonia\", \"Eswatini\", \"Ethiopia\",\n",
    "    \"Fiji\", \"Finland\", \"France\", \"Gabon\", \"Gambia\", \"Georgia\", \"Germany\", \"Ghana\",\n",
    "    \"Greece\", \"Grenada\", \"Guatemala\", \"Guinea\", \"Guinea-Bissau\", \"Guyana\", \"Haiti\",\n",
    "    \"Honduras\", \"Hungary\", \"Iceland\", \"India\", \"Indonesia\", \"Iran\", \"Iraq\", \"Ireland\",\n",
    "    \"Israel\", \"Italy\", \"Jamaica\", \"Japan\", \"Jordan\", \"Kazakhstan\", \"Kenya\", \"Kiribati\",\n",
    "    \"Kuwait\", \"Kyrgyzstan\", \"Lao People's Democratic Republic\", \"Latvia\", \"Lebanon\",\n",
    "    \"Lesotho\", \"Liberia\", \"Libya\", \"Liechtenstein\", \"Lithuania\", \"Luxembourg\",\n",
    "    \"Madagascar\", \"Malawi\", \"Malaysia\", \"Maldives\", \"Mali\", \"Malta\", \"Marshall Islands\",\n",
    "    \"Mauritania\", \"Mauritius\", \"Mexico\", \"Micronesia (Federated States of)\", \"Monaco\",\n",
    "    \"Mongolia\", \"Montenegro\", \"Morocco\", \"Mozambique\", \"Myanmar\", \"Namibia\", \"Nauru\",\n",
    "    \"Nepal\", \"Netherlands\", \"New Zealand\", \"Nicaragua\", \"Niger\", \"Nigeria\", \"North Macedonia\",\n",
    "    \"Norway\", \"Oman\", \"Pakistan\", \"Palau\", \"Panama\", \"Papua New Guinea\", \"Paraguay\",\n",
    "    \"Peru\", \"Philippines\", \"Poland\", \"Portugal\", \"Qatar\", \"Republic of Korea\",\n",
    "    \"Republic of Moldova\", \"Romania\", \"Russian Federation\", \"Rwanda\", \"Saint Kitts and Nevis\",\n",
    "    \"Saint Lucia\", \"Saint Vincent and the Grenadines\", \"Samoa\", \"San Marino\",\n",
    "    \"Sao Tome and Principe\", \"Saudi Arabia\", \"Senegal\", \"Serbia\", \"Seychelles\",\n",
    "    \"Sierra Leone\", \"Singapore\", \"Slovakia\", \"Slovenia\", \"Solomon Islands\", \"Somalia\",\n",
    "    \"South Africa\", \"South Sudan\", \"Spain\", \"Sri Lanka\", \"Sudan\", \"Suriname\", \"Sweden\",\n",
    "    \"Switzerland\", \"Syrian Arab Republic\", \"Tajikistan\", \"Tanzania\", \"Thailand\",\n",
    "    \"Timor-Leste\", \"Togo\", \"Tonga\", \"Trinidad and Tobago\", \"Tunisia\", \"Turkey\",\n",
    "    \"Turkmenistan\", \"Tuvalu\", \"Uganda\", \"Ukraine\", \"United Arab Emirates\",\n",
    "    \"United Kingdom\", \"United States\", \"Uruguay\", \"Uzbekistan\", \"Vanuatu\",\n",
    "    \"Venezuela (Bolivarian Republic of)\", \"Viet Nam\", \"Yemen\", \"Zambia\", \"Zimbabwe\"\n",
    "]"
   ]
  },
  {
   "cell_type": "markdown",
   "id": "598501b3",
   "metadata": {},
   "source": [
    "# INTERNET USE"
   ]
  },
  {
   "cell_type": "code",
   "execution_count": null,
   "id": "d1c37b68",
   "metadata": {},
   "outputs": [],
   "source": [
    "df_internet = pd.read_csv('individuals-using-the-internet.csv')"
   ]
  },
  {
   "cell_type": "code",
   "execution_count": null,
   "id": "ee0503ec",
   "metadata": {},
   "outputs": [],
   "source": [
    "df_internet = df_internet.iloc[:, [7,8,9]]"
   ]
  },
  {
   "cell_type": "code",
   "execution_count": null,
   "id": "a827f393",
   "metadata": {},
   "outputs": [],
   "source": [
    "df_internet = df_internet.rename(columns={\n",
    "    'entityName': 'Country',\n",
    "    'dataValue': 'Percentage Use',\n",
    "    'dataYear': 'Year'\n",
    "})"
   ]
  },
  {
   "cell_type": "code",
   "execution_count": null,
   "id": "af5592a0",
   "metadata": {},
   "outputs": [],
   "source": [
    "df_internet = df_internet[df_internet['Country'].isin(countries)].reset_index(drop=True)"
   ]
  },
  {
   "cell_type": "code",
   "execution_count": null,
   "id": "171506e0",
   "metadata": {},
   "outputs": [],
   "source": [
    "years = (2003, 2004, 2005, 2008, 2010, 2012, 2014, 2016, 2018, 2020, 2022, 2024)\n",
    "df_internetuse= df_internet[df_internet['Year'].isin(years)]"
   ]
  },
  {
   "cell_type": "markdown",
   "id": "e94152f8",
   "metadata": {},
   "source": [
    "# UN egdi"
   ]
  },
  {
   "cell_type": "code",
   "execution_count": null,
   "id": "03bb5d6f",
   "metadata": {},
   "outputs": [],
   "source": [
    "df_egdi = pd.read_csv('concated_egdi_brasil.csv')"
   ]
  },
  {
   "cell_type": "code",
   "execution_count": null,
   "id": "c12d1099",
   "metadata": {},
   "outputs": [],
   "source": [
    "df_egdi = df_egdi.drop(columns=['Unnamed: 0'])"
   ]
  },
  {
   "cell_type": "code",
   "execution_count": null,
   "id": "60d2310d",
   "metadata": {},
   "outputs": [],
   "source": [
    "df_egdi.info()"
   ]
  },
  {
   "cell_type": "code",
   "execution_count": null,
   "id": "29810b13",
   "metadata": {},
   "outputs": [],
   "source": [
    "df_egdi['E-Government Index'] = df_egdi['E-Government Index'].apply(lambda x: x * 100.0)"
   ]
  },
  {
   "cell_type": "code",
   "execution_count": null,
   "id": "c934462e",
   "metadata": {},
   "outputs": [],
   "source": [
    "df_egdi['E-Participation Index'] = df_egdi['E-Participation Index'].apply(lambda x: x * 100.0)"
   ]
  },
  {
   "cell_type": "code",
   "execution_count": null,
   "id": "7f9b9ac9",
   "metadata": {},
   "outputs": [],
   "source": [
    "df_egdi['Online Service Index'] = df_egdi['Online Service Index'].apply(lambda x: x * 100.0)"
   ]
  },
  {
   "cell_type": "code",
   "execution_count": null,
   "id": "0e796865",
   "metadata": {},
   "outputs": [],
   "source": [
    "df_egdi['Human Capital Index'] = df_egdi['Human Capital Index'].apply(lambda x: x * 100.0)"
   ]
  },
  {
   "cell_type": "code",
   "execution_count": null,
   "id": "9e35d265",
   "metadata": {},
   "outputs": [],
   "source": [
    "df_egdi['Telecommunication Infrastructure Index'] = df_egdi['Telecommunication Infrastructure Index'].apply(lambda x: x * 100.0)"
   ]
  },
  {
   "cell_type": "markdown",
   "id": "000189ab",
   "metadata": {},
   "source": [
    "# PEARSON CORRELATION COEFFICIENT"
   ]
  },
  {
   "cell_type": "code",
   "execution_count": null,
   "id": "fb94c5d7",
   "metadata": {},
   "outputs": [],
   "source": [
    "df = pd.DataFrame()\n",
    "df['Percentage Use'] = df_internet['Percentage Use']\n",
    "df['E-Government Index'] = df_egdi['E-Government Index']\n",
    "df['E-Participation Index'] = df_egdi['E-Participation Index']\n",
    "df['Human Capital Index'] = df_egdi['Human Capital Index']\n",
    "df['Online Service Index'] = df_egdi['Online Service Index']\n",
    "df['Telecommunication Infrastructure Index'] = df_egdi['Telecommunication Infrastructure Index']"
   ]
  },
  {
   "cell_type": "code",
   "execution_count": null,
   "id": "1d4a19d8",
   "metadata": {},
   "outputs": [],
   "source": [
    "pearson_corr_coefficient = df.corr(method='pearson')"
   ]
  },
  {
   "cell_type": "code",
   "execution_count": null,
   "id": "063a2a49",
   "metadata": {},
   "outputs": [],
   "source": [
    "plt.figure(figsize=(10, 6))\n",
    "\n",
    "sns.heatmap(pearson_corr_coefficient, annot=True)\n",
    "\n",
    "#plt.suptitle('Coeficiente de Correlação de Pearson: uso de Internet e EGDI no Brasil', fontweight='bold')\n",
    "plt.tight_layout()\n",
    "plt.show()"
   ]
  }
 ],
 "metadata": {
  "kernelspec": {
   "display_name": "Python 3",
   "language": "python",
   "name": "python3"
  },
  "language_info": {
   "codemirror_mode": {
    "name": "ipython",
    "version": 3
   },
   "file_extension": ".py",
   "mimetype": "text/x-python",
   "name": "python",
   "nbconvert_exporter": "python",
   "pygments_lexer": "ipython3",
   "version": "3.13.5"
  }
 },
 "nbformat": 4,
 "nbformat_minor": 5
}
