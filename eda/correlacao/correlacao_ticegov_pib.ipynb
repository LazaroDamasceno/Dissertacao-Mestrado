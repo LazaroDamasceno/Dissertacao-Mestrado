{
 "cells": [
  {
   "cell_type": "code",
   "execution_count": 3,
   "id": "e5b217ac",
   "metadata": {},
   "outputs": [],
   "source": [
    "import pandas as pd"
   ]
  },
  {
   "cell_type": "markdown",
   "id": "6b9b9208",
   "metadata": {},
   "source": [
    "PAÍSES"
   ]
  },
  {
   "cell_type": "code",
   "execution_count": 4,
   "id": "52cfc6bd",
   "metadata": {},
   "outputs": [],
   "source": [
    "paises = pd.read_csv('EGOV_DATA_2024.csv')['Country Name'].sort_values(ascending=True).tolist()"
   ]
  },
  {
   "cell_type": "markdown",
   "id": "5373009b",
   "metadata": {},
   "source": [
    "TIC"
   ]
  },
  {
   "cell_type": "code",
   "execution_count": 5,
   "id": "f06af570",
   "metadata": {},
   "outputs": [],
   "source": [
    "tic = pd.read_excel('ict_in_government.xlsx')"
   ]
  },
  {
   "cell_type": "code",
   "execution_count": 6,
   "id": "dc29c264",
   "metadata": {},
   "outputs": [],
   "source": [
    "tic = tic[tic['Year'] == 2024]"
   ]
  },
  {
   "cell_type": "code",
   "execution_count": 7,
   "id": "f0b48bb8",
   "metadata": {},
   "outputs": [],
   "source": [
    "tic['Soma das Respostas Positivas'] = tic['Indicator_1'] +tic['Indicator_2'] + tic['Indicator_3'] "
   ]
  },
  {
   "cell_type": "code",
   "execution_count": 8,
   "id": "cd3d4c60",
   "metadata": {},
   "outputs": [],
   "source": [
    "tic = tic[tic['Country'].isin(paises)]"
   ]
  },
  {
   "cell_type": "code",
   "execution_count": 9,
   "id": "0e184f75",
   "metadata": {},
   "outputs": [],
   "source": [
    "tic['Country'] = tic['Country'].sort_values(ascending=True)"
   ]
  },
  {
   "cell_type": "code",
   "execution_count": 10,
   "id": "61023673",
   "metadata": {},
   "outputs": [],
   "source": [
    "tic = tic.iloc[:, [0,1,5]].reset_index(drop=True)"
   ]
  },
  {
   "cell_type": "code",
   "execution_count": 11,
   "id": "aabe60b7",
   "metadata": {},
   "outputs": [],
   "source": [
    "paises = tic['Country'].unique().tolist()"
   ]
  },
  {
   "cell_type": "markdown",
   "id": "49eee91d",
   "metadata": {},
   "source": [
    "PIB"
   ]
  },
  {
   "cell_type": "code",
   "execution_count": 12,
   "id": "61b03ea2",
   "metadata": {},
   "outputs": [],
   "source": [
    "pib = pd.read_csv('updated_wb_gdp_percapita_ppc.csv')"
   ]
  },
  {
   "cell_type": "code",
   "execution_count": 13,
   "id": "3af6b356",
   "metadata": {},
   "outputs": [],
   "source": [
    "pib = pib[pib['Country Name'].isin(paises)]"
   ]
  },
  {
   "cell_type": "code",
   "execution_count": 14,
   "id": "f570e9a9",
   "metadata": {},
   "outputs": [],
   "source": [
    "pib['Country Name'] = pib['Country Name'].sort_values(ascending=True).reset_index(drop=True)"
   ]
  },
  {
   "cell_type": "code",
   "execution_count": 15,
   "id": "19ae3e99",
   "metadata": {},
   "outputs": [],
   "source": [
    "pib = pib.melt(\n",
    "    id_vars='Country Name',\n",
    "    value_vars='2024',\n",
    "    var_name='Ano',\n",
    "    value_name='Produto Interno Bruto'\n",
    ")"
   ]
  },
  {
   "cell_type": "code",
   "execution_count": 16,
   "id": "971fc6c0",
   "metadata": {},
   "outputs": [],
   "source": [
    "pib = pib.iloc[:, [0, 2]]"
   ]
  },
  {
   "cell_type": "code",
   "execution_count": 17,
   "id": "a2e2c794",
   "metadata": {},
   "outputs": [],
   "source": [
    "pib = pib.rename(columns={\n",
    "    'Country Name': 'Country'\n",
    "})"
   ]
  },
  {
   "cell_type": "markdown",
   "id": "24213434",
   "metadata": {},
   "source": [
    "CORRELAÇÃO"
   ]
  },
  {
   "cell_type": "code",
   "execution_count": 18,
   "id": "b17c70b3",
   "metadata": {},
   "outputs": [],
   "source": [
    "dispersao = pd.DataFrame()\n",
    "dispersao['Soma das Respostas Positivas'] = tic['Soma das Respostas Positivas']\n",
    "dispersao ['Produto Interno Bruto'] =  pib['Produto Interno Bruto']"
   ]
  },
  {
   "cell_type": "code",
   "execution_count": 19,
   "id": "6e0a37eb",
   "metadata": {},
   "outputs": [
    {
     "data": {
      "application/vnd.microsoft.datawrangler.viewer.v0+json": {
       "columns": [
        {
         "name": "index",
         "rawType": "object",
         "type": "string"
        },
        {
         "name": "Soma das Respostas Positivas",
         "rawType": "float64",
         "type": "float"
        },
        {
         "name": "Produto Interno Bruto",
         "rawType": "float64",
         "type": "float"
        }
       ],
       "ref": "9bf5cf39-4997-44e4-a2fc-5c09acf9a98e",
       "rows": [
        [
         "Soma das Respostas Positivas",
         "1.0",
         "0.10008184360698008"
        ],
        [
         "Produto Interno Bruto",
         "0.10008184360698008",
         "1.0"
        ]
       ],
       "shape": {
        "columns": 2,
        "rows": 2
       }
      },
      "text/html": [
       "<div>\n",
       "<style scoped>\n",
       "    .dataframe tbody tr th:only-of-type {\n",
       "        vertical-align: middle;\n",
       "    }\n",
       "\n",
       "    .dataframe tbody tr th {\n",
       "        vertical-align: top;\n",
       "    }\n",
       "\n",
       "    .dataframe thead th {\n",
       "        text-align: right;\n",
       "    }\n",
       "</style>\n",
       "<table border=\"1\" class=\"dataframe\">\n",
       "  <thead>\n",
       "    <tr style=\"text-align: right;\">\n",
       "      <th></th>\n",
       "      <th>Soma das Respostas Positivas</th>\n",
       "      <th>Produto Interno Bruto</th>\n",
       "    </tr>\n",
       "  </thead>\n",
       "  <tbody>\n",
       "    <tr>\n",
       "      <th>Soma das Respostas Positivas</th>\n",
       "      <td>1.000000</td>\n",
       "      <td>0.100082</td>\n",
       "    </tr>\n",
       "    <tr>\n",
       "      <th>Produto Interno Bruto</th>\n",
       "      <td>0.100082</td>\n",
       "      <td>1.000000</td>\n",
       "    </tr>\n",
       "  </tbody>\n",
       "</table>\n",
       "</div>"
      ],
      "text/plain": [
       "                              Soma das Respostas Positivas  \\\n",
       "Soma das Respostas Positivas                      1.000000   \n",
       "Produto Interno Bruto                             0.100082   \n",
       "\n",
       "                              Produto Interno Bruto  \n",
       "Soma das Respostas Positivas               0.100082  \n",
       "Produto Interno Bruto                      1.000000  "
      ]
     },
     "execution_count": 19,
     "metadata": {},
     "output_type": "execute_result"
    }
   ],
   "source": [
    "dispersao.corr(method='spearman')"
   ]
  }
 ],
 "metadata": {
  "kernelspec": {
   "display_name": "Python 3",
   "language": "python",
   "name": "python3"
  },
  "language_info": {
   "codemirror_mode": {
    "name": "ipython",
    "version": 3
   },
   "file_extension": ".py",
   "mimetype": "text/x-python",
   "name": "python",
   "nbconvert_exporter": "python",
   "pygments_lexer": "ipython3",
   "version": "3.13.5"
  }
 },
 "nbformat": 4,
 "nbformat_minor": 5
}
