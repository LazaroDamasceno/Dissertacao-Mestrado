{
 "cells": [
  {
   "cell_type": "code",
   "execution_count": 1,
   "id": "228267db",
   "metadata": {},
   "outputs": [],
   "source": [
    "import pandas as pd"
   ]
  },
  {
   "cell_type": "markdown",
   "id": "098d3ec3",
   "metadata": {},
   "source": [
    "EGDI"
   ]
  },
  {
   "cell_type": "code",
   "execution_count": 2,
   "id": "e6cfd607",
   "metadata": {},
   "outputs": [],
   "source": [
    "egdi = pd.read_csv('EGOV_DATA_2024.csv')"
   ]
  },
  {
   "cell_type": "code",
   "execution_count": 3,
   "id": "ef8796f3",
   "metadata": {},
   "outputs": [],
   "source": [
    "egdi = egdi.sort_values(by='Country Name', ascending=True).reset_index(drop=True)"
   ]
  },
  {
   "cell_type": "markdown",
   "id": "2086ce93",
   "metadata": {},
   "source": [
    "EGOV"
   ]
  },
  {
   "cell_type": "code",
   "execution_count": 4,
   "id": "767977ec",
   "metadata": {},
   "outputs": [],
   "source": [
    "egov = egdi.melt(\n",
    "    id_vars='Country Name',\n",
    "    value_vars='E-Government Index',\n",
    "    var_name='Metric',\n",
    "    value_name='EGOV'\n",
    ")"
   ]
  },
  {
   "cell_type": "code",
   "execution_count": 5,
   "id": "bde62dfd",
   "metadata": {},
   "outputs": [],
   "source": [
    "egov = egov.iloc[:, [0, 2]]"
   ]
  },
  {
   "cell_type": "markdown",
   "id": "86a61d71",
   "metadata": {},
   "source": [
    "LIST"
   ]
  },
  {
   "cell_type": "code",
   "execution_count": 6,
   "id": "905c931e",
   "metadata": {},
   "outputs": [],
   "source": [
    "countries = egdi['Country Name'].tolist()"
   ]
  },
  {
   "cell_type": "markdown",
   "id": "151a2510",
   "metadata": {},
   "source": [
    "PIB PER CAPITA PPC"
   ]
  },
  {
   "cell_type": "code",
   "execution_count": 7,
   "id": "d37f3938",
   "metadata": {},
   "outputs": [],
   "source": [
    "pib = pd.read_csv('updated_wb_gdp_percapita_ppc.csv')"
   ]
  },
  {
   "cell_type": "code",
   "execution_count": 8,
   "id": "13b63ebb",
   "metadata": {},
   "outputs": [],
   "source": [
    "pib = pib.melt(\n",
    "    id_vars='Country Name',\n",
    "    value_vars='2024',\n",
    "    var_name='Ano',\n",
    "    value_name='PIB'\n",
    ")"
   ]
  },
  {
   "cell_type": "code",
   "execution_count": 9,
   "id": "d1c120e1",
   "metadata": {},
   "outputs": [],
   "source": [
    "pib = pib[pib['Country Name'].isin(countries)]"
   ]
  },
  {
   "cell_type": "code",
   "execution_count": 10,
   "id": "969824bb",
   "metadata": {},
   "outputs": [],
   "source": [
    "pib = pib.sort_values(by='Country Name', ascending=True).reset_index(drop=True)"
   ]
  },
  {
   "cell_type": "code",
   "execution_count": 11,
   "id": "1fbed6b3",
   "metadata": {},
   "outputs": [],
   "source": [
    "pib = pib.fillna(0.0)"
   ]
  },
  {
   "cell_type": "code",
   "execution_count": 12,
   "id": "9e93f7a8",
   "metadata": {},
   "outputs": [],
   "source": [
    "pib = pib.iloc[:, [0, 2]]"
   ]
  },
  {
   "cell_type": "markdown",
   "id": "b8bd72bb",
   "metadata": {},
   "source": [
    "DISPERSÃO"
   ]
  },
  {
   "cell_type": "code",
   "execution_count": 13,
   "id": "2ba06b75",
   "metadata": {},
   "outputs": [],
   "source": [
    "egov_pib = egov.copy()"
   ]
  },
  {
   "cell_type": "code",
   "execution_count": 14,
   "id": "09967cc5",
   "metadata": {},
   "outputs": [],
   "source": [
    "egov_pib['Produto Interno Bruto'] = pib['PIB']"
   ]
  },
  {
   "cell_type": "code",
   "execution_count": 15,
   "id": "203db638",
   "metadata": {},
   "outputs": [],
   "source": [
    "egov_pib = egov_pib.rename(columns={'EGOV': 'E-Government Development Index'})"
   ]
  },
  {
   "cell_type": "code",
   "execution_count": 16,
   "id": "6b5735c9",
   "metadata": {},
   "outputs": [],
   "source": [
    "egov_pib = egov_pib.iloc[:, [1, 2]]"
   ]
  },
  {
   "cell_type": "code",
   "execution_count": 17,
   "id": "6225c190",
   "metadata": {},
   "outputs": [
    {
     "data": {
      "application/vnd.microsoft.datawrangler.viewer.v0+json": {
       "columns": [
        {
         "name": "index",
         "rawType": "object",
         "type": "string"
        },
        {
         "name": "E-Government Development Index",
         "rawType": "float64",
         "type": "float"
        },
        {
         "name": "Produto Interno Bruto",
         "rawType": "float64",
         "type": "float"
        }
       ],
       "ref": "c28c3a55-a838-44e1-8c8e-5b3eb9c235d8",
       "rows": [
        [
         "E-Government Development Index",
         "1.0",
         "0.8158743301495586"
        ],
        [
         "Produto Interno Bruto",
         "0.8158743301495586",
         "1.0"
        ]
       ],
       "shape": {
        "columns": 2,
        "rows": 2
       }
      },
      "text/html": [
       "<div>\n",
       "<style scoped>\n",
       "    .dataframe tbody tr th:only-of-type {\n",
       "        vertical-align: middle;\n",
       "    }\n",
       "\n",
       "    .dataframe tbody tr th {\n",
       "        vertical-align: top;\n",
       "    }\n",
       "\n",
       "    .dataframe thead th {\n",
       "        text-align: right;\n",
       "    }\n",
       "</style>\n",
       "<table border=\"1\" class=\"dataframe\">\n",
       "  <thead>\n",
       "    <tr style=\"text-align: right;\">\n",
       "      <th></th>\n",
       "      <th>E-Government Development Index</th>\n",
       "      <th>Produto Interno Bruto</th>\n",
       "    </tr>\n",
       "  </thead>\n",
       "  <tbody>\n",
       "    <tr>\n",
       "      <th>E-Government Development Index</th>\n",
       "      <td>1.000000</td>\n",
       "      <td>0.815874</td>\n",
       "    </tr>\n",
       "    <tr>\n",
       "      <th>Produto Interno Bruto</th>\n",
       "      <td>0.815874</td>\n",
       "      <td>1.000000</td>\n",
       "    </tr>\n",
       "  </tbody>\n",
       "</table>\n",
       "</div>"
      ],
      "text/plain": [
       "                                E-Government Development Index  \\\n",
       "E-Government Development Index                        1.000000   \n",
       "Produto Interno Bruto                                 0.815874   \n",
       "\n",
       "                                Produto Interno Bruto  \n",
       "E-Government Development Index               0.815874  \n",
       "Produto Interno Bruto                        1.000000  "
      ]
     },
     "execution_count": 17,
     "metadata": {},
     "output_type": "execute_result"
    }
   ],
   "source": [
    "egov_pib.corr(method='spearman')"
   ]
  }
 ],
 "metadata": {
  "kernelspec": {
   "display_name": "Python 3",
   "language": "python",
   "name": "python3"
  },
  "language_info": {
   "codemirror_mode": {
    "name": "ipython",
    "version": 3
   },
   "file_extension": ".py",
   "mimetype": "text/x-python",
   "name": "python",
   "nbconvert_exporter": "python",
   "pygments_lexer": "ipython3",
   "version": "3.13.5"
  }
 },
 "nbformat": 4,
 "nbformat_minor": 5
}
