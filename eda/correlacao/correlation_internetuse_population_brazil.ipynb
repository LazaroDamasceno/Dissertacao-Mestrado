{
 "cells": [
  {
   "cell_type": "code",
   "execution_count": 16,
   "id": "9ec9cf2e",
   "metadata": {},
   "outputs": [],
   "source": [
    "import pandas as pd"
   ]
  },
  {
   "cell_type": "markdown",
   "id": "213deb79",
   "metadata": {},
   "source": [
    "# INTERNET DATAFRAME"
   ]
  },
  {
   "cell_type": "code",
   "execution_count": 17,
   "id": "56d4ec12",
   "metadata": {},
   "outputs": [],
   "source": [
    "df_internet = pd.read_csv('individuals-using-the-internet.csv')"
   ]
  },
  {
   "cell_type": "code",
   "execution_count": 18,
   "id": "ec8034b0",
   "metadata": {},
   "outputs": [],
   "source": [
    "df_internet = df_internet.drop(columns=[\n",
    "    'seriesID',\n",
    "    'seriesCode',\n",
    "    'seriesName',\n",
    "    'seriesParent',\n",
    "    'seriesUnits',\n",
    "    'entityID',\n",
    "    'entityIso',\n",
    "    'dataNote',\n",
    "    'dataSource',\n",
    "    'seriesDescription'\n",
    "])"
   ]
  },
  {
   "cell_type": "code",
   "execution_count": 19,
   "id": "2bb89fd1",
   "metadata": {},
   "outputs": [],
   "source": [
    "df_internet = df_internet.rename(columns={\n",
    "    'entityName': 'Country',\n",
    "    'dataValue': 'Percentage Use',\n",
    "    'dataYear': 'Year'\n",
    "})"
   ]
  },
  {
   "cell_type": "code",
   "execution_count": 20,
   "id": "78edb17d",
   "metadata": {},
   "outputs": [],
   "source": [
    "df_internet = df_internet[df_internet['Country'] == \"Brazil\"].reset_index(drop=True)"
   ]
  },
  {
   "cell_type": "markdown",
   "id": "b8406ade",
   "metadata": {},
   "source": [
    "# BRAZIL'S POPULATION DATAFRAME"
   ]
  },
  {
   "cell_type": "code",
   "execution_count": 21,
   "id": "dd867b62",
   "metadata": {},
   "outputs": [],
   "source": [
    "df_br_population = pd.read_csv('brazil_population_2000_2023.csv')"
   ]
  },
  {
   "cell_type": "code",
   "execution_count": 22,
   "id": "35917011",
   "metadata": {},
   "outputs": [
    {
     "name": "stdout",
     "output_type": "stream",
     "text": [
      "<class 'pandas.core.frame.DataFrame'>\n",
      "RangeIndex: 24 entries, 0 to 23\n",
      "Data columns (total 27 columns):\n",
      " #   Column              Non-Null Count  Dtype  \n",
      "---  ------              --------------  -----  \n",
      " 0   IndicatorId         24 non-null     int64  \n",
      " 1   IndicatorName       24 non-null     object \n",
      " 2   IndicatorShortName  24 non-null     object \n",
      " 3   Source              24 non-null     object \n",
      " 4   SourceYear          24 non-null     int64  \n",
      " 5   Author              24 non-null     object \n",
      " 6   LocationId          24 non-null     int64  \n",
      " 7   Location            24 non-null     object \n",
      " 8   Iso2                24 non-null     object \n",
      " 9   Iso3                24 non-null     object \n",
      " 10  TimeId              24 non-null     int64  \n",
      " 11  Time                24 non-null     int64  \n",
      " 12  VariantId           24 non-null     int64  \n",
      " 13  Variant             24 non-null     object \n",
      " 14  SexId               24 non-null     int64  \n",
      " 15  Sex                 24 non-null     object \n",
      " 16  AgeId               24 non-null     int64  \n",
      " 17  AgeStart            24 non-null     int64  \n",
      " 18  AgeEnd              24 non-null     int64  \n",
      " 19  Age                 24 non-null     object \n",
      " 20  CategoryId          24 non-null     int64  \n",
      " 21  Category            24 non-null     object \n",
      " 22  EstimateTypeId      24 non-null     int64  \n",
      " 23  EstimateType        24 non-null     object \n",
      " 24  EstimateMethodId    24 non-null     int64  \n",
      " 25  EstimateMethod      24 non-null     object \n",
      " 26  Value               24 non-null     float64\n",
      "dtypes: float64(1), int64(13), object(13)\n",
      "memory usage: 5.2+ KB\n"
     ]
    }
   ],
   "source": [
    "df_br_population.info()"
   ]
  },
  {
   "cell_type": "code",
   "execution_count": 23,
   "id": "83966494",
   "metadata": {},
   "outputs": [],
   "source": [
    "df_br_population = df_br_population.drop(columns=[\n",
    "    'IndicatorId',\n",
    "    'IndicatorName',\n",
    "    'IndicatorShortName',\n",
    "    'Source',\n",
    "    'Author',\n",
    "    'LocationId',\n",
    "    'Location',\n",
    "    'Iso2',\n",
    "    'Iso3',\n",
    "    'TimeId',\n",
    "    'Time',\n",
    "    'VariantId',\n",
    "    'Variant',\n",
    "    'SexId',\n",
    "    'Sex',\n",
    "    'AgeId',\n",
    "    'AgeStart',\n",
    "    'AgeEnd',\n",
    "    'Age',\n",
    "    'CategoryId',\n",
    "    'Category',\n",
    "    'SourceYear',\n",
    "    'EstimateTypeId',\n",
    "    'EstimateType',\n",
    "    'EstimateMethodId',\n",
    "    'EstimateMethod'\n",
    "])"
   ]
  },
  {
   "cell_type": "code",
   "execution_count": 24,
   "id": "b527f24d",
   "metadata": {},
   "outputs": [
    {
     "data": {
      "application/vnd.microsoft.datawrangler.viewer.v0+json": {
       "columns": [
        {
         "name": "index",
         "rawType": "int64",
         "type": "integer"
        },
        {
         "name": "Value",
         "rawType": "float64",
         "type": "float"
        }
       ],
       "ref": "8d4fb54d-6d49-4efa-936e-c0083fd401b3",
       "rows": [
        [
         "0",
         "174018281.5"
        ],
        [
         "1",
         "176301203.0"
        ],
        [
         "2",
         "178503483.5"
        ],
        [
         "3",
         "180622688.5"
        ],
        [
         "4",
         "182675143.0"
        ],
        [
         "5",
         "184688101.5"
        ],
        [
         "6",
         "186653105.5"
        ],
        [
         "7",
         "188552320.0"
        ],
        [
         "8",
         "190367301.5"
        ],
        [
         "9",
         "192079950.5"
        ]
       ],
       "shape": {
        "columns": 1,
        "rows": 10
       }
      },
      "text/html": [
       "<div>\n",
       "<style scoped>\n",
       "    .dataframe tbody tr th:only-of-type {\n",
       "        vertical-align: middle;\n",
       "    }\n",
       "\n",
       "    .dataframe tbody tr th {\n",
       "        vertical-align: top;\n",
       "    }\n",
       "\n",
       "    .dataframe thead th {\n",
       "        text-align: right;\n",
       "    }\n",
       "</style>\n",
       "<table border=\"1\" class=\"dataframe\">\n",
       "  <thead>\n",
       "    <tr style=\"text-align: right;\">\n",
       "      <th></th>\n",
       "      <th>Value</th>\n",
       "    </tr>\n",
       "  </thead>\n",
       "  <tbody>\n",
       "    <tr>\n",
       "      <th>0</th>\n",
       "      <td>174018281.5</td>\n",
       "    </tr>\n",
       "    <tr>\n",
       "      <th>1</th>\n",
       "      <td>176301203.0</td>\n",
       "    </tr>\n",
       "    <tr>\n",
       "      <th>2</th>\n",
       "      <td>178503483.5</td>\n",
       "    </tr>\n",
       "    <tr>\n",
       "      <th>3</th>\n",
       "      <td>180622688.5</td>\n",
       "    </tr>\n",
       "    <tr>\n",
       "      <th>4</th>\n",
       "      <td>182675143.0</td>\n",
       "    </tr>\n",
       "    <tr>\n",
       "      <th>5</th>\n",
       "      <td>184688101.5</td>\n",
       "    </tr>\n",
       "    <tr>\n",
       "      <th>6</th>\n",
       "      <td>186653105.5</td>\n",
       "    </tr>\n",
       "    <tr>\n",
       "      <th>7</th>\n",
       "      <td>188552320.0</td>\n",
       "    </tr>\n",
       "    <tr>\n",
       "      <th>8</th>\n",
       "      <td>190367301.5</td>\n",
       "    </tr>\n",
       "    <tr>\n",
       "      <th>9</th>\n",
       "      <td>192079950.5</td>\n",
       "    </tr>\n",
       "  </tbody>\n",
       "</table>\n",
       "</div>"
      ],
      "text/plain": [
       "         Value\n",
       "0  174018281.5\n",
       "1  176301203.0\n",
       "2  178503483.5\n",
       "3  180622688.5\n",
       "4  182675143.0\n",
       "5  184688101.5\n",
       "6  186653105.5\n",
       "7  188552320.0\n",
       "8  190367301.5\n",
       "9  192079950.5"
      ]
     },
     "execution_count": 24,
     "metadata": {},
     "output_type": "execute_result"
    }
   ],
   "source": [
    "df_br_population.head(10)"
   ]
  },
  {
   "cell_type": "code",
   "execution_count": 25,
   "id": "51008186",
   "metadata": {},
   "outputs": [],
   "source": [
    "df_br_population = df_br_population.rename(columns={'Value': 'Brazilian Population'})"
   ]
  },
  {
   "cell_type": "code",
   "execution_count": 26,
   "id": "8ab61a13",
   "metadata": {},
   "outputs": [],
   "source": [
    "df_br_population.to_csv('brazil_population_reduced')"
   ]
  },
  {
   "cell_type": "markdown",
   "id": "2c7d6854",
   "metadata": {},
   "source": [
    "# PEARSON CORRELATION COEFFICIENT"
   ]
  },
  {
   "cell_type": "code",
   "execution_count": 27,
   "id": "13e2c326",
   "metadata": {},
   "outputs": [
    {
     "data": {
      "text/plain": [
       "np.float64(0.996865562140348)"
      ]
     },
     "execution_count": 27,
     "metadata": {},
     "output_type": "execute_result"
    }
   ],
   "source": [
    "df_internet['Percentage Use'].corr(df_br_population['Brazilian Population'], method='pearson')"
   ]
  }
 ],
 "metadata": {
  "kernelspec": {
   "display_name": "Python 3",
   "language": "python",
   "name": "python3"
  },
  "language_info": {
   "codemirror_mode": {
    "name": "ipython",
    "version": 3
   },
   "file_extension": ".py",
   "mimetype": "text/x-python",
   "name": "python",
   "nbconvert_exporter": "python",
   "pygments_lexer": "ipython3",
   "version": "3.13.5"
  }
 },
 "nbformat": 4,
 "nbformat_minor": 5
}
