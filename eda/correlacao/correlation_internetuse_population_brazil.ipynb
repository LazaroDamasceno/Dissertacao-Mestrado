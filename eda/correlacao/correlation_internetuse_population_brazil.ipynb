{
 "cells": [
  {
   "cell_type": "code",
   "execution_count": null,
   "id": "9ec9cf2e",
   "metadata": {},
   "outputs": [],
   "source": [
    "import pandas as pd"
   ]
  },
  {
   "cell_type": "markdown",
   "id": "213deb79",
   "metadata": {},
   "source": [
    "# INTERNET DATAFRAME"
   ]
  },
  {
   "cell_type": "code",
   "execution_count": null,
   "id": "56d4ec12",
   "metadata": {},
   "outputs": [],
   "source": [
    "df_internet = pd.read_csv('individuals-using-the-internet.csv')"
   ]
  },
  {
   "cell_type": "code",
   "execution_count": null,
   "id": "ec8034b0",
   "metadata": {},
   "outputs": [],
   "source": [
    "df_internet = df_internet.drop(columns=[\n",
    "    'seriesID',\n",
    "    'seriesCode',\n",
    "    'seriesName',\n",
    "    'seriesParent',\n",
    "    'seriesUnits',\n",
    "    'entityID',\n",
    "    'entityIso',\n",
    "    'dataNote',\n",
    "    'dataSource',\n",
    "    'seriesDescription'\n",
    "])"
   ]
  },
  {
   "cell_type": "code",
   "execution_count": null,
   "id": "2bb89fd1",
   "metadata": {},
   "outputs": [],
   "source": [
    "df_internet = df_internet.rename(columns={\n",
    "    'entityName': 'Country',\n",
    "    'dataValue': 'Percentage Use',\n",
    "    'dataYear': 'Year'\n",
    "})"
   ]
  },
  {
   "cell_type": "code",
   "execution_count": null,
   "id": "78edb17d",
   "metadata": {},
   "outputs": [],
   "source": [
    "df_internet = df_internet.loc(df_internet['Country'] == \"Brazil\").reset_index(drop=True)"
   ]
  },
  {
   "cell_type": "markdown",
   "id": "b8406ade",
   "metadata": {},
   "source": [
    "# BRAZIL'S POPULATION DATAFRAME"
   ]
  },
  {
   "cell_type": "code",
   "execution_count": null,
   "id": "dd867b62",
   "metadata": {},
   "outputs": [],
   "source": [
    "df_br_population = pd.read_csv('brazil_population_2000_2023.csv')"
   ]
  },
  {
   "cell_type": "code",
   "execution_count": null,
   "id": "35917011",
   "metadata": {},
   "outputs": [],
   "source": [
    "df_br_population.info()"
   ]
  },
  {
   "cell_type": "code",
   "execution_count": null,
   "id": "83966494",
   "metadata": {},
   "outputs": [],
   "source": [
    "df_br_population = df_br_population.drop(columns=[\n",
    "    'IndicatorId',\n",
    "    'IndicatorName',\n",
    "    'IndicatorShortName',\n",
    "    'Source',\n",
    "    'Author',\n",
    "    'LocationId',\n",
    "    'Location',\n",
    "    'Iso2',\n",
    "    'Iso3',\n",
    "    'TimeId',\n",
    "    'Time',\n",
    "    'VariantId',\n",
    "    'Variant',\n",
    "    'SexId',\n",
    "    'Sex',\n",
    "    'AgeId',\n",
    "    'AgeStart',\n",
    "    'AgeEnd',\n",
    "    'Age',\n",
    "    'CategoryId',\n",
    "    'Category',\n",
    "    'SourceYear',\n",
    "    'EstimateTypeId',\n",
    "    'EstimateType',\n",
    "    'EstimateMethodId',\n",
    "    'EstimateMethod'\n",
    "])"
   ]
  },
  {
   "cell_type": "code",
   "execution_count": null,
   "id": "b527f24d",
   "metadata": {},
   "outputs": [],
   "source": [
    "df_br_population.head(10)"
   ]
  },
  {
   "cell_type": "code",
   "execution_count": null,
   "id": "51008186",
   "metadata": {},
   "outputs": [],
   "source": [
    "df_br_population = df_br_population.rename(columns={'Value': 'Brazilian Population'})"
   ]
  },
  {
   "cell_type": "code",
   "execution_count": null,
   "id": "8ab61a13",
   "metadata": {},
   "outputs": [],
   "source": [
    "df_br_population.info()"
   ]
  },
  {
   "cell_type": "markdown",
   "id": "2c7d6854",
   "metadata": {},
   "source": [
    "# PEARSON CORRELATION COEFFICIENT"
   ]
  },
  {
   "cell_type": "code",
   "execution_count": null,
   "id": "13e2c326",
   "metadata": {},
   "outputs": [],
   "source": [
    "df_internet['Percentage Use'].corr(df_br_population['Brazilian Population'], method='pearson')"
   ]
  }
 ],
 "metadata": {
  "kernelspec": {
   "display_name": "Python 3",
   "language": "python",
   "name": "python3"
  },
  "language_info": {
   "codemirror_mode": {
    "name": "ipython",
    "version": 3
   },
   "file_extension": ".py",
   "mimetype": "text/x-python",
   "name": "python",
   "nbconvert_exporter": "python",
   "pygments_lexer": "ipython3",
   "version": "3.13.5"
  }
 },
 "nbformat": 4,
 "nbformat_minor": 5
}
