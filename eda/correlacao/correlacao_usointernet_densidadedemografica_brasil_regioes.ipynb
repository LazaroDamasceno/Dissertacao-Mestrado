{
 "cells": [
  {
   "cell_type": "code",
   "execution_count": 35,
   "id": "f4d57442",
   "metadata": {},
   "outputs": [],
   "source": [
    "import pandas as pd\n",
    "import matplotlib.pyplot as plt\n",
    "import seaborn as sns"
   ]
  },
  {
   "cell_type": "code",
   "execution_count": 36,
   "id": "667d3eb1",
   "metadata": {},
   "outputs": [],
   "source": [
    "df_uso_internet = pd.read_csv('indice_uso_internet_regioes.csv')"
   ]
  },
  {
   "cell_type": "code",
   "execution_count": 37,
   "id": "f16cf39f",
   "metadata": {},
   "outputs": [
    {
     "data": {
      "application/vnd.microsoft.datawrangler.viewer.v0+json": {
       "columns": [
        {
         "name": "Grande Região",
         "rawType": "object",
         "type": "string"
        },
        {
         "name": "2016",
         "rawType": "float64",
         "type": "float"
        },
        {
         "name": "2017",
         "rawType": "float64",
         "type": "float"
        },
        {
         "name": "2018",
         "rawType": "float64",
         "type": "float"
        },
        {
         "name": "2019",
         "rawType": "float64",
         "type": "float"
        },
        {
         "name": "2021",
         "rawType": "float64",
         "type": "float"
        },
        {
         "name": "2022",
         "rawType": "float64",
         "type": "float"
        },
        {
         "name": "2023",
         "rawType": "float64",
         "type": "float"
        }
       ],
       "ref": "fa4bcb4b-09b8-4495-b985-e025c6b948c7",
       "rows": [
        [
         "Centro-Oeste",
         "0.0753483972394681",
         "0.07584610441135",
         "0.0760284201475313",
         "0.0760175272745854",
         "0.0759805146140394",
         "0.076928309914902",
         "0.0781485244256215"
        ],
        [
         "Nordeste",
         "0.2645554104825601",
         "0.263900638062075",
         "0.2633970998002314",
         "0.2636372927259255",
         "0.2629278041468898",
         "0.2632780031664358",
         "0.2628676695594698"
        ],
        [
         "Norte",
         "0.0770803911641663",
         "0.0783052336828575",
         "0.0791251559681663",
         "0.0797158844119676",
         "0.0812578066450162",
         "0.0814491391252721",
         "0.0821205185012913"
        ],
        [
         "Sudeste",
         "0.4358695941805004",
         "0.4348658626953368",
         "0.4344416501270373",
         "0.434247170341603",
         "0.4341119160629528",
         "0.4328431130021769",
         "0.4314907524144093"
        ],
        [
         "Sul",
         "0.1471462069333049",
         "0.1470821611483805",
         "0.1470076739570336",
         "0.1463821252459184",
         "0.1457219585311016",
         "0.1455014347912131",
         "0.145372535099208"
        ]
       ],
       "shape": {
        "columns": 7,
        "rows": 5
       }
      },
      "text/html": [
       "<div>\n",
       "<style scoped>\n",
       "    .dataframe tbody tr th:only-of-type {\n",
       "        vertical-align: middle;\n",
       "    }\n",
       "\n",
       "    .dataframe tbody tr th {\n",
       "        vertical-align: top;\n",
       "    }\n",
       "\n",
       "    .dataframe thead th {\n",
       "        text-align: right;\n",
       "    }\n",
       "</style>\n",
       "<table border=\"1\" class=\"dataframe\">\n",
       "  <thead>\n",
       "    <tr style=\"text-align: right;\">\n",
       "      <th>Ano</th>\n",
       "      <th>2016</th>\n",
       "      <th>2017</th>\n",
       "      <th>2018</th>\n",
       "      <th>2019</th>\n",
       "      <th>2021</th>\n",
       "      <th>2022</th>\n",
       "      <th>2023</th>\n",
       "    </tr>\n",
       "    <tr>\n",
       "      <th>Grande Região</th>\n",
       "      <th></th>\n",
       "      <th></th>\n",
       "      <th></th>\n",
       "      <th></th>\n",
       "      <th></th>\n",
       "      <th></th>\n",
       "      <th></th>\n",
       "    </tr>\n",
       "  </thead>\n",
       "  <tbody>\n",
       "    <tr>\n",
       "      <th>Centro-Oeste</th>\n",
       "      <td>0.075348</td>\n",
       "      <td>0.075846</td>\n",
       "      <td>0.076028</td>\n",
       "      <td>0.076018</td>\n",
       "      <td>0.075981</td>\n",
       "      <td>0.076928</td>\n",
       "      <td>0.078149</td>\n",
       "    </tr>\n",
       "    <tr>\n",
       "      <th>Nordeste</th>\n",
       "      <td>0.264555</td>\n",
       "      <td>0.263901</td>\n",
       "      <td>0.263397</td>\n",
       "      <td>0.263637</td>\n",
       "      <td>0.262928</td>\n",
       "      <td>0.263278</td>\n",
       "      <td>0.262868</td>\n",
       "    </tr>\n",
       "    <tr>\n",
       "      <th>Norte</th>\n",
       "      <td>0.077080</td>\n",
       "      <td>0.078305</td>\n",
       "      <td>0.079125</td>\n",
       "      <td>0.079716</td>\n",
       "      <td>0.081258</td>\n",
       "      <td>0.081449</td>\n",
       "      <td>0.082121</td>\n",
       "    </tr>\n",
       "    <tr>\n",
       "      <th>Sudeste</th>\n",
       "      <td>0.435870</td>\n",
       "      <td>0.434866</td>\n",
       "      <td>0.434442</td>\n",
       "      <td>0.434247</td>\n",
       "      <td>0.434112</td>\n",
       "      <td>0.432843</td>\n",
       "      <td>0.431491</td>\n",
       "    </tr>\n",
       "    <tr>\n",
       "      <th>Sul</th>\n",
       "      <td>0.147146</td>\n",
       "      <td>0.147082</td>\n",
       "      <td>0.147008</td>\n",
       "      <td>0.146382</td>\n",
       "      <td>0.145722</td>\n",
       "      <td>0.145501</td>\n",
       "      <td>0.145373</td>\n",
       "    </tr>\n",
       "  </tbody>\n",
       "</table>\n",
       "</div>"
      ],
      "text/plain": [
       "Ano                2016      2017      2018      2019      2021      2022  \\\n",
       "Grande Região                                                               \n",
       "Centro-Oeste   0.075348  0.075846  0.076028  0.076018  0.075981  0.076928   \n",
       "Nordeste       0.264555  0.263901  0.263397  0.263637  0.262928  0.263278   \n",
       "Norte          0.077080  0.078305  0.079125  0.079716  0.081258  0.081449   \n",
       "Sudeste        0.435870  0.434866  0.434442  0.434247  0.434112  0.432843   \n",
       "Sul            0.147146  0.147082  0.147008  0.146382  0.145722  0.145501   \n",
       "\n",
       "Ano                2023  \n",
       "Grande Região            \n",
       "Centro-Oeste   0.078149  \n",
       "Nordeste       0.262868  \n",
       "Norte          0.082121  \n",
       "Sudeste        0.431491  \n",
       "Sul            0.145373  "
      ]
     },
     "execution_count": 37,
     "metadata": {},
     "output_type": "execute_result"
    }
   ],
   "source": [
    "df_uso_internet = df_uso_internet.pivot(\n",
    "    index='Grande Região',\n",
    "    columns='Ano',\n",
    "    values='Escala'\n",
    ")\n",
    "df_uso_internet"
   ]
  },
  {
   "cell_type": "code",
   "execution_count": 38,
   "id": "cb48165d",
   "metadata": {},
   "outputs": [],
   "source": [
    "df_densidade_demo = pd.read_excel('densidade_demografica.xlsx')"
   ]
  },
  {
   "cell_type": "code",
   "execution_count": 39,
   "id": "108d042a",
   "metadata": {},
   "outputs": [
    {
     "data": {
      "text/plain": [
       "np.float64(0.24054375375340448)"
      ]
     },
     "execution_count": 39,
     "metadata": {},
     "output_type": "execute_result"
    }
   ],
   "source": [
    "sul = [\n",
    "    'Rio Grande do Sul',\n",
    "    'Santa Catarina',\n",
    "    'Paraná'\n",
    "]\n",
    "df_densidade_demo_sul = df_densidade_demo[df_densidade_demo['Unidades da federação'].isin(sul)].reset_index(drop=True)\n",
    "df_densidade_demo_sul['habitantes por km²'] = df_densidade_demo_sul['habitantes por km²'].str.replace(',', '.')\n",
    "df_densidade_demo_sul['habitantes por km²'] = df_densidade_demo_sul['habitantes por km²'].astype(float)\n",
    "df_densidade_demo_sul['habitantes por km²'].skew()"
   ]
  },
  {
   "cell_type": "code",
   "execution_count": 40,
   "id": "2a637cb2",
   "metadata": {},
   "outputs": [
    {
     "data": {
      "text/plain": [
       "np.float64(1.1188286857049838)"
      ]
     },
     "execution_count": 40,
     "metadata": {},
     "output_type": "execute_result"
    }
   ],
   "source": [
    "sudeste = [\n",
    "    'Espírito Santo',\n",
    "    'São Paulo',\n",
    "    'Minas Gerais',\n",
    "    'Rio de Janeiro'\n",
    "]\n",
    "df_densidade_demo_sudeste = df_densidade_demo[df_densidade_demo['Unidades da federação'].isin(sudeste)].reset_index(drop=True)\n",
    "df_densidade_demo_sudeste['habitantes por km²'] = df_densidade_demo_sudeste['habitantes por km²'].str.replace(',', '.')\n",
    "df_densidade_demo_sudeste['habitantes por km²'] = df_densidade_demo_sudeste['habitantes por km²'].astype(float)\n",
    "df_densidade_demo_sudeste['habitantes por km²'].skew()"
   ]
  },
  {
   "cell_type": "code",
   "execution_count": 41,
   "id": "ec8ca43f",
   "metadata": {},
   "outputs": [
    {
     "data": {
      "text/plain": [
       "np.float64(1.397159606368654)"
      ]
     },
     "execution_count": 41,
     "metadata": {},
     "output_type": "execute_result"
    }
   ],
   "source": [
    "centro_oeaste = [\n",
    "    'Mato Grosso',\n",
    "    'Mato Grosso do Sul',\n",
    "    'Goiás'\n",
    "]\n",
    "df_densidade_demo_co = df_densidade_demo[df_densidade_demo['Unidades da federação'].isin(centro_oeaste)].reset_index(drop=True)\n",
    "df_densidade_demo_co['habitantes por km²'] = df_densidade_demo_co['habitantes por km²'].str.replace(',', '.')\n",
    "df_densidade_demo_co['habitantes por km²'] = df_densidade_demo_co['habitantes por km²'].astype(float)\n",
    "df_densidade_demo_co['habitantes por km²'].skew()"
   ]
  },
  {
   "cell_type": "code",
   "execution_count": 42,
   "id": "8ec95534",
   "metadata": {},
   "outputs": [
    {
     "data": {
      "text/plain": [
       "np.float64(-0.06078049860569931)"
      ]
     },
     "execution_count": 42,
     "metadata": {},
     "output_type": "execute_result"
    }
   ],
   "source": [
    "nordeste = [\n",
    "    'Alagoas',\n",
    "    'Sergipe',\n",
    "    'Bahia',\n",
    "    'Rio Grande do Norte',\n",
    "    'Piauí',\n",
    "    'Ceará',\n",
    "    'Maranhão',\n",
    "    'Pernambuco',\n",
    "    'Paraíba'\n",
    "]\n",
    "df_densidade_demo_ne = df_densidade_demo[df_densidade_demo['Unidades da federação'].isin(nordeste)].reset_index(drop=True)\n",
    "df_densidade_demo_ne['habitantes por km²'] = df_densidade_demo_ne['habitantes por km²'].str.replace(',', '.')\n",
    "df_densidade_demo_ne['habitantes por km²'] = df_densidade_demo_ne['habitantes por km²'].astype(float)\n",
    "df_densidade_demo_ne['habitantes por km²'].skew()"
   ]
  },
  {
   "cell_type": "code",
   "execution_count": 43,
   "id": "f7e980a1",
   "metadata": {},
   "outputs": [
    {
     "data": {
      "text/plain": [
       "np.float64(1.6915443448609653)"
      ]
     },
     "execution_count": 43,
     "metadata": {},
     "output_type": "execute_result"
    }
   ],
   "source": [
    "norte = [\n",
    "    'Roraima',\n",
    "    'Rôndonia',\n",
    "    'Pará',\n",
    "    'Amazonas',\n",
    "    'Tocantis'\n",
    "]\n",
    "df_densidade_demo_norte = df_densidade_demo[df_densidade_demo['Unidades da federação'].isin(norte)].reset_index(drop=True)\n",
    "df_densidade_demo_norte['habitantes por km²'] = df_densidade_demo_norte['habitantes por km²'].str.replace(',', '.')\n",
    "df_densidade_demo_norte['habitantes por km²'] = df_densidade_demo_norte['habitantes por km²'].astype(float)\n",
    "df_densidade_demo_norte['habitantes por km²'].skew()"
   ]
  },
  {
   "cell_type": "code",
   "execution_count": 44,
   "id": "d80e5958",
   "metadata": {},
   "outputs": [],
   "source": [
    "mediana_norte = df_densidade_demo_norte['habitantes por km²'].median()\n",
    "mediana_ne = df_densidade_demo_ne['habitantes por km²'].median()\n",
    "mediana_sudeste = df_densidade_demo_sudeste['habitantes por km²'].median()\n",
    "mediana_co = df_densidade_demo_co['habitantes por km²'].median()\n",
    "mediana_sul = df_densidade_demo_sul['habitantes por km²'].median()"
   ]
  },
  {
   "cell_type": "code",
   "execution_count": 45,
   "id": "bc78ebef",
   "metadata": {},
   "outputs": [],
   "source": [
    "densidades = [\n",
    "    mediana_co,\n",
    "    mediana_ne,\n",
    "    mediana_norte,\n",
    "    mediana_sudeste,\n",
    "    mediana_sul\n",
    "]"
   ]
  },
  {
   "cell_type": "code",
   "execution_count": 46,
   "id": "6244be8e",
   "metadata": {},
   "outputs": [],
   "source": [
    "df_wide = df_uso_internet.copy().reset_index()"
   ]
  },
  {
   "cell_type": "code",
   "execution_count": 47,
   "id": "f4b25e25",
   "metadata": {},
   "outputs": [],
   "source": [
    "df_wide = df_wide.iloc[:, [0, 6]]"
   ]
  },
  {
   "cell_type": "code",
   "execution_count": 48,
   "id": "1ee87635",
   "metadata": {},
   "outputs": [],
   "source": [
    "df_wide['Densidade Demográfica'] = densidades"
   ]
  },
  {
   "cell_type": "code",
   "execution_count": 49,
   "id": "3405cfec",
   "metadata": {},
   "outputs": [
    {
     "name": "stdout",
     "output_type": "stream",
     "text": [
      "<class 'pandas.core.frame.DataFrame'>\n",
      "RangeIndex: 5 entries, 0 to 4\n",
      "Data columns (total 3 columns):\n",
      " #   Column                     Non-Null Count  Dtype  \n",
      "---  ------                     --------------  -----  \n",
      " 0   Grande Região              5 non-null      object \n",
      " 1   Índice do Uso de Internet  5 non-null      float64\n",
      " 2   Densidade Demográfica      5 non-null      float64\n",
      "dtypes: float64(2), object(1)\n",
      "memory usage: 252.0+ bytes\n"
     ]
    }
   ],
   "source": [
    "df_wide = df_wide.rename(columns={2022: 'Índice do Uso de Internet'})\n",
    "df_wide.info()"
   ]
  },
  {
   "cell_type": "code",
   "execution_count": 50,
   "id": "6966a245",
   "metadata": {},
   "outputs": [],
   "source": [
    "df_wide = df_wide.iloc[:, [1,2]]"
   ]
  },
  {
   "cell_type": "code",
   "execution_count": 51,
   "id": "150376ea",
   "metadata": {},
   "outputs": [],
   "source": [
    "corr = df_wide.corr(method='pearson')"
   ]
  },
  {
   "cell_type": "code",
   "execution_count": 52,
   "id": "85c7d173",
   "metadata": {},
   "outputs": [
    {
     "data": {
      "image/png": "[encoded data removed]",
      "text/plain": [
       "<Figure size 1000x600 with 2 Axes>"
      ]
     },
     "metadata": {},
     "output_type": "display_data"
    }
   ],
   "source": [
    "fig, ax = plt.subplots(figsize=(10, 6))\n",
    "\n",
    "sns.heatmap(corr, annot=True)\n",
    "\n",
    "fig.savefig('C:/Users/lazar/Master-Dissertation/figuras/internet/correlacao2.png')\n",
    "plt.tight_layout()\n",
    "plt.show()"
   ]
  }
 ],
 "metadata": {
  "kernelspec": {
   "display_name": "Python 3",
   "language": "python",
   "name": "python3"
  },
  "language_info": {
   "codemirror_mode": {
    "name": "ipython",
    "version": 3
   },
   "file_extension": ".py",
   "mimetype": "text/x-python",
   "name": "python",
   "nbconvert_exporter": "python",
   "pygments_lexer": "ipython3",
   "version": "3.13.5"
  }
 },
 "nbformat": 4,
 "nbformat_minor": 5
}
