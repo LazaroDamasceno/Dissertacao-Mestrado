{
 "cells": [
  {
   "cell_type": "code",
   "execution_count": 283,
   "id": "f4d57442",
   "metadata": {},
   "outputs": [],
   "source": [
    "import pandas as pd\n",
    "import matplotlib.pyplot as plt\n",
    "import seaborn as sns"
   ]
  },
  {
   "cell_type": "code",
   "execution_count": 284,
   "id": "667d3eb1",
   "metadata": {},
   "outputs": [],
   "source": [
    "df_uso_internet = pd.read_csv('indice_uso_internet_regioes.csv')"
   ]
  },
  {
   "cell_type": "code",
   "execution_count": 285,
   "id": "f16cf39f",
   "metadata": {},
   "outputs": [],
   "source": [
    "df_uso_internet = df_uso_internet.pivot(\n",
    "    index='Grande Região',\n",
    "    columns='Ano',\n",
    "    values='Escala'\n",
    ")"
   ]
  },
  {
   "cell_type": "code",
   "execution_count": 286,
   "id": "cb48165d",
   "metadata": {},
   "outputs": [],
   "source": [
    "df_densidade_demo = pd.read_excel('densidade_demografica.xlsx')"
   ]
  },
  {
   "cell_type": "code",
   "execution_count": 287,
   "id": "108d042a",
   "metadata": {},
   "outputs": [
    {
     "data": {
      "text/plain": [
       "np.float64(0.24054375375340448)"
      ]
     },
     "execution_count": 287,
     "metadata": {},
     "output_type": "execute_result"
    }
   ],
   "source": [
    "sul = [\n",
    "    'Rio Grande do Sul',\n",
    "    'Santa Catarina',\n",
    "    'Paraná'\n",
    "]\n",
    "df_densidade_demo_sul = df_densidade_demo[df_densidade_demo['Unidades da federação'].isin(sul)].reset_index(drop=True)\n",
    "df_densidade_demo_sul['habitantes por km²'] = df_densidade_demo_sul['habitantes por km²'].str.replace(',', '.')\n",
    "df_densidade_demo_sul['habitantes por km²'] = df_densidade_demo_sul['habitantes por km²'].astype(float)\n",
    "df_densidade_demo_sul['habitantes por km²'].skew()"
   ]
  },
  {
   "cell_type": "code",
   "execution_count": 288,
   "id": "2a637cb2",
   "metadata": {},
   "outputs": [
    {
     "data": {
      "text/plain": [
       "np.float64(1.1188286857049838)"
      ]
     },
     "execution_count": 288,
     "metadata": {},
     "output_type": "execute_result"
    }
   ],
   "source": [
    "sudeste = [\n",
    "    'Espírito Santo',\n",
    "    'São Paulo',\n",
    "    'Minas Gerais',\n",
    "    'Rio de Janeiro'\n",
    "]\n",
    "df_densidade_demo_sudeste = df_densidade_demo[df_densidade_demo['Unidades da federação'].isin(sudeste)].reset_index(drop=True)\n",
    "df_densidade_demo_sudeste['habitantes por km²'] = df_densidade_demo_sudeste['habitantes por km²'].str.replace(',', '.')\n",
    "df_densidade_demo_sudeste['habitantes por km²'] = df_densidade_demo_sudeste['habitantes por km²'].astype(float)\n",
    "df_densidade_demo_sudeste['habitantes por km²'].skew()"
   ]
  },
  {
   "cell_type": "code",
   "execution_count": 289,
   "id": "ec8ca43f",
   "metadata": {},
   "outputs": [
    {
     "data": {
      "text/plain": [
       "np.float64(1.397159606368654)"
      ]
     },
     "execution_count": 289,
     "metadata": {},
     "output_type": "execute_result"
    }
   ],
   "source": [
    "centro_oeaste = [\n",
    "    'Mato Grosso',\n",
    "    'Mato Grosso do Sul',\n",
    "    'Goiás'\n",
    "]\n",
    "df_densidade_demo_co = df_densidade_demo[df_densidade_demo['Unidades da federação'].isin(centro_oeaste)].reset_index(drop=True)\n",
    "df_densidade_demo_co['habitantes por km²'] = df_densidade_demo_co['habitantes por km²'].str.replace(',', '.')\n",
    "df_densidade_demo_co['habitantes por km²'] = df_densidade_demo_co['habitantes por km²'].astype(float)\n",
    "df_densidade_demo_co['habitantes por km²'].skew()"
   ]
  },
  {
   "cell_type": "code",
   "execution_count": 290,
   "id": "8ec95534",
   "metadata": {},
   "outputs": [
    {
     "data": {
      "text/plain": [
       "np.float64(-0.06078049860569931)"
      ]
     },
     "execution_count": 290,
     "metadata": {},
     "output_type": "execute_result"
    }
   ],
   "source": [
    "nordeste = [\n",
    "    'Alagoas',\n",
    "    'Sergipe',\n",
    "    'Bahia',\n",
    "    'Rio Grande do Norte',\n",
    "    'Piauí',\n",
    "    'Ceará',\n",
    "    'Maranhão',\n",
    "    'Pernambuco',\n",
    "    'Paraíba'\n",
    "]\n",
    "df_densidade_demo_ne = df_densidade_demo[df_densidade_demo['Unidades da federação'].isin(nordeste)].reset_index(drop=True)\n",
    "df_densidade_demo_ne['habitantes por km²'] = df_densidade_demo_ne['habitantes por km²'].str.replace(',', '.')\n",
    "df_densidade_demo_ne['habitantes por km²'] = df_densidade_demo_ne['habitantes por km²'].astype(float)\n",
    "df_densidade_demo_ne['habitantes por km²'].skew()"
   ]
  },
  {
   "cell_type": "code",
   "execution_count": 291,
   "id": "f7e980a1",
   "metadata": {},
   "outputs": [
    {
     "data": {
      "text/plain": [
       "np.float64(1.6915443448609653)"
      ]
     },
     "execution_count": 291,
     "metadata": {},
     "output_type": "execute_result"
    }
   ],
   "source": [
    "norte = [\n",
    "    'Roraima',\n",
    "    'Rôndonia',\n",
    "    'Pará',\n",
    "    'Amazonas',\n",
    "    'Tocantis'\n",
    "]\n",
    "df_densidade_demo_norte = df_densidade_demo[df_densidade_demo['Unidades da federação'].isin(norte)].reset_index(drop=True)\n",
    "df_densidade_demo_norte['habitantes por km²'] = df_densidade_demo_norte['habitantes por km²'].str.replace(',', '.')\n",
    "df_densidade_demo_norte['habitantes por km²'] = df_densidade_demo_norte['habitantes por km²'].astype(float)\n",
    "df_densidade_demo_norte['habitantes por km²'].skew()"
   ]
  },
  {
   "cell_type": "code",
   "execution_count": 292,
   "id": "d80e5958",
   "metadata": {},
   "outputs": [],
   "source": [
    "mediana_norte = df_densidade_demo_norte['habitantes por km²'].median()\n",
    "mediana_ne = df_densidade_demo_ne['habitantes por km²'].median()\n",
    "mediana_sudeste = df_densidade_demo_sudeste['habitantes por km²'].median()\n",
    "mediana_co = df_densidade_demo_co['habitantes por km²'].median()\n",
    "mediana_sul = df_densidade_demo_sul['habitantes por km²'].median()"
   ]
  },
  {
   "cell_type": "code",
   "execution_count": 293,
   "id": "bc78ebef",
   "metadata": {},
   "outputs": [],
   "source": [
    "densidades = [\n",
    "    mediana_co,\n",
    "    mediana_ne,\n",
    "    mediana_norte,\n",
    "    mediana_sudeste,\n",
    "    mediana_sul\n",
    "]"
   ]
  },
  {
   "cell_type": "code",
   "execution_count": 294,
   "id": "6244be8e",
   "metadata": {},
   "outputs": [],
   "source": [
    "df_wide = df_uso_internet.copy().reset_index()"
   ]
  },
  {
   "cell_type": "code",
   "execution_count": 295,
   "id": "f4b25e25",
   "metadata": {},
   "outputs": [],
   "source": [
    "df_wide = df_wide.iloc[:, [0, 6]]"
   ]
  },
  {
   "cell_type": "code",
   "execution_count": 296,
   "id": "1ee87635",
   "metadata": {},
   "outputs": [],
   "source": [
    "df_wide['Densidade Demográfica'] = densidades"
   ]
  },
  {
   "cell_type": "code",
   "execution_count": 297,
   "id": "bf84a712",
   "metadata": {},
   "outputs": [],
   "source": [
    "df_populacao = pd.read_excel('população_residente.xlsx')"
   ]
  },
  {
   "cell_type": "code",
   "execution_count": 298,
   "id": "a021f489",
   "metadata": {},
   "outputs": [
    {
     "data": {
      "application/vnd.microsoft.datawrangler.viewer.v0+json": {
       "columns": [
        {
         "name": "index",
         "rawType": "int64",
         "type": "integer"
        },
        {
         "name": "Posição no Ranking",
         "rawType": "int64",
         "type": "integer"
        },
        {
         "name": "Unidade da Federação",
         "rawType": "object",
         "type": "string"
        },
        {
         "name": "População Residente",
         "rawType": "int64",
         "type": "integer"
        },
        {
         "name": "Unidade",
         "rawType": "object",
         "type": "string"
        }
       ],
       "ref": "597b9c3f-ba48-4dae-b0e7-f7e57a3ea9eb",
       "rows": [
        [
         "0",
         "1",
         "São Paulo",
         "44411238",
         "pessoas"
        ],
        [
         "1",
         "2",
         "Minas Gerais",
         "20539989",
         "pessoas"
        ],
        [
         "2",
         "3",
         "Rio de Janeiro",
         "16055174",
         "pessoas"
        ],
        [
         "3",
         "4",
         "Bahia",
         "14141626",
         "pessoas"
        ],
        [
         "4",
         "5",
         "Paraná",
         "11444380",
         "pessoas"
        ],
        [
         "5",
         "6",
         "Rio Grande do Sul",
         "10882965",
         "pessoas"
        ],
        [
         "6",
         "7",
         "Pernambuco",
         "9058931",
         "pessoas"
        ],
        [
         "7",
         "8",
         "Ceará",
         "8794957",
         "pessoas"
        ],
        [
         "8",
         "9",
         "Pará",
         "8120131",
         "pessoas"
        ],
        [
         "9",
         "10",
         "Santa Catarina",
         "7610361",
         "pessoas"
        ],
        [
         "10",
         "11",
         "Goiás",
         "7056495",
         "pessoas"
        ],
        [
         "11",
         "12",
         "Maranhão",
         "6776699",
         "pessoas"
        ],
        [
         "12",
         "13",
         "Paraíba",
         "3974687",
         "pessoas"
        ],
        [
         "13",
         "14",
         "Amazonas",
         "3941613",
         "pessoas"
        ],
        [
         "14",
         "15",
         "Espírito Santo",
         "3833712",
         "pessoas"
        ],
        [
         "15",
         "16",
         "Mato Grosso",
         "3658649",
         "pessoas"
        ],
        [
         "16",
         "17",
         "Rio Grande do Norte",
         "3302729",
         "pessoas"
        ],
        [
         "17",
         "18",
         "Piauí",
         "3271199",
         "pessoas"
        ],
        [
         "18",
         "19",
         "Alagoas",
         "3127683",
         "pessoas"
        ],
        [
         "19",
         "20",
         "Distrito Federal",
         "2817381",
         "pessoas"
        ],
        [
         "20",
         "21",
         "Mato Grosso do Sul",
         "2757013",
         "pessoas"
        ],
        [
         "21",
         "22",
         "Sergipe",
         "2210004",
         "pessoas"
        ],
        [
         "22",
         "23",
         "Rondônia",
         "1581196",
         "pessoas"
        ],
        [
         "23",
         "24",
         "Tocantins",
         "1511460",
         "pessoas"
        ],
        [
         "24",
         "25",
         "Acre",
         "830018",
         "pessoas"
        ],
        [
         "25",
         "26",
         "Amapá",
         "733759",
         "pessoas"
        ],
        [
         "26",
         "27",
         "Roraima",
         "636707",
         "pessoas"
        ]
       ],
       "shape": {
        "columns": 4,
        "rows": 27
       }
      },
      "text/html": [
       "<div>\n",
       "<style scoped>\n",
       "    .dataframe tbody tr th:only-of-type {\n",
       "        vertical-align: middle;\n",
       "    }\n",
       "\n",
       "    .dataframe tbody tr th {\n",
       "        vertical-align: top;\n",
       "    }\n",
       "\n",
       "    .dataframe thead th {\n",
       "        text-align: right;\n",
       "    }\n",
       "</style>\n",
       "<table border=\"1\" class=\"dataframe\">\n",
       "  <thead>\n",
       "    <tr style=\"text-align: right;\">\n",
       "      <th></th>\n",
       "      <th>Posição no Ranking</th>\n",
       "      <th>Unidade da Federação</th>\n",
       "      <th>População Residente</th>\n",
       "      <th>Unidade</th>\n",
       "    </tr>\n",
       "  </thead>\n",
       "  <tbody>\n",
       "    <tr>\n",
       "      <th>0</th>\n",
       "      <td>1</td>\n",
       "      <td>São Paulo</td>\n",
       "      <td>44411238</td>\n",
       "      <td>pessoas</td>\n",
       "    </tr>\n",
       "    <tr>\n",
       "      <th>1</th>\n",
       "      <td>2</td>\n",
       "      <td>Minas Gerais</td>\n",
       "      <td>20539989</td>\n",
       "      <td>pessoas</td>\n",
       "    </tr>\n",
       "    <tr>\n",
       "      <th>2</th>\n",
       "      <td>3</td>\n",
       "      <td>Rio de Janeiro</td>\n",
       "      <td>16055174</td>\n",
       "      <td>pessoas</td>\n",
       "    </tr>\n",
       "    <tr>\n",
       "      <th>3</th>\n",
       "      <td>4</td>\n",
       "      <td>Bahia</td>\n",
       "      <td>14141626</td>\n",
       "      <td>pessoas</td>\n",
       "    </tr>\n",
       "    <tr>\n",
       "      <th>4</th>\n",
       "      <td>5</td>\n",
       "      <td>Paraná</td>\n",
       "      <td>11444380</td>\n",
       "      <td>pessoas</td>\n",
       "    </tr>\n",
       "    <tr>\n",
       "      <th>5</th>\n",
       "      <td>6</td>\n",
       "      <td>Rio Grande do Sul</td>\n",
       "      <td>10882965</td>\n",
       "      <td>pessoas</td>\n",
       "    </tr>\n",
       "    <tr>\n",
       "      <th>6</th>\n",
       "      <td>7</td>\n",
       "      <td>Pernambuco</td>\n",
       "      <td>9058931</td>\n",
       "      <td>pessoas</td>\n",
       "    </tr>\n",
       "    <tr>\n",
       "      <th>7</th>\n",
       "      <td>8</td>\n",
       "      <td>Ceará</td>\n",
       "      <td>8794957</td>\n",
       "      <td>pessoas</td>\n",
       "    </tr>\n",
       "    <tr>\n",
       "      <th>8</th>\n",
       "      <td>9</td>\n",
       "      <td>Pará</td>\n",
       "      <td>8120131</td>\n",
       "      <td>pessoas</td>\n",
       "    </tr>\n",
       "    <tr>\n",
       "      <th>9</th>\n",
       "      <td>10</td>\n",
       "      <td>Santa Catarina</td>\n",
       "      <td>7610361</td>\n",
       "      <td>pessoas</td>\n",
       "    </tr>\n",
       "    <tr>\n",
       "      <th>10</th>\n",
       "      <td>11</td>\n",
       "      <td>Goiás</td>\n",
       "      <td>7056495</td>\n",
       "      <td>pessoas</td>\n",
       "    </tr>\n",
       "    <tr>\n",
       "      <th>11</th>\n",
       "      <td>12</td>\n",
       "      <td>Maranhão</td>\n",
       "      <td>6776699</td>\n",
       "      <td>pessoas</td>\n",
       "    </tr>\n",
       "    <tr>\n",
       "      <th>12</th>\n",
       "      <td>13</td>\n",
       "      <td>Paraíba</td>\n",
       "      <td>3974687</td>\n",
       "      <td>pessoas</td>\n",
       "    </tr>\n",
       "    <tr>\n",
       "      <th>13</th>\n",
       "      <td>14</td>\n",
       "      <td>Amazonas</td>\n",
       "      <td>3941613</td>\n",
       "      <td>pessoas</td>\n",
       "    </tr>\n",
       "    <tr>\n",
       "      <th>14</th>\n",
       "      <td>15</td>\n",
       "      <td>Espírito Santo</td>\n",
       "      <td>3833712</td>\n",
       "      <td>pessoas</td>\n",
       "    </tr>\n",
       "    <tr>\n",
       "      <th>15</th>\n",
       "      <td>16</td>\n",
       "      <td>Mato Grosso</td>\n",
       "      <td>3658649</td>\n",
       "      <td>pessoas</td>\n",
       "    </tr>\n",
       "    <tr>\n",
       "      <th>16</th>\n",
       "      <td>17</td>\n",
       "      <td>Rio Grande do Norte</td>\n",
       "      <td>3302729</td>\n",
       "      <td>pessoas</td>\n",
       "    </tr>\n",
       "    <tr>\n",
       "      <th>17</th>\n",
       "      <td>18</td>\n",
       "      <td>Piauí</td>\n",
       "      <td>3271199</td>\n",
       "      <td>pessoas</td>\n",
       "    </tr>\n",
       "    <tr>\n",
       "      <th>18</th>\n",
       "      <td>19</td>\n",
       "      <td>Alagoas</td>\n",
       "      <td>3127683</td>\n",
       "      <td>pessoas</td>\n",
       "    </tr>\n",
       "    <tr>\n",
       "      <th>19</th>\n",
       "      <td>20</td>\n",
       "      <td>Distrito Federal</td>\n",
       "      <td>2817381</td>\n",
       "      <td>pessoas</td>\n",
       "    </tr>\n",
       "    <tr>\n",
       "      <th>20</th>\n",
       "      <td>21</td>\n",
       "      <td>Mato Grosso do Sul</td>\n",
       "      <td>2757013</td>\n",
       "      <td>pessoas</td>\n",
       "    </tr>\n",
       "    <tr>\n",
       "      <th>21</th>\n",
       "      <td>22</td>\n",
       "      <td>Sergipe</td>\n",
       "      <td>2210004</td>\n",
       "      <td>pessoas</td>\n",
       "    </tr>\n",
       "    <tr>\n",
       "      <th>22</th>\n",
       "      <td>23</td>\n",
       "      <td>Rondônia</td>\n",
       "      <td>1581196</td>\n",
       "      <td>pessoas</td>\n",
       "    </tr>\n",
       "    <tr>\n",
       "      <th>23</th>\n",
       "      <td>24</td>\n",
       "      <td>Tocantins</td>\n",
       "      <td>1511460</td>\n",
       "      <td>pessoas</td>\n",
       "    </tr>\n",
       "    <tr>\n",
       "      <th>24</th>\n",
       "      <td>25</td>\n",
       "      <td>Acre</td>\n",
       "      <td>830018</td>\n",
       "      <td>pessoas</td>\n",
       "    </tr>\n",
       "    <tr>\n",
       "      <th>25</th>\n",
       "      <td>26</td>\n",
       "      <td>Amapá</td>\n",
       "      <td>733759</td>\n",
       "      <td>pessoas</td>\n",
       "    </tr>\n",
       "    <tr>\n",
       "      <th>26</th>\n",
       "      <td>27</td>\n",
       "      <td>Roraima</td>\n",
       "      <td>636707</td>\n",
       "      <td>pessoas</td>\n",
       "    </tr>\n",
       "  </tbody>\n",
       "</table>\n",
       "</div>"
      ],
      "text/plain": [
       "    Posição no Ranking Unidade da Federação  População Residente  Unidade\n",
       "0                    1            São Paulo             44411238  pessoas\n",
       "1                    2         Minas Gerais             20539989  pessoas\n",
       "2                    3       Rio de Janeiro             16055174  pessoas\n",
       "3                    4                Bahia             14141626  pessoas\n",
       "4                    5               Paraná             11444380  pessoas\n",
       "5                    6    Rio Grande do Sul             10882965  pessoas\n",
       "6                    7           Pernambuco              9058931  pessoas\n",
       "7                    8                Ceará              8794957  pessoas\n",
       "8                    9                 Pará              8120131  pessoas\n",
       "9                   10       Santa Catarina              7610361  pessoas\n",
       "10                  11                Goiás              7056495  pessoas\n",
       "11                  12             Maranhão              6776699  pessoas\n",
       "12                  13              Paraíba              3974687  pessoas\n",
       "13                  14             Amazonas              3941613  pessoas\n",
       "14                  15       Espírito Santo              3833712  pessoas\n",
       "15                  16          Mato Grosso              3658649  pessoas\n",
       "16                  17  Rio Grande do Norte              3302729  pessoas\n",
       "17                  18                Piauí              3271199  pessoas\n",
       "18                  19              Alagoas              3127683  pessoas\n",
       "19                  20     Distrito Federal              2817381  pessoas\n",
       "20                  21   Mato Grosso do Sul              2757013  pessoas\n",
       "21                  22              Sergipe              2210004  pessoas\n",
       "22                  23             Rondônia              1581196  pessoas\n",
       "23                  24            Tocantins              1511460  pessoas\n",
       "24                  25                 Acre               830018  pessoas\n",
       "25                  26                Amapá               733759  pessoas\n",
       "26                  27              Roraima               636707  pessoas"
      ]
     },
     "execution_count": 298,
     "metadata": {},
     "output_type": "execute_result"
    }
   ],
   "source": [
    "df_populacao"
   ]
  },
  {
   "cell_type": "code",
   "execution_count": 299,
   "id": "d5a4ccc6",
   "metadata": {},
   "outputs": [],
   "source": [
    "df_populacao = df_populacao.iloc[:, [1,2]]"
   ]
  },
  {
   "cell_type": "code",
   "execution_count": 300,
   "id": "a00b1c2d",
   "metadata": {},
   "outputs": [],
   "source": [
    "populacao_norte = df_populacao[df_populacao['Unidade da Federação'].isin(norte)]['População Residente'].sum()\n",
    "populacao_ne = df_populacao[df_populacao['Unidade da Federação'].isin(nordeste)]['População Residente'].sum()\n",
    "populacao_sudeste = df_populacao[df_populacao['Unidade da Federação'].isin(sudeste)]['População Residente'].sum()\n",
    "populacao_co = df_populacao[df_populacao['Unidade da Federação'].isin(centro_oeaste)]['População Residente'].sum()\n",
    "populacao_sul = df_populacao[df_populacao['Unidade da Federação'].isin(sul)]['População Residente'].sum()"
   ]
  },
  {
   "cell_type": "code",
   "execution_count": 301,
   "id": "76129022",
   "metadata": {},
   "outputs": [],
   "source": [
    "populacao_regioes = [\n",
    "    populacao_co,\n",
    "    populacao_ne,\n",
    "    populacao_norte,\n",
    "    populacao_sudeste,\n",
    "    populacao_sul\n",
    "]"
   ]
  },
  {
   "cell_type": "code",
   "execution_count": 302,
   "id": "8a1f5404",
   "metadata": {},
   "outputs": [],
   "source": [
    "df_wide['População Total'] = populacao_regioes"
   ]
  },
  {
   "cell_type": "code",
   "execution_count": 303,
   "id": "3405cfec",
   "metadata": {},
   "outputs": [],
   "source": [
    "df_wide = df_wide.rename(columns={2022: 'Índice do Uso de Internet'})"
   ]
  },
  {
   "cell_type": "code",
   "execution_count": 304,
   "id": "6966a245",
   "metadata": {},
   "outputs": [],
   "source": [
    "df_wide = df_wide.iloc[:, [1,2,3]]"
   ]
  },
  {
   "cell_type": "code",
   "execution_count": 305,
   "id": "150376ea",
   "metadata": {},
   "outputs": [],
   "source": [
    "corr = df_wide.corr(method='pearson')"
   ]
  },
  {
   "cell_type": "code",
   "execution_count": 306,
   "id": "85c7d173",
   "metadata": {},
   "outputs": [
    {
     "data": {
      "image/png": "[encoded data removed]",
      "text/plain": [
       "<Figure size 1000x600 with 2 Axes>"
      ]
     },
     "metadata": {},
     "output_type": "display_data"
    }
   ],
   "source": [
    "fig, ax = plt.subplots(figsize=(10, 6))\n",
    "\n",
    "sns.heatmap(corr, annot=True)\n",
    "\n",
    "fig.savefig('C:/Users/lazar/Master-Dissertation/figuras/internet/correlacao2.png')\n",
    "plt.tight_layout()\n",
    "plt.show()"
   ]
  }
 ],
 "metadata": {
  "kernelspec": {
   "display_name": "Python 3",
   "language": "python",
   "name": "python3"
  },
  "language_info": {
   "codemirror_mode": {
    "name": "ipython",
    "version": 3
   },
   "file_extension": ".py",
   "mimetype": "text/x-python",
   "name": "python",
   "nbconvert_exporter": "python",
   "pygments_lexer": "ipython3",
   "version": "3.13.5"
  }
 },
 "nbformat": 4,
 "nbformat_minor": 5
}
