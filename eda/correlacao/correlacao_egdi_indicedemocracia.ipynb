{
 "cells": [
  {
   "cell_type": "code",
   "execution_count": 254,
   "id": "228267db",
   "metadata": {},
   "outputs": [],
   "source": [
    "import pandas as pd\n",
    "import matplotlib.pyplot as plt\n",
    "import seaborn as sns"
   ]
  },
  {
   "cell_type": "markdown",
   "id": "098d3ec3",
   "metadata": {},
   "source": [
    "EGDI"
   ]
  },
  {
   "cell_type": "code",
   "execution_count": 255,
   "id": "e6cfd607",
   "metadata": {},
   "outputs": [],
   "source": [
    "egdi = pd.read_csv('EGOV_DATA_2024.csv')"
   ]
  },
  {
   "cell_type": "code",
   "execution_count": 256,
   "id": "ef8796f3",
   "metadata": {},
   "outputs": [],
   "source": [
    "egdi = egdi.sort_values(by='Country Name', ascending=True).reset_index(drop=True)"
   ]
  },
  {
   "cell_type": "code",
   "execution_count": 257,
   "id": "767977ec",
   "metadata": {},
   "outputs": [],
   "source": [
    "egov = egdi.melt(\n",
    "    id_vars='Country Name',\n",
    "    value_vars='E-Government Index',\n",
    "    var_name='Metric',\n",
    "    value_name='Índice de Democracia Eleitoral'\n",
    ")"
   ]
  },
  {
   "cell_type": "code",
   "execution_count": 258,
   "id": "bde62dfd",
   "metadata": {},
   "outputs": [],
   "source": [
    "egov = egov.iloc[:, [0, 2]]"
   ]
  },
  {
   "cell_type": "code",
   "execution_count": 259,
   "id": "e29cdf7e",
   "metadata": {},
   "outputs": [],
   "source": [
    "epart = egdi.melt(\n",
    "    id_vars='Country Name',\n",
    "    value_vars='E-Participation Index',\n",
    "    var_name='Metrica',\n",
    "    value_name='Índice de Democracia Eleitoral'\n",
    ")"
   ]
  },
  {
   "cell_type": "code",
   "execution_count": 260,
   "id": "2690d340",
   "metadata": {},
   "outputs": [],
   "source": [
    "epart = epart.iloc[:, [0, 2]]"
   ]
  },
  {
   "cell_type": "code",
   "execution_count": 261,
   "id": "905c931e",
   "metadata": {},
   "outputs": [],
   "source": [
    "countries = egdi['Country Name'].tolist()"
   ]
  },
  {
   "cell_type": "markdown",
   "id": "151a2510",
   "metadata": {},
   "source": [
    "PIB PER CAPITA PPC"
   ]
  },
  {
   "cell_type": "code",
   "execution_count": 262,
   "id": "d37f3938",
   "metadata": {},
   "outputs": [],
   "source": [
    "pib = pd.read_csv('wb_gdp_percapita_ppc_updated.csv')"
   ]
  },
  {
   "cell_type": "code",
   "execution_count": 263,
   "id": "13b63ebb",
   "metadata": {},
   "outputs": [],
   "source": [
    "pib = pib.melt(\n",
    "    id_vars='Country Name',\n",
    "    value_vars='2024',\n",
    "    var_name='Ano',\n",
    "    value_name='PIB'\n",
    ")"
   ]
  },
  {
   "cell_type": "code",
   "execution_count": 264,
   "id": "d1c120e1",
   "metadata": {},
   "outputs": [],
   "source": [
    "pib = pib[pib['Country Name'].isin(countries)]"
   ]
  },
  {
   "cell_type": "code",
   "execution_count": 265,
   "id": "969824bb",
   "metadata": {},
   "outputs": [],
   "source": [
    "pib = pib.sort_values(by='Country Name', ascending=True).reset_index(drop=True)"
   ]
  },
  {
   "cell_type": "code",
   "execution_count": 266,
   "id": "1fbed6b3",
   "metadata": {},
   "outputs": [],
   "source": [
    "pib = pib.fillna(0.0)"
   ]
  },
  {
   "cell_type": "code",
   "execution_count": 267,
   "id": "9e93f7a8",
   "metadata": {},
   "outputs": [],
   "source": [
    "pib = pib.iloc[:, [0, 2]]"
   ]
  }
 ],
 "metadata": {
  "kernelspec": {
   "display_name": "Python 3",
   "language": "python",
   "name": "python3"
  },
  "language_info": {
   "codemirror_mode": {
    "name": "ipython",
    "version": 3
   },
   "file_extension": ".py",
   "mimetype": "text/x-python",
   "name": "python",
   "nbconvert_exporter": "python",
   "pygments_lexer": "ipython3",
   "version": "3.13.5"
  }
 },
 "nbformat": 4,
 "nbformat_minor": 5
}
