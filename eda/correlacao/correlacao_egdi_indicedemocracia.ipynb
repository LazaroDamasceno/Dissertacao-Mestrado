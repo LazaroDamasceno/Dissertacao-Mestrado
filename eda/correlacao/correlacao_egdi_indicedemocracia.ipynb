{
 "cells": [
  {
   "cell_type": "code",
   "execution_count": 1,
   "id": "228267db",
   "metadata": {},
   "outputs": [],
   "source": [
    "import pandas as pd\n",
    "import matplotlib.pyplot as plt\n",
    "import seaborn as sns"
   ]
  },
  {
   "cell_type": "markdown",
   "id": "098d3ec3",
   "metadata": {},
   "source": [
    "EGDI"
   ]
  },
  {
   "cell_type": "code",
   "execution_count": 2,
   "id": "e6cfd607",
   "metadata": {},
   "outputs": [],
   "source": [
    "egdi = pd.read_csv('EGOV_DATA_2024.csv')"
   ]
  },
  {
   "cell_type": "code",
   "execution_count": 3,
   "id": "767977ec",
   "metadata": {},
   "outputs": [],
   "source": [
    "egov = egdi.melt(\n",
    "    id_vars='Country Name',\n",
    "    value_vars='E-Government Index',\n",
    "    var_name='Metric',\n",
    "    value_name='Value'\n",
    ")"
   ]
  },
  {
   "cell_type": "code",
   "execution_count": 4,
   "id": "e29cdf7e",
   "metadata": {},
   "outputs": [],
   "source": [
    "epart = egdi.melt(\n",
    "    id_vars='Country Name',\n",
    "    value_vars='E-Participation Index',\n",
    "    var_name='Metric',\n",
    "    value_name='Value'\n",
    ")"
   ]
  },
  {
   "cell_type": "markdown",
   "id": "151a2510",
   "metadata": {},
   "source": [
    "PIB PER CAPITA PPC"
   ]
  },
  {
   "cell_type": "code",
   "execution_count": 5,
   "id": "d37f3938",
   "metadata": {},
   "outputs": [],
   "source": [
    "pib = pd.read_csv('wb_gdp_percapita_ppc.csv')"
   ]
  },
  {
   "cell_type": "code",
   "execution_count": 6,
   "id": "13b63ebb",
   "metadata": {},
   "outputs": [],
   "source": [
    "pib = pib.melt(\n",
    "    id_vars='Country Name',\n",
    "    value_vars='2024',\n",
    "    var_name='Year',\n",
    "    value_name='PIB'\n",
    ")"
   ]
  },
  {
   "cell_type": "markdown",
   "id": "6138ac00",
   "metadata": {},
   "source": [
    "ÍNDICE DE DEMOCRACIA ELEITORAL"
   ]
  },
  {
   "cell_type": "code",
   "execution_count": 7,
   "id": "5b631dd1",
   "metadata": {},
   "outputs": [],
   "source": [
    "ide = pd.read_csv('electoral-democracy-index.csv')"
   ]
  },
  {
   "cell_type": "code",
   "execution_count": 8,
   "id": "1dec19ef",
   "metadata": {},
   "outputs": [
    {
     "data": {
      "application/vnd.microsoft.datawrangler.viewer.v0+json": {
       "columns": [
        {
         "name": "index",
         "rawType": "int64",
         "type": "integer"
        },
        {
         "name": "Entity",
         "rawType": "object",
         "type": "string"
        },
        {
         "name": "Year",
         "rawType": "int64",
         "type": "integer"
        }
       ],
       "ref": "40f5a345-c55b-4df8-a76e-c2b4ae2eac45",
       "rows": [
        [
         "0",
         "Afghanistan",
         "1789"
        ],
        [
         "1",
         "Afghanistan",
         "1790"
        ],
        [
         "2",
         "Afghanistan",
         "1791"
        ],
        [
         "3",
         "Afghanistan",
         "1792"
        ],
        [
         "4",
         "Afghanistan",
         "1793"
        ],
        [
         "5",
         "Afghanistan",
         "1794"
        ],
        [
         "6",
         "Afghanistan",
         "1795"
        ],
        [
         "7",
         "Afghanistan",
         "1796"
        ],
        [
         "8",
         "Afghanistan",
         "1797"
        ],
        [
         "9",
         "Afghanistan",
         "1798"
        ],
        [
         "10",
         "Afghanistan",
         "1799"
        ],
        [
         "11",
         "Afghanistan",
         "1800"
        ],
        [
         "12",
         "Afghanistan",
         "1801"
        ],
        [
         "13",
         "Afghanistan",
         "1802"
        ],
        [
         "14",
         "Afghanistan",
         "1803"
        ],
        [
         "15",
         "Afghanistan",
         "1804"
        ],
        [
         "16",
         "Afghanistan",
         "1805"
        ],
        [
         "17",
         "Afghanistan",
         "1806"
        ],
        [
         "18",
         "Afghanistan",
         "1807"
        ],
        [
         "19",
         "Afghanistan",
         "1808"
        ],
        [
         "20",
         "Afghanistan",
         "1809"
        ],
        [
         "21",
         "Afghanistan",
         "1810"
        ],
        [
         "22",
         "Afghanistan",
         "1811"
        ],
        [
         "23",
         "Afghanistan",
         "1812"
        ],
        [
         "24",
         "Afghanistan",
         "1813"
        ],
        [
         "25",
         "Afghanistan",
         "1814"
        ],
        [
         "26",
         "Afghanistan",
         "1815"
        ],
        [
         "27",
         "Afghanistan",
         "1816"
        ],
        [
         "28",
         "Afghanistan",
         "1817"
        ],
        [
         "29",
         "Afghanistan",
         "1818"
        ],
        [
         "30",
         "Afghanistan",
         "1819"
        ],
        [
         "31",
         "Afghanistan",
         "1820"
        ],
        [
         "32",
         "Afghanistan",
         "1821"
        ],
        [
         "33",
         "Afghanistan",
         "1822"
        ],
        [
         "34",
         "Afghanistan",
         "1823"
        ],
        [
         "35",
         "Afghanistan",
         "1824"
        ],
        [
         "36",
         "Afghanistan",
         "1825"
        ],
        [
         "37",
         "Afghanistan",
         "1826"
        ],
        [
         "38",
         "Afghanistan",
         "1827"
        ],
        [
         "39",
         "Afghanistan",
         "1828"
        ],
        [
         "40",
         "Afghanistan",
         "1829"
        ],
        [
         "41",
         "Afghanistan",
         "1830"
        ],
        [
         "42",
         "Afghanistan",
         "1831"
        ],
        [
         "43",
         "Afghanistan",
         "1832"
        ],
        [
         "44",
         "Afghanistan",
         "1833"
        ],
        [
         "45",
         "Afghanistan",
         "1834"
        ],
        [
         "46",
         "Afghanistan",
         "1835"
        ],
        [
         "47",
         "Afghanistan",
         "1836"
        ],
        [
         "48",
         "Afghanistan",
         "1837"
        ],
        [
         "49",
         "Afghanistan",
         "1838"
        ]
       ],
       "shape": {
        "columns": 2,
        "rows": 34035
       }
      },
      "text/html": [
       "<div>\n",
       "<style scoped>\n",
       "    .dataframe tbody tr th:only-of-type {\n",
       "        vertical-align: middle;\n",
       "    }\n",
       "\n",
       "    .dataframe tbody tr th {\n",
       "        vertical-align: top;\n",
       "    }\n",
       "\n",
       "    .dataframe thead th {\n",
       "        text-align: right;\n",
       "    }\n",
       "</style>\n",
       "<table border=\"1\" class=\"dataframe\">\n",
       "  <thead>\n",
       "    <tr style=\"text-align: right;\">\n",
       "      <th></th>\n",
       "      <th>Entity</th>\n",
       "      <th>Year</th>\n",
       "    </tr>\n",
       "  </thead>\n",
       "  <tbody>\n",
       "    <tr>\n",
       "      <th>0</th>\n",
       "      <td>Afghanistan</td>\n",
       "      <td>1789</td>\n",
       "    </tr>\n",
       "    <tr>\n",
       "      <th>1</th>\n",
       "      <td>Afghanistan</td>\n",
       "      <td>1790</td>\n",
       "    </tr>\n",
       "    <tr>\n",
       "      <th>2</th>\n",
       "      <td>Afghanistan</td>\n",
       "      <td>1791</td>\n",
       "    </tr>\n",
       "    <tr>\n",
       "      <th>3</th>\n",
       "      <td>Afghanistan</td>\n",
       "      <td>1792</td>\n",
       "    </tr>\n",
       "    <tr>\n",
       "      <th>4</th>\n",
       "      <td>Afghanistan</td>\n",
       "      <td>1793</td>\n",
       "    </tr>\n",
       "    <tr>\n",
       "      <th>...</th>\n",
       "      <td>...</td>\n",
       "      <td>...</td>\n",
       "    </tr>\n",
       "    <tr>\n",
       "      <th>34030</th>\n",
       "      <td>Zimbabwe</td>\n",
       "      <td>2020</td>\n",
       "    </tr>\n",
       "    <tr>\n",
       "      <th>34031</th>\n",
       "      <td>Zimbabwe</td>\n",
       "      <td>2021</td>\n",
       "    </tr>\n",
       "    <tr>\n",
       "      <th>34032</th>\n",
       "      <td>Zimbabwe</td>\n",
       "      <td>2022</td>\n",
       "    </tr>\n",
       "    <tr>\n",
       "      <th>34033</th>\n",
       "      <td>Zimbabwe</td>\n",
       "      <td>2023</td>\n",
       "    </tr>\n",
       "    <tr>\n",
       "      <th>34034</th>\n",
       "      <td>Zimbabwe</td>\n",
       "      <td>2024</td>\n",
       "    </tr>\n",
       "  </tbody>\n",
       "</table>\n",
       "<p>34035 rows × 2 columns</p>\n",
       "</div>"
      ],
      "text/plain": [
       "            Entity  Year\n",
       "0      Afghanistan  1789\n",
       "1      Afghanistan  1790\n",
       "2      Afghanistan  1791\n",
       "3      Afghanistan  1792\n",
       "4      Afghanistan  1793\n",
       "...            ...   ...\n",
       "34030     Zimbabwe  2020\n",
       "34031     Zimbabwe  2021\n",
       "34032     Zimbabwe  2022\n",
       "34033     Zimbabwe  2023\n",
       "34034     Zimbabwe  2024\n",
       "\n",
       "[34035 rows x 2 columns]"
      ]
     },
     "execution_count": 8,
     "metadata": {},
     "output_type": "execute_result"
    }
   ],
   "source": [
    "ide = ide.iloc[:, [0, 2]]\n",
    "ide"
   ]
  }
 ],
 "metadata": {
  "kernelspec": {
   "display_name": "Python 3",
   "language": "python",
   "name": "python3"
  },
  "language_info": {
   "codemirror_mode": {
    "name": "ipython",
    "version": 3
   },
   "file_extension": ".py",
   "mimetype": "text/x-python",
   "name": "python",
   "nbconvert_exporter": "python",
   "pygments_lexer": "ipython3",
   "version": "3.13.5"
  }
 },
 "nbformat": 4,
 "nbformat_minor": 5
}
