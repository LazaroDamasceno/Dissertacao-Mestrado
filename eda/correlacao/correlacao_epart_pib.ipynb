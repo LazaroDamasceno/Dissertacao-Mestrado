{
 "cells": [
  {
   "cell_type": "code",
   "execution_count": 1,
   "id": "228267db",
   "metadata": {},
   "outputs": [],
   "source": [
    "import pandas as pd"
   ]
  },
  {
   "cell_type": "markdown",
   "id": "098d3ec3",
   "metadata": {},
   "source": [
    "EGDI"
   ]
  },
  {
   "cell_type": "code",
   "execution_count": 2,
   "id": "e6cfd607",
   "metadata": {},
   "outputs": [],
   "source": [
    "egdi = pd.read_csv('EGOV_DATA_2024.csv')"
   ]
  },
  {
   "cell_type": "code",
   "execution_count": 3,
   "id": "ef8796f3",
   "metadata": {},
   "outputs": [],
   "source": [
    "egdi = egdi.sort_values(by='Country Name', ascending=True).reset_index(drop=True)"
   ]
  },
  {
   "cell_type": "markdown",
   "id": "2086ce93",
   "metadata": {},
   "source": [
    "EPART"
   ]
  },
  {
   "cell_type": "code",
   "execution_count": 4,
   "id": "767977ec",
   "metadata": {},
   "outputs": [],
   "source": [
    "egov = egdi.melt(\n",
    "    id_vars='Country Name',\n",
    "    value_vars='E-Participation Index',\n",
    "    var_name='Metric',\n",
    "    value_name='EPART'\n",
    ")"
   ]
  },
  {
   "cell_type": "code",
   "execution_count": 5,
   "id": "bde62dfd",
   "metadata": {},
   "outputs": [],
   "source": [
    "egov = egov.iloc[:, [0, 2]]"
   ]
  },
  {
   "cell_type": "markdown",
   "id": "86a61d71",
   "metadata": {},
   "source": [
    "LIST"
   ]
  },
  {
   "cell_type": "code",
   "execution_count": 6,
   "id": "905c931e",
   "metadata": {},
   "outputs": [],
   "source": [
    "countries = egdi['Country Name'].tolist()"
   ]
  },
  {
   "cell_type": "markdown",
   "id": "151a2510",
   "metadata": {},
   "source": [
    "PIB PER CAPITA PPC"
   ]
  },
  {
   "cell_type": "code",
   "execution_count": 7,
   "id": "d37f3938",
   "metadata": {},
   "outputs": [],
   "source": [
    "pib = pd.read_csv('updated_wb_gdp_percapita_ppc.csv')"
   ]
  },
  {
   "cell_type": "code",
   "execution_count": 8,
   "id": "13b63ebb",
   "metadata": {},
   "outputs": [],
   "source": [
    "pib = pib.melt(\n",
    "    id_vars='Country Name',\n",
    "    value_vars='2024',\n",
    "    var_name='Ano',\n",
    "    value_name='PIB'\n",
    ")"
   ]
  },
  {
   "cell_type": "code",
   "execution_count": 9,
   "id": "d1c120e1",
   "metadata": {},
   "outputs": [],
   "source": [
    "pib = pib[pib['Country Name'].isin(countries)]"
   ]
  },
  {
   "cell_type": "code",
   "execution_count": 10,
   "id": "969824bb",
   "metadata": {},
   "outputs": [],
   "source": [
    "pib = pib.sort_values(by='Country Name', ascending=True).reset_index(drop=True)"
   ]
  },
  {
   "cell_type": "code",
   "execution_count": 11,
   "id": "1fbed6b3",
   "metadata": {},
   "outputs": [],
   "source": [
    "pib = pib.fillna(0.0)"
   ]
  },
  {
   "cell_type": "code",
   "execution_count": 12,
   "id": "9e93f7a8",
   "metadata": {},
   "outputs": [],
   "source": [
    "pib = pib.iloc[:, [0, 2]]"
   ]
  },
  {
   "cell_type": "markdown",
   "id": "b8bd72bb",
   "metadata": {},
   "source": [
    "DISPERSÃO"
   ]
  },
  {
   "cell_type": "code",
   "execution_count": 13,
   "id": "2ba06b75",
   "metadata": {},
   "outputs": [],
   "source": [
    "epart_pib = egov.copy()"
   ]
  },
  {
   "cell_type": "code",
   "execution_count": 14,
   "id": "09967cc5",
   "metadata": {},
   "outputs": [],
   "source": [
    "epart_pib['Produto Interno Bruto'] = pib['PIB']"
   ]
  },
  {
   "cell_type": "code",
   "execution_count": 15,
   "id": "203db638",
   "metadata": {},
   "outputs": [],
   "source": [
    "epart_pib = epart_pib.rename(columns={'EPART': 'E-Participation Index'})"
   ]
  },
  {
   "cell_type": "code",
   "execution_count": 16,
   "id": "6b5735c9",
   "metadata": {},
   "outputs": [],
   "source": [
    "epart_pib = epart_pib.iloc[:, [1, 2]]"
   ]
  },
  {
   "cell_type": "code",
   "execution_count": 17,
   "id": "d41e905c",
   "metadata": {},
   "outputs": [
    {
     "data": {
      "application/vnd.microsoft.datawrangler.viewer.v0+json": {
       "columns": [
        {
         "name": "index",
         "rawType": "object",
         "type": "string"
        },
        {
         "name": "E-Participation Index",
         "rawType": "float64",
         "type": "float"
        },
        {
         "name": "Produto Interno Bruto",
         "rawType": "float64",
         "type": "float"
        }
       ],
       "ref": "4550dc1a-acee-4f93-9103-ae2fabdbed8f",
       "rows": [
        [
         "E-Participation Index",
         "1.0",
         "0.6660999383887286"
        ],
        [
         "Produto Interno Bruto",
         "0.6660999383887286",
         "1.0"
        ]
       ],
       "shape": {
        "columns": 2,
        "rows": 2
       }
      },
      "text/html": [
       "<div>\n",
       "<style scoped>\n",
       "    .dataframe tbody tr th:only-of-type {\n",
       "        vertical-align: middle;\n",
       "    }\n",
       "\n",
       "    .dataframe tbody tr th {\n",
       "        vertical-align: top;\n",
       "    }\n",
       "\n",
       "    .dataframe thead th {\n",
       "        text-align: right;\n",
       "    }\n",
       "</style>\n",
       "<table border=\"1\" class=\"dataframe\">\n",
       "  <thead>\n",
       "    <tr style=\"text-align: right;\">\n",
       "      <th></th>\n",
       "      <th>E-Participation Index</th>\n",
       "      <th>Produto Interno Bruto</th>\n",
       "    </tr>\n",
       "  </thead>\n",
       "  <tbody>\n",
       "    <tr>\n",
       "      <th>E-Participation Index</th>\n",
       "      <td>1.0000</td>\n",
       "      <td>0.6661</td>\n",
       "    </tr>\n",
       "    <tr>\n",
       "      <th>Produto Interno Bruto</th>\n",
       "      <td>0.6661</td>\n",
       "      <td>1.0000</td>\n",
       "    </tr>\n",
       "  </tbody>\n",
       "</table>\n",
       "</div>"
      ],
      "text/plain": [
       "                       E-Participation Index  Produto Interno Bruto\n",
       "E-Participation Index                 1.0000                 0.6661\n",
       "Produto Interno Bruto                 0.6661                 1.0000"
      ]
     },
     "execution_count": 17,
     "metadata": {},
     "output_type": "execute_result"
    }
   ],
   "source": [
    "epart_pib.corr(method='spearman')"
   ]
  }
 ],
 "metadata": {
  "kernelspec": {
   "display_name": "Python 3",
   "language": "python",
   "name": "python3"
  },
  "language_info": {
   "codemirror_mode": {
    "name": "ipython",
    "version": 3
   },
   "file_extension": ".py",
   "mimetype": "text/x-python",
   "name": "python",
   "nbconvert_exporter": "python",
   "pygments_lexer": "ipython3",
   "version": "3.13.5"
  }
 },
 "nbformat": 4,
 "nbformat_minor": 5
}
