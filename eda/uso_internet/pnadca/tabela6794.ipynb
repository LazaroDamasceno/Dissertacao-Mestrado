{
 "cells": [
  {
   "cell_type": "code",
   "execution_count": 1,
   "id": "024f217a",
   "metadata": {},
   "outputs": [],
   "source": [
    "import pandas as pd"
   ]
  },
  {
   "cell_type": "code",
   "execution_count": 2,
   "id": "612fd0ec",
   "metadata": {},
   "outputs": [],
   "source": [
    "df = pd.read_excel('tabela_6794.xlsx')"
   ]
  },
  {
   "cell_type": "code",
   "execution_count": 3,
   "id": "547a5600",
   "metadata": {},
   "outputs": [
    {
     "name": "stdout",
     "output_type": "stream",
     "text": [
      "<class 'pandas.core.frame.DataFrame'>\n",
      "RangeIndex: 5 entries, 0 to 4\n",
      "Data columns (total 8 columns):\n",
      " #   Column  Non-Null Count  Dtype \n",
      "---  ------  --------------  ----- \n",
      " 0   Região  5 non-null      object\n",
      " 1   2016    5 non-null      int64 \n",
      " 2   2017    5 non-null      int64 \n",
      " 3   2018    5 non-null      int64 \n",
      " 4   2019    5 non-null      int64 \n",
      " 5   2021    5 non-null      int64 \n",
      " 6   2022    5 non-null      int64 \n",
      " 7   2023    5 non-null      int64 \n",
      "dtypes: int64(7), object(1)\n",
      "memory usage: 452.0+ bytes\n"
     ]
    }
   ],
   "source": [
    "df.info()"
   ]
  },
  {
   "cell_type": "code",
   "execution_count": 4,
   "id": "3b3ca6da",
   "metadata": {},
   "outputs": [
    {
     "data": {
      "application/vnd.microsoft.datawrangler.viewer.v0+json": {
       "columns": [
        {
         "name": "index",
         "rawType": "int64",
         "type": "integer"
        },
        {
         "name": "Região",
         "rawType": "object",
         "type": "string"
        },
        {
         "name": "2016",
         "rawType": "int64",
         "type": "integer"
        },
        {
         "name": "2017",
         "rawType": "int64",
         "type": "integer"
        },
        {
         "name": "2018",
         "rawType": "int64",
         "type": "integer"
        },
        {
         "name": "2019",
         "rawType": "int64",
         "type": "integer"
        },
        {
         "name": "2021",
         "rawType": "int64",
         "type": "integer"
        },
        {
         "name": "2022",
         "rawType": "int64",
         "type": "integer"
        },
        {
         "name": "2023",
         "rawType": "int64",
         "type": "integer"
        }
       ],
       "ref": "3110520c-43cb-4cf9-9cfe-bc81c2cbc24f",
       "rows": [
        [
         "0",
         "Norte",
         "11571",
         "11941",
         "12239",
         "12480",
         "13011",
         "13170",
         "13418"
        ],
        [
         "1",
         "Nordeste",
         "39714",
         "40243",
         "40742",
         "41274",
         "42100",
         "42571",
         "42951"
        ],
        [
         "2",
         "Sudeste",
         "65431",
         "66314",
         "67199",
         "67984",
         "69510",
         "69989",
         "70503"
        ],
        [
         "3",
         "Sul",
         "22089",
         "22429",
         "22739",
         "22917",
         "23333",
         "23527",
         "23753"
        ],
        [
         "4",
         "Centro-Oeste",
         "11311",
         "11566",
         "11760",
         "11901",
         "12166",
         "12439",
         "12769"
        ]
       ],
       "shape": {
        "columns": 8,
        "rows": 5
       }
      },
      "text/html": [
       "<div>\n",
       "<style scoped>\n",
       "    .dataframe tbody tr th:only-of-type {\n",
       "        vertical-align: middle;\n",
       "    }\n",
       "\n",
       "    .dataframe tbody tr th {\n",
       "        vertical-align: top;\n",
       "    }\n",
       "\n",
       "    .dataframe thead th {\n",
       "        text-align: right;\n",
       "    }\n",
       "</style>\n",
       "<table border=\"1\" class=\"dataframe\">\n",
       "  <thead>\n",
       "    <tr style=\"text-align: right;\">\n",
       "      <th></th>\n",
       "      <th>Região</th>\n",
       "      <th>2016</th>\n",
       "      <th>2017</th>\n",
       "      <th>2018</th>\n",
       "      <th>2019</th>\n",
       "      <th>2021</th>\n",
       "      <th>2022</th>\n",
       "      <th>2023</th>\n",
       "    </tr>\n",
       "  </thead>\n",
       "  <tbody>\n",
       "    <tr>\n",
       "      <th>0</th>\n",
       "      <td>Norte</td>\n",
       "      <td>11571</td>\n",
       "      <td>11941</td>\n",
       "      <td>12239</td>\n",
       "      <td>12480</td>\n",
       "      <td>13011</td>\n",
       "      <td>13170</td>\n",
       "      <td>13418</td>\n",
       "    </tr>\n",
       "    <tr>\n",
       "      <th>1</th>\n",
       "      <td>Nordeste</td>\n",
       "      <td>39714</td>\n",
       "      <td>40243</td>\n",
       "      <td>40742</td>\n",
       "      <td>41274</td>\n",
       "      <td>42100</td>\n",
       "      <td>42571</td>\n",
       "      <td>42951</td>\n",
       "    </tr>\n",
       "    <tr>\n",
       "      <th>2</th>\n",
       "      <td>Sudeste</td>\n",
       "      <td>65431</td>\n",
       "      <td>66314</td>\n",
       "      <td>67199</td>\n",
       "      <td>67984</td>\n",
       "      <td>69510</td>\n",
       "      <td>69989</td>\n",
       "      <td>70503</td>\n",
       "    </tr>\n",
       "    <tr>\n",
       "      <th>3</th>\n",
       "      <td>Sul</td>\n",
       "      <td>22089</td>\n",
       "      <td>22429</td>\n",
       "      <td>22739</td>\n",
       "      <td>22917</td>\n",
       "      <td>23333</td>\n",
       "      <td>23527</td>\n",
       "      <td>23753</td>\n",
       "    </tr>\n",
       "    <tr>\n",
       "      <th>4</th>\n",
       "      <td>Centro-Oeste</td>\n",
       "      <td>11311</td>\n",
       "      <td>11566</td>\n",
       "      <td>11760</td>\n",
       "      <td>11901</td>\n",
       "      <td>12166</td>\n",
       "      <td>12439</td>\n",
       "      <td>12769</td>\n",
       "    </tr>\n",
       "  </tbody>\n",
       "</table>\n",
       "</div>"
      ],
      "text/plain": [
       "         Região   2016   2017   2018   2019   2021   2022   2023\n",
       "0         Norte  11571  11941  12239  12480  13011  13170  13418\n",
       "1      Nordeste  39714  40243  40742  41274  42100  42571  42951\n",
       "2       Sudeste  65431  66314  67199  67984  69510  69989  70503\n",
       "3           Sul  22089  22429  22739  22917  23333  23527  23753\n",
       "4  Centro-Oeste  11311  11566  11760  11901  12166  12439  12769"
      ]
     },
     "execution_count": 4,
     "metadata": {},
     "output_type": "execute_result"
    }
   ],
   "source": [
    "df.head()"
   ]
  },
  {
   "cell_type": "code",
   "execution_count": 5,
   "id": "6ff48e22",
   "metadata": {},
   "outputs": [],
   "source": [
    "df['2016'] = df['2016'].apply(lambda x: x*1000)\n",
    "df['2017'] = df['2017'].apply(lambda x: x*1000)\n",
    "df['2018'] = df['2018'].apply(lambda x: x*1000)\n",
    "df['2019'] = df['2019'].apply(lambda x: x*1000)\n",
    "df['2021'] = df['2021'].apply(lambda x: x*1000)\n",
    "df['2022'] = df['2022'].apply(lambda x: x*1000)\n",
    "df['2023'] = df['2023'].apply(lambda x: x*1000)"
   ]
  },
  {
   "cell_type": "code",
   "execution_count": 6,
   "id": "a454258b",
   "metadata": {},
   "outputs": [
    {
     "data": {
      "application/vnd.microsoft.datawrangler.viewer.v0+json": {
       "columns": [
        {
         "name": "index",
         "rawType": "int64",
         "type": "integer"
        },
        {
         "name": "Região",
         "rawType": "object",
         "type": "string"
        },
        {
         "name": "2016",
         "rawType": "int64",
         "type": "integer"
        },
        {
         "name": "2017",
         "rawType": "int64",
         "type": "integer"
        },
        {
         "name": "2018",
         "rawType": "int64",
         "type": "integer"
        },
        {
         "name": "2019",
         "rawType": "int64",
         "type": "integer"
        },
        {
         "name": "2021",
         "rawType": "int64",
         "type": "integer"
        },
        {
         "name": "2022",
         "rawType": "int64",
         "type": "integer"
        },
        {
         "name": "2023",
         "rawType": "int64",
         "type": "integer"
        }
       ],
       "ref": "9cbf0b9e-2778-43e9-9834-a1f4f9dc6bec",
       "rows": [
        [
         "0",
         "Norte",
         "11571000",
         "11941000",
         "12239000",
         "12480000",
         "13011000",
         "13170000",
         "13418000"
        ],
        [
         "1",
         "Nordeste",
         "39714000",
         "40243000",
         "40742000",
         "41274000",
         "42100000",
         "42571000",
         "42951000"
        ],
        [
         "2",
         "Sudeste",
         "65431000",
         "66314000",
         "67199000",
         "67984000",
         "69510000",
         "69989000",
         "70503000"
        ],
        [
         "3",
         "Sul",
         "22089000",
         "22429000",
         "22739000",
         "22917000",
         "23333000",
         "23527000",
         "23753000"
        ],
        [
         "4",
         "Centro-Oeste",
         "11311000",
         "11566000",
         "11760000",
         "11901000",
         "12166000",
         "12439000",
         "12769000"
        ]
       ],
       "shape": {
        "columns": 8,
        "rows": 5
       }
      },
      "text/html": [
       "<div>\n",
       "<style scoped>\n",
       "    .dataframe tbody tr th:only-of-type {\n",
       "        vertical-align: middle;\n",
       "    }\n",
       "\n",
       "    .dataframe tbody tr th {\n",
       "        vertical-align: top;\n",
       "    }\n",
       "\n",
       "    .dataframe thead th {\n",
       "        text-align: right;\n",
       "    }\n",
       "</style>\n",
       "<table border=\"1\" class=\"dataframe\">\n",
       "  <thead>\n",
       "    <tr style=\"text-align: right;\">\n",
       "      <th></th>\n",
       "      <th>Região</th>\n",
       "      <th>2016</th>\n",
       "      <th>2017</th>\n",
       "      <th>2018</th>\n",
       "      <th>2019</th>\n",
       "      <th>2021</th>\n",
       "      <th>2022</th>\n",
       "      <th>2023</th>\n",
       "    </tr>\n",
       "  </thead>\n",
       "  <tbody>\n",
       "    <tr>\n",
       "      <th>0</th>\n",
       "      <td>Norte</td>\n",
       "      <td>11571000</td>\n",
       "      <td>11941000</td>\n",
       "      <td>12239000</td>\n",
       "      <td>12480000</td>\n",
       "      <td>13011000</td>\n",
       "      <td>13170000</td>\n",
       "      <td>13418000</td>\n",
       "    </tr>\n",
       "    <tr>\n",
       "      <th>1</th>\n",
       "      <td>Nordeste</td>\n",
       "      <td>39714000</td>\n",
       "      <td>40243000</td>\n",
       "      <td>40742000</td>\n",
       "      <td>41274000</td>\n",
       "      <td>42100000</td>\n",
       "      <td>42571000</td>\n",
       "      <td>42951000</td>\n",
       "    </tr>\n",
       "    <tr>\n",
       "      <th>2</th>\n",
       "      <td>Sudeste</td>\n",
       "      <td>65431000</td>\n",
       "      <td>66314000</td>\n",
       "      <td>67199000</td>\n",
       "      <td>67984000</td>\n",
       "      <td>69510000</td>\n",
       "      <td>69989000</td>\n",
       "      <td>70503000</td>\n",
       "    </tr>\n",
       "    <tr>\n",
       "      <th>3</th>\n",
       "      <td>Sul</td>\n",
       "      <td>22089000</td>\n",
       "      <td>22429000</td>\n",
       "      <td>22739000</td>\n",
       "      <td>22917000</td>\n",
       "      <td>23333000</td>\n",
       "      <td>23527000</td>\n",
       "      <td>23753000</td>\n",
       "    </tr>\n",
       "    <tr>\n",
       "      <th>4</th>\n",
       "      <td>Centro-Oeste</td>\n",
       "      <td>11311000</td>\n",
       "      <td>11566000</td>\n",
       "      <td>11760000</td>\n",
       "      <td>11901000</td>\n",
       "      <td>12166000</td>\n",
       "      <td>12439000</td>\n",
       "      <td>12769000</td>\n",
       "    </tr>\n",
       "  </tbody>\n",
       "</table>\n",
       "</div>"
      ],
      "text/plain": [
       "         Região      2016      2017      2018      2019      2021      2022  \\\n",
       "0         Norte  11571000  11941000  12239000  12480000  13011000  13170000   \n",
       "1      Nordeste  39714000  40243000  40742000  41274000  42100000  42571000   \n",
       "2       Sudeste  65431000  66314000  67199000  67984000  69510000  69989000   \n",
       "3           Sul  22089000  22429000  22739000  22917000  23333000  23527000   \n",
       "4  Centro-Oeste  11311000  11566000  11760000  11901000  12166000  12439000   \n",
       "\n",
       "       2023  \n",
       "0  13418000  \n",
       "1  42951000  \n",
       "2  70503000  \n",
       "3  23753000  \n",
       "4  12769000  "
      ]
     },
     "execution_count": 6,
     "metadata": {},
     "output_type": "execute_result"
    }
   ],
   "source": [
    "df.head(10)"
   ]
  },
  {
   "cell_type": "code",
   "execution_count": 7,
   "id": "6d0aa695",
   "metadata": {},
   "outputs": [],
   "source": [
    "df_melt = df.melt(\n",
    "    id_vars='Região',\n",
    "    value_vars=['2016', '2017', '2018', '2019', '2021', '2022', '2023'],\n",
    "    var_name='Ano',\n",
    "    value_name='Quantidade'\n",
    ")"
   ]
  },
  {
   "cell_type": "code",
   "execution_count": 8,
   "id": "586a1d14",
   "metadata": {},
   "outputs": [
    {
     "data": {
      "application/vnd.microsoft.datawrangler.viewer.v0+json": {
       "columns": [
        {
         "name": "index",
         "rawType": "int64",
         "type": "integer"
        },
        {
         "name": "Região",
         "rawType": "object",
         "type": "string"
        },
        {
         "name": "Ano",
         "rawType": "object",
         "type": "string"
        },
        {
         "name": "Quantidade",
         "rawType": "int64",
         "type": "integer"
        }
       ],
       "ref": "802e02f3-c56e-4b41-a084-9d2e439770e8",
       "rows": [
        [
         "0",
         "Norte",
         "2016",
         "11571000"
        ],
        [
         "1",
         "Nordeste",
         "2016",
         "39714000"
        ],
        [
         "2",
         "Sudeste",
         "2016",
         "65431000"
        ],
        [
         "3",
         "Sul",
         "2016",
         "22089000"
        ],
        [
         "4",
         "Centro-Oeste",
         "2016",
         "11311000"
        ],
        [
         "5",
         "Norte",
         "2017",
         "11941000"
        ],
        [
         "6",
         "Nordeste",
         "2017",
         "40243000"
        ],
        [
         "7",
         "Sudeste",
         "2017",
         "66314000"
        ],
        [
         "8",
         "Sul",
         "2017",
         "22429000"
        ],
        [
         "9",
         "Centro-Oeste",
         "2017",
         "11566000"
        ]
       ],
       "shape": {
        "columns": 3,
        "rows": 10
       }
      },
      "text/html": [
       "<div>\n",
       "<style scoped>\n",
       "    .dataframe tbody tr th:only-of-type {\n",
       "        vertical-align: middle;\n",
       "    }\n",
       "\n",
       "    .dataframe tbody tr th {\n",
       "        vertical-align: top;\n",
       "    }\n",
       "\n",
       "    .dataframe thead th {\n",
       "        text-align: right;\n",
       "    }\n",
       "</style>\n",
       "<table border=\"1\" class=\"dataframe\">\n",
       "  <thead>\n",
       "    <tr style=\"text-align: right;\">\n",
       "      <th></th>\n",
       "      <th>Região</th>\n",
       "      <th>Ano</th>\n",
       "      <th>Quantidade</th>\n",
       "    </tr>\n",
       "  </thead>\n",
       "  <tbody>\n",
       "    <tr>\n",
       "      <th>0</th>\n",
       "      <td>Norte</td>\n",
       "      <td>2016</td>\n",
       "      <td>11571000</td>\n",
       "    </tr>\n",
       "    <tr>\n",
       "      <th>1</th>\n",
       "      <td>Nordeste</td>\n",
       "      <td>2016</td>\n",
       "      <td>39714000</td>\n",
       "    </tr>\n",
       "    <tr>\n",
       "      <th>2</th>\n",
       "      <td>Sudeste</td>\n",
       "      <td>2016</td>\n",
       "      <td>65431000</td>\n",
       "    </tr>\n",
       "    <tr>\n",
       "      <th>3</th>\n",
       "      <td>Sul</td>\n",
       "      <td>2016</td>\n",
       "      <td>22089000</td>\n",
       "    </tr>\n",
       "    <tr>\n",
       "      <th>4</th>\n",
       "      <td>Centro-Oeste</td>\n",
       "      <td>2016</td>\n",
       "      <td>11311000</td>\n",
       "    </tr>\n",
       "    <tr>\n",
       "      <th>5</th>\n",
       "      <td>Norte</td>\n",
       "      <td>2017</td>\n",
       "      <td>11941000</td>\n",
       "    </tr>\n",
       "    <tr>\n",
       "      <th>6</th>\n",
       "      <td>Nordeste</td>\n",
       "      <td>2017</td>\n",
       "      <td>40243000</td>\n",
       "    </tr>\n",
       "    <tr>\n",
       "      <th>7</th>\n",
       "      <td>Sudeste</td>\n",
       "      <td>2017</td>\n",
       "      <td>66314000</td>\n",
       "    </tr>\n",
       "    <tr>\n",
       "      <th>8</th>\n",
       "      <td>Sul</td>\n",
       "      <td>2017</td>\n",
       "      <td>22429000</td>\n",
       "    </tr>\n",
       "    <tr>\n",
       "      <th>9</th>\n",
       "      <td>Centro-Oeste</td>\n",
       "      <td>2017</td>\n",
       "      <td>11566000</td>\n",
       "    </tr>\n",
       "  </tbody>\n",
       "</table>\n",
       "</div>"
      ],
      "text/plain": [
       "         Região   Ano  Quantidade\n",
       "0         Norte  2016    11571000\n",
       "1      Nordeste  2016    39714000\n",
       "2       Sudeste  2016    65431000\n",
       "3           Sul  2016    22089000\n",
       "4  Centro-Oeste  2016    11311000\n",
       "5         Norte  2017    11941000\n",
       "6      Nordeste  2017    40243000\n",
       "7       Sudeste  2017    66314000\n",
       "8           Sul  2017    22429000\n",
       "9  Centro-Oeste  2017    11566000"
      ]
     },
     "execution_count": 8,
     "metadata": {},
     "output_type": "execute_result"
    }
   ],
   "source": [
    "df_melt.head(10)"
   ]
  },
  {
   "cell_type": "code",
   "execution_count": 9,
   "id": "3e496a9b",
   "metadata": {},
   "outputs": [
    {
     "data": {
      "application/vnd.microsoft.datawrangler.viewer.v0+json": {
       "columns": [
        {
         "name": "index",
         "rawType": "object",
         "type": "string"
        },
        {
         "name": "0",
         "rawType": "object",
         "type": "unknown"
        }
       ],
       "ref": "87aae48a-637d-449b-82df-2ead2caf0140",
       "rows": [
        [
         "Região",
         "object"
        ],
        [
         "Ano",
         "object"
        ],
        [
         "Quantidade",
         "int64"
        ]
       ],
       "shape": {
        "columns": 1,
        "rows": 3
       }
      },
      "text/plain": [
       "Região        object\n",
       "Ano           object\n",
       "Quantidade     int64\n",
       "dtype: object"
      ]
     },
     "execution_count": 9,
     "metadata": {},
     "output_type": "execute_result"
    }
   ],
   "source": [
    "df_melt.dtypes"
   ]
  },
  {
   "cell_type": "code",
   "execution_count": 10,
   "id": "8fbf0a77",
   "metadata": {},
   "outputs": [],
   "source": [
    "df_melt['Ano'] = df_melt['Ano'].astype(int)"
   ]
  },
  {
   "cell_type": "code",
   "execution_count": 11,
   "id": "52b25f1a",
   "metadata": {},
   "outputs": [],
   "source": [
    "# Para lineplot\n",
    "\n",
    "df_melt.to_csv('tabela_6974.csv')"
   ]
  },
  {
   "cell_type": "markdown",
   "id": "3ca7d7ee",
   "metadata": {},
   "source": [
    "# Para o mapa coroplético"
   ]
  },
  {
   "cell_type": "code",
   "execution_count": 12,
   "id": "c2f51282",
   "metadata": {},
   "outputs": [],
   "source": [
    "max_2016 = df['2016'].sum()\n",
    "max_2017 = df['2017'].sum()\n",
    "max_2018 = df['2018'].sum()\n",
    "max_2019 = df['2019'].sum()\n",
    "max_2021 = df['2021'].sum()\n",
    "max_2022 = df['2022'].sum()\n",
    "max_2023 = df['2023'].sum()"
   ]
  },
  {
   "cell_type": "code",
   "execution_count": 13,
   "id": "c3c27e8d",
   "metadata": {},
   "outputs": [],
   "source": [
    "df_percentage = pd.DataFrame()\n",
    "df_percentage['Região'] = df['Região']\n",
    "df_percentage['2016'] = df['2016'].apply(lambda x: (x * 1.0)/max_2016)\n",
    "df_percentage['2017'] = df['2017'].apply(lambda x: (x * 1.0)/max_2017)\n",
    "df_percentage['2018'] = df['2018'].apply(lambda x: (x * 1.0)/max_2018)\n",
    "df_percentage['2019'] = df['2019'].apply(lambda x: (x * 1.0)/max_2019)\n",
    "df_percentage['2021'] = df['2021'].apply(lambda x: (x * 1.0)/max_2021)\n",
    "df_percentage['2022'] = df['2022'].apply(lambda x: (x * 1.0)/max_2022)\n",
    "df_percentage['2023'] = df['2023'].apply(lambda x: (x * 1.0)/max_2023)"
   ]
  },
  {
   "cell_type": "code",
   "execution_count": 14,
   "id": "e92f9bd2",
   "metadata": {},
   "outputs": [],
   "source": [
    "df_2016 = df_percentage.melt(\n",
    "    id_vars='Região',\n",
    "    value_vars='2016',\n",
    "    var_name='Ano',\n",
    "    value_name='Quantidade'\n",
    ")\n",
    "df_2016['Ano'] = df_2016['Ano'].astype(int)"
   ]
  },
  {
   "cell_type": "code",
   "execution_count": 15,
   "id": "b82f3451",
   "metadata": {},
   "outputs": [],
   "source": [
    "df_2017 = df_percentage.melt(\n",
    "    id_vars='Região',\n",
    "    value_vars='2017',\n",
    "    var_name='Ano',\n",
    "    value_name='Quantidade'\n",
    ")\n",
    "df_2017['Ano'] = df_2017['Ano'].astype(int)"
   ]
  },
  {
   "cell_type": "code",
   "execution_count": 16,
   "id": "abe5fbd8",
   "metadata": {},
   "outputs": [],
   "source": [
    "df_2018 = df_percentage.melt(\n",
    "    id_vars='Região',\n",
    "    value_vars='2018',\n",
    "    var_name='Ano',\n",
    "    value_name='Quantidade'\n",
    ")\n",
    "df_2018['Ano'] = df_2018['Ano'].astype(int)"
   ]
  },
  {
   "cell_type": "code",
   "execution_count": 17,
   "id": "3c0dc642",
   "metadata": {},
   "outputs": [],
   "source": [
    "df_2019 = df_percentage.melt(\n",
    "    id_vars='Região',\n",
    "    value_vars='2019',\n",
    "    var_name='Ano',\n",
    "    value_name='Quantidade'\n",
    ")\n",
    "df_2019['Ano'] = df_2019['Ano'].astype(int)"
   ]
  },
  {
   "cell_type": "code",
   "execution_count": 18,
   "id": "8bd40d4c",
   "metadata": {},
   "outputs": [],
   "source": [
    "df_2021 = df_percentage.melt(\n",
    "    id_vars='Região',\n",
    "    value_vars='2021',\n",
    "    var_name='Ano',\n",
    "    value_name='Quantidade'\n",
    ")\n",
    "df_2021['Ano'] = df_2021['Ano'].astype(int)"
   ]
  },
  {
   "cell_type": "code",
   "execution_count": 19,
   "id": "a56f4b89",
   "metadata": {},
   "outputs": [],
   "source": [
    "df_2022 = df_percentage.melt(\n",
    "    id_vars='Região',\n",
    "    value_vars='2022',\n",
    "    var_name='Ano',\n",
    "    value_name='Quantidade'\n",
    ")\n",
    "df_2022['Ano'] = df_2022['Ano'].astype(int)"
   ]
  },
  {
   "cell_type": "code",
   "execution_count": 20,
   "id": "283ec3d7",
   "metadata": {},
   "outputs": [],
   "source": [
    "df_2023 = df_percentage.melt(\n",
    "    id_vars='Região',\n",
    "    value_vars='2023',\n",
    "    var_name='Ano',\n",
    "    value_name='Quantidade'\n",
    ")\n",
    "df_2023['Ano'] = df_2023['Ano'].astype(int)"
   ]
  },
  {
   "cell_type": "code",
   "execution_count": 21,
   "id": "9ed2ecc9",
   "metadata": {},
   "outputs": [
    {
     "data": {
      "application/vnd.microsoft.datawrangler.viewer.v0+json": {
       "columns": [
        {
         "name": "index",
         "rawType": "int64",
         "type": "integer"
        },
        {
         "name": "Região",
         "rawType": "object",
         "type": "string"
        },
        {
         "name": "Ano",
         "rawType": "int64",
         "type": "integer"
        },
        {
         "name": "Quantidade",
         "rawType": "float64",
         "type": "float"
        }
       ],
       "ref": "b43fcadc-f8f7-496f-a2ec-268c6776f10e",
       "rows": [
        [
         "0",
         "Norte",
         "2023",
         "0.08212051850129136"
        ],
        [
         "1",
         "Nordeste",
         "2023",
         "0.2628676695594698"
        ],
        [
         "2",
         "Sudeste",
         "2023",
         "0.4314907524144093"
        ],
        [
         "3",
         "Sul",
         "2023",
         "0.14537253509920806"
        ],
        [
         "4",
         "Centro-Oeste",
         "2023",
         "0.07814852442562151"
        ]
       ],
       "shape": {
        "columns": 3,
        "rows": 5
       }
      },
      "text/html": [
       "<div>\n",
       "<style scoped>\n",
       "    .dataframe tbody tr th:only-of-type {\n",
       "        vertical-align: middle;\n",
       "    }\n",
       "\n",
       "    .dataframe tbody tr th {\n",
       "        vertical-align: top;\n",
       "    }\n",
       "\n",
       "    .dataframe thead th {\n",
       "        text-align: right;\n",
       "    }\n",
       "</style>\n",
       "<table border=\"1\" class=\"dataframe\">\n",
       "  <thead>\n",
       "    <tr style=\"text-align: right;\">\n",
       "      <th></th>\n",
       "      <th>Região</th>\n",
       "      <th>Ano</th>\n",
       "      <th>Quantidade</th>\n",
       "    </tr>\n",
       "  </thead>\n",
       "  <tbody>\n",
       "    <tr>\n",
       "      <th>0</th>\n",
       "      <td>Norte</td>\n",
       "      <td>2023</td>\n",
       "      <td>0.082121</td>\n",
       "    </tr>\n",
       "    <tr>\n",
       "      <th>1</th>\n",
       "      <td>Nordeste</td>\n",
       "      <td>2023</td>\n",
       "      <td>0.262868</td>\n",
       "    </tr>\n",
       "    <tr>\n",
       "      <th>2</th>\n",
       "      <td>Sudeste</td>\n",
       "      <td>2023</td>\n",
       "      <td>0.431491</td>\n",
       "    </tr>\n",
       "    <tr>\n",
       "      <th>3</th>\n",
       "      <td>Sul</td>\n",
       "      <td>2023</td>\n",
       "      <td>0.145373</td>\n",
       "    </tr>\n",
       "    <tr>\n",
       "      <th>4</th>\n",
       "      <td>Centro-Oeste</td>\n",
       "      <td>2023</td>\n",
       "      <td>0.078149</td>\n",
       "    </tr>\n",
       "  </tbody>\n",
       "</table>\n",
       "</div>"
      ],
      "text/plain": [
       "         Região   Ano  Quantidade\n",
       "0         Norte  2023    0.082121\n",
       "1      Nordeste  2023    0.262868\n",
       "2       Sudeste  2023    0.431491\n",
       "3           Sul  2023    0.145373\n",
       "4  Centro-Oeste  2023    0.078149"
      ]
     },
     "execution_count": 21,
     "metadata": {},
     "output_type": "execute_result"
    }
   ],
   "source": [
    "df_2023"
   ]
  }
 ],
 "metadata": {
  "kernelspec": {
   "display_name": "Python 3",
   "language": "python",
   "name": "python3"
  },
  "language_info": {
   "codemirror_mode": {
    "name": "ipython",
    "version": 3
   },
   "file_extension": ".py",
   "mimetype": "text/x-python",
   "name": "python",
   "nbconvert_exporter": "python",
   "pygments_lexer": "ipython3",
   "version": "3.13.5"
  }
 },
 "nbformat": 4,
 "nbformat_minor": 5
}
