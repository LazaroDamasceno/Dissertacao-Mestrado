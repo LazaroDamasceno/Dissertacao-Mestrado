{
 "cells": [
  {
   "cell_type": "code",
   "execution_count": 55,
   "id": "024f217a",
   "metadata": {},
   "outputs": [],
   "source": [
    "import pandas as pd"
   ]
  },
  {
   "cell_type": "code",
   "execution_count": 56,
   "id": "612fd0ec",
   "metadata": {},
   "outputs": [],
   "source": [
    "df = pd.read_excel('tabela_6794.xlsx')"
   ]
  },
  {
   "cell_type": "code",
   "execution_count": 57,
   "id": "547a5600",
   "metadata": {},
   "outputs": [
    {
     "name": "stdout",
     "output_type": "stream",
     "text": [
      "<class 'pandas.core.frame.DataFrame'>\n",
      "RangeIndex: 6 entries, 0 to 5\n",
      "Data columns (total 8 columns):\n",
      " #   Column  Non-Null Count  Dtype \n",
      "---  ------  --------------  ----- \n",
      " 0   Região  6 non-null      object\n",
      " 1   2016    6 non-null      int64 \n",
      " 2   2017    6 non-null      int64 \n",
      " 3   2018    6 non-null      int64 \n",
      " 4   2019    6 non-null      int64 \n",
      " 5   2021    6 non-null      int64 \n",
      " 6   2022    6 non-null      int64 \n",
      " 7   2023    6 non-null      int64 \n",
      "dtypes: int64(7), object(1)\n",
      "memory usage: 516.0+ bytes\n"
     ]
    }
   ],
   "source": [
    "df.info()"
   ]
  },
  {
   "cell_type": "code",
   "execution_count": 58,
   "id": "3b3ca6da",
   "metadata": {},
   "outputs": [
    {
     "data": {
      "application/vnd.microsoft.datawrangler.viewer.v0+json": {
       "columns": [
        {
         "name": "index",
         "rawType": "int64",
         "type": "integer"
        },
        {
         "name": "Região",
         "rawType": "object",
         "type": "string"
        },
        {
         "name": "2016",
         "rawType": "int64",
         "type": "integer"
        },
        {
         "name": "2017",
         "rawType": "int64",
         "type": "integer"
        },
        {
         "name": "2018",
         "rawType": "int64",
         "type": "integer"
        },
        {
         "name": "2019",
         "rawType": "int64",
         "type": "integer"
        },
        {
         "name": "2021",
         "rawType": "int64",
         "type": "integer"
        },
        {
         "name": "2022",
         "rawType": "int64",
         "type": "integer"
        },
        {
         "name": "2023",
         "rawType": "int64",
         "type": "integer"
        }
       ],
       "ref": "58bcda00-3b65-454d-8bfa-09872c224cbf",
       "rows": [
        [
         "0",
         "Brasil",
         "150113",
         "152497",
         "154681",
         "156556",
         "160121",
         "161694",
         "163396"
        ],
        [
         "1",
         "Norte",
         "11571",
         "11941",
         "12239",
         "12480",
         "13011",
         "13170",
         "13418"
        ],
        [
         "2",
         "Nordeste",
         "39714",
         "40243",
         "40742",
         "41274",
         "42100",
         "42571",
         "42951"
        ],
        [
         "3",
         "Sudeste",
         "65431",
         "66314",
         "67199",
         "67984",
         "69510",
         "69989",
         "70503"
        ],
        [
         "4",
         "Sul",
         "22089",
         "22429",
         "22739",
         "22917",
         "23333",
         "23527",
         "23753"
        ]
       ],
       "shape": {
        "columns": 8,
        "rows": 5
       }
      },
      "text/html": [
       "<div>\n",
       "<style scoped>\n",
       "    .dataframe tbody tr th:only-of-type {\n",
       "        vertical-align: middle;\n",
       "    }\n",
       "\n",
       "    .dataframe tbody tr th {\n",
       "        vertical-align: top;\n",
       "    }\n",
       "\n",
       "    .dataframe thead th {\n",
       "        text-align: right;\n",
       "    }\n",
       "</style>\n",
       "<table border=\"1\" class=\"dataframe\">\n",
       "  <thead>\n",
       "    <tr style=\"text-align: right;\">\n",
       "      <th></th>\n",
       "      <th>Região</th>\n",
       "      <th>2016</th>\n",
       "      <th>2017</th>\n",
       "      <th>2018</th>\n",
       "      <th>2019</th>\n",
       "      <th>2021</th>\n",
       "      <th>2022</th>\n",
       "      <th>2023</th>\n",
       "    </tr>\n",
       "  </thead>\n",
       "  <tbody>\n",
       "    <tr>\n",
       "      <th>0</th>\n",
       "      <td>Brasil</td>\n",
       "      <td>150113</td>\n",
       "      <td>152497</td>\n",
       "      <td>154681</td>\n",
       "      <td>156556</td>\n",
       "      <td>160121</td>\n",
       "      <td>161694</td>\n",
       "      <td>163396</td>\n",
       "    </tr>\n",
       "    <tr>\n",
       "      <th>1</th>\n",
       "      <td>Norte</td>\n",
       "      <td>11571</td>\n",
       "      <td>11941</td>\n",
       "      <td>12239</td>\n",
       "      <td>12480</td>\n",
       "      <td>13011</td>\n",
       "      <td>13170</td>\n",
       "      <td>13418</td>\n",
       "    </tr>\n",
       "    <tr>\n",
       "      <th>2</th>\n",
       "      <td>Nordeste</td>\n",
       "      <td>39714</td>\n",
       "      <td>40243</td>\n",
       "      <td>40742</td>\n",
       "      <td>41274</td>\n",
       "      <td>42100</td>\n",
       "      <td>42571</td>\n",
       "      <td>42951</td>\n",
       "    </tr>\n",
       "    <tr>\n",
       "      <th>3</th>\n",
       "      <td>Sudeste</td>\n",
       "      <td>65431</td>\n",
       "      <td>66314</td>\n",
       "      <td>67199</td>\n",
       "      <td>67984</td>\n",
       "      <td>69510</td>\n",
       "      <td>69989</td>\n",
       "      <td>70503</td>\n",
       "    </tr>\n",
       "    <tr>\n",
       "      <th>4</th>\n",
       "      <td>Sul</td>\n",
       "      <td>22089</td>\n",
       "      <td>22429</td>\n",
       "      <td>22739</td>\n",
       "      <td>22917</td>\n",
       "      <td>23333</td>\n",
       "      <td>23527</td>\n",
       "      <td>23753</td>\n",
       "    </tr>\n",
       "  </tbody>\n",
       "</table>\n",
       "</div>"
      ],
      "text/plain": [
       "     Região    2016    2017    2018    2019    2021    2022    2023\n",
       "0    Brasil  150113  152497  154681  156556  160121  161694  163396\n",
       "1     Norte   11571   11941   12239   12480   13011   13170   13418\n",
       "2  Nordeste   39714   40243   40742   41274   42100   42571   42951\n",
       "3   Sudeste   65431   66314   67199   67984   69510   69989   70503\n",
       "4       Sul   22089   22429   22739   22917   23333   23527   23753"
      ]
     },
     "execution_count": 58,
     "metadata": {},
     "output_type": "execute_result"
    }
   ],
   "source": [
    "df.head()"
   ]
  },
  {
   "cell_type": "code",
   "execution_count": 59,
   "id": "6ff48e22",
   "metadata": {},
   "outputs": [],
   "source": [
    "df['2016'] = df['2016'].apply(lambda x: x*1000)\n",
    "df['2017'] = df['2017'].apply(lambda x: x*1000)\n",
    "df['2018'] = df['2018'].apply(lambda x: x*1000)\n",
    "df['2019'] = df['2019'].apply(lambda x: x*1000)\n",
    "df['2021'] = df['2021'].apply(lambda x: x*1000)\n",
    "df['2022'] = df['2022'].apply(lambda x: x*1000)\n",
    "df['2023'] = df['2023'].apply(lambda x: x*1000)"
   ]
  },
  {
   "cell_type": "code",
   "execution_count": 60,
   "id": "a454258b",
   "metadata": {},
   "outputs": [
    {
     "data": {
      "application/vnd.microsoft.datawrangler.viewer.v0+json": {
       "columns": [
        {
         "name": "index",
         "rawType": "int64",
         "type": "integer"
        },
        {
         "name": "Região",
         "rawType": "object",
         "type": "string"
        },
        {
         "name": "2016",
         "rawType": "int64",
         "type": "integer"
        },
        {
         "name": "2017",
         "rawType": "int64",
         "type": "integer"
        },
        {
         "name": "2018",
         "rawType": "int64",
         "type": "integer"
        },
        {
         "name": "2019",
         "rawType": "int64",
         "type": "integer"
        },
        {
         "name": "2021",
         "rawType": "int64",
         "type": "integer"
        },
        {
         "name": "2022",
         "rawType": "int64",
         "type": "integer"
        },
        {
         "name": "2023",
         "rawType": "int64",
         "type": "integer"
        }
       ],
       "ref": "cb8194d2-39c7-4274-8cd2-755c639f8edb",
       "rows": [
        [
         "0",
         "Brasil",
         "150113000",
         "152497000",
         "154681000",
         "156556000",
         "160121000",
         "161694000",
         "163396000"
        ],
        [
         "1",
         "Norte",
         "11571000",
         "11941000",
         "12239000",
         "12480000",
         "13011000",
         "13170000",
         "13418000"
        ],
        [
         "2",
         "Nordeste",
         "39714000",
         "40243000",
         "40742000",
         "41274000",
         "42100000",
         "42571000",
         "42951000"
        ],
        [
         "3",
         "Sudeste",
         "65431000",
         "66314000",
         "67199000",
         "67984000",
         "69510000",
         "69989000",
         "70503000"
        ],
        [
         "4",
         "Sul",
         "22089000",
         "22429000",
         "22739000",
         "22917000",
         "23333000",
         "23527000",
         "23753000"
        ],
        [
         "5",
         "Centro-Oeste",
         "11311000",
         "11566000",
         "11760000",
         "11901000",
         "12166000",
         "12439000",
         "12769000"
        ]
       ],
       "shape": {
        "columns": 8,
        "rows": 6
       }
      },
      "text/html": [
       "<div>\n",
       "<style scoped>\n",
       "    .dataframe tbody tr th:only-of-type {\n",
       "        vertical-align: middle;\n",
       "    }\n",
       "\n",
       "    .dataframe tbody tr th {\n",
       "        vertical-align: top;\n",
       "    }\n",
       "\n",
       "    .dataframe thead th {\n",
       "        text-align: right;\n",
       "    }\n",
       "</style>\n",
       "<table border=\"1\" class=\"dataframe\">\n",
       "  <thead>\n",
       "    <tr style=\"text-align: right;\">\n",
       "      <th></th>\n",
       "      <th>Região</th>\n",
       "      <th>2016</th>\n",
       "      <th>2017</th>\n",
       "      <th>2018</th>\n",
       "      <th>2019</th>\n",
       "      <th>2021</th>\n",
       "      <th>2022</th>\n",
       "      <th>2023</th>\n",
       "    </tr>\n",
       "  </thead>\n",
       "  <tbody>\n",
       "    <tr>\n",
       "      <th>0</th>\n",
       "      <td>Brasil</td>\n",
       "      <td>150113000</td>\n",
       "      <td>152497000</td>\n",
       "      <td>154681000</td>\n",
       "      <td>156556000</td>\n",
       "      <td>160121000</td>\n",
       "      <td>161694000</td>\n",
       "      <td>163396000</td>\n",
       "    </tr>\n",
       "    <tr>\n",
       "      <th>1</th>\n",
       "      <td>Norte</td>\n",
       "      <td>11571000</td>\n",
       "      <td>11941000</td>\n",
       "      <td>12239000</td>\n",
       "      <td>12480000</td>\n",
       "      <td>13011000</td>\n",
       "      <td>13170000</td>\n",
       "      <td>13418000</td>\n",
       "    </tr>\n",
       "    <tr>\n",
       "      <th>2</th>\n",
       "      <td>Nordeste</td>\n",
       "      <td>39714000</td>\n",
       "      <td>40243000</td>\n",
       "      <td>40742000</td>\n",
       "      <td>41274000</td>\n",
       "      <td>42100000</td>\n",
       "      <td>42571000</td>\n",
       "      <td>42951000</td>\n",
       "    </tr>\n",
       "    <tr>\n",
       "      <th>3</th>\n",
       "      <td>Sudeste</td>\n",
       "      <td>65431000</td>\n",
       "      <td>66314000</td>\n",
       "      <td>67199000</td>\n",
       "      <td>67984000</td>\n",
       "      <td>69510000</td>\n",
       "      <td>69989000</td>\n",
       "      <td>70503000</td>\n",
       "    </tr>\n",
       "    <tr>\n",
       "      <th>4</th>\n",
       "      <td>Sul</td>\n",
       "      <td>22089000</td>\n",
       "      <td>22429000</td>\n",
       "      <td>22739000</td>\n",
       "      <td>22917000</td>\n",
       "      <td>23333000</td>\n",
       "      <td>23527000</td>\n",
       "      <td>23753000</td>\n",
       "    </tr>\n",
       "    <tr>\n",
       "      <th>5</th>\n",
       "      <td>Centro-Oeste</td>\n",
       "      <td>11311000</td>\n",
       "      <td>11566000</td>\n",
       "      <td>11760000</td>\n",
       "      <td>11901000</td>\n",
       "      <td>12166000</td>\n",
       "      <td>12439000</td>\n",
       "      <td>12769000</td>\n",
       "    </tr>\n",
       "  </tbody>\n",
       "</table>\n",
       "</div>"
      ],
      "text/plain": [
       "         Região       2016       2017       2018       2019       2021  \\\n",
       "0        Brasil  150113000  152497000  154681000  156556000  160121000   \n",
       "1         Norte   11571000   11941000   12239000   12480000   13011000   \n",
       "2      Nordeste   39714000   40243000   40742000   41274000   42100000   \n",
       "3       Sudeste   65431000   66314000   67199000   67984000   69510000   \n",
       "4           Sul   22089000   22429000   22739000   22917000   23333000   \n",
       "5  Centro-Oeste   11311000   11566000   11760000   11901000   12166000   \n",
       "\n",
       "        2022       2023  \n",
       "0  161694000  163396000  \n",
       "1   13170000   13418000  \n",
       "2   42571000   42951000  \n",
       "3   69989000   70503000  \n",
       "4   23527000   23753000  \n",
       "5   12439000   12769000  "
      ]
     },
     "execution_count": 60,
     "metadata": {},
     "output_type": "execute_result"
    }
   ],
   "source": [
    "df.head(10)"
   ]
  },
  {
   "cell_type": "code",
   "execution_count": 61,
   "id": "6d0aa695",
   "metadata": {},
   "outputs": [],
   "source": [
    "df = df.melt(\n",
    "    id_vars='Região',\n",
    "    value_vars=['2016', '2017', '2018', '2019', '2021', '2022', '2023'],\n",
    "    var_name='Ano',\n",
    "    value_name='Quantidade'\n",
    ")"
   ]
  },
  {
   "cell_type": "code",
   "execution_count": 62,
   "id": "586a1d14",
   "metadata": {},
   "outputs": [
    {
     "data": {
      "application/vnd.microsoft.datawrangler.viewer.v0+json": {
       "columns": [
        {
         "name": "index",
         "rawType": "int64",
         "type": "integer"
        },
        {
         "name": "Região",
         "rawType": "object",
         "type": "string"
        },
        {
         "name": "Ano",
         "rawType": "object",
         "type": "string"
        },
        {
         "name": "Quantidade",
         "rawType": "int64",
         "type": "integer"
        }
       ],
       "ref": "efa2686e-4eef-481f-8dba-cdb1cd71b75b",
       "rows": [
        [
         "0",
         "Brasil",
         "2016",
         "150113000"
        ],
        [
         "1",
         "Norte",
         "2016",
         "11571000"
        ],
        [
         "2",
         "Nordeste",
         "2016",
         "39714000"
        ],
        [
         "3",
         "Sudeste",
         "2016",
         "65431000"
        ],
        [
         "4",
         "Sul",
         "2016",
         "22089000"
        ],
        [
         "5",
         "Centro-Oeste",
         "2016",
         "11311000"
        ],
        [
         "6",
         "Brasil",
         "2017",
         "152497000"
        ],
        [
         "7",
         "Norte",
         "2017",
         "11941000"
        ],
        [
         "8",
         "Nordeste",
         "2017",
         "40243000"
        ],
        [
         "9",
         "Sudeste",
         "2017",
         "66314000"
        ]
       ],
       "shape": {
        "columns": 3,
        "rows": 10
       }
      },
      "text/html": [
       "<div>\n",
       "<style scoped>\n",
       "    .dataframe tbody tr th:only-of-type {\n",
       "        vertical-align: middle;\n",
       "    }\n",
       "\n",
       "    .dataframe tbody tr th {\n",
       "        vertical-align: top;\n",
       "    }\n",
       "\n",
       "    .dataframe thead th {\n",
       "        text-align: right;\n",
       "    }\n",
       "</style>\n",
       "<table border=\"1\" class=\"dataframe\">\n",
       "  <thead>\n",
       "    <tr style=\"text-align: right;\">\n",
       "      <th></th>\n",
       "      <th>Região</th>\n",
       "      <th>Ano</th>\n",
       "      <th>Quantidade</th>\n",
       "    </tr>\n",
       "  </thead>\n",
       "  <tbody>\n",
       "    <tr>\n",
       "      <th>0</th>\n",
       "      <td>Brasil</td>\n",
       "      <td>2016</td>\n",
       "      <td>150113000</td>\n",
       "    </tr>\n",
       "    <tr>\n",
       "      <th>1</th>\n",
       "      <td>Norte</td>\n",
       "      <td>2016</td>\n",
       "      <td>11571000</td>\n",
       "    </tr>\n",
       "    <tr>\n",
       "      <th>2</th>\n",
       "      <td>Nordeste</td>\n",
       "      <td>2016</td>\n",
       "      <td>39714000</td>\n",
       "    </tr>\n",
       "    <tr>\n",
       "      <th>3</th>\n",
       "      <td>Sudeste</td>\n",
       "      <td>2016</td>\n",
       "      <td>65431000</td>\n",
       "    </tr>\n",
       "    <tr>\n",
       "      <th>4</th>\n",
       "      <td>Sul</td>\n",
       "      <td>2016</td>\n",
       "      <td>22089000</td>\n",
       "    </tr>\n",
       "    <tr>\n",
       "      <th>5</th>\n",
       "      <td>Centro-Oeste</td>\n",
       "      <td>2016</td>\n",
       "      <td>11311000</td>\n",
       "    </tr>\n",
       "    <tr>\n",
       "      <th>6</th>\n",
       "      <td>Brasil</td>\n",
       "      <td>2017</td>\n",
       "      <td>152497000</td>\n",
       "    </tr>\n",
       "    <tr>\n",
       "      <th>7</th>\n",
       "      <td>Norte</td>\n",
       "      <td>2017</td>\n",
       "      <td>11941000</td>\n",
       "    </tr>\n",
       "    <tr>\n",
       "      <th>8</th>\n",
       "      <td>Nordeste</td>\n",
       "      <td>2017</td>\n",
       "      <td>40243000</td>\n",
       "    </tr>\n",
       "    <tr>\n",
       "      <th>9</th>\n",
       "      <td>Sudeste</td>\n",
       "      <td>2017</td>\n",
       "      <td>66314000</td>\n",
       "    </tr>\n",
       "  </tbody>\n",
       "</table>\n",
       "</div>"
      ],
      "text/plain": [
       "         Região   Ano  Quantidade\n",
       "0        Brasil  2016   150113000\n",
       "1         Norte  2016    11571000\n",
       "2      Nordeste  2016    39714000\n",
       "3       Sudeste  2016    65431000\n",
       "4           Sul  2016    22089000\n",
       "5  Centro-Oeste  2016    11311000\n",
       "6        Brasil  2017   152497000\n",
       "7         Norte  2017    11941000\n",
       "8      Nordeste  2017    40243000\n",
       "9       Sudeste  2017    66314000"
      ]
     },
     "execution_count": 62,
     "metadata": {},
     "output_type": "execute_result"
    }
   ],
   "source": [
    "df.head(10)"
   ]
  },
  {
   "cell_type": "code",
   "execution_count": 63,
   "id": "e8dd2720",
   "metadata": {},
   "outputs": [],
   "source": [
    "df.to_csv('tabela_6974.csv')"
   ]
  }
 ],
 "metadata": {
  "kernelspec": {
   "display_name": "Python 3",
   "language": "python",
   "name": "python3"
  },
  "language_info": {
   "codemirror_mode": {
    "name": "ipython",
    "version": 3
   },
   "file_extension": ".py",
   "mimetype": "text/x-python",
   "name": "python",
   "nbconvert_exporter": "python",
   "pygments_lexer": "ipython3",
   "version": "3.13.5"
  }
 },
 "nbformat": 4,
 "nbformat_minor": 5
}
