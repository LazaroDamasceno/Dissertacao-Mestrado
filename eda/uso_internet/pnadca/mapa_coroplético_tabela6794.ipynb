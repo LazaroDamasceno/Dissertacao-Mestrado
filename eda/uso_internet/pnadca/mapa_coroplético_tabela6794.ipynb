{
 "cells": [
  {
   "cell_type": "code",
   "execution_count": null,
   "id": "024f217a",
   "metadata": {},
   "outputs": [],
   "source": [
    "import pandas as pd\n",
    "import itertools\n",
    "import requests\n",
    "import geopandas as gpd\n",
    "import plotly.express as xp"
   ]
  },
  {
   "cell_type": "markdown",
   "id": "b9b3034a",
   "metadata": {},
   "source": [
    "# DATA HANDLING"
   ]
  },
  {
   "cell_type": "code",
   "execution_count": null,
   "id": "232a18e1",
   "metadata": {},
   "outputs": [],
   "source": [
    "df = pd.read_excel('tabela6794.xlsx')"
   ]
  },
  {
   "cell_type": "code",
   "execution_count": null,
   "id": "e3d11944",
   "metadata": {},
   "outputs": [],
   "source": [
    "df['2016'] = df['2016'] / df['2016'].sum()\n",
    "df['2017'] = df['2017'] / df['2017'].sum()\n",
    "df['2018'] = df['2018'] / df['2018'].sum()\n",
    "df['2019'] = df['2019'] / df['2019'].sum()\n",
    "df['2021'] = df['2021'] / df['2021'].sum()\n",
    "df['2022'] = df['2022'] / df['2022'].sum()\n",
    "df['2023'] = df['2023'] / df['2023'].sum()"
   ]
  },
  {
   "cell_type": "code",
   "execution_count": null,
   "id": "bf7bb610",
   "metadata": {},
   "outputs": [],
   "source": [
    "df_tidy = df.melt(\n",
    "    id_vars='Grande Região',\n",
    "    value_vars=[str(i) for i in itertools.chain(range(2016, 2020), range(2021, 2024))],\n",
    "    var_name='Ano',\n",
    "    value_name='Porcentagem'\n",
    ")"
   ]
  },
  {
   "cell_type": "code",
   "execution_count": null,
   "id": "6ddab52a",
   "metadata": {},
   "outputs": [],
   "source": [
    "df_tidy['Ano'] = df_tidy['Ano'].astype(int)"
   ]
  },
  {
   "cell_type": "code",
   "execution_count": null,
   "id": "6a0d5992",
   "metadata": {},
   "outputs": [],
   "source": [
    "df_nordeste_2016 = df_tidy.loc[(df_tidy['Ano'] == 2016) & (df_tidy['Grande Região'] == 'Nordeste')]\n",
    "df_nordeste_2017 = df_tidy.loc[(df_tidy['Ano'] == 2017) & (df_tidy['Grande Região'] == 'Nordeste')]\n",
    "df_nordeste_2018 = df_tidy.loc[(df_tidy['Ano'] == 2018) & (df_tidy['Grande Região'] == 'Nordeste')]\n",
    "df_nordeste_2019 = df_tidy.loc[(df_tidy['Ano'] == 2019) & (df_tidy['Grande Região'] == 'Nordeste')]\n",
    "df_nordeste_2021 = df_tidy.loc[(df_tidy['Ano'] == 2021) & (df_tidy['Grande Região'] == 'Nordeste')]\n",
    "df_nordeste_2022 = df_tidy.loc[(df_tidy['Ano'] == 2022) & (df_tidy['Grande Região'] == 'Nordeste')]\n",
    "df_nordeste_2023 = df_tidy.loc[(df_tidy['Ano'] == 2023) & (df_tidy['Grande Região'] == 'Nordeste')]"
   ]
  },
  {
   "cell_type": "markdown",
   "id": "d64b17b7",
   "metadata": {},
   "source": [
    "# GEO MAPPING"
   ]
  },
  {
   "cell_type": "code",
   "execution_count": null,
   "id": "9077efdf",
   "metadata": {},
   "outputs": [],
   "source": [
    "url = 'https://dados.al.gov.br/catalogo/dataset/b49bc1eb-4c02-4e20-86a3-149c7f46653c/resource/d0b6b63c-ba5b-4a40-a151-dc3c339380c0/download/nordestebr.geojson'"
   ]
  },
  {
   "cell_type": "code",
   "execution_count": 15,
   "id": "e714c86e",
   "metadata": {},
   "outputs": [],
   "source": [
    "response = requests.get(url)"
   ]
  },
  {
   "cell_type": "code",
   "execution_count": 16,
   "id": "b82b07cd",
   "metadata": {},
   "outputs": [],
   "source": [
    "gdf = gpd.read_file(response.content)"
   ]
  }
 ],
 "metadata": {
  "kernelspec": {
   "display_name": "Python 3",
   "language": "python",
   "name": "python3"
  },
  "language_info": {
   "codemirror_mode": {
    "name": "ipython",
    "version": 3
   },
   "file_extension": ".py",
   "mimetype": "text/x-python",
   "name": "python",
   "nbconvert_exporter": "python",
   "pygments_lexer": "ipython3",
   "version": "3.13.5"
  }
 },
 "nbformat": 4,
 "nbformat_minor": 5
}
