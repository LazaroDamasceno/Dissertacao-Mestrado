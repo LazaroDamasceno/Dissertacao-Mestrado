{
 "cells": [
  {
   "cell_type": "code",
   "execution_count": null,
   "id": "7a7f1b7a",
   "metadata": {},
   "outputs": [],
   "source": [
    "import pandas as pd\n",
    "import matplotlib.pyplot as plt\n",
    "import seaborn as sns"
   ]
  },
  {
   "cell_type": "code",
   "execution_count": null,
   "id": "9c5ce8f3",
   "metadata": {},
   "outputs": [],
   "source": [
    "df = pd.read_csv('worldbank_nominal_gdp.csv')"
   ]
  },
  {
   "cell_type": "code",
   "execution_count": null,
   "id": "bbaffd08",
   "metadata": {},
   "outputs": [],
   "source": [
    "df.info()"
   ]
  },
  {
   "cell_type": "code",
   "execution_count": null,
   "id": "fc81adac",
   "metadata": {},
   "outputs": [],
   "source": [
    "df.head(10)"
   ]
  },
  {
   "cell_type": "code",
   "execution_count": null,
   "id": "193d5cac",
   "metadata": {},
   "outputs": [],
   "source": [
    "df = df.drop(columns=['Country Code', 'Indicator Name', 'Indicator Code'])"
   ]
  },
  {
   "cell_type": "code",
   "execution_count": null,
   "id": "9c921f32",
   "metadata": {},
   "outputs": [],
   "source": [
    "df = df.rename(columns={'Country Name': 'Country'})"
   ]
  },
  {
   "cell_type": "code",
   "execution_count": null,
   "id": "bc8836ae",
   "metadata": {},
   "outputs": [],
   "source": [
    "df.info()"
   ]
  },
  {
   "cell_type": "code",
   "execution_count": null,
   "id": "c3d05000",
   "metadata": {},
   "outputs": [],
   "source": [
    "df.dtypes"
   ]
  },
  {
   "cell_type": "code",
   "execution_count": null,
   "id": "8703ceaf",
   "metadata": {},
   "outputs": [],
   "source": [
    "years = [str(year) for year in range(1960, 2025)]\n",
    "df_tidy = df.melt(\n",
    "    id_vars='Country',\n",
    "    value_vars=years,\n",
    "    var_name='Year',\n",
    "    value_name='GDP'\n",
    ")"
   ]
  },
  {
   "cell_type": "code",
   "execution_count": null,
   "id": "a87611b2",
   "metadata": {},
   "outputs": [],
   "source": [
    "df_tidy.dtypes"
   ]
  },
  {
   "cell_type": "code",
   "execution_count": null,
   "id": "6e8b7dbe",
   "metadata": {},
   "outputs": [],
   "source": [
    "df_tidy['Year'] = df_tidy['Year'].astype(int)"
   ]
  },
  {
   "cell_type": "code",
   "execution_count": null,
   "id": "3742c090",
   "metadata": {},
   "outputs": [],
   "source": [
    "df_tidy.dtypes"
   ]
  },
  {
   "cell_type": "code",
   "execution_count": null,
   "id": "c47be05a",
   "metadata": {},
   "outputs": [],
   "source": [
    "removable_countries = [\n",
    "    'Africa Eastern and Southern',\n",
    "    'Africa Western and Central',\n",
    "    'Arab World',\n",
    "    'Caribbean small states',\n",
    "    'Central Europe and the Baltics',\n",
    "    'Early-demographic dividend',\n",
    "    'East Asia & Pacific',\n",
    "    'East Asia & Pacific (excluding high income)',\n",
    "    'East Asia & Pacific (IDA & IBRD countries)',\n",
    "    'Euro Area',\n",
    "    'Europe & Central Asia',\n",
    "    'Europe & Central Asia (excluding high income)',\n",
    "    'Europe & Central Asia (IDA & IBRD countries)',\n",
    "    'European Union',\n",
    "    'Fragile and conflict affected situations',\n",
    "    'Heavily indebted poor countries (HIPC)',\n",
    "    'High income',\n",
    "    'IBRD only',\n",
    "    'IDA & IBRD total',\n",
    "    'IDA blend',\n",
    "    'IDA only',\n",
    "    'IDA total',\n",
    "    'Late-demographic dividend',\n",
    "    'Latin America & Caribbean',\n",
    "    'Latin America & Caribbean (excluding high income)',\n",
    "    'Latin America & Caribbean (IDA & IBRD countries)',\n",
    "    'Least developed countries: UN classification',\n",
    "    'Low & middle income',\n",
    "    'Low income',\n",
    "    'Lower middle income',\n",
    "    'Middle East & North Africa',\n",
    "    'Middle East & North Africa (excluding high income)',\n",
    "    'Middle East & North Africa (IDA & IBRD countries)',\n",
    "    'Middle income',\n",
    "    'North America',\n",
    "    'Not classified',\n",
    "    'OECD members',\n",
    "    'Other small states',\n",
    "    'Pacific island small states',\n",
    "    'Post-demographic dividend',\n",
    "    'Pre-demographic dividend',\n",
    "    'Small states',\n",
    "    'South Asia',\n",
    "    'South Asia (IDA & IBRD)',\n",
    "    'Sub-Saharan Africa',\n",
    "    'Sub-Saharan Africa (excluding high income)',\n",
    "    'Sub-Saharan Africa (IDA & IBRD countries)',\n",
    "    'Upper middle income',\n",
    "    'World',\n",
    "    'Latin America & the Caribbean (IDA & IBRD countries)',\n",
    "    'Middle East, North Africa, Afghanistan & Pakistan',\n",
    "    'Middle East, North Africa, Afghanistan & Pakistan (IDA & IBRD)'\n",
    "    'Middle East, North Africa, Afghanistan & Pakistan (excluding high income)',\n",
    "    'Euro area',\n",
    "    'Middle East, North Africa, Afghanistan & Pakistan (excluding high income)', \n",
    "    'Middle East, North Africa, Afghanistan & Pakistan (IDA & IBRD)',\n",
    "]"
   ]
  },
  {
   "cell_type": "code",
   "execution_count": null,
   "id": "8f0aae37",
   "metadata": {},
   "outputs": [],
   "source": [
    "df_filtered = df_tidy.query('Country not in @removable_countries').reset_index()"
   ]
  },
  {
   "cell_type": "code",
   "execution_count": null,
   "id": "e7ed01a7",
   "metadata": {},
   "outputs": [],
   "source": [
    "top_10_nominal_gdp = df_filtered.query('Year == 2024').sort_values(by='GDP', ascending=False).reset_index(drop=True)[0:10]"
   ]
  },
  {
   "cell_type": "code",
   "execution_count": null,
   "id": "84166ff7",
   "metadata": {},
   "outputs": [],
   "source": [
    "plt.figure(figsize=(10, 6))\n",
    "\n",
    "sns.barplot(data=top_10_nominal_gdp, orient='h', x='GDP', y='Country')\n",
    "\n",
    "plt.suptitle(\"Top 10 Nominal GDP in 2024\", fontweight='bold')\n",
    "sns.despine()\n",
    "plt.tight_layout()\n",
    "plt.show()"
   ]
  }
 ],
 "metadata": {
  "kernelspec": {
   "display_name": "Python 3",
   "language": "python",
   "name": "python3"
  },
  "language_info": {
   "codemirror_mode": {
    "name": "ipython",
    "version": 3
   },
   "file_extension": ".py",
   "mimetype": "text/x-python",
   "name": "python",
   "nbconvert_exporter": "python",
   "pygments_lexer": "ipython3",
   "version": "3.13.5"
  }
 },
 "nbformat": 4,
 "nbformat_minor": 5
}
