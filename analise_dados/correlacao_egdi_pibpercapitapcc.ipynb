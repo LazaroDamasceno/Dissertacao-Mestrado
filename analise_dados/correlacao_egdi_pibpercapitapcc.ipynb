{
 "cells": [
  {
   "cell_type": "code",
   "execution_count": 117,
   "id": "f69ff32c",
   "metadata": {},
   "outputs": [],
   "source": [
    "import pandas as pd\n",
    "import matplotlib.pyplot as plt\n",
    "import seaborn as sns"
   ]
  },
  {
   "cell_type": "markdown",
   "id": "3cfbbd3d",
   "metadata": {},
   "source": []
  },
  {
   "cell_type": "code",
   "execution_count": 118,
   "id": "0a0635f0",
   "metadata": {},
   "outputs": [],
   "source": [
    "egdi = pd.read_csv('EGOV_DATA_2024.csv')"
   ]
  },
  {
   "cell_type": "code",
   "execution_count": 119,
   "id": "18ee54fc",
   "metadata": {},
   "outputs": [
    {
     "name": "stdout",
     "output_type": "stream",
     "text": [
      "<class 'pandas.core.frame.DataFrame'>\n",
      "RangeIndex: 193 entries, 0 to 192\n",
      "Data columns (total 8 columns):\n",
      " #   Column                                  Non-Null Count  Dtype  \n",
      "---  ------                                  --------------  -----  \n",
      " 0   Survey Year                             193 non-null    int64  \n",
      " 1   Country Name                            193 non-null    object \n",
      " 2   E-Government Rank                       193 non-null    int64  \n",
      " 3   E-Government Index                      193 non-null    float64\n",
      " 4   E-Participation Index                   193 non-null    float64\n",
      " 5   Online Service Index                    193 non-null    float64\n",
      " 6   Human Capital Index                     193 non-null    float64\n",
      " 7   Telecommunication Infrastructure Index  193 non-null    float64\n",
      "dtypes: float64(5), int64(2), object(1)\n",
      "memory usage: 12.2+ KB\n"
     ]
    }
   ],
   "source": [
    "egdi.info()"
   ]
  },
  {
   "cell_type": "code",
   "execution_count": 120,
   "id": "34d10553",
   "metadata": {},
   "outputs": [],
   "source": [
    "pib = pd.read_csv('pib_percapita_ppc.csv')"
   ]
  },
  {
   "cell_type": "code",
   "execution_count": 121,
   "id": "c548964d",
   "metadata": {},
   "outputs": [
    {
     "name": "stdout",
     "output_type": "stream",
     "text": [
      "<class 'pandas.core.frame.DataFrame'>\n",
      "RangeIndex: 266 entries, 0 to 265\n",
      "Data columns (total 70 columns):\n",
      " #   Column          Non-Null Count  Dtype  \n",
      "---  ------          --------------  -----  \n",
      " 0   Country Name    266 non-null    object \n",
      " 1   Country Code    266 non-null    object \n",
      " 2   Indicator Name  266 non-null    object \n",
      " 3   Indicator Code  266 non-null    object \n",
      " 4   1960            0 non-null      float64\n",
      " 5   1961            0 non-null      float64\n",
      " 6   1962            0 non-null      float64\n",
      " 7   1963            0 non-null      float64\n",
      " 8   1964            0 non-null      float64\n",
      " 9   1965            0 non-null      float64\n",
      " 10  1966            0 non-null      float64\n",
      " 11  1967            0 non-null      float64\n",
      " 12  1968            0 non-null      float64\n",
      " 13  1969            0 non-null      float64\n",
      " 14  1970            0 non-null      float64\n",
      " 15  1971            0 non-null      float64\n",
      " 16  1972            0 non-null      float64\n",
      " 17  1973            0 non-null      float64\n",
      " 18  1974            0 non-null      float64\n",
      " 19  1975            0 non-null      float64\n",
      " 20  1976            0 non-null      float64\n",
      " 21  1977            0 non-null      float64\n",
      " 22  1978            0 non-null      float64\n",
      " 23  1979            0 non-null      float64\n",
      " 24  1980            0 non-null      float64\n",
      " 25  1981            0 non-null      float64\n",
      " 26  1982            0 non-null      float64\n",
      " 27  1983            0 non-null      float64\n",
      " 28  1984            0 non-null      float64\n",
      " 29  1985            0 non-null      float64\n",
      " 30  1986            0 non-null      float64\n",
      " 31  1987            0 non-null      float64\n",
      " 32  1988            0 non-null      float64\n",
      " 33  1989            0 non-null      float64\n",
      " 34  1990            233 non-null    float64\n",
      " 35  1991            234 non-null    float64\n",
      " 36  1992            234 non-null    float64\n",
      " 37  1993            234 non-null    float64\n",
      " 38  1994            235 non-null    float64\n",
      " 39  1995            236 non-null    float64\n",
      " 40  1996            236 non-null    float64\n",
      " 41  1997            238 non-null    float64\n",
      " 42  1998            238 non-null    float64\n",
      " 43  1999            238 non-null    float64\n",
      " 44  2000            240 non-null    float64\n",
      " 45  2001            240 non-null    float64\n",
      " 46  2002            241 non-null    float64\n",
      " 47  2003            241 non-null    float64\n",
      " 48  2004            241 non-null    float64\n",
      " 49  2005            241 non-null    float64\n",
      " 50  2006            242 non-null    float64\n",
      " 51  2007            243 non-null    float64\n",
      " 52  2008            245 non-null    float64\n",
      " 53  2009            246 non-null    float64\n",
      " 54  2010            246 non-null    float64\n",
      " 55  2011            246 non-null    float64\n",
      " 56  2012            246 non-null    float64\n",
      " 57  2013            247 non-null    float64\n",
      " 58  2014            247 non-null    float64\n",
      " 59  2015            247 non-null    float64\n",
      " 60  2016            247 non-null    float64\n",
      " 61  2017            247 non-null    float64\n",
      " 62  2018            247 non-null    float64\n",
      " 63  2019            247 non-null    float64\n",
      " 64  2020            247 non-null    float64\n",
      " 65  2021            247 non-null    float64\n",
      " 66  2022            247 non-null    object \n",
      " 67  2023            245 non-null    float64\n",
      " 68  2024            232 non-null    float64\n",
      " 69  Unnamed: 69     0 non-null      float64\n",
      "dtypes: float64(65), object(5)\n",
      "memory usage: 145.6+ KB\n"
     ]
    }
   ],
   "source": [
    "pib.info()"
   ]
  },
  {
   "cell_type": "markdown",
   "id": "88a205f4",
   "metadata": {},
   "source": []
  },
  {
   "cell_type": "code",
   "execution_count": 122,
   "id": "c79373e0",
   "metadata": {},
   "outputs": [],
   "source": [
    "pib = pib.iloc[:, [0, 68]]"
   ]
  },
  {
   "cell_type": "code",
   "execution_count": 123,
   "id": "32e249fd",
   "metadata": {},
   "outputs": [
    {
     "name": "stdout",
     "output_type": "stream",
     "text": [
      "<class 'pandas.core.frame.DataFrame'>\n",
      "RangeIndex: 266 entries, 0 to 265\n",
      "Data columns (total 2 columns):\n",
      " #   Column        Non-Null Count  Dtype  \n",
      "---  ------        --------------  -----  \n",
      " 0   Country Name  266 non-null    object \n",
      " 1   2024          232 non-null    float64\n",
      "dtypes: float64(1), object(1)\n",
      "memory usage: 4.3+ KB\n"
     ]
    }
   ],
   "source": [
    "pib.info()"
   ]
  },
  {
   "cell_type": "markdown",
   "id": "38d5a9be",
   "metadata": {},
   "source": []
  },
  {
   "cell_type": "code",
   "execution_count": 124,
   "id": "2eb8234c",
   "metadata": {},
   "outputs": [
    {
     "data": {
      "text/plain": [
       "np.int64(193)"
      ]
     },
     "execution_count": 124,
     "metadata": {},
     "output_type": "execute_result"
    }
   ],
   "source": [
    "egdi['Country Name'].value_counts().sum()"
   ]
  },
  {
   "cell_type": "code",
   "execution_count": 125,
   "id": "990acee0",
   "metadata": {},
   "outputs": [
    {
     "data": {
      "text/plain": [
       "np.int64(266)"
      ]
     },
     "execution_count": 125,
     "metadata": {},
     "output_type": "execute_result"
    }
   ],
   "source": [
    "pib['Country Name'].value_counts().sum()"
   ]
  },
  {
   "cell_type": "markdown",
   "id": "c06ed33a",
   "metadata": {},
   "source": []
  },
  {
   "cell_type": "code",
   "execution_count": 126,
   "id": "8a9a1e5c",
   "metadata": {},
   "outputs": [
    {
     "name": "stdout",
     "output_type": "stream",
     "text": [
      "266\n",
      "193\n"
     ]
    }
   ],
   "source": [
    "print(pib['Country Name'].value_counts().sum())\n",
    "print(egdi['Country Name'].value_counts().sum())"
   ]
  },
  {
   "cell_type": "markdown",
   "id": "625ec7ea",
   "metadata": {},
   "source": []
  },
  {
   "cell_type": "code",
   "execution_count": 127,
   "id": "64403d60",
   "metadata": {},
   "outputs": [
    {
     "data": {
      "text/plain": [
       "{'Bahamas',\n",
       " 'Congo',\n",
       " 'Czech Republic',\n",
       " \"Côte d'Ivoire\",\n",
       " \"Democratic People's Republic of Korea\",\n",
       " 'Democratic Republic of the Congo',\n",
       " 'Egypt',\n",
       " 'Gambia',\n",
       " 'Georgia (Country)',\n",
       " 'Iran (Islamic Republic of)',\n",
       " 'Kyrgyzstan',\n",
       " \"Lao People's Democratic Republic\",\n",
       " 'Micronesia (Federated States of)',\n",
       " 'Republic of Korea',\n",
       " 'Republic of Moldova',\n",
       " 'Saint Kitts and Nevis',\n",
       " 'Saint Lucia',\n",
       " 'Saint Vincent and the Grenadines',\n",
       " 'Slovakia',\n",
       " 'Türkiye',\n",
       " 'United Kingdom of Great Britain and Northern Ireland',\n",
       " 'United Republic of Tanzania',\n",
       " 'United States of America',\n",
       " 'Venezuela',\n",
       " 'Yemen'}"
      ]
     },
     "execution_count": 127,
     "metadata": {},
     "output_type": "execute_result"
    }
   ],
   "source": [
    "set(egdi['Country Name']).difference(pib['Country Name'])"
   ]
  },
  {
   "cell_type": "code",
   "execution_count": 128,
   "id": "44817e52",
   "metadata": {},
   "outputs": [],
   "source": [
    "pib['Country Name'] = pib['Country Name'].replace({\n",
    "    'Bahamas, The': 'Bahamas',\n",
    "    'South Korea': 'Republic of Korea',\n",
    "    'Moldova': 'Republic of Moldova',\n",
    "    'St. Kitts and Nevis': 'Saint Kitts and Nevis',\n",
    "    'St. Lucia': 'Saint Lucia',\n",
    "    'St. Vincent and the Grenadines': 'Saint Vincent and the Grenadines',\n",
    "    'Slovak Republic': 'Slovakia',\n",
    "    'Czechia': 'Czech Republic',\n",
    "    \"Cote d'Ivoire\": \"Côte d'Ivoire\",\n",
    "    \"Korea, Dem. People's Rep.\": \"Democratic People's Republic of Korea\",\n",
    "    'Congo, Rep.': 'Congo',\n",
    "    \"Congo, Dem. Rep.\": 'Democratic Republic of the Congo',\n",
    "    'Korea, Rep.': 'Republic of Korea',\n",
    "    'Yemen, Rep.': 'Yemen',\n",
    "    'Venezuela, RB': 'Venezuela',\n",
    "    'United States': 'United States of America',\n",
    "    'Tanzania': 'United Republic of Tanzania',\n",
    "    'United Kingdom': 'United Kingdom of Great Britain and Northern Ireland',\n",
    "    'Lao PDR': \"Lao People's Democratic Republic\",\n",
    "    'Georgia': 'Georgia (Country)',\n",
    "    'Gambia, The': 'Gambia',\n",
    "    \"Kyrgyz Republic\": 'Kyrgyzstan',\n",
    "    \"Micronesia, Fed. Sts.\": 'Micronesia (Federated States of)',\n",
    "    \"Egypt, Arab Rep.\": \"Egypt\",\n",
    "    \"Iran, Islamic Rep.\": 'Iran (Islamic Republic of)',\n",
    "    'Turkiye': 'Türkiye'\n",
    "})"
   ]
  },
  {
   "cell_type": "code",
   "execution_count": 129,
   "id": "e5787caf",
   "metadata": {},
   "outputs": [
    {
     "data": {
      "text/plain": [
       "set()"
      ]
     },
     "execution_count": 129,
     "metadata": {},
     "output_type": "execute_result"
    }
   ],
   "source": [
    "set(egdi['Country Name']).difference(pib['Country Name'])"
   ]
  },
  {
   "cell_type": "markdown",
   "id": "7c738f7f",
   "metadata": {},
   "source": []
  },
  {
   "cell_type": "code",
   "execution_count": null,
   "id": "e1e5a97e",
   "metadata": {},
   "outputs": [],
   "source": []
  },
  {
   "cell_type": "code",
   "execution_count": 130,
   "id": "784cd28d",
   "metadata": {},
   "outputs": [],
   "source": [
    "pib = pib[pib['Country Name'].isin(egdi['Country Name'])]"
   ]
  },
  {
   "cell_type": "code",
   "execution_count": 131,
   "id": "fd7aeb24",
   "metadata": {},
   "outputs": [
    {
     "data": {
      "text/plain": [
       "np.int64(193)"
      ]
     },
     "execution_count": 131,
     "metadata": {},
     "output_type": "execute_result"
    }
   ],
   "source": [
    "pib['Country Name'].value_counts().sum()"
   ]
  },
  {
   "cell_type": "markdown",
   "id": "b33a09a4",
   "metadata": {},
   "source": []
  },
  {
   "cell_type": "code",
   "execution_count": 132,
   "id": "36fa6b90",
   "metadata": {},
   "outputs": [],
   "source": [
    "pib = pib.rename(columns={\n",
    "    '2024': 'gastos_publicos'\n",
    "})"
   ]
  },
  {
   "cell_type": "code",
   "execution_count": 133,
   "id": "5014d979",
   "metadata": {},
   "outputs": [
    {
     "name": "stdout",
     "output_type": "stream",
     "text": [
      "<class 'pandas.core.frame.DataFrame'>\n",
      "Index: 193 entries, 2 to 265\n",
      "Data columns (total 2 columns):\n",
      " #   Column           Non-Null Count  Dtype  \n",
      "---  ------           --------------  -----  \n",
      " 0   Country Name     193 non-null    object \n",
      " 1   gastos_publicos  176 non-null    float64\n",
      "dtypes: float64(1), object(1)\n",
      "memory usage: 4.5+ KB\n"
     ]
    }
   ],
   "source": [
    "pib.info()"
   ]
  },
  {
   "cell_type": "code",
   "execution_count": 134,
   "id": "b58c5057",
   "metadata": {},
   "outputs": [
    {
     "data": {
      "text/plain": [
       "np.int64(17)"
      ]
     },
     "execution_count": 134,
     "metadata": {},
     "output_type": "execute_result"
    }
   ],
   "source": [
    "pib['gastos_publicos'].isna().sum()"
   ]
  },
  {
   "cell_type": "markdown",
   "id": "341cb984",
   "metadata": {},
   "source": []
  },
  {
   "cell_type": "code",
   "execution_count": 135,
   "id": "767033b7",
   "metadata": {},
   "outputs": [],
   "source": [
    "egdi = egdi.drop(columns={\n",
    "    'E-Government Rank',\n",
    "    'Survey Year'\n",
    "})"
   ]
  },
  {
   "cell_type": "code",
   "execution_count": 136,
   "id": "252b1888",
   "metadata": {},
   "outputs": [
    {
     "name": "stdout",
     "output_type": "stream",
     "text": [
      "<class 'pandas.core.frame.DataFrame'>\n",
      "RangeIndex: 193 entries, 0 to 192\n",
      "Data columns (total 6 columns):\n",
      " #   Column                                  Non-Null Count  Dtype  \n",
      "---  ------                                  --------------  -----  \n",
      " 0   Country Name                            193 non-null    object \n",
      " 1   E-Government Index                      193 non-null    float64\n",
      " 2   E-Participation Index                   193 non-null    float64\n",
      " 3   Online Service Index                    193 non-null    float64\n",
      " 4   Human Capital Index                     193 non-null    float64\n",
      " 5   Telecommunication Infrastructure Index  193 non-null    float64\n",
      "dtypes: float64(5), object(1)\n",
      "memory usage: 9.2+ KB\n"
     ]
    }
   ],
   "source": [
    "egdi.info()"
   ]
  },
  {
   "cell_type": "markdown",
   "id": "b075a4ff",
   "metadata": {},
   "source": []
  },
  {
   "cell_type": "code",
   "execution_count": null,
   "id": "11e73128",
   "metadata": {},
   "outputs": [],
   "source": []
  },
  {
   "cell_type": "code",
   "execution_count": 137,
   "id": "edba77dc",
   "metadata": {},
   "outputs": [],
   "source": [
    "df = pd.merge(egdi,  pib, on='Country Name')"
   ]
  },
  {
   "cell_type": "code",
   "execution_count": 138,
   "id": "068ce2e1",
   "metadata": {},
   "outputs": [
    {
     "data": {
      "text/html": [
       "<div>\n",
       "<style scoped>\n",
       "    .dataframe tbody tr th:only-of-type {\n",
       "        vertical-align: middle;\n",
       "    }\n",
       "\n",
       "    .dataframe tbody tr th {\n",
       "        vertical-align: top;\n",
       "    }\n",
       "\n",
       "    .dataframe thead th {\n",
       "        text-align: right;\n",
       "    }\n",
       "</style>\n",
       "<table border=\"1\" class=\"dataframe\">\n",
       "  <thead>\n",
       "    <tr style=\"text-align: right;\">\n",
       "      <th></th>\n",
       "      <th>Country Name</th>\n",
       "      <th>E-Government Index</th>\n",
       "      <th>E-Participation Index</th>\n",
       "      <th>Online Service Index</th>\n",
       "      <th>Human Capital Index</th>\n",
       "      <th>Telecommunication Infrastructure Index</th>\n",
       "      <th>gastos_publicos</th>\n",
       "    </tr>\n",
       "  </thead>\n",
       "  <tbody>\n",
       "    <tr>\n",
       "      <th>0</th>\n",
       "      <td>Iraq</td>\n",
       "      <td>0.45721</td>\n",
       "      <td>0.0959</td>\n",
       "      <td>0.18755</td>\n",
       "      <td>0.49672</td>\n",
       "      <td>0.68736</td>\n",
       "      <td>12725.043126</td>\n",
       "    </tr>\n",
       "    <tr>\n",
       "      <th>1</th>\n",
       "      <td>Ireland</td>\n",
       "      <td>0.91377</td>\n",
       "      <td>0.9178</td>\n",
       "      <td>0.87678</td>\n",
       "      <td>0.90460</td>\n",
       "      <td>0.95987</td>\n",
       "      <td>115337.166701</td>\n",
       "    </tr>\n",
       "    <tr>\n",
       "      <th>2</th>\n",
       "      <td>Israel</td>\n",
       "      <td>0.90143</td>\n",
       "      <td>0.6986</td>\n",
       "      <td>0.85412</td>\n",
       "      <td>0.87390</td>\n",
       "      <td>0.97633</td>\n",
       "      <td>47338.842462</td>\n",
       "    </tr>\n",
       "    <tr>\n",
       "      <th>3</th>\n",
       "      <td>Italy</td>\n",
       "      <td>0.83557</td>\n",
       "      <td>0.6575</td>\n",
       "      <td>0.76239</td>\n",
       "      <td>0.84262</td>\n",
       "      <td>0.90167</td>\n",
       "      <td>53115.135100</td>\n",
       "    </tr>\n",
       "    <tr>\n",
       "      <th>4</th>\n",
       "      <td>Jamaica</td>\n",
       "      <td>0.66777</td>\n",
       "      <td>0.4384</td>\n",
       "      <td>0.56772</td>\n",
       "      <td>0.70600</td>\n",
       "      <td>0.72963</td>\n",
       "      <td>10259.995110</td>\n",
       "    </tr>\n",
       "  </tbody>\n",
       "</table>\n",
       "</div>"
      ],
      "text/plain": [
       "  Country Name  E-Government Index  E-Participation Index  \\\n",
       "0         Iraq             0.45721                 0.0959   \n",
       "1      Ireland             0.91377                 0.9178   \n",
       "2       Israel             0.90143                 0.6986   \n",
       "3        Italy             0.83557                 0.6575   \n",
       "4      Jamaica             0.66777                 0.4384   \n",
       "\n",
       "   Online Service Index  Human Capital Index  \\\n",
       "0               0.18755              0.49672   \n",
       "1               0.87678              0.90460   \n",
       "2               0.85412              0.87390   \n",
       "3               0.76239              0.84262   \n",
       "4               0.56772              0.70600   \n",
       "\n",
       "   Telecommunication Infrastructure Index  gastos_publicos  \n",
       "0                                 0.68736     12725.043126  \n",
       "1                                 0.95987    115337.166701  \n",
       "2                                 0.97633     47338.842462  \n",
       "3                                 0.90167     53115.135100  \n",
       "4                                 0.72963     10259.995110  "
      ]
     },
     "execution_count": 138,
     "metadata": {},
     "output_type": "execute_result"
    }
   ],
   "source": [
    "df.head()"
   ]
  },
  {
   "cell_type": "code",
   "execution_count": 139,
   "id": "3a13da2e",
   "metadata": {},
   "outputs": [],
   "source": [
    "df = df.drop(columns={\n",
    "    'Country Name'\n",
    "})"
   ]
  },
  {
   "cell_type": "code",
   "execution_count": 140,
   "id": "66831692",
   "metadata": {},
   "outputs": [
    {
     "name": "stdout",
     "output_type": "stream",
     "text": [
      "<class 'pandas.core.frame.DataFrame'>\n",
      "RangeIndex: 193 entries, 0 to 192\n",
      "Data columns (total 6 columns):\n",
      " #   Column                                  Non-Null Count  Dtype  \n",
      "---  ------                                  --------------  -----  \n",
      " 0   E-Government Index                      193 non-null    float64\n",
      " 1   E-Participation Index                   193 non-null    float64\n",
      " 2   Online Service Index                    193 non-null    float64\n",
      " 3   Human Capital Index                     193 non-null    float64\n",
      " 4   Telecommunication Infrastructure Index  193 non-null    float64\n",
      " 5   gastos_publicos                         176 non-null    float64\n",
      "dtypes: float64(6)\n",
      "memory usage: 9.2 KB\n"
     ]
    }
   ],
   "source": [
    "df.info()"
   ]
  },
  {
   "cell_type": "markdown",
   "id": "36874fda",
   "metadata": {},
   "source": []
  },
  {
   "cell_type": "code",
   "execution_count": 141,
   "id": "e15cb652",
   "metadata": {},
   "outputs": [],
   "source": [
    "corr_df = pd.DataFrame({\n",
    "    'EGDI x PIB per capita PPC': df['gastos_publicos'].corr(df['E-Government Index'], method='spearman'),\n",
    "    'EPI x PIB per capita PPC': df['gastos_publicos'].corr(df['E-Participation Index'], method='spearman'),\n",
    "    'HCI x PIB per capita PPC': df['gastos_publicos'].corr(df['Online Service Index'], method='spearman'),\n",
    "    'OSI x PIB per capita PPC': df['gastos_publicos'].corr(df['Human Capital Index'], method='spearman'),\n",
    "    'TII x PIB per capita PPC': df['gastos_publicos'].corr(df['Telecommunication Infrastructure Index'], method='spearman')\n",
    "}, [1])"
   ]
  },
  {
   "cell_type": "code",
   "execution_count": 142,
   "id": "61928290",
   "metadata": {},
   "outputs": [
    {
     "data": {
      "text/html": [
       "<div>\n",
       "<style scoped>\n",
       "    .dataframe tbody tr th:only-of-type {\n",
       "        vertical-align: middle;\n",
       "    }\n",
       "\n",
       "    .dataframe tbody tr th {\n",
       "        vertical-align: top;\n",
       "    }\n",
       "\n",
       "    .dataframe thead th {\n",
       "        text-align: right;\n",
       "    }\n",
       "</style>\n",
       "<table border=\"1\" class=\"dataframe\">\n",
       "  <thead>\n",
       "    <tr style=\"text-align: right;\">\n",
       "      <th></th>\n",
       "      <th>EGDI x PIB per capita PPC</th>\n",
       "      <th>EPI x PIB per capita PPC</th>\n",
       "      <th>HCI x PIB per capita PPC</th>\n",
       "      <th>OSI x PIB per capita PPC</th>\n",
       "      <th>TII x PIB per capita PPC</th>\n",
       "    </tr>\n",
       "  </thead>\n",
       "  <tbody>\n",
       "    <tr>\n",
       "      <th>1</th>\n",
       "      <td>0.87565</td>\n",
       "      <td>0.666536</td>\n",
       "      <td>0.706196</td>\n",
       "      <td>0.862069</td>\n",
       "      <td>0.88926</td>\n",
       "    </tr>\n",
       "  </tbody>\n",
       "</table>\n",
       "</div>"
      ],
      "text/plain": [
       "   EGDI x PIB per capita PPC  EPI x PIB per capita PPC  \\\n",
       "1                    0.87565                  0.666536   \n",
       "\n",
       "   HCI x PIB per capita PPC  OSI x PIB per capita PPC  \\\n",
       "1                  0.706196                  0.862069   \n",
       "\n",
       "   TII x PIB per capita PPC  \n",
       "1                   0.88926  "
      ]
     },
     "execution_count": 142,
     "metadata": {},
     "output_type": "execute_result"
    }
   ],
   "source": [
    "corr_df.head()"
   ]
  },
  {
   "cell_type": "markdown",
   "id": "4bb9e0b2",
   "metadata": {},
   "source": []
  },
  {
   "cell_type": "code",
   "execution_count": 143,
   "id": "36da72e6",
   "metadata": {},
   "outputs": [],
   "source": [
    "corr_df = corr_df.melt(\n",
    "    value_vars=[\n",
    "        'EGDI x PIB per capita PPC',\n",
    "        'EPI x PIB per capita PPC',\n",
    "        'HCI x PIB per capita PPC',\n",
    "        'OSI x PIB per capita PPC',\n",
    "        'TII x PIB per capita PPC'\n",
    "    ],\n",
    "    var_name='Comparacao', \n",
    "    value_name='Coeficiente_Correlacao'\n",
    ")"
   ]
  },
  {
   "cell_type": "code",
   "execution_count": 144,
   "id": "96551b24",
   "metadata": {},
   "outputs": [
    {
     "data": {
      "text/html": [
       "<div>\n",
       "<style scoped>\n",
       "    .dataframe tbody tr th:only-of-type {\n",
       "        vertical-align: middle;\n",
       "    }\n",
       "\n",
       "    .dataframe tbody tr th {\n",
       "        vertical-align: top;\n",
       "    }\n",
       "\n",
       "    .dataframe thead th {\n",
       "        text-align: right;\n",
       "    }\n",
       "</style>\n",
       "<table border=\"1\" class=\"dataframe\">\n",
       "  <thead>\n",
       "    <tr style=\"text-align: right;\">\n",
       "      <th></th>\n",
       "      <th>Comparacao</th>\n",
       "      <th>Coeficiente_Correlacao</th>\n",
       "    </tr>\n",
       "  </thead>\n",
       "  <tbody>\n",
       "    <tr>\n",
       "      <th>0</th>\n",
       "      <td>EGDI x PIB per capita PPC</td>\n",
       "      <td>0.875650</td>\n",
       "    </tr>\n",
       "    <tr>\n",
       "      <th>1</th>\n",
       "      <td>EPI x PIB per capita PPC</td>\n",
       "      <td>0.666536</td>\n",
       "    </tr>\n",
       "    <tr>\n",
       "      <th>2</th>\n",
       "      <td>HCI x PIB per capita PPC</td>\n",
       "      <td>0.706196</td>\n",
       "    </tr>\n",
       "    <tr>\n",
       "      <th>3</th>\n",
       "      <td>OSI x PIB per capita PPC</td>\n",
       "      <td>0.862069</td>\n",
       "    </tr>\n",
       "    <tr>\n",
       "      <th>4</th>\n",
       "      <td>TII x PIB per capita PPC</td>\n",
       "      <td>0.889260</td>\n",
       "    </tr>\n",
       "  </tbody>\n",
       "</table>\n",
       "</div>"
      ],
      "text/plain": [
       "                  Comparacao  Coeficiente_Correlacao\n",
       "0  EGDI x PIB per capita PPC                0.875650\n",
       "1   EPI x PIB per capita PPC                0.666536\n",
       "2   HCI x PIB per capita PPC                0.706196\n",
       "3   OSI x PIB per capita PPC                0.862069\n",
       "4   TII x PIB per capita PPC                0.889260"
      ]
     },
     "execution_count": 144,
     "metadata": {},
     "output_type": "execute_result"
    }
   ],
   "source": [
    "corr_df.head()"
   ]
  },
  {
   "cell_type": "markdown",
   "id": "6ab4d9c6",
   "metadata": {},
   "source": []
  },
  {
   "cell_type": "code",
   "execution_count": 145,
   "id": "be0341c3",
   "metadata": {},
   "outputs": [
    {
     "data": {
      "image/png": "[encoded data removed]",
      "text/plain": [
       "<Figure size 1000x600 with 1 Axes>"
      ]
     },
     "metadata": {},
     "output_type": "display_data"
    }
   ],
   "source": [
    "fig, ax = plt.subplots(figsize=(10, 6))\n",
    "\n",
    "bar_container = sns.barplot(corr_df, x='Coeficiente_Correlacao', y='Comparacao')\n",
    "\n",
    "ax.bar_label(bar_container.containers[0], fmt='%.2f', padding=3, label_type='edge')\n",
    "sns.despine(bottom=True)\n",
    "ax.set_ylabel('')\n",
    "ax.set_xlabel('')\n",
    "ax.xaxis.set_visible(False)\n",
    "plt.tight_layout()\n",
    "plt.savefig('C:/Users/lazar/Master-Dissertation/figuras/correlacao_egdi_pibpercapitapcc.png', dpi=300, bbox_inches='tight')\n",
    "plt.show()"
   ]
  }
 ],
 "metadata": {
  "kernelspec": {
   "display_name": "Python 3",
   "language": "python",
   "name": "python3"
  },
  "language_info": {
   "codemirror_mode": {
    "name": "ipython",
    "version": 3
   },
   "file_extension": ".py",
   "mimetype": "text/x-python",
   "name": "python",
   "nbconvert_exporter": "python",
   "pygments_lexer": "ipython3",
   "version": "3.13.7"
  }
 },
 "nbformat": 4,
 "nbformat_minor": 5
}
