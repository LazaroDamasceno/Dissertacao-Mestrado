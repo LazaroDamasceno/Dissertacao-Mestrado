{
 "cells": [
  {
   "cell_type": "code",
   "execution_count": 1,
   "id": "93558217",
   "metadata": {},
   "outputs": [],
   "source": [
    "import pandas as pd\n",
    "import matplotlib.pyplot as plt\n",
    "import seaborn as sns\n",
    "import numpy as np\n",
    "from itertools import chain"
   ]
  },
  {
   "cell_type": "markdown",
   "id": "10b85474",
   "metadata": {},
   "source": []
  },
  {
   "cell_type": "code",
   "execution_count": 2,
   "id": "0a5f54a5",
   "metadata": {},
   "outputs": [],
   "source": [
    "wgi = pd.read_excel('wgidataset.xlsx')"
   ]
  },
  {
   "cell_type": "code",
   "execution_count": 3,
   "id": "4946b18f",
   "metadata": {},
   "outputs": [],
   "source": [
    "wgi = wgi.iloc[:, chain(range(2, 5), [8])]"
   ]
  },
  {
   "cell_type": "markdown",
   "id": "c5e96450",
   "metadata": {},
   "source": []
  },
  {
   "cell_type": "code",
   "execution_count": 4,
   "id": "bc3849f3",
   "metadata": {},
   "outputs": [
    {
     "name": "stderr",
     "output_type": "stream",
     "text": [
      "C:\\Users\\lazar\\AppData\\Local\\Temp\\ipykernel_10284\\1473602699.py:2: FutureWarning: Downcasting behavior in `replace` is deprecated and will be removed in a future version. To retain the old behavior, explicitly call `result.infer_objects(copy=False)`. To opt-in to the future behavior, set `pd.set_option('future.no_silent_downcasting', True)`\n",
      "  ge = ge.replace({\n"
     ]
    }
   ],
   "source": [
    "ge = wgi.loc[(wgi['indicator'] == 'ge') & (wgi['year'] == 2023)].reset_index(drop=True)\n",
    "ge = ge.replace({\n",
    "    '..': np.nan\n",
    "})"
   ]
  },
  {
   "cell_type": "code",
   "execution_count": 5,
   "id": "acf55758",
   "metadata": {},
   "outputs": [
    {
     "name": "stderr",
     "output_type": "stream",
     "text": [
      "C:\\Users\\lazar\\AppData\\Local\\Temp\\ipykernel_10284\\2630773630.py:2: FutureWarning: Downcasting behavior in `replace` is deprecated and will be removed in a future version. To retain the old behavior, explicitly call `result.infer_objects(copy=False)`. To opt-in to the future behavior, set `pd.set_option('future.no_silent_downcasting', True)`\n",
      "  cc = cc.replace({\n"
     ]
    }
   ],
   "source": [
    "cc = wgi.loc[(wgi['indicator'] == 'cc') & (wgi['year'] == 2023)].reset_index(drop=True)\n",
    "cc = cc.replace({\n",
    "    '..': np.nan\n",
    "})"
   ]
  },
  {
   "cell_type": "code",
   "execution_count": 6,
   "id": "ad583e31",
   "metadata": {},
   "outputs": [
    {
     "name": "stderr",
     "output_type": "stream",
     "text": [
      "C:\\Users\\lazar\\AppData\\Local\\Temp\\ipykernel_10284\\3747147243.py:2: FutureWarning: Downcasting behavior in `replace` is deprecated and will be removed in a future version. To retain the old behavior, explicitly call `result.infer_objects(copy=False)`. To opt-in to the future behavior, set `pd.set_option('future.no_silent_downcasting', True)`\n",
      "  va = va.replace({\n"
     ]
    }
   ],
   "source": [
    "va = wgi.loc[(wgi['indicator'] == 'va') & (wgi['year'] == 2023)].reset_index(drop=True)\n",
    "va = va.replace({\n",
    "    '..': np.nan\n",
    "})"
   ]
  },
  {
   "cell_type": "markdown",
   "id": "16d58ce1",
   "metadata": {},
   "source": []
  },
  {
   "cell_type": "code",
   "execution_count": 7,
   "id": "f60157d8",
   "metadata": {},
   "outputs": [
    {
     "data": {
      "image/png": "[encoded data removed]",
      "text/plain": [
       "<Figure size 1000x600 with 3 Axes>"
      ]
     },
     "metadata": {},
     "output_type": "display_data"
    }
   ],
   "source": [
    "fig, ax = plt.subplots(1, 3, figsize=(10, 6))\n",
    "\n",
    "plot1 = sns.boxplot(ge, y='pctrank', boxprops=dict(facecolor='white', edgecolor='black'), ax=ax[0])\n",
    "plot2 = sns.boxplot(cc, y='pctrank', boxprops=dict(facecolor='white', edgecolor='black'), ax=ax[1])\n",
    "plot3 = sns.boxplot(va, y='pctrank', boxprops=dict(facecolor='white', edgecolor='black'), ax=ax[2])\n",
    "\n",
    "plot1.set_title('Government Effectiveness')\n",
    "plot2.set_title('Control of Corruption')\n",
    "plot3.set_title('Voice and Accountability')\n",
    "\n",
    "plot1.set_ylabel('')\n",
    "plot2.set_ylabel('')\n",
    "plot3.set_ylabel('')\n",
    "\n",
    "plt.tight_layout()\n",
    "plt.savefig('C:/Users/lazar/Master-Dissertation/figuras/quartis_wgi_ge_cc_va.png', dpi=300, bbox_inches='tight')\n",
    "plt.show()"
   ]
  }
 ],
 "metadata": {
  "kernelspec": {
   "display_name": "Python 3",
   "language": "python",
   "name": "python3"
  },
  "language_info": {
   "codemirror_mode": {
    "name": "ipython",
    "version": 3
   },
   "file_extension": ".py",
   "mimetype": "text/x-python",
   "name": "python",
   "nbconvert_exporter": "python",
   "pygments_lexer": "ipython3",
   "version": "3.13.7"
  }
 },
 "nbformat": 4,
 "nbformat_minor": 5
}
