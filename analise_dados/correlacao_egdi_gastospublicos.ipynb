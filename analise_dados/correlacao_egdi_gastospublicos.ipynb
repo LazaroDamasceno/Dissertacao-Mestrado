{
 "cells": [
  {
   "cell_type": "code",
   "execution_count": 1,
   "id": "9681c7d5",
   "metadata": {},
   "outputs": [],
   "source": [
    "import pandas as pd\n",
    "import matplotlib.pyplot as plt\n",
    "import seaborn as sns"
   ]
  },
  {
   "cell_type": "markdown",
   "id": "f6e866ce",
   "metadata": {},
   "source": []
  },
  {
   "cell_type": "code",
   "execution_count": 2,
   "id": "6c052c09",
   "metadata": {},
   "outputs": [],
   "source": [
    "egdi = pd.read_csv('EGOV_DATA_2024.csv')"
   ]
  },
  {
   "cell_type": "code",
   "execution_count": 3,
   "id": "2f7ebd0f",
   "metadata": {},
   "outputs": [],
   "source": [
    "gastos_publicos = pd.read_excel('imf_government_expenditure.xls')"
   ]
  },
  {
   "cell_type": "markdown",
   "id": "6fe970a5",
   "metadata": {},
   "source": []
  },
  {
   "cell_type": "code",
   "execution_count": 4,
   "id": "01c5e73c",
   "metadata": {},
   "outputs": [
    {
     "name": "stdout",
     "output_type": "stream",
     "text": [
      "<class 'pandas.core.frame.DataFrame'>\n",
      "RangeIndex: 193 entries, 0 to 192\n",
      "Data columns (total 8 columns):\n",
      " #   Column                                  Non-Null Count  Dtype  \n",
      "---  ------                                  --------------  -----  \n",
      " 0   Survey Year                             193 non-null    int64  \n",
      " 1   Country Name                            193 non-null    object \n",
      " 2   E-Government Rank                       193 non-null    int64  \n",
      " 3   E-Government Index                      193 non-null    float64\n",
      " 4   E-Participation Index                   193 non-null    float64\n",
      " 5   Online Service Index                    193 non-null    float64\n",
      " 6   Human Capital Index                     193 non-null    float64\n",
      " 7   Telecommunication Infrastructure Index  193 non-null    float64\n",
      "dtypes: float64(5), int64(2), object(1)\n",
      "memory usage: 12.2+ KB\n",
      "None\n"
     ]
    }
   ],
   "source": [
    "print(egdi.info())"
   ]
  },
  {
   "cell_type": "code",
   "execution_count": 5,
   "id": "94bb0eb5",
   "metadata": {},
   "outputs": [
    {
     "name": "stdout",
     "output_type": "stream",
     "text": [
      "<class 'pandas.core.frame.DataFrame'>\n",
      "RangeIndex: 151 entries, 0 to 150\n",
      "Data columns (total 2 columns):\n",
      " #   Column      Non-Null Count  Dtype  \n",
      "---  ------      --------------  -----  \n",
      " 0   Country     151 non-null    object \n",
      " 1   Percentage  151 non-null    float64\n",
      "dtypes: float64(1), object(1)\n",
      "memory usage: 2.5+ KB\n",
      "None\n"
     ]
    }
   ],
   "source": [
    "print(gastos_publicos.info())"
   ]
  },
  {
   "cell_type": "markdown",
   "id": "b469b5bf",
   "metadata": {},
   "source": []
  },
  {
   "cell_type": "code",
   "execution_count": 6,
   "id": "0bba741c",
   "metadata": {},
   "outputs": [
    {
     "name": "stdout",
     "output_type": "stream",
     "text": [
      "193\n",
      "151\n"
     ]
    }
   ],
   "source": [
    "print(egdi['Country Name'].value_counts().sum())\n",
    "print(gastos_publicos['Country'].value_counts().sum())"
   ]
  },
  {
   "cell_type": "markdown",
   "id": "521eaa8f",
   "metadata": {},
   "source": []
  },
  {
   "cell_type": "code",
   "execution_count": 7,
   "id": "33d88b8d",
   "metadata": {},
   "outputs": [
    {
     "data": {
      "text/plain": [
       "{'Aruba',\n",
       " \"China, People's Republic of\",\n",
       " 'Georgia',\n",
       " 'Hong Kong SAR',\n",
       " 'Iran',\n",
       " 'Korea, Republic of',\n",
       " 'Kyrgyz Republic',\n",
       " 'Micronesia, Fed. States of',\n",
       " 'Moldova',\n",
       " 'Republic of Congo',\n",
       " 'Slovak Republic',\n",
       " 'Tanzania',\n",
       " 'Türkiye, Republic of',\n",
       " 'United Kingdom',\n",
       " 'United States',\n",
       " 'Vietnam'}"
      ]
     },
     "execution_count": 7,
     "metadata": {},
     "output_type": "execute_result"
    }
   ],
   "source": [
    "set(gastos_publicos['Country']).difference(egdi['Country Name'])"
   ]
  },
  {
   "cell_type": "code",
   "execution_count": 8,
   "id": "4db38b45",
   "metadata": {},
   "outputs": [],
   "source": [
    "gastos_publicos['Country'] = gastos_publicos['Country'].replace({\n",
    "    'Georgia': 'Georgia (Country)',\n",
    "    'Iran': 'Iran (Islamic Republic of)',\n",
    "    'Micronesia, Fed. States of': 'Micronesia (Federated States of)',\n",
    "    'Moldova': 'Republic of Moldova',\n",
    "    'Korea, Republic of': 'Republic of Korea',\n",
    "    'Tanzania': 'United Republic of Tanzania',\n",
    "    'Slovak Republic': 'Slovakia',\n",
    "    'Türkiye, Republic of': 'Türkiye',\n",
    "    'Republic of Congo': 'Congo',\n",
    "    \"China, People's Republic of\": \"China\",\n",
    "    'Kyrgyz Republic': 'Kyrgyzstan',\n",
    "    'United States': 'United States of America',\n",
    "    'Vietnam': 'Viet Nam',\n",
    "    'United Kingdom': 'United Kingdom of Great Britain and Northern Ireland'\n",
    "})"
   ]
  },
  {
   "cell_type": "code",
   "execution_count": 9,
   "id": "0d8e67fe",
   "metadata": {},
   "outputs": [
    {
     "data": {
      "text/plain": [
       "{'Aruba', 'Hong Kong SAR'}"
      ]
     },
     "execution_count": 9,
     "metadata": {},
     "output_type": "execute_result"
    }
   ],
   "source": [
    "set(gastos_publicos['Country']).difference(egdi['Country Name'])"
   ]
  },
  {
   "cell_type": "markdown",
   "id": "4d38c46d",
   "metadata": {},
   "source": []
  },
  {
   "cell_type": "code",
   "execution_count": 10,
   "id": "69d3b740",
   "metadata": {},
   "outputs": [],
   "source": [
    "gastos_publicos = gastos_publicos[gastos_publicos['Country'].isin(egdi['Country Name'])].sort_values(by='Country').reset_index(drop=True)"
   ]
  },
  {
   "cell_type": "code",
   "execution_count": 11,
   "id": "e23f54b8",
   "metadata": {},
   "outputs": [
    {
     "data": {
      "text/plain": [
       "np.int64(149)"
      ]
     },
     "execution_count": 11,
     "metadata": {},
     "output_type": "execute_result"
    }
   ],
   "source": [
    "gastos_publicos['Country'].value_counts().sum()"
   ]
  },
  {
   "cell_type": "code",
   "execution_count": 12,
   "id": "70adad3e",
   "metadata": {},
   "outputs": [],
   "source": [
    "egdi = egdi[egdi['Country Name'].isin(gastos_publicos['Country'])].sort_values(by='Country Name').reset_index(drop=True)"
   ]
  },
  {
   "cell_type": "code",
   "execution_count": 13,
   "id": "d1f78cd8",
   "metadata": {},
   "outputs": [
    {
     "data": {
      "text/plain": [
       "np.int64(149)"
      ]
     },
     "execution_count": 13,
     "metadata": {},
     "output_type": "execute_result"
    }
   ],
   "source": [
    "egdi['Country Name'].value_counts().sum()"
   ]
  },
  {
   "cell_type": "markdown",
   "id": "5de8fa8a",
   "metadata": {},
   "source": []
  },
  {
   "cell_type": "code",
   "execution_count": 14,
   "id": "1b791c57",
   "metadata": {},
   "outputs": [],
   "source": [
    "egdi = egdi.drop(columns={\n",
    "    'E-Government Rank', \n",
    "    'Survey Year'\n",
    "})"
   ]
  },
  {
   "cell_type": "code",
   "execution_count": 15,
   "id": "f26ae9ba",
   "metadata": {},
   "outputs": [
    {
     "name": "stdout",
     "output_type": "stream",
     "text": [
      "<class 'pandas.core.frame.DataFrame'>\n",
      "RangeIndex: 149 entries, 0 to 148\n",
      "Data columns (total 6 columns):\n",
      " #   Column                                  Non-Null Count  Dtype  \n",
      "---  ------                                  --------------  -----  \n",
      " 0   Country Name                            149 non-null    object \n",
      " 1   E-Government Index                      149 non-null    float64\n",
      " 2   E-Participation Index                   149 non-null    float64\n",
      " 3   Online Service Index                    149 non-null    float64\n",
      " 4   Human Capital Index                     149 non-null    float64\n",
      " 5   Telecommunication Infrastructure Index  149 non-null    float64\n",
      "dtypes: float64(5), object(1)\n",
      "memory usage: 7.1+ KB\n"
     ]
    }
   ],
   "source": [
    "egdi.info()"
   ]
  },
  {
   "cell_type": "markdown",
   "id": "e7f3bf0f",
   "metadata": {},
   "source": []
  },
  {
   "cell_type": "code",
   "execution_count": 16,
   "id": "43ac2549",
   "metadata": {},
   "outputs": [],
   "source": [
    "df = pd.merge(egdi, gastos_publicos, left_on='Country Name', right_on='Country')"
   ]
  },
  {
   "cell_type": "code",
   "execution_count": 17,
   "id": "4463ecfc",
   "metadata": {},
   "outputs": [
    {
     "data": {
      "text/html": [
       "<div>\n",
       "<style scoped>\n",
       "    .dataframe tbody tr th:only-of-type {\n",
       "        vertical-align: middle;\n",
       "    }\n",
       "\n",
       "    .dataframe tbody tr th {\n",
       "        vertical-align: top;\n",
       "    }\n",
       "\n",
       "    .dataframe thead th {\n",
       "        text-align: right;\n",
       "    }\n",
       "</style>\n",
       "<table border=\"1\" class=\"dataframe\">\n",
       "  <thead>\n",
       "    <tr style=\"text-align: right;\">\n",
       "      <th></th>\n",
       "      <th>Country Name</th>\n",
       "      <th>E-Government Index</th>\n",
       "      <th>E-Participation Index</th>\n",
       "      <th>Online Service Index</th>\n",
       "      <th>Human Capital Index</th>\n",
       "      <th>Telecommunication Infrastructure Index</th>\n",
       "      <th>Country</th>\n",
       "      <th>Percentage</th>\n",
       "    </tr>\n",
       "  </thead>\n",
       "  <tbody>\n",
       "    <tr>\n",
       "      <th>0</th>\n",
       "      <td>Albania</td>\n",
       "      <td>0.80000</td>\n",
       "      <td>0.7260</td>\n",
       "      <td>0.81441</td>\n",
       "      <td>0.81059</td>\n",
       "      <td>0.77497</td>\n",
       "      <td>Albania</td>\n",
       "      <td>30.444901</td>\n",
       "    </tr>\n",
       "    <tr>\n",
       "      <th>1</th>\n",
       "      <td>Algeria</td>\n",
       "      <td>0.59556</td>\n",
       "      <td>0.0548</td>\n",
       "      <td>0.33200</td>\n",
       "      <td>0.64179</td>\n",
       "      <td>0.81290</td>\n",
       "      <td>Algeria</td>\n",
       "      <td>32.699300</td>\n",
       "    </tr>\n",
       "    <tr>\n",
       "      <th>2</th>\n",
       "      <td>Angola</td>\n",
       "      <td>0.41487</td>\n",
       "      <td>0.2192</td>\n",
       "      <td>0.39624</td>\n",
       "      <td>0.47602</td>\n",
       "      <td>0.37238</td>\n",
       "      <td>Angola</td>\n",
       "      <td>19.510293</td>\n",
       "    </tr>\n",
       "    <tr>\n",
       "      <th>3</th>\n",
       "      <td>Antigua and Barbuda</td>\n",
       "      <td>0.64282</td>\n",
       "      <td>0.3425</td>\n",
       "      <td>0.41658</td>\n",
       "      <td>0.71757</td>\n",
       "      <td>0.79426</td>\n",
       "      <td>Antigua and Barbuda</td>\n",
       "      <td>20.692064</td>\n",
       "    </tr>\n",
       "    <tr>\n",
       "      <th>4</th>\n",
       "      <td>Argentina</td>\n",
       "      <td>0.85733</td>\n",
       "      <td>0.6301</td>\n",
       "      <td>0.79649</td>\n",
       "      <td>0.93298</td>\n",
       "      <td>0.84254</td>\n",
       "      <td>Argentina</td>\n",
       "      <td>37.714727</td>\n",
       "    </tr>\n",
       "  </tbody>\n",
       "</table>\n",
       "</div>"
      ],
      "text/plain": [
       "          Country Name  E-Government Index  E-Participation Index  \\\n",
       "0              Albania             0.80000                 0.7260   \n",
       "1              Algeria             0.59556                 0.0548   \n",
       "2               Angola             0.41487                 0.2192   \n",
       "3  Antigua and Barbuda             0.64282                 0.3425   \n",
       "4            Argentina             0.85733                 0.6301   \n",
       "\n",
       "   Online Service Index  Human Capital Index  \\\n",
       "0               0.81441              0.81059   \n",
       "1               0.33200              0.64179   \n",
       "2               0.39624              0.47602   \n",
       "3               0.41658              0.71757   \n",
       "4               0.79649              0.93298   \n",
       "\n",
       "   Telecommunication Infrastructure Index              Country  Percentage  \n",
       "0                                 0.77497              Albania   30.444901  \n",
       "1                                 0.81290              Algeria   32.699300  \n",
       "2                                 0.37238               Angola   19.510293  \n",
       "3                                 0.79426  Antigua and Barbuda   20.692064  \n",
       "4                                 0.84254            Argentina   37.714727  "
      ]
     },
     "execution_count": 17,
     "metadata": {},
     "output_type": "execute_result"
    }
   ],
   "source": [
    "df.head()"
   ]
  },
  {
   "cell_type": "code",
   "execution_count": 18,
   "id": "6f683a51",
   "metadata": {},
   "outputs": [
    {
     "name": "stdout",
     "output_type": "stream",
     "text": [
      "<class 'pandas.core.frame.DataFrame'>\n",
      "RangeIndex: 149 entries, 0 to 148\n",
      "Data columns (total 8 columns):\n",
      " #   Column                                  Non-Null Count  Dtype  \n",
      "---  ------                                  --------------  -----  \n",
      " 0   Country Name                            149 non-null    object \n",
      " 1   E-Government Index                      149 non-null    float64\n",
      " 2   E-Participation Index                   149 non-null    float64\n",
      " 3   Online Service Index                    149 non-null    float64\n",
      " 4   Human Capital Index                     149 non-null    float64\n",
      " 5   Telecommunication Infrastructure Index  149 non-null    float64\n",
      " 6   Country                                 149 non-null    object \n",
      " 7   Percentage                              149 non-null    float64\n",
      "dtypes: float64(6), object(2)\n",
      "memory usage: 9.4+ KB\n"
     ]
    }
   ],
   "source": [
    "df.info()"
   ]
  },
  {
   "cell_type": "code",
   "execution_count": 19,
   "id": "02979cef",
   "metadata": {},
   "outputs": [],
   "source": [
    "df = df.drop(columns={\n",
    "    'Country',\n",
    "    'Country Name'\n",
    "})"
   ]
  },
  {
   "cell_type": "code",
   "execution_count": 20,
   "id": "3eee88fc",
   "metadata": {},
   "outputs": [
    {
     "data": {
      "text/html": [
       "<div>\n",
       "<style scoped>\n",
       "    .dataframe tbody tr th:only-of-type {\n",
       "        vertical-align: middle;\n",
       "    }\n",
       "\n",
       "    .dataframe tbody tr th {\n",
       "        vertical-align: top;\n",
       "    }\n",
       "\n",
       "    .dataframe thead th {\n",
       "        text-align: right;\n",
       "    }\n",
       "</style>\n",
       "<table border=\"1\" class=\"dataframe\">\n",
       "  <thead>\n",
       "    <tr style=\"text-align: right;\">\n",
       "      <th></th>\n",
       "      <th>E-Government Index</th>\n",
       "      <th>E-Participation Index</th>\n",
       "      <th>Online Service Index</th>\n",
       "      <th>Human Capital Index</th>\n",
       "      <th>Telecommunication Infrastructure Index</th>\n",
       "      <th>Percentage</th>\n",
       "    </tr>\n",
       "  </thead>\n",
       "  <tbody>\n",
       "    <tr>\n",
       "      <th>0</th>\n",
       "      <td>0.80000</td>\n",
       "      <td>0.7260</td>\n",
       "      <td>0.81441</td>\n",
       "      <td>0.81059</td>\n",
       "      <td>0.77497</td>\n",
       "      <td>30.444901</td>\n",
       "    </tr>\n",
       "    <tr>\n",
       "      <th>1</th>\n",
       "      <td>0.59556</td>\n",
       "      <td>0.0548</td>\n",
       "      <td>0.33200</td>\n",
       "      <td>0.64179</td>\n",
       "      <td>0.81290</td>\n",
       "      <td>32.699300</td>\n",
       "    </tr>\n",
       "    <tr>\n",
       "      <th>2</th>\n",
       "      <td>0.41487</td>\n",
       "      <td>0.2192</td>\n",
       "      <td>0.39624</td>\n",
       "      <td>0.47602</td>\n",
       "      <td>0.37238</td>\n",
       "      <td>19.510293</td>\n",
       "    </tr>\n",
       "    <tr>\n",
       "      <th>3</th>\n",
       "      <td>0.64282</td>\n",
       "      <td>0.3425</td>\n",
       "      <td>0.41658</td>\n",
       "      <td>0.71757</td>\n",
       "      <td>0.79426</td>\n",
       "      <td>20.692064</td>\n",
       "    </tr>\n",
       "    <tr>\n",
       "      <th>4</th>\n",
       "      <td>0.85733</td>\n",
       "      <td>0.6301</td>\n",
       "      <td>0.79649</td>\n",
       "      <td>0.93298</td>\n",
       "      <td>0.84254</td>\n",
       "      <td>37.714727</td>\n",
       "    </tr>\n",
       "  </tbody>\n",
       "</table>\n",
       "</div>"
      ],
      "text/plain": [
       "   E-Government Index  E-Participation Index  Online Service Index  \\\n",
       "0             0.80000                 0.7260               0.81441   \n",
       "1             0.59556                 0.0548               0.33200   \n",
       "2             0.41487                 0.2192               0.39624   \n",
       "3             0.64282                 0.3425               0.41658   \n",
       "4             0.85733                 0.6301               0.79649   \n",
       "\n",
       "   Human Capital Index  Telecommunication Infrastructure Index  Percentage  \n",
       "0              0.81059                                 0.77497   30.444901  \n",
       "1              0.64179                                 0.81290   32.699300  \n",
       "2              0.47602                                 0.37238   19.510293  \n",
       "3              0.71757                                 0.79426   20.692064  \n",
       "4              0.93298                                 0.84254   37.714727  "
      ]
     },
     "execution_count": 20,
     "metadata": {},
     "output_type": "execute_result"
    }
   ],
   "source": [
    "df.head()"
   ]
  },
  {
   "cell_type": "markdown",
   "id": "f76a3f39",
   "metadata": {},
   "source": []
  },
  {
   "cell_type": "code",
   "execution_count": 21,
   "id": "0bb2e492",
   "metadata": {},
   "outputs": [],
   "source": [
    "corr_df = pd.DataFrame({\n",
    "    'EGDI x Gastos Públicos': df['Percentage'].corr(df['E-Government Index'], method='spearman'),\n",
    "    'EPI x Gastos Públicos': df['Percentage'].corr(df['E-Participation Index'], method='spearman'),\n",
    "    'OSI x Gastos Públicos': df['Percentage'].corr(df['Online Service Index'], method='spearman'),\n",
    "    'HCI x Gastos Públicos': df['Percentage'].corr(df['Human Capital Index'], method='spearman'),\n",
    "    'TII x Gastos Públicos': df['Percentage'].corr(df['Telecommunication Infrastructure Index'], method='spearman')\n",
    "}, range(1))"
   ]
  },
  {
   "cell_type": "code",
   "execution_count": 22,
   "id": "4668dbdc",
   "metadata": {},
   "outputs": [
    {
     "data": {
      "text/html": [
       "<div>\n",
       "<style scoped>\n",
       "    .dataframe tbody tr th:only-of-type {\n",
       "        vertical-align: middle;\n",
       "    }\n",
       "\n",
       "    .dataframe tbody tr th {\n",
       "        vertical-align: top;\n",
       "    }\n",
       "\n",
       "    .dataframe thead th {\n",
       "        text-align: right;\n",
       "    }\n",
       "</style>\n",
       "<table border=\"1\" class=\"dataframe\">\n",
       "  <thead>\n",
       "    <tr style=\"text-align: right;\">\n",
       "      <th></th>\n",
       "      <th>EGDI x Gastos Públicos</th>\n",
       "      <th>EPI x Gastos Públicos</th>\n",
       "      <th>OSI x Gastos Públicos</th>\n",
       "      <th>HCI x Gastos Públicos</th>\n",
       "      <th>TII x Gastos Públicos</th>\n",
       "    </tr>\n",
       "  </thead>\n",
       "  <tbody>\n",
       "    <tr>\n",
       "      <th>0</th>\n",
       "      <td>0.53495</td>\n",
       "      <td>0.443837</td>\n",
       "      <td>0.452726</td>\n",
       "      <td>0.598676</td>\n",
       "      <td>0.462463</td>\n",
       "    </tr>\n",
       "  </tbody>\n",
       "</table>\n",
       "</div>"
      ],
      "text/plain": [
       "   EGDI x Gastos Públicos  EPI x Gastos Públicos  OSI x Gastos Públicos  \\\n",
       "0                 0.53495               0.443837               0.452726   \n",
       "\n",
       "   HCI x Gastos Públicos  TII x Gastos Públicos  \n",
       "0               0.598676               0.462463  "
      ]
     },
     "execution_count": 22,
     "metadata": {},
     "output_type": "execute_result"
    }
   ],
   "source": [
    "corr_df.head()"
   ]
  },
  {
   "cell_type": "markdown",
   "id": "be9b2744",
   "metadata": {},
   "source": []
  },
  {
   "cell_type": "code",
   "execution_count": 23,
   "id": "fa31e972",
   "metadata": {},
   "outputs": [],
   "source": [
    "corr_df = corr_df.melt(\n",
    "    value_vars=[\n",
    "        'EGDI x Gastos Públicos',\n",
    "        'EPI x Gastos Públicos',\n",
    "        'OSI x Gastos Públicos',\n",
    "        'HCI x Gastos Públicos',\n",
    "        'TII x Gastos Públicos'\n",
    "    ],\n",
    "    var_name='Comparacao', \n",
    "    value_name='Coeficiente_Correlacao'\n",
    ")"
   ]
  },
  {
   "cell_type": "code",
   "execution_count": 24,
   "id": "31e54952",
   "metadata": {},
   "outputs": [
    {
     "data": {
      "text/html": [
       "<div>\n",
       "<style scoped>\n",
       "    .dataframe tbody tr th:only-of-type {\n",
       "        vertical-align: middle;\n",
       "    }\n",
       "\n",
       "    .dataframe tbody tr th {\n",
       "        vertical-align: top;\n",
       "    }\n",
       "\n",
       "    .dataframe thead th {\n",
       "        text-align: right;\n",
       "    }\n",
       "</style>\n",
       "<table border=\"1\" class=\"dataframe\">\n",
       "  <thead>\n",
       "    <tr style=\"text-align: right;\">\n",
       "      <th></th>\n",
       "      <th>Comparacao</th>\n",
       "      <th>Coeficiente_Correlacao</th>\n",
       "    </tr>\n",
       "  </thead>\n",
       "  <tbody>\n",
       "    <tr>\n",
       "      <th>0</th>\n",
       "      <td>EGDI x Gastos Públicos</td>\n",
       "      <td>0.534950</td>\n",
       "    </tr>\n",
       "    <tr>\n",
       "      <th>1</th>\n",
       "      <td>EPI x Gastos Públicos</td>\n",
       "      <td>0.443837</td>\n",
       "    </tr>\n",
       "    <tr>\n",
       "      <th>2</th>\n",
       "      <td>OSI x Gastos Públicos</td>\n",
       "      <td>0.452726</td>\n",
       "    </tr>\n",
       "    <tr>\n",
       "      <th>3</th>\n",
       "      <td>HCI x Gastos Públicos</td>\n",
       "      <td>0.598676</td>\n",
       "    </tr>\n",
       "    <tr>\n",
       "      <th>4</th>\n",
       "      <td>TII x Gastos Públicos</td>\n",
       "      <td>0.462463</td>\n",
       "    </tr>\n",
       "  </tbody>\n",
       "</table>\n",
       "</div>"
      ],
      "text/plain": [
       "               Comparacao  Coeficiente_Correlacao\n",
       "0  EGDI x Gastos Públicos                0.534950\n",
       "1   EPI x Gastos Públicos                0.443837\n",
       "2   OSI x Gastos Públicos                0.452726\n",
       "3   HCI x Gastos Públicos                0.598676\n",
       "4   TII x Gastos Públicos                0.462463"
      ]
     },
     "execution_count": 24,
     "metadata": {},
     "output_type": "execute_result"
    }
   ],
   "source": [
    "corr_df.head()"
   ]
  },
  {
   "cell_type": "markdown",
   "id": "cd2071ca",
   "metadata": {},
   "source": []
  },
  {
   "cell_type": "code",
   "execution_count": 25,
   "id": "62228811",
   "metadata": {},
   "outputs": [
    {
     "data": {
      "image/png": "[encoded data removed]",
      "text/plain": [
       "<Figure size 1000x600 with 1 Axes>"
      ]
     },
     "metadata": {},
     "output_type": "display_data"
    }
   ],
   "source": [
    "fig, ax = plt.subplots(figsize=(10, 6))\n",
    "\n",
    "bar_container = sns.barplot(corr_df, x='Coeficiente_Correlacao', y='Comparacao')\n",
    "\n",
    "ax.bar_label(bar_container.containers[0], fmt=lambda x: f'{x:.2f}'.replace('.', ','), label_type='edge', padding=3)\n",
    "sns.despine(bottom=True)\n",
    "ax.set_xlabel('')\n",
    "ax.set_ylabel('')\n",
    "ax.xaxis.set_visible(False)\n",
    "plt.tight_layout()\n",
    "plt.savefig('C:/Users/lazar/Master-Dissertation/figuras/correlacao_egdi_gastospublicos.png', dpi=300, bbox_inches='tight')\n",
    "plt.show()"
   ]
  }
 ],
 "metadata": {
  "kernelspec": {
   "display_name": "Python 3",
   "language": "python",
   "name": "python3"
  },
  "language_info": {
   "codemirror_mode": {
    "name": "ipython",
    "version": 3
   },
   "file_extension": ".py",
   "mimetype": "text/x-python",
   "name": "python",
   "nbconvert_exporter": "python",
   "pygments_lexer": "ipython3",
   "version": "3.13.7"
  }
 },
 "nbformat": 4,
 "nbformat_minor": 5
}
