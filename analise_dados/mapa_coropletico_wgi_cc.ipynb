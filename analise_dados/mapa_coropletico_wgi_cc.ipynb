{
 "cells": [
  {
   "cell_type": "code",
   "execution_count": 1,
   "id": "aa83a593",
   "metadata": {},
   "outputs": [],
   "source": [
    "import pandas as pd\n",
    "import geopandas as gpd\n",
    "from itertools import chain\n",
    "import numpy as np"
   ]
  },
  {
   "cell_type": "markdown",
   "id": "a54dd2c7",
   "metadata": {},
   "source": []
  },
  {
   "cell_type": "code",
   "execution_count": 2,
   "id": "c3f272e6",
   "metadata": {},
   "outputs": [],
   "source": [
    "egdi = pd.read_csv('EGOV_DATA_2024.csv')"
   ]
  },
  {
   "cell_type": "code",
   "execution_count": 3,
   "id": "e4693870",
   "metadata": {},
   "outputs": [],
   "source": [
    "wgi = pd.read_excel('wgidataset.xlsx')"
   ]
  },
  {
   "cell_type": "code",
   "execution_count": 4,
   "id": "fe56b9b8",
   "metadata": {},
   "outputs": [],
   "source": [
    "mapa = gpd.read_file('ne_110m_admin_0_countries')"
   ]
  },
  {
   "cell_type": "markdown",
   "id": "c002cb1c",
   "metadata": {},
   "source": []
  },
  {
   "cell_type": "code",
   "execution_count": 5,
   "id": "af2af326",
   "metadata": {},
   "outputs": [],
   "source": [
    "wgi = wgi.loc[(wgi['year'] == 2023) & (wgi['indicator'] == 'cc')].reset_index(drop=True).iloc[:, chain(range(2, 5), [8])]"
   ]
  },
  {
   "cell_type": "code",
   "execution_count": 6,
   "id": "0dd3d46e",
   "metadata": {},
   "outputs": [
    {
     "name": "stdout",
     "output_type": "stream",
     "text": [
      "<class 'pandas.core.frame.DataFrame'>\n",
      "RangeIndex: 214 entries, 0 to 213\n",
      "Data columns (total 4 columns):\n",
      " #   Column       Non-Null Count  Dtype \n",
      "---  ------       --------------  ----- \n",
      " 0   countryname  214 non-null    object\n",
      " 1   year         214 non-null    int64 \n",
      " 2   indicator    214 non-null    object\n",
      " 3   pctrank      214 non-null    object\n",
      "dtypes: int64(1), object(3)\n",
      "memory usage: 6.8+ KB\n"
     ]
    }
   ],
   "source": [
    "wgi.info()"
   ]
  },
  {
   "cell_type": "code",
   "execution_count": 7,
   "id": "8e2bfc17",
   "metadata": {},
   "outputs": [],
   "source": [
    "wgi = wgi.iloc[:, [0, 2, 3]]"
   ]
  },
  {
   "cell_type": "code",
   "execution_count": 8,
   "id": "93f98c7b",
   "metadata": {},
   "outputs": [
    {
     "name": "stdout",
     "output_type": "stream",
     "text": [
      "<class 'pandas.core.frame.DataFrame'>\n",
      "RangeIndex: 214 entries, 0 to 213\n",
      "Data columns (total 3 columns):\n",
      " #   Column       Non-Null Count  Dtype \n",
      "---  ------       --------------  ----- \n",
      " 0   countryname  214 non-null    object\n",
      " 1   indicator    214 non-null    object\n",
      " 2   pctrank      214 non-null    object\n",
      "dtypes: object(3)\n",
      "memory usage: 5.1+ KB\n"
     ]
    }
   ],
   "source": [
    "wgi.info()"
   ]
  },
  {
   "cell_type": "markdown",
   "id": "9a65e2c3",
   "metadata": {},
   "source": []
  },
  {
   "cell_type": "code",
   "execution_count": 9,
   "id": "7133d360",
   "metadata": {},
   "outputs": [
    {
     "data": {
      "text/plain": [
       "np.int64(214)"
      ]
     },
     "execution_count": 9,
     "metadata": {},
     "output_type": "execute_result"
    }
   ],
   "source": [
    "wgi['countryname'].value_counts().sum()"
   ]
  },
  {
   "cell_type": "code",
   "execution_count": 10,
   "id": "4c14edc8",
   "metadata": {},
   "outputs": [
    {
     "data": {
      "text/plain": [
       "np.int64(193)"
      ]
     },
     "execution_count": 10,
     "metadata": {},
     "output_type": "execute_result"
    }
   ],
   "source": [
    "egdi['Country Name'].value_counts().sum()"
   ]
  },
  {
   "cell_type": "code",
   "execution_count": 11,
   "id": "b9c98606",
   "metadata": {},
   "outputs": [
    {
     "data": {
      "text/plain": [
       "{'Bahamas',\n",
       " 'Cabo Verde',\n",
       " 'Congo',\n",
       " \"Democratic People's Republic of Korea\",\n",
       " 'Democratic Republic of the Congo',\n",
       " 'Egypt',\n",
       " 'Gambia',\n",
       " 'Georgia (Country)',\n",
       " 'Iran (Islamic Republic of)',\n",
       " 'Kyrgyzstan',\n",
       " \"Lao People's Democratic Republic\",\n",
       " 'Micronesia (Federated States of)',\n",
       " 'Republic of Korea',\n",
       " 'Republic of Moldova',\n",
       " 'Saint Kitts and Nevis',\n",
       " 'Saint Lucia',\n",
       " 'Saint Vincent and the Grenadines',\n",
       " 'Sao Tome and Principe',\n",
       " 'Slovakia',\n",
       " 'United Kingdom of Great Britain and Northern Ireland',\n",
       " 'United Republic of Tanzania',\n",
       " 'United States of America',\n",
       " 'Venezuela',\n",
       " 'Yemen'}"
      ]
     },
     "execution_count": 11,
     "metadata": {},
     "output_type": "execute_result"
    }
   ],
   "source": [
    "set(egdi['Country Name']).difference(wgi['countryname'])"
   ]
  },
  {
   "cell_type": "code",
   "execution_count": 12,
   "id": "8c1f65c3",
   "metadata": {},
   "outputs": [],
   "source": [
    "wgi['countryname'] = wgi['countryname'].replace({\n",
    "    'Georgia': 'Georgia (Country)',\n",
    "    'Bahamas, The': 'Bahamas',\n",
    "    'Gambia, The': 'Gambia',\n",
    "    'Lao PDR': \"Lao People's Democratic Republic\",\n",
    "    'Cape Verde': 'Cabo Verde',\n",
    "    'Korea, Rep.': 'Republic of Korea',\n",
    "    'Moldova': 'Republic of Moldova',\n",
    "    'Slovak Republic': 'Slovakia',\n",
    "    'Venezuela, RB': 'Venezuela',\n",
    "    'Congo, Rep.': 'Congo',\n",
    "    'Kyrgyz Republic': 'Kyrgyzstan',\n",
    "    'Yemen, Rep.': 'Yemen',\n",
    "    'Micronesia, Fed. Sts.': 'Micronesia (Federated States of)',\n",
    "    'United Kingdom': 'United Kingdom of Great Britain and Northern Ireland',\n",
    "    'Tanzania':  'United Republic of Tanzania',\n",
    "    'United States': 'United States of America',\n",
    "    'St. Kitts and Nevis': 'Saint Kitts and Nevis',\n",
    "    'St. Lucia': 'Saint Lucia',\n",
    "    'St. Vincent and the Grenadines': 'Saint Vincent and the Grenadines',\n",
    "    'Egypt, Arab Rep.': 'Egypt',\n",
    "    \"Korea, Dem. Rep.\": \"Democratic People's Republic of Korea\",\n",
    "    'Congo, Dem. Rep.': 'Democratic Republic of the Congo',\n",
    "    'Iran, Islamic Rep.': 'Iran (Islamic Republic of)',\n",
    "    'São Tomé and Principe': 'Sao Tome and Principe'\n",
    "})"
   ]
  },
  {
   "cell_type": "code",
   "execution_count": 13,
   "id": "5d8fabd5",
   "metadata": {},
   "outputs": [
    {
     "data": {
      "text/plain": [
       "set()"
      ]
     },
     "execution_count": 13,
     "metadata": {},
     "output_type": "execute_result"
    }
   ],
   "source": [
    "set(egdi['Country Name']).difference(wgi['countryname'])"
   ]
  },
  {
   "cell_type": "markdown",
   "id": "39227894",
   "metadata": {},
   "source": []
  },
  {
   "cell_type": "code",
   "execution_count": 14,
   "id": "a7c5e5fb",
   "metadata": {},
   "outputs": [
    {
     "data": {
      "text/plain": [
       "np.int64(177)"
      ]
     },
     "execution_count": 14,
     "metadata": {},
     "output_type": "execute_result"
    }
   ],
   "source": [
    "mapa['SOVEREIGNT'].value_counts().sum()"
   ]
  },
  {
   "cell_type": "code",
   "execution_count": 15,
   "id": "7bbc57e3",
   "metadata": {},
   "outputs": [
    {
     "data": {
      "text/plain": [
       "{'Antarctica',\n",
       " 'Brunei',\n",
       " 'Czechia',\n",
       " 'East Timor',\n",
       " 'Georgia',\n",
       " 'Iran',\n",
       " 'Ivory Coast',\n",
       " 'Kosovo',\n",
       " 'Laos',\n",
       " 'Moldova',\n",
       " 'North Korea',\n",
       " 'Northern Cyprus',\n",
       " 'Republic of Serbia',\n",
       " 'Republic of the Congo',\n",
       " 'Russia',\n",
       " 'Somaliland',\n",
       " 'South Korea',\n",
       " 'Syria',\n",
       " 'Taiwan',\n",
       " 'The Bahamas',\n",
       " 'Turkey',\n",
       " 'United Kingdom',\n",
       " 'Vietnam',\n",
       " 'Western Sahara',\n",
       " 'eSwatini'}"
      ]
     },
     "execution_count": 15,
     "metadata": {},
     "output_type": "execute_result"
    }
   ],
   "source": [
    "set(mapa['SOVEREIGNT']).difference(egdi['Country Name'])"
   ]
  },
  {
   "cell_type": "code",
   "execution_count": 16,
   "id": "a7793f3d",
   "metadata": {},
   "outputs": [],
   "source": [
    "mapa['SOVEREIGNT'] = mapa['SOVEREIGNT'].replace({\n",
    "    'eSwatini': 'Eswatini', \n",
    "    'Iran': 'Iran (Islamic Republic of)',\n",
    "    'Georgia': 'Georgia (Country)',\n",
    "    'Ivory Coast': \"Côte d'Ivoire\",\n",
    "    'East Timor': 'Timor-Leste',\n",
    "    'Laos': 'Lao People\\'s Democratic Republic',\n",
    "    'Czechia': 'Czech Republic',\n",
    "    'Republic of Serbia': 'Serbia',\n",
    "    'Republic of the Congo': 'Congo',\n",
    "    'Russia': 'Russian Federation',\n",
    "    'Brunei': 'Brunei Darussalam',\n",
    "    'Moldova': 'Republic of Moldova',\n",
    "    'South Korea': 'Republic of Korea',\n",
    "    \"North Korea\": \"Democratic People's Republic of Korea\",\n",
    "    'Syria': 'Syrian Arab Republic',\n",
    "    'The Bahamas': 'Bahamas',\n",
    "    'Turkey': 'Türkiye',\n",
    "    'Vietnam': 'Viet Nam',\n",
    "    'United Kingdom': 'United Kingdom of Great Britain and Northern Ireland'\n",
    "})"
   ]
  },
  {
   "cell_type": "code",
   "execution_count": 17,
   "id": "8d5ecb0a",
   "metadata": {},
   "outputs": [
    {
     "data": {
      "text/plain": [
       "{'Antarctica',\n",
       " 'Kosovo',\n",
       " 'Northern Cyprus',\n",
       " 'Somaliland',\n",
       " 'Taiwan',\n",
       " 'Western Sahara'}"
      ]
     },
     "execution_count": 17,
     "metadata": {},
     "output_type": "execute_result"
    }
   ],
   "source": [
    "set(mapa['SOVEREIGNT']).difference(egdi['Country Name'])"
   ]
  },
  {
   "cell_type": "markdown",
   "id": "4b05a84f",
   "metadata": {},
   "source": []
  },
  {
   "cell_type": "code",
   "execution_count": 18,
   "id": "97b110ce",
   "metadata": {},
   "outputs": [
    {
     "name": "stderr",
     "output_type": "stream",
     "text": [
      "C:\\Users\\lazar\\AppData\\Local\\Temp\\ipykernel_7632\\135315054.py:1: FutureWarning: Downcasting behavior in `replace` is deprecated and will be removed in a future version. To retain the old behavior, explicitly call `result.infer_objects(copy=False)`. To opt-in to the future behavior, set `pd.set_option('future.no_silent_downcasting', True)`\n",
      "  wgi = wgi.replace({\n"
     ]
    }
   ],
   "source": [
    "wgi = wgi.replace({\n",
    "    '..': np.nan\n",
    "})"
   ]
  },
  {
   "cell_type": "markdown",
   "id": "2f79a4e0",
   "metadata": {},
   "source": []
  },
  {
   "cell_type": "code",
   "execution_count": 19,
   "id": "f9d5e01f",
   "metadata": {},
   "outputs": [],
   "source": [
    "df = mapa.merge(wgi, left_on ='SOVEREIGNT', right_on='countryname')"
   ]
  },
  {
   "cell_type": "code",
   "execution_count": 20,
   "id": "d3635690",
   "metadata": {},
   "outputs": [],
   "source": [
    "df = gpd.GeoDataFrame(df)"
   ]
  },
  {
   "cell_type": "code",
   "execution_count": 21,
   "id": "4097fbce",
   "metadata": {},
   "outputs": [
    {
     "data": {
      "text/html": [
       "<div>\n",
       "<style scoped>\n",
       "    .dataframe tbody tr th:only-of-type {\n",
       "        vertical-align: middle;\n",
       "    }\n",
       "\n",
       "    .dataframe tbody tr th {\n",
       "        vertical-align: top;\n",
       "    }\n",
       "\n",
       "    .dataframe thead th {\n",
       "        text-align: right;\n",
       "    }\n",
       "</style>\n",
       "<table border=\"1\" class=\"dataframe\">\n",
       "  <thead>\n",
       "    <tr style=\"text-align: right;\">\n",
       "      <th></th>\n",
       "      <th>featurecla</th>\n",
       "      <th>scalerank</th>\n",
       "      <th>LABELRANK</th>\n",
       "      <th>SOVEREIGNT</th>\n",
       "      <th>SOV_A3</th>\n",
       "      <th>ADM0_DIF</th>\n",
       "      <th>LEVEL</th>\n",
       "      <th>TYPE</th>\n",
       "      <th>TLC</th>\n",
       "      <th>ADMIN</th>\n",
       "      <th>...</th>\n",
       "      <th>FCLASS_GR</th>\n",
       "      <th>FCLASS_IT</th>\n",
       "      <th>FCLASS_NL</th>\n",
       "      <th>FCLASS_SE</th>\n",
       "      <th>FCLASS_BD</th>\n",
       "      <th>FCLASS_UA</th>\n",
       "      <th>geometry</th>\n",
       "      <th>countryname</th>\n",
       "      <th>indicator</th>\n",
       "      <th>pctrank</th>\n",
       "    </tr>\n",
       "  </thead>\n",
       "  <tbody>\n",
       "    <tr>\n",
       "      <th>0</th>\n",
       "      <td>Admin-0 country</td>\n",
       "      <td>1</td>\n",
       "      <td>6</td>\n",
       "      <td>Fiji</td>\n",
       "      <td>FJI</td>\n",
       "      <td>0</td>\n",
       "      <td>2</td>\n",
       "      <td>Sovereign country</td>\n",
       "      <td>1</td>\n",
       "      <td>Fiji</td>\n",
       "      <td>...</td>\n",
       "      <td>None</td>\n",
       "      <td>None</td>\n",
       "      <td>None</td>\n",
       "      <td>None</td>\n",
       "      <td>None</td>\n",
       "      <td>None</td>\n",
       "      <td>MULTIPOLYGON (((180 -16.06713, 180 -16.55522, ...</td>\n",
       "      <td>Fiji</td>\n",
       "      <td>cc</td>\n",
       "      <td>66.037735</td>\n",
       "    </tr>\n",
       "    <tr>\n",
       "      <th>1</th>\n",
       "      <td>Admin-0 country</td>\n",
       "      <td>1</td>\n",
       "      <td>3</td>\n",
       "      <td>United Republic of Tanzania</td>\n",
       "      <td>TZA</td>\n",
       "      <td>0</td>\n",
       "      <td>2</td>\n",
       "      <td>Sovereign country</td>\n",
       "      <td>1</td>\n",
       "      <td>United Republic of Tanzania</td>\n",
       "      <td>...</td>\n",
       "      <td>None</td>\n",
       "      <td>None</td>\n",
       "      <td>None</td>\n",
       "      <td>None</td>\n",
       "      <td>None</td>\n",
       "      <td>None</td>\n",
       "      <td>POLYGON ((33.90371 -0.95, 34.07262 -1.05982, 3...</td>\n",
       "      <td>United Republic of Tanzania</td>\n",
       "      <td>cc</td>\n",
       "      <td>43.867924</td>\n",
       "    </tr>\n",
       "    <tr>\n",
       "      <th>2</th>\n",
       "      <td>Admin-0 country</td>\n",
       "      <td>1</td>\n",
       "      <td>2</td>\n",
       "      <td>Canada</td>\n",
       "      <td>CAN</td>\n",
       "      <td>0</td>\n",
       "      <td>2</td>\n",
       "      <td>Sovereign country</td>\n",
       "      <td>1</td>\n",
       "      <td>Canada</td>\n",
       "      <td>...</td>\n",
       "      <td>None</td>\n",
       "      <td>None</td>\n",
       "      <td>None</td>\n",
       "      <td>None</td>\n",
       "      <td>None</td>\n",
       "      <td>None</td>\n",
       "      <td>MULTIPOLYGON (((-122.84 49, -122.97421 49.0025...</td>\n",
       "      <td>Canada</td>\n",
       "      <td>cc</td>\n",
       "      <td>94.811317</td>\n",
       "    </tr>\n",
       "    <tr>\n",
       "      <th>3</th>\n",
       "      <td>Admin-0 country</td>\n",
       "      <td>1</td>\n",
       "      <td>2</td>\n",
       "      <td>United States of America</td>\n",
       "      <td>US1</td>\n",
       "      <td>1</td>\n",
       "      <td>2</td>\n",
       "      <td>Country</td>\n",
       "      <td>1</td>\n",
       "      <td>United States of America</td>\n",
       "      <td>...</td>\n",
       "      <td>None</td>\n",
       "      <td>None</td>\n",
       "      <td>None</td>\n",
       "      <td>None</td>\n",
       "      <td>None</td>\n",
       "      <td>None</td>\n",
       "      <td>MULTIPOLYGON (((-122.84 49, -120 49, -117.0312...</td>\n",
       "      <td>United States of America</td>\n",
       "      <td>cc</td>\n",
       "      <td>83.018867</td>\n",
       "    </tr>\n",
       "    <tr>\n",
       "      <th>4</th>\n",
       "      <td>Admin-0 country</td>\n",
       "      <td>1</td>\n",
       "      <td>3</td>\n",
       "      <td>Kazakhstan</td>\n",
       "      <td>KA1</td>\n",
       "      <td>1</td>\n",
       "      <td>1</td>\n",
       "      <td>Sovereignty</td>\n",
       "      <td>1</td>\n",
       "      <td>Kazakhstan</td>\n",
       "      <td>...</td>\n",
       "      <td>None</td>\n",
       "      <td>None</td>\n",
       "      <td>None</td>\n",
       "      <td>None</td>\n",
       "      <td>None</td>\n",
       "      <td>None</td>\n",
       "      <td>POLYGON ((87.35997 49.21498, 86.59878 48.54918...</td>\n",
       "      <td>Kazakhstan</td>\n",
       "      <td>cc</td>\n",
       "      <td>47.169811</td>\n",
       "    </tr>\n",
       "  </tbody>\n",
       "</table>\n",
       "<p>5 rows × 172 columns</p>\n",
       "</div>"
      ],
      "text/plain": [
       "        featurecla  scalerank  LABELRANK                   SOVEREIGNT SOV_A3  \\\n",
       "0  Admin-0 country          1          6                         Fiji    FJI   \n",
       "1  Admin-0 country          1          3  United Republic of Tanzania    TZA   \n",
       "2  Admin-0 country          1          2                       Canada    CAN   \n",
       "3  Admin-0 country          1          2     United States of America    US1   \n",
       "4  Admin-0 country          1          3                   Kazakhstan    KA1   \n",
       "\n",
       "   ADM0_DIF  LEVEL               TYPE TLC                        ADMIN  ...  \\\n",
       "0         0      2  Sovereign country   1                         Fiji  ...   \n",
       "1         0      2  Sovereign country   1  United Republic of Tanzania  ...   \n",
       "2         0      2  Sovereign country   1                       Canada  ...   \n",
       "3         1      2            Country   1     United States of America  ...   \n",
       "4         1      1        Sovereignty   1                   Kazakhstan  ...   \n",
       "\n",
       "  FCLASS_GR  FCLASS_IT FCLASS_NL FCLASS_SE  FCLASS_BD FCLASS_UA  \\\n",
       "0      None       None      None      None       None      None   \n",
       "1      None       None      None      None       None      None   \n",
       "2      None       None      None      None       None      None   \n",
       "3      None       None      None      None       None      None   \n",
       "4      None       None      None      None       None      None   \n",
       "\n",
       "                                            geometry  \\\n",
       "0  MULTIPOLYGON (((180 -16.06713, 180 -16.55522, ...   \n",
       "1  POLYGON ((33.90371 -0.95, 34.07262 -1.05982, 3...   \n",
       "2  MULTIPOLYGON (((-122.84 49, -122.97421 49.0025...   \n",
       "3  MULTIPOLYGON (((-122.84 49, -120 49, -117.0312...   \n",
       "4  POLYGON ((87.35997 49.21498, 86.59878 48.54918...   \n",
       "\n",
       "                   countryname indicator    pctrank  \n",
       "0                         Fiji        cc  66.037735  \n",
       "1  United Republic of Tanzania        cc  43.867924  \n",
       "2                       Canada        cc  94.811317  \n",
       "3     United States of America        cc  83.018867  \n",
       "4                   Kazakhstan        cc  47.169811  \n",
       "\n",
       "[5 rows x 172 columns]"
      ]
     },
     "execution_count": 21,
     "metadata": {},
     "output_type": "execute_result"
    }
   ],
   "source": [
    "df.head()"
   ]
  },
  {
   "cell_type": "code",
   "execution_count": null,
   "id": "be98bdc9",
   "metadata": {},
   "outputs": [
    {
     "data": {
      "image/png": "[encoded data removed]",
      "text/plain": [
       "<Figure size 1000x600 with 2 Axes>"
      ]
     },
     "metadata": {},
     "output_type": "display_data"
    }
   ],
   "source": [
    "ax = df.plot(\n",
    "    column='pctrank',\n",
    "    figsize=(10, 6),\n",
    "    legend=True,\n",
    "    legend_kwds={\n",
    "        'orientation': 'horizontal'\n",
    "    },\n",
    "    vmin=0,\n",
    "    vmax=100\n",
    ")\n",
    "\n",
    "ax.axis('off')\n",
    "\n",
    "fig = ax.get_figure()\n",
    "fig.tight_layout()\n",
    "fig.savefig('C:/Users/lazar/Dissertacao-Mestrado-PoderJud-EGDI/figuras/mapa_coropletico_wgi_cc.png', dpi=300, bbox_inches='tight')"
   ]
  }
 ],
 "metadata": {
  "kernelspec": {
   "display_name": "Python 3",
   "language": "python",
   "name": "python3"
  },
  "language_info": {
   "codemirror_mode": {
    "name": "ipython",
    "version": 3
   },
   "file_extension": ".py",
   "mimetype": "text/x-python",
   "name": "python",
   "nbconvert_exporter": "python",
   "pygments_lexer": "ipython3",
   "version": "3.13.7"
  }
 },
 "nbformat": 4,
 "nbformat_minor": 5
}
