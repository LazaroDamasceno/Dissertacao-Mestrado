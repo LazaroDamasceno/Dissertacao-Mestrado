{
 "cells": [
  {
   "cell_type": "code",
   "execution_count": null,
   "id": "aa83a593",
   "metadata": {},
   "outputs": [],
   "source": [
    "import pandas as pd\n",
    "import geopandas as gpd\n",
    "from itertools import chain\n",
    "import numpy as np"
   ]
  },
  {
   "cell_type": "markdown",
   "id": "a54dd2c7",
   "metadata": {},
   "source": []
  },
  {
   "cell_type": "code",
   "execution_count": null,
   "id": "c3f272e6",
   "metadata": {},
   "outputs": [],
   "source": [
    "egdi = pd.read_csv('EGOV_DATA_2024.csv')"
   ]
  },
  {
   "cell_type": "code",
   "execution_count": null,
   "id": "e4693870",
   "metadata": {},
   "outputs": [],
   "source": [
    "wgi = pd.read_excel('wgidataset.xlsx')"
   ]
  },
  {
   "cell_type": "code",
   "execution_count": null,
   "id": "fe56b9b8",
   "metadata": {},
   "outputs": [],
   "source": [
    "mapa = gpd.read_file('ne_110m_admin_0_countries')"
   ]
  },
  {
   "cell_type": "markdown",
   "id": "c002cb1c",
   "metadata": {},
   "source": []
  },
  {
   "cell_type": "code",
   "execution_count": null,
   "id": "af2af326",
   "metadata": {},
   "outputs": [],
   "source": [
    "ge = wgi.loc[(wgi['year'] == 2023) & (wgi['indicator'] == 'ge')].reset_index(drop=True).iloc[:, chain(range(2, 5), [8])]"
   ]
  },
  {
   "cell_type": "code",
   "execution_count": null,
   "id": "0dd3d46e",
   "metadata": {},
   "outputs": [],
   "source": [
    "ge.info()"
   ]
  },
  {
   "cell_type": "code",
   "execution_count": null,
   "id": "8e2bfc17",
   "metadata": {},
   "outputs": [],
   "source": [
    "ge = ge.iloc[:, [0, 2, 3]]"
   ]
  },
  {
   "cell_type": "code",
   "execution_count": null,
   "id": "93f98c7b",
   "metadata": {},
   "outputs": [],
   "source": [
    "ge.info()"
   ]
  },
  {
   "cell_type": "markdown",
   "id": "9a65e2c3",
   "metadata": {},
   "source": []
  },
  {
   "cell_type": "code",
   "execution_count": null,
   "id": "7133d360",
   "metadata": {},
   "outputs": [],
   "source": [
    "ge['countryname'].value_counts().sum()"
   ]
  },
  {
   "cell_type": "code",
   "execution_count": null,
   "id": "4c14edc8",
   "metadata": {},
   "outputs": [],
   "source": [
    "egdi['Country Name'].value_counts().sum()"
   ]
  },
  {
   "cell_type": "code",
   "execution_count": null,
   "id": "b9c98606",
   "metadata": {},
   "outputs": [],
   "source": [
    "set(egdi['Country Name']).difference(ge['countryname'])"
   ]
  },
  {
   "cell_type": "code",
   "execution_count": null,
   "id": "8c1f65c3",
   "metadata": {},
   "outputs": [],
   "source": [
    "ge['countryname'] = ge['countryname'].replace({\n",
    "    'Georgia': 'Georgia (Country)',\n",
    "    'Bahamas, The': 'Bahamas',\n",
    "    'Gambia, The': 'Gambia',\n",
    "    'Lao PDR': \"Lao People's Democratic Republic\",\n",
    "    'Cape Verde': 'Cabo Verde',\n",
    "    'Korea, Rep.': 'Republic of Korea',\n",
    "    'Moldova': 'Republic of Moldova',\n",
    "    'Slovak Republic': 'Slovakia',\n",
    "    'Venezuela, RB': 'Venezuela',\n",
    "    'Congo, Rep.': 'Congo',\n",
    "    'Kyrgyz Republic': 'Kyrgyzstan',\n",
    "    'Yemen, Rep.': 'Yemen',\n",
    "    'Micronesia, Fed. Sts.': 'Micronesia (Federated States of)',\n",
    "    'United Kingdom': 'United Kingdom of Great Britain and Northern Ireland',\n",
    "    'Tanzania':  'United Republic of Tanzania',\n",
    "    'United States': 'United States of America',\n",
    "    'St. Kitts and Nevis': 'Saint Kitts and Nevis',\n",
    "    'St. Lucia': 'Saint Lucia',\n",
    "    'St. Vincent and the Grenadines': 'Saint Vincent and the Grenadines',\n",
    "    'Egypt, Arab Rep.': 'Egypt',\n",
    "    \"Korea, Dem. Rep.\": \"Democratic People's Republic of Korea\",\n",
    "    'Congo, Dem. Rep.': 'Democratic Republic of the Congo',\n",
    "    'Iran, Islamic Rep.': 'Iran (Islamic Republic of)',\n",
    "    'São Tomé and Principe': 'Sao Tome and Principe'\n",
    "})"
   ]
  },
  {
   "cell_type": "code",
   "execution_count": null,
   "id": "5d8fabd5",
   "metadata": {},
   "outputs": [],
   "source": [
    "set(egdi['Country Name']).difference(ge['countryname'])"
   ]
  },
  {
   "cell_type": "markdown",
   "id": "39227894",
   "metadata": {},
   "source": []
  },
  {
   "cell_type": "code",
   "execution_count": null,
   "id": "a7c5e5fb",
   "metadata": {},
   "outputs": [],
   "source": [
    "mapa['SOVEREIGNT'].value_counts().sum()"
   ]
  },
  {
   "cell_type": "code",
   "execution_count": null,
   "id": "7bbc57e3",
   "metadata": {},
   "outputs": [],
   "source": [
    "set(mapa['SOVEREIGNT']).difference(egdi['Country Name'])"
   ]
  },
  {
   "cell_type": "code",
   "execution_count": null,
   "id": "a7793f3d",
   "metadata": {},
   "outputs": [],
   "source": [
    "mapa['SOVEREIGNT'] = mapa['SOVEREIGNT'].replace({\n",
    "    'eSwatini': 'Eswatini', \n",
    "    'Iran': 'Iran (Islamic Republic of)',\n",
    "    'Georgia': 'Georgia (Country)',\n",
    "    'Ivory Coast': \"Côte d'Ivoire\",\n",
    "    'East Timor': 'Timor-Leste',\n",
    "    'Laos': 'Lao People\\'s Democratic Republic',\n",
    "    'Czechia': 'Czech Republic',\n",
    "    'Republic of Serbia': 'Serbia',\n",
    "    'Republic of the Congo': 'Congo',\n",
    "    'Russia': 'Russian Federation',\n",
    "    'Brunei': 'Brunei Darussalam',\n",
    "    'Moldova': 'Republic of Moldova',\n",
    "    'South Korea': 'Republic of Korea',\n",
    "    \"North Korea\": \"Democratic People's Republic of Korea\",\n",
    "    'Syria': 'Syrian Arab Republic',\n",
    "    'The Bahamas': 'Bahamas',\n",
    "    'Turkey': 'Türkiye',\n",
    "    'Vietnam': 'Viet Nam',\n",
    "    'United Kingdom': 'United Kingdom of Great Britain and Northern Ireland'\n",
    "})"
   ]
  },
  {
   "cell_type": "code",
   "execution_count": null,
   "id": "8d5ecb0a",
   "metadata": {},
   "outputs": [],
   "source": [
    "set(mapa['SOVEREIGNT']).difference(egdi['Country Name'])"
   ]
  },
  {
   "cell_type": "markdown",
   "id": "4b05a84f",
   "metadata": {},
   "source": []
  },
  {
   "cell_type": "code",
   "execution_count": null,
   "id": "97b110ce",
   "metadata": {},
   "outputs": [],
   "source": [
    "ge = ge.replace({\n",
    "    '..': np.nan\n",
    "})"
   ]
  },
  {
   "cell_type": "markdown",
   "id": "2f79a4e0",
   "metadata": {},
   "source": []
  },
  {
   "cell_type": "code",
   "execution_count": null,
   "id": "f9d5e01f",
   "metadata": {},
   "outputs": [],
   "source": [
    "df = mapa.merge(ge, left_on ='SOVEREIGNT', right_on='countryname')"
   ]
  },
  {
   "cell_type": "code",
   "execution_count": null,
   "id": "d3635690",
   "metadata": {},
   "outputs": [],
   "source": [
    "df = gpd.GeoDataFrame(df)"
   ]
  },
  {
   "cell_type": "code",
   "execution_count": null,
   "id": "4097fbce",
   "metadata": {},
   "outputs": [],
   "source": [
    "df.head()"
   ]
  },
  {
   "cell_type": "code",
   "execution_count": null,
   "id": "be98bdc9",
   "metadata": {},
   "outputs": [],
   "source": [
    "ax = df.plot(\n",
    "    column='pctrank',\n",
    "    figsize=(10, 6),\n",
    "    legend=True,\n",
    "    legend_kwds={\n",
    "        'orientation': 'horizontal'\n",
    "    },\n",
    "    vmin=0,\n",
    "    vmax=100\n",
    ")\n",
    "\n",
    "ax.axis('off')\n",
    "\n",
    "fig = ax.get_figure()\n",
    "fig.tight_layout()\n",
    "fig.savefig('C:/Users/lazar/Master-Dissertation/figuras/mapa_coropleticos_wgi_ge.png', dpi=300, bbox_inches='tight')"
   ]
  }
 ],
 "metadata": {
  "kernelspec": {
   "display_name": "Python 3",
   "language": "python",
   "name": "python3"
  },
  "language_info": {
   "codemirror_mode": {
    "name": "ipython",
    "version": 3
   },
   "file_extension": ".py",
   "mimetype": "text/x-python",
   "name": "python",
   "nbconvert_exporter": "python",
   "pygments_lexer": "ipython3",
   "version": "3.13.7"
  }
 },
 "nbformat": 4,
 "nbformat_minor": 5
}
