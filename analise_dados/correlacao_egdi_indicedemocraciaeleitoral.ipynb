{
 "cells": [
  {
   "cell_type": "code",
   "execution_count": 1,
   "id": "12edf515",
   "metadata": {},
   "outputs": [],
   "source": [
    "import pandas as pd\n",
    "import matplotlib.pyplot as plt\n",
    "import seaborn as sns"
   ]
  },
  {
   "cell_type": "markdown",
   "id": "bc0266ea",
   "metadata": {},
   "source": []
  },
  {
   "cell_type": "code",
   "execution_count": 2,
   "id": "9b234ed2",
   "metadata": {},
   "outputs": [],
   "source": [
    "egdi = pd.read_csv('EGOV_DATA_2024.csv')"
   ]
  },
  {
   "cell_type": "code",
   "execution_count": 3,
   "id": "7153621f",
   "metadata": {},
   "outputs": [],
   "source": [
    "#Índice de democracia eleitoral\n",
    "ide = pd.read_csv('electoral-democracy-index.csv')"
   ]
  },
  {
   "cell_type": "markdown",
   "id": "1d6af4bd",
   "metadata": {},
   "source": []
  },
  {
   "cell_type": "code",
   "execution_count": 4,
   "id": "f0d316c1",
   "metadata": {},
   "outputs": [
    {
     "name": "stdout",
     "output_type": "stream",
     "text": [
      "<class 'pandas.core.frame.DataFrame'>\n",
      "RangeIndex: 193 entries, 0 to 192\n",
      "Data columns (total 8 columns):\n",
      " #   Column                                  Non-Null Count  Dtype  \n",
      "---  ------                                  --------------  -----  \n",
      " 0   Survey Year                             193 non-null    int64  \n",
      " 1   Country Name                            193 non-null    object \n",
      " 2   E-Government Rank                       193 non-null    int64  \n",
      " 3   E-Government Index                      193 non-null    float64\n",
      " 4   E-Participation Index                   193 non-null    float64\n",
      " 5   Online Service Index                    193 non-null    float64\n",
      " 6   Human Capital Index                     193 non-null    float64\n",
      " 7   Telecommunication Infrastructure Index  193 non-null    float64\n",
      "dtypes: float64(5), int64(2), object(1)\n",
      "memory usage: 12.2+ KB\n"
     ]
    }
   ],
   "source": [
    "egdi.info()"
   ]
  },
  {
   "cell_type": "code",
   "execution_count": 5,
   "id": "637ce975",
   "metadata": {},
   "outputs": [
    {
     "name": "stdout",
     "output_type": "stream",
     "text": [
      "<class 'pandas.core.frame.DataFrame'>\n",
      "RangeIndex: 34132 entries, 0 to 34131\n",
      "Data columns (total 5 columns):\n",
      " #   Column                                        Non-Null Count  Dtype  \n",
      "---  ------                                        --------------  -----  \n",
      " 0   Entity                                        34132 non-null  object \n",
      " 1   Code                                          31186 non-null  object \n",
      " 2   Year                                          34132 non-null  int64  \n",
      " 3   Electoral democracy index (central estimate)  34035 non-null  float64\n",
      " 4   World regions according to OWID               272 non-null    object \n",
      "dtypes: float64(1), int64(1), object(3)\n",
      "memory usage: 1.3+ MB\n"
     ]
    }
   ],
   "source": [
    "ide.info()"
   ]
  },
  {
   "cell_type": "markdown",
   "id": "551751ff",
   "metadata": {},
   "source": []
  },
  {
   "cell_type": "code",
   "execution_count": 6,
   "id": "e61e77bd",
   "metadata": {},
   "outputs": [
    {
     "name": "stdout",
     "output_type": "stream",
     "text": [
      "34132\n",
      "193\n"
     ]
    }
   ],
   "source": [
    "print(ide['Entity'].value_counts().sum())\n",
    "print(egdi['Country Name'].value_counts().sum())"
   ]
  },
  {
   "cell_type": "code",
   "execution_count": 7,
   "id": "2c304d97",
   "metadata": {},
   "outputs": [],
   "source": [
    "ide = ide[ide['Year'] == 2024].reset_index(drop=True)"
   ]
  },
  {
   "cell_type": "code",
   "execution_count": 8,
   "id": "a0a786d3",
   "metadata": {},
   "outputs": [
    {
     "data": {
      "text/plain": [
       "np.int64(193)"
      ]
     },
     "execution_count": 8,
     "metadata": {},
     "output_type": "execute_result"
    }
   ],
   "source": [
    "egdi['Country Name'].value_counts().sum()"
   ]
  },
  {
   "cell_type": "markdown",
   "id": "10960a08",
   "metadata": {},
   "source": [
    "ide.to_csv('indice_democracia_eleitoral_2024.csv')"
   ]
  },
  {
   "cell_type": "code",
   "execution_count": 9,
   "id": "a6ab77c8",
   "metadata": {},
   "outputs": [
    {
     "data": {
      "text/plain": [
       "{'Andorra',\n",
       " 'Antigua and Barbuda',\n",
       " 'Bahamas',\n",
       " 'Belize',\n",
       " 'Brunei Darussalam',\n",
       " 'Cabo Verde',\n",
       " 'Czech Republic',\n",
       " \"Côte d'Ivoire\",\n",
       " \"Democratic People's Republic of Korea\",\n",
       " 'Democratic Republic of the Congo',\n",
       " 'Dominica',\n",
       " 'Georgia (Country)',\n",
       " 'Grenada',\n",
       " 'Iran (Islamic Republic of)',\n",
       " 'Kiribati',\n",
       " \"Lao People's Democratic Republic\",\n",
       " 'Liechtenstein',\n",
       " 'Marshall Islands',\n",
       " 'Micronesia (Federated States of)',\n",
       " 'Monaco',\n",
       " 'Nauru',\n",
       " 'Palau',\n",
       " 'Republic of Korea',\n",
       " 'Republic of Moldova',\n",
       " 'Russian Federation',\n",
       " 'Saint Kitts and Nevis',\n",
       " 'Saint Lucia',\n",
       " 'Saint Vincent and the Grenadines',\n",
       " 'Samoa',\n",
       " 'San Marino',\n",
       " 'Syrian Arab Republic',\n",
       " 'Timor-Leste',\n",
       " 'Tonga',\n",
       " 'Tuvalu',\n",
       " 'Türkiye',\n",
       " 'United Kingdom of Great Britain and Northern Ireland',\n",
       " 'United Republic of Tanzania',\n",
       " 'United States of America',\n",
       " 'Viet Nam'}"
      ]
     },
     "execution_count": 9,
     "metadata": {},
     "output_type": "execute_result"
    }
   ],
   "source": [
    "set(egdi['Country Name']).difference(set(ide['Entity']))"
   ]
  },
  {
   "cell_type": "code",
   "execution_count": 10,
   "id": "61e1b41e",
   "metadata": {},
   "outputs": [],
   "source": [
    "ide['Entity'] = ide['Entity'].replace({\n",
    "    'Laos': \"Lao People's Democratic Republic\",\n",
    "    'Georgia': 'Georgia (Country)',\n",
    "    'Turkey': 'Türkiye',\n",
    "    'Vietnam': 'Viet Nam',\n",
    "    'Iran': 'Iran (Islamic Republic of)',\n",
    "    'Russia': 'Russian Federation',\n",
    "    'United Kingdom': 'United Kingdom of Great Britain and Northern Ireland',\n",
    "    'Tanzania': 'United Republic of Tanzania',\n",
    "    'United States': 'United States of America',\n",
    "    'Syria': 'Syrian Arab Republic',\n",
    "    'East Timor': 'Timor-Leste',\n",
    "    'North Korea':  \"Democratic People's Republic of Korea\",\n",
    "    'South Korea':  \"Republic of Korea\",\n",
    "    'Czechia': 'Czech Republic',\n",
    "    'Moldova': 'Republic of Moldova',\n",
    "    'Cape Verde': 'Cabo Verde',\n",
    "    'Cote d\\'Ivoire': 'Côte d\\'Ivoire',\n",
    "    'Democratic Republic of Congo': 'Democratic Republic of the Congo'\n",
    "})"
   ]
  },
  {
   "cell_type": "code",
   "execution_count": 11,
   "id": "b8c86a55",
   "metadata": {},
   "outputs": [
    {
     "data": {
      "text/plain": [
       "{'Africa',\n",
       " 'Africa (population-weighted)',\n",
       " 'Asia',\n",
       " 'Asia (population-weighted)',\n",
       " 'Europe',\n",
       " 'Europe (population-weighted)',\n",
       " 'Hong Kong',\n",
       " 'Kosovo',\n",
       " 'North America',\n",
       " 'North America (population-weighted)',\n",
       " 'Oceania',\n",
       " 'Oceania (population-weighted)',\n",
       " 'Palestine/Gaza',\n",
       " 'Palestine/West Bank',\n",
       " 'Somaliland',\n",
       " 'South America',\n",
       " 'South America (population-weighted)',\n",
       " 'Taiwan',\n",
       " 'World',\n",
       " 'World (population-weighted)',\n",
       " 'Zanzibar'}"
      ]
     },
     "execution_count": 11,
     "metadata": {},
     "output_type": "execute_result"
    }
   ],
   "source": [
    "set(ide['Entity']).difference(set(egdi['Country Name']))"
   ]
  },
  {
   "cell_type": "markdown",
   "id": "aef70560",
   "metadata": {},
   "source": []
  },
  {
   "cell_type": "code",
   "execution_count": 12,
   "id": "d7db77e6",
   "metadata": {},
   "outputs": [],
   "source": [
    "ide = ide[ide['Entity'].isin(egdi['Country Name'])]"
   ]
  },
  {
   "cell_type": "code",
   "execution_count": 13,
   "id": "9299fbc8",
   "metadata": {},
   "outputs": [
    {
     "data": {
      "text/plain": [
       "np.int64(172)"
      ]
     },
     "execution_count": 13,
     "metadata": {},
     "output_type": "execute_result"
    }
   ],
   "source": [
    "ide['Entity'].value_counts().sum()"
   ]
  },
  {
   "cell_type": "code",
   "execution_count": 14,
   "id": "e4e25fa2",
   "metadata": {},
   "outputs": [],
   "source": [
    "egdi = egdi[egdi['Country Name'].isin(ide['Entity'])].reset_index(drop=True)"
   ]
  },
  {
   "cell_type": "code",
   "execution_count": 15,
   "id": "d50eae00",
   "metadata": {},
   "outputs": [
    {
     "data": {
      "text/plain": [
       "np.int64(172)"
      ]
     },
     "execution_count": 15,
     "metadata": {},
     "output_type": "execute_result"
    }
   ],
   "source": [
    "egdi['Country Name'].value_counts().sum()"
   ]
  },
  {
   "cell_type": "markdown",
   "id": "efafd283",
   "metadata": {},
   "source": []
  },
  {
   "cell_type": "code",
   "execution_count": 16,
   "id": "a451c54d",
   "metadata": {},
   "outputs": [],
   "source": [
    "egdi = egdi.drop(columns={'E-Government Rank', 'Survey Year'})"
   ]
  },
  {
   "cell_type": "code",
   "execution_count": 17,
   "id": "eaa56164",
   "metadata": {},
   "outputs": [
    {
     "name": "stdout",
     "output_type": "stream",
     "text": [
      "<class 'pandas.core.frame.DataFrame'>\n",
      "RangeIndex: 172 entries, 0 to 171\n",
      "Data columns (total 6 columns):\n",
      " #   Column                                  Non-Null Count  Dtype  \n",
      "---  ------                                  --------------  -----  \n",
      " 0   Country Name                            172 non-null    object \n",
      " 1   E-Government Index                      172 non-null    float64\n",
      " 2   E-Participation Index                   172 non-null    float64\n",
      " 3   Online Service Index                    172 non-null    float64\n",
      " 4   Human Capital Index                     172 non-null    float64\n",
      " 5   Telecommunication Infrastructure Index  172 non-null    float64\n",
      "dtypes: float64(5), object(1)\n",
      "memory usage: 8.2+ KB\n"
     ]
    }
   ],
   "source": [
    "egdi.info()"
   ]
  },
  {
   "cell_type": "markdown",
   "id": "6888c76b",
   "metadata": {},
   "source": []
  },
  {
   "cell_type": "code",
   "execution_count": 18,
   "id": "739489ca",
   "metadata": {},
   "outputs": [],
   "source": [
    "ide = ide.iloc[:, [0, 3]]"
   ]
  },
  {
   "cell_type": "code",
   "execution_count": 19,
   "id": "508178e4",
   "metadata": {},
   "outputs": [
    {
     "name": "stdout",
     "output_type": "stream",
     "text": [
      "<class 'pandas.core.frame.DataFrame'>\n",
      "Index: 172 entries, 0 to 192\n",
      "Data columns (total 2 columns):\n",
      " #   Column                                        Non-Null Count  Dtype  \n",
      "---  ------                                        --------------  -----  \n",
      " 0   Entity                                        172 non-null    object \n",
      " 1   Electoral democracy index (central estimate)  172 non-null    float64\n",
      "dtypes: float64(1), object(1)\n",
      "memory usage: 4.0+ KB\n"
     ]
    }
   ],
   "source": [
    "ide.info()"
   ]
  },
  {
   "cell_type": "code",
   "execution_count": 20,
   "id": "49e843b7",
   "metadata": {},
   "outputs": [],
   "source": [
    "ide = ide.rename(columns={\n",
    "    'Electoral democracy index (central estimate)': 'Indice'\n",
    "})"
   ]
  },
  {
   "cell_type": "code",
   "execution_count": 21,
   "id": "0b357b21",
   "metadata": {},
   "outputs": [
    {
     "name": "stdout",
     "output_type": "stream",
     "text": [
      "<class 'pandas.core.frame.DataFrame'>\n",
      "Index: 172 entries, 0 to 192\n",
      "Data columns (total 2 columns):\n",
      " #   Column  Non-Null Count  Dtype  \n",
      "---  ------  --------------  -----  \n",
      " 0   Entity  172 non-null    object \n",
      " 1   Indice  172 non-null    float64\n",
      "dtypes: float64(1), object(1)\n",
      "memory usage: 4.0+ KB\n"
     ]
    }
   ],
   "source": [
    "ide.info()"
   ]
  },
  {
   "cell_type": "markdown",
   "id": "0821f554",
   "metadata": {},
   "source": []
  },
  {
   "cell_type": "code",
   "execution_count": 22,
   "id": "37ad9bfa",
   "metadata": {},
   "outputs": [],
   "source": [
    "df = pd.merge(ide, egdi, left_on='Entity', right_on='Country Name')"
   ]
  },
  {
   "cell_type": "code",
   "execution_count": 23,
   "id": "5a4cff09",
   "metadata": {},
   "outputs": [
    {
     "data": {
      "text/html": [
       "<div>\n",
       "<style scoped>\n",
       "    .dataframe tbody tr th:only-of-type {\n",
       "        vertical-align: middle;\n",
       "    }\n",
       "\n",
       "    .dataframe tbody tr th {\n",
       "        vertical-align: top;\n",
       "    }\n",
       "\n",
       "    .dataframe thead th {\n",
       "        text-align: right;\n",
       "    }\n",
       "</style>\n",
       "<table border=\"1\" class=\"dataframe\">\n",
       "  <thead>\n",
       "    <tr style=\"text-align: right;\">\n",
       "      <th></th>\n",
       "      <th>Entity</th>\n",
       "      <th>Indice</th>\n",
       "      <th>Country Name</th>\n",
       "      <th>E-Government Index</th>\n",
       "      <th>E-Participation Index</th>\n",
       "      <th>Online Service Index</th>\n",
       "      <th>Human Capital Index</th>\n",
       "      <th>Telecommunication Infrastructure Index</th>\n",
       "    </tr>\n",
       "  </thead>\n",
       "  <tbody>\n",
       "    <tr>\n",
       "      <th>0</th>\n",
       "      <td>Afghanistan</td>\n",
       "      <td>0.081</td>\n",
       "      <td>Afghanistan</td>\n",
       "      <td>0.20827</td>\n",
       "      <td>0.1096</td>\n",
       "      <td>0.14379</td>\n",
       "      <td>0.26430</td>\n",
       "      <td>0.21672</td>\n",
       "    </tr>\n",
       "    <tr>\n",
       "      <th>1</th>\n",
       "      <td>Albania</td>\n",
       "      <td>0.507</td>\n",
       "      <td>Albania</td>\n",
       "      <td>0.80000</td>\n",
       "      <td>0.7260</td>\n",
       "      <td>0.81441</td>\n",
       "      <td>0.81059</td>\n",
       "      <td>0.77497</td>\n",
       "    </tr>\n",
       "    <tr>\n",
       "      <th>2</th>\n",
       "      <td>Algeria</td>\n",
       "      <td>0.259</td>\n",
       "      <td>Algeria</td>\n",
       "      <td>0.59556</td>\n",
       "      <td>0.0548</td>\n",
       "      <td>0.33200</td>\n",
       "      <td>0.64179</td>\n",
       "      <td>0.81290</td>\n",
       "    </tr>\n",
       "    <tr>\n",
       "      <th>3</th>\n",
       "      <td>Angola</td>\n",
       "      <td>0.340</td>\n",
       "      <td>Angola</td>\n",
       "      <td>0.41487</td>\n",
       "      <td>0.2192</td>\n",
       "      <td>0.39624</td>\n",
       "      <td>0.47602</td>\n",
       "      <td>0.37238</td>\n",
       "    </tr>\n",
       "    <tr>\n",
       "      <th>4</th>\n",
       "      <td>Argentina</td>\n",
       "      <td>0.712</td>\n",
       "      <td>Argentina</td>\n",
       "      <td>0.85733</td>\n",
       "      <td>0.6301</td>\n",
       "      <td>0.79649</td>\n",
       "      <td>0.93298</td>\n",
       "      <td>0.84254</td>\n",
       "    </tr>\n",
       "  </tbody>\n",
       "</table>\n",
       "</div>"
      ],
      "text/plain": [
       "        Entity  Indice Country Name  E-Government Index  \\\n",
       "0  Afghanistan   0.081  Afghanistan             0.20827   \n",
       "1      Albania   0.507      Albania             0.80000   \n",
       "2      Algeria   0.259      Algeria             0.59556   \n",
       "3       Angola   0.340       Angola             0.41487   \n",
       "4    Argentina   0.712    Argentina             0.85733   \n",
       "\n",
       "   E-Participation Index  Online Service Index  Human Capital Index  \\\n",
       "0                 0.1096               0.14379              0.26430   \n",
       "1                 0.7260               0.81441              0.81059   \n",
       "2                 0.0548               0.33200              0.64179   \n",
       "3                 0.2192               0.39624              0.47602   \n",
       "4                 0.6301               0.79649              0.93298   \n",
       "\n",
       "   Telecommunication Infrastructure Index  \n",
       "0                                 0.21672  \n",
       "1                                 0.77497  \n",
       "2                                 0.81290  \n",
       "3                                 0.37238  \n",
       "4                                 0.84254  "
      ]
     },
     "execution_count": 23,
     "metadata": {},
     "output_type": "execute_result"
    }
   ],
   "source": [
    "df.head()"
   ]
  },
  {
   "cell_type": "code",
   "execution_count": 24,
   "id": "2d56da2a",
   "metadata": {},
   "outputs": [],
   "source": [
    "df = df.drop(columns={'Entity', 'Country Name'})"
   ]
  },
  {
   "cell_type": "code",
   "execution_count": 25,
   "id": "0fb8deb8",
   "metadata": {},
   "outputs": [
    {
     "name": "stdout",
     "output_type": "stream",
     "text": [
      "<class 'pandas.core.frame.DataFrame'>\n",
      "RangeIndex: 172 entries, 0 to 171\n",
      "Data columns (total 6 columns):\n",
      " #   Column                                  Non-Null Count  Dtype  \n",
      "---  ------                                  --------------  -----  \n",
      " 0   Indice                                  172 non-null    float64\n",
      " 1   E-Government Index                      172 non-null    float64\n",
      " 2   E-Participation Index                   172 non-null    float64\n",
      " 3   Online Service Index                    172 non-null    float64\n",
      " 4   Human Capital Index                     172 non-null    float64\n",
      " 5   Telecommunication Infrastructure Index  172 non-null    float64\n",
      "dtypes: float64(6)\n",
      "memory usage: 8.2 KB\n"
     ]
    }
   ],
   "source": [
    "df.info()"
   ]
  },
  {
   "cell_type": "code",
   "execution_count": 26,
   "id": "4b28f565",
   "metadata": {},
   "outputs": [],
   "source": [
    "corr_df = pd.DataFrame({\n",
    "    'EGDI x Índice de Democracia Eleiotoral': df['Indice'].corr(df['E-Government Index'], method='spearman'),\n",
    "    'EPI x Índice de Democracia Eleiotoral': df['Indice'].corr(df['E-Participation Index'], method='spearman'),\n",
    "    'HCI x Índice de Democracia Eleiotoral': df['Indice'].corr(df['Human Capital Index'], method='spearman'),\n",
    "    'OSI x Índice de Democracia Eleiotoral': df['Indice'].corr(df['Online Service Index'], method='spearman'),\n",
    "    'TII x Índice de Democracia Eleiotoral': df['Indice'].corr(df['Telecommunication Infrastructure Index'], method='spearman')\n",
    "}, range(1))"
   ]
  },
  {
   "cell_type": "code",
   "execution_count": 27,
   "id": "3d8a223d",
   "metadata": {},
   "outputs": [
    {
     "data": {
      "text/html": [
       "<div>\n",
       "<style scoped>\n",
       "    .dataframe tbody tr th:only-of-type {\n",
       "        vertical-align: middle;\n",
       "    }\n",
       "\n",
       "    .dataframe tbody tr th {\n",
       "        vertical-align: top;\n",
       "    }\n",
       "\n",
       "    .dataframe thead th {\n",
       "        text-align: right;\n",
       "    }\n",
       "</style>\n",
       "<table border=\"1\" class=\"dataframe\">\n",
       "  <thead>\n",
       "    <tr style=\"text-align: right;\">\n",
       "      <th></th>\n",
       "      <th>EGDI x Índice de Democracia Eleiotoral</th>\n",
       "      <th>EPI x Índice de Democracia Eleiotoral</th>\n",
       "      <th>HCI x Índice de Democracia Eleiotoral</th>\n",
       "      <th>OSI x Índice de Democracia Eleiotoral</th>\n",
       "      <th>TII x Índice de Democracia Eleiotoral</th>\n",
       "    </tr>\n",
       "  </thead>\n",
       "  <tbody>\n",
       "    <tr>\n",
       "      <th>0</th>\n",
       "      <td>0.553415</td>\n",
       "      <td>0.53799</td>\n",
       "      <td>0.561536</td>\n",
       "      <td>0.520563</td>\n",
       "      <td>0.454488</td>\n",
       "    </tr>\n",
       "  </tbody>\n",
       "</table>\n",
       "</div>"
      ],
      "text/plain": [
       "   EGDI x Índice de Democracia Eleiotoral  \\\n",
       "0                                0.553415   \n",
       "\n",
       "   EPI x Índice de Democracia Eleiotoral  \\\n",
       "0                                0.53799   \n",
       "\n",
       "   HCI x Índice de Democracia Eleiotoral  \\\n",
       "0                               0.561536   \n",
       "\n",
       "   OSI x Índice de Democracia Eleiotoral  \\\n",
       "0                               0.520563   \n",
       "\n",
       "   TII x Índice de Democracia Eleiotoral  \n",
       "0                               0.454488  "
      ]
     },
     "execution_count": 27,
     "metadata": {},
     "output_type": "execute_result"
    }
   ],
   "source": [
    "corr_df.head()"
   ]
  },
  {
   "cell_type": "code",
   "execution_count": 28,
   "id": "16516b91",
   "metadata": {},
   "outputs": [],
   "source": [
    "corr_df = corr_df.melt(\n",
    "    value_vars=[\n",
    "        'EGDI x Índice de Democracia Eleiotoral',\n",
    "        'EPI x Índice de Democracia Eleiotoral',\n",
    "        'HCI x Índice de Democracia Eleiotoral',\n",
    "        'OSI x Índice de Democracia Eleiotoral',\n",
    "        'TII x Índice de Democracia Eleiotoral'\n",
    "    ], \n",
    "    var_name='Comparacao', \n",
    "    value_name='Coeficiente_Correlacao'\n",
    ")"
   ]
  },
  {
   "cell_type": "code",
   "execution_count": 29,
   "id": "044384cd",
   "metadata": {},
   "outputs": [
    {
     "data": {
      "text/html": [
       "<div>\n",
       "<style scoped>\n",
       "    .dataframe tbody tr th:only-of-type {\n",
       "        vertical-align: middle;\n",
       "    }\n",
       "\n",
       "    .dataframe tbody tr th {\n",
       "        vertical-align: top;\n",
       "    }\n",
       "\n",
       "    .dataframe thead th {\n",
       "        text-align: right;\n",
       "    }\n",
       "</style>\n",
       "<table border=\"1\" class=\"dataframe\">\n",
       "  <thead>\n",
       "    <tr style=\"text-align: right;\">\n",
       "      <th></th>\n",
       "      <th>Comparacao</th>\n",
       "      <th>Coeficiente_Correlacao</th>\n",
       "    </tr>\n",
       "  </thead>\n",
       "  <tbody>\n",
       "    <tr>\n",
       "      <th>0</th>\n",
       "      <td>EGDI x Índice de Democracia Eleiotoral</td>\n",
       "      <td>0.553415</td>\n",
       "    </tr>\n",
       "    <tr>\n",
       "      <th>1</th>\n",
       "      <td>EPI x Índice de Democracia Eleiotoral</td>\n",
       "      <td>0.537990</td>\n",
       "    </tr>\n",
       "    <tr>\n",
       "      <th>2</th>\n",
       "      <td>HCI x Índice de Democracia Eleiotoral</td>\n",
       "      <td>0.561536</td>\n",
       "    </tr>\n",
       "    <tr>\n",
       "      <th>3</th>\n",
       "      <td>OSI x Índice de Democracia Eleiotoral</td>\n",
       "      <td>0.520563</td>\n",
       "    </tr>\n",
       "    <tr>\n",
       "      <th>4</th>\n",
       "      <td>TII x Índice de Democracia Eleiotoral</td>\n",
       "      <td>0.454488</td>\n",
       "    </tr>\n",
       "  </tbody>\n",
       "</table>\n",
       "</div>"
      ],
      "text/plain": [
       "                               Comparacao  Coeficiente_Correlacao\n",
       "0  EGDI x Índice de Democracia Eleiotoral                0.553415\n",
       "1   EPI x Índice de Democracia Eleiotoral                0.537990\n",
       "2   HCI x Índice de Democracia Eleiotoral                0.561536\n",
       "3   OSI x Índice de Democracia Eleiotoral                0.520563\n",
       "4   TII x Índice de Democracia Eleiotoral                0.454488"
      ]
     },
     "execution_count": 29,
     "metadata": {},
     "output_type": "execute_result"
    }
   ],
   "source": [
    "corr_df.head()"
   ]
  },
  {
   "cell_type": "code",
   "execution_count": null,
   "id": "54e1025c",
   "metadata": {},
   "outputs": [
    {
     "data": {
      "image/png": "[encoded data removed]",
      "text/plain": [
       "<Figure size 1000x600 with 1 Axes>"
      ]
     },
     "metadata": {},
     "output_type": "display_data"
    }
   ],
   "source": [
    "fig, ax = plt.subplots(figsize=(10, 6))\n",
    "\n",
    "bar_container = sns.barplot(corr_df, x='Coeficiente_Correlacao', y='Comparacao')\n",
    "\n",
    "ax.bar_label(bar_container.containers[0], fmt=lambda x: f'{x:.2f}'.replace('.', ','), label_type='edge', padding=3)\n",
    "sns.despine(bottom=True)\n",
    "ax.set_xlabel('')\n",
    "ax.set_ylabel('')\n",
    "ax.xaxis.set_visible(False)\n",
    "plt.tight_layout()\n",
    "plt.savefig('C:/Users/lazar/Master-Dissertation/figuras/correlacao_egdi_indicedemocraciaeleitoral.png', dpi=300, bbox_inches='tight')\n",
    "plt.show()"
   ]
  }
 ],
 "metadata": {
  "kernelspec": {
   "display_name": "Python 3",
   "language": "python",
   "name": "python3"
  },
  "language_info": {
   "codemirror_mode": {
    "name": "ipython",
    "version": 3
   },
   "file_extension": ".py",
   "mimetype": "text/x-python",
   "name": "python",
   "nbconvert_exporter": "python",
   "pygments_lexer": "ipython3",
   "version": "3.13.7"
  }
 },
 "nbformat": 4,
 "nbformat_minor": 5
}
