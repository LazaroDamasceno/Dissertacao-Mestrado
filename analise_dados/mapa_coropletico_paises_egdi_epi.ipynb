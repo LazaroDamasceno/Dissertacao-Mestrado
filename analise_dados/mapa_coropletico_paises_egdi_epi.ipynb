{
 "cells": [
  {
   "cell_type": "code",
   "execution_count": null,
   "id": "4d36b6e8",
   "metadata": {},
   "outputs": [],
   "source": [
    "import pandas as pd\n",
    "import geopandas as gpd"
   ]
  },
  {
   "cell_type": "code",
   "execution_count": null,
   "id": "a0dbe1d9",
   "metadata": {},
   "outputs": [],
   "source": [
    "gdf = gdp."
   ]
  }
 ],
 "metadata": {
  "language_info": {
   "name": "python"
  }
 },
 "nbformat": 4,
 "nbformat_minor": 5
}
