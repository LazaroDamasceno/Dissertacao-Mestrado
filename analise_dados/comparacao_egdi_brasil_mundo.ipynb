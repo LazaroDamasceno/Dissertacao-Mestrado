{
 "cells": [
  {
   "cell_type": "code",
   "execution_count": 53,
   "id": "e5f2a626",
   "metadata": {},
   "outputs": [],
   "source": [
    "import pandas as pd\n",
    "import matplotlib.pyplot as plt\n",
    "import seaborn as sns"
   ]
  },
  {
   "cell_type": "code",
   "execution_count": 54,
   "id": "2b273f8e",
   "metadata": {},
   "outputs": [],
   "source": [
    "egdi = pd.read_csv('EGOV_DATA_2024.csv')"
   ]
  },
  {
   "cell_type": "code",
   "execution_count": 55,
   "id": "d1d64a62",
   "metadata": {},
   "outputs": [
    {
     "name": "stdout",
     "output_type": "stream",
     "text": [
      "<class 'pandas.core.frame.DataFrame'>\n",
      "RangeIndex: 193 entries, 0 to 192\n",
      "Data columns (total 8 columns):\n",
      " #   Column                                  Non-Null Count  Dtype  \n",
      "---  ------                                  --------------  -----  \n",
      " 0   Survey Year                             193 non-null    int64  \n",
      " 1   Country Name                            193 non-null    object \n",
      " 2   E-Government Rank                       193 non-null    int64  \n",
      " 3   E-Government Index                      193 non-null    float64\n",
      " 4   E-Participation Index                   193 non-null    float64\n",
      " 5   Online Service Index                    193 non-null    float64\n",
      " 6   Human Capital Index                     193 non-null    float64\n",
      " 7   Telecommunication Infrastructure Index  193 non-null    float64\n",
      "dtypes: float64(5), int64(2), object(1)\n",
      "memory usage: 12.2+ KB\n"
     ]
    }
   ],
   "source": [
    "egdi.info()"
   ]
  },
  {
   "cell_type": "code",
   "execution_count": 56,
   "id": "86f89c69",
   "metadata": {},
   "outputs": [],
   "source": [
    "egdi_mundo = egdi.melt(\n",
    "    value_vars=[\n",
    "        'E-Government Index',\n",
    "         'E-Participation Index',\n",
    "        'Online Service Index',\n",
    "        'Human Capital Index',\n",
    "        'Telecommunication Infrastructure Index'\n",
    "    ], \n",
    "    var_name='Indices', \n",
    "    value_name='Valores_Mundo'\n",
    ").groupby('Indices')['Valores_Mundo'].median()"
   ]
  },
  {
   "cell_type": "code",
   "execution_count": 57,
   "id": "73ac2d4f",
   "metadata": {},
   "outputs": [],
   "source": [
    "egdi_brasil = egdi[egdi['Country Name'] == 'Brazil'].reset_index(drop=True)"
   ]
  },
  {
   "cell_type": "code",
   "execution_count": 58,
   "id": "0d16e1df",
   "metadata": {},
   "outputs": [],
   "source": [
    "egdi_brasil = egdi_brasil.melt(\n",
    "    value_vars=[\n",
    "        'E-Government Index',\n",
    "         'E-Participation Index',\n",
    "        'Online Service Index',\n",
    "        'Human Capital Index',\n",
    "        'Telecommunication Infrastructure Index'\n",
    "    ], \n",
    "    var_name='Indices', \n",
    "    value_name='Valores_BR'\n",
    ")"
   ]
  },
  {
   "cell_type": "code",
   "execution_count": 59,
   "id": "94764739",
   "metadata": {},
   "outputs": [],
   "source": [
    "df = pd.merge(egdi_mundo, egdi_brasil, on='Indices')"
   ]
  },
  {
   "cell_type": "code",
   "execution_count": 60,
   "id": "3c6d62db",
   "metadata": {},
   "outputs": [
    {
     "data": {
      "text/html": [
       "<div>\n",
       "<style scoped>\n",
       "    .dataframe tbody tr th:only-of-type {\n",
       "        vertical-align: middle;\n",
       "    }\n",
       "\n",
       "    .dataframe tbody tr th {\n",
       "        vertical-align: top;\n",
       "    }\n",
       "\n",
       "    .dataframe thead th {\n",
       "        text-align: right;\n",
       "    }\n",
       "</style>\n",
       "<table border=\"1\" class=\"dataframe\">\n",
       "  <thead>\n",
       "    <tr style=\"text-align: right;\">\n",
       "      <th></th>\n",
       "      <th>Indices</th>\n",
       "      <th>Valores_Mundo</th>\n",
       "      <th>Valores_BR</th>\n",
       "    </tr>\n",
       "  </thead>\n",
       "  <tbody>\n",
       "    <tr>\n",
       "      <th>0</th>\n",
       "      <td>E-Government Index</td>\n",
       "      <td>0.66776</td>\n",
       "      <td>0.84026</td>\n",
       "    </tr>\n",
       "    <tr>\n",
       "      <th>1</th>\n",
       "      <td>E-Participation Index</td>\n",
       "      <td>0.46580</td>\n",
       "      <td>0.86300</td>\n",
       "    </tr>\n",
       "    <tr>\n",
       "      <th>2</th>\n",
       "      <td>Human Capital Index</td>\n",
       "      <td>0.69557</td>\n",
       "      <td>0.80768</td>\n",
       "    </tr>\n",
       "    <tr>\n",
       "      <th>3</th>\n",
       "      <td>Online Service Index</td>\n",
       "      <td>0.57598</td>\n",
       "      <td>0.90631</td>\n",
       "    </tr>\n",
       "    <tr>\n",
       "      <th>4</th>\n",
       "      <td>Telecommunication Infrastructure Index</td>\n",
       "      <td>0.78511</td>\n",
       "      <td>0.80685</td>\n",
       "    </tr>\n",
       "  </tbody>\n",
       "</table>\n",
       "</div>"
      ],
      "text/plain": [
       "                                  Indices  Valores_Mundo  Valores_BR\n",
       "0                      E-Government Index        0.66776     0.84026\n",
       "1                   E-Participation Index        0.46580     0.86300\n",
       "2                     Human Capital Index        0.69557     0.80768\n",
       "3                    Online Service Index        0.57598     0.90631\n",
       "4  Telecommunication Infrastructure Index        0.78511     0.80685"
      ]
     },
     "execution_count": 60,
     "metadata": {},
     "output_type": "execute_result"
    }
   ],
   "source": [
    "df.head()"
   ]
  },
  {
   "cell_type": "code",
   "execution_count": 61,
   "id": "0dc51a07",
   "metadata": {},
   "outputs": [],
   "source": [
    "df = df.melt(\n",
    "    id_vars='Indices',\n",
    "    value_vars=[\n",
    "        'Valores_Mundo',\n",
    "        'Valores_BR'\n",
    "    ], \n",
    "    var_name='Valores', \n",
    "    value_name='Pontuacao'\n",
    ")"
   ]
  },
  {
   "cell_type": "code",
   "execution_count": 62,
   "id": "d4628887",
   "metadata": {},
   "outputs": [
    {
     "data": {
      "text/html": [
       "<div>\n",
       "<style scoped>\n",
       "    .dataframe tbody tr th:only-of-type {\n",
       "        vertical-align: middle;\n",
       "    }\n",
       "\n",
       "    .dataframe tbody tr th {\n",
       "        vertical-align: top;\n",
       "    }\n",
       "\n",
       "    .dataframe thead th {\n",
       "        text-align: right;\n",
       "    }\n",
       "</style>\n",
       "<table border=\"1\" class=\"dataframe\">\n",
       "  <thead>\n",
       "    <tr style=\"text-align: right;\">\n",
       "      <th></th>\n",
       "      <th>Indices</th>\n",
       "      <th>Valores</th>\n",
       "      <th>Pontuacao</th>\n",
       "    </tr>\n",
       "  </thead>\n",
       "  <tbody>\n",
       "    <tr>\n",
       "      <th>0</th>\n",
       "      <td>E-Government Index</td>\n",
       "      <td>Valores_Mundo</td>\n",
       "      <td>0.66776</td>\n",
       "    </tr>\n",
       "    <tr>\n",
       "      <th>1</th>\n",
       "      <td>E-Participation Index</td>\n",
       "      <td>Valores_Mundo</td>\n",
       "      <td>0.46580</td>\n",
       "    </tr>\n",
       "    <tr>\n",
       "      <th>2</th>\n",
       "      <td>Human Capital Index</td>\n",
       "      <td>Valores_Mundo</td>\n",
       "      <td>0.69557</td>\n",
       "    </tr>\n",
       "    <tr>\n",
       "      <th>3</th>\n",
       "      <td>Online Service Index</td>\n",
       "      <td>Valores_Mundo</td>\n",
       "      <td>0.57598</td>\n",
       "    </tr>\n",
       "    <tr>\n",
       "      <th>4</th>\n",
       "      <td>Telecommunication Infrastructure Index</td>\n",
       "      <td>Valores_Mundo</td>\n",
       "      <td>0.78511</td>\n",
       "    </tr>\n",
       "    <tr>\n",
       "      <th>5</th>\n",
       "      <td>E-Government Index</td>\n",
       "      <td>Valores_BR</td>\n",
       "      <td>0.84026</td>\n",
       "    </tr>\n",
       "    <tr>\n",
       "      <th>6</th>\n",
       "      <td>E-Participation Index</td>\n",
       "      <td>Valores_BR</td>\n",
       "      <td>0.86300</td>\n",
       "    </tr>\n",
       "    <tr>\n",
       "      <th>7</th>\n",
       "      <td>Human Capital Index</td>\n",
       "      <td>Valores_BR</td>\n",
       "      <td>0.80768</td>\n",
       "    </tr>\n",
       "    <tr>\n",
       "      <th>8</th>\n",
       "      <td>Online Service Index</td>\n",
       "      <td>Valores_BR</td>\n",
       "      <td>0.90631</td>\n",
       "    </tr>\n",
       "    <tr>\n",
       "      <th>9</th>\n",
       "      <td>Telecommunication Infrastructure Index</td>\n",
       "      <td>Valores_BR</td>\n",
       "      <td>0.80685</td>\n",
       "    </tr>\n",
       "  </tbody>\n",
       "</table>\n",
       "</div>"
      ],
      "text/plain": [
       "                                  Indices        Valores  Pontuacao\n",
       "0                      E-Government Index  Valores_Mundo    0.66776\n",
       "1                   E-Participation Index  Valores_Mundo    0.46580\n",
       "2                     Human Capital Index  Valores_Mundo    0.69557\n",
       "3                    Online Service Index  Valores_Mundo    0.57598\n",
       "4  Telecommunication Infrastructure Index  Valores_Mundo    0.78511\n",
       "5                      E-Government Index     Valores_BR    0.84026\n",
       "6                   E-Participation Index     Valores_BR    0.86300\n",
       "7                     Human Capital Index     Valores_BR    0.80768\n",
       "8                    Online Service Index     Valores_BR    0.90631\n",
       "9  Telecommunication Infrastructure Index     Valores_BR    0.80685"
      ]
     },
     "execution_count": 62,
     "metadata": {},
     "output_type": "execute_result"
    }
   ],
   "source": [
    "df.head(10)"
   ]
  },
  {
   "cell_type": "code",
   "execution_count": 63,
   "id": "8ff692a8",
   "metadata": {},
   "outputs": [],
   "source": [
    "df.loc[df['Pontuacao'] >= 0.8, 'Regiao'] = 'Brasil'\n",
    "df.loc[df['Pontuacao'] < 0.8, 'Regiao'] = 'Mundo'\n"
   ]
  },
  {
   "cell_type": "code",
   "execution_count": 64,
   "id": "89525632",
   "metadata": {},
   "outputs": [
    {
     "data": {
      "text/html": [
       "<div>\n",
       "<style scoped>\n",
       "    .dataframe tbody tr th:only-of-type {\n",
       "        vertical-align: middle;\n",
       "    }\n",
       "\n",
       "    .dataframe tbody tr th {\n",
       "        vertical-align: top;\n",
       "    }\n",
       "\n",
       "    .dataframe thead th {\n",
       "        text-align: right;\n",
       "    }\n",
       "</style>\n",
       "<table border=\"1\" class=\"dataframe\">\n",
       "  <thead>\n",
       "    <tr style=\"text-align: right;\">\n",
       "      <th></th>\n",
       "      <th>Indices</th>\n",
       "      <th>Valores</th>\n",
       "      <th>Pontuacao</th>\n",
       "      <th>Regiao</th>\n",
       "    </tr>\n",
       "  </thead>\n",
       "  <tbody>\n",
       "    <tr>\n",
       "      <th>0</th>\n",
       "      <td>E-Government Index</td>\n",
       "      <td>Valores_Mundo</td>\n",
       "      <td>0.66776</td>\n",
       "      <td>Mundo</td>\n",
       "    </tr>\n",
       "    <tr>\n",
       "      <th>1</th>\n",
       "      <td>E-Participation Index</td>\n",
       "      <td>Valores_Mundo</td>\n",
       "      <td>0.46580</td>\n",
       "      <td>Mundo</td>\n",
       "    </tr>\n",
       "    <tr>\n",
       "      <th>2</th>\n",
       "      <td>Human Capital Index</td>\n",
       "      <td>Valores_Mundo</td>\n",
       "      <td>0.69557</td>\n",
       "      <td>Mundo</td>\n",
       "    </tr>\n",
       "    <tr>\n",
       "      <th>3</th>\n",
       "      <td>Online Service Index</td>\n",
       "      <td>Valores_Mundo</td>\n",
       "      <td>0.57598</td>\n",
       "      <td>Mundo</td>\n",
       "    </tr>\n",
       "    <tr>\n",
       "      <th>4</th>\n",
       "      <td>Telecommunication Infrastructure Index</td>\n",
       "      <td>Valores_Mundo</td>\n",
       "      <td>0.78511</td>\n",
       "      <td>Mundo</td>\n",
       "    </tr>\n",
       "    <tr>\n",
       "      <th>5</th>\n",
       "      <td>E-Government Index</td>\n",
       "      <td>Valores_BR</td>\n",
       "      <td>0.84026</td>\n",
       "      <td>Brasil</td>\n",
       "    </tr>\n",
       "    <tr>\n",
       "      <th>6</th>\n",
       "      <td>E-Participation Index</td>\n",
       "      <td>Valores_BR</td>\n",
       "      <td>0.86300</td>\n",
       "      <td>Brasil</td>\n",
       "    </tr>\n",
       "    <tr>\n",
       "      <th>7</th>\n",
       "      <td>Human Capital Index</td>\n",
       "      <td>Valores_BR</td>\n",
       "      <td>0.80768</td>\n",
       "      <td>Brasil</td>\n",
       "    </tr>\n",
       "    <tr>\n",
       "      <th>8</th>\n",
       "      <td>Online Service Index</td>\n",
       "      <td>Valores_BR</td>\n",
       "      <td>0.90631</td>\n",
       "      <td>Brasil</td>\n",
       "    </tr>\n",
       "    <tr>\n",
       "      <th>9</th>\n",
       "      <td>Telecommunication Infrastructure Index</td>\n",
       "      <td>Valores_BR</td>\n",
       "      <td>0.80685</td>\n",
       "      <td>Brasil</td>\n",
       "    </tr>\n",
       "  </tbody>\n",
       "</table>\n",
       "</div>"
      ],
      "text/plain": [
       "                                  Indices        Valores  Pontuacao  Regiao\n",
       "0                      E-Government Index  Valores_Mundo    0.66776   Mundo\n",
       "1                   E-Participation Index  Valores_Mundo    0.46580   Mundo\n",
       "2                     Human Capital Index  Valores_Mundo    0.69557   Mundo\n",
       "3                    Online Service Index  Valores_Mundo    0.57598   Mundo\n",
       "4  Telecommunication Infrastructure Index  Valores_Mundo    0.78511   Mundo\n",
       "5                      E-Government Index     Valores_BR    0.84026  Brasil\n",
       "6                   E-Participation Index     Valores_BR    0.86300  Brasil\n",
       "7                     Human Capital Index     Valores_BR    0.80768  Brasil\n",
       "8                    Online Service Index     Valores_BR    0.90631  Brasil\n",
       "9  Telecommunication Infrastructure Index     Valores_BR    0.80685  Brasil"
      ]
     },
     "execution_count": 64,
     "metadata": {},
     "output_type": "execute_result"
    }
   ],
   "source": [
    "df.head(10)"
   ]
  },
  {
   "cell_type": "code",
   "execution_count": 65,
   "id": "2a7c5535",
   "metadata": {},
   "outputs": [
    {
     "name": "stderr",
     "output_type": "stream",
     "text": [
      "C:\\Users\\lazar\\AppData\\Local\\Temp\\ipykernel_12708\\373026176.py:10: UserWarning: set_ticklabels() should only be used with a fixed number of ticks, i.e. after set_ticks() or using a FixedLocator.\n",
      "  ax.set_yticklabels(['EGDI', 'EPI', 'HCI', 'OSI', 'TII'])\n"
     ]
    },
    {
     "data": {
      "image/png": "[encoded data removed]",
      "text/plain": [
       "<Figure size 1000x600 with 1 Axes>"
      ]
     },
     "metadata": {},
     "output_type": "display_data"
    }
   ],
   "source": [
    "fig, ax = plt.subplots(figsize=(10, 6))\n",
    "\n",
    "bar_container = sns.barplot(data=df, x='Pontuacao', y='Indices', hue='Regiao', palette='Dark2')\n",
    "\n",
    "for container in bar_container.containers:\n",
    "    ax.bar_label(container, fmt=lambda x: f'{x:.2f}'.replace('.', ','), label_type='edge', padding=3)\n",
    "\n",
    "ax.set_xlabel('')\n",
    "ax.set_ylabel('')\n",
    "ax.set_yticklabels(['EGDI', 'EPI', 'HCI', 'OSI', 'TII'])\n",
    "ax.xaxis.set_visible(False)\n",
    "sns.despine(bottom=True)\n",
    "plt.tight_layout()\n",
    "plt.legend(title='Região', loc='upper center', bbox_to_anchor=(0.5, 1.1), ncol=2)\n",
    "plt.savefig('C:/Users/lazar/Master-Dissertation/figuras/comparacao_egdi_brasil_mundo.png', dpi=300, bbox_inches='tight')\n",
    "plt.show()"
   ]
  }
 ],
 "metadata": {
  "kernelspec": {
   "display_name": "Python 3",
   "language": "python",
   "name": "python3"
  },
  "language_info": {
   "codemirror_mode": {
    "name": "ipython",
    "version": 3
   },
   "file_extension": ".py",
   "mimetype": "text/x-python",
   "name": "python",
   "nbconvert_exporter": "python",
   "pygments_lexer": "ipython3",
   "version": "3.13.7"
  }
 },
 "nbformat": 4,
 "nbformat_minor": 5
}
