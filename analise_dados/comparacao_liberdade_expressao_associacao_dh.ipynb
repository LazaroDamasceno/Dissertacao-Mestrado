{
 "cells": [
  {
   "cell_type": "code",
   "execution_count": 1,
   "id": "e2d54457",
   "metadata": {},
   "outputs": [],
   "source": [
    "import pandas as pd\n",
    "import matplotlib.pyplot as plt\n",
    "import seaborn as sns\n",
    "import numpy as np"
   ]
  },
  {
   "cell_type": "markdown",
   "id": "27b1ad33",
   "metadata": {},
   "source": [
    "DATASETS"
   ]
  },
  {
   "cell_type": "code",
   "execution_count": 2,
   "id": "119aaacb",
   "metadata": {},
   "outputs": [],
   "source": [
    "freedom_expression =  pd.read_csv('freedom-of-expression-index.csv')\n",
    "freedom_expression = freedom_expression.loc[freedom_expression['Year'] == 2024].reset_index(drop=True)"
   ]
  },
  {
   "cell_type": "code",
   "execution_count": 3,
   "id": "3736cf3b",
   "metadata": {},
   "outputs": [],
   "source": [
    "freedom_association = pd.read_csv('freedom-of-association-index.csv')\n",
    "freedom_association = freedom_association.loc[freedom_association['Year'] == 2024].reset_index(drop=True)"
   ]
  },
  {
   "cell_type": "code",
   "execution_count": 4,
   "id": "25117393",
   "metadata": {},
   "outputs": [],
   "source": [
    "human_rights = pd.read_csv('human-rights-index-vdem.csv')\n",
    "human_rights = human_rights.loc[human_rights['Year'] == 2024].reset_index(drop=True)"
   ]
  },
  {
   "cell_type": "markdown",
   "id": "b22e98e6",
   "metadata": {},
   "source": []
  },
  {
   "cell_type": "code",
   "execution_count": 5,
   "id": "f1e62a41",
   "metadata": {},
   "outputs": [
    {
     "data": {
      "text/plain": [
       "set()"
      ]
     },
     "execution_count": 5,
     "metadata": {},
     "output_type": "execute_result"
    }
   ],
   "source": [
    "set(human_rights['Entity']).difference(freedom_association['Entity'])"
   ]
  },
  {
   "cell_type": "code",
   "execution_count": 6,
   "id": "6d0ff7da",
   "metadata": {},
   "outputs": [
    {
     "data": {
      "text/plain": [
       "set()"
      ]
     },
     "execution_count": 6,
     "metadata": {},
     "output_type": "execute_result"
    }
   ],
   "source": [
    "set(freedom_association['Entity']).difference(human_rights['Entity'])"
   ]
  },
  {
   "cell_type": "code",
   "execution_count": 7,
   "id": "9bd7f71f",
   "metadata": {},
   "outputs": [
    {
     "data": {
      "text/plain": [
       "set()"
      ]
     },
     "execution_count": 7,
     "metadata": {},
     "output_type": "execute_result"
    }
   ],
   "source": [
    "set(human_rights['Entity']).difference(freedom_expression['Entity'])"
   ]
  },
  {
   "cell_type": "code",
   "execution_count": 8,
   "id": "abf5a7a4",
   "metadata": {},
   "outputs": [
    {
     "data": {
      "text/plain": [
       "set()"
      ]
     },
     "execution_count": 8,
     "metadata": {},
     "output_type": "execute_result"
    }
   ],
   "source": [
    "set(freedom_expression['Entity']).difference(human_rights['Entity'])"
   ]
  },
  {
   "cell_type": "code",
   "execution_count": 9,
   "id": "4a589b2d",
   "metadata": {},
   "outputs": [
    {
     "data": {
      "text/plain": [
       "set()"
      ]
     },
     "execution_count": 9,
     "metadata": {},
     "output_type": "execute_result"
    }
   ],
   "source": [
    "set(freedom_association['Entity']).difference(freedom_expression['Entity'])"
   ]
  },
  {
   "cell_type": "code",
   "execution_count": 10,
   "id": "671f7da0",
   "metadata": {},
   "outputs": [
    {
     "data": {
      "text/plain": [
       "set()"
      ]
     },
     "execution_count": 10,
     "metadata": {},
     "output_type": "execute_result"
    }
   ],
   "source": [
    "set(freedom_expression['Entity']).difference(freedom_association['Entity'])"
   ]
  },
  {
   "cell_type": "markdown",
   "id": "ddc3a519",
   "metadata": {},
   "source": [
    "SELECIONANDO COLUNAS"
   ]
  },
  {
   "cell_type": "code",
   "execution_count": 11,
   "id": "2c3a108b",
   "metadata": {},
   "outputs": [
    {
     "name": "stdout",
     "output_type": "stream",
     "text": [
      "<class 'pandas.core.frame.DataFrame'>\n",
      "RangeIndex: 193 entries, 0 to 192\n",
      "Data columns (total 5 columns):\n",
      " #   Column                                                                                 Non-Null Count  Dtype  \n",
      "---  ------                                                                                 --------------  -----  \n",
      " 0   Entity                                                                                 193 non-null    object \n",
      " 1   Code                                                                                   178 non-null    object \n",
      " 2   Year                                                                                   193 non-null    int64  \n",
      " 3   Freedom of expression and alternative sources of information index (central estimate)  193 non-null    float64\n",
      " 4   World regions according to OWID                                                        0 non-null      object \n",
      "dtypes: float64(1), int64(1), object(3)\n",
      "memory usage: 7.7+ KB\n"
     ]
    }
   ],
   "source": [
    "freedom_expression.info()"
   ]
  },
  {
   "cell_type": "code",
   "execution_count": 12,
   "id": "7d82058c",
   "metadata": {},
   "outputs": [],
   "source": [
    "freedom_expression = freedom_expression.iloc[:, [0, 3]]"
   ]
  },
  {
   "cell_type": "code",
   "execution_count": 13,
   "id": "4efe02fd",
   "metadata": {},
   "outputs": [
    {
     "name": "stdout",
     "output_type": "stream",
     "text": [
      "<class 'pandas.core.frame.DataFrame'>\n",
      "RangeIndex: 193 entries, 0 to 192\n",
      "Data columns (total 5 columns):\n",
      " #   Column                                                 Non-Null Count  Dtype  \n",
      "---  ------                                                 --------------  -----  \n",
      " 0   Entity                                                 193 non-null    object \n",
      " 1   Code                                                   178 non-null    object \n",
      " 2   Year                                                   193 non-null    int64  \n",
      " 3   Freedom of association thick index (central estimate)  193 non-null    float64\n",
      " 4   World regions according to OWID                        0 non-null      object \n",
      "dtypes: float64(1), int64(1), object(3)\n",
      "memory usage: 7.7+ KB\n"
     ]
    }
   ],
   "source": [
    "freedom_association.info()"
   ]
  },
  {
   "cell_type": "code",
   "execution_count": 14,
   "id": "1a0bcc3f",
   "metadata": {},
   "outputs": [],
   "source": [
    "freedom_association = freedom_association.iloc[:, [0, 3]]"
   ]
  },
  {
   "cell_type": "code",
   "execution_count": 15,
   "id": "cf893408",
   "metadata": {},
   "outputs": [
    {
     "name": "stdout",
     "output_type": "stream",
     "text": [
      "<class 'pandas.core.frame.DataFrame'>\n",
      "RangeIndex: 193 entries, 0 to 192\n",
      "Data columns (total 5 columns):\n",
      " #   Column                                    Non-Null Count  Dtype  \n",
      "---  ------                                    --------------  -----  \n",
      " 0   Entity                                    193 non-null    object \n",
      " 1   Code                                      178 non-null    object \n",
      " 2   Year                                      193 non-null    int64  \n",
      " 3   Civil liberties index (central estimate)  193 non-null    float64\n",
      " 4   World regions according to OWID           0 non-null      object \n",
      "dtypes: float64(1), int64(1), object(3)\n",
      "memory usage: 7.7+ KB\n"
     ]
    }
   ],
   "source": [
    "human_rights.info()"
   ]
  },
  {
   "cell_type": "code",
   "execution_count": 16,
   "id": "42cb3002",
   "metadata": {},
   "outputs": [],
   "source": [
    "human_rights = human_rights.iloc[:, [0, 3]]"
   ]
  },
  {
   "cell_type": "markdown",
   "id": "7afce612",
   "metadata": {},
   "source": [
    "RENOMEANDO COLUNAS"
   ]
  },
  {
   "cell_type": "code",
   "execution_count": 17,
   "id": "2597eca4",
   "metadata": {},
   "outputs": [],
   "source": [
    "human_rights = human_rights.rename(columns={\n",
    "    'Civil liberties index (central estimate)': 'direitos_humanos'\n",
    "})"
   ]
  },
  {
   "cell_type": "code",
   "execution_count": 18,
   "id": "9ef2d30b",
   "metadata": {},
   "outputs": [
    {
     "name": "stdout",
     "output_type": "stream",
     "text": [
      "<class 'pandas.core.frame.DataFrame'>\n",
      "RangeIndex: 193 entries, 0 to 192\n",
      "Data columns (total 2 columns):\n",
      " #   Column            Non-Null Count  Dtype  \n",
      "---  ------            --------------  -----  \n",
      " 0   Entity            193 non-null    object \n",
      " 1   direitos_humanos  193 non-null    float64\n",
      "dtypes: float64(1), object(1)\n",
      "memory usage: 3.1+ KB\n"
     ]
    }
   ],
   "source": [
    "human_rights.info()"
   ]
  },
  {
   "cell_type": "code",
   "execution_count": 19,
   "id": "e92590f2",
   "metadata": {},
   "outputs": [],
   "source": [
    "freedom_expression = freedom_expression.rename(columns={\n",
    "    'Freedom of expression and alternative sources of information index (central estimate)': 'liberdade_expressao'\n",
    "})"
   ]
  },
  {
   "cell_type": "code",
   "execution_count": 20,
   "id": "69b6888f",
   "metadata": {},
   "outputs": [
    {
     "name": "stdout",
     "output_type": "stream",
     "text": [
      "<class 'pandas.core.frame.DataFrame'>\n",
      "RangeIndex: 193 entries, 0 to 192\n",
      "Data columns (total 2 columns):\n",
      " #   Column               Non-Null Count  Dtype  \n",
      "---  ------               --------------  -----  \n",
      " 0   Entity               193 non-null    object \n",
      " 1   liberdade_expressao  193 non-null    float64\n",
      "dtypes: float64(1), object(1)\n",
      "memory usage: 3.1+ KB\n"
     ]
    }
   ],
   "source": [
    "freedom_expression.info()"
   ]
  },
  {
   "cell_type": "code",
   "execution_count": 21,
   "id": "d667ceab",
   "metadata": {},
   "outputs": [],
   "source": [
    "freedom_association = freedom_association.rename(columns={\n",
    "    'Freedom of association thick index (central estimate)': 'liberdade_associacao'\n",
    "})"
   ]
  },
  {
   "cell_type": "code",
   "execution_count": 22,
   "id": "1fb22492",
   "metadata": {},
   "outputs": [
    {
     "name": "stdout",
     "output_type": "stream",
     "text": [
      "<class 'pandas.core.frame.DataFrame'>\n",
      "RangeIndex: 193 entries, 0 to 192\n",
      "Data columns (total 2 columns):\n",
      " #   Column                Non-Null Count  Dtype  \n",
      "---  ------                --------------  -----  \n",
      " 0   Entity                193 non-null    object \n",
      " 1   liberdade_associacao  193 non-null    float64\n",
      "dtypes: float64(1), object(1)\n",
      "memory usage: 3.1+ KB\n"
     ]
    }
   ],
   "source": [
    "freedom_association.info()"
   ]
  },
  {
   "cell_type": "markdown",
   "id": "b1faf058",
   "metadata": {},
   "source": []
  },
  {
   "cell_type": "markdown",
   "id": "80eae5a7",
   "metadata": {},
   "source": [
    "JUMTANDO DATAFRAMES"
   ]
  },
  {
   "cell_type": "code",
   "execution_count": 23,
   "id": "81ae1184",
   "metadata": {},
   "outputs": [],
   "source": [
    "df_merged = human_rights.merge(freedom_expression, on='Entity').merge(freedom_association, on='Entity')"
   ]
  },
  {
   "cell_type": "code",
   "execution_count": 24,
   "id": "4ceb8911",
   "metadata": {},
   "outputs": [
    {
     "data": {
      "text/html": [
       "<div>\n",
       "<style scoped>\n",
       "    .dataframe tbody tr th:only-of-type {\n",
       "        vertical-align: middle;\n",
       "    }\n",
       "\n",
       "    .dataframe tbody tr th {\n",
       "        vertical-align: top;\n",
       "    }\n",
       "\n",
       "    .dataframe thead th {\n",
       "        text-align: right;\n",
       "    }\n",
       "</style>\n",
       "<table border=\"1\" class=\"dataframe\">\n",
       "  <thead>\n",
       "    <tr style=\"text-align: right;\">\n",
       "      <th></th>\n",
       "      <th>Entity</th>\n",
       "      <th>direitos_humanos</th>\n",
       "      <th>liberdade_expressao</th>\n",
       "      <th>liberdade_associacao</th>\n",
       "    </tr>\n",
       "  </thead>\n",
       "  <tbody>\n",
       "    <tr>\n",
       "      <th>0</th>\n",
       "      <td>Afghanistan</td>\n",
       "      <td>0.042000</td>\n",
       "      <td>0.090000</td>\n",
       "      <td>0.050000</td>\n",
       "    </tr>\n",
       "    <tr>\n",
       "      <th>1</th>\n",
       "      <td>Africa</td>\n",
       "      <td>0.581875</td>\n",
       "      <td>0.582304</td>\n",
       "      <td>0.561589</td>\n",
       "    </tr>\n",
       "    <tr>\n",
       "      <th>2</th>\n",
       "      <td>Africa (population-weighted)</td>\n",
       "      <td>0.552009</td>\n",
       "      <td>0.590038</td>\n",
       "      <td>0.557035</td>\n",
       "    </tr>\n",
       "    <tr>\n",
       "      <th>3</th>\n",
       "      <td>Albania</td>\n",
       "      <td>0.876000</td>\n",
       "      <td>0.698000</td>\n",
       "      <td>0.820000</td>\n",
       "    </tr>\n",
       "    <tr>\n",
       "      <th>4</th>\n",
       "      <td>Algeria</td>\n",
       "      <td>0.416000</td>\n",
       "      <td>0.343000</td>\n",
       "      <td>0.303000</td>\n",
       "    </tr>\n",
       "  </tbody>\n",
       "</table>\n",
       "</div>"
      ],
      "text/plain": [
       "                         Entity  direitos_humanos  liberdade_expressao  \\\n",
       "0                   Afghanistan          0.042000             0.090000   \n",
       "1                        Africa          0.581875             0.582304   \n",
       "2  Africa (population-weighted)          0.552009             0.590038   \n",
       "3                       Albania          0.876000             0.698000   \n",
       "4                       Algeria          0.416000             0.343000   \n",
       "\n",
       "   liberdade_associacao  \n",
       "0              0.050000  \n",
       "1              0.561589  \n",
       "2              0.557035  \n",
       "3              0.820000  \n",
       "4              0.303000  "
      ]
     },
     "execution_count": 24,
     "metadata": {},
     "output_type": "execute_result"
    }
   ],
   "source": [
    "df_merged.head()"
   ]
  },
  {
   "cell_type": "markdown",
   "id": "225b535e",
   "metadata": {},
   "source": [
    "TRANSFORMANDO DADOS: BRASIL"
   ]
  },
  {
   "cell_type": "code",
   "execution_count": 25,
   "id": "1d80352b",
   "metadata": {},
   "outputs": [],
   "source": [
    "df_brasil = df_merged.melt(\n",
    "    id_vars='Entity',\n",
    "    value_vars=[\n",
    "        'direitos_humanos',\n",
    "        'liberdade_expressao',\n",
    "        'liberdade_associacao'\n",
    "    ],\n",
    "    var_name='Tipo', \n",
    "    value_name='Valor'\n",
    ")"
   ]
  },
  {
   "cell_type": "code",
   "execution_count": 26,
   "id": "1af1a03b",
   "metadata": {},
   "outputs": [],
   "source": [
    "df_brasil = df_brasil.loc[df_brasil['Entity'] == 'Brazil'].reset_index(drop=True)"
   ]
  },
  {
   "cell_type": "code",
   "execution_count": 27,
   "id": "ef01e60c",
   "metadata": {},
   "outputs": [
    {
     "data": {
      "text/html": [
       "<div>\n",
       "<style scoped>\n",
       "    .dataframe tbody tr th:only-of-type {\n",
       "        vertical-align: middle;\n",
       "    }\n",
       "\n",
       "    .dataframe tbody tr th {\n",
       "        vertical-align: top;\n",
       "    }\n",
       "\n",
       "    .dataframe thead th {\n",
       "        text-align: right;\n",
       "    }\n",
       "</style>\n",
       "<table border=\"1\" class=\"dataframe\">\n",
       "  <thead>\n",
       "    <tr style=\"text-align: right;\">\n",
       "      <th></th>\n",
       "      <th>Entity</th>\n",
       "      <th>Tipo</th>\n",
       "      <th>Valor</th>\n",
       "    </tr>\n",
       "  </thead>\n",
       "  <tbody>\n",
       "    <tr>\n",
       "      <th>0</th>\n",
       "      <td>Brazil</td>\n",
       "      <td>direitos_humanos</td>\n",
       "      <td>0.850</td>\n",
       "    </tr>\n",
       "    <tr>\n",
       "      <th>1</th>\n",
       "      <td>Brazil</td>\n",
       "      <td>liberdade_expressao</td>\n",
       "      <td>0.929</td>\n",
       "    </tr>\n",
       "    <tr>\n",
       "      <th>2</th>\n",
       "      <td>Brazil</td>\n",
       "      <td>liberdade_associacao</td>\n",
       "      <td>0.891</td>\n",
       "    </tr>\n",
       "  </tbody>\n",
       "</table>\n",
       "</div>"
      ],
      "text/plain": [
       "   Entity                  Tipo  Valor\n",
       "0  Brazil      direitos_humanos  0.850\n",
       "1  Brazil   liberdade_expressao  0.929\n",
       "2  Brazil  liberdade_associacao  0.891"
      ]
     },
     "execution_count": 27,
     "metadata": {},
     "output_type": "execute_result"
    }
   ],
   "source": [
    "df_brasil"
   ]
  },
  {
   "cell_type": "markdown",
   "id": "cce0de59",
   "metadata": {},
   "source": [
    "TRANSFORMANDO DADOS: MUNDO"
   ]
  },
  {
   "cell_type": "code",
   "execution_count": 28,
   "id": "5aad6a21",
   "metadata": {},
   "outputs": [],
   "source": [
    "df_mundo = df_merged.melt(\n",
    "    id_vars='Entity',\n",
    "    value_vars=[\n",
    "        'direitos_humanos',\n",
    "        'liberdade_expressao',\n",
    "        'liberdade_associacao'\n",
    "    ],\n",
    "    var_name='Tipo', \n",
    "    value_name='Valor'\n",
    ")"
   ]
  },
  {
   "cell_type": "code",
   "execution_count": 29,
   "id": "361fa986",
   "metadata": {},
   "outputs": [],
   "source": [
    "df_mundo['Entity'] = 'Mundo'"
   ]
  },
  {
   "cell_type": "code",
   "execution_count": 30,
   "id": "8d43eb34",
   "metadata": {},
   "outputs": [
    {
     "data": {
      "text/html": [
       "<div>\n",
       "<style scoped>\n",
       "    .dataframe tbody tr th:only-of-type {\n",
       "        vertical-align: middle;\n",
       "    }\n",
       "\n",
       "    .dataframe tbody tr th {\n",
       "        vertical-align: top;\n",
       "    }\n",
       "\n",
       "    .dataframe thead th {\n",
       "        text-align: right;\n",
       "    }\n",
       "</style>\n",
       "<table border=\"1\" class=\"dataframe\">\n",
       "  <thead>\n",
       "    <tr style=\"text-align: right;\">\n",
       "      <th></th>\n",
       "      <th>Entity</th>\n",
       "      <th>Tipo</th>\n",
       "      <th>Valor</th>\n",
       "    </tr>\n",
       "  </thead>\n",
       "  <tbody>\n",
       "    <tr>\n",
       "      <th>0</th>\n",
       "      <td>Mundo</td>\n",
       "      <td>direitos_humanos</td>\n",
       "      <td>0.042000</td>\n",
       "    </tr>\n",
       "    <tr>\n",
       "      <th>1</th>\n",
       "      <td>Mundo</td>\n",
       "      <td>direitos_humanos</td>\n",
       "      <td>0.581875</td>\n",
       "    </tr>\n",
       "    <tr>\n",
       "      <th>2</th>\n",
       "      <td>Mundo</td>\n",
       "      <td>direitos_humanos</td>\n",
       "      <td>0.552009</td>\n",
       "    </tr>\n",
       "    <tr>\n",
       "      <th>3</th>\n",
       "      <td>Mundo</td>\n",
       "      <td>direitos_humanos</td>\n",
       "      <td>0.876000</td>\n",
       "    </tr>\n",
       "    <tr>\n",
       "      <th>4</th>\n",
       "      <td>Mundo</td>\n",
       "      <td>direitos_humanos</td>\n",
       "      <td>0.416000</td>\n",
       "    </tr>\n",
       "  </tbody>\n",
       "</table>\n",
       "</div>"
      ],
      "text/plain": [
       "  Entity              Tipo     Valor\n",
       "0  Mundo  direitos_humanos  0.042000\n",
       "1  Mundo  direitos_humanos  0.581875\n",
       "2  Mundo  direitos_humanos  0.552009\n",
       "3  Mundo  direitos_humanos  0.876000\n",
       "4  Mundo  direitos_humanos  0.416000"
      ]
     },
     "execution_count": 30,
     "metadata": {},
     "output_type": "execute_result"
    }
   ],
   "source": [
    "df_mundo.head()"
   ]
  },
  {
   "cell_type": "code",
   "execution_count": 31,
   "id": "0ce29d4d",
   "metadata": {},
   "outputs": [],
   "source": [
    "df_mundo = df_mundo.groupby(['Entity', 'Tipo'])['Valor'].median().reset_index()"
   ]
  },
  {
   "cell_type": "code",
   "execution_count": 32,
   "id": "3ca65469",
   "metadata": {},
   "outputs": [
    {
     "data": {
      "text/html": [
       "<div>\n",
       "<style scoped>\n",
       "    .dataframe tbody tr th:only-of-type {\n",
       "        vertical-align: middle;\n",
       "    }\n",
       "\n",
       "    .dataframe tbody tr th {\n",
       "        vertical-align: top;\n",
       "    }\n",
       "\n",
       "    .dataframe thead th {\n",
       "        text-align: right;\n",
       "    }\n",
       "</style>\n",
       "<table border=\"1\" class=\"dataframe\">\n",
       "  <thead>\n",
       "    <tr style=\"text-align: right;\">\n",
       "      <th></th>\n",
       "      <th>Entity</th>\n",
       "      <th>Tipo</th>\n",
       "      <th>Valor</th>\n",
       "    </tr>\n",
       "  </thead>\n",
       "  <tbody>\n",
       "    <tr>\n",
       "      <th>0</th>\n",
       "      <td>Mundo</td>\n",
       "      <td>direitos_humanos</td>\n",
       "      <td>0.759</td>\n",
       "    </tr>\n",
       "    <tr>\n",
       "      <th>1</th>\n",
       "      <td>Mundo</td>\n",
       "      <td>liberdade_associacao</td>\n",
       "      <td>0.720</td>\n",
       "    </tr>\n",
       "    <tr>\n",
       "      <th>2</th>\n",
       "      <td>Mundo</td>\n",
       "      <td>liberdade_expressao</td>\n",
       "      <td>0.709</td>\n",
       "    </tr>\n",
       "  </tbody>\n",
       "</table>\n",
       "</div>"
      ],
      "text/plain": [
       "  Entity                  Tipo  Valor\n",
       "0  Mundo      direitos_humanos  0.759\n",
       "1  Mundo  liberdade_associacao  0.720\n",
       "2  Mundo   liberdade_expressao  0.709"
      ]
     },
     "execution_count": 32,
     "metadata": {},
     "output_type": "execute_result"
    }
   ],
   "source": [
    "df_mundo.head()"
   ]
  },
  {
   "cell_type": "code",
   "execution_count": 33,
   "id": "b52a5e52",
   "metadata": {},
   "outputs": [],
   "source": [
    "df_merged2 = pd.concat([df_mundo, df_brasil])"
   ]
  },
  {
   "cell_type": "markdown",
   "id": "bb7b365d",
   "metadata": {},
   "source": [
    "PLOTAGEM"
   ]
  },
  {
   "cell_type": "code",
   "execution_count": 34,
   "id": "0eb227d3",
   "metadata": {},
   "outputs": [
    {
     "data": {
      "image/png": "[encoded data removed]",
      "text/plain": [
       "<Figure size 1000x600 with 1 Axes>"
      ]
     },
     "metadata": {},
     "output_type": "display_data"
    }
   ],
   "source": [
    "from cProfile import label\n",
    "\n",
    "\n",
    "fig, ax = plt.subplots(figsize=(10, 6))\n",
    "\n",
    "bar_plot = sns.barplot(df_merged2, y='Tipo', x='Valor', hue='Entity', palette='Dark2')\n",
    "\n",
    "for container in bar_plot.containers:\n",
    "    ax.bar_label(container, fmt=lambda x: f'{x:.2f}'.replace('.', ','), padding=3)\n",
    "\n",
    "labels = ['Liberdades Civis', 'Liberdade de Associação', 'Liberdade de Expressão']\n",
    "\n",
    "ax.set_ylabel('')\n",
    "ax.set_xlabel('')\n",
    "ax.set_yticks(np.arange(len(labels)))\n",
    "ax.set_yticklabels(labels)\n",
    "ax.xaxis.set_visible(False)\n",
    "plt.legend(title='Região', loc='upper center', bbox_to_anchor=(0.5, 1.1), ncol=2, labels=['Mundo', 'Brasil'])\n",
    "sns.despine(bottom=True)\n",
    "plt.tight_layout()\n",
    "plt.savefig('C:/Users/lazar/Master-Dissertation/figuras/comparacao_liberdade_expressao_associacao_dh.png', dpi=300, bbox_inches='tight')\n",
    "plt.show()"
   ]
  }
 ],
 "metadata": {
  "kernelspec": {
   "display_name": "Python 3",
   "language": "python",
   "name": "python3"
  },
  "language_info": {
   "codemirror_mode": {
    "name": "ipython",
    "version": 3
   },
   "file_extension": ".py",
   "mimetype": "text/x-python",
   "name": "python",
   "nbconvert_exporter": "python",
   "pygments_lexer": "ipython3",
   "version": "3.13.7"
  }
 },
 "nbformat": 4,
 "nbformat_minor": 5
}
