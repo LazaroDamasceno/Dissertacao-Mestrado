{
 "cells": [
  {
   "cell_type": "code",
   "execution_count": 1,
   "id": "36077775",
   "metadata": {},
   "outputs": [],
   "source": [
    "import pandas as pd\n",
    "import matplotlib.pyplot as plt\n",
    "import seaborn as sns\n",
    "import numpy as np"
   ]
  },
  {
   "cell_type": "markdown",
   "id": "8d2cd62c",
   "metadata": {},
   "source": []
  },
  {
   "cell_type": "code",
   "execution_count": 2,
   "id": "e4957404",
   "metadata": {},
   "outputs": [],
   "source": [
    "dgi = pd.DataFrame({\n",
    "    'Country': ['OCDE', 'Brasil'],\n",
    "    'Digital by Design': [0.55, 0.54],\n",
    "    'Data-driven public sector': [0.44, 0.47],\n",
    "    'Government as a Platform': [0.54, 0.48],\n",
    "    'Open by Default': [0.64, 0.61],\n",
    "    'User-Driven': [0.47, 0.54],\n",
    "    'Proactiveness': [0.42, 0.42],\n",
    "    'Composite Score': [0.501, 0.519],\n",
    "}, np.arange(2))"
   ]
  },
  {
   "cell_type": "markdown",
   "id": "4b3667d0",
   "metadata": {},
   "source": [
    " 0.47 0.42 0.501"
   ]
  },
  {
   "cell_type": "code",
   "execution_count": 3,
   "id": "c9611e13",
   "metadata": {},
   "outputs": [
    {
     "data": {
      "text/html": [
       "<div>\n",
       "<style scoped>\n",
       "    .dataframe tbody tr th:only-of-type {\n",
       "        vertical-align: middle;\n",
       "    }\n",
       "\n",
       "    .dataframe tbody tr th {\n",
       "        vertical-align: top;\n",
       "    }\n",
       "\n",
       "    .dataframe thead th {\n",
       "        text-align: right;\n",
       "    }\n",
       "</style>\n",
       "<table border=\"1\" class=\"dataframe\">\n",
       "  <thead>\n",
       "    <tr style=\"text-align: right;\">\n",
       "      <th></th>\n",
       "      <th>Country</th>\n",
       "      <th>Digital by Design</th>\n",
       "      <th>Data-driven public sector</th>\n",
       "      <th>Government as a Platform</th>\n",
       "      <th>Open by Default</th>\n",
       "      <th>User-Driven</th>\n",
       "      <th>Proactiveness</th>\n",
       "      <th>Composite Score</th>\n",
       "    </tr>\n",
       "  </thead>\n",
       "  <tbody>\n",
       "    <tr>\n",
       "      <th>0</th>\n",
       "      <td>OCDE</td>\n",
       "      <td>0.55</td>\n",
       "      <td>0.44</td>\n",
       "      <td>0.54</td>\n",
       "      <td>0.64</td>\n",
       "      <td>0.47</td>\n",
       "      <td>0.42</td>\n",
       "      <td>0.501</td>\n",
       "    </tr>\n",
       "    <tr>\n",
       "      <th>1</th>\n",
       "      <td>Brasil</td>\n",
       "      <td>0.54</td>\n",
       "      <td>0.47</td>\n",
       "      <td>0.48</td>\n",
       "      <td>0.61</td>\n",
       "      <td>0.54</td>\n",
       "      <td>0.42</td>\n",
       "      <td>0.519</td>\n",
       "    </tr>\n",
       "  </tbody>\n",
       "</table>\n",
       "</div>"
      ],
      "text/plain": [
       "  Country  Digital by Design  Data-driven public sector  \\\n",
       "0    OCDE               0.55                       0.44   \n",
       "1  Brasil               0.54                       0.47   \n",
       "\n",
       "   Government as a Platform  Open by Default  User-Driven  Proactiveness  \\\n",
       "0                      0.54             0.64         0.47           0.42   \n",
       "1                      0.48             0.61         0.54           0.42   \n",
       "\n",
       "   Composite Score  \n",
       "0            0.501  \n",
       "1            0.519  "
      ]
     },
     "execution_count": 3,
     "metadata": {},
     "output_type": "execute_result"
    }
   ],
   "source": [
    "dgi      "
   ]
  },
  {
   "cell_type": "markdown",
   "id": "f2f37c36",
   "metadata": {},
   "source": []
  },
  {
   "cell_type": "code",
   "execution_count": 4,
   "id": "34c5b272",
   "metadata": {},
   "outputs": [],
   "source": [
    "dgi = dgi.melt(\n",
    "    id_vars='Country',\n",
    "    value_vars=[\n",
    "        'Digital by Design',\n",
    "        'Data-driven public sector',\n",
    "        'Government as a Platform',\t\n",
    "        'Open by Default',\t\n",
    "        'User-Driven',\t\n",
    "        'Proactiveness',\n",
    "        'Composite Score'\n",
    "    ],\n",
    "    var_name='Dimensoes', \n",
    "    value_name='Valores'\n",
    ")"
   ]
  },
  {
   "cell_type": "code",
   "execution_count": 5,
   "id": "372a187c",
   "metadata": {},
   "outputs": [
    {
     "data": {
      "text/html": [
       "<div>\n",
       "<style scoped>\n",
       "    .dataframe tbody tr th:only-of-type {\n",
       "        vertical-align: middle;\n",
       "    }\n",
       "\n",
       "    .dataframe tbody tr th {\n",
       "        vertical-align: top;\n",
       "    }\n",
       "\n",
       "    .dataframe thead th {\n",
       "        text-align: right;\n",
       "    }\n",
       "</style>\n",
       "<table border=\"1\" class=\"dataframe\">\n",
       "  <thead>\n",
       "    <tr style=\"text-align: right;\">\n",
       "      <th></th>\n",
       "      <th>Country</th>\n",
       "      <th>Dimensoes</th>\n",
       "      <th>Valores</th>\n",
       "    </tr>\n",
       "  </thead>\n",
       "  <tbody>\n",
       "    <tr>\n",
       "      <th>0</th>\n",
       "      <td>OCDE</td>\n",
       "      <td>Digital by Design</td>\n",
       "      <td>0.550</td>\n",
       "    </tr>\n",
       "    <tr>\n",
       "      <th>1</th>\n",
       "      <td>Brasil</td>\n",
       "      <td>Digital by Design</td>\n",
       "      <td>0.540</td>\n",
       "    </tr>\n",
       "    <tr>\n",
       "      <th>2</th>\n",
       "      <td>OCDE</td>\n",
       "      <td>Data-driven public sector</td>\n",
       "      <td>0.440</td>\n",
       "    </tr>\n",
       "    <tr>\n",
       "      <th>3</th>\n",
       "      <td>Brasil</td>\n",
       "      <td>Data-driven public sector</td>\n",
       "      <td>0.470</td>\n",
       "    </tr>\n",
       "    <tr>\n",
       "      <th>4</th>\n",
       "      <td>OCDE</td>\n",
       "      <td>Government as a Platform</td>\n",
       "      <td>0.540</td>\n",
       "    </tr>\n",
       "    <tr>\n",
       "      <th>5</th>\n",
       "      <td>Brasil</td>\n",
       "      <td>Government as a Platform</td>\n",
       "      <td>0.480</td>\n",
       "    </tr>\n",
       "    <tr>\n",
       "      <th>6</th>\n",
       "      <td>OCDE</td>\n",
       "      <td>Open by Default</td>\n",
       "      <td>0.640</td>\n",
       "    </tr>\n",
       "    <tr>\n",
       "      <th>7</th>\n",
       "      <td>Brasil</td>\n",
       "      <td>Open by Default</td>\n",
       "      <td>0.610</td>\n",
       "    </tr>\n",
       "    <tr>\n",
       "      <th>8</th>\n",
       "      <td>OCDE</td>\n",
       "      <td>User-Driven</td>\n",
       "      <td>0.470</td>\n",
       "    </tr>\n",
       "    <tr>\n",
       "      <th>9</th>\n",
       "      <td>Brasil</td>\n",
       "      <td>User-Driven</td>\n",
       "      <td>0.540</td>\n",
       "    </tr>\n",
       "    <tr>\n",
       "      <th>10</th>\n",
       "      <td>OCDE</td>\n",
       "      <td>Proactiveness</td>\n",
       "      <td>0.420</td>\n",
       "    </tr>\n",
       "    <tr>\n",
       "      <th>11</th>\n",
       "      <td>Brasil</td>\n",
       "      <td>Proactiveness</td>\n",
       "      <td>0.420</td>\n",
       "    </tr>\n",
       "    <tr>\n",
       "      <th>12</th>\n",
       "      <td>OCDE</td>\n",
       "      <td>Composite Score</td>\n",
       "      <td>0.501</td>\n",
       "    </tr>\n",
       "    <tr>\n",
       "      <th>13</th>\n",
       "      <td>Brasil</td>\n",
       "      <td>Composite Score</td>\n",
       "      <td>0.519</td>\n",
       "    </tr>\n",
       "  </tbody>\n",
       "</table>\n",
       "</div>"
      ],
      "text/plain": [
       "   Country                  Dimensoes  Valores\n",
       "0     OCDE          Digital by Design    0.550\n",
       "1   Brasil          Digital by Design    0.540\n",
       "2     OCDE  Data-driven public sector    0.440\n",
       "3   Brasil  Data-driven public sector    0.470\n",
       "4     OCDE   Government as a Platform    0.540\n",
       "5   Brasil   Government as a Platform    0.480\n",
       "6     OCDE            Open by Default    0.640\n",
       "7   Brasil            Open by Default    0.610\n",
       "8     OCDE                User-Driven    0.470\n",
       "9   Brasil                User-Driven    0.540\n",
       "10    OCDE              Proactiveness    0.420\n",
       "11  Brasil              Proactiveness    0.420\n",
       "12    OCDE            Composite Score    0.501\n",
       "13  Brasil            Composite Score    0.519"
      ]
     },
     "execution_count": 5,
     "metadata": {},
     "output_type": "execute_result"
    }
   ],
   "source": [
    "dgi"
   ]
  },
  {
   "cell_type": "markdown",
   "id": "3cae4280",
   "metadata": {},
   "source": []
  },
  {
   "cell_type": "code",
   "execution_count": 6,
   "id": "d9655a6f",
   "metadata": {},
   "outputs": [
    {
     "data": {
      "image/png": "[encoded data removed]",
      "text/plain": [
       "<Figure size 1000x600 with 1 Axes>"
      ]
     },
     "metadata": {},
     "output_type": "display_data"
    }
   ],
   "source": [
    "fig, ax = plt.subplots(figsize=(10, 6))\n",
    "\n",
    "bar = sns.barplot(dgi, y='Dimensoes', x='Valores', hue='Country', palette='Dark2')\n",
    "\n",
    "for containter in bar.containers:\n",
    "    ax.bar_label(containter, fmt=lambda x: f'{x:.2f}'.replace('.', ','), padding=3)\n",
    "\n",
    "ax.set_ylabel('')\n",
    "ax.set_xlabel('')\n",
    "ax.xaxis.set_visible(False)\n",
    "ax.legend(title='Organização', loc='upper center', bbox_to_anchor=(0.5, 1.1), ncols=2)\n",
    "sns.despine(bottom=True)\n",
    "plt.tight_layout()\n",
    "plt.savefig('C:/Users/lazar/Dissertacao-Mestrado-PoderJud-EGDI/figuras/comparacao_dgi_brasil_mundo_2020.png', dpi=300, bbox_inches='tight')\n",
    "plt.show()"
   ]
  }
 ],
 "metadata": {
  "kernelspec": {
   "display_name": "Python 3",
   "language": "python",
   "name": "python3"
  },
  "language_info": {
   "codemirror_mode": {
    "name": "ipython",
    "version": 3
   },
   "file_extension": ".py",
   "mimetype": "text/x-python",
   "name": "python",
   "nbconvert_exporter": "python",
   "pygments_lexer": "ipython3",
   "version": "3.13.7"
  }
 },
 "nbformat": 4,
 "nbformat_minor": 5
}
