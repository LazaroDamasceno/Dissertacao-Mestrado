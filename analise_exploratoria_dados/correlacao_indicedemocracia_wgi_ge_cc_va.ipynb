{
 "cells": [
  {
   "cell_type": "code",
   "execution_count": 1,
   "id": "e4f1abd7",
   "metadata": {},
   "outputs": [],
   "source": [
    "import pandas as pd\n",
    "import plotly.express as px\n",
    "import numpy as np"
   ]
  },
  {
   "cell_type": "markdown",
   "id": "4c86411e",
   "metadata": {},
   "source": []
  },
  {
   "cell_type": "code",
   "execution_count": 2,
   "id": "bdca515b",
   "metadata": {},
   "outputs": [],
   "source": [
    "egdi = pd.read_csv('EGOV_DATA_2024.csv')"
   ]
  },
  {
   "cell_type": "markdown",
   "id": "86579f3a",
   "metadata": {},
   "source": []
  },
  {
   "cell_type": "code",
   "execution_count": 3,
   "id": "c51e2969",
   "metadata": {},
   "outputs": [],
   "source": [
    "wgi = pd.read_excel('wgidataset.xlsx')"
   ]
  },
  {
   "cell_type": "code",
   "execution_count": 4,
   "id": "06009074",
   "metadata": {},
   "outputs": [],
   "source": [
    "ge = wgi.loc[(wgi['indicator'] == 'ge') & (wgi['year'] == 2023)].reset_index(drop=True)"
   ]
  },
  {
   "cell_type": "code",
   "execution_count": 5,
   "id": "8f75766c",
   "metadata": {},
   "outputs": [],
   "source": [
    "cc = wgi.loc[(wgi['indicator'] == 'cc') & (wgi['year'] == 2023)].reset_index(drop=True)"
   ]
  },
  {
   "cell_type": "code",
   "execution_count": 6,
   "id": "d2ecdffb",
   "metadata": {},
   "outputs": [],
   "source": [
    "va = wgi.loc[(wgi['indicator'] == 'va') & (wgi['year'] == 2023)].reset_index(drop=True)"
   ]
  },
  {
   "cell_type": "markdown",
   "id": "2375f23e",
   "metadata": {},
   "source": []
  },
  {
   "cell_type": "code",
   "execution_count": 7,
   "id": "39733c8a",
   "metadata": {},
   "outputs": [],
   "source": [
    "ide = pd.read_csv('electoral-democracy-index.csv')"
   ]
  },
  {
   "cell_type": "code",
   "execution_count": 8,
   "id": "363fbfa9",
   "metadata": {},
   "outputs": [],
   "source": [
    "ide = ide.loc[ide['Year'] == 2023]"
   ]
  },
  {
   "cell_type": "markdown",
   "id": "206e62af",
   "metadata": {},
   "source": []
  },
  {
   "cell_type": "code",
   "execution_count": 9,
   "id": "add655eb",
   "metadata": {},
   "outputs": [],
   "source": [
    "ge['countryname'] = ge['countryname'].replace({\n",
    "    'Georgia': 'Georgia (Country)',\n",
    "    'Bahamas, The': 'Bahamas',\n",
    "    'Gambia, The': 'Gambia',\n",
    "    'Lao PDR': \"Lao People's Democratic Republic\",\n",
    "    'Cape Verde': 'Cabo Verde',\n",
    "    'Korea, Rep.': 'Republic of Korea',\n",
    "    'Moldova': 'Republic of Moldova',\n",
    "    'Slovak Republic': 'Slovakia',\n",
    "    'Venezuela, RB': 'Venezuela',\n",
    "    'Congo, Rep.': 'Congo',\n",
    "    'Kyrgyz Republic': 'Kyrgyzstan',\n",
    "    'Yemen, Rep.': 'Yemen',\n",
    "    'Micronesia, Fed. Sts.': 'Micronesia (Federated States of)',\n",
    "    'United Kingdom': 'United Kingdom of Great Britain and Northern Ireland',\n",
    "    'Tanzania':  'United Republic of Tanzania',\n",
    "    'United States': 'United States of America',\n",
    "    'St. Kitts and Nevis': 'Saint Kitts and Nevis',\n",
    "    'St. Lucia': 'Saint Lucia',\n",
    "    'St. Vincent and the Grenadines': 'Saint Vincent and the Grenadines',\n",
    "    'Egypt, Arab Rep.': 'Egypt',\n",
    "    \"Korea, Dem. Rep.\": \"Democratic People's Republic of Korea\",\n",
    "    'Congo, Dem. Rep.': 'Democratic Republic of the Congo',\n",
    "    'Iran, Islamic Rep.': 'Iran (Islamic Republic of)',\n",
    "    'São Tomé and Principe': 'Sao Tome and Principe'\n",
    "})"
   ]
  },
  {
   "cell_type": "code",
   "execution_count": 10,
   "id": "9e048198",
   "metadata": {},
   "outputs": [],
   "source": [
    "cc['countryname'] = cc['countryname'].replace({\n",
    "    'Georgia': 'Georgia (Country)',\n",
    "    'Bahamas, The': 'Bahamas',\n",
    "    'Gambia, The': 'Gambia',\n",
    "    'Lao PDR': \"Lao People's Democratic Republic\",\n",
    "    'Cape Verde': 'Cabo Verde',\n",
    "    'Korea, Rep.': 'Republic of Korea',\n",
    "    'Moldova': 'Republic of Moldova',\n",
    "    'Slovak Republic': 'Slovakia',\n",
    "    'Venezuela, RB': 'Venezuela',\n",
    "    'Congo, Rep.': 'Congo',\n",
    "    'Kyrgyz Republic': 'Kyrgyzstan',\n",
    "    'Yemen, Rep.': 'Yemen',\n",
    "    'Micronesia, Fed. Sts.': 'Micronesia (Federated States of)',\n",
    "    'United Kingdom': 'United Kingdom of Great Britain and Northern Ireland',\n",
    "    'Tanzania':  'United Republic of Tanzania',\n",
    "    'United States': 'United States of America',\n",
    "    'St. Kitts and Nevis': 'Saint Kitts and Nevis',\n",
    "    'St. Lucia': 'Saint Lucia',\n",
    "    'St. Vincent and the Grenadines': 'Saint Vincent and the Grenadines',\n",
    "    'Egypt, Arab Rep.': 'Egypt',\n",
    "    \"Korea, Dem. Rep.\": \"Democratic People's Republic of Korea\",\n",
    "    'Congo, Dem. Rep.': 'Democratic Republic of the Congo',\n",
    "    'Iran, Islamic Rep.': 'Iran (Islamic Republic of)',\n",
    "    'São Tomé and Principe': 'Sao Tome and Principe'\n",
    "})"
   ]
  },
  {
   "cell_type": "code",
   "execution_count": 11,
   "id": "c698257d",
   "metadata": {},
   "outputs": [],
   "source": [
    "va['countryname'] = va['countryname'].replace({\n",
    "    'Georgia': 'Georgia (Country)',\n",
    "    'Bahamas, The': 'Bahamas',\n",
    "    'Gambia, The': 'Gambia',\n",
    "    'Lao PDR': \"Lao People's Democratic Republic\",\n",
    "    'Cape Verde': 'Cabo Verde',\n",
    "    'Korea, Rep.': 'Republic of Korea',\n",
    "    'Moldova': 'Republic of Moldova',\n",
    "    'Slovak Republic': 'Slovakia',\n",
    "    'Venezuela, RB': 'Venezuela',\n",
    "    'Congo, Rep.': 'Congo',\n",
    "    'Kyrgyz Republic': 'Kyrgyzstan',\n",
    "    'Yemen, Rep.': 'Yemen',\n",
    "    'Micronesia, Fed. Sts.': 'Micronesia (Federated States of)',\n",
    "    'United Kingdom': 'United Kingdom of Great Britain and Northern Ireland',\n",
    "    'Tanzania':  'United Republic of Tanzania',\n",
    "    'United States': 'United States of America',\n",
    "    'St. Kitts and Nevis': 'Saint Kitts and Nevis',\n",
    "    'St. Lucia': 'Saint Lucia',\n",
    "    'St. Vincent and the Grenadines': 'Saint Vincent and the Grenadines',\n",
    "    'Egypt, Arab Rep.': 'Egypt',\n",
    "    \"Korea, Dem. Rep.\": \"Democratic People's Republic of Korea\",\n",
    "    'Congo, Dem. Rep.': 'Democratic Republic of the Congo',\n",
    "    'Iran, Islamic Rep.': 'Iran (Islamic Republic of)',\n",
    "    'São Tomé and Principe': 'Sao Tome and Principe'\n",
    "})"
   ]
  },
  {
   "cell_type": "markdown",
   "id": "7e6ac2fb",
   "metadata": {},
   "source": []
  },
  {
   "cell_type": "code",
   "execution_count": 12,
   "id": "4583da3d",
   "metadata": {},
   "outputs": [
    {
     "data": {
      "text/plain": [
       "np.int64(290)"
      ]
     },
     "execution_count": 12,
     "metadata": {},
     "output_type": "execute_result"
    }
   ],
   "source": [
    "ide['Entity'].value_counts().sum()"
   ]
  },
  {
   "cell_type": "code",
   "execution_count": 13,
   "id": "0caf52c6",
   "metadata": {},
   "outputs": [
    {
     "data": {
      "text/plain": [
       "{'Brunei Darussalam',\n",
       " 'Cabo Verde',\n",
       " 'Czech Republic',\n",
       " \"Côte d'Ivoire\",\n",
       " \"Democratic People's Republic of Korea\",\n",
       " 'Democratic Republic of the Congo',\n",
       " 'Georgia (Country)',\n",
       " 'Iran (Islamic Republic of)',\n",
       " \"Lao People's Democratic Republic\",\n",
       " 'Micronesia (Federated States of)',\n",
       " 'Republic of Korea',\n",
       " 'Republic of Moldova',\n",
       " 'Russian Federation',\n",
       " 'Syrian Arab Republic',\n",
       " 'Timor-Leste',\n",
       " 'Türkiye',\n",
       " 'United Kingdom of Great Britain and Northern Ireland',\n",
       " 'United Republic of Tanzania',\n",
       " 'United States of America',\n",
       " 'Viet Nam'}"
      ]
     },
     "execution_count": 13,
     "metadata": {},
     "output_type": "execute_result"
    }
   ],
   "source": [
    "set(egdi['Country Name']).difference(ide['Entity'])"
   ]
  },
  {
   "cell_type": "code",
   "execution_count": 14,
   "id": "ac097088",
   "metadata": {},
   "outputs": [],
   "source": [
    "ide['Entity'] = ide['Entity'].replace({\n",
    "    'Brunei': 'Brunei Darussalam',\n",
    "    'Cape Verde': 'Cabo Verde',\n",
    "    \"Cote d'Ivoire\": \"Côte d'Ivoire\",\n",
    "    'Moldova': 'Republic of Moldova',\n",
    "    'Russia': 'Russian Federation',\n",
    "    'Syria': 'Syrian Arab Republic',\n",
    "    'East Timor': 'Timor-Leste',\n",
    "    'Czechia': 'Czech Republic',\n",
    "    'Georgia': 'Georgia (Country)',\n",
    "    'United Kingdom': 'United Kingdom of Great Britain and Northern Ireland',\n",
    "    'Tanzania': 'United Republic of Tanzania',\n",
    "    'United States': 'United States of America',\n",
    "    'Vietnam': 'Viet Nam',\n",
    "    'South Korea': 'Republic of Korea',\n",
    "    'North Korea': \"Democratic People's Republic of Korea\",\n",
    "    'Iran': 'Iran (Islamic Republic of)',\n",
    "    'Democratic Republic of Congo': 'Democratic Republic of the Congo',\n",
    "    'Micronesia (country)': 'Micronesia (Federated States of)',\n",
    "    \"Laos\": \"Lao People's Democratic Republic\",\n",
    "    'Turkey': 'Türkiye'\n",
    "})"
   ]
  },
  {
   "cell_type": "code",
   "execution_count": 15,
   "id": "0558c04d",
   "metadata": {},
   "outputs": [
    {
     "data": {
      "text/plain": [
       "set()"
      ]
     },
     "execution_count": 15,
     "metadata": {},
     "output_type": "execute_result"
    }
   ],
   "source": [
    "set(egdi['Country Name']).difference(ide['Entity'])"
   ]
  },
  {
   "cell_type": "markdown",
   "id": "5286767a",
   "metadata": {},
   "source": []
  },
  {
   "cell_type": "code",
   "execution_count": 16,
   "id": "e73a467d",
   "metadata": {},
   "outputs": [
    {
     "name": "stdout",
     "output_type": "stream",
     "text": [
      "<class 'pandas.core.frame.DataFrame'>\n",
      "Index: 290 entries, 234 to 34130\n",
      "Data columns (total 5 columns):\n",
      " #   Column                                        Non-Null Count  Dtype  \n",
      "---  ------                                        --------------  -----  \n",
      " 0   Entity                                        290 non-null    object \n",
      " 1   Code                                          260 non-null    object \n",
      " 2   Year                                          290 non-null    int64  \n",
      " 3   Electoral democracy index (central estimate)  193 non-null    float64\n",
      " 4   World regions according to OWID               272 non-null    object \n",
      "dtypes: float64(1), int64(1), object(3)\n",
      "memory usage: 13.6+ KB\n"
     ]
    }
   ],
   "source": [
    "ide.info()"
   ]
  },
  {
   "cell_type": "code",
   "execution_count": 17,
   "id": "5388699a",
   "metadata": {},
   "outputs": [],
   "source": [
    "ide = ide.rename(columns={\n",
    "    'Electoral democracy index (central estimate)': 'indice_democracia'\n",
    "})"
   ]
  },
  {
   "cell_type": "markdown",
   "id": "c7d3d8d5",
   "metadata": {},
   "source": []
  },
  {
   "cell_type": "code",
   "execution_count": 18,
   "id": "1c660236",
   "metadata": {},
   "outputs": [
    {
     "name": "stderr",
     "output_type": "stream",
     "text": [
      "C:\\Users\\lazar\\AppData\\Local\\Temp\\ipykernel_4676\\401020240.py:1: FutureWarning: Downcasting behavior in `replace` is deprecated and will be removed in a future version. To retain the old behavior, explicitly call `result.infer_objects(copy=False)`. To opt-in to the future behavior, set `pd.set_option('future.no_silent_downcasting', True)`\n",
      "  va = va.replace({\n"
     ]
    }
   ],
   "source": [
    "va = va.replace({\n",
    "    '..': np.nan\n",
    "})"
   ]
  },
  {
   "cell_type": "code",
   "execution_count": 19,
   "id": "26da11dd",
   "metadata": {},
   "outputs": [
    {
     "name": "stderr",
     "output_type": "stream",
     "text": [
      "C:\\Users\\lazar\\AppData\\Local\\Temp\\ipykernel_4676\\3532903772.py:1: FutureWarning: Downcasting behavior in `replace` is deprecated and will be removed in a future version. To retain the old behavior, explicitly call `result.infer_objects(copy=False)`. To opt-in to the future behavior, set `pd.set_option('future.no_silent_downcasting', True)`\n",
      "  ge = ge.replace({\n"
     ]
    }
   ],
   "source": [
    "ge = ge.replace({\n",
    "    '..': np.nan\n",
    "})"
   ]
  },
  {
   "cell_type": "code",
   "execution_count": 20,
   "id": "f416d4cb",
   "metadata": {},
   "outputs": [
    {
     "name": "stderr",
     "output_type": "stream",
     "text": [
      "C:\\Users\\lazar\\AppData\\Local\\Temp\\ipykernel_4676\\1003815289.py:1: FutureWarning: Downcasting behavior in `replace` is deprecated and will be removed in a future version. To retain the old behavior, explicitly call `result.infer_objects(copy=False)`. To opt-in to the future behavior, set `pd.set_option('future.no_silent_downcasting', True)`\n",
      "  cc = cc.replace({\n"
     ]
    }
   ],
   "source": [
    "cc = cc.replace({\n",
    "    '..': np.nan\n",
    "})"
   ]
  },
  {
   "cell_type": "markdown",
   "id": "105babff",
   "metadata": {},
   "source": []
  },
  {
   "cell_type": "code",
   "execution_count": 21,
   "id": "8a035d93",
   "metadata": {},
   "outputs": [],
   "source": [
    "ide = ide.rename(columns={\n",
    "    'Entity': 'countryname'\n",
    "})"
   ]
  },
  {
   "cell_type": "code",
   "execution_count": 22,
   "id": "9578bc04",
   "metadata": {},
   "outputs": [],
   "source": [
    "cc = cc.rename(columns={\n",
    "    'pctrank': 'cc'\n",
    "})"
   ]
  },
  {
   "cell_type": "code",
   "execution_count": 23,
   "id": "495a7cc0",
   "metadata": {},
   "outputs": [],
   "source": [
    "ge = ge.rename(columns={\n",
    "    'pctrank': 'ge'\n",
    "})"
   ]
  },
  {
   "cell_type": "code",
   "execution_count": 24,
   "id": "837681ab",
   "metadata": {},
   "outputs": [],
   "source": [
    "va = va.rename(columns={\n",
    "    'pctrank': 'va'\n",
    "})"
   ]
  },
  {
   "cell_type": "markdown",
   "id": "bd3516a1",
   "metadata": {},
   "source": []
  },
  {
   "cell_type": "code",
   "execution_count": 25,
   "id": "557fbbc7",
   "metadata": {},
   "outputs": [
    {
     "name": "stdout",
     "output_type": "stream",
     "text": [
      "<class 'pandas.core.frame.DataFrame'>\n",
      "RangeIndex: 214 entries, 0 to 213\n",
      "Data columns (total 11 columns):\n",
      " #   Column        Non-Null Count  Dtype  \n",
      "---  ------        --------------  -----  \n",
      " 0   codeindyr     214 non-null    object \n",
      " 1   code          214 non-null    object \n",
      " 2   countryname   214 non-null    object \n",
      " 3   year          214 non-null    int64  \n",
      " 4   indicator     214 non-null    object \n",
      " 5   estimate      213 non-null    float64\n",
      " 6   stddev        213 non-null    float64\n",
      " 7   nsource       213 non-null    float64\n",
      " 8   cc            213 non-null    float64\n",
      " 9   pctranklower  213 non-null    float64\n",
      " 10  pctrankupper  213 non-null    float64\n",
      "dtypes: float64(6), int64(1), object(4)\n",
      "memory usage: 18.5+ KB\n"
     ]
    }
   ],
   "source": [
    "cc.info()"
   ]
  },
  {
   "cell_type": "code",
   "execution_count": 26,
   "id": "e584fde9",
   "metadata": {},
   "outputs": [],
   "source": [
    "cc = cc.iloc[:, [2, 8]]"
   ]
  },
  {
   "cell_type": "code",
   "execution_count": 27,
   "id": "86bf5262",
   "metadata": {},
   "outputs": [],
   "source": [
    "ge = ge.iloc[:, [2, 8]]"
   ]
  },
  {
   "cell_type": "code",
   "execution_count": 28,
   "id": "749e9351",
   "metadata": {},
   "outputs": [],
   "source": [
    "va = va.iloc[:, [2, 8]]"
   ]
  },
  {
   "cell_type": "code",
   "execution_count": 29,
   "id": "46db3a06",
   "metadata": {},
   "outputs": [
    {
     "name": "stdout",
     "output_type": "stream",
     "text": [
      "<class 'pandas.core.frame.DataFrame'>\n",
      "Index: 290 entries, 234 to 34130\n",
      "Data columns (total 5 columns):\n",
      " #   Column                           Non-Null Count  Dtype  \n",
      "---  ------                           --------------  -----  \n",
      " 0   countryname                      290 non-null    object \n",
      " 1   Code                             260 non-null    object \n",
      " 2   Year                             290 non-null    int64  \n",
      " 3   indice_democracia                193 non-null    float64\n",
      " 4   World regions according to OWID  272 non-null    object \n",
      "dtypes: float64(1), int64(1), object(3)\n",
      "memory usage: 13.6+ KB\n"
     ]
    }
   ],
   "source": [
    "ide.info()"
   ]
  },
  {
   "cell_type": "code",
   "execution_count": 30,
   "id": "921618f4",
   "metadata": {},
   "outputs": [],
   "source": [
    "ide = ide.iloc[:, [0, 3]]"
   ]
  },
  {
   "cell_type": "markdown",
   "id": "8ed4f728",
   "metadata": {},
   "source": []
  },
  {
   "cell_type": "code",
   "execution_count": 31,
   "id": "d2b7e340",
   "metadata": {},
   "outputs": [],
   "source": [
    "df1 = cc.merge(ge, on='countryname').merge(va, on='countryname').merge(ide, on='countryname')"
   ]
  },
  {
   "cell_type": "code",
   "execution_count": 32,
   "id": "61b1c6b0",
   "metadata": {},
   "outputs": [
    {
     "data": {
      "text/html": [
       "<div>\n",
       "<style scoped>\n",
       "    .dataframe tbody tr th:only-of-type {\n",
       "        vertical-align: middle;\n",
       "    }\n",
       "\n",
       "    .dataframe tbody tr th {\n",
       "        vertical-align: top;\n",
       "    }\n",
       "\n",
       "    .dataframe thead th {\n",
       "        text-align: right;\n",
       "    }\n",
       "</style>\n",
       "<table border=\"1\" class=\"dataframe\">\n",
       "  <thead>\n",
       "    <tr style=\"text-align: right;\">\n",
       "      <th></th>\n",
       "      <th>countryname</th>\n",
       "      <th>cc</th>\n",
       "      <th>ge</th>\n",
       "      <th>va</th>\n",
       "      <th>indice_democracia</th>\n",
       "    </tr>\n",
       "  </thead>\n",
       "  <tbody>\n",
       "    <tr>\n",
       "      <th>0</th>\n",
       "      <td>Afghanistan</td>\n",
       "      <td>13.679245</td>\n",
       "      <td>1.415094</td>\n",
       "      <td>1.960784</td>\n",
       "      <td>0.073</td>\n",
       "    </tr>\n",
       "    <tr>\n",
       "      <th>1</th>\n",
       "      <td>Albania</td>\n",
       "      <td>43.396225</td>\n",
       "      <td>60.377357</td>\n",
       "      <td>53.921570</td>\n",
       "      <td>0.507</td>\n",
       "    </tr>\n",
       "    <tr>\n",
       "      <th>2</th>\n",
       "      <td>Algeria</td>\n",
       "      <td>30.188679</td>\n",
       "      <td>27.358490</td>\n",
       "      <td>22.058823</td>\n",
       "      <td>0.265</td>\n",
       "    </tr>\n",
       "    <tr>\n",
       "      <th>3</th>\n",
       "      <td>American Samoa</td>\n",
       "      <td>87.735847</td>\n",
       "      <td>73.113205</td>\n",
       "      <td>NaN</td>\n",
       "      <td>NaN</td>\n",
       "    </tr>\n",
       "    <tr>\n",
       "      <th>4</th>\n",
       "      <td>Andorra</td>\n",
       "      <td>87.735847</td>\n",
       "      <td>91.037735</td>\n",
       "      <td>78.921570</td>\n",
       "      <td>NaN</td>\n",
       "    </tr>\n",
       "    <tr>\n",
       "      <th>...</th>\n",
       "      <td>...</td>\n",
       "      <td>...</td>\n",
       "      <td>...</td>\n",
       "      <td>...</td>\n",
       "      <td>...</td>\n",
       "    </tr>\n",
       "    <tr>\n",
       "      <th>201</th>\n",
       "      <td>Venezuela</td>\n",
       "      <td>1.415094</td>\n",
       "      <td>5.660378</td>\n",
       "      <td>6.862745</td>\n",
       "      <td>0.207</td>\n",
       "    </tr>\n",
       "    <tr>\n",
       "      <th>202</th>\n",
       "      <td>Viet Nam</td>\n",
       "      <td>38.679245</td>\n",
       "      <td>56.132076</td>\n",
       "      <td>15.196078</td>\n",
       "      <td>0.148</td>\n",
       "    </tr>\n",
       "    <tr>\n",
       "      <th>203</th>\n",
       "      <td>Yemen</td>\n",
       "      <td>1.886792</td>\n",
       "      <td>0.471698</td>\n",
       "      <td>6.372549</td>\n",
       "      <td>0.128</td>\n",
       "    </tr>\n",
       "    <tr>\n",
       "      <th>204</th>\n",
       "      <td>Zambia</td>\n",
       "      <td>36.792454</td>\n",
       "      <td>27.830189</td>\n",
       "      <td>45.098038</td>\n",
       "      <td>0.527</td>\n",
       "    </tr>\n",
       "    <tr>\n",
       "      <th>205</th>\n",
       "      <td>Zimbabwe</td>\n",
       "      <td>9.905661</td>\n",
       "      <td>11.792453</td>\n",
       "      <td>19.117647</td>\n",
       "      <td>0.291</td>\n",
       "    </tr>\n",
       "  </tbody>\n",
       "</table>\n",
       "<p>206 rows × 5 columns</p>\n",
       "</div>"
      ],
      "text/plain": [
       "        countryname         cc         ge         va  indice_democracia\n",
       "0       Afghanistan  13.679245   1.415094   1.960784              0.073\n",
       "1           Albania  43.396225  60.377357  53.921570              0.507\n",
       "2           Algeria  30.188679  27.358490  22.058823              0.265\n",
       "3    American Samoa  87.735847  73.113205        NaN                NaN\n",
       "4           Andorra  87.735847  91.037735  78.921570                NaN\n",
       "..              ...        ...        ...        ...                ...\n",
       "201       Venezuela   1.415094   5.660378   6.862745              0.207\n",
       "202        Viet Nam  38.679245  56.132076  15.196078              0.148\n",
       "203           Yemen   1.886792   0.471698   6.372549              0.128\n",
       "204          Zambia  36.792454  27.830189  45.098038              0.527\n",
       "205        Zimbabwe   9.905661  11.792453  19.117647              0.291\n",
       "\n",
       "[206 rows x 5 columns]"
      ]
     },
     "execution_count": 32,
     "metadata": {},
     "output_type": "execute_result"
    }
   ],
   "source": [
    "df1"
   ]
  },
  {
   "cell_type": "markdown",
   "id": "2833e97c",
   "metadata": {},
   "source": []
  },
  {
   "cell_type": "code",
   "execution_count": 33,
   "id": "e453c759",
   "metadata": {},
   "outputs": [],
   "source": [
    "df2 = pd.DataFrame({\n",
    "    'Índice de Democracia x Control of Corruption': df1['indice_democracia'].corr(df1['cc'], method='spearman'),\n",
    "    'Índice de Democracia x Government Efectiveness': df1['indice_democracia'].corr(df1['ge'], method='spearman'),\n",
    "    'Índice de Democracia x Voice And Accountability': df1['indice_democracia'].corr(df1['va'], method='spearman')\n",
    "}, np.arange(1))"
   ]
  },
  {
   "cell_type": "code",
   "execution_count": 34,
   "id": "0d0db182",
   "metadata": {},
   "outputs": [
    {
     "data": {
      "text/html": [
       "<div>\n",
       "<style scoped>\n",
       "    .dataframe tbody tr th:only-of-type {\n",
       "        vertical-align: middle;\n",
       "    }\n",
       "\n",
       "    .dataframe tbody tr th {\n",
       "        vertical-align: top;\n",
       "    }\n",
       "\n",
       "    .dataframe thead th {\n",
       "        text-align: right;\n",
       "    }\n",
       "</style>\n",
       "<table border=\"1\" class=\"dataframe\">\n",
       "  <thead>\n",
       "    <tr style=\"text-align: right;\">\n",
       "      <th></th>\n",
       "      <th>Índice de Democracia x Control of Corruption</th>\n",
       "      <th>Índice de Democracia x Government Efectiveness</th>\n",
       "      <th>Índice de Democracia x Voice And Accountability</th>\n",
       "    </tr>\n",
       "  </thead>\n",
       "  <tbody>\n",
       "    <tr>\n",
       "      <th>0</th>\n",
       "      <td>0.704308</td>\n",
       "      <td>0.616756</td>\n",
       "      <td>0.957173</td>\n",
       "    </tr>\n",
       "  </tbody>\n",
       "</table>\n",
       "</div>"
      ],
      "text/plain": [
       "   Índice de Democracia x Control of Corruption  \\\n",
       "0                                      0.704308   \n",
       "\n",
       "   Índice de Democracia x Government Efectiveness  \\\n",
       "0                                        0.616756   \n",
       "\n",
       "   Índice de Democracia x Voice And Accountability  \n",
       "0                                         0.957173  "
      ]
     },
     "execution_count": 34,
     "metadata": {},
     "output_type": "execute_result"
    }
   ],
   "source": [
    "df2"
   ]
  },
  {
   "cell_type": "markdown",
   "id": "882bacca",
   "metadata": {},
   "source": []
  },
  {
   "cell_type": "code",
   "execution_count": 35,
   "id": "4c2268ce",
   "metadata": {},
   "outputs": [],
   "source": [
    "comparacoes = [\n",
    "    'Índice de Democracia x Control of Corruption',\n",
    "    'Índice de Democracia x Government Efectiveness',\n",
    "    'Índice de Democracia x Voice And Accountability'\n",
    "]"
   ]
  },
  {
   "cell_type": "code",
   "execution_count": 36,
   "id": "27ce1fee",
   "metadata": {},
   "outputs": [],
   "source": [
    "df3 = df2.melt(\n",
    "    value_vars=comparacoes,\n",
    "    var_name='comparacao',\n",
    "    value_name='valor'\n",
    ").sort_values(by='valor', ascending=True).reset_index(drop=True)"
   ]
  },
  {
   "cell_type": "code",
   "execution_count": 37,
   "id": "8c24e297",
   "metadata": {},
   "outputs": [
    {
     "data": {
      "text/html": [
       "<div>\n",
       "<style scoped>\n",
       "    .dataframe tbody tr th:only-of-type {\n",
       "        vertical-align: middle;\n",
       "    }\n",
       "\n",
       "    .dataframe tbody tr th {\n",
       "        vertical-align: top;\n",
       "    }\n",
       "\n",
       "    .dataframe thead th {\n",
       "        text-align: right;\n",
       "    }\n",
       "</style>\n",
       "<table border=\"1\" class=\"dataframe\">\n",
       "  <thead>\n",
       "    <tr style=\"text-align: right;\">\n",
       "      <th></th>\n",
       "      <th>comparacao</th>\n",
       "      <th>valor</th>\n",
       "    </tr>\n",
       "  </thead>\n",
       "  <tbody>\n",
       "    <tr>\n",
       "      <th>0</th>\n",
       "      <td>Índice de Democracia x Government Efectiveness</td>\n",
       "      <td>0.616756</td>\n",
       "    </tr>\n",
       "    <tr>\n",
       "      <th>1</th>\n",
       "      <td>Índice de Democracia x Control of Corruption</td>\n",
       "      <td>0.704308</td>\n",
       "    </tr>\n",
       "    <tr>\n",
       "      <th>2</th>\n",
       "      <td>Índice de Democracia x Voice And Accountability</td>\n",
       "      <td>0.957173</td>\n",
       "    </tr>\n",
       "  </tbody>\n",
       "</table>\n",
       "</div>"
      ],
      "text/plain": [
       "                                        comparacao     valor\n",
       "0   Índice de Democracia x Government Efectiveness  0.616756\n",
       "1     Índice de Democracia x Control of Corruption  0.704308\n",
       "2  Índice de Democracia x Voice And Accountability  0.957173"
      ]
     },
     "execution_count": 37,
     "metadata": {},
     "output_type": "execute_result"
    }
   ],
   "source": [
    "df3"
   ]
  },
  {
   "cell_type": "markdown",
   "id": "a05c88bf",
   "metadata": {},
   "source": []
  },
  {
   "cell_type": "code",
   "execution_count": 38,
   "id": "8a31eac5",
   "metadata": {},
   "outputs": [],
   "source": [
    "fig = px.bar(\n",
    "    df3,\n",
    "    x='valor',\n",
    "    y='comparacao'\n",
    ")\n",
    "\n",
    "fig.update_traces(\n",
    "    texttemplate='%{x:.2f}', \n",
    "    textposition='inside',\n",
    "    textfont=dict(\n",
    "        color='black'\n",
    "    )\n",
    ")\n",
    "\n",
    "fig.update_layout(\n",
    "    font=dict(\n",
    "        color='black'\n",
    "    ),\n",
    "    yaxis=dict(\n",
    "        title=None\n",
    "    ),\n",
    "    xaxis=dict(\n",
    "        title=None,\n",
    "        range=[0, 1]\n",
    "    ),\n",
    "    margin=dict(\n",
    "        t=5,\n",
    "        b=5,\n",
    "        r=5,\n",
    "        l=5\n",
    "    )\n",
    ")\n",
    "\n",
    "fig.write_image('C:/Users/lazar/Dissertacao-Mestrado-PoderJud-EGDI/figuras/correlacao_indicedemocracia_wgi_ge_cc_va.png', scale=3)"
   ]
  }
 ],
 "metadata": {
  "kernelspec": {
   "display_name": "Python 3",
   "language": "python",
   "name": "python3"
  },
  "language_info": {
   "codemirror_mode": {
    "name": "ipython",
    "version": 3
   },
   "file_extension": ".py",
   "mimetype": "text/x-python",
   "name": "python",
   "nbconvert_exporter": "python",
   "pygments_lexer": "ipython3",
   "version": "3.13.7"
  }
 },
 "nbformat": 4,
 "nbformat_minor": 5
}
