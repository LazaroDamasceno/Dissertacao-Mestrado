{
 "cells": [
  {
   "cell_type": "code",
   "execution_count": 1,
   "id": "af161961",
   "metadata": {},
   "outputs": [],
   "source": [
    "import pandas as pd\n",
    "import plotly.express as px"
   ]
  },
  {
   "cell_type": "code",
   "execution_count": 2,
   "id": "abba5093",
   "metadata": {},
   "outputs": [],
   "source": [
    "df = pd.read_csv('rule-of-law-index.csv')"
   ]
  },
  {
   "cell_type": "code",
   "execution_count": 3,
   "id": "a66c5796",
   "metadata": {},
   "outputs": [
    {
     "name": "stdout",
     "output_type": "stream",
     "text": [
      "<class 'pandas.core.frame.DataFrame'>\n",
      "RangeIndex: 34893 entries, 0 to 34892\n",
      "Data columns (total 5 columns):\n",
      " #   Column                                Non-Null Count  Dtype  \n",
      "---  ------                                --------------  -----  \n",
      " 0   Entity                                34893 non-null  object \n",
      " 1   Code                                  31894 non-null  object \n",
      " 2   Year                                  34893 non-null  int64  \n",
      " 3   Rule of Law index (central estimate)  34796 non-null  float64\n",
      " 4   World regions according to OWID       272 non-null    object \n",
      "dtypes: float64(1), int64(1), object(3)\n",
      "memory usage: 1.3+ MB\n"
     ]
    }
   ],
   "source": [
    "df.info()"
   ]
  },
  {
   "cell_type": "code",
   "execution_count": 4,
   "id": "bcc55660",
   "metadata": {},
   "outputs": [],
   "source": [
    "df = df.rename(columns={\n",
    "    'Rule of Law index (central estimate)': 'Valores'\n",
    "})"
   ]
  },
  {
   "cell_type": "code",
   "execution_count": 5,
   "id": "7c60ae80",
   "metadata": {},
   "outputs": [
    {
     "name": "stdout",
     "output_type": "stream",
     "text": [
      "<class 'pandas.core.frame.DataFrame'>\n",
      "RangeIndex: 34893 entries, 0 to 34892\n",
      "Data columns (total 5 columns):\n",
      " #   Column                           Non-Null Count  Dtype  \n",
      "---  ------                           --------------  -----  \n",
      " 0   Entity                           34893 non-null  object \n",
      " 1   Code                             31894 non-null  object \n",
      " 2   Year                             34893 non-null  int64  \n",
      " 3   Valores                          34796 non-null  float64\n",
      " 4   World regions according to OWID  272 non-null    object \n",
      "dtypes: float64(1), int64(1), object(3)\n",
      "memory usage: 1.3+ MB\n"
     ]
    }
   ],
   "source": [
    "df.info()"
   ]
  },
  {
   "cell_type": "code",
   "execution_count": 6,
   "id": "30ee00e1",
   "metadata": {},
   "outputs": [],
   "source": [
    "df = df.loc[df['Year'] == 2024].reset_index(drop=True)"
   ]
  },
  {
   "cell_type": "code",
   "execution_count": 7,
   "id": "60d572e9",
   "metadata": {},
   "outputs": [],
   "source": [
    "fig = px.box(\n",
    "    df,\n",
    "    x='Valores'\n",
    ")\n",
    "\n",
    "fig.update_layout(\n",
    "    font=dict(\n",
    "        color='black'\n",
    "    ),\n",
    "    xaxis=dict(\n",
    "        title=None,\n",
    "        range=[0, 1]\n",
    "    ),\n",
    "    margin=dict(\n",
    "        t=5,\n",
    "        b=5,\n",
    "        l=5,\n",
    "        r=5\n",
    "    )\n",
    ")\n",
    "\n",
    "fig.write_image('C:/Users/lazar/Dissertacao-Mestrado-PoderJud-EGDI/figuras/quartis_estado_direito.png', scale=3)"
   ]
  },
  {
   "cell_type": "code",
   "execution_count": 8,
   "id": "b0bdee67",
   "metadata": {},
   "outputs": [
    {
     "data": {
      "text/plain": [
       "count    193.000000\n",
       "mean       0.545906\n",
       "std        0.304880\n",
       "min        0.008000\n",
       "25%        0.282000\n",
       "50%        0.573600\n",
       "75%        0.816000\n",
       "max        0.998000\n",
       "Name: Valores, dtype: float64"
      ]
     },
     "execution_count": 8,
     "metadata": {},
     "output_type": "execute_result"
    }
   ],
   "source": [
    "df['Valores'].describe()"
   ]
  }
 ],
 "metadata": {
  "kernelspec": {
   "display_name": "Python 3",
   "language": "python",
   "name": "python3"
  },
  "language_info": {
   "codemirror_mode": {
    "name": "ipython",
    "version": 3
   },
   "file_extension": ".py",
   "mimetype": "text/x-python",
   "name": "python",
   "nbconvert_exporter": "python",
   "pygments_lexer": "ipython3",
   "version": "3.13.7"
  }
 },
 "nbformat": 4,
 "nbformat_minor": 5
}
