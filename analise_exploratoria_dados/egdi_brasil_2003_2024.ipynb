{
 "cells": [
  {
   "cell_type": "code",
   "execution_count": 1,
   "id": "8f0e50e0",
   "metadata": {},
   "outputs": [],
   "source": [
    "import pandas as pd\n",
    "from itertools import chain\n",
    "import plotly.express as px\n",
    "import numpy as np"
   ]
  },
  {
   "cell_type": "code",
   "execution_count": 2,
   "id": "518a982e",
   "metadata": {},
   "outputs": [],
   "source": [
    "egdi = pd.read_csv('UN_EGDI/UN_EGDI_EGDI_WIDEF.csv')\n",
    "osi = pd.read_csv('UN_EGDI/UN_EGDI_OSI_WIDEF.csv') \n",
    "hci = pd.read_csv('UN_EGDI/UN_EGDI_HCI_WIDEF.csv') \n",
    "tii = pd.read_csv('UN_EGDI/UN_EGDI_TII_WIDEF.csv') "
   ]
  },
  {
   "cell_type": "code",
   "execution_count": 3,
   "id": "217a3c82",
   "metadata": {},
   "outputs": [],
   "source": [
    "egdi = egdi.iloc[:, chain([3], range(16, 28))]\n",
    "osi = osi.iloc[:, chain([3], range(16, 28))]\n",
    "hci = hci.iloc[:, chain([3], range(16, 28))]\n",
    "tii = tii.iloc[:, chain([3], range(16, 28))]"
   ]
  },
  {
   "cell_type": "code",
   "execution_count": 4,
   "id": "46c099a1",
   "metadata": {},
   "outputs": [],
   "source": [
    "egdi = egdi.loc[egdi['REF_AREA_LABEL'] == 'Brazil'].reset_index(drop=True)\n",
    "osi = osi.loc[osi['REF_AREA_LABEL'] == 'Brazil'].reset_index(drop=True)\n",
    "hci = hci.loc[hci['REF_AREA_LABEL'] == 'Brazil'].reset_index(drop=True)\n",
    "tii = tii.loc[tii['REF_AREA_LABEL'] == 'Brazil'].reset_index(drop=True)"
   ]
  },
  {
   "cell_type": "code",
   "execution_count": 5,
   "id": "6b07b38a",
   "metadata": {},
   "outputs": [],
   "source": [
    "egdi = egdi.melt(\n",
    "    id_vars='REF_AREA_LABEL',\n",
    "    value_vars=egdi[1:], \n",
    "    var_name='Anos', \n",
    "    value_name='EGDI'\n",
    ")\n",
    "\n",
    "osi = osi.melt(\n",
    "    id_vars='REF_AREA_LABEL',\n",
    "    value_vars=osi[1:], \n",
    "    var_name='Anos', \n",
    "    value_name='OSI'\n",
    ")\n",
    "\n",
    "hci = hci.melt(\n",
    "    id_vars='REF_AREA_LABEL',\n",
    "    value_vars=hci[1:], \n",
    "    var_name='Anos', \n",
    "    value_name='HCI'\n",
    ")\n",
    "\n",
    "tii = tii.melt(\n",
    "    id_vars='REF_AREA_LABEL',\n",
    "    value_vars=tii[1:], \n",
    "    var_name='Anos', \n",
    "    value_name='TII'\n",
    ")"
   ]
  },
  {
   "cell_type": "code",
   "execution_count": 6,
   "id": "67fff82f",
   "metadata": {},
   "outputs": [],
   "source": [
    "egdi['Anos'] = egdi['Anos'].astype(np.int64)\n",
    "osi['Anos'] = osi['Anos'].astype(np.int64)\n",
    "hci['Anos'] = hci['Anos'].astype(np.int64)\n",
    "tii['Anos'] = tii['Anos'].astype(np.int64)"
   ]
  },
  {
   "cell_type": "code",
   "execution_count": 7,
   "id": "a49b7603",
   "metadata": {},
   "outputs": [],
   "source": [
    "egdi['EGDI'] = egdi['EGDI'].astype(np.float64)\n",
    "osi['OSI'] = osi['OSI'].astype(np.float64)\n",
    "hci['HCI'] = hci['HCI'].astype(np.float64)\n",
    "tii['TII'] = tii['TII'].astype(np.float64)"
   ]
  },
  {
   "cell_type": "code",
   "execution_count": 8,
   "id": "6288347c",
   "metadata": {},
   "outputs": [],
   "source": [
    "df = egdi.merge(osi, on=['Anos', 'REF_AREA_LABEL']).merge(hci, on=['Anos', 'REF_AREA_LABEL']).merge(tii, on=['Anos', 'REF_AREA_LABEL'])"
   ]
  },
  {
   "cell_type": "code",
   "execution_count": 9,
   "id": "c538e447",
   "metadata": {},
   "outputs": [],
   "source": [
    "df = df.iloc[:, range(1, 6)]"
   ]
  },
  {
   "cell_type": "code",
   "execution_count": 10,
   "id": "6f3c5b4e",
   "metadata": {},
   "outputs": [],
   "source": [
    "df = df.melt(\n",
    "    id_vars='Anos',\n",
    "    value_vars=df[1:], \n",
    "    var_name='Componentes', \n",
    "    value_name='Valores'\n",
    ")"
   ]
  },
  {
   "cell_type": "code",
   "execution_count": 11,
   "id": "90d2024b",
   "metadata": {},
   "outputs": [
    {
     "data": {
      "text/html": [
       "<div>\n",
       "<style scoped>\n",
       "    .dataframe tbody tr th:only-of-type {\n",
       "        vertical-align: middle;\n",
       "    }\n",
       "\n",
       "    .dataframe tbody tr th {\n",
       "        vertical-align: top;\n",
       "    }\n",
       "\n",
       "    .dataframe thead th {\n",
       "        text-align: right;\n",
       "    }\n",
       "</style>\n",
       "<table border=\"1\" class=\"dataframe\">\n",
       "  <thead>\n",
       "    <tr style=\"text-align: right;\">\n",
       "      <th></th>\n",
       "      <th>Anos</th>\n",
       "      <th>Componentes</th>\n",
       "      <th>Valores</th>\n",
       "    </tr>\n",
       "  </thead>\n",
       "  <tbody>\n",
       "    <tr>\n",
       "      <th>0</th>\n",
       "      <td>2003</td>\n",
       "      <td>EGDI</td>\n",
       "      <td>0.52673</td>\n",
       "    </tr>\n",
       "    <tr>\n",
       "      <th>1</th>\n",
       "      <td>2004</td>\n",
       "      <td>EGDI</td>\n",
       "      <td>0.56746</td>\n",
       "    </tr>\n",
       "    <tr>\n",
       "      <th>2</th>\n",
       "      <td>2005</td>\n",
       "      <td>EGDI</td>\n",
       "      <td>0.59811</td>\n",
       "    </tr>\n",
       "    <tr>\n",
       "      <th>3</th>\n",
       "      <td>2008</td>\n",
       "      <td>EGDI</td>\n",
       "      <td>0.56790</td>\n",
       "    </tr>\n",
       "    <tr>\n",
       "      <th>4</th>\n",
       "      <td>2010</td>\n",
       "      <td>EGDI</td>\n",
       "      <td>0.50058</td>\n",
       "    </tr>\n",
       "  </tbody>\n",
       "</table>\n",
       "</div>"
      ],
      "text/plain": [
       "   Anos Componentes  Valores\n",
       "0  2003        EGDI  0.52673\n",
       "1  2004        EGDI  0.56746\n",
       "2  2005        EGDI  0.59811\n",
       "3  2008        EGDI  0.56790\n",
       "4  2010        EGDI  0.50058"
      ]
     },
     "execution_count": 11,
     "metadata": {},
     "output_type": "execute_result"
    }
   ],
   "source": [
    "df.head()"
   ]
  },
  {
   "cell_type": "code",
   "execution_count": null,
   "id": "16db9036",
   "metadata": {},
   "outputs": [
    {
     "name": "stderr",
     "output_type": "stream",
     "text": [
      "WARNING\tThread(Thread-3 (run)) Task(Task-6) choreographer.browser_async:browser_async.py:_close()- Resorting to unclean kill browser.\n"
     ]
    }
   ],
   "source": [
    "from matplotlib import legend\n",
    "\n",
    "\n",
    "fig = px.line(\n",
    "    df,\n",
    "    x='Anos',\n",
    "    y='Valores',\n",
    "    color='Componentes',\n",
    "    color_discrete_sequence=px.colors.qualitative.Dark2\n",
    ")\n",
    "\n",
    "fig.update_layout(\n",
    "    font=dict(\n",
    "        color='black'\n",
    "    ),\n",
    "    legend=dict(\n",
    "        title=None\n",
    "    ),\n",
    "    margin=dict(\n",
    "        t=5,\n",
    "        b=5,\n",
    "        r=5,\n",
    "        l=5\n",
    "    ),\n",
    "    yaxis=dict(\n",
    "        range=[0, 1]\n",
    "    )\n",
    ")\n",
    "\n",
    "fig.write_image('C:/Users/lazar/Dissertacao-Mestrado-PoderJud-EGDI/figuras/egdi_brasil_2003_2024.png', scale=3)"
   ]
  }
 ],
 "metadata": {
  "kernelspec": {
   "display_name": "Python 3",
   "language": "python",
   "name": "python3"
  },
  "language_info": {
   "codemirror_mode": {
    "name": "ipython",
    "version": 3
   },
   "file_extension": ".py",
   "mimetype": "text/x-python",
   "name": "python",
   "nbconvert_exporter": "python",
   "pygments_lexer": "ipython3",
   "version": "3.13.7"
  }
 },
 "nbformat": 4,
 "nbformat_minor": 5
}
