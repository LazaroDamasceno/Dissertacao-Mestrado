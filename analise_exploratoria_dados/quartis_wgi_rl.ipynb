{
 "cells": [
  {
   "cell_type": "code",
   "execution_count": 17,
   "id": "49f04293",
   "metadata": {},
   "outputs": [],
   "source": [
    "import pandas as pd\n",
    "import numpy as np\n",
    "import plotly.express as px"
   ]
  },
  {
   "cell_type": "code",
   "execution_count": 18,
   "id": "f20cae6e",
   "metadata": {},
   "outputs": [],
   "source": [
    "wgi = pd.read_excel('wgidataset.xlsx')"
   ]
  },
  {
   "cell_type": "code",
   "execution_count": 19,
   "id": "e1c874fb",
   "metadata": {},
   "outputs": [],
   "source": [
    "rl = wgi.loc[wgi['indicator'] == 'rl'].reset_index(drop=True)"
   ]
  },
  {
   "cell_type": "code",
   "execution_count": 20,
   "id": "db41a792",
   "metadata": {},
   "outputs": [
    {
     "name": "stderr",
     "output_type": "stream",
     "text": [
      "C:\\Users\\lazar\\AppData\\Local\\Temp\\ipykernel_8020\\3067788708.py:1: FutureWarning:\n",
      "\n",
      "Downcasting behavior in `replace` is deprecated and will be removed in a future version. To retain the old behavior, explicitly call `result.infer_objects(copy=False)`. To opt-in to the future behavior, set `pd.set_option('future.no_silent_downcasting', True)`\n",
      "\n"
     ]
    }
   ],
   "source": [
    "rl = rl.replace({\n",
    "    '..': np.nan\n",
    "})"
   ]
  },
  {
   "cell_type": "code",
   "execution_count": 21,
   "id": "f778af6a",
   "metadata": {},
   "outputs": [
    {
     "data": {
      "text/html": [
       "<div>\n",
       "<style scoped>\n",
       "    .dataframe tbody tr th:only-of-type {\n",
       "        vertical-align: middle;\n",
       "    }\n",
       "\n",
       "    .dataframe tbody tr th {\n",
       "        vertical-align: top;\n",
       "    }\n",
       "\n",
       "    .dataframe thead th {\n",
       "        text-align: right;\n",
       "    }\n",
       "</style>\n",
       "<table border=\"1\" class=\"dataframe\">\n",
       "  <thead>\n",
       "    <tr style=\"text-align: right;\">\n",
       "      <th></th>\n",
       "      <th>codeindyr</th>\n",
       "      <th>code</th>\n",
       "      <th>countryname</th>\n",
       "      <th>year</th>\n",
       "      <th>indicator</th>\n",
       "      <th>estimate</th>\n",
       "      <th>stddev</th>\n",
       "      <th>nsource</th>\n",
       "      <th>pctrank</th>\n",
       "      <th>pctranklower</th>\n",
       "      <th>pctrankupper</th>\n",
       "    </tr>\n",
       "  </thead>\n",
       "  <tbody>\n",
       "    <tr>\n",
       "      <th>0</th>\n",
       "      <td>AFGrl1996</td>\n",
       "      <td>AFG</td>\n",
       "      <td>Afghanistan</td>\n",
       "      <td>1996</td>\n",
       "      <td>rl</td>\n",
       "      <td>-1.788075</td>\n",
       "      <td>0.350509</td>\n",
       "      <td>3.0</td>\n",
       "      <td>1.507538</td>\n",
       "      <td>0.000000</td>\n",
       "      <td>12.562814</td>\n",
       "    </tr>\n",
       "    <tr>\n",
       "      <th>1</th>\n",
       "      <td>ALBrl1996</td>\n",
       "      <td>ALB</td>\n",
       "      <td>Albania</td>\n",
       "      <td>1996</td>\n",
       "      <td>rl</td>\n",
       "      <td>-0.684482</td>\n",
       "      <td>0.246615</td>\n",
       "      <td>6.0</td>\n",
       "      <td>28.643215</td>\n",
       "      <td>16.582914</td>\n",
       "      <td>42.211056</td>\n",
       "    </tr>\n",
       "    <tr>\n",
       "      <th>2</th>\n",
       "      <td>DZArl1996</td>\n",
       "      <td>DZA</td>\n",
       "      <td>Algeria</td>\n",
       "      <td>1996</td>\n",
       "      <td>rl</td>\n",
       "      <td>-1.218195</td>\n",
       "      <td>0.212429</td>\n",
       "      <td>6.0</td>\n",
       "      <td>12.562814</td>\n",
       "      <td>4.522613</td>\n",
       "      <td>22.110552</td>\n",
       "    </tr>\n",
       "    <tr>\n",
       "      <th>3</th>\n",
       "      <td>ASMrl1996</td>\n",
       "      <td>ASM</td>\n",
       "      <td>American Samoa</td>\n",
       "      <td>1996</td>\n",
       "      <td>rl</td>\n",
       "      <td>NaN</td>\n",
       "      <td>NaN</td>\n",
       "      <td>NaN</td>\n",
       "      <td>NaN</td>\n",
       "      <td>NaN</td>\n",
       "      <td>NaN</td>\n",
       "    </tr>\n",
       "    <tr>\n",
       "      <th>4</th>\n",
       "      <td>ADOrl1996</td>\n",
       "      <td>ADO</td>\n",
       "      <td>Andorra</td>\n",
       "      <td>1996</td>\n",
       "      <td>rl</td>\n",
       "      <td>1.158363</td>\n",
       "      <td>0.388865</td>\n",
       "      <td>2.0</td>\n",
       "      <td>86.432159</td>\n",
       "      <td>63.316582</td>\n",
       "      <td>96.984924</td>\n",
       "    </tr>\n",
       "  </tbody>\n",
       "</table>\n",
       "</div>"
      ],
      "text/plain": [
       "   codeindyr code     countryname  year indicator  estimate    stddev  \\\n",
       "0  AFGrl1996  AFG     Afghanistan  1996        rl -1.788075  0.350509   \n",
       "1  ALBrl1996  ALB         Albania  1996        rl -0.684482  0.246615   \n",
       "2  DZArl1996  DZA         Algeria  1996        rl -1.218195  0.212429   \n",
       "3  ASMrl1996  ASM  American Samoa  1996        rl       NaN       NaN   \n",
       "4  ADOrl1996  ADO         Andorra  1996        rl  1.158363  0.388865   \n",
       "\n",
       "   nsource    pctrank  pctranklower  pctrankupper  \n",
       "0      3.0   1.507538      0.000000     12.562814  \n",
       "1      6.0  28.643215     16.582914     42.211056  \n",
       "2      6.0  12.562814      4.522613     22.110552  \n",
       "3      NaN        NaN           NaN           NaN  \n",
       "4      2.0  86.432159     63.316582     96.984924  "
      ]
     },
     "execution_count": 21,
     "metadata": {},
     "output_type": "execute_result"
    }
   ],
   "source": [
    "rl.head()"
   ]
  },
  {
   "cell_type": "code",
   "execution_count": 22,
   "id": "4ae074a1",
   "metadata": {},
   "outputs": [],
   "source": [
    "rl = rl.loc[rl['year'] == 2023].reset_index(drop=True)"
   ]
  },
  {
   "cell_type": "code",
   "execution_count": 23,
   "id": "fdd74618",
   "metadata": {},
   "outputs": [],
   "source": [
    "fig = px.box(\n",
    "    rl,\n",
    "    x='pctrank'\n",
    ")\n",
    "\n",
    "fig.update_layout(\n",
    "    font=dict(\n",
    "        color='black'\n",
    "    ),\n",
    "    xaxis=dict(\n",
    "        title=None,\n",
    "        range=[0, 100]\n",
    "    ),\n",
    "    margin=dict(\n",
    "        t=5,\n",
    "        b=5,\n",
    "        l=5,\n",
    "        r=5\n",
    "    )\n",
    ")\n",
    "\n",
    "fig.write_image('C:/Users/lazar/Dissertacao-Mestrado-PoderJud-EGDI/figuras/quartis_wgi_rl.png', scale=3)"
   ]
  },
  {
   "cell_type": "code",
   "execution_count": 24,
   "id": "975f3adb",
   "metadata": {},
   "outputs": [
    {
     "data": {
      "text/plain": [
       "count    213.000000\n",
       "mean      50.026575\n",
       "std       29.096716\n",
       "min        0.000000\n",
       "25%       25.000000\n",
       "50%       50.000000\n",
       "75%       75.000000\n",
       "max      100.000000\n",
       "Name: pctrank, dtype: float64"
      ]
     },
     "execution_count": 24,
     "metadata": {},
     "output_type": "execute_result"
    }
   ],
   "source": [
    "rl['pctrank'].describe()"
   ]
  }
 ],
 "metadata": {
  "kernelspec": {
   "display_name": "Python 3",
   "language": "python",
   "name": "python3"
  },
  "language_info": {
   "codemirror_mode": {
    "name": "ipython",
    "version": 3
   },
   "file_extension": ".py",
   "mimetype": "text/x-python",
   "name": "python",
   "nbconvert_exporter": "python",
   "pygments_lexer": "ipython3",
   "version": "3.13.7"
  }
 },
 "nbformat": 4,
 "nbformat_minor": 5
}
