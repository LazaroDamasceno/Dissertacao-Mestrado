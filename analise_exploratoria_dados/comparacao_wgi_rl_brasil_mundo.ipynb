{
 "cells": [
  {
   "cell_type": "code",
   "execution_count": null,
   "id": "e378e49e",
   "metadata": {},
   "outputs": [],
   "source": [
    "import pandas as pd\n",
    "import numpy as np\n",
    "import plotly.express as px"
   ]
  },
  {
   "cell_type": "markdown",
   "id": "6d9d76d0",
   "metadata": {},
   "source": []
  },
  {
   "cell_type": "code",
   "execution_count": null,
   "id": "c11179f0",
   "metadata": {},
   "outputs": [],
   "source": [
    "wgi = pd.read_excel('wgidataset.xlsx')"
   ]
  },
  {
   "cell_type": "markdown",
   "id": "268e9a74",
   "metadata": {},
   "source": []
  },
  {
   "cell_type": "code",
   "execution_count": null,
   "id": "63b1ec0e",
   "metadata": {},
   "outputs": [],
   "source": [
    "rl = wgi[wgi['indicator'] == 'rl'].reset_index(drop=True)"
   ]
  },
  {
   "cell_type": "code",
   "execution_count": null,
   "id": "c7d30d17",
   "metadata": {},
   "outputs": [],
   "source": [
    "rl.info()"
   ]
  },
  {
   "cell_type": "code",
   "execution_count": null,
   "id": "af508d8b",
   "metadata": {},
   "outputs": [],
   "source": [
    "rl = rl.iloc[:, [2, 3, 8]]"
   ]
  },
  {
   "cell_type": "code",
   "execution_count": null,
   "id": "5cab76b0",
   "metadata": {},
   "outputs": [],
   "source": [
    "rl.info()"
   ]
  },
  {
   "cell_type": "markdown",
   "id": "f9b70dd3",
   "metadata": {},
   "source": []
  },
  {
   "cell_type": "code",
   "execution_count": null,
   "id": "e67d2470",
   "metadata": {},
   "outputs": [],
   "source": [
    "rl = rl.replace({\n",
    "    '..': np.nan\n",
    "})"
   ]
  },
  {
   "cell_type": "markdown",
   "id": "913f25c7",
   "metadata": {},
   "source": []
  },
  {
   "cell_type": "code",
   "execution_count": null,
   "id": "4fbb9f7f",
   "metadata": {},
   "outputs": [],
   "source": [
    "rl['pctrank'].describe()"
   ]
  },
  {
   "cell_type": "markdown",
   "id": "d3032104",
   "metadata": {},
   "source": []
  },
  {
   "cell_type": "code",
   "execution_count": null,
   "id": "085f9e0a",
   "metadata": {},
   "outputs": [],
   "source": [
    "rl_mundo = rl.groupby('year')['pctrank'].median().reset_index()"
   ]
  },
  {
   "cell_type": "code",
   "execution_count": null,
   "id": "2354e1e3",
   "metadata": {},
   "outputs": [],
   "source": [
    "rl_mundo.head()"
   ]
  },
  {
   "cell_type": "code",
   "execution_count": null,
   "id": "55a4ad30",
   "metadata": {},
   "outputs": [],
   "source": [
    "rl_mundo['regiao'] = 'Mundo'"
   ]
  },
  {
   "cell_type": "code",
   "execution_count": null,
   "id": "79df7a1f",
   "metadata": {},
   "outputs": [],
   "source": [
    "rl_mundo.head()"
   ]
  },
  {
   "cell_type": "code",
   "execution_count": null,
   "id": "35b2a52e",
   "metadata": {},
   "outputs": [],
   "source": [
    "rl_mundo = rl_mundo.melt(\n",
    "    id_vars=['year', 'regiao'],\n",
    "    value_vars='pctrank',\n",
    "    var_name='porcentagem',\n",
    "    value_name='valores'\n",
    ")"
   ]
  },
  {
   "cell_type": "code",
   "execution_count": null,
   "id": "b7c74a10",
   "metadata": {},
   "outputs": [],
   "source": [
    "rl_mundo.head()"
   ]
  },
  {
   "cell_type": "markdown",
   "id": "f5357867",
   "metadata": {},
   "source": []
  },
  {
   "cell_type": "code",
   "execution_count": null,
   "id": "0dda2ba4",
   "metadata": {},
   "outputs": [],
   "source": [
    "rl_brasil = rl.loc[rl['countryname'] == 'Brazil'].reset_index(drop=True)"
   ]
  },
  {
   "cell_type": "code",
   "execution_count": null,
   "id": "06dd4624",
   "metadata": {},
   "outputs": [],
   "source": [
    "rl_brasil.head()"
   ]
  },
  {
   "cell_type": "code",
   "execution_count": null,
   "id": "350b7ee7",
   "metadata": {},
   "outputs": [],
   "source": [
    "rl_brasil = rl_brasil.melt(\n",
    "    id_vars=['year', 'countryname'],\n",
    "    value_vars='pctrank',\n",
    "    var_name='porcentagem',\n",
    "    value_name='valores'\n",
    ")"
   ]
  },
  {
   "cell_type": "code",
   "execution_count": null,
   "id": "db1bb1e0",
   "metadata": {},
   "outputs": [],
   "source": [
    "rl_brasil.head()"
   ]
  },
  {
   "cell_type": "code",
   "execution_count": null,
   "id": "bb3acaaa",
   "metadata": {},
   "outputs": [],
   "source": [
    "rl_brasil = rl_brasil.rename(columns={\n",
    "    'countryname': 'regiao'\n",
    "})"
   ]
  },
  {
   "cell_type": "code",
   "execution_count": null,
   "id": "6afce7da",
   "metadata": {},
   "outputs": [],
   "source": [
    "rl_brasil = rl_brasil.replace({\n",
    "    'Brazil': 'Brasil'\n",
    "})"
   ]
  },
  {
   "cell_type": "code",
   "execution_count": null,
   "id": "b2766605",
   "metadata": {},
   "outputs": [],
   "source": [
    "rl_brasil.head()"
   ]
  },
  {
   "cell_type": "markdown",
   "id": "a050a6aa",
   "metadata": {},
   "source": []
  },
  {
   "cell_type": "code",
   "execution_count": null,
   "id": "5bb7895c",
   "metadata": {},
   "outputs": [],
   "source": [
    "df = pd.concat([rl_mundo, rl_brasil], ignore_index=True)"
   ]
  },
  {
   "cell_type": "code",
   "execution_count": null,
   "id": "0bf08ffa",
   "metadata": {},
   "outputs": [],
   "source": [
    "df"
   ]
  },
  {
   "cell_type": "markdown",
   "id": "e4c853ba",
   "metadata": {},
   "source": []
  },
  {
   "cell_type": "code",
   "execution_count": null,
   "id": "74dd2b6e",
   "metadata": {},
   "outputs": [],
   "source": [
    "fig = px.line(\n",
    "    df,\n",
    "    x='year',\n",
    "    y='valores',\n",
    "    color='regiao',\n",
    "    color_discrete_sequence=px.colors.qualitative.Dark2\n",
    ")\n",
    "\n",
    "fig.update_layout(\n",
    "    legend=dict(\n",
    "        title=None\n",
    "    ),\n",
    "    yaxis=dict(\n",
    "        title='Rule of Law',\n",
    "        range=[0, 100]\n",
    "    ),\n",
    "    xaxis=dict(\n",
    "        title='Ano'\n",
    "    ),\n",
    "    font=dict(\n",
    "        color='black'\n",
    "    ),\n",
    "    margin=dict(\n",
    "        t=10,\n",
    "        b=5,\n",
    "        l=5,\n",
    "        r=5\n",
    "    )\n",
    ")\n",
    "\n",
    "fig.write_image('C:/Users/lazar/Dissertacao-Mestrado-PoderJud-EGDI/figuras/comparacao_wgi_rl_brasil_mundo.png', scale=3)"
   ]
  }
 ],
 "metadata": {
  "kernelspec": {
   "display_name": "Python 3",
   "language": "python",
   "name": "python3"
  },
  "language_info": {
   "codemirror_mode": {
    "name": "ipython",
    "version": 3
   },
   "file_extension": ".py",
   "mimetype": "text/x-python",
   "name": "python",
   "nbconvert_exporter": "python",
   "pygments_lexer": "ipython3",
   "version": "3.13.7"
  }
 },
 "nbformat": 4,
 "nbformat_minor": 5
}
