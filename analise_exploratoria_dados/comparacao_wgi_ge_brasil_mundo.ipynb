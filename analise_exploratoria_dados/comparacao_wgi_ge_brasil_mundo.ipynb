{
 "cells": [
  {
   "cell_type": "code",
   "execution_count": null,
   "id": "094c8cc5",
   "metadata": {},
   "outputs": [],
   "source": [
    "import pandas as pd\n",
    "import plotly.express as px\n",
    "import numpy as np\n",
    "from itertools import chain"
   ]
  },
  {
   "cell_type": "markdown",
   "id": "b24b6de3",
   "metadata": {},
   "source": []
  },
  {
   "cell_type": "code",
   "execution_count": null,
   "id": "833e764a",
   "metadata": {},
   "outputs": [],
   "source": [
    "wgi = pd.read_excel('wgidataset.xlsx')"
   ]
  },
  {
   "cell_type": "code",
   "execution_count": null,
   "id": "65042743",
   "metadata": {},
   "outputs": [],
   "source": [
    "wgi.info()"
   ]
  },
  {
   "cell_type": "code",
   "execution_count": null,
   "id": "1c151a1d",
   "metadata": {},
   "outputs": [],
   "source": [
    "wgi = wgi.iloc[:, chain(range(2, 5), [8])]"
   ]
  },
  {
   "cell_type": "code",
   "execution_count": null,
   "id": "2bc85cff",
   "metadata": {},
   "outputs": [],
   "source": [
    "wgi.info()"
   ]
  },
  {
   "cell_type": "code",
   "execution_count": null,
   "id": "4d8f32f0",
   "metadata": {},
   "outputs": [],
   "source": [
    "wgi.head()"
   ]
  },
  {
   "cell_type": "code",
   "execution_count": null,
   "id": "65c4ecce",
   "metadata": {},
   "outputs": [],
   "source": [
    "wgi = wgi.loc[wgi['indicator'] == 'ge'].reset_index(drop=True)"
   ]
  },
  {
   "cell_type": "code",
   "execution_count": null,
   "id": "c2fa47e2",
   "metadata": {},
   "outputs": [],
   "source": [
    "wgi.head()"
   ]
  },
  {
   "cell_type": "code",
   "execution_count": null,
   "id": "f39e2612",
   "metadata": {},
   "outputs": [],
   "source": [
    "wgi = wgi.replace({\n",
    "    '..': np.nan\n",
    "})"
   ]
  },
  {
   "cell_type": "code",
   "execution_count": null,
   "id": "1019c14f",
   "metadata": {},
   "outputs": [],
   "source": [
    "wgi.head()"
   ]
  },
  {
   "cell_type": "code",
   "execution_count": null,
   "id": "24b3047a",
   "metadata": {},
   "outputs": [],
   "source": [
    "wgi.dtypes"
   ]
  },
  {
   "cell_type": "markdown",
   "id": "a65a5f7a",
   "metadata": {},
   "source": []
  },
  {
   "cell_type": "code",
   "execution_count": null,
   "id": "b483edd8",
   "metadata": {},
   "outputs": [],
   "source": [
    "wgi_mundo = wgi.melt(\n",
    "    id_vars='year',\n",
    "    value_vars='pctrank',\n",
    "    var_name='pct',\n",
    "    value_name='valor'\n",
    ")"
   ]
  },
  {
   "cell_type": "code",
   "execution_count": null,
   "id": "1521d407",
   "metadata": {},
   "outputs": [],
   "source": [
    "wgi_mundo.head()"
   ]
  },
  {
   "cell_type": "code",
   "execution_count": null,
   "id": "f32edd01",
   "metadata": {},
   "outputs": [],
   "source": [
    "wgi_mundo.head()"
   ]
  },
  {
   "cell_type": "code",
   "execution_count": null,
   "id": "5a864c14",
   "metadata": {},
   "outputs": [],
   "source": [
    "wgi_mundo['valor'].describe()"
   ]
  },
  {
   "cell_type": "code",
   "execution_count": null,
   "id": "1f4a58b6",
   "metadata": {},
   "outputs": [],
   "source": [
    "wgi_mundo = wgi_mundo.groupby('year')['valor'].median().reset_index()"
   ]
  },
  {
   "cell_type": "code",
   "execution_count": null,
   "id": "e2628c83",
   "metadata": {},
   "outputs": [],
   "source": [
    "wgi_mundo['regiao'] = 'Mundo'"
   ]
  },
  {
   "cell_type": "code",
   "execution_count": null,
   "id": "7f887c4f",
   "metadata": {},
   "outputs": [],
   "source": [
    "wgi_mundo"
   ]
  },
  {
   "cell_type": "markdown",
   "id": "57dd3a47",
   "metadata": {},
   "source": []
  },
  {
   "cell_type": "code",
   "execution_count": null,
   "id": "a98ab478",
   "metadata": {},
   "outputs": [],
   "source": [
    "wgi_brasil = wgi.loc[wgi['countryname'] == 'Brazil'].melt(\n",
    "    id_vars='year',\n",
    "    value_vars='pctrank',\n",
    "    var_name='pct',\n",
    "    value_name='valor'\n",
    ")"
   ]
  },
  {
   "cell_type": "code",
   "execution_count": null,
   "id": "e0f25391",
   "metadata": {},
   "outputs": [],
   "source": [
    "wgi_brasil['regiao'] = 'Brasil'"
   ]
  },
  {
   "cell_type": "code",
   "execution_count": null,
   "id": "d949abe1",
   "metadata": {},
   "outputs": [],
   "source": [
    "wgi_brasil"
   ]
  },
  {
   "cell_type": "markdown",
   "id": "28ae0099",
   "metadata": {},
   "source": []
  },
  {
   "cell_type": "code",
   "execution_count": null,
   "id": "e0c14631",
   "metadata": {},
   "outputs": [],
   "source": [
    "df = pd.concat([wgi_brasil, wgi_mundo], ignore_index=True).iloc[:, [0, 2 ,3]]"
   ]
  },
  {
   "cell_type": "code",
   "execution_count": null,
   "id": "5dbefcdf",
   "metadata": {},
   "outputs": [],
   "source": [
    "df"
   ]
  },
  {
   "cell_type": "code",
   "execution_count": null,
   "id": "29aad896",
   "metadata": {},
   "outputs": [],
   "source": [
    "df.info()"
   ]
  },
  {
   "cell_type": "markdown",
   "id": "91839047",
   "metadata": {},
   "source": []
  },
  {
   "cell_type": "code",
   "execution_count": null,
   "id": "f68dcb5c",
   "metadata": {},
   "outputs": [],
   "source": [
    "fig = px.line(\n",
    "    df,\n",
    "    x='year',\n",
    "    y='valor',\n",
    "    color='regiao',\n",
    "    color_discrete_sequence=px.colors.qualitative.Dark2\n",
    ")\n",
    "\n",
    "fig.update_layout(\n",
    "    legend=dict(\n",
    "        title=None\n",
    "    ),\n",
    "    yaxis=dict(\n",
    "        title='Government Effectiveness',\n",
    "        range=[0, 100]\n",
    "    ),\n",
    "    xaxis=dict(\n",
    "        title='Ano'\n",
    "    ),\n",
    "    font=dict(\n",
    "        color='black'\n",
    "    ),\n",
    "    margin=dict(\n",
    "        t=6,\n",
    "        b=5,\n",
    "        l=5,\n",
    "        r=5\n",
    "    )\n",
    ")\n",
    "\n",
    "fig.write_image('C:/Users/lazar/Dissertacao-Mestrado-PoderJud-EGDI/figuras/comparacao_wgi_ge_brasil_mundo.png', scale=3)"
   ]
  }
 ],
 "metadata": {
  "kernelspec": {
   "display_name": "Python 3",
   "language": "python",
   "name": "python3"
  },
  "language_info": {
   "codemirror_mode": {
    "name": "ipython",
    "version": 3
   },
   "file_extension": ".py",
   "mimetype": "text/x-python",
   "name": "python",
   "nbconvert_exporter": "python",
   "pygments_lexer": "ipython3",
   "version": "3.13.7"
  }
 },
 "nbformat": 4,
 "nbformat_minor": 5
}
