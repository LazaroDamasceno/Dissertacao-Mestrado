{
 "cells": [
  {
   "cell_type": "code",
   "execution_count": 1,
   "id": "073830ec",
   "metadata": {},
   "outputs": [],
   "source": [
    "import pandas as pd\n",
    "import plotly.express as px\n",
    "import numpy as np"
   ]
  },
  {
   "cell_type": "markdown",
   "id": "0d2bd1d5",
   "metadata": {},
   "source": []
  },
  {
   "cell_type": "code",
   "execution_count": 2,
   "id": "3d58a41a",
   "metadata": {},
   "outputs": [],
   "source": [
    "ide = pd.read_csv('electoral-democracy-index.csv')\n",
    "ide = ide.loc[ide['Year'] == 2024].reset_index(drop=True)"
   ]
  },
  {
   "cell_type": "code",
   "execution_count": 3,
   "id": "8d8e28f2",
   "metadata": {},
   "outputs": [],
   "source": [
    "controle_jus_gov = pd.read_csv('judicial-constraints-on-the-executive-index.csv')\n",
    "controle_jus_gov = controle_jus_gov.loc[controle_jus_gov['Year'] == 2024].reset_index(drop=True)"
   ]
  },
  {
   "cell_type": "code",
   "execution_count": 4,
   "id": "70e2e74a",
   "metadata": {},
   "outputs": [],
   "source": [
    "jus_corrupcao = pd.read_csv('judicial-corruption-score.csv')\n",
    "jus_corrupcao = jus_corrupcao.loc[jus_corrupcao['Year'] == 2024].reset_index(drop=True)"
   ]
  },
  {
   "cell_type": "code",
   "execution_count": 5,
   "id": "614cef70",
   "metadata": {},
   "outputs": [],
   "source": [
    "estado_direito = pd.read_csv('rule-of-law-index.csv')\n",
    "estado_direito = estado_direito.loc[estado_direito['Year'] == 2024].reset_index(drop=True)"
   ]
  },
  {
   "cell_type": "code",
   "execution_count": 6,
   "id": "b4ef27cc",
   "metadata": {},
   "outputs": [],
   "source": [
    "direitos_humanos = pd.read_csv('human-rights-index-vdem.csv')\n",
    "direitos_humanos = direitos_humanos.loc[direitos_humanos['Year'] == 2024].reset_index(drop=True)"
   ]
  },
  {
   "cell_type": "markdown",
   "id": "6d5ce19b",
   "metadata": {},
   "source": []
  },
  {
   "cell_type": "code",
   "execution_count": 7,
   "id": "5ef42bff",
   "metadata": {},
   "outputs": [
    {
     "data": {
      "text/plain": [
       "set()"
      ]
     },
     "execution_count": 7,
     "metadata": {},
     "output_type": "execute_result"
    }
   ],
   "source": [
    "set(direitos_humanos['Entity']).difference(estado_direito['Entity'])"
   ]
  },
  {
   "cell_type": "code",
   "execution_count": 8,
   "id": "39e4d413",
   "metadata": {},
   "outputs": [
    {
     "data": {
      "text/plain": [
       "set()"
      ]
     },
     "execution_count": 8,
     "metadata": {},
     "output_type": "execute_result"
    }
   ],
   "source": [
    "set(estado_direito['Entity']).difference(direitos_humanos['Entity'])"
   ]
  },
  {
   "cell_type": "markdown",
   "id": "2d5a236a",
   "metadata": {},
   "source": []
  },
  {
   "cell_type": "code",
   "execution_count": 9,
   "id": "e10c2870",
   "metadata": {},
   "outputs": [],
   "source": [
    "controle_jus_gov = controle_jus_gov.iloc[:, [0, 3]]"
   ]
  },
  {
   "cell_type": "code",
   "execution_count": 10,
   "id": "70cd021b",
   "metadata": {},
   "outputs": [],
   "source": [
    "jus_corrupcao = jus_corrupcao.iloc[:, [0, 3]]"
   ]
  },
  {
   "cell_type": "code",
   "execution_count": 11,
   "id": "165e1a68",
   "metadata": {},
   "outputs": [],
   "source": [
    "direitos_humanos = direitos_humanos.iloc[:, [0, 3]]"
   ]
  },
  {
   "cell_type": "code",
   "execution_count": 12,
   "id": "bc41c845",
   "metadata": {},
   "outputs": [],
   "source": [
    "estado_direito = estado_direito.iloc[:, [0, 3]]"
   ]
  },
  {
   "cell_type": "markdown",
   "id": "8d8f8529",
   "metadata": {},
   "source": []
  },
  {
   "cell_type": "code",
   "execution_count": 13,
   "id": "d0818c79",
   "metadata": {},
   "outputs": [],
   "source": [
    "df_merged = jus_corrupcao.merge(controle_jus_gov, on=\"Entity\").merge(direitos_humanos, on=\"Entity\").merge(estado_direito, on='Entity')"
   ]
  },
  {
   "cell_type": "code",
   "execution_count": 14,
   "id": "273ede86",
   "metadata": {},
   "outputs": [
    {
     "data": {
      "text/html": [
       "<div>\n",
       "<style scoped>\n",
       "    .dataframe tbody tr th:only-of-type {\n",
       "        vertical-align: middle;\n",
       "    }\n",
       "\n",
       "    .dataframe tbody tr th {\n",
       "        vertical-align: top;\n",
       "    }\n",
       "\n",
       "    .dataframe thead th {\n",
       "        text-align: right;\n",
       "    }\n",
       "</style>\n",
       "<table border=\"1\" class=\"dataframe\">\n",
       "  <thead>\n",
       "    <tr style=\"text-align: right;\">\n",
       "      <th></th>\n",
       "      <th>Entity</th>\n",
       "      <th>Judicial corruption score (central estimate)</th>\n",
       "      <th>Judicial constraints on the executive index (central estimate)</th>\n",
       "      <th>Civil liberties index (central estimate)</th>\n",
       "      <th>Rule of Law index (central estimate)</th>\n",
       "    </tr>\n",
       "  </thead>\n",
       "  <tbody>\n",
       "    <tr>\n",
       "      <th>0</th>\n",
       "      <td>Afghanistan</td>\n",
       "      <td>-0.449000</td>\n",
       "      <td>0.104000</td>\n",
       "      <td>0.042000</td>\n",
       "      <td>0.095000</td>\n",
       "    </tr>\n",
       "    <tr>\n",
       "      <th>1</th>\n",
       "      <td>Africa</td>\n",
       "      <td>-0.578179</td>\n",
       "      <td>0.456679</td>\n",
       "      <td>0.581875</td>\n",
       "      <td>0.407589</td>\n",
       "    </tr>\n",
       "    <tr>\n",
       "      <th>2</th>\n",
       "      <td>Africa (population-weighted)</td>\n",
       "      <td>-0.980639</td>\n",
       "      <td>0.454220</td>\n",
       "      <td>0.552009</td>\n",
       "      <td>0.364633</td>\n",
       "    </tr>\n",
       "    <tr>\n",
       "      <th>3</th>\n",
       "      <td>Albania</td>\n",
       "      <td>0.202000</td>\n",
       "      <td>0.653000</td>\n",
       "      <td>0.876000</td>\n",
       "      <td>0.574000</td>\n",
       "    </tr>\n",
       "    <tr>\n",
       "      <th>4</th>\n",
       "      <td>Algeria</td>\n",
       "      <td>-0.773000</td>\n",
       "      <td>0.128000</td>\n",
       "      <td>0.416000</td>\n",
       "      <td>0.249000</td>\n",
       "    </tr>\n",
       "    <tr>\n",
       "      <th>...</th>\n",
       "      <td>...</td>\n",
       "      <td>...</td>\n",
       "      <td>...</td>\n",
       "      <td>...</td>\n",
       "      <td>...</td>\n",
       "    </tr>\n",
       "    <tr>\n",
       "      <th>186</th>\n",
       "      <td>Vietnam</td>\n",
       "      <td>-1.168000</td>\n",
       "      <td>0.169000</td>\n",
       "      <td>0.410000</td>\n",
       "      <td>0.353000</td>\n",
       "    </tr>\n",
       "    <tr>\n",
       "      <th>187</th>\n",
       "      <td>Yemen</td>\n",
       "      <td>-1.897000</td>\n",
       "      <td>0.164000</td>\n",
       "      <td>0.231000</td>\n",
       "      <td>0.058000</td>\n",
       "    </tr>\n",
       "    <tr>\n",
       "      <th>188</th>\n",
       "      <td>Zambia</td>\n",
       "      <td>0.838000</td>\n",
       "      <td>0.728000</td>\n",
       "      <td>0.844000</td>\n",
       "      <td>0.674000</td>\n",
       "    </tr>\n",
       "    <tr>\n",
       "      <th>189</th>\n",
       "      <td>Zanzibar</td>\n",
       "      <td>0.433000</td>\n",
       "      <td>0.685000</td>\n",
       "      <td>0.664000</td>\n",
       "      <td>0.468000</td>\n",
       "    </tr>\n",
       "    <tr>\n",
       "      <th>190</th>\n",
       "      <td>Zimbabwe</td>\n",
       "      <td>-0.796000</td>\n",
       "      <td>0.234000</td>\n",
       "      <td>0.374000</td>\n",
       "      <td>0.190000</td>\n",
       "    </tr>\n",
       "  </tbody>\n",
       "</table>\n",
       "<p>191 rows × 5 columns</p>\n",
       "</div>"
      ],
      "text/plain": [
       "                           Entity  \\\n",
       "0                     Afghanistan   \n",
       "1                          Africa   \n",
       "2    Africa (population-weighted)   \n",
       "3                         Albania   \n",
       "4                         Algeria   \n",
       "..                            ...   \n",
       "186                       Vietnam   \n",
       "187                         Yemen   \n",
       "188                        Zambia   \n",
       "189                      Zanzibar   \n",
       "190                      Zimbabwe   \n",
       "\n",
       "     Judicial corruption score (central estimate)  \\\n",
       "0                                       -0.449000   \n",
       "1                                       -0.578179   \n",
       "2                                       -0.980639   \n",
       "3                                        0.202000   \n",
       "4                                       -0.773000   \n",
       "..                                            ...   \n",
       "186                                     -1.168000   \n",
       "187                                     -1.897000   \n",
       "188                                      0.838000   \n",
       "189                                      0.433000   \n",
       "190                                     -0.796000   \n",
       "\n",
       "     Judicial constraints on the executive index (central estimate)  \\\n",
       "0                                             0.104000                \n",
       "1                                             0.456679                \n",
       "2                                             0.454220                \n",
       "3                                             0.653000                \n",
       "4                                             0.128000                \n",
       "..                                                 ...                \n",
       "186                                           0.169000                \n",
       "187                                           0.164000                \n",
       "188                                           0.728000                \n",
       "189                                           0.685000                \n",
       "190                                           0.234000                \n",
       "\n",
       "     Civil liberties index (central estimate)  \\\n",
       "0                                    0.042000   \n",
       "1                                    0.581875   \n",
       "2                                    0.552009   \n",
       "3                                    0.876000   \n",
       "4                                    0.416000   \n",
       "..                                        ...   \n",
       "186                                  0.410000   \n",
       "187                                  0.231000   \n",
       "188                                  0.844000   \n",
       "189                                  0.664000   \n",
       "190                                  0.374000   \n",
       "\n",
       "     Rule of Law index (central estimate)  \n",
       "0                                0.095000  \n",
       "1                                0.407589  \n",
       "2                                0.364633  \n",
       "3                                0.574000  \n",
       "4                                0.249000  \n",
       "..                                    ...  \n",
       "186                              0.353000  \n",
       "187                              0.058000  \n",
       "188                              0.674000  \n",
       "189                              0.468000  \n",
       "190                              0.190000  \n",
       "\n",
       "[191 rows x 5 columns]"
      ]
     },
     "execution_count": 14,
     "metadata": {},
     "output_type": "execute_result"
    }
   ],
   "source": [
    "df_merged"
   ]
  },
  {
   "cell_type": "code",
   "execution_count": 15,
   "id": "58ccd6da",
   "metadata": {},
   "outputs": [
    {
     "name": "stdout",
     "output_type": "stream",
     "text": [
      "<class 'pandas.core.frame.DataFrame'>\n",
      "RangeIndex: 191 entries, 0 to 190\n",
      "Data columns (total 5 columns):\n",
      " #   Column                                                          Non-Null Count  Dtype  \n",
      "---  ------                                                          --------------  -----  \n",
      " 0   Entity                                                          191 non-null    object \n",
      " 1   Judicial corruption score (central estimate)                    191 non-null    float64\n",
      " 2   Judicial constraints on the executive index (central estimate)  191 non-null    float64\n",
      " 3   Civil liberties index (central estimate)                        191 non-null    float64\n",
      " 4   Rule of Law index (central estimate)                            191 non-null    float64\n",
      "dtypes: float64(4), object(1)\n",
      "memory usage: 7.6+ KB\n"
     ]
    }
   ],
   "source": [
    "df_merged.info()"
   ]
  },
  {
   "cell_type": "markdown",
   "id": "9164c02c",
   "metadata": {},
   "source": []
  },
  {
   "cell_type": "code",
   "execution_count": 16,
   "id": "ad535b91",
   "metadata": {},
   "outputs": [],
   "source": [
    "new_df = pd.DataFrame({\n",
    "    'C1': ide['Electoral democracy index (central estimate)'].corr(jus_corrupcao['Judicial corruption score (central estimate)'], method='spearman'),\n",
    "    'C2': ide['Electoral democracy index (central estimate)'].corr(controle_jus_gov['Judicial constraints on the executive index (central estimate)'], method='spearman'),\n",
    "    'C3': ide['Electoral democracy index (central estimate)'].corr(direitos_humanos['Civil liberties index (central estimate)'], method='spearman'),\n",
    "    'C4': ide['Electoral democracy index (central estimate)'].corr(estado_direito['Rule of Law index (central estimate)'], method='spearman')\n",
    "}, np.arange(1))"
   ]
  },
  {
   "cell_type": "code",
   "execution_count": 17,
   "id": "169197db",
   "metadata": {},
   "outputs": [
    {
     "data": {
      "text/html": [
       "<div>\n",
       "<style scoped>\n",
       "    .dataframe tbody tr th:only-of-type {\n",
       "        vertical-align: middle;\n",
       "    }\n",
       "\n",
       "    .dataframe tbody tr th {\n",
       "        vertical-align: top;\n",
       "    }\n",
       "\n",
       "    .dataframe thead th {\n",
       "        text-align: right;\n",
       "    }\n",
       "</style>\n",
       "<table border=\"1\" class=\"dataframe\">\n",
       "  <thead>\n",
       "    <tr style=\"text-align: right;\">\n",
       "      <th></th>\n",
       "      <th>C1</th>\n",
       "      <th>C2</th>\n",
       "      <th>C3</th>\n",
       "      <th>C4</th>\n",
       "    </tr>\n",
       "  </thead>\n",
       "  <tbody>\n",
       "    <tr>\n",
       "      <th>0</th>\n",
       "      <td>0.645156</td>\n",
       "      <td>0.890183</td>\n",
       "      <td>0.947461</td>\n",
       "      <td>0.871557</td>\n",
       "    </tr>\n",
       "  </tbody>\n",
       "</table>\n",
       "</div>"
      ],
      "text/plain": [
       "         C1        C2        C3        C4\n",
       "0  0.645156  0.890183  0.947461  0.871557"
      ]
     },
     "execution_count": 17,
     "metadata": {},
     "output_type": "execute_result"
    }
   ],
   "source": [
    "new_df"
   ]
  },
  {
   "cell_type": "code",
   "execution_count": 18,
   "id": "66ae72ca",
   "metadata": {},
   "outputs": [],
   "source": [
    "new_df = new_df.melt(\n",
    "    value_vars=['C1', 'C2', 'C3', 'C4'],\n",
    "    var_name='Relacoes',\n",
    "    value_name='Valores'\n",
    ")"
   ]
  },
  {
   "cell_type": "code",
   "execution_count": 19,
   "id": "9dbe4620",
   "metadata": {},
   "outputs": [],
   "source": [
    "new_df = new_df.sort_values(by='Valores', ascending=True).reset_index(drop=True)"
   ]
  },
  {
   "cell_type": "code",
   "execution_count": 20,
   "id": "183ded34",
   "metadata": {},
   "outputs": [
    {
     "data": {
      "text/html": [
       "<div>\n",
       "<style scoped>\n",
       "    .dataframe tbody tr th:only-of-type {\n",
       "        vertical-align: middle;\n",
       "    }\n",
       "\n",
       "    .dataframe tbody tr th {\n",
       "        vertical-align: top;\n",
       "    }\n",
       "\n",
       "    .dataframe thead th {\n",
       "        text-align: right;\n",
       "    }\n",
       "</style>\n",
       "<table border=\"1\" class=\"dataframe\">\n",
       "  <thead>\n",
       "    <tr style=\"text-align: right;\">\n",
       "      <th></th>\n",
       "      <th>Relacoes</th>\n",
       "      <th>Valores</th>\n",
       "    </tr>\n",
       "  </thead>\n",
       "  <tbody>\n",
       "    <tr>\n",
       "      <th>0</th>\n",
       "      <td>C1</td>\n",
       "      <td>0.645156</td>\n",
       "    </tr>\n",
       "    <tr>\n",
       "      <th>1</th>\n",
       "      <td>C4</td>\n",
       "      <td>0.871557</td>\n",
       "    </tr>\n",
       "    <tr>\n",
       "      <th>2</th>\n",
       "      <td>C2</td>\n",
       "      <td>0.890183</td>\n",
       "    </tr>\n",
       "    <tr>\n",
       "      <th>3</th>\n",
       "      <td>C3</td>\n",
       "      <td>0.947461</td>\n",
       "    </tr>\n",
       "  </tbody>\n",
       "</table>\n",
       "</div>"
      ],
      "text/plain": [
       "  Relacoes   Valores\n",
       "0       C1  0.645156\n",
       "1       C4  0.871557\n",
       "2       C2  0.890183\n",
       "3       C3  0.947461"
      ]
     },
     "execution_count": 20,
     "metadata": {},
     "output_type": "execute_result"
    }
   ],
   "source": [
    "new_df"
   ]
  },
  {
   "cell_type": "markdown",
   "id": "a77150e1",
   "metadata": {},
   "source": []
  },
  {
   "cell_type": "code",
   "execution_count": 21,
   "id": "b07a51d3",
   "metadata": {},
   "outputs": [],
   "source": [
    "fig = px.bar(\n",
    "    new_df,\n",
    "    x='Valores',\n",
    "    y='Relacoes'\n",
    ")\n",
    "\n",
    "fig.update_traces(\n",
    "    texttemplate='%{x:.2f}', \n",
    "    textposition='outside'\n",
    ")\n",
    "\n",
    "fig.update_layout(\n",
    "    font=dict(\n",
    "        color='black'\n",
    "    ),\n",
    "    yaxis=dict(\n",
    "        title=None\n",
    "    ),\n",
    "    xaxis=dict(\n",
    "        title=None,\n",
    "        range=[0, 1]\n",
    "    ),\n",
    "    margin=dict(\n",
    "        t=5,\n",
    "        b=5,\n",
    "        r=5,\n",
    "        l=5\n",
    "    )\n",
    ")\n",
    "\n",
    "fig.write_image('C:/Users/lazar/Dissertacao-Mestrado-PoderJud-EGDI/figuras/comparacao_democracia.png', scale=3)"
   ]
  }
 ],
 "metadata": {
  "kernelspec": {
   "display_name": "Python 3",
   "language": "python",
   "name": "python3"
  },
  "language_info": {
   "codemirror_mode": {
    "name": "ipython",
    "version": 3
   },
   "file_extension": ".py",
   "mimetype": "text/x-python",
   "name": "python",
   "nbconvert_exporter": "python",
   "pygments_lexer": "ipython3",
   "version": "3.13.7"
  }
 },
 "nbformat": 4,
 "nbformat_minor": 5
}
